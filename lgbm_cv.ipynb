{
 "cells": [
  {
   "cell_type": "code",
   "execution_count": 1,
   "metadata": {},
   "outputs": [],
   "source": [
    "import re\n",
    "import sys\n",
    "import glob\n",
    "import math\n",
    "import optuna\n",
    "import numpy as np\n",
    "import pandas as pd\n",
    "import seaborn as sns\n",
    "from time import ctime\n",
    "import matplotlib.pyplot as plt\n",
    "from sklearn.metrics import mean_absolute_error\n",
    "from sklearn.metrics import r2_score\n",
    "import lightgbm as lgb\n",
    "from sklearn.model_selection import KFold\n",
    "from pandas.plotting import register_matplotlib_converters\n",
    "register_matplotlib_converters()\n",
    "sns.set_style('darkgrid')\n",
    "import warnings\n",
    "warnings.filterwarnings(\"ignore\")"
   ]
  },
  {
   "cell_type": "code",
   "execution_count": 2,
   "metadata": {},
   "outputs": [],
   "source": [
    "train_frags = glob.glob(\"./train_fft/*\")\n",
    "test_frags = glob.glob(\"./test_fft/*\")\n",
    "train = pd.read_csv(\"train.csv\")\n",
    "Y = pd.Series(0, index=np.arange(len(train_frags)))\n",
    "\n",
    "i = 0\n",
    "for file in train_frags:\n",
    "    start = './train_fft/'\n",
    "    end = '.csv'\n",
    "    seg_id = file[file.find(start)+len(start):file.rfind(end)]\n",
    "    t2e = int(train.loc[train['segment_id'] == int(seg_id)]['time_to_eruption'].values)\n",
    "    Y.iloc[i] = t2e\n",
    "    i = i + 1\n",
    "\n",
    "test_id = pd.Series(0, index=np.arange(len(test_frags)))    \n",
    "i = 0\n",
    "for file in test_frags:\n",
    "    start = './test_fft/'\n",
    "    end = '.csv'\n",
    "    seg_id = file[file.find(start)+len(start):file.rfind(end)]\n",
    "\n",
    "    test_id.iloc[i] = seg_id\n",
    "    i = i + 1\n"
   ]
  },
  {
   "cell_type": "code",
   "execution_count": 3,
   "metadata": {},
   "outputs": [],
   "source": [
    "def objective(trial):\n",
    "    params = { \"objective\": \"regression\",\n",
    "              \"metric\": \"mae\",\n",
    "              \"verbosity\": -1,\n",
    "              \"boosting_type\": \"gbdt\",\n",
    "              \"num_iterations\": 1000,\n",
    "              \"early_stopping_round\": 5,\n",
    "              \"n_jobs\": -1,\n",
    "              'num_leaves': trial.suggest_int(\"nleaves\", 32, 256),\n",
    "              'bagging_fraction': trial.suggest_float('bagfrac',0.7,1.0),\n",
    "              'bagging_freq': trial.suggest_int(\"bagfreq\", 1, 10),\n",
    "              'feature_fraction': trial.suggest_float('featfrac',0.7,1.0),\n",
    "              'lambda_l1': trial.suggest_float(\"lambda_l1\", 1e-6, 10.0, log=True),\n",
    "              'lambda_l2': trial.suggest_float(\"lambda_l2\", 1e-6, 10.0, log=True),\n",
    "              'min_child_samples': trial.suggest_int(\"minchild\", 1, 100)}\n",
    "    \n",
    "    all_pca = pd.read_csv('pca_30.csv')\n",
    "\n",
    "    X = all_pca[:len(train_frags)]\n",
    "    X_test = all_pca[-len(test_frags):]\n",
    "\n",
    "    n_fold = 5\n",
    "    mae, r2 = [], []\n",
    "    predicted_times = np.zeros(len(X_test))\n",
    "    cv = KFold(n_splits=n_fold, shuffle=True, random_state=42)\n",
    "\n",
    "\n",
    "    for fold_n, (train_index, valid_index) in enumerate(cv.split(X)):\n",
    "\n",
    "        if fold_n == 4:\n",
    "            X_train = X.iloc[train_index,:]\n",
    "            X_valid = X.iloc[valid_index,:]\n",
    "\n",
    "            Y_train = Y.iloc[train_index]\n",
    "            Y_valid = Y.iloc[valid_index]\n",
    "\n",
    "            dtrain = lgb.Dataset(X_train, label=Y_train)\n",
    "            dval = lgb.Dataset(X_valid, label=Y_valid)\n",
    "\n",
    "            model = lgb.train( params, dtrain, valid_sets=[dtrain, dval], verbose_eval=-1 )\n",
    "\n",
    "            y_pred = model.predict(X_valid)\n",
    "            mae.append(mean_absolute_error(Y_valid, y_pred))\n",
    "            r2.append(r2_score(Y_valid, y_pred))\n",
    "\n",
    "            predicted_times += model.predict(X_test)\n",
    "\n",
    "#     predicted_times /= n_fold\n",
    "\n",
    "    filename = 'fold_submission' + str(trial.number) + '.csv'\n",
    "    submission = pd.DataFrame({\n",
    "            \"segment_id\": test_id,\n",
    "            \"time_to_eruption\": predicted_times\n",
    "        })\n",
    "\n",
    "    submission.to_csv(filename, index=False)\n",
    "    \n",
    "    return np.mean(mae)\n",
    "\n"
   ]
  },
  {
   "cell_type": "code",
   "execution_count": 4,
   "metadata": {},
   "outputs": [
    {
     "name": "stderr",
     "output_type": "stream",
     "text": [
      "\u001b[32m[I 2021-01-03 17:55:47,274]\u001b[0m A new study created in RDB with name: lgbm_study\u001b[0m\n"
     ]
    },
    {
     "name": "stdout",
     "output_type": "stream",
     "text": [
      "Training until validation scores don't improve for 5 rounds\n"
     ]
    },
    {
     "name": "stderr",
     "output_type": "stream",
     "text": [
      "\u001b[32m[I 2021-01-03 17:55:48,350]\u001b[0m Trial 0 finished with value: 3713619.1573620606 and parameters: {'nleaves': 254, 'bagfrac': 0.9699256013710338, 'bagfreq': 6, 'featfrac': 0.9646401832292606, 'lambda_l1': 0.0003197445256710398, 'lambda_l2': 6.97323177646941e-05, 'minchild': 55}. Best is trial 0 with value: 3713619.1573620606.\u001b[0m\n"
     ]
    },
    {
     "name": "stdout",
     "output_type": "stream",
     "text": [
      "Early stopping, best iteration is:\n",
      "[207]\ttraining's l1: 818189\tvalid_1's l1: 3.71362e+06\n",
      "Training until validation scores don't improve for 5 rounds\n"
     ]
    },
    {
     "name": "stderr",
     "output_type": "stream",
     "text": [
      "\u001b[32m[I 2021-01-03 17:55:49,314]\u001b[0m Trial 1 finished with value: 3719101.063892645 and parameters: {'nleaves': 215, 'bagfrac': 0.7284073359868097, 'bagfreq': 5, 'featfrac': 0.8858721259678166, 'lambda_l1': 5.919475516936757e-06, 'lambda_l2': 0.003127738873385397, 'minchild': 32}. Best is trial 0 with value: 3713619.1573620606.\u001b[0m\n"
     ]
    },
    {
     "name": "stdout",
     "output_type": "stream",
     "text": [
      "Early stopping, best iteration is:\n",
      "[131]\ttraining's l1: 1.03897e+06\tvalid_1's l1: 3.7191e+06\n",
      "Training until validation scores don't improve for 5 rounds\n"
     ]
    },
    {
     "name": "stderr",
     "output_type": "stream",
     "text": [
      "\u001b[32m[I 2021-01-03 17:55:50,092]\u001b[0m Trial 2 finished with value: 3807543.9109783354 and parameters: {'nleaves': 119, 'bagfrac': 0.9203271635703593, 'bagfreq': 8, 'featfrac': 0.7841947883865827, 'lambda_l1': 1.026655308074478, 'lambda_l2': 3.676735501941962e-06, 'minchild': 49}. Best is trial 0 with value: 3713619.1573620606.\u001b[0m\n"
     ]
    },
    {
     "name": "stdout",
     "output_type": "stream",
     "text": [
      "Early stopping, best iteration is:\n",
      "[140]\ttraining's l1: 1.1881e+06\tvalid_1's l1: 3.80754e+06\n",
      "Training until validation scores don't improve for 5 rounds\n"
     ]
    },
    {
     "name": "stderr",
     "output_type": "stream",
     "text": [
      "\u001b[32m[I 2021-01-03 17:55:50,724]\u001b[0m Trial 3 finished with value: 3791861.5560261575 and parameters: {'nleaves': 36, 'bagfrac': 0.7259760875803578, 'bagfreq': 5, 'featfrac': 0.7938285486538248, 'lambda_l1': 0.0007607576854711681, 'lambda_l2': 4.339819451535485e-06, 'minchild': 38}. Best is trial 0 with value: 3713619.1573620606.\u001b[0m\n"
     ]
    },
    {
     "name": "stdout",
     "output_type": "stream",
     "text": [
      "Early stopping, best iteration is:\n",
      "[200]\ttraining's l1: 1.13773e+06\tvalid_1's l1: 3.79186e+06\n",
      "Training until validation scores don't improve for 5 rounds\n"
     ]
    },
    {
     "name": "stderr",
     "output_type": "stream",
     "text": [
      "\u001b[32m[I 2021-01-03 17:55:51,574]\u001b[0m Trial 4 finished with value: 3646073.352655314 and parameters: {'nleaves': 60, 'bagfrac': 0.9932675288424246, 'bagfreq': 5, 'featfrac': 0.9356276725509408, 'lambda_l1': 0.0005975656219032428, 'lambda_l2': 5.9962254869068795e-05, 'minchild': 47}. Best is trial 4 with value: 3646073.352655314.\u001b[0m\n"
     ]
    },
    {
     "name": "stdout",
     "output_type": "stream",
     "text": [
      "Early stopping, best iteration is:\n",
      "[183]\ttraining's l1: 717449\tvalid_1's l1: 3.64607e+06\n",
      "Training until validation scores don't improve for 5 rounds\n"
     ]
    },
    {
     "name": "stderr",
     "output_type": "stream",
     "text": [
      "\u001b[32m[I 2021-01-03 17:55:52,187]\u001b[0m Trial 5 finished with value: 3753134.1206428837 and parameters: {'nleaves': 182, 'bagfrac': 0.877083907433634, 'bagfreq': 1, 'featfrac': 0.8087561255552416, 'lambda_l1': 0.0646899373068073, 'lambda_l2': 0.00025347637353861983, 'minchild': 89}. Best is trial 4 with value: 3646073.352655314.\u001b[0m\n"
     ]
    },
    {
     "name": "stdout",
     "output_type": "stream",
     "text": [
      "Early stopping, best iteration is:\n",
      "[256]\ttraining's l1: 1.40879e+06\tvalid_1's l1: 3.75313e+06\n",
      "Training until validation scores don't improve for 5 rounds\n"
     ]
    },
    {
     "name": "stderr",
     "output_type": "stream",
     "text": [
      "\u001b[32m[I 2021-01-03 17:55:53,283]\u001b[0m Trial 6 finished with value: 3986994.090522169 and parameters: {'nleaves': 251, 'bagfrac': 0.7411547084311159, 'bagfreq': 10, 'featfrac': 0.9470619955591957, 'lambda_l1': 0.4441373245327212, 'lambda_l2': 0.00022767288999702201, 'minchild': 52}. Best is trial 4 with value: 3646073.352655314.\u001b[0m\n"
     ]
    },
    {
     "name": "stdout",
     "output_type": "stream",
     "text": [
      "Early stopping, best iteration is:\n",
      "[163]\ttraining's l1: 1.44134e+06\tvalid_1's l1: 3.98699e+06\n",
      "Training until validation scores don't improve for 5 rounds\n"
     ]
    },
    {
     "name": "stderr",
     "output_type": "stream",
     "text": [
      "\u001b[32m[I 2021-01-03 17:55:54,712]\u001b[0m Trial 7 finished with value: 3816442.0535811805 and parameters: {'nleaves': 250, 'bagfrac': 0.7289461560634678, 'bagfreq': 8, 'featfrac': 0.7835095790121336, 'lambda_l1': 0.019051789792327748, 'lambda_l2': 9.655120508467562, 'minchild': 15}. Best is trial 4 with value: 3646073.352655314.\u001b[0m\n"
     ]
    },
    {
     "name": "stdout",
     "output_type": "stream",
     "text": [
      "Early stopping, best iteration is:\n",
      "[123]\ttraining's l1: 711157\tvalid_1's l1: 3.81644e+06\n",
      "Training until validation scores don't improve for 5 rounds\n"
     ]
    },
    {
     "name": "stderr",
     "output_type": "stream",
     "text": [
      "\u001b[32m[I 2021-01-03 17:55:55,487]\u001b[0m Trial 8 finished with value: 3918809.2905230448 and parameters: {'nleaves': 198, 'bagfrac': 0.7593506422454641, 'bagfreq': 3, 'featfrac': 0.9406197415613538, 'lambda_l1': 1.6082450518393029e-06, 'lambda_l2': 0.07791826381502, 'minchild': 87}. Best is trial 4 with value: 3646073.352655314.\u001b[0m\n"
     ]
    },
    {
     "name": "stdout",
     "output_type": "stream",
     "text": [
      "Early stopping, best iteration is:\n",
      "[221]\ttraining's l1: 1.77555e+06\tvalid_1's l1: 3.91881e+06\n",
      "Training until validation scores don't improve for 5 rounds\n"
     ]
    },
    {
     "name": "stderr",
     "output_type": "stream",
     "text": [
      "\u001b[32m[I 2021-01-03 17:55:56,555]\u001b[0m Trial 9 finished with value: 3850921.149986009 and parameters: {'nleaves': 239, 'bagfrac': 0.8143541522393726, 'bagfreq': 9, 'featfrac': 0.9101378114098904, 'lambda_l1': 2.4663408427182794, 'lambda_l2': 0.20308996601676318, 'minchild': 28}. Best is trial 4 with value: 3646073.352655314.\u001b[0m\n"
     ]
    },
    {
     "name": "stdout",
     "output_type": "stream",
     "text": [
      "Early stopping, best iteration is:\n",
      "[143]\ttraining's l1: 680787\tvalid_1's l1: 3.85092e+06\n",
      "Training until validation scores don't improve for 5 rounds\n"
     ]
    },
    {
     "name": "stderr",
     "output_type": "stream",
     "text": [
      "\u001b[32m[I 2021-01-03 17:55:57,579]\u001b[0m Trial 10 finished with value: 3802364.496722879 and parameters: {'nleaves': 39, 'bagfrac': 0.9987019604725019, 'bagfreq': 2, 'featfrac': 0.98973563392589, 'lambda_l1': 4.3312777984823964e-05, 'lambda_l2': 1.947766191808817e-06, 'minchild': 75}. Best is trial 4 with value: 3646073.352655314.\u001b[0m\n"
     ]
    },
    {
     "name": "stdout",
     "output_type": "stream",
     "text": [
      "Early stopping, best iteration is:\n",
      "[228]\ttraining's l1: 1.05285e+06\tvalid_1's l1: 3.80236e+06\n",
      "Training until validation scores don't improve for 5 rounds\n"
     ]
    },
    {
     "name": "stderr",
     "output_type": "stream",
     "text": [
      "\u001b[32m[I 2021-01-03 17:55:58,529]\u001b[0m Trial 11 finished with value: 3775513.949375526 and parameters: {'nleaves': 95, 'bagfrac': 0.9968964770118153, 'bagfreq': 6, 'featfrac': 0.7061180323654486, 'lambda_l1': 0.0003790388172852491, 'lambda_l2': 5.843883772167747e-05, 'minchild': 62}. Best is trial 4 with value: 3646073.352655314.\u001b[0m\n"
     ]
    },
    {
     "name": "stdout",
     "output_type": "stream",
     "text": [
      "Early stopping, best iteration is:\n",
      "[240]\ttraining's l1: 821984\tvalid_1's l1: 3.77551e+06\n",
      "Training until validation scores don't improve for 5 rounds\n"
     ]
    },
    {
     "name": "stderr",
     "output_type": "stream",
     "text": [
      "\u001b[32m[I 2021-01-03 17:55:59,324]\u001b[0m Trial 12 finished with value: 3881895.3893869394 and parameters: {'nleaves': 82, 'bagfrac': 0.9480556042190548, 'bagfreq': 6, 'featfrac': 0.9921944195413813, 'lambda_l1': 5.318375278569897e-05, 'lambda_l2': 2.739535406436494e-05, 'minchild': 66}. Best is trial 4 with value: 3646073.352655314.\u001b[0m\n"
     ]
    },
    {
     "name": "stdout",
     "output_type": "stream",
     "text": [
      "Early stopping, best iteration is:\n",
      "[180]\ttraining's l1: 1.21629e+06\tvalid_1's l1: 3.8819e+06\n",
      "Training until validation scores don't improve for 5 rounds\n",
      "Early stopping, best iteration is:\n",
      "[232]\ttraining's l1: 551026\tvalid_1's l1: 3.76913e+06\n"
     ]
    },
    {
     "name": "stderr",
     "output_type": "stream",
     "text": [
      "\u001b[32m[I 2021-01-03 17:56:00,725]\u001b[0m Trial 13 finished with value: 3769132.737580911 and parameters: {'nleaves': 152, 'bagfrac': 0.9617059200175229, 'bagfreq': 4, 'featfrac': 0.9580835377755353, 'lambda_l1': 0.003929185266582323, 'lambda_l2': 0.0038919882761318885, 'minchild': 47}. Best is trial 4 with value: 3646073.352655314.\u001b[0m\n"
     ]
    },
    {
     "name": "stdout",
     "output_type": "stream",
     "text": [
      "Training until validation scores don't improve for 5 rounds\n"
     ]
    },
    {
     "name": "stderr",
     "output_type": "stream",
     "text": [
      "\u001b[32m[I 2021-01-03 17:56:02,762]\u001b[0m Trial 14 finished with value: 3916288.5997455106 and parameters: {'nleaves': 69, 'bagfrac': 0.8905495800983834, 'bagfreq': 7, 'featfrac': 0.860111257815684, 'lambda_l1': 9.360020898569772e-05, 'lambda_l2': 0.0021365207477892067, 'minchild': 3}. Best is trial 4 with value: 3646073.352655314.\u001b[0m\n"
     ]
    },
    {
     "name": "stdout",
     "output_type": "stream",
     "text": [
      "Early stopping, best iteration is:\n",
      "[197]\ttraining's l1: 255053\tvalid_1's l1: 3.91629e+06\n",
      "Training until validation scores don't improve for 5 rounds\n"
     ]
    },
    {
     "name": "stderr",
     "output_type": "stream",
     "text": [
      "\u001b[32m[I 2021-01-03 17:56:03,993]\u001b[0m Trial 15 finished with value: 3746424.365934782 and parameters: {'nleaves': 151, 'bagfrac': 0.967079085152259, 'bagfreq': 4, 'featfrac': 0.9933298771303659, 'lambda_l1': 0.0036926836357262017, 'lambda_l2': 2.160260093726224e-05, 'minchild': 73}. Best is trial 4 with value: 3646073.352655314.\u001b[0m\n"
     ]
    },
    {
     "name": "stdout",
     "output_type": "stream",
     "text": [
      "Early stopping, best iteration is:\n",
      "[336]\ttraining's l1: 671792\tvalid_1's l1: 3.74642e+06\n",
      "Training until validation scores don't improve for 5 rounds\n"
     ]
    },
    {
     "name": "stderr",
     "output_type": "stream",
     "text": [
      "\u001b[32m[I 2021-01-03 17:56:05,547]\u001b[0m Trial 16 finished with value: 3841724.457791928 and parameters: {'nleaves': 123, 'bagfrac': 0.8281166943436526, 'bagfreq': 7, 'featfrac': 0.9144397320092451, 'lambda_l1': 8.737652010077832e-06, 'lambda_l2': 0.0004880927471597489, 'minchild': 21}. Best is trial 4 with value: 3646073.352655314.\u001b[0m\n"
     ]
    },
    {
     "name": "stdout",
     "output_type": "stream",
     "text": [
      "Early stopping, best iteration is:\n",
      "[155]\ttraining's l1: 351299\tvalid_1's l1: 3.84172e+06\n",
      "Training until validation scores don't improve for 5 rounds\n"
     ]
    },
    {
     "name": "stderr",
     "output_type": "stream",
     "text": [
      "\u001b[32m[I 2021-01-03 17:56:06,583]\u001b[0m Trial 17 finished with value: 3744999.2325374084 and parameters: {'nleaves': 58, 'bagfrac': 0.9923434460839423, 'bagfreq': 4, 'featfrac': 0.8441967570258753, 'lambda_l1': 0.00035082479745788024, 'lambda_l2': 0.02675745286725656, 'minchild': 60}. Best is trial 4 with value: 3646073.352655314.\u001b[0m\n"
     ]
    },
    {
     "name": "stdout",
     "output_type": "stream",
     "text": [
      "Early stopping, best iteration is:\n",
      "[238]\ttraining's l1: 771363\tvalid_1's l1: 3.745e+06\n",
      "Training until validation scores don't improve for 5 rounds\n"
     ]
    },
    {
     "name": "stderr",
     "output_type": "stream",
     "text": [
      "\u001b[32m[I 2021-01-03 17:56:07,156]\u001b[0m Trial 18 finished with value: 4069404.254950191 and parameters: {'nleaves': 180, 'bagfrac': 0.9243282871529803, 'bagfreq': 7, 'featfrac': 0.967371196676242, 'lambda_l1': 0.03750396607626888, 'lambda_l2': 2.1685552354235955e-05, 'minchild': 100}. Best is trial 4 with value: 3646073.352655314.\u001b[0m\n"
     ]
    },
    {
     "name": "stdout",
     "output_type": "stream",
     "text": [
      "Early stopping, best iteration is:\n",
      "[168]\ttraining's l1: 1.99204e+06\tvalid_1's l1: 4.0694e+06\n",
      "Training until validation scores don't improve for 5 rounds\n"
     ]
    },
    {
     "name": "stderr",
     "output_type": "stream",
     "text": [
      "\u001b[32m[I 2021-01-03 17:56:08,114]\u001b[0m Trial 19 finished with value: 3788085.3962068586 and parameters: {'nleaves': 106, 'bagfrac': 0.920780584470955, 'bagfreq': 3, 'featfrac': 0.9252238273891868, 'lambda_l1': 0.0014500652626973465, 'lambda_l2': 1.017208412438841e-06, 'minchild': 38}. Best is trial 4 with value: 3646073.352655314.\u001b[0m\n"
     ]
    },
    {
     "name": "stdout",
     "output_type": "stream",
     "text": [
      "Early stopping, best iteration is:\n",
      "[135]\ttraining's l1: 863862\tvalid_1's l1: 3.78809e+06\n",
      "Training until validation scores don't improve for 5 rounds\n"
     ]
    },
    {
     "name": "stderr",
     "output_type": "stream",
     "text": [
      "\u001b[32m[I 2021-01-03 17:56:09,152]\u001b[0m Trial 20 finished with value: 3848508.3607232384 and parameters: {'nleaves': 138, 'bagfrac': 0.8587397148839332, 'bagfreq': 6, 'featfrac': 0.8988935650739074, 'lambda_l1': 0.005719300262575837, 'lambda_l2': 8.315337651900218e-05, 'minchild': 44}. Best is trial 4 with value: 3646073.352655314.\u001b[0m\n"
     ]
    },
    {
     "name": "stdout",
     "output_type": "stream",
     "text": [
      "Early stopping, best iteration is:\n",
      "[197]\ttraining's l1: 764024\tvalid_1's l1: 3.84851e+06\n",
      "Training until validation scores don't improve for 5 rounds\n"
     ]
    },
    {
     "name": "stderr",
     "output_type": "stream",
     "text": [
      "\u001b[32m[I 2021-01-03 17:56:10,119]\u001b[0m Trial 21 finished with value: 3843508.025002434 and parameters: {'nleaves': 220, 'bagfrac': 0.7047660010680759, 'bagfreq': 5, 'featfrac': 0.8838044255453945, 'lambda_l1': 1.250356291738683e-06, 'lambda_l2': 0.001731760101005149, 'minchild': 29}. Best is trial 4 with value: 3646073.352655314.\u001b[0m\n"
     ]
    },
    {
     "name": "stdout",
     "output_type": "stream",
     "text": [
      "Early stopping, best iteration is:\n",
      "[143]\ttraining's l1: 881384\tvalid_1's l1: 3.84351e+06\n",
      "Training until validation scores don't improve for 5 rounds\n"
     ]
    },
    {
     "name": "stderr",
     "output_type": "stream",
     "text": [
      "\u001b[32m[I 2021-01-03 17:56:11,051]\u001b[0m Trial 22 finished with value: 3927347.5210240325 and parameters: {'nleaves': 231, 'bagfrac': 0.7719377634646383, 'bagfreq': 5, 'featfrac': 0.873442984477731, 'lambda_l1': 1.1750452908327227e-05, 'lambda_l2': 0.007794541192744485, 'minchild': 36}. Best is trial 4 with value: 3646073.352655314.\u001b[0m\n"
     ]
    },
    {
     "name": "stdout",
     "output_type": "stream",
     "text": [
      "Early stopping, best iteration is:\n",
      "[117]\ttraining's l1: 1.2922e+06\tvalid_1's l1: 3.92735e+06\n",
      "Training until validation scores don't improve for 5 rounds\n"
     ]
    },
    {
     "name": "stderr",
     "output_type": "stream",
     "text": [
      "\u001b[32m[I 2021-01-03 17:56:11,936]\u001b[0m Trial 23 finished with value: 3900207.723673429 and parameters: {'nleaves': 217, 'bagfrac': 0.7972329017827801, 'bagfreq': 3, 'featfrac': 0.8232730677853839, 'lambda_l1': 8.746053196532263e-06, 'lambda_l2': 0.640910466201977, 'minchild': 55}. Best is trial 4 with value: 3646073.352655314.\u001b[0m\n"
     ]
    },
    {
     "name": "stdout",
     "output_type": "stream",
     "text": [
      "Early stopping, best iteration is:\n",
      "[178]\ttraining's l1: 1.30381e+06\tvalid_1's l1: 3.90021e+06\n",
      "Training until validation scores don't improve for 5 rounds\n"
     ]
    },
    {
     "name": "stderr",
     "output_type": "stream",
     "text": [
      "\u001b[32m[I 2021-01-03 17:56:14,385]\u001b[0m Trial 24 finished with value: 4027317.672893664 and parameters: {'nleaves': 206, 'bagfrac': 0.9781428714220246, 'bagfreq': 5, 'featfrac': 0.9695550848263504, 'lambda_l1': 7.40022739524616e-05, 'lambda_l2': 0.0007312830517573233, 'minchild': 8}. Best is trial 4 with value: 3646073.352655314.\u001b[0m\n"
     ]
    },
    {
     "name": "stdout",
     "output_type": "stream",
     "text": [
      "Early stopping, best iteration is:\n",
      "[119]\ttraining's l1: 56851.2\tvalid_1's l1: 4.02732e+06\n",
      "Training until validation scores don't improve for 5 rounds\n"
     ]
    },
    {
     "name": "stderr",
     "output_type": "stream",
     "text": [
      "\u001b[32m[I 2021-01-03 17:56:15,565]\u001b[0m Trial 25 finished with value: 3879771.935654731 and parameters: {'nleaves': 255, 'bagfrac': 0.9414689599222666, 'bagfreq': 6, 'featfrac': 0.9286738174155783, 'lambda_l1': 0.0002922599967559602, 'lambda_l2': 0.012650520132758764, 'minchild': 33}. Best is trial 4 with value: 3646073.352655314.\u001b[0m\n"
     ]
    },
    {
     "name": "stdout",
     "output_type": "stream",
     "text": [
      "Early stopping, best iteration is:\n",
      "[125]\ttraining's l1: 761434\tvalid_1's l1: 3.87977e+06\n",
      "Training until validation scores don't improve for 5 rounds\n"
     ]
    },
    {
     "name": "stderr",
     "output_type": "stream",
     "text": [
      "\u001b[32m[I 2021-01-03 17:56:16,535]\u001b[0m Trial 26 finished with value: 3799212.437226658 and parameters: {'nleaves': 167, 'bagfrac': 0.9003153495002926, 'bagfreq': 4, 'featfrac': 0.891962842401634, 'lambda_l1': 3.123113392490782e-06, 'lambda_l2': 1.1926331017022905e-05, 'minchild': 42}. Best is trial 4 with value: 3646073.352655314.\u001b[0m\n"
     ]
    },
    {
     "name": "stdout",
     "output_type": "stream",
     "text": [
      "Early stopping, best iteration is:\n",
      "[144]\ttraining's l1: 970344\tvalid_1's l1: 3.79921e+06\n",
      "Training until validation scores don't improve for 5 rounds\n"
     ]
    },
    {
     "name": "stderr",
     "output_type": "stream",
     "text": [
      "\u001b[32m[I 2021-01-03 17:56:17,508]\u001b[0m Trial 27 finished with value: 3870867.9067208064 and parameters: {'nleaves': 234, 'bagfrac': 0.8468694257512869, 'bagfreq': 8, 'featfrac': 0.845984038958667, 'lambda_l1': 1.6805744567658423e-05, 'lambda_l2': 0.00011172125545603649, 'minchild': 22}. Best is trial 4 with value: 3646073.352655314.\u001b[0m\n"
     ]
    },
    {
     "name": "stdout",
     "output_type": "stream",
     "text": [
      "Early stopping, best iteration is:\n",
      "[97]\ttraining's l1: 744591\tvalid_1's l1: 3.87087e+06\n",
      "Training until validation scores don't improve for 5 rounds\n"
     ]
    },
    {
     "name": "stderr",
     "output_type": "stream",
     "text": [
      "\u001b[32m[I 2021-01-03 17:56:18,077]\u001b[0m Trial 28 finished with value: 4021050.4890766563 and parameters: {'nleaves': 195, 'bagfrac': 0.7743691366362276, 'bagfreq': 7, 'featfrac': 0.7405650323366215, 'lambda_l1': 0.01113646166687501, 'lambda_l2': 0.0008027528960810276, 'minchild': 56}. Best is trial 4 with value: 3646073.352655314.\u001b[0m\n"
     ]
    },
    {
     "name": "stdout",
     "output_type": "stream",
     "text": [
      "Early stopping, best iteration is:\n",
      "[124]\ttraining's l1: 1.8905e+06\tvalid_1's l1: 4.02105e+06\n",
      "Training until validation scores don't improve for 5 rounds\n"
     ]
    },
    {
     "name": "stderr",
     "output_type": "stream",
     "text": [
      "\u001b[32m[I 2021-01-03 17:56:18,896]\u001b[0m Trial 29 finished with value: 3750308.034182548 and parameters: {'nleaves': 128, 'bagfrac': 0.9036279043647043, 'bagfreq': 2, 'featfrac': 0.9775390573839113, 'lambda_l1': 0.1811376365023492, 'lambda_l2': 5.143675880008792e-06, 'minchild': 75}. Best is trial 4 with value: 3646073.352655314.\u001b[0m\n"
     ]
    },
    {
     "name": "stdout",
     "output_type": "stream",
     "text": [
      "Early stopping, best iteration is:\n",
      "[211]\ttraining's l1: 1.30606e+06\tvalid_1's l1: 3.75031e+06\n",
      "Training until validation scores don't improve for 5 rounds\n"
     ]
    },
    {
     "name": "stderr",
     "output_type": "stream",
     "text": [
      "\u001b[32m[I 2021-01-03 17:56:19,555]\u001b[0m Trial 30 finished with value: 3987500.4952987763 and parameters: {'nleaves': 50, 'bagfrac': 0.7017305056213989, 'bagfreq': 5, 'featfrac': 0.9392059071096683, 'lambda_l1': 0.0010639550533405647, 'lambda_l2': 0.00019969236346692803, 'minchild': 50}. Best is trial 4 with value: 3646073.352655314.\u001b[0m\n"
     ]
    },
    {
     "name": "stdout",
     "output_type": "stream",
     "text": [
      "Early stopping, best iteration is:\n",
      "[138]\ttraining's l1: 1.65752e+06\tvalid_1's l1: 3.9875e+06\n",
      "Training until validation scores don't improve for 5 rounds\n"
     ]
    },
    {
     "name": "stderr",
     "output_type": "stream",
     "text": [
      "\u001b[32m[I 2021-01-03 17:56:20,510]\u001b[0m Trial 31 finished with value: 3797575.6780636553 and parameters: {'nleaves': 61, 'bagfrac': 0.9994242120229435, 'bagfreq': 4, 'featfrac': 0.8496118104293285, 'lambda_l1': 0.00013568221716971492, 'lambda_l2': 0.03233563478063707, 'minchild': 63}. Best is trial 4 with value: 3646073.352655314.\u001b[0m\n"
     ]
    },
    {
     "name": "stdout",
     "output_type": "stream",
     "text": [
      "Early stopping, best iteration is:\n",
      "[219]\ttraining's l1: 910904\tvalid_1's l1: 3.79758e+06\n",
      "Training until validation scores don't improve for 5 rounds\n"
     ]
    },
    {
     "name": "stderr",
     "output_type": "stream",
     "text": [
      "\u001b[32m[I 2021-01-03 17:56:21,400]\u001b[0m Trial 32 finished with value: 3795787.2985972767 and parameters: {'nleaves': 86, 'bagfrac': 0.9821599309316323, 'bagfreq': 4, 'featfrac': 0.86960139748653, 'lambda_l1': 0.00033296343477133827, 'lambda_l2': 0.7164839399843387, 'minchild': 56}. Best is trial 4 with value: 3646073.352655314.\u001b[0m\n"
     ]
    },
    {
     "name": "stdout",
     "output_type": "stream",
     "text": [
      "Early stopping, best iteration is:\n",
      "[167]\ttraining's l1: 1.06016e+06\tvalid_1's l1: 3.79579e+06\n",
      "Training until validation scores don't improve for 5 rounds\n"
     ]
    },
    {
     "name": "stderr",
     "output_type": "stream",
     "text": [
      "\u001b[32m[I 2021-01-03 17:56:22,393]\u001b[0m Trial 33 finished with value: 3807076.1423156545 and parameters: {'nleaves': 64, 'bagfrac': 0.9470128188046278, 'bagfreq': 5, 'featfrac': 0.8276909176667651, 'lambda_l1': 0.0013728572337669946, 'lambda_l2': 0.021810760493118732, 'minchild': 69}. Best is trial 4 with value: 3646073.352655314.\u001b[0m\n"
     ]
    },
    {
     "name": "stdout",
     "output_type": "stream",
     "text": [
      "Early stopping, best iteration is:\n",
      "[254]\ttraining's l1: 914702\tvalid_1's l1: 3.80708e+06\n",
      "Training until validation scores don't improve for 5 rounds\n"
     ]
    },
    {
     "name": "stderr",
     "output_type": "stream",
     "text": [
      "\u001b[32m[I 2021-01-03 17:56:23,056]\u001b[0m Trial 34 finished with value: 3912155.3586806264 and parameters: {'nleaves': 52, 'bagfrac': 0.9849248544306869, 'bagfreq': 6, 'featfrac': 0.7719158418202249, 'lambda_l1': 0.0005397274330468402, 'lambda_l2': 0.07278477413319716, 'minchild': 83}. Best is trial 4 with value: 3646073.352655314.\u001b[0m\n"
     ]
    },
    {
     "name": "stdout",
     "output_type": "stream",
     "text": [
      "Early stopping, best iteration is:\n",
      "[184]\ttraining's l1: 1.50808e+06\tvalid_1's l1: 3.91216e+06\n",
      "Training until validation scores don't improve for 5 rounds\n"
     ]
    },
    {
     "name": "stderr",
     "output_type": "stream",
     "text": [
      "\u001b[32m[I 2021-01-03 17:56:23,952]\u001b[0m Trial 35 finished with value: 3757093.565953325 and parameters: {'nleaves': 104, 'bagfrac': 0.968153098969147, 'bagfreq': 3, 'featfrac': 0.8313980356029727, 'lambda_l1': 0.00025037705517736764, 'lambda_l2': 4.723831768400997, 'minchild': 43}. Best is trial 4 with value: 3646073.352655314.\u001b[0m\n"
     ]
    },
    {
     "name": "stdout",
     "output_type": "stream",
     "text": [
      "Early stopping, best iteration is:\n",
      "[147]\ttraining's l1: 966654\tvalid_1's l1: 3.75709e+06\n",
      "Training until validation scores don't improve for 5 rounds\n"
     ]
    },
    {
     "name": "stderr",
     "output_type": "stream",
     "text": [
      "\u001b[32m[I 2021-01-03 17:56:24,858]\u001b[0m Trial 36 finished with value: 3828754.4924516906 and parameters: {'nleaves': 37, 'bagfrac': 0.9950714702051862, 'bagfreq': 2, 'featfrac': 0.8018975444886212, 'lambda_l1': 3.245582355859995e-05, 'lambda_l2': 0.0068845168454463625, 'minchild': 59}. Best is trial 4 with value: 3646073.352655314.\u001b[0m\n"
     ]
    },
    {
     "name": "stdout",
     "output_type": "stream",
     "text": [
      "Early stopping, best iteration is:\n",
      "[215]\ttraining's l1: 1.00654e+06\tvalid_1's l1: 3.82875e+06\n",
      "Training until validation scores don't improve for 5 rounds\n"
     ]
    },
    {
     "name": "stderr",
     "output_type": "stream",
     "text": [
      "\u001b[32m[I 2021-01-03 17:56:25,799]\u001b[0m Trial 37 finished with value: 3731836.718114486 and parameters: {'nleaves': 77, 'bagfrac': 0.9340990519529178, 'bagfreq': 5, 'featfrac': 0.9121200510071268, 'lambda_l1': 2.63726736763372e-06, 'lambda_l2': 6.085145189392611e-06, 'minchild': 50}. Best is trial 4 with value: 3646073.352655314.\u001b[0m\n"
     ]
    },
    {
     "name": "stdout",
     "output_type": "stream",
     "text": [
      "Early stopping, best iteration is:\n",
      "[170]\ttraining's l1: 947688\tvalid_1's l1: 3.73184e+06\n",
      "Training until validation scores don't improve for 5 rounds\n"
     ]
    },
    {
     "name": "stderr",
     "output_type": "stream",
     "text": [
      "\u001b[32m[I 2021-01-03 17:56:26,790]\u001b[0m Trial 38 finished with value: 3793982.9882349633 and parameters: {'nleaves': 256, 'bagfrac': 0.9314518436883632, 'bagfreq': 8, 'featfrac': 0.9521241425978567, 'lambda_l1': 2.466996137094244e-06, 'lambda_l2': 4.063291407993548e-06, 'minchild': 48}. Best is trial 4 with value: 3646073.352655314.\u001b[0m\n"
     ]
    },
    {
     "name": "stdout",
     "output_type": "stream",
     "text": [
      "Early stopping, best iteration is:\n",
      "[168]\ttraining's l1: 935294\tvalid_1's l1: 3.79398e+06\n",
      "Training until validation scores don't improve for 5 rounds\n"
     ]
    },
    {
     "name": "stderr",
     "output_type": "stream",
     "text": [
      "\u001b[32m[I 2021-01-03 17:56:27,733]\u001b[0m Trial 39 finished with value: 3845362.625881916 and parameters: {'nleaves': 77, 'bagfrac': 0.8759736213506991, 'bagfreq': 6, 'featfrac': 0.9078998191330677, 'lambda_l1': 4.156660235907825e-06, 'lambda_l2': 1.0446488063769556e-06, 'minchild': 31}. Best is trial 4 with value: 3646073.352655314.\u001b[0m\n"
     ]
    },
    {
     "name": "stdout",
     "output_type": "stream",
     "text": [
      "Early stopping, best iteration is:\n",
      "[116]\ttraining's l1: 889907\tvalid_1's l1: 3.84536e+06\n",
      "Training until validation scores don't improve for 5 rounds\n"
     ]
    },
    {
     "name": "stderr",
     "output_type": "stream",
     "text": [
      "\u001b[32m[I 2021-01-03 17:56:29,040]\u001b[0m Trial 40 finished with value: 3836588.2629817426 and parameters: {'nleaves': 241, 'bagfrac': 0.9545649934552065, 'bagfreq': 5, 'featfrac': 0.924500594812673, 'lambda_l1': 2.4403163605936118e-05, 'lambda_l2': 7.543371821463609e-06, 'minchild': 25}. Best is trial 4 with value: 3646073.352655314.\u001b[0m\n"
     ]
    },
    {
     "name": "stdout",
     "output_type": "stream",
     "text": [
      "Early stopping, best iteration is:\n",
      "[133]\ttraining's l1: 433110\tvalid_1's l1: 3.83659e+06\n",
      "Training until validation scores don't improve for 5 rounds\n"
     ]
    },
    {
     "name": "stderr",
     "output_type": "stream",
     "text": [
      "\u001b[32m[I 2021-01-03 17:56:30,012]\u001b[0m Trial 41 finished with value: 3830549.6512119453 and parameters: {'nleaves': 46, 'bagfrac': 0.9735094313877227, 'bagfreq': 4, 'featfrac': 0.8997883534508595, 'lambda_l1': 0.00015790870748391906, 'lambda_l2': 4.398407036320916e-05, 'minchild': 53}. Best is trial 4 with value: 3646073.352655314.\u001b[0m\n"
     ]
    },
    {
     "name": "stdout",
     "output_type": "stream",
     "text": [
      "Early stopping, best iteration is:\n",
      "[195]\ttraining's l1: 891573\tvalid_1's l1: 3.83055e+06\n",
      "Training until validation scores don't improve for 5 rounds\n"
     ]
    },
    {
     "name": "stderr",
     "output_type": "stream",
     "text": [
      "\u001b[32m[I 2021-01-03 17:56:31,169]\u001b[0m Trial 42 finished with value: 3823458.092158873 and parameters: {'nleaves': 74, 'bagfrac': 0.9865614111332415, 'bagfreq': 5, 'featfrac': 0.9459841383016193, 'lambda_l1': 0.0018891622384994897, 'lambda_l2': 0.0002742967711876909, 'minchild': 41}. Best is trial 4 with value: 3646073.352655314.\u001b[0m\n"
     ]
    },
    {
     "name": "stdout",
     "output_type": "stream",
     "text": [
      "Early stopping, best iteration is:\n",
      "[172]\ttraining's l1: 658002\tvalid_1's l1: 3.82346e+06\n",
      "Training until validation scores don't improve for 5 rounds\n"
     ]
    },
    {
     "name": "stderr",
     "output_type": "stream",
     "text": [
      "\u001b[32m[I 2021-01-03 17:56:32,466]\u001b[0m Trial 43 finished with value: 3737567.3338102894 and parameters: {'nleaves': 92, 'bagfrac': 0.9964885249362818, 'bagfreq': 6, 'featfrac': 0.8808825789216322, 'lambda_l1': 1.1185472603472578e-06, 'lambda_l2': 2.218901942361921e-06, 'minchild': 61}. Best is trial 4 with value: 3646073.352655314.\u001b[0m\n"
     ]
    },
    {
     "name": "stdout",
     "output_type": "stream",
     "text": [
      "Early stopping, best iteration is:\n",
      "[235]\ttraining's l1: 778416\tvalid_1's l1: 3.73757e+06\n",
      "Training until validation scores don't improve for 5 rounds\n"
     ]
    },
    {
     "name": "stderr",
     "output_type": "stream",
     "text": [
      "\u001b[32m[I 2021-01-03 17:56:33,497]\u001b[0m Trial 44 finished with value: 3739687.177651423 and parameters: {'nleaves': 98, 'bagfrac': 0.9367486541938983, 'bagfreq': 7, 'featfrac': 0.8843214431520534, 'lambda_l1': 1.0014262485188015e-06, 'lambda_l2': 2.294755260972826e-06, 'minchild': 48}. Best is trial 4 with value: 3646073.352655314.\u001b[0m\n"
     ]
    },
    {
     "name": "stdout",
     "output_type": "stream",
     "text": [
      "Early stopping, best iteration is:\n",
      "[192]\ttraining's l1: 780109\tvalid_1's l1: 3.73969e+06\n",
      "Training until validation scores don't improve for 5 rounds\n"
     ]
    },
    {
     "name": "stderr",
     "output_type": "stream",
     "text": [
      "\u001b[32m[I 2021-01-03 17:56:34,287]\u001b[0m Trial 45 finished with value: 3780357.586649221 and parameters: {'nleaves': 88, 'bagfrac': 0.9550237979940579, 'bagfreq': 6, 'featfrac': 0.8663710836714903, 'lambda_l1': 5.443953292571008e-06, 'lambda_l2': 1.0791948254126248e-05, 'minchild': 64}. Best is trial 4 with value: 3646073.352655314.\u001b[0m\n"
     ]
    },
    {
     "name": "stdout",
     "output_type": "stream",
     "text": [
      "Early stopping, best iteration is:\n",
      "[178]\ttraining's l1: 1.20112e+06\tvalid_1's l1: 3.78036e+06\n",
      "Training until validation scores don't improve for 5 rounds\n"
     ]
    },
    {
     "name": "stderr",
     "output_type": "stream",
     "text": [
      "\u001b[32m[I 2021-01-03 17:56:35,021]\u001b[0m Trial 46 finished with value: 3878882.4629696636 and parameters: {'nleaves': 109, 'bagfrac': 0.7400768648095042, 'bagfreq': 7, 'featfrac': 0.9380786138264681, 'lambda_l1': 1.0956218188970489e-06, 'lambda_l2': 2.1516539413961634e-06, 'minchild': 69}. Best is trial 4 with value: 3646073.352655314.\u001b[0m\n"
     ]
    },
    {
     "name": "stdout",
     "output_type": "stream",
     "text": [
      "Early stopping, best iteration is:\n",
      "[226]\ttraining's l1: 1.42782e+06\tvalid_1's l1: 3.87888e+06\n",
      "Training until validation scores don't improve for 5 rounds\n"
     ]
    },
    {
     "name": "stderr",
     "output_type": "stream",
     "text": [
      "\u001b[32m[I 2021-01-03 17:56:35,906]\u001b[0m Trial 47 finished with value: 3783590.379151359 and parameters: {'nleaves': 33, 'bagfrac': 0.9670260756861733, 'bagfreq': 6, 'featfrac': 0.9075290329261012, 'lambda_l1': 2.440078429413819e-06, 'lambda_l2': 4.128278362482521e-05, 'minchild': 35}. Best is trial 4 with value: 3646073.352655314.\u001b[0m\n"
     ]
    },
    {
     "name": "stdout",
     "output_type": "stream",
     "text": [
      "Early stopping, best iteration is:\n",
      "[218]\ttraining's l1: 987724\tvalid_1's l1: 3.78359e+06\n",
      "Training until validation scores don't improve for 5 rounds\n"
     ]
    },
    {
     "name": "stderr",
     "output_type": "stream",
     "text": [
      "\u001b[32m[I 2021-01-03 17:56:36,912]\u001b[0m Trial 48 finished with value: 3850344.8347778977 and parameters: {'nleaves': 93, 'bagfrac': 0.9992951351055368, 'bagfreq': 9, 'featfrac': 0.9219508998253065, 'lambda_l1': 3.561859412732158e-05, 'lambda_l2': 0.00012674854512309644, 'minchild': 52}. Best is trial 4 with value: 3646073.352655314.\u001b[0m\n"
     ]
    },
    {
     "name": "stdout",
     "output_type": "stream",
     "text": [
      "Early stopping, best iteration is:\n",
      "[183]\ttraining's l1: 837285\tvalid_1's l1: 3.85034e+06\n",
      "Training until validation scores don't improve for 5 rounds\n"
     ]
    },
    {
     "name": "stderr",
     "output_type": "stream",
     "text": [
      "\u001b[32m[I 2021-01-03 17:56:37,673]\u001b[0m Trial 49 finished with value: 3934683.658520371 and parameters: {'nleaves': 112, 'bagfrac': 0.9095046417338934, 'bagfreq': 5, 'featfrac': 0.9835224634732925, 'lambda_l1': 0.014091535064102927, 'lambda_l2': 2.4208200193059703e-05, 'minchild': 81}. Best is trial 4 with value: 3646073.352655314.\u001b[0m\n"
     ]
    },
    {
     "name": "stdout",
     "output_type": "stream",
     "text": [
      "Early stopping, best iteration is:\n",
      "[213]\ttraining's l1: 1.38617e+06\tvalid_1's l1: 3.93468e+06\n",
      "Training until validation scores don't improve for 5 rounds\n"
     ]
    },
    {
     "name": "stderr",
     "output_type": "stream",
     "text": [
      "\u001b[32m[I 2021-01-03 17:56:38,477]\u001b[0m Trial 50 finished with value: 3936665.0188381425 and parameters: {'nleaves': 68, 'bagfrac': 0.8810137747053851, 'bagfreq': 6, 'featfrac': 0.9623881843821245, 'lambda_l1': 5.088845777731516e-06, 'lambda_l2': 1.2788702002104649e-05, 'minchild': 16}. Best is trial 4 with value: 3646073.352655314.\u001b[0m\n"
     ]
    },
    {
     "name": "stdout",
     "output_type": "stream",
     "text": [
      "Early stopping, best iteration is:\n",
      "[77]\ttraining's l1: 1.1875e+06\tvalid_1's l1: 3.93666e+06\n",
      "Training until validation scores don't improve for 5 rounds\n"
     ]
    },
    {
     "name": "stderr",
     "output_type": "stream",
     "text": [
      "\u001b[32m[I 2021-01-03 17:56:39,282]\u001b[0m Trial 51 finished with value: 3822749.5922666606 and parameters: {'nleaves': 79, 'bagfrac': 0.9361958499367854, 'bagfreq': 7, 'featfrac': 0.8948556698583914, 'lambda_l1': 1.318119707351806e-06, 'lambda_l2': 2.33818182613736e-06, 'minchild': 47}. Best is trial 4 with value: 3646073.352655314.\u001b[0m\n"
     ]
    },
    {
     "name": "stdout",
     "output_type": "stream",
     "text": [
      "Early stopping, best iteration is:\n",
      "[134]\ttraining's l1: 1.14188e+06\tvalid_1's l1: 3.82275e+06\n",
      "Training until validation scores don't improve for 5 rounds\n"
     ]
    },
    {
     "name": "stderr",
     "output_type": "stream",
     "text": [
      "\u001b[32m[I 2021-01-03 17:56:40,346]\u001b[0m Trial 52 finished with value: 3745215.613368201 and parameters: {'nleaves': 134, 'bagfrac': 0.9577121611724546, 'bagfreq': 7, 'featfrac': 0.8789526439047629, 'lambda_l1': 1.8679683591292782e-06, 'lambda_l2': 1.0300873519121224e-06, 'minchild': 39}. Best is trial 4 with value: 3646073.352655314.\u001b[0m\n"
     ]
    },
    {
     "name": "stdout",
     "output_type": "stream",
     "text": [
      "Early stopping, best iteration is:\n",
      "[164]\ttraining's l1: 684308\tvalid_1's l1: 3.74522e+06\n",
      "Training until validation scores don't improve for 5 rounds\n"
     ]
    },
    {
     "name": "stderr",
     "output_type": "stream",
     "text": [
      "\u001b[32m[I 2021-01-03 17:56:41,674]\u001b[0m Trial 53 finished with value: 3698408.4720169827 and parameters: {'nleaves': 97, 'bagfrac': 0.9226889498981437, 'bagfreq': 6, 'featfrac': 0.8826391726669888, 'lambda_l1': 8.33542842298596e-06, 'lambda_l2': 2.7358801173898318e-06, 'minchild': 46}. Best is trial 4 with value: 3646073.352655314.\u001b[0m\n"
     ]
    },
    {
     "name": "stdout",
     "output_type": "stream",
     "text": [
      "Early stopping, best iteration is:\n",
      "[256]\ttraining's l1: 504207\tvalid_1's l1: 3.69841e+06\n",
      "Training until validation scores don't improve for 5 rounds\n"
     ]
    },
    {
     "name": "stderr",
     "output_type": "stream",
     "text": [
      "\u001b[32m[I 2021-01-03 17:56:42,419]\u001b[0m Trial 54 finished with value: 3815771.060056659 and parameters: {'nleaves': 164, 'bagfrac': 0.9173992532298587, 'bagfreq': 6, 'featfrac': 0.86221829706208, 'lambda_l1': 1.8274990130332302e-05, 'lambda_l2': 4.316457855681604e-06, 'minchild': 58}. Best is trial 4 with value: 3646073.352655314.\u001b[0m\n"
     ]
    },
    {
     "name": "stdout",
     "output_type": "stream",
     "text": [
      "Early stopping, best iteration is:\n",
      "[156]\ttraining's l1: 1.26869e+06\tvalid_1's l1: 3.81577e+06\n",
      "Training until validation scores don't improve for 5 rounds\n"
     ]
    },
    {
     "name": "stderr",
     "output_type": "stream",
     "text": [
      "\u001b[32m[I 2021-01-03 17:56:43,324]\u001b[0m Trial 55 finished with value: 3832010.184677469 and parameters: {'nleaves': 119, 'bagfrac': 0.9750115287526967, 'bagfreq': 5, 'featfrac': 0.9153700095055197, 'lambda_l1': 7.885042466885602e-06, 'lambda_l2': 6.098053977954777e-05, 'minchild': 45}. Best is trial 4 with value: 3646073.352655314.\u001b[0m\n"
     ]
    },
    {
     "name": "stdout",
     "output_type": "stream",
     "text": [
      "Early stopping, best iteration is:\n",
      "[145]\ttraining's l1: 933580\tvalid_1's l1: 3.83201e+06\n",
      "Training until validation scores don't improve for 5 rounds\n"
     ]
    },
    {
     "name": "stderr",
     "output_type": "stream",
     "text": [
      "\u001b[32m[I 2021-01-03 17:56:44,214]\u001b[0m Trial 56 finished with value: 3798111.5255650445 and parameters: {'nleaves': 99, 'bagfrac': 0.949058993147505, 'bagfreq': 6, 'featfrac': 0.8862695658185323, 'lambda_l1': 5.3538848199027265e-05, 'lambda_l2': 1.7324551710932953e-05, 'minchild': 68}. Best is trial 4 with value: 3646073.352655314.\u001b[0m\n"
     ]
    },
    {
     "name": "stdout",
     "output_type": "stream",
     "text": [
      "Early stopping, best iteration is:\n",
      "[224]\ttraining's l1: 1.06199e+06\tvalid_1's l1: 3.79811e+06\n",
      "Training until validation scores don't improve for 5 rounds\n"
     ]
    },
    {
     "name": "stderr",
     "output_type": "stream",
     "text": [
      "\u001b[32m[I 2021-01-03 17:56:45,127]\u001b[0m Trial 57 finished with value: 3792800.3782610027 and parameters: {'nleaves': 246, 'bagfrac': 0.9252616278106295, 'bagfreq': 4, 'featfrac': 0.904252476990753, 'lambda_l1': 1.340939787530432e-05, 'lambda_l2': 7.2516917343249644e-06, 'minchild': 51}. Best is trial 4 with value: 3646073.352655314.\u001b[0m\n"
     ]
    },
    {
     "name": "stdout",
     "output_type": "stream",
     "text": [
      "Early stopping, best iteration is:\n",
      "[172]\ttraining's l1: 1.00526e+06\tvalid_1's l1: 3.7928e+06\n",
      "Training until validation scores don't improve for 5 rounds\n"
     ]
    },
    {
     "name": "stderr",
     "output_type": "stream",
     "text": [
      "\u001b[32m[I 2021-01-03 17:56:46,061]\u001b[0m Trial 58 finished with value: 3816600.2551029962 and parameters: {'nleaves': 57, 'bagfrac': 0.8026437450916997, 'bagfreq': 5, 'featfrac': 0.9299774299978356, 'lambda_l1': 0.00011181574367735917, 'lambda_l2': 0.0013198855353533053, 'minchild': 39}. Best is trial 4 with value: 3646073.352655314.\u001b[0m\n"
     ]
    },
    {
     "name": "stdout",
     "output_type": "stream",
     "text": [
      "Early stopping, best iteration is:\n",
      "[160]\ttraining's l1: 934224\tvalid_1's l1: 3.8166e+06\n",
      "Training until validation scores don't improve for 5 rounds\n"
     ]
    },
    {
     "name": "stderr",
     "output_type": "stream",
     "text": [
      "\u001b[32m[I 2021-01-03 17:56:46,828]\u001b[0m Trial 59 finished with value: 3929414.8284818083 and parameters: {'nleaves': 74, 'bagfrac': 0.8277832124280461, 'bagfreq': 6, 'featfrac': 0.8558701163933079, 'lambda_l1': 4.974934421964234, 'lambda_l2': 0.0004426838473143916, 'minchild': 62}. Best is trial 4 with value: 3646073.352655314.\u001b[0m\n"
     ]
    },
    {
     "name": "stdout",
     "output_type": "stream",
     "text": [
      "Early stopping, best iteration is:\n",
      "[199]\ttraining's l1: 1.27119e+06\tvalid_1's l1: 3.92941e+06\n",
      "Training until validation scores don't improve for 5 rounds\n"
     ]
    },
    {
     "name": "stderr",
     "output_type": "stream",
     "text": [
      "\u001b[32m[I 2021-01-03 17:56:47,447]\u001b[0m Trial 60 finished with value: 3919245.0942602637 and parameters: {'nleaves': 222, 'bagfrac': 0.8578429156228777, 'bagfreq': 5, 'featfrac': 0.874321610125542, 'lambda_l1': 0.0006647509494030638, 'lambda_l2': 1.7404243809511505e-06, 'minchild': 54}. Best is trial 4 with value: 3646073.352655314.\u001b[0m\n"
     ]
    },
    {
     "name": "stdout",
     "output_type": "stream",
     "text": [
      "Early stopping, best iteration is:\n",
      "[107]\ttraining's l1: 1.76441e+06\tvalid_1's l1: 3.91925e+06\n",
      "Training until validation scores don't improve for 5 rounds\n"
     ]
    },
    {
     "name": "stderr",
     "output_type": "stream",
     "text": [
      "\u001b[32m[I 2021-01-03 17:56:48,383]\u001b[0m Trial 61 finished with value: 3801754.6340354676 and parameters: {'nleaves': 89, 'bagfrac': 0.9379935168198218, 'bagfreq': 7, 'featfrac': 0.8797196015667237, 'lambda_l1': 1.3603001884971255e-06, 'lambda_l2': 2.581422276473246e-06, 'minchild': 46}. Best is trial 4 with value: 3646073.352655314.\u001b[0m\n"
     ]
    },
    {
     "name": "stdout",
     "output_type": "stream",
     "text": [
      "Early stopping, best iteration is:\n",
      "[162]\ttraining's l1: 906826\tvalid_1's l1: 3.80175e+06\n",
      "Training until validation scores don't improve for 5 rounds\n"
     ]
    },
    {
     "name": "stderr",
     "output_type": "stream",
     "text": [
      "\u001b[32m[I 2021-01-03 17:56:49,320]\u001b[0m Trial 62 finished with value: 3776049.832314954 and parameters: {'nleaves': 101, 'bagfrac': 0.8907521501099215, 'bagfreq': 8, 'featfrac': 0.889248149515113, 'lambda_l1': 3.6316321788503844e-06, 'lambda_l2': 1.3263560418540076e-06, 'minchild': 49}. Best is trial 4 with value: 3646073.352655314.\u001b[0m\n"
     ]
    },
    {
     "name": "stdout",
     "output_type": "stream",
     "text": [
      "Early stopping, best iteration is:\n",
      "[186]\ttraining's l1: 888287\tvalid_1's l1: 3.77605e+06\n",
      "Training until validation scores don't improve for 5 rounds\n"
     ]
    },
    {
     "name": "stderr",
     "output_type": "stream",
     "text": [
      "\u001b[32m[I 2021-01-03 17:56:50,317]\u001b[0m Trial 63 finished with value: 3794234.014293619 and parameters: {'nleaves': 82, 'bagfrac': 0.9126845591166792, 'bagfreq': 7, 'featfrac': 0.9133644969738229, 'lambda_l1': 0.006307884378743611, 'lambda_l2': 7.958253041497802e-06, 'minchild': 59}. Best is trial 4 with value: 3646073.352655314.\u001b[0m\n"
     ]
    },
    {
     "name": "stdout",
     "output_type": "stream",
     "text": [
      "Early stopping, best iteration is:\n",
      "[235]\ttraining's l1: 841247\tvalid_1's l1: 3.79423e+06\n",
      "Training until validation scores don't improve for 5 rounds\n"
     ]
    },
    {
     "name": "stderr",
     "output_type": "stream",
     "text": [
      "\u001b[32m[I 2021-01-03 17:56:51,391]\u001b[0m Trial 64 finished with value: 3830505.0541984267 and parameters: {'nleaves': 113, 'bagfrac': 0.9281949142159273, 'bagfreq': 6, 'featfrac': 0.9348886992692456, 'lambda_l1': 7.85896351067744e-06, 'lambda_l2': 3.520734025334215e-06, 'minchild': 34}. Best is trial 4 with value: 3646073.352655314.\u001b[0m\n"
     ]
    },
    {
     "name": "stdout",
     "output_type": "stream",
     "text": [
      "Early stopping, best iteration is:\n",
      "[143]\ttraining's l1: 684777\tvalid_1's l1: 3.83051e+06\n",
      "Training until validation scores don't improve for 5 rounds\n"
     ]
    },
    {
     "name": "stderr",
     "output_type": "stream",
     "text": [
      "\u001b[32m[I 2021-01-03 17:56:52,676]\u001b[0m Trial 65 finished with value: 3802598.2505283626 and parameters: {'nleaves': 148, 'bagfrac': 0.9629118720124953, 'bagfreq': 7, 'featfrac': 0.9987594651046713, 'lambda_l1': 2.250743058234194e-06, 'lambda_l2': 0.003469495825868871, 'minchild': 42}. Best is trial 4 with value: 3646073.352655314.\u001b[0m\n"
     ]
    },
    {
     "name": "stdout",
     "output_type": "stream",
     "text": [
      "Early stopping, best iteration is:\n",
      "[192]\ttraining's l1: 586627\tvalid_1's l1: 3.8026e+06\n",
      "Training until validation scores don't improve for 5 rounds\n"
     ]
    },
    {
     "name": "stderr",
     "output_type": "stream",
     "text": [
      "\u001b[32m[I 2021-01-03 17:56:54,231]\u001b[0m Trial 66 finished with value: 3672636.3250640715 and parameters: {'nleaves': 95, 'bagfrac': 0.9891392582852279, 'bagfreq': 6, 'featfrac': 0.8373169027095276, 'lambda_l1': 0.002657188235658537, 'lambda_l2': 5.601173860702326e-06, 'minchild': 28}. Best is trial 4 with value: 3646073.352655314.\u001b[0m\n"
     ]
    },
    {
     "name": "stdout",
     "output_type": "stream",
     "text": [
      "Early stopping, best iteration is:\n",
      "[137]\ttraining's l1: 488945\tvalid_1's l1: 3.67264e+06\n",
      "Training until validation scores don't improve for 5 rounds\n"
     ]
    },
    {
     "name": "stderr",
     "output_type": "stream",
     "text": [
      "\u001b[32m[I 2021-01-03 17:56:54,965]\u001b[0m Trial 67 finished with value: 3912664.2251868 and parameters: {'nleaves': 44, 'bagfrac': 0.9853110640250069, 'bagfreq': 5, 'featfrac': 0.8391691738296339, 'lambda_l1': 0.030808594798414083, 'lambda_l2': 2.8855787870452267e-05, 'minchild': 27}. Best is trial 4 with value: 3646073.352655314.\u001b[0m\n"
     ]
    },
    {
     "name": "stdout",
     "output_type": "stream",
     "text": [
      "Early stopping, best iteration is:\n",
      "[123]\ttraining's l1: 1.21954e+06\tvalid_1's l1: 3.91266e+06\n",
      "Training until validation scores don't improve for 5 rounds\n"
     ]
    },
    {
     "name": "stderr",
     "output_type": "stream",
     "text": [
      "\u001b[32m[I 2021-01-03 17:56:55,999]\u001b[0m Trial 68 finished with value: 3740609.8903322457 and parameters: {'nleaves': 69, 'bagfrac': 0.9915312105989462, 'bagfreq': 6, 'featfrac': 0.8157623408681395, 'lambda_l1': 0.0031251113590816874, 'lambda_l2': 0.00016067568048553268, 'minchild': 13}. Best is trial 4 with value: 3646073.352655314.\u001b[0m\n"
     ]
    },
    {
     "name": "stdout",
     "output_type": "stream",
     "text": [
      "Early stopping, best iteration is:\n",
      "[121]\ttraining's l1: 642224\tvalid_1's l1: 3.74061e+06\n",
      "Training until validation scores don't improve for 5 rounds\n"
     ]
    },
    {
     "name": "stderr",
     "output_type": "stream",
     "text": [
      "\u001b[32m[I 2021-01-03 17:56:57,095]\u001b[0m Trial 69 finished with value: 3786812.990905458 and parameters: {'nleaves': 191, 'bagfrac': 0.7177464696269602, 'bagfreq': 4, 'featfrac': 0.9549517961255525, 'lambda_l1': 0.0009311275847631911, 'lambda_l2': 5.81720349505324e-06, 'minchild': 31}. Best is trial 4 with value: 3646073.352655314.\u001b[0m\n"
     ]
    },
    {
     "name": "stdout",
     "output_type": "stream",
     "text": [
      "Early stopping, best iteration is:\n",
      "[171]\ttraining's l1: 753708\tvalid_1's l1: 3.78681e+06\n",
      "Training until validation scores don't improve for 5 rounds\n"
     ]
    },
    {
     "name": "stderr",
     "output_type": "stream",
     "text": [
      "\u001b[32m[I 2021-01-03 17:56:58,709]\u001b[0m Trial 70 finished with value: 3785036.638236594 and parameters: {'nleaves': 123, 'bagfrac': 0.9769814684250433, 'bagfreq': 5, 'featfrac': 0.8560597481833938, 'lambda_l1': 0.0018129365198410676, 'lambda_l2': 8.627770400736296e-05, 'minchild': 20}. Best is trial 4 with value: 3646073.352655314.\u001b[0m\n"
     ]
    },
    {
     "name": "stdout",
     "output_type": "stream",
     "text": [
      "Early stopping, best iteration is:\n",
      "[128]\ttraining's l1: 309993\tvalid_1's l1: 3.78504e+06\n",
      "Training until validation scores don't improve for 5 rounds\n"
     ]
    },
    {
     "name": "stderr",
     "output_type": "stream",
     "text": [
      "\u001b[32m[I 2021-01-03 17:56:59,558]\u001b[0m Trial 71 finished with value: 3826268.539914384 and parameters: {'nleaves': 97, 'bagfrac': 0.9439881560510327, 'bagfreq': 6, 'featfrac': 0.8695936112342024, 'lambda_l1': 0.00020298336799861547, 'lambda_l2': 1.6201183438658063e-06, 'minchild': 37}. Best is trial 4 with value: 3646073.352655314.\u001b[0m\n"
     ]
    },
    {
     "name": "stdout",
     "output_type": "stream",
     "text": [
      "Early stopping, best iteration is:\n",
      "[112]\ttraining's l1: 1.02042e+06\tvalid_1's l1: 3.82627e+06\n",
      "Training until validation scores don't improve for 5 rounds\n"
     ]
    },
    {
     "name": "stderr",
     "output_type": "stream",
     "text": [
      "\u001b[32m[I 2021-01-03 17:57:00,447]\u001b[0m Trial 72 finished with value: 3822087.1123427213 and parameters: {'nleaves': 93, 'bagfrac': 0.9982869511886268, 'bagfreq': 6, 'featfrac': 0.837335993292054, 'lambda_l1': 0.007462236327120031, 'lambda_l2': 3.086379216779971e-06, 'minchild': 57}. Best is trial 4 with value: 3646073.352655314.\u001b[0m\n"
     ]
    },
    {
     "name": "stdout",
     "output_type": "stream",
     "text": [
      "Early stopping, best iteration is:\n",
      "[182]\ttraining's l1: 959617\tvalid_1's l1: 3.82209e+06\n",
      "Training until validation scores don't improve for 5 rounds\n"
     ]
    },
    {
     "name": "stderr",
     "output_type": "stream",
     "text": [
      "\u001b[32m[I 2021-01-03 17:57:01,502]\u001b[0m Trial 73 finished with value: 3746717.8214209042 and parameters: {'nleaves': 209, 'bagfrac': 0.9711046488503474, 'bagfreq': 7, 'featfrac': 0.8979842558928001, 'lambda_l1': 0.0005226907733548139, 'lambda_l2': 1.5604193395508407e-05, 'minchild': 50}. Best is trial 4 with value: 3646073.352655314.\u001b[0m\n"
     ]
    },
    {
     "name": "stdout",
     "output_type": "stream",
     "text": [
      "Early stopping, best iteration is:\n",
      "[199]\ttraining's l1: 735805\tvalid_1's l1: 3.74672e+06\n",
      "Training until validation scores don't improve for 5 rounds\n"
     ]
    },
    {
     "name": "stderr",
     "output_type": "stream",
     "text": [
      "\u001b[32m[I 2021-01-03 17:57:02,960]\u001b[0m Trial 74 finished with value: 3932291.7366810604 and parameters: {'nleaves': 86, 'bagfrac': 0.9599569660057615, 'bagfreq': 6, 'featfrac': 0.9721461747556779, 'lambda_l1': 0.0023751927309590107, 'lambda_l2': 9.25117962962859e-06, 'minchild': 25}. Best is trial 4 with value: 3646073.352655314.\u001b[0m\n"
     ]
    },
    {
     "name": "stdout",
     "output_type": "stream",
     "text": [
      "Early stopping, best iteration is:\n",
      "[146]\ttraining's l1: 447842\tvalid_1's l1: 3.93229e+06\n",
      "Training until validation scores don't improve for 5 rounds\n"
     ]
    },
    {
     "name": "stderr",
     "output_type": "stream",
     "text": [
      "\u001b[32m[I 2021-01-03 17:57:03,900]\u001b[0m Trial 75 finished with value: 3762675.914092727 and parameters: {'nleaves': 118, 'bagfrac': 0.9891520878437434, 'bagfreq': 5, 'featfrac': 0.8853026826104118, 'lambda_l1': 1.0455301591816481e-06, 'lambda_l2': 1.0213578391790146e-06, 'minchild': 54}. Best is trial 4 with value: 3646073.352655314.\u001b[0m\n"
     ]
    },
    {
     "name": "stdout",
     "output_type": "stream",
     "text": [
      "Early stopping, best iteration is:\n",
      "[172]\ttraining's l1: 966077\tvalid_1's l1: 3.76268e+06\n",
      "Training until validation scores don't improve for 5 rounds\n"
     ]
    },
    {
     "name": "stderr",
     "output_type": "stream",
     "text": [
      "\u001b[32m[I 2021-01-03 17:57:05,202]\u001b[0m Trial 76 finished with value: 3876767.003354788 and parameters: {'nleaves': 56, 'bagfrac': 0.9529691797934234, 'bagfreq': 5, 'featfrac': 0.9451368364770227, 'lambda_l1': 6.324528802256193e-05, 'lambda_l2': 5.4110029147144136e-06, 'minchild': 46}. Best is trial 4 with value: 3646073.352655314.\u001b[0m\n"
     ]
    },
    {
     "name": "stdout",
     "output_type": "stream",
     "text": [
      "Early stopping, best iteration is:\n",
      "[200]\ttraining's l1: 675569\tvalid_1's l1: 3.87677e+06\n",
      "Training until validation scores don't improve for 5 rounds\n"
     ]
    },
    {
     "name": "stderr",
     "output_type": "stream",
     "text": [
      "\u001b[32m[I 2021-01-03 17:57:05,972]\u001b[0m Trial 77 finished with value: 3871353.959371827 and parameters: {'nleaves': 106, 'bagfrac': 0.894137696167484, 'bagfreq': 8, 'featfrac': 0.9194173611138159, 'lambda_l1': 6.101151145167029e-06, 'lambda_l2': 4.631160102462055e-05, 'minchild': 65}. Best is trial 4 with value: 3646073.352655314.\u001b[0m\n"
     ]
    },
    {
     "name": "stdout",
     "output_type": "stream",
     "text": [
      "Early stopping, best iteration is:\n",
      "[184]\ttraining's l1: 1.28799e+06\tvalid_1's l1: 3.87135e+06\n",
      "Training until validation scores don't improve for 5 rounds\n"
     ]
    },
    {
     "name": "stderr",
     "output_type": "stream",
     "text": [
      "\u001b[32m[I 2021-01-03 17:57:06,856]\u001b[0m Trial 78 finished with value: 3799497.471148439 and parameters: {'nleaves': 83, 'bagfrac': 0.9803727620546854, 'bagfreq': 4, 'featfrac': 0.8943639181572997, 'lambda_l1': 3.4631255825573076e-06, 'lambda_l2': 3.2917233610164155e-05, 'minchild': 61}. Best is trial 4 with value: 3646073.352655314.\u001b[0m\n"
     ]
    },
    {
     "name": "stdout",
     "output_type": "stream",
     "text": [
      "Early stopping, best iteration is:\n",
      "[190]\ttraining's l1: 1.02504e+06\tvalid_1's l1: 3.7995e+06\n",
      "Training until validation scores don't improve for 5 rounds\n"
     ]
    },
    {
     "name": "stderr",
     "output_type": "stream",
     "text": [
      "\u001b[32m[I 2021-01-03 17:57:07,769]\u001b[0m Trial 79 finished with value: 3659113.548879747 and parameters: {'nleaves': 64, 'bagfrac': 0.9324803930632084, 'bagfreq': 6, 'featfrac': 0.8505512511127088, 'lambda_l1': 0.18041479210695846, 'lambda_l2': 3.3708065425193483e-06, 'minchild': 72}. Best is trial 4 with value: 3646073.352655314.\u001b[0m\n"
     ]
    },
    {
     "name": "stdout",
     "output_type": "stream",
     "text": [
      "Early stopping, best iteration is:\n",
      "[255]\ttraining's l1: 985747\tvalid_1's l1: 3.65911e+06\n",
      "Training until validation scores don't improve for 5 rounds\n"
     ]
    },
    {
     "name": "stderr",
     "output_type": "stream",
     "text": [
      "\u001b[32m[I 2021-01-03 17:57:08,483]\u001b[0m Trial 80 finished with value: 3804392.955476947 and parameters: {'nleaves': 72, 'bagfrac': 0.875530494564878, 'bagfreq': 5, 'featfrac': 0.8189877718907705, 'lambda_l1': 1.053683774001118, 'lambda_l2': 0.00038806687960428704, 'minchild': 98}. Best is trial 4 with value: 3646073.352655314.\u001b[0m\n"
     ]
    },
    {
     "name": "stdout",
     "output_type": "stream",
     "text": [
      "Early stopping, best iteration is:\n",
      "[259]\ttraining's l1: 1.52858e+06\tvalid_1's l1: 3.80439e+06\n",
      "Training until validation scores don't improve for 5 rounds\n"
     ]
    },
    {
     "name": "stderr",
     "output_type": "stream",
     "text": [
      "\u001b[32m[I 2021-01-03 17:57:09,436]\u001b[0m Trial 81 finished with value: 3914894.595137156 and parameters: {'nleaves': 67, 'bagfrac': 0.930412889070507, 'bagfreq': 7, 'featfrac': 0.8498929480085547, 'lambda_l1': 0.07128507033556948, 'lambda_l2': 3.3557734295305067e-06, 'minchild': 80}. Best is trial 4 with value: 3646073.352655314.\u001b[0m\n"
     ]
    },
    {
     "name": "stdout",
     "output_type": "stream",
     "text": [
      "Early stopping, best iteration is:\n",
      "[253]\ttraining's l1: 1.16659e+06\tvalid_1's l1: 3.91489e+06\n",
      "Training until validation scores don't improve for 5 rounds\n"
     ]
    },
    {
     "name": "stderr",
     "output_type": "stream",
     "text": [
      "\u001b[32m[I 2021-01-03 17:57:10,205]\u001b[0m Trial 82 finished with value: 3819623.833680831 and parameters: {'nleaves': 77, 'bagfrac': 0.940161931792239, 'bagfreq': 6, 'featfrac': 0.861747452278282, 'lambda_l1': 0.26322808916030405, 'lambda_l2': 1.3266752397482903e-06, 'minchild': 73}. Best is trial 4 with value: 3646073.352655314.\u001b[0m\n"
     ]
    },
    {
     "name": "stdout",
     "output_type": "stream",
     "text": [
      "Early stopping, best iteration is:\n",
      "[200]\ttraining's l1: 1.26405e+06\tvalid_1's l1: 3.81962e+06\n",
      "Training until validation scores don't improve for 5 rounds\n"
     ]
    },
    {
     "name": "stderr",
     "output_type": "stream",
     "text": [
      "\u001b[32m[I 2021-01-03 17:57:11,099]\u001b[0m Trial 83 finished with value: 3851898.64935708 and parameters: {'nleaves': 61, 'bagfrac': 0.9032548533326722, 'bagfreq': 9, 'featfrac': 0.8767207946397241, 'lambda_l1': 1.6171870744804297e-06, 'lambda_l2': 2.2827760928395245e-06, 'minchild': 43}. Best is trial 4 with value: 3646073.352655314.\u001b[0m\n"
     ]
    },
    {
     "name": "stdout",
     "output_type": "stream",
     "text": [
      "Early stopping, best iteration is:\n",
      "[150]\ttraining's l1: 982070\tvalid_1's l1: 3.8519e+06\n",
      "Training until validation scores don't improve for 5 rounds\n"
     ]
    },
    {
     "name": "stderr",
     "output_type": "stream",
     "text": [
      "\u001b[32m[I 2021-01-03 17:57:12,056]\u001b[0m Trial 84 finished with value: 3796824.0301064844 and parameters: {'nleaves': 94, 'bagfrac': 0.9186991994956104, 'bagfreq': 6, 'featfrac': 0.8372415058275645, 'lambda_l1': 0.09525399717055012, 'lambda_l2': 5.263667140210491e-06, 'minchild': 51}. Best is trial 4 with value: 3646073.352655314.\u001b[0m\n"
     ]
    },
    {
     "name": "stdout",
     "output_type": "stream",
     "text": [
      "Early stopping, best iteration is:\n",
      "[178]\ttraining's l1: 969319\tvalid_1's l1: 3.79682e+06\n",
      "Training until validation scores don't improve for 5 rounds\n"
     ]
    },
    {
     "name": "stderr",
     "output_type": "stream",
     "text": [
      "\u001b[32m[I 2021-01-03 17:57:13,031]\u001b[0m Trial 85 finished with value: 3848033.867008448 and parameters: {'nleaves': 41, 'bagfrac': 0.965433442015572, 'bagfreq': 7, 'featfrac': 0.9026670115419637, 'lambda_l1': 0.004652529492863255, 'lambda_l2': 1.5002639524570328e-05, 'minchild': 74}. Best is trial 4 with value: 3646073.352655314.\u001b[0m\n"
     ]
    },
    {
     "name": "stdout",
     "output_type": "stream",
     "text": [
      "Early stopping, best iteration is:\n",
      "[262]\ttraining's l1: 977607\tvalid_1's l1: 3.84803e+06\n",
      "Training until validation scores don't improve for 5 rounds\n"
     ]
    },
    {
     "name": "stderr",
     "output_type": "stream",
     "text": [
      "\u001b[32m[I 2021-01-03 17:57:13,890]\u001b[0m Trial 86 finished with value: 3730297.1746828305 and parameters: {'nleaves': 50, 'bagfrac': 0.9349105117771975, 'bagfreq': 6, 'featfrac': 0.8694761842488292, 'lambda_l1': 0.021865405372879645, 'lambda_l2': 0.1983681256587836, 'minchild': 71}. Best is trial 4 with value: 3646073.352655314.\u001b[0m\n"
     ]
    },
    {
     "name": "stdout",
     "output_type": "stream",
     "text": [
      "Early stopping, best iteration is:\n",
      "[232]\ttraining's l1: 1.06712e+06\tvalid_1's l1: 3.7303e+06\n",
      "Training until validation scores don't improve for 5 rounds\n"
     ]
    },
    {
     "name": "stderr",
     "output_type": "stream",
     "text": [
      "\u001b[32m[I 2021-01-03 17:57:14,690]\u001b[0m Trial 87 finished with value: 3870535.3754754122 and parameters: {'nleaves': 52, 'bagfrac': 0.9472978313187936, 'bagfreq': 6, 'featfrac': 0.8555192364143815, 'lambda_l1': 0.7898474436667557, 'lambda_l2': 0.5718403801405351, 'minchild': 71}. Best is trial 4 with value: 3646073.352655314.\u001b[0m\n"
     ]
    },
    {
     "name": "stdout",
     "output_type": "stream",
     "text": [
      "Early stopping, best iteration is:\n",
      "[208]\ttraining's l1: 1.15729e+06\tvalid_1's l1: 3.87054e+06\n",
      "Training until validation scores don't improve for 5 rounds\n"
     ]
    },
    {
     "name": "stderr",
     "output_type": "stream",
     "text": [
      "\u001b[32m[I 2021-01-03 17:57:15,534]\u001b[0m Trial 88 finished with value: 3867844.9614300285 and parameters: {'nleaves': 32, 'bagfrac': 0.9103872970310747, 'bagfreq': 5, 'featfrac': 0.8653710317143333, 'lambda_l1': 0.14126234220044953, 'lambda_l2': 0.07893397105032104, 'minchild': 77}. Best is trial 4 with value: 3646073.352655314.\u001b[0m\n"
     ]
    },
    {
     "name": "stdout",
     "output_type": "stream",
     "text": [
      "Early stopping, best iteration is:\n",
      "[181]\ttraining's l1: 1.5474e+06\tvalid_1's l1: 3.86784e+06\n",
      "Training until validation scores don't improve for 5 rounds\n"
     ]
    },
    {
     "name": "stderr",
     "output_type": "stream",
     "text": [
      "\u001b[32m[I 2021-01-03 17:57:16,244]\u001b[0m Trial 89 finished with value: 3830703.3460598 and parameters: {'nleaves': 62, 'bagfrac': 0.9991532323385593, 'bagfreq': 6, 'featfrac': 0.8448826700291869, 'lambda_l1': 0.038655966448136916, 'lambda_l2': 2.506314519828327, 'minchild': 68}. Best is trial 4 with value: 3646073.352655314.\u001b[0m\n"
     ]
    },
    {
     "name": "stdout",
     "output_type": "stream",
     "text": [
      "Early stopping, best iteration is:\n",
      "[156]\ttraining's l1: 1.39457e+06\tvalid_1's l1: 3.8307e+06\n",
      "Training until validation scores don't improve for 5 rounds\n"
     ]
    },
    {
     "name": "stderr",
     "output_type": "stream",
     "text": [
      "\u001b[32m[I 2021-01-03 17:57:16,883]\u001b[0m Trial 90 finished with value: 3908388.720618514 and parameters: {'nleaves': 52, 'bagfrac': 0.7666309448112579, 'bagfreq': 5, 'featfrac': 0.7844854409033196, 'lambda_l1': 0.022144894043553208, 'lambda_l2': 0.21295760306861009, 'minchild': 88}. Best is trial 4 with value: 3646073.352655314.\u001b[0m\n"
     ]
    },
    {
     "name": "stdout",
     "output_type": "stream",
     "text": [
      "Early stopping, best iteration is:\n",
      "[219]\ttraining's l1: 1.84511e+06\tvalid_1's l1: 3.90839e+06\n",
      "Training until validation scores don't improve for 5 rounds\n"
     ]
    },
    {
     "name": "stderr",
     "output_type": "stream",
     "text": [
      "\u001b[32m[I 2021-01-03 17:57:17,717]\u001b[0m Trial 91 finished with value: 3841171.6051075757 and parameters: {'nleaves': 88, 'bagfrac': 0.9371045114645855, 'bagfreq': 6, 'featfrac': 0.8887864030674293, 'lambda_l1': 0.003171185330579304, 'lambda_l2': 0.007636456739635192, 'minchild': 78}. Best is trial 4 with value: 3646073.352655314.\u001b[0m\n"
     ]
    },
    {
     "name": "stdout",
     "output_type": "stream",
     "text": [
      "Early stopping, best iteration is:\n",
      "[238]\ttraining's l1: 1.18056e+06\tvalid_1's l1: 3.84117e+06\n",
      "Training until validation scores don't improve for 5 rounds\n"
     ]
    },
    {
     "name": "stderr",
     "output_type": "stream",
     "text": [
      "\u001b[32m[I 2021-01-03 17:57:18,468]\u001b[0m Trial 92 finished with value: 3903768.495072411 and parameters: {'nleaves': 47, 'bagfrac': 0.9238537928193755, 'bagfreq': 7, 'featfrac': 0.8802221610768565, 'lambda_l1': 0.0011403206184818742, 'lambda_l2': 0.0014233221772104788, 'minchild': 66}. Best is trial 4 with value: 3646073.352655314.\u001b[0m\n"
     ]
    },
    {
     "name": "stdout",
     "output_type": "stream",
     "text": [
      "Early stopping, best iteration is:\n",
      "[182]\ttraining's l1: 1.27985e+06\tvalid_1's l1: 3.90377e+06\n",
      "Training until validation scores don't improve for 5 rounds\n"
     ]
    },
    {
     "name": "stderr",
     "output_type": "stream",
     "text": [
      "\u001b[32m[I 2021-01-03 17:57:19,485]\u001b[0m Trial 93 finished with value: 3842463.142922229 and parameters: {'nleaves': 102, 'bagfrac': 0.9507675870027847, 'bagfreq': 5, 'featfrac': 0.8721631367899108, 'lambda_l1': 0.3253409214981352, 'lambda_l2': 0.004999780922869148, 'minchild': 40}. Best is trial 4 with value: 3646073.352655314.\u001b[0m\n"
     ]
    },
    {
     "name": "stdout",
     "output_type": "stream",
     "text": [
      "Early stopping, best iteration is:\n",
      "[116]\ttraining's l1: 1.10248e+06\tvalid_1's l1: 3.84246e+06\n",
      "Training until validation scores don't improve for 5 rounds\n"
     ]
    },
    {
     "name": "stderr",
     "output_type": "stream",
     "text": [
      "\u001b[32m[I 2021-01-03 17:57:20,242]\u001b[0m Trial 94 finished with value: 3852499.7140549333 and parameters: {'nleaves': 80, 'bagfrac': 0.931328371239732, 'bagfreq': 6, 'featfrac': 0.8937493561249887, 'lambda_l1': 0.011321877281989233, 'lambda_l2': 1.6897065507750287e-06, 'minchild': 71}. Best is trial 4 with value: 3646073.352655314.\u001b[0m\n"
     ]
    },
    {
     "name": "stdout",
     "output_type": "stream",
     "text": [
      "Early stopping, best iteration is:\n",
      "[183]\ttraining's l1: 1.35442e+06\tvalid_1's l1: 3.8525e+06\n",
      "Training until validation scores don't improve for 5 rounds\n"
     ]
    },
    {
     "name": "stderr",
     "output_type": "stream",
     "text": [
      "\u001b[32m[I 2021-01-03 17:57:21,098]\u001b[0m Trial 95 finished with value: 3859738.134946115 and parameters: {'nleaves': 159, 'bagfrac': 0.9610884987596021, 'bagfreq': 7, 'featfrac': 0.9098879009728839, 'lambda_l1': 1.1095330407166948e-05, 'lambda_l2': 9.483970076257362e-06, 'minchild': 85}. Best is trial 4 with value: 3646073.352655314.\u001b[0m\n"
     ]
    },
    {
     "name": "stdout",
     "output_type": "stream",
     "text": [
      "Early stopping, best iteration is:\n",
      "[234]\ttraining's l1: 1.28213e+06\tvalid_1's l1: 3.85974e+06\n",
      "Training until validation scores don't improve for 5 rounds\n"
     ]
    },
    {
     "name": "stderr",
     "output_type": "stream",
     "text": [
      "\u001b[32m[I 2021-01-03 17:57:22,211]\u001b[0m Trial 96 finished with value: 3786042.2492905697 and parameters: {'nleaves': 175, 'bagfrac': 0.9153608469962298, 'bagfreq': 6, 'featfrac': 0.9289094554402368, 'lambda_l1': 0.0004212881805590141, 'lambda_l2': 4.148175467714385e-06, 'minchild': 48}. Best is trial 4 with value: 3646073.352655314.\u001b[0m\n"
     ]
    },
    {
     "name": "stdout",
     "output_type": "stream",
     "text": [
      "Early stopping, best iteration is:\n",
      "[189]\ttraining's l1: 817254\tvalid_1's l1: 3.78604e+06\n",
      "Training until validation scores don't improve for 5 rounds\n"
     ]
    },
    {
     "name": "stderr",
     "output_type": "stream",
     "text": [
      "\u001b[32m[I 2021-01-03 17:57:23,173]\u001b[0m Trial 97 finished with value: 3786658.1979568033 and parameters: {'nleaves': 65, 'bagfrac': 0.9695993626606925, 'bagfreq': 5, 'featfrac': 0.9638100750860944, 'lambda_l1': 2.9708777442556527e-06, 'lambda_l2': 0.044455067080980064, 'minchild': 55}. Best is trial 4 with value: 3646073.352655314.\u001b[0m\n"
     ]
    },
    {
     "name": "stdout",
     "output_type": "stream",
     "text": [
      "Early stopping, best iteration is:\n",
      "[186]\ttraining's l1: 920080\tvalid_1's l1: 3.78666e+06\n",
      "Training until validation scores don't improve for 5 rounds\n"
     ]
    },
    {
     "name": "stderr",
     "output_type": "stream",
     "text": [
      "\u001b[32m[I 2021-01-03 17:57:23,862]\u001b[0m Trial 98 finished with value: 3841264.3638818623 and parameters: {'nleaves': 71, 'bagfrac': 0.9823130414998179, 'bagfreq': 4, 'featfrac': 0.8312619975907952, 'lambda_l1': 2.724059608079717e-05, 'lambda_l2': 0.012338604412566642, 'minchild': 92}. Best is trial 4 with value: 3646073.352655314.\u001b[0m\n"
     ]
    },
    {
     "name": "stdout",
     "output_type": "stream",
     "text": [
      "Early stopping, best iteration is:\n",
      "[200]\ttraining's l1: 1.55428e+06\tvalid_1's l1: 3.84126e+06\n",
      "Training until validation scores don't improve for 5 rounds\n"
     ]
    },
    {
     "name": "stderr",
     "output_type": "stream",
     "text": [
      "\u001b[32m[I 2021-01-03 17:57:24,974]\u001b[0m Trial 99 finished with value: 3840292.7746682717 and parameters: {'nleaves': 76, 'bagfrac': 0.9441077191583588, 'bagfreq': 6, 'featfrac': 0.8823479994657281, 'lambda_l1': 0.009284804003978256, 'lambda_l2': 2.1430928177286877e-05, 'minchild': 32}. Best is trial 4 with value: 3646073.352655314.\u001b[0m\n"
     ]
    },
    {
     "name": "stdout",
     "output_type": "stream",
     "text": [
      "Early stopping, best iteration is:\n",
      "[128]\ttraining's l1: 738412\tvalid_1's l1: 3.84029e+06\n",
      "Training until validation scores don't improve for 5 rounds\n"
     ]
    },
    {
     "name": "stderr",
     "output_type": "stream",
     "text": [
      "\u001b[32m[I 2021-01-03 17:57:25,822]\u001b[0m Trial 100 finished with value: 3781553.089579826 and parameters: {'nleaves': 137, 'bagfrac': 0.8829088176776438, 'bagfreq': 7, 'featfrac': 0.8532326108349125, 'lambda_l1': 1.0157331675034366e-06, 'lambda_l2': 0.0006337789856207423, 'minchild': 63}. Best is trial 4 with value: 3646073.352655314.\u001b[0m\n"
     ]
    },
    {
     "name": "stdout",
     "output_type": "stream",
     "text": [
      "Early stopping, best iteration is:\n",
      "[211]\ttraining's l1: 1.13466e+06\tvalid_1's l1: 3.78155e+06\n",
      "Training until validation scores don't improve for 5 rounds\n"
     ]
    },
    {
     "name": "stderr",
     "output_type": "stream",
     "text": [
      "\u001b[32m[I 2021-01-03 17:57:27,804]\u001b[0m Trial 101 finished with value: 3769472.3603971656 and parameters: {'nleaves': 91, 'bagfrac': 0.9910585658211759, 'bagfreq': 6, 'featfrac': 0.8101964913980476, 'lambda_l1': 0.002357416727017507, 'lambda_l2': 0.00018651357744673327, 'minchild': 8}. Best is trial 4 with value: 3646073.352655314.\u001b[0m\n"
     ]
    },
    {
     "name": "stdout",
     "output_type": "stream",
     "text": [
      "Early stopping, best iteration is:\n",
      "[209]\ttraining's l1: 108027\tvalid_1's l1: 3.76947e+06\n",
      "Training until validation scores don't improve for 5 rounds\n"
     ]
    },
    {
     "name": "stderr",
     "output_type": "stream",
     "text": [
      "\u001b[32m[I 2021-01-03 17:57:29,215]\u001b[0m Trial 102 finished with value: 3762827.9168784376 and parameters: {'nleaves': 58, 'bagfrac': 0.9943691398719164, 'bagfreq': 6, 'featfrac': 0.8220489160734225, 'lambda_l1': 0.00443308046655113, 'lambda_l2': 0.00010540948395125501, 'minchild': 16}. Best is trial 4 with value: 3646073.352655314.\u001b[0m\n"
     ]
    },
    {
     "name": "stdout",
     "output_type": "stream",
     "text": [
      "Early stopping, best iteration is:\n",
      "[228]\ttraining's l1: 313288\tvalid_1's l1: 3.76283e+06\n",
      "Training until validation scores don't improve for 5 rounds\n"
     ]
    },
    {
     "name": "stderr",
     "output_type": "stream",
     "text": [
      "\u001b[32m[I 2021-01-03 17:57:30,203]\u001b[0m Trial 103 finished with value: 3776086.439887922 and parameters: {'nleaves': 68, 'bagfrac': 0.975253429652198, 'bagfreq': 6, 'featfrac': 0.8673647709237412, 'lambda_l1': 0.0007663454798369915, 'lambda_l2': 0.00014901641955308194, 'minchild': 10}. Best is trial 4 with value: 3646073.352655314.\u001b[0m\n"
     ]
    },
    {
     "name": "stdout",
     "output_type": "stream",
     "text": [
      "Early stopping, best iteration is:\n",
      "[103]\ttraining's l1: 770277\tvalid_1's l1: 3.77609e+06\n",
      "Training until validation scores don't improve for 5 rounds\n"
     ]
    },
    {
     "name": "stderr",
     "output_type": "stream",
     "text": [
      "\u001b[32m[I 2021-01-03 17:57:31,459]\u001b[0m Trial 104 finished with value: 3919351.672567351 and parameters: {'nleaves': 97, 'bagfrac': 0.992706920290238, 'bagfreq': 5, 'featfrac': 0.8089724897046792, 'lambda_l1': 0.0235940807492185, 'lambda_l2': 5.690838677831313e-05, 'minchild': 20}. Best is trial 4 with value: 3646073.352655314.\u001b[0m\n"
     ]
    },
    {
     "name": "stdout",
     "output_type": "stream",
     "text": [
      "Early stopping, best iteration is:\n",
      "[126]\ttraining's l1: 412724\tvalid_1's l1: 3.91935e+06\n",
      "Training until validation scores don't improve for 5 rounds\n"
     ]
    },
    {
     "name": "stderr",
     "output_type": "stream",
     "text": [
      "\u001b[32m[I 2021-01-03 17:57:32,421]\u001b[0m Trial 105 finished with value: 3858801.4087651437 and parameters: {'nleaves': 72, 'bagfrac': 0.9237816440589377, 'bagfreq': 6, 'featfrac': 0.8003098139771945, 'lambda_l1': 0.014415798079113572, 'lambda_l2': 0.00032632202263034425, 'minchild': 52}. Best is trial 4 with value: 3646073.352655314.\u001b[0m\n"
     ]
    },
    {
     "name": "stdout",
     "output_type": "stream",
     "text": [
      "Early stopping, best iteration is:\n",
      "[181]\ttraining's l1: 965949\tvalid_1's l1: 3.8588e+06\n",
      "Training until validation scores don't improve for 5 rounds\n"
     ]
    },
    {
     "name": "stderr",
     "output_type": "stream",
     "text": [
      "\u001b[32m[I 2021-01-03 17:57:33,597]\u001b[0m Trial 106 finished with value: 3798521.136623213 and parameters: {'nleaves': 228, 'bagfrac': 0.8979790062455157, 'bagfreq': 5, 'featfrac': 0.8144056329340118, 'lambda_l1': 1.9373210604069653e-06, 'lambda_l2': 2.3527456530958573e-06, 'minchild': 45}. Best is trial 4 with value: 3646073.352655314.\u001b[0m\n"
     ]
    },
    {
     "name": "stdout",
     "output_type": "stream",
     "text": [
      "Early stopping, best iteration is:\n",
      "[180]\ttraining's l1: 862651\tvalid_1's l1: 3.79852e+06\n",
      "Training until validation scores don't improve for 5 rounds\n"
     ]
    },
    {
     "name": "stderr",
     "output_type": "stream",
     "text": [
      "\u001b[32m[I 2021-01-03 17:57:35,094]\u001b[0m Trial 107 finished with value: 3837687.611806164 and parameters: {'nleaves': 84, 'bagfrac': 0.7889323763851644, 'bagfreq': 6, 'featfrac': 0.8587598144215369, 'lambda_l1': 0.0017084524399517075, 'lambda_l2': 0.002142438427190794, 'minchild': 13}. Best is trial 4 with value: 3646073.352655314.\u001b[0m\n"
     ]
    },
    {
     "name": "stdout",
     "output_type": "stream",
     "text": [
      "Early stopping, best iteration is:\n",
      "[158]\ttraining's l1: 334818\tvalid_1's l1: 3.83769e+06\n",
      "Training until validation scores don't improve for 5 rounds\n"
     ]
    },
    {
     "name": "stderr",
     "output_type": "stream",
     "text": [
      "\u001b[32m[I 2021-01-03 17:57:35,722]\u001b[0m Trial 108 finished with value: 3898203.437597112 and parameters: {'nleaves': 109, 'bagfrac': 0.9337376130070609, 'bagfreq': 5, 'featfrac': 0.9039463224367582, 'lambda_l1': 4.734787222686162e-06, 'lambda_l2': 7.139821464694461e-06, 'minchild': 57}. Best is trial 4 with value: 3646073.352655314.\u001b[0m\n"
     ]
    },
    {
     "name": "stdout",
     "output_type": "stream",
     "text": [
      "Early stopping, best iteration is:\n",
      "[107]\ttraining's l1: 1.6998e+06\tvalid_1's l1: 3.8982e+06\n",
      "Training until validation scores don't improve for 5 rounds\n"
     ]
    },
    {
     "name": "stderr",
     "output_type": "stream",
     "text": [
      "\u001b[32m[I 2021-01-03 17:57:36,675]\u001b[0m Trial 109 finished with value: 3857050.1038180925 and parameters: {'nleaves': 57, 'bagfrac': 0.9867832206635693, 'bagfreq': 7, 'featfrac': 0.8446086531969831, 'lambda_l1': 0.0029970168391210963, 'lambda_l2': 2.9427621028751277e-06, 'minchild': 60}. Best is trial 4 with value: 3646073.352655314.\u001b[0m\n"
     ]
    },
    {
     "name": "stdout",
     "output_type": "stream",
     "text": [
      "Early stopping, best iteration is:\n",
      "[209]\ttraining's l1: 907855\tvalid_1's l1: 3.85705e+06\n",
      "Training until validation scores don't improve for 5 rounds\n"
     ]
    },
    {
     "name": "stderr",
     "output_type": "stream",
     "text": [
      "\u001b[32m[I 2021-01-03 17:57:37,887]\u001b[0m Trial 110 finished with value: 3808660.0944641996 and parameters: {'nleaves': 38, 'bagfrac': 0.9544747047040274, 'bagfreq': 6, 'featfrac': 0.9154950221183644, 'lambda_l1': 0.04948453034512971, 'lambda_l2': 1.3466833236304014e-06, 'minchild': 1}. Best is trial 4 with value: 3646073.352655314.\u001b[0m\n"
     ]
    },
    {
     "name": "stdout",
     "output_type": "stream",
     "text": [
      "Early stopping, best iteration is:\n",
      "[186]\ttraining's l1: 859444\tvalid_1's l1: 3.80866e+06\n",
      "Training until validation scores don't improve for 5 rounds\n"
     ]
    },
    {
     "name": "stderr",
     "output_type": "stream",
     "text": [
      "\u001b[32m[I 2021-01-03 17:57:38,908]\u001b[0m Trial 111 finished with value: 3688320.1102155745 and parameters: {'nleaves': 65, 'bagfrac': 0.9790308594205837, 'bagfreq': 4, 'featfrac': 0.8421241922449162, 'lambda_l1': 8.718110435150737e-05, 'lambda_l2': 0.012589270184323851, 'minchild': 48}. Best is trial 4 with value: 3646073.352655314.\u001b[0m\n"
     ]
    },
    {
     "name": "stdout",
     "output_type": "stream",
     "text": [
      "Early stopping, best iteration is:\n",
      "[186]\ttraining's l1: 759083\tvalid_1's l1: 3.68832e+06\n",
      "Training until validation scores don't improve for 5 rounds\n"
     ]
    },
    {
     "name": "stderr",
     "output_type": "stream",
     "text": [
      "\u001b[32m[I 2021-01-03 17:57:39,931]\u001b[0m Trial 112 finished with value: 3851956.073934659 and parameters: {'nleaves': 65, 'bagfrac': 0.980880916191761, 'bagfreq': 3, 'featfrac': 0.8368141760393094, 'lambda_l1': 0.0002215190198088463, 'lambda_l2': 0.1839108043425949, 'minchild': 49}. Best is trial 4 with value: 3646073.352655314.\u001b[0m\n"
     ]
    },
    {
     "name": "stdout",
     "output_type": "stream",
     "text": [
      "Early stopping, best iteration is:\n",
      "[187]\ttraining's l1: 774799\tvalid_1's l1: 3.85196e+06\n",
      "Training until validation scores don't improve for 5 rounds\n"
     ]
    },
    {
     "name": "stderr",
     "output_type": "stream",
     "text": [
      "\u001b[32m[I 2021-01-03 17:57:41,209]\u001b[0m Trial 113 finished with value: 3726759.8225456728 and parameters: {'nleaves': 48, 'bagfrac': 0.9995699956531175, 'bagfreq': 4, 'featfrac': 0.8250032720591973, 'lambda_l1': 9.041546910059265e-05, 'lambda_l2': 9.967733590713307, 'minchild': 53}. Best is trial 4 with value: 3646073.352655314.\u001b[0m\n"
     ]
    },
    {
     "name": "stdout",
     "output_type": "stream",
     "text": [
      "Early stopping, best iteration is:\n",
      "[284]\ttraining's l1: 589422\tvalid_1's l1: 3.72676e+06\n",
      "Training until validation scores don't improve for 5 rounds\n"
     ]
    },
    {
     "name": "stderr",
     "output_type": "stream",
     "text": [
      "\u001b[32m[I 2021-01-03 17:57:42,461]\u001b[0m Trial 114 finished with value: 3745358.7301713577 and parameters: {'nleaves': 43, 'bagfrac': 0.9995350414785685, 'bagfreq': 3, 'featfrac': 0.8294252704360687, 'lambda_l1': 0.00013768002282256344, 'lambda_l2': 5.721858617561507, 'minchild': 53}. Best is trial 4 with value: 3646073.352655314.\u001b[0m\n"
     ]
    },
    {
     "name": "stdout",
     "output_type": "stream",
     "text": [
      "Early stopping, best iteration is:\n",
      "[269]\ttraining's l1: 645770\tvalid_1's l1: 3.74536e+06\n",
      "Training until validation scores don't improve for 5 rounds\n"
     ]
    },
    {
     "name": "stderr",
     "output_type": "stream",
     "text": [
      "\u001b[32m[I 2021-01-03 17:57:43,747]\u001b[0m Trial 115 finished with value: 3700264.082856829 and parameters: {'nleaves': 48, 'bagfrac': 0.9735041760798102, 'bagfreq': 4, 'featfrac': 0.825106088314948, 'lambda_l1': 4.156785636476459e-05, 'lambda_l2': 1.711131033950471, 'minchild': 29}. Best is trial 4 with value: 3646073.352655314.\u001b[0m\n"
     ]
    },
    {
     "name": "stdout",
     "output_type": "stream",
     "text": [
      "Early stopping, best iteration is:\n",
      "[249]\ttraining's l1: 480070\tvalid_1's l1: 3.70026e+06\n",
      "Training until validation scores don't improve for 5 rounds\n"
     ]
    },
    {
     "name": "stderr",
     "output_type": "stream",
     "text": [
      "\u001b[32m[I 2021-01-03 17:57:44,613]\u001b[0m Trial 116 finished with value: 3806539.9671762087 and parameters: {'nleaves': 47, 'bagfrac': 0.9752218650926157, 'bagfreq': 4, 'featfrac': 0.8278605522779199, 'lambda_l1': 7.946102035441255e-05, 'lambda_l2': 1.4819976940061563, 'minchild': 35}. Best is trial 4 with value: 3646073.352655314.\u001b[0m\n"
     ]
    },
    {
     "name": "stdout",
     "output_type": "stream",
     "text": [
      "Early stopping, best iteration is:\n",
      "[149]\ttraining's l1: 1.00853e+06\tvalid_1's l1: 3.80654e+06\n",
      "Training until validation scores don't improve for 5 rounds\n"
     ]
    },
    {
     "name": "stderr",
     "output_type": "stream",
     "text": [
      "\u001b[32m[I 2021-01-03 17:57:46,292]\u001b[0m Trial 117 finished with value: 3648931.4567641974 and parameters: {'nleaves': 53, 'bagfrac': 0.9664889740395922, 'bagfreq': 4, 'featfrac': 0.85041149083698, 'lambda_l1': 9.056103304368582e-05, 'lambda_l2': 9.720947878649635, 'minchild': 23}. Best is trial 4 with value: 3646073.352655314.\u001b[0m\n"
     ]
    },
    {
     "name": "stdout",
     "output_type": "stream",
     "text": [
      "Early stopping, best iteration is:\n",
      "[289]\ttraining's l1: 359223\tvalid_1's l1: 3.64893e+06\n",
      "Training until validation scores don't improve for 5 rounds\n"
     ]
    },
    {
     "name": "stderr",
     "output_type": "stream",
     "text": [
      "\u001b[32m[I 2021-01-03 17:57:47,783]\u001b[0m Trial 118 finished with value: 3801050.9709866247 and parameters: {'nleaves': 52, 'bagfrac': 0.9661531179781153, 'bagfreq': 4, 'featfrac': 0.8500245225839457, 'lambda_l1': 4.0766153457844355e-05, 'lambda_l2': 9.175806706717106, 'minchild': 29}. Best is trial 4 with value: 3646073.352655314.\u001b[0m\n"
     ]
    },
    {
     "name": "stdout",
     "output_type": "stream",
     "text": [
      "Early stopping, best iteration is:\n",
      "[268]\ttraining's l1: 437769\tvalid_1's l1: 3.80105e+06\n",
      "Training until validation scores don't improve for 5 rounds\n"
     ]
    },
    {
     "name": "stderr",
     "output_type": "stream",
     "text": [
      "\u001b[32m[I 2021-01-03 17:57:49,005]\u001b[0m Trial 119 finished with value: 3674172.853867635 and parameters: {'nleaves': 34, 'bagfrac': 0.9563997770961723, 'bagfreq': 4, 'featfrac': 0.8420479397836458, 'lambda_l1': 0.00010276847340707288, 'lambda_l2': 2.5197906002534523, 'minchild': 26}. Best is trial 4 with value: 3646073.352655314.\u001b[0m\n"
     ]
    },
    {
     "name": "stdout",
     "output_type": "stream",
     "text": [
      "Early stopping, best iteration is:\n",
      "[329]\ttraining's l1: 547518\tvalid_1's l1: 3.67417e+06\n",
      "Training until validation scores don't improve for 5 rounds\n"
     ]
    },
    {
     "name": "stderr",
     "output_type": "stream",
     "text": [
      "\u001b[32m[I 2021-01-03 17:57:50,149]\u001b[0m Trial 120 finished with value: 3648305.083666379 and parameters: {'nleaves': 34, 'bagfrac': 0.9618512862305832, 'bagfreq': 3, 'featfrac': 0.8240009208779279, 'lambda_l1': 0.00011719080519797929, 'lambda_l2': 2.958138225783127, 'minchild': 28}. Best is trial 4 with value: 3646073.352655314.\u001b[0m\n"
     ]
    },
    {
     "name": "stdout",
     "output_type": "stream",
     "text": [
      "Early stopping, best iteration is:\n",
      "[310]\ttraining's l1: 613834\tvalid_1's l1: 3.64831e+06\n",
      "Training until validation scores don't improve for 5 rounds\n"
     ]
    },
    {
     "name": "stderr",
     "output_type": "stream",
     "text": [
      "\u001b[32m[I 2021-01-03 17:57:51,363]\u001b[0m Trial 121 finished with value: 3696158.742929152 and parameters: {'nleaves': 38, 'bagfrac': 0.9610013311874332, 'bagfreq': 3, 'featfrac': 0.8239657310586206, 'lambda_l1': 0.00010657563282473904, 'lambda_l2': 3.3393675710780055, 'minchild': 24}. Best is trial 4 with value: 3646073.352655314.\u001b[0m\n"
     ]
    },
    {
     "name": "stdout",
     "output_type": "stream",
     "text": [
      "Early stopping, best iteration is:\n",
      "[288]\ttraining's l1: 565982\tvalid_1's l1: 3.69616e+06\n",
      "Training until validation scores don't improve for 5 rounds\n"
     ]
    },
    {
     "name": "stderr",
     "output_type": "stream",
     "text": [
      "\u001b[32m[I 2021-01-03 17:57:52,390]\u001b[0m Trial 122 finished with value: 3680398.9869144107 and parameters: {'nleaves': 35, 'bagfrac': 0.9587301730402692, 'bagfreq': 3, 'featfrac': 0.8005203548328607, 'lambda_l1': 9.772277807041406e-05, 'lambda_l2': 2.7350271416818965, 'minchild': 23}. Best is trial 4 with value: 3646073.352655314.\u001b[0m\n"
     ]
    },
    {
     "name": "stdout",
     "output_type": "stream",
     "text": [
      "Early stopping, best iteration is:\n",
      "[226]\ttraining's l1: 864720\tvalid_1's l1: 3.6804e+06\n",
      "Training until validation scores don't improve for 5 rounds\n"
     ]
    },
    {
     "name": "stderr",
     "output_type": "stream",
     "text": [
      "\u001b[32m[I 2021-01-03 17:57:53,488]\u001b[0m Trial 123 finished with value: 3647923.2810162087 and parameters: {'nleaves': 35, 'bagfrac': 0.9586892790114775, 'bagfreq': 3, 'featfrac': 0.7608820529955005, 'lambda_l1': 0.00017722177624401587, 'lambda_l2': 3.2073365911667144, 'minchild': 23}. Best is trial 4 with value: 3646073.352655314.\u001b[0m\n"
     ]
    },
    {
     "name": "stdout",
     "output_type": "stream",
     "text": [
      "Early stopping, best iteration is:\n",
      "[281]\ttraining's l1: 670010\tvalid_1's l1: 3.64792e+06\n",
      "Training until validation scores don't improve for 5 rounds\n"
     ]
    },
    {
     "name": "stderr",
     "output_type": "stream",
     "text": [
      "\u001b[32m[I 2021-01-03 17:57:54,455]\u001b[0m Trial 124 finished with value: 3795299.123484391 and parameters: {'nleaves': 34, 'bagfrac': 0.963781115207632, 'bagfreq': 3, 'featfrac': 0.7600332505528499, 'lambda_l1': 0.00015741288798606638, 'lambda_l2': 2.055471157415579, 'minchild': 24}. Best is trial 4 with value: 3646073.352655314.\u001b[0m\n"
     ]
    },
    {
     "name": "stdout",
     "output_type": "stream",
     "text": [
      "Early stopping, best iteration is:\n",
      "[218]\ttraining's l1: 969724\tvalid_1's l1: 3.7953e+06\n",
      "Training until validation scores don't improve for 5 rounds\n"
     ]
    },
    {
     "name": "stderr",
     "output_type": "stream",
     "text": [
      "\u001b[32m[I 2021-01-03 17:57:55,718]\u001b[0m Trial 125 finished with value: 3758565.5779799386 and parameters: {'nleaves': 40, 'bagfrac': 0.9592003142193908, 'bagfreq': 2, 'featfrac': 0.7571295391933606, 'lambda_l1': 0.00011561290413058604, 'lambda_l2': 4.341622010906302, 'minchild': 22}. Best is trial 4 with value: 3646073.352655314.\u001b[0m\n"
     ]
    },
    {
     "name": "stdout",
     "output_type": "stream",
     "text": [
      "Early stopping, best iteration is:\n",
      "[268]\ttraining's l1: 592884\tvalid_1's l1: 3.75857e+06\n",
      "Training until validation scores don't improve for 5 rounds\n"
     ]
    },
    {
     "name": "stderr",
     "output_type": "stream",
     "text": [
      "\u001b[32m[I 2021-01-03 17:57:56,690]\u001b[0m Trial 126 finished with value: 3761241.539694379 and parameters: {'nleaves': 35, 'bagfrac': 0.9723007748115029, 'bagfreq': 3, 'featfrac': 0.7988127813909993, 'lambda_l1': 0.0002514894257633455, 'lambda_l2': 0.878428991258089, 'minchild': 28}. Best is trial 4 with value: 3646073.352655314.\u001b[0m\n"
     ]
    },
    {
     "name": "stdout",
     "output_type": "stream",
     "text": [
      "Early stopping, best iteration is:\n",
      "[236]\ttraining's l1: 834707\tvalid_1's l1: 3.76124e+06\n",
      "Training until validation scores don't improve for 5 rounds\n"
     ]
    },
    {
     "name": "stderr",
     "output_type": "stream",
     "text": [
      "\u001b[32m[I 2021-01-03 17:57:57,735]\u001b[0m Trial 127 finished with value: 3654654.180512078 and parameters: {'nleaves': 32, 'bagfrac': 0.956905593264334, 'bagfreq': 3, 'featfrac': 0.7075384996607222, 'lambda_l1': 0.0003107262438823879, 'lambda_l2': 3.4707102358220414, 'minchild': 18}. Best is trial 4 with value: 3646073.352655314.\u001b[0m\n"
     ]
    },
    {
     "name": "stdout",
     "output_type": "stream",
     "text": [
      "Early stopping, best iteration is:\n",
      "[281]\ttraining's l1: 787629\tvalid_1's l1: 3.65465e+06\n",
      "Training until validation scores don't improve for 5 rounds\n"
     ]
    },
    {
     "name": "stderr",
     "output_type": "stream",
     "text": [
      "\u001b[32m[I 2021-01-03 17:57:59,080]\u001b[0m Trial 128 finished with value: 3699441.9564876095 and parameters: {'nleaves': 37, 'bagfrac': 0.9549378446072552, 'bagfreq': 3, 'featfrac': 0.7101035061676731, 'lambda_l1': 5.437336875730357e-05, 'lambda_l2': 3.263395697602952, 'minchild': 23}. Best is trial 4 with value: 3646073.352655314.\u001b[0m\n"
     ]
    },
    {
     "name": "stdout",
     "output_type": "stream",
     "text": [
      "Early stopping, best iteration is:\n",
      "[371]\ttraining's l1: 401252\tvalid_1's l1: 3.69944e+06\n",
      "Training until validation scores don't improve for 5 rounds\n"
     ]
    },
    {
     "name": "stderr",
     "output_type": "stream",
     "text": [
      "\u001b[32m[I 2021-01-03 17:58:00,206]\u001b[0m Trial 129 finished with value: 3778095.7663290063 and parameters: {'nleaves': 32, 'bagfrac': 0.9559189003121418, 'bagfreq': 3, 'featfrac': 0.7134345052725835, 'lambda_l1': 5.762937181456156e-05, 'lambda_l2': 3.262549548531075, 'minchild': 18}. Best is trial 4 with value: 3646073.352655314.\u001b[0m\n"
     ]
    },
    {
     "name": "stdout",
     "output_type": "stream",
     "text": [
      "Early stopping, best iteration is:\n",
      "[327]\ttraining's l1: 627898\tvalid_1's l1: 3.7781e+06\n",
      "Training until validation scores don't improve for 5 rounds\n"
     ]
    },
    {
     "name": "stderr",
     "output_type": "stream",
     "text": [
      "\u001b[32m[I 2021-01-03 17:58:01,087]\u001b[0m Trial 130 finished with value: 3733834.5209364956 and parameters: {'nleaves': 40, 'bagfrac': 0.9481645683765877, 'bagfreq': 2, 'featfrac': 0.7181747409814965, 'lambda_l1': 0.0003479744924637675, 'lambda_l2': 1.0288459395689262, 'minchild': 23}. Best is trial 4 with value: 3646073.352655314.\u001b[0m\n"
     ]
    },
    {
     "name": "stdout",
     "output_type": "stream",
     "text": [
      "Early stopping, best iteration is:\n",
      "[181]\ttraining's l1: 944889\tvalid_1's l1: 3.73383e+06\n",
      "Training until validation scores don't improve for 5 rounds\n"
     ]
    },
    {
     "name": "stderr",
     "output_type": "stream",
     "text": [
      "\u001b[32m[I 2021-01-03 17:58:02,394]\u001b[0m Trial 131 finished with value: 3740316.7623381456 and parameters: {'nleaves': 37, 'bagfrac': 0.9607197449669644, 'bagfreq': 2, 'featfrac': 0.7877983751879996, 'lambda_l1': 0.00018592401922026337, 'lambda_l2': 5.768094483934465, 'minchild': 18}. Best is trial 4 with value: 3646073.352655314.\u001b[0m\n"
     ]
    },
    {
     "name": "stdout",
     "output_type": "stream",
     "text": [
      "Early stopping, best iteration is:\n",
      "[231]\ttraining's l1: 792156\tvalid_1's l1: 3.74032e+06\n",
      "Training until validation scores don't improve for 5 rounds\n"
     ]
    },
    {
     "name": "stderr",
     "output_type": "stream",
     "text": [
      "\u001b[32m[I 2021-01-03 17:58:03,528]\u001b[0m Trial 132 finished with value: 3724867.072297115 and parameters: {'nleaves': 44, 'bagfrac': 0.9701321471823557, 'bagfreq': 3, 'featfrac': 0.7246863869529419, 'lambda_l1': 1.891664502539264e-05, 'lambda_l2': 1.4938113715307388, 'minchild': 27}. Best is trial 4 with value: 3646073.352655314.\u001b[0m\n"
     ]
    },
    {
     "name": "stdout",
     "output_type": "stream",
     "text": [
      "Early stopping, best iteration is:\n",
      "[250]\ttraining's l1: 546515\tvalid_1's l1: 3.72487e+06\n",
      "Training until validation scores don't improve for 5 rounds\n"
     ]
    },
    {
     "name": "stderr",
     "output_type": "stream",
     "text": [
      "\u001b[32m[I 2021-01-03 17:58:04,543]\u001b[0m Trial 133 finished with value: 3722832.866151393 and parameters: {'nleaves': 32, 'bagfrac': 0.953620360467823, 'bagfreq': 3, 'featfrac': 0.7022724225627585, 'lambda_l1': 8.6026083277371e-05, 'lambda_l2': 3.408817275572637, 'minchild': 25}. Best is trial 4 with value: 3646073.352655314.\u001b[0m\n"
     ]
    },
    {
     "name": "stdout",
     "output_type": "stream",
     "text": [
      "Early stopping, best iteration is:\n",
      "[230]\ttraining's l1: 993105\tvalid_1's l1: 3.72283e+06\n",
      "Training until validation scores don't improve for 5 rounds\n"
     ]
    },
    {
     "name": "stderr",
     "output_type": "stream",
     "text": [
      "\u001b[32m[I 2021-01-03 17:58:05,296]\u001b[0m Trial 134 finished with value: 3863772.7799095493 and parameters: {'nleaves': 37, 'bagfrac': 0.9777438472699007, 'bagfreq': 3, 'featfrac': 0.7739718250442245, 'lambda_l1': 5.0729627058064756e-05, 'lambda_l2': 7.242092813934939, 'minchild': 30}. Best is trial 4 with value: 3646073.352655314.\u001b[0m\n"
     ]
    },
    {
     "name": "stdout",
     "output_type": "stream",
     "text": [
      "Early stopping, best iteration is:\n",
      "[143]\ttraining's l1: 1.40959e+06\tvalid_1's l1: 3.86377e+06\n",
      "Training until validation scores don't improve for 5 rounds\n"
     ]
    },
    {
     "name": "stderr",
     "output_type": "stream",
     "text": [
      "\u001b[32m[I 2021-01-03 17:58:06,290]\u001b[0m Trial 135 finished with value: 3724682.5333322394 and parameters: {'nleaves': 54, 'bagfrac': 0.9459612914016503, 'bagfreq': 3, 'featfrac': 0.736167109126987, 'lambda_l1': 0.00011512491293455998, 'lambda_l2': 2.1073619297130675, 'minchild': 26}. Best is trial 4 with value: 3646073.352655314.\u001b[0m\n"
     ]
    },
    {
     "name": "stdout",
     "output_type": "stream",
     "text": [
      "Early stopping, best iteration is:\n",
      "[146]\ttraining's l1: 868007\tvalid_1's l1: 3.72468e+06\n",
      "Training until validation scores don't improve for 5 rounds\n"
     ]
    },
    {
     "name": "stderr",
     "output_type": "stream",
     "text": [
      "\u001b[32m[I 2021-01-03 17:58:07,431]\u001b[0m Trial 136 finished with value: 3739119.4498247197 and parameters: {'nleaves': 43, 'bagfrac': 0.9663806216375237, 'bagfreq': 3, 'featfrac': 0.8402177771810239, 'lambda_l1': 3.5579369022652895e-05, 'lambda_l2': 3.4143667471649275, 'minchild': 19}. Best is trial 4 with value: 3646073.352655314.\u001b[0m\n"
     ]
    },
    {
     "name": "stdout",
     "output_type": "stream",
     "text": [
      "Early stopping, best iteration is:\n",
      "[226]\ttraining's l1: 629761\tvalid_1's l1: 3.73912e+06\n",
      "Training until validation scores don't improve for 5 rounds\n"
     ]
    },
    {
     "name": "stderr",
     "output_type": "stream",
     "text": [
      "\u001b[32m[I 2021-01-03 17:58:08,256]\u001b[0m Trial 137 finished with value: 3806293.8765897523 and parameters: {'nleaves': 45, 'bagfrac': 0.9596229487923931, 'bagfreq': 4, 'featfrac': 0.8188521972937214, 'lambda_l1': 0.0002866726022310222, 'lambda_l2': 1.6413653709295515, 'minchild': 22}. Best is trial 4 with value: 3646073.352655314.\u001b[0m\n"
     ]
    },
    {
     "name": "stdout",
     "output_type": "stream",
     "text": [
      "Early stopping, best iteration is:\n",
      "[132]\ttraining's l1: 1.1127e+06\tvalid_1's l1: 3.80629e+06\n",
      "Training until validation scores don't improve for 5 rounds\n"
     ]
    },
    {
     "name": "stderr",
     "output_type": "stream",
     "text": [
      "\u001b[32m[I 2021-01-03 17:58:10,392]\u001b[0m Trial 138 finished with value: 3598995.9070107467 and parameters: {'nleaves': 59, 'bagfrac': 0.9412211088556418, 'bagfreq': 3, 'featfrac': 0.834679278168142, 'lambda_l1': 6.815040961137107e-05, 'lambda_l2': 7.061086857238299, 'minchild': 21}. Best is trial 138 with value: 3598995.9070107467.\u001b[0m\n"
     ]
    },
    {
     "name": "stdout",
     "output_type": "stream",
     "text": [
      "Early stopping, best iteration is:\n",
      "[331]\ttraining's l1: 196218\tvalid_1's l1: 3.599e+06\n",
      "Training until validation scores don't improve for 5 rounds\n"
     ]
    },
    {
     "name": "stderr",
     "output_type": "stream",
     "text": [
      "\u001b[32m[I 2021-01-03 17:58:11,557]\u001b[0m Trial 139 finished with value: 3677092.47329118 and parameters: {'nleaves': 62, 'bagfrac': 0.9394025182956487, 'bagfreq': 2, 'featfrac': 0.8343406725793362, 'lambda_l1': 0.0004576027663126804, 'lambda_l2': 7.714158704024446, 'minchild': 14}. Best is trial 138 with value: 3598995.9070107467.\u001b[0m\n"
     ]
    },
    {
     "name": "stdout",
     "output_type": "stream",
     "text": [
      "Early stopping, best iteration is:\n",
      "[143]\ttraining's l1: 743950\tvalid_1's l1: 3.67709e+06\n",
      "Training until validation scores don't improve for 5 rounds\n",
      "Early stopping, best iteration is:\n",
      "[263]\ttraining's l1: 314146\tvalid_1's l1: 3.65621e+06\n"
     ]
    },
    {
     "name": "stderr",
     "output_type": "stream",
     "text": [
      "\u001b[32m[I 2021-01-03 17:58:13,493]\u001b[0m Trial 140 finished with value: 3656207.9066815614 and parameters: {'nleaves': 57, 'bagfrac': 0.9424221482142401, 'bagfreq': 1, 'featfrac': 0.83195829253918, 'lambda_l1': 0.00038430170120225975, 'lambda_l2': 6.86729222258549, 'minchild': 12}. Best is trial 138 with value: 3598995.9070107467.\u001b[0m\n"
     ]
    },
    {
     "name": "stdout",
     "output_type": "stream",
     "text": [
      "Training until validation scores don't improve for 5 rounds\n"
     ]
    },
    {
     "name": "stderr",
     "output_type": "stream",
     "text": [
      "\u001b[32m[I 2021-01-03 17:58:14,874]\u001b[0m Trial 141 finished with value: 3707433.8006177144 and parameters: {'nleaves': 61, 'bagfrac': 0.9429416522892016, 'bagfreq': 1, 'featfrac': 0.8363587218384537, 'lambda_l1': 0.00017717244765966212, 'lambda_l2': 7.62135523956059, 'minchild': 14}. Best is trial 138 with value: 3598995.9070107467.\u001b[0m\n"
     ]
    },
    {
     "name": "stdout",
     "output_type": "stream",
     "text": [
      "Early stopping, best iteration is:\n",
      "[186]\ttraining's l1: 518188\tvalid_1's l1: 3.70743e+06\n",
      "Training until validation scores don't improve for 5 rounds\n"
     ]
    },
    {
     "name": "stderr",
     "output_type": "stream",
     "text": [
      "\u001b[32m[I 2021-01-03 17:58:16,220]\u001b[0m Trial 142 finished with value: 3666754.968622056 and parameters: {'nleaves': 60, 'bagfrac': 0.9405787954825864, 'bagfreq': 2, 'featfrac': 0.8442967637757923, 'lambda_l1': 0.0004490326766813412, 'lambda_l2': 4.546038121046571, 'minchild': 16}. Best is trial 138 with value: 3598995.9070107467.\u001b[0m\n"
     ]
    },
    {
     "name": "stdout",
     "output_type": "stream",
     "text": [
      "Early stopping, best iteration is:\n",
      "[192]\ttraining's l1: 481936\tvalid_1's l1: 3.66675e+06\n",
      "Training until validation scores don't improve for 5 rounds\n"
     ]
    },
    {
     "name": "stderr",
     "output_type": "stream",
     "text": [
      "\u001b[32m[I 2021-01-03 17:58:17,792]\u001b[0m Trial 143 finished with value: 3689224.2252646126 and parameters: {'nleaves': 59, 'bagfrac': 0.9405680022194529, 'bagfreq': 2, 'featfrac': 0.84281503190633, 'lambda_l1': 0.000474106987742402, 'lambda_l2': 4.767057753560847, 'minchild': 11}. Best is trial 138 with value: 3598995.9070107467.\u001b[0m\n"
     ]
    },
    {
     "name": "stdout",
     "output_type": "stream",
     "text": [
      "Early stopping, best iteration is:\n",
      "[217]\ttraining's l1: 379050\tvalid_1's l1: 3.68922e+06\n",
      "Training until validation scores don't improve for 5 rounds\n"
     ]
    },
    {
     "name": "stderr",
     "output_type": "stream",
     "text": [
      "\u001b[32m[I 2021-01-03 17:58:19,272]\u001b[0m Trial 144 finished with value: 3737955.1789355525 and parameters: {'nleaves': 60, 'bagfrac': 0.9389367723438067, 'bagfreq': 2, 'featfrac': 0.8447904559001468, 'lambda_l1': 0.00047948904319545144, 'lambda_l2': 4.80099055957196, 'minchild': 10}. Best is trial 138 with value: 3598995.9070107467.\u001b[0m\n"
     ]
    },
    {
     "name": "stdout",
     "output_type": "stream",
     "text": [
      "Early stopping, best iteration is:\n",
      "[192]\ttraining's l1: 454379\tvalid_1's l1: 3.73796e+06\n",
      "Training until validation scores don't improve for 5 rounds\n"
     ]
    },
    {
     "name": "stderr",
     "output_type": "stream",
     "text": [
      "\u001b[32m[I 2021-01-03 17:58:21,687]\u001b[0m Trial 145 finished with value: 3727109.9545656713 and parameters: {'nleaves': 54, 'bagfrac': 0.94250354083455, 'bagfreq': 1, 'featfrac': 0.8328629942037387, 'lambda_l1': 0.0006579736084926616, 'lambda_l2': 7.176248894542415, 'minchild': 5}. Best is trial 138 with value: 3598995.9070107467.\u001b[0m\n"
     ]
    },
    {
     "name": "stdout",
     "output_type": "stream",
     "text": [
      "Early stopping, best iteration is:\n",
      "[313]\ttraining's l1: 241974\tvalid_1's l1: 3.72711e+06\n",
      "Training until validation scores don't improve for 5 rounds\n"
     ]
    },
    {
     "name": "stderr",
     "output_type": "stream",
     "text": [
      "\u001b[32m[I 2021-01-03 17:58:23,430]\u001b[0m Trial 146 finished with value: 3587839.9710116144 and parameters: {'nleaves': 62, 'bagfrac': 0.9498431161015055, 'bagfreq': 2, 'featfrac': 0.842451734881273, 'lambda_l1': 0.000324442644335466, 'lambda_l2': 9.61645478532669, 'minchild': 16}. Best is trial 146 with value: 3587839.9710116144.\u001b[0m\n"
     ]
    },
    {
     "name": "stdout",
     "output_type": "stream",
     "text": [
      "Early stopping, best iteration is:\n",
      "[249]\ttraining's l1: 334190\tvalid_1's l1: 3.58784e+06\n",
      "Training until validation scores don't improve for 5 rounds\n"
     ]
    },
    {
     "name": "stderr",
     "output_type": "stream",
     "text": [
      "\u001b[32m[I 2021-01-03 17:58:25,366]\u001b[0m Trial 147 finished with value: 3771857.962470791 and parameters: {'nleaves': 65, 'bagfrac': 0.9499785735031853, 'bagfreq': 2, 'featfrac': 0.8496340832061384, 'lambda_l1': 0.0003770649946968236, 'lambda_l2': 9.42545020847379, 'minchild': 17}. Best is trial 146 with value: 3587839.9710116144.\u001b[0m\n"
     ]
    },
    {
     "name": "stdout",
     "output_type": "stream",
     "text": [
      "Early stopping, best iteration is:\n",
      "[218]\ttraining's l1: 386596\tvalid_1's l1: 3.77186e+06\n",
      "Training until validation scores don't improve for 5 rounds\n"
     ]
    },
    {
     "name": "stderr",
     "output_type": "stream",
     "text": [
      "\u001b[32m[I 2021-01-03 17:58:26,695]\u001b[0m Trial 148 finished with value: 3623685.6012344495 and parameters: {'nleaves': 55, 'bagfrac': 0.9499441672140451, 'bagfreq': 1, 'featfrac': 0.813713202125112, 'lambda_l1': 0.00027348816668159486, 'lambda_l2': 2.5610969764060334, 'minchild': 16}. Best is trial 146 with value: 3587839.9710116144.\u001b[0m\n"
     ]
    },
    {
     "name": "stdout",
     "output_type": "stream",
     "text": [
      "Early stopping, best iteration is:\n",
      "[212]\ttraining's l1: 444229\tvalid_1's l1: 3.62369e+06\n",
      "Training until validation scores don't improve for 5 rounds\n"
     ]
    },
    {
     "name": "stderr",
     "output_type": "stream",
     "text": [
      "\u001b[32m[I 2021-01-03 17:58:27,985]\u001b[0m Trial 149 finished with value: 3725642.2523897034 and parameters: {'nleaves': 57, 'bagfrac': 0.949463077276187, 'bagfreq': 1, 'featfrac': 0.8045667959835036, 'lambda_l1': 0.0002833899186157759, 'lambda_l2': 2.620832893554308, 'minchild': 15}. Best is trial 146 with value: 3587839.9710116144.\u001b[0m\n"
     ]
    },
    {
     "name": "stdout",
     "output_type": "stream",
     "text": [
      "Early stopping, best iteration is:\n",
      "[192]\ttraining's l1: 487624\tvalid_1's l1: 3.72564e+06\n",
      "Training until validation scores don't improve for 5 rounds\n"
     ]
    },
    {
     "name": "stderr",
     "output_type": "stream",
     "text": [
      "\u001b[32m[I 2021-01-03 17:58:29,484]\u001b[0m Trial 150 finished with value: 3702569.1802133257 and parameters: {'nleaves': 51, 'bagfrac': 0.9291602503008192, 'bagfreq': 1, 'featfrac': 0.815125004441527, 'lambda_l1': 0.0010835887563610163, 'lambda_l2': 6.134409946826224, 'minchild': 21}. Best is trial 146 with value: 3587839.9710116144.\u001b[0m\n"
     ]
    },
    {
     "name": "stdout",
     "output_type": "stream",
     "text": [
      "Early stopping, best iteration is:\n",
      "[272]\ttraining's l1: 381988\tvalid_1's l1: 3.70257e+06\n",
      "Training until validation scores don't improve for 5 rounds\n"
     ]
    },
    {
     "name": "stderr",
     "output_type": "stream",
     "text": [
      "\u001b[32m[I 2021-01-03 17:58:30,788]\u001b[0m Trial 151 finished with value: 3815269.484750733 and parameters: {'nleaves': 63, 'bagfrac': 0.9514922518694027, 'bagfreq': 2, 'featfrac': 0.8318874289133086, 'lambda_l1': 0.0007104303227820937, 'lambda_l2': 1.1693363858515782, 'minchild': 13}. Best is trial 146 with value: 3587839.9710116144.\u001b[0m\n"
     ]
    },
    {
     "name": "stdout",
     "output_type": "stream",
     "text": [
      "Early stopping, best iteration is:\n",
      "[174]\ttraining's l1: 435784\tvalid_1's l1: 3.81527e+06\n",
      "Training until validation scores don't improve for 5 rounds\n"
     ]
    },
    {
     "name": "stderr",
     "output_type": "stream",
     "text": [
      "\u001b[32m[I 2021-01-03 17:58:32,697]\u001b[0m Trial 152 finished with value: 3690839.2713646004 and parameters: {'nleaves': 70, 'bagfrac': 0.9659542853466418, 'bagfreq': 1, 'featfrac': 0.8342106012987414, 'lambda_l1': 0.0002004043409796256, 'lambda_l2': 2.5958731323321214, 'minchild': 7}. Best is trial 146 with value: 3587839.9710116144.\u001b[0m\n"
     ]
    },
    {
     "name": "stdout",
     "output_type": "stream",
     "text": [
      "Early stopping, best iteration is:\n",
      "[214]\ttraining's l1: 241262\tvalid_1's l1: 3.69084e+06\n",
      "Training until validation scores don't improve for 5 rounds\n",
      "Early stopping, best iteration is:\n",
      "[226]\ttraining's l1: 491579\tvalid_1's l1: 3.58631e+06\n"
     ]
    },
    {
     "name": "stderr",
     "output_type": "stream",
     "text": [
      "\u001b[32m[I 2021-01-03 17:58:34,384]\u001b[0m Trial 153 finished with value: 3586308.759628483 and parameters: {'nleaves': 55, 'bagfrac': 0.9473860821454946, 'bagfreq': 2, 'featfrac': 0.841262970832194, 'lambda_l1': 0.00014829791899876463, 'lambda_l2': 9.936579451472989, 'minchild': 19}. Best is trial 153 with value: 3586308.759628483.\u001b[0m\n"
     ]
    },
    {
     "name": "stdout",
     "output_type": "stream",
     "text": [
      "Training until validation scores don't improve for 5 rounds\n"
     ]
    },
    {
     "name": "stderr",
     "output_type": "stream",
     "text": [
      "\u001b[32m[I 2021-01-03 17:58:36,192]\u001b[0m Trial 154 finished with value: 3633450.432935755 and parameters: {'nleaves': 54, 'bagfrac': 0.9460376916625612, 'bagfreq': 2, 'featfrac': 0.792420158535034, 'lambda_l1': 0.00014217208877002354, 'lambda_l2': 9.868146694147114, 'minchild': 20}. Best is trial 153 with value: 3586308.759628483.\u001b[0m\n"
     ]
    },
    {
     "name": "stdout",
     "output_type": "stream",
     "text": [
      "Early stopping, best iteration is:\n",
      "[320]\ttraining's l1: 274212\tvalid_1's l1: 3.63345e+06\n",
      "Training until validation scores don't improve for 5 rounds\n"
     ]
    },
    {
     "name": "stderr",
     "output_type": "stream",
     "text": [
      "\u001b[32m[I 2021-01-03 17:58:37,810]\u001b[0m Trial 155 finished with value: 3680849.4880548986 and parameters: {'nleaves': 51, 'bagfrac': 0.9340762905905832, 'bagfreq': 2, 'featfrac': 0.7934734947528627, 'lambda_l1': 0.00031186537450689445, 'lambda_l2': 4.524039323884969, 'minchild': 16}. Best is trial 153 with value: 3586308.759628483.\u001b[0m\n"
     ]
    },
    {
     "name": "stdout",
     "output_type": "stream",
     "text": [
      "Early stopping, best iteration is:\n",
      "[292]\ttraining's l1: 309102\tvalid_1's l1: 3.68085e+06\n",
      "Training until validation scores don't improve for 5 rounds\n"
     ]
    },
    {
     "name": "stderr",
     "output_type": "stream",
     "text": [
      "\u001b[32m[I 2021-01-03 17:58:38,893]\u001b[0m Trial 156 finished with value: 3731096.24310875 and parameters: {'nleaves': 56, 'bagfrac': 0.9449216722503359, 'bagfreq': 2, 'featfrac': 0.8512112681995834, 'lambda_l1': 0.0005359355097787329, 'lambda_l2': 9.881197045633327, 'minchild': 19}. Best is trial 153 with value: 3586308.759628483.\u001b[0m\n"
     ]
    },
    {
     "name": "stdout",
     "output_type": "stream",
     "text": [
      "Early stopping, best iteration is:\n",
      "[147]\ttraining's l1: 892687\tvalid_1's l1: 3.7311e+06\n",
      "Training until validation scores don't improve for 5 rounds\n"
     ]
    },
    {
     "name": "stderr",
     "output_type": "stream",
     "text": [
      "\u001b[32m[I 2021-01-03 17:58:40,310]\u001b[0m Trial 157 finished with value: 3725377.0545623167 and parameters: {'nleaves': 62, 'bagfrac': 0.9374876353898516, 'bagfreq': 1, 'featfrac': 0.8576968740805725, 'lambda_l1': 0.00022531974134556046, 'lambda_l2': 9.775654311440652, 'minchild': 20}. Best is trial 153 with value: 3586308.759628483.\u001b[0m\n"
     ]
    },
    {
     "name": "stdout",
     "output_type": "stream",
     "text": [
      "Early stopping, best iteration is:\n",
      "[193]\ttraining's l1: 518613\tvalid_1's l1: 3.72538e+06\n",
      "Training until validation scores don't improve for 5 rounds\n"
     ]
    },
    {
     "name": "stderr",
     "output_type": "stream",
     "text": [
      "\u001b[32m[I 2021-01-03 17:58:42,007]\u001b[0m Trial 158 finished with value: 3605463.6111896974 and parameters: {'nleaves': 55, 'bagfrac': 0.9449983659321268, 'bagfreq': 2, 'featfrac': 0.7765395001380877, 'lambda_l1': 0.00015423514876184701, 'lambda_l2': 7.044750609975406, 'minchild': 15}. Best is trial 153 with value: 3586308.759628483.\u001b[0m\n"
     ]
    },
    {
     "name": "stdout",
     "output_type": "stream",
     "text": [
      "Early stopping, best iteration is:\n",
      "[264]\ttraining's l1: 354544\tvalid_1's l1: 3.60546e+06\n",
      "Training until validation scores don't improve for 5 rounds\n"
     ]
    },
    {
     "name": "stderr",
     "output_type": "stream",
     "text": [
      "\u001b[32m[I 2021-01-03 17:58:43,188]\u001b[0m Trial 159 finished with value: 3704826.7333612377 and parameters: {'nleaves': 54, 'bagfrac': 0.9271649134365058, 'bagfreq': 2, 'featfrac': 0.7735574038774174, 'lambda_l1': 0.00013380752712663688, 'lambda_l2': 6.032604390798965, 'minchild': 11}. Best is trial 153 with value: 3586308.759628483.\u001b[0m\n"
     ]
    },
    {
     "name": "stdout",
     "output_type": "stream",
     "text": [
      "Early stopping, best iteration is:\n",
      "[167]\ttraining's l1: 703020\tvalid_1's l1: 3.70483e+06\n",
      "Training until validation scores don't improve for 5 rounds\n"
     ]
    },
    {
     "name": "stderr",
     "output_type": "stream",
     "text": [
      "\u001b[32m[I 2021-01-03 17:58:44,576]\u001b[0m Trial 160 finished with value: 3737343.0232717036 and parameters: {'nleaves': 47, 'bagfrac': 0.9513585919354997, 'bagfreq': 2, 'featfrac': 0.7585354122030122, 'lambda_l1': 0.00015871770233940647, 'lambda_l2': 3.933497120632686, 'minchild': 18}. Best is trial 153 with value: 3586308.759628483.\u001b[0m\n"
     ]
    },
    {
     "name": "stdout",
     "output_type": "stream",
     "text": [
      "Early stopping, best iteration is:\n",
      "[271]\ttraining's l1: 430462\tvalid_1's l1: 3.73734e+06\n",
      "Training until validation scores don't improve for 5 rounds\n"
     ]
    },
    {
     "name": "stderr",
     "output_type": "stream",
     "text": [
      "\u001b[32m[I 2021-01-03 17:58:45,904]\u001b[0m Trial 161 finished with value: 3735295.6744689043 and parameters: {'nleaves': 58, 'bagfrac': 0.9431118323684884, 'bagfreq': 2, 'featfrac': 0.7776691960970662, 'lambda_l1': 0.00038279483811986756, 'lambda_l2': 7.540610909646393, 'minchild': 14}. Best is trial 153 with value: 3586308.759628483.\u001b[0m\n"
     ]
    },
    {
     "name": "stdout",
     "output_type": "stream",
     "text": [
      "Early stopping, best iteration is:\n",
      "[192]\ttraining's l1: 547089\tvalid_1's l1: 3.7353e+06\n",
      "Training until validation scores don't improve for 5 rounds\n"
     ]
    },
    {
     "name": "stderr",
     "output_type": "stream",
     "text": [
      "\u001b[32m[I 2021-01-03 17:58:47,191]\u001b[0m Trial 162 finished with value: 3754582.5922390725 and parameters: {'nleaves': 67, 'bagfrac': 0.9461583169684228, 'bagfreq': 2, 'featfrac': 0.7922863325735322, 'lambda_l1': 0.0008799738991916557, 'lambda_l2': 5.0324000865243, 'minchild': 16}. Best is trial 153 with value: 3586308.759628483.\u001b[0m\n"
     ]
    },
    {
     "name": "stdout",
     "output_type": "stream",
     "text": [
      "Early stopping, best iteration is:\n",
      "[166]\ttraining's l1: 516617\tvalid_1's l1: 3.75458e+06\n",
      "Training until validation scores don't improve for 5 rounds\n"
     ]
    },
    {
     "name": "stderr",
     "output_type": "stream",
     "text": [
      "\u001b[32m[I 2021-01-03 17:58:49,249]\u001b[0m Trial 163 finished with value: 3544622.0430570897 and parameters: {'nleaves': 73, 'bagfrac': 0.9330708838886931, 'bagfreq': 1, 'featfrac': 0.8103526519535282, 'lambda_l1': 7.415511476361693e-05, 'lambda_l2': 9.631931251024616, 'minchild': 12}. Best is trial 163 with value: 3544622.0430570897.\u001b[0m\n"
     ]
    },
    {
     "name": "stdout",
     "output_type": "stream",
     "text": [
      "Early stopping, best iteration is:\n",
      "[249]\ttraining's l1: 236980\tvalid_1's l1: 3.54462e+06\n",
      "Training until validation scores don't improve for 5 rounds\n"
     ]
    },
    {
     "name": "stderr",
     "output_type": "stream",
     "text": [
      "\u001b[32m[I 2021-01-03 17:58:50,914]\u001b[0m Trial 164 finished with value: 3693000.2615555017 and parameters: {'nleaves': 50, 'bagfrac': 0.9322993807969693, 'bagfreq': 1, 'featfrac': 0.8103081334044674, 'lambda_l1': 0.00014768185015715264, 'lambda_l2': 9.045013156734635, 'minchild': 12}. Best is trial 163 with value: 3544622.0430570897.\u001b[0m\n"
     ]
    },
    {
     "name": "stdout",
     "output_type": "stream",
     "text": [
      "Early stopping, best iteration is:\n",
      "[265]\ttraining's l1: 419319\tvalid_1's l1: 3.693e+06\n",
      "Training until validation scores don't improve for 5 rounds\n"
     ]
    },
    {
     "name": "stderr",
     "output_type": "stream",
     "text": [
      "\u001b[32m[I 2021-01-03 17:58:52,294]\u001b[0m Trial 165 finished with value: 3719644.7172447187 and parameters: {'nleaves': 75, 'bagfrac': 0.9565867030264149, 'bagfreq': 1, 'featfrac': 0.7808513660848015, 'lambda_l1': 0.00025932742213864235, 'lambda_l2': 9.98911598302792, 'minchild': 21}. Best is trial 163 with value: 3544622.0430570897.\u001b[0m\n"
     ]
    },
    {
     "name": "stdout",
     "output_type": "stream",
     "text": [
      "Early stopping, best iteration is:\n",
      "[163]\ttraining's l1: 554508\tvalid_1's l1: 3.71964e+06\n",
      "Training until validation scores don't improve for 5 rounds\n"
     ]
    },
    {
     "name": "stderr",
     "output_type": "stream",
     "text": [
      "\u001b[32m[I 2021-01-03 17:58:54,033]\u001b[0m Trial 166 finished with value: 3777452.0033889227 and parameters: {'nleaves': 55, 'bagfrac': 0.948347988734134, 'bagfreq': 1, 'featfrac': 0.7660652330146209, 'lambda_l1': 7.11339719682273e-05, 'lambda_l2': 2.125149424656261, 'minchild': 17}. Best is trial 163 with value: 3544622.0430570897.\u001b[0m\n"
     ]
    },
    {
     "name": "stdout",
     "output_type": "stream",
     "text": [
      "Early stopping, best iteration is:\n",
      "[254]\ttraining's l1: 325307\tvalid_1's l1: 3.77745e+06\n",
      "Training until validation scores don't improve for 5 rounds\n"
     ]
    },
    {
     "name": "stderr",
     "output_type": "stream",
     "text": [
      "\u001b[32m[I 2021-01-03 17:58:55,743]\u001b[0m Trial 167 finished with value: 3712219.46500441 and parameters: {'nleaves': 70, 'bagfrac': 0.9555935359736358, 'bagfreq': 1, 'featfrac': 0.8188507037381673, 'lambda_l1': 6.989231917491251e-05, 'lambda_l2': 0.5732627175459799, 'minchild': 26}. Best is trial 163 with value: 3544622.0430570897.\u001b[0m\n"
     ]
    },
    {
     "name": "stdout",
     "output_type": "stream",
     "text": [
      "Early stopping, best iteration is:\n",
      "[241]\ttraining's l1: 239596\tvalid_1's l1: 3.71222e+06\n",
      "Training until validation scores don't improve for 5 rounds\n"
     ]
    },
    {
     "name": "stderr",
     "output_type": "stream",
     "text": [
      "\u001b[32m[I 2021-01-03 17:58:57,144]\u001b[0m Trial 168 finished with value: 3706582.6408067825 and parameters: {'nleaves': 43, 'bagfrac': 0.9250428479898636, 'bagfreq': 2, 'featfrac': 0.8270068533987475, 'lambda_l1': 0.00021622048210710542, 'lambda_l2': 4.205583377483893, 'minchild': 8}. Best is trial 163 with value: 3544622.0430570897.\u001b[0m\n"
     ]
    },
    {
     "name": "stdout",
     "output_type": "stream",
     "text": [
      "Early stopping, best iteration is:\n",
      "[230]\ttraining's l1: 606454\tvalid_1's l1: 3.70658e+06\n",
      "Training until validation scores don't improve for 5 rounds\n"
     ]
    },
    {
     "name": "stderr",
     "output_type": "stream",
     "text": [
      "\u001b[32m[I 2021-01-03 17:58:58,597]\u001b[0m Trial 169 finished with value: 3746799.8727637413 and parameters: {'nleaves': 60, 'bagfrac': 0.9372063528122401, 'bagfreq': 2, 'featfrac': 0.8405249543374206, 'lambda_l1': 0.00013654163918043962, 'lambda_l2': 5.592790397065339, 'minchild': 15}. Best is trial 163 with value: 3544622.0430570897.\u001b[0m\n"
     ]
    },
    {
     "name": "stdout",
     "output_type": "stream",
     "text": [
      "Early stopping, best iteration is:\n",
      "[200]\ttraining's l1: 441691\tvalid_1's l1: 3.7468e+06\n",
      "Training until validation scores don't improve for 5 rounds\n"
     ]
    },
    {
     "name": "stderr",
     "output_type": "stream",
     "text": [
      "\u001b[32m[I 2021-01-03 17:58:59,690]\u001b[0m Trial 170 finished with value: 3733567.5685041905 and parameters: {'nleaves': 49, 'bagfrac': 0.9636128629692284, 'bagfreq': 1, 'featfrac': 0.7508687850655668, 'lambda_l1': 0.00011156768445640016, 'lambda_l2': 6.66548930417451, 'minchild': 20}. Best is trial 163 with value: 3544622.0430570897.\u001b[0m\n"
     ]
    },
    {
     "name": "stdout",
     "output_type": "stream",
     "text": [
      "Early stopping, best iteration is:\n",
      "[183]\ttraining's l1: 746758\tvalid_1's l1: 3.73357e+06\n",
      "Training until validation scores don't improve for 5 rounds\n"
     ]
    },
    {
     "name": "stderr",
     "output_type": "stream",
     "text": [
      "\u001b[32m[I 2021-01-03 17:59:01,177]\u001b[0m Trial 171 finished with value: 3646993.2770693693 and parameters: {'nleaves': 65, 'bagfrac': 0.939298884695241, 'bagfreq': 2, 'featfrac': 0.8049292959200981, 'lambda_l1': 0.00034934265509201323, 'lambda_l2': 7.391850540799588, 'minchild': 13}. Best is trial 163 with value: 3544622.0430570897.\u001b[0m\n"
     ]
    },
    {
     "name": "stdout",
     "output_type": "stream",
     "text": [
      "Early stopping, best iteration is:\n",
      "[188]\ttraining's l1: 452102\tvalid_1's l1: 3.64699e+06\n",
      "Training until validation scores don't improve for 5 rounds\n"
     ]
    },
    {
     "name": "stderr",
     "output_type": "stream",
     "text": [
      "\u001b[32m[I 2021-01-03 17:59:02,766]\u001b[0m Trial 172 finished with value: 3682047.8193504093 and parameters: {'nleaves': 67, 'bagfrac': 0.945534038322947, 'bagfreq': 2, 'featfrac': 0.8061615422016808, 'lambda_l1': 0.0001844863551121221, 'lambda_l2': 3.5659951651296655, 'minchild': 10}. Best is trial 163 with value: 3544622.0430570897.\u001b[0m\n"
     ]
    },
    {
     "name": "stdout",
     "output_type": "stream",
     "text": [
      "Early stopping, best iteration is:\n",
      "[183]\ttraining's l1: 396254\tvalid_1's l1: 3.68205e+06\n",
      "Training until validation scores don't improve for 5 rounds\n"
     ]
    },
    {
     "name": "stderr",
     "output_type": "stream",
     "text": [
      "\u001b[32m[I 2021-01-03 17:59:04,554]\u001b[0m Trial 173 finished with value: 3713706.7071167375 and parameters: {'nleaves': 74, 'bagfrac': 0.9517253318057571, 'bagfreq': 3, 'featfrac': 0.8107960001352521, 'lambda_l1': 0.000327262446078812, 'lambda_l2': 9.581726982941644, 'minchild': 17}. Best is trial 163 with value: 3544622.0430570897.\u001b[0m\n"
     ]
    },
    {
     "name": "stdout",
     "output_type": "stream",
     "text": [
      "Early stopping, best iteration is:\n",
      "[222]\ttraining's l1: 299347\tvalid_1's l1: 3.71371e+06\n",
      "Training until validation scores don't improve for 5 rounds\n"
     ]
    },
    {
     "name": "stderr",
     "output_type": "stream",
     "text": [
      "\u001b[32m[I 2021-01-03 17:59:06,189]\u001b[0m Trial 174 finished with value: 3681063.969551592 and parameters: {'nleaves': 56, 'bagfrac': 0.9192232369752842, 'bagfreq': 2, 'featfrac': 0.7895873099873607, 'lambda_l1': 0.0006067381792826175, 'lambda_l2': 5.755844854768182, 'minchild': 6}. Best is trial 163 with value: 3544622.0430570897.\u001b[0m\n"
     ]
    },
    {
     "name": "stdout",
     "output_type": "stream",
     "text": [
      "Early stopping, best iteration is:\n",
      "[210]\ttraining's l1: 465295\tvalid_1's l1: 3.68106e+06\n",
      "Training until validation scores don't improve for 5 rounds\n"
     ]
    },
    {
     "name": "stderr",
     "output_type": "stream",
     "text": [
      "\u001b[32m[I 2021-01-03 17:59:07,688]\u001b[0m Trial 175 finished with value: 3680395.918170081 and parameters: {'nleaves': 59, 'bagfrac': 0.9306900604713256, 'bagfreq': 3, 'featfrac': 0.7958618340532077, 'lambda_l1': 7.495571676527637e-05, 'lambda_l2': 2.483708611940171, 'minchild': 12}. Best is trial 163 with value: 3544622.0430570897.\u001b[0m\n"
     ]
    },
    {
     "name": "stdout",
     "output_type": "stream",
     "text": [
      "Early stopping, best iteration is:\n",
      "[210]\ttraining's l1: 378611\tvalid_1's l1: 3.6804e+06\n",
      "Training until validation scores don't improve for 5 rounds\n"
     ]
    },
    {
     "name": "stderr",
     "output_type": "stream",
     "text": [
      "\u001b[32m[I 2021-01-03 17:59:08,826]\u001b[0m Trial 176 finished with value: 3765355.1772854924 and parameters: {'nleaves': 64, 'bagfrac': 0.9416539560875961, 'bagfreq': 2, 'featfrac': 0.8191593838302363, 'lambda_l1': 0.00025925197538966455, 'lambda_l2': 4.262416391778614, 'minchild': 19}. Best is trial 163 with value: 3544622.0430570897.\u001b[0m\n"
     ]
    },
    {
     "name": "stdout",
     "output_type": "stream",
     "text": [
      "Early stopping, best iteration is:\n",
      "[144]\ttraining's l1: 683077\tvalid_1's l1: 3.76536e+06\n",
      "Training until validation scores don't improve for 5 rounds\n"
     ]
    },
    {
     "name": "stderr",
     "output_type": "stream",
     "text": [
      "\u001b[32m[I 2021-01-03 17:59:10,860]\u001b[0m Trial 177 finished with value: 3732764.6274070493 and parameters: {'nleaves': 80, 'bagfrac': 0.9346109200754226, 'bagfreq': 3, 'featfrac': 0.8265004190207389, 'lambda_l1': 0.00016638874570967262, 'lambda_l2': 7.144865631506971, 'minchild': 22}. Best is trial 163 with value: 3544622.0430570897.\u001b[0m\n"
     ]
    },
    {
     "name": "stdout",
     "output_type": "stream",
     "text": [
      "Early stopping, best iteration is:\n",
      "[240]\ttraining's l1: 232821\tvalid_1's l1: 3.73276e+06\n",
      "Training until validation scores don't improve for 5 rounds\n"
     ]
    },
    {
     "name": "stderr",
     "output_type": "stream",
     "text": [
      "\u001b[32m[I 2021-01-03 17:59:12,565]\u001b[0m Trial 178 finished with value: 3603673.522528189 and parameters: {'nleaves': 53, 'bagfrac': 0.9572764031999086, 'bagfreq': 1, 'featfrac': 0.7848788377302347, 'lambda_l1': 0.00010779287199133102, 'lambda_l2': 9.707350898981103, 'minchild': 33}. Best is trial 163 with value: 3544622.0430570897.\u001b[0m\n"
     ]
    },
    {
     "name": "stdout",
     "output_type": "stream",
     "text": [
      "Early stopping, best iteration is:\n",
      "[309]\ttraining's l1: 352921\tvalid_1's l1: 3.60367e+06\n",
      "Training until validation scores don't improve for 5 rounds\n"
     ]
    },
    {
     "name": "stderr",
     "output_type": "stream",
     "text": [
      "\u001b[32m[I 2021-01-03 17:59:13,987]\u001b[0m Trial 179 finished with value: 3737577.496841821 and parameters: {'nleaves': 53, 'bagfrac': 0.9483774935012426, 'bagfreq': 1, 'featfrac': 0.7845399483240104, 'lambda_l1': 0.0012894381940418784, 'lambda_l2': 9.118973226941662, 'minchild': 31}. Best is trial 163 with value: 3544622.0430570897.\u001b[0m\n"
     ]
    },
    {
     "name": "stdout",
     "output_type": "stream",
     "text": [
      "Early stopping, best iteration is:\n",
      "[233]\ttraining's l1: 548425\tvalid_1's l1: 3.73758e+06\n",
      "Training until validation scores don't improve for 5 rounds\n"
     ]
    },
    {
     "name": "stderr",
     "output_type": "stream",
     "text": [
      "\u001b[32m[I 2021-01-03 17:59:15,725]\u001b[0m Trial 180 finished with value: 3699121.497068948 and parameters: {'nleaves': 69, 'bagfrac': 0.967403098891498, 'bagfreq': 1, 'featfrac': 0.8046111061819364, 'lambda_l1': 0.0003933785426092315, 'lambda_l2': 9.991520337063902, 'minchild': 15}. Best is trial 163 with value: 3544622.0430570897.\u001b[0m\n"
     ]
    },
    {
     "name": "stdout",
     "output_type": "stream",
     "text": [
      "Early stopping, best iteration is:\n",
      "[224]\ttraining's l1: 334515\tvalid_1's l1: 3.69912e+06\n",
      "Training until validation scores don't improve for 5 rounds\n"
     ]
    },
    {
     "name": "stderr",
     "output_type": "stream",
     "text": [
      "\u001b[32m[I 2021-01-03 17:59:16,576]\u001b[0m Trial 181 finished with value: 3862995.641458691 and parameters: {'nleaves': 44, 'bagfrac': 0.9579044929470361, 'bagfreq': 2, 'featfrac': 0.8473077007516991, 'lambda_l1': 0.00010484229746806969, 'lambda_l2': 5.477973086044268, 'minchild': 27}. Best is trial 163 with value: 3544622.0430570897.\u001b[0m\n"
     ]
    },
    {
     "name": "stdout",
     "output_type": "stream",
     "text": [
      "Early stopping, best iteration is:\n",
      "[146]\ttraining's l1: 1.10794e+06\tvalid_1's l1: 3.863e+06\n",
      "Training until validation scores don't improve for 5 rounds\n"
     ]
    },
    {
     "name": "stderr",
     "output_type": "stream",
     "text": [
      "\u001b[32m[I 2021-01-03 17:59:18,254]\u001b[0m Trial 182 finished with value: 3698197.5438445783 and parameters: {'nleaves': 62, 'bagfrac': 0.9550432710925242, 'bagfreq': 1, 'featfrac': 0.8382226982086729, 'lambda_l1': 5.661992257230772e-05, 'lambda_l2': 2.8232168913152456, 'minchild': 33}. Best is trial 163 with value: 3544622.0430570897.\u001b[0m\n"
     ]
    },
    {
     "name": "stdout",
     "output_type": "stream",
     "text": [
      "Early stopping, best iteration is:\n",
      "[258]\ttraining's l1: 333306\tvalid_1's l1: 3.6982e+06\n",
      "Training until validation scores don't improve for 5 rounds\n"
     ]
    },
    {
     "name": "stderr",
     "output_type": "stream",
     "text": [
      "\u001b[32m[I 2021-01-03 17:59:19,765]\u001b[0m Trial 183 finished with value: 3815222.394706203 and parameters: {'nleaves': 48, 'bagfrac': 0.943121401514107, 'bagfreq': 1, 'featfrac': 0.7967391237245005, 'lambda_l1': 0.00013654531239359744, 'lambda_l2': 3.9314134109938315, 'minchild': 24}. Best is trial 163 with value: 3544622.0430570897.\u001b[0m\n"
     ]
    },
    {
     "name": "stdout",
     "output_type": "stream",
     "text": [
      "Early stopping, best iteration is:\n",
      "[294]\ttraining's l1: 369172\tvalid_1's l1: 3.81522e+06\n",
      "Training until validation scores don't improve for 5 rounds\n"
     ]
    },
    {
     "name": "stderr",
     "output_type": "stream",
     "text": [
      "\u001b[32m[I 2021-01-03 17:59:20,897]\u001b[0m Trial 184 finished with value: 3787108.6391972536 and parameters: {'nleaves': 55, 'bagfrac': 0.9524978537575427, 'bagfreq': 3, 'featfrac': 0.8148896561544325, 'lambda_l1': 2.91255859388056e-05, 'lambda_l2': 1.2992506386031013, 'minchild': 21}. Best is trial 163 with value: 3544622.0430570897.\u001b[0m\n"
     ]
    },
    {
     "name": "stdout",
     "output_type": "stream",
     "text": [
      "Early stopping, best iteration is:\n",
      "[177]\ttraining's l1: 602269\tvalid_1's l1: 3.78711e+06\n",
      "Training until validation scores don't improve for 5 rounds\n"
     ]
    },
    {
     "name": "stderr",
     "output_type": "stream",
     "text": [
      "\u001b[32m[I 2021-01-03 17:59:22,296]\u001b[0m Trial 185 finished with value: 3716104.139152706 and parameters: {'nleaves': 52, 'bagfrac': 0.9628045768259254, 'bagfreq': 2, 'featfrac': 0.7820032803359395, 'lambda_l1': 0.00022521841889480403, 'lambda_l2': 7.040665998429181, 'minchild': 28}. Best is trial 163 with value: 3544622.0430570897.\u001b[0m\n"
     ]
    },
    {
     "name": "stdout",
     "output_type": "stream",
     "text": [
      "Early stopping, best iteration is:\n",
      "[235]\ttraining's l1: 519877\tvalid_1's l1: 3.7161e+06\n",
      "Training until validation scores don't improve for 5 rounds\n"
     ]
    },
    {
     "name": "stderr",
     "output_type": "stream",
     "text": [
      "\u001b[32m[I 2021-01-03 17:59:23,544]\u001b[0m Trial 186 finished with value: 3861269.8543570857 and parameters: {'nleaves': 64, 'bagfrac': 0.937364193956569, 'bagfreq': 2, 'featfrac': 0.83055605786964, 'lambda_l1': 9.989095419123329e-05, 'lambda_l2': 1.8819984054622803, 'minchild': 18}. Best is trial 163 with value: 3544622.0430570897.\u001b[0m\n"
     ]
    },
    {
     "name": "stdout",
     "output_type": "stream",
     "text": [
      "Early stopping, best iteration is:\n",
      "[167]\ttraining's l1: 510410\tvalid_1's l1: 3.86127e+06\n",
      "Training until validation scores don't improve for 5 rounds\n"
     ]
    },
    {
     "name": "stderr",
     "output_type": "stream",
     "text": [
      "\u001b[32m[I 2021-01-03 17:59:25,296]\u001b[0m Trial 187 finished with value: 3766750.518387586 and parameters: {'nleaves': 41, 'bagfrac': 0.9700200116027768, 'bagfreq': 1, 'featfrac': 0.7702990095541994, 'lambda_l1': 7.775780774935047e-05, 'lambda_l2': 9.886020392700678, 'minchild': 25}. Best is trial 163 with value: 3544622.0430570897.\u001b[0m\n"
     ]
    },
    {
     "name": "stdout",
     "output_type": "stream",
     "text": [
      "Early stopping, best iteration is:\n",
      "[286]\ttraining's l1: 578000\tvalid_1's l1: 3.76675e+06\n",
      "Training until validation scores don't improve for 5 rounds\n"
     ]
    },
    {
     "name": "stderr",
     "output_type": "stream",
     "text": [
      "\u001b[32m[I 2021-01-03 17:59:26,447]\u001b[0m Trial 188 finished with value: 3766831.914381216 and parameters: {'nleaves': 32, 'bagfrac': 0.9476716019096288, 'bagfreq': 3, 'featfrac': 0.8423519992903564, 'lambda_l1': 0.000181952139182485, 'lambda_l2': 4.964880665884192, 'minchild': 13}. Best is trial 163 with value: 3544622.0430570897.\u001b[0m\n"
     ]
    },
    {
     "name": "stdout",
     "output_type": "stream",
     "text": [
      "Early stopping, best iteration is:\n",
      "[237]\ttraining's l1: 937637\tvalid_1's l1: 3.76683e+06\n",
      "Training until validation scores don't improve for 5 rounds\n"
     ]
    },
    {
     "name": "stderr",
     "output_type": "stream",
     "text": [
      "\u001b[32m[I 2021-01-03 17:59:27,478]\u001b[0m Trial 189 finished with value: 3765913.4463162413 and parameters: {'nleaves': 59, 'bagfrac': 0.9602278709977596, 'bagfreq': 1, 'featfrac': 0.8228205238180744, 'lambda_l1': 0.0003286844283445693, 'lambda_l2': 3.145347987325878, 'minchild': 16}. Best is trial 163 with value: 3544622.0430570897.\u001b[0m\n"
     ]
    },
    {
     "name": "stdout",
     "output_type": "stream",
     "text": [
      "Early stopping, best iteration is:\n",
      "[131]\ttraining's l1: 801026\tvalid_1's l1: 3.76591e+06\n",
      "Training until validation scores don't improve for 5 rounds\n"
     ]
    },
    {
     "name": "stderr",
     "output_type": "stream",
     "text": [
      "\u001b[32m[I 2021-01-03 17:59:29,444]\u001b[0m Trial 190 finished with value: 3709615.7926505953 and parameters: {'nleaves': 70, 'bagfrac': 0.9411426453625406, 'bagfreq': 4, 'featfrac': 0.8499448447709013, 'lambda_l1': 4.2896874645552385, 'lambda_l2': 6.559997751849381, 'minchild': 20}. Best is trial 163 with value: 3544622.0430570897.\u001b[0m\n"
     ]
    },
    {
     "name": "stdout",
     "output_type": "stream",
     "text": [
      "Early stopping, best iteration is:\n",
      "[232]\ttraining's l1: 293240\tvalid_1's l1: 3.70962e+06\n",
      "Training until validation scores don't improve for 5 rounds\n"
     ]
    },
    {
     "name": "stderr",
     "output_type": "stream",
     "text": [
      "\u001b[32m[I 2021-01-03 17:59:30,865]\u001b[0m Trial 191 finished with value: 3691610.440509116 and parameters: {'nleaves': 60, 'bagfrac': 0.9309943017531447, 'bagfreq': 2, 'featfrac': 0.8348862429249847, 'lambda_l1': 0.00047083614750896265, 'lambda_l2': 7.504015207735465, 'minchild': 9}. Best is trial 163 with value: 3544622.0430570897.\u001b[0m\n"
     ]
    },
    {
     "name": "stdout",
     "output_type": "stream",
     "text": [
      "Early stopping, best iteration is:\n",
      "[178]\ttraining's l1: 554078\tvalid_1's l1: 3.69161e+06\n",
      "Training until validation scores don't improve for 5 rounds\n"
     ]
    },
    {
     "name": "stderr",
     "output_type": "stream",
     "text": [
      "\u001b[32m[I 2021-01-03 17:59:32,824]\u001b[0m Trial 192 finished with value: 3641170.040881745 and parameters: {'nleaves': 64, 'bagfrac': 0.9414855024548844, 'bagfreq': 2, 'featfrac': 0.8355263155080166, 'lambda_l1': 0.0005245870113515385, 'lambda_l2': 9.886502571522803, 'minchild': 14}. Best is trial 163 with value: 3544622.0430570897.\u001b[0m\n"
     ]
    },
    {
     "name": "stdout",
     "output_type": "stream",
     "text": [
      "Early stopping, best iteration is:\n",
      "[257]\ttraining's l1: 280391\tvalid_1's l1: 3.64117e+06\n",
      "Training until validation scores don't improve for 5 rounds\n"
     ]
    },
    {
     "name": "stderr",
     "output_type": "stream",
     "text": [
      "\u001b[32m[I 2021-01-03 17:59:34,193]\u001b[0m Trial 193 finished with value: 3614190.1658408702 and parameters: {'nleaves': 67, 'bagfrac': 0.9522609432443137, 'bagfreq': 2, 'featfrac': 0.8441686807766318, 'lambda_l1': 0.00028711008868940064, 'lambda_l2': 9.901301040215257, 'minchild': 12}. Best is trial 163 with value: 3544622.0430570897.\u001b[0m\n"
     ]
    },
    {
     "name": "stdout",
     "output_type": "stream",
     "text": [
      "Early stopping, best iteration is:\n",
      "[158]\ttraining's l1: 601734\tvalid_1's l1: 3.61419e+06\n",
      "Training until validation scores don't improve for 5 rounds\n"
     ]
    },
    {
     "name": "stderr",
     "output_type": "stream",
     "text": [
      "\u001b[32m[I 2021-01-03 17:59:36,602]\u001b[0m Trial 194 finished with value: 3704055.6436774875 and parameters: {'nleaves': 67, 'bagfrac': 0.9497037973791704, 'bagfreq': 2, 'featfrac': 0.8553117122167627, 'lambda_l1': 0.00027540681647567034, 'lambda_l2': 9.822445303819368, 'minchild': 12}. Best is trial 163 with value: 3544622.0430570897.\u001b[0m\n"
     ]
    },
    {
     "name": "stdout",
     "output_type": "stream",
     "text": [
      "Early stopping, best iteration is:\n",
      "[270]\ttraining's l1: 233017\tvalid_1's l1: 3.70406e+06\n",
      "Training until validation scores don't improve for 5 rounds\n"
     ]
    },
    {
     "name": "stderr",
     "output_type": "stream",
     "text": [
      "\u001b[32m[I 2021-01-03 17:59:38,153]\u001b[0m Trial 195 finished with value: 3668275.2497915006 and parameters: {'nleaves': 72, 'bagfrac': 0.9397011825901008, 'bagfreq': 2, 'featfrac': 0.8307035269485884, 'lambda_l1': 0.0006165138684156827, 'lambda_l2': 9.91726852345438, 'minchild': 14}. Best is trial 163 with value: 3544622.0430570897.\u001b[0m\n"
     ]
    },
    {
     "name": "stdout",
     "output_type": "stream",
     "text": [
      "Early stopping, best iteration is:\n",
      "[182]\ttraining's l1: 451207\tvalid_1's l1: 3.66828e+06\n",
      "Training until validation scores don't improve for 5 rounds\n"
     ]
    },
    {
     "name": "stderr",
     "output_type": "stream",
     "text": [
      "\u001b[32m[I 2021-01-03 17:59:39,704]\u001b[0m Trial 196 finished with value: 3695750.882768701 and parameters: {'nleaves': 74, 'bagfrac': 0.926906444890949, 'bagfreq': 2, 'featfrac': 0.8114458599184479, 'lambda_l1': 0.0007531878519634276, 'lambda_l2': 9.848269680921291, 'minchild': 14}. Best is trial 163 with value: 3544622.0430570897.\u001b[0m\n"
     ]
    },
    {
     "name": "stdout",
     "output_type": "stream",
     "text": [
      "Early stopping, best iteration is:\n",
      "[184]\ttraining's l1: 422618\tvalid_1's l1: 3.69575e+06\n",
      "Training until validation scores don't improve for 5 rounds\n"
     ]
    },
    {
     "name": "stderr",
     "output_type": "stream",
     "text": [
      "\u001b[32m[I 2021-01-03 17:59:41,065]\u001b[0m Trial 197 finished with value: 3668031.88772728 and parameters: {'nleaves': 65, 'bagfrac': 0.9398784263407111, 'bagfreq': 2, 'featfrac': 0.8214840289753599, 'lambda_l1': 0.0005099512887956237, 'lambda_l2': 5.576162685826127, 'minchild': 17}. Best is trial 163 with value: 3544622.0430570897.\u001b[0m\n"
     ]
    },
    {
     "name": "stdout",
     "output_type": "stream",
     "text": [
      "Early stopping, best iteration is:\n",
      "[182]\ttraining's l1: 474560\tvalid_1's l1: 3.66803e+06\n",
      "Training until validation scores don't improve for 5 rounds\n"
     ]
    },
    {
     "name": "stderr",
     "output_type": "stream",
     "text": [
      "\u001b[32m[I 2021-01-03 17:59:43,281]\u001b[0m Trial 198 finished with value: 3695890.63747971 and parameters: {'nleaves': 64, 'bagfrac': 0.9342642763482661, 'bagfreq': 2, 'featfrac': 0.8241696997555256, 'lambda_l1': 0.0003666655172222926, 'lambda_l2': 4.642435716067811, 'minchild': 4}. Best is trial 163 with value: 3544622.0430570897.\u001b[0m\n"
     ]
    },
    {
     "name": "stdout",
     "output_type": "stream",
     "text": [
      "Early stopping, best iteration is:\n",
      "[244]\ttraining's l1: 243553\tvalid_1's l1: 3.69589e+06\n",
      "Training until validation scores don't improve for 5 rounds\n"
     ]
    },
    {
     "name": "stderr",
     "output_type": "stream",
     "text": [
      "\u001b[32m[I 2021-01-03 17:59:44,771]\u001b[0m Trial 199 finished with value: 3718461.847429681 and parameters: {'nleaves': 56, 'bagfrac': 0.9445573816269388, 'bagfreq': 2, 'featfrac': 0.8036941849558732, 'lambda_l1': 0.00021898011645759261, 'lambda_l2': 5.5467010899478835, 'minchild': 17}. Best is trial 163 with value: 3544622.0430570897.\u001b[0m\n"
     ]
    },
    {
     "name": "stdout",
     "output_type": "stream",
     "text": [
      "Early stopping, best iteration is:\n",
      "[236]\ttraining's l1: 399016\tvalid_1's l1: 3.71846e+06\n",
      "Training until validation scores don't improve for 5 rounds\n"
     ]
    },
    {
     "name": "stderr",
     "output_type": "stream",
     "text": [
      "\u001b[32m[I 2021-01-03 17:59:46,551]\u001b[0m Trial 200 finished with value: 3637106.0356138954 and parameters: {'nleaves': 64, 'bagfrac': 0.9210780714876204, 'bagfreq': 2, 'featfrac': 0.8177761738930612, 'lambda_l1': 0.0008867589696500772, 'lambda_l2': 7.104510383151049, 'minchild': 11}. Best is trial 163 with value: 3544622.0430570897.\u001b[0m\n"
     ]
    },
    {
     "name": "stdout",
     "output_type": "stream",
     "text": [
      "Early stopping, best iteration is:\n",
      "[231]\ttraining's l1: 316310\tvalid_1's l1: 3.63711e+06\n",
      "Training until validation scores don't improve for 5 rounds\n"
     ]
    },
    {
     "name": "stderr",
     "output_type": "stream",
     "text": [
      "\u001b[32m[I 2021-01-03 17:59:47,962]\u001b[0m Trial 201 finished with value: 3660638.2842016914 and parameters: {'nleaves': 66, 'bagfrac': 0.9202934245098233, 'bagfreq': 2, 'featfrac': 0.8203680129628143, 'lambda_l1': 0.000490938055977155, 'lambda_l2': 7.326086631245951, 'minchild': 12}. Best is trial 163 with value: 3544622.0430570897.\u001b[0m\n"
     ]
    },
    {
     "name": "stdout",
     "output_type": "stream",
     "text": [
      "Early stopping, best iteration is:\n",
      "[172]\ttraining's l1: 520101\tvalid_1's l1: 3.66064e+06\n",
      "Training until validation scores don't improve for 5 rounds\n"
     ]
    },
    {
     "name": "stderr",
     "output_type": "stream",
     "text": [
      "\u001b[32m[I 2021-01-03 17:59:49,768]\u001b[0m Trial 202 finished with value: 3626073.5731329448 and parameters: {'nleaves': 60, 'bagfrac': 0.9111986496082367, 'bagfreq': 2, 'featfrac': 0.8176950196595812, 'lambda_l1': 0.0007468197091239256, 'lambda_l2': 7.2806951717117325, 'minchild': 9}. Best is trial 163 with value: 3544622.0430570897.\u001b[0m\n"
     ]
    },
    {
     "name": "stdout",
     "output_type": "stream",
     "text": [
      "Early stopping, best iteration is:\n",
      "[239]\ttraining's l1: 335484\tvalid_1's l1: 3.62607e+06\n",
      "Training until validation scores don't improve for 5 rounds\n"
     ]
    },
    {
     "name": "stderr",
     "output_type": "stream",
     "text": [
      "\u001b[32m[I 2021-01-03 17:59:50,996]\u001b[0m Trial 203 finished with value: 3708558.324576902 and parameters: {'nleaves': 57, 'bagfrac': 0.9092440590479636, 'bagfreq': 2, 'featfrac': 0.8168262973819707, 'lambda_l1': 0.000910686344965516, 'lambda_l2': 7.315315597406209, 'minchild': 10}. Best is trial 163 with value: 3544622.0430570897.\u001b[0m\n"
     ]
    },
    {
     "name": "stdout",
     "output_type": "stream",
     "text": [
      "Early stopping, best iteration is:\n",
      "[157]\ttraining's l1: 718696\tvalid_1's l1: 3.70856e+06\n",
      "Training until validation scores don't improve for 5 rounds\n"
     ]
    },
    {
     "name": "stderr",
     "output_type": "stream",
     "text": [
      "\u001b[32m[I 2021-01-03 17:59:52,726]\u001b[0m Trial 204 finished with value: 3565549.3554072995 and parameters: {'nleaves': 67, 'bagfrac': 0.9158120015782248, 'bagfreq': 2, 'featfrac': 0.8077755454170846, 'lambda_l1': 0.001429204764814464, 'lambda_l2': 7.808318441895352, 'minchild': 10}. Best is trial 163 with value: 3544622.0430570897.\u001b[0m\n"
     ]
    },
    {
     "name": "stdout",
     "output_type": "stream",
     "text": [
      "Early stopping, best iteration is:\n",
      "[201]\ttraining's l1: 387699\tvalid_1's l1: 3.56555e+06\n",
      "Training until validation scores don't improve for 5 rounds\n"
     ]
    },
    {
     "name": "stderr",
     "output_type": "stream",
     "text": [
      "\u001b[32m[I 2021-01-03 17:59:54,137]\u001b[0m Trial 205 finished with value: 3620911.279782009 and parameters: {'nleaves': 50, 'bagfrac': 0.9266967647957758, 'bagfreq': 2, 'featfrac': 0.7996570519243963, 'lambda_l1': 0.0007486875438498566, 'lambda_l2': 9.437333522745071, 'minchild': 8}. Best is trial 163 with value: 3544622.0430570897.\u001b[0m\n"
     ]
    },
    {
     "name": "stdout",
     "output_type": "stream",
     "text": [
      "Early stopping, best iteration is:\n",
      "[209]\ttraining's l1: 605301\tvalid_1's l1: 3.62091e+06\n",
      "Training until validation scores don't improve for 5 rounds\n"
     ]
    },
    {
     "name": "stderr",
     "output_type": "stream",
     "text": [
      "\u001b[32m[I 2021-01-03 17:59:56,097]\u001b[0m Trial 206 finished with value: 3557425.2238914617 and parameters: {'nleaves': 51, 'bagfrac': 0.9167482760663996, 'bagfreq': 2, 'featfrac': 0.799766309034961, 'lambda_l1': 0.0011832716396192567, 'lambda_l2': 9.69598293000404, 'minchild': 3}. Best is trial 163 with value: 3544622.0430570897.\u001b[0m\n"
     ]
    },
    {
     "name": "stdout",
     "output_type": "stream",
     "text": [
      "Early stopping, best iteration is:\n",
      "[266]\ttraining's l1: 406346\tvalid_1's l1: 3.55743e+06\n",
      "Training until validation scores don't improve for 5 rounds\n"
     ]
    },
    {
     "name": "stderr",
     "output_type": "stream",
     "text": [
      "\u001b[32m[I 2021-01-03 17:59:58,404]\u001b[0m Trial 207 finished with value: 3575448.593506797 and parameters: {'nleaves': 51, 'bagfrac': 0.922778158815195, 'bagfreq': 2, 'featfrac': 0.7976010977880104, 'lambda_l1': 0.0010856489941389006, 'lambda_l2': 9.935214575628278, 'minchild': 2}. Best is trial 163 with value: 3544622.0430570897.\u001b[0m\n"
     ]
    },
    {
     "name": "stdout",
     "output_type": "stream",
     "text": [
      "Early stopping, best iteration is:\n",
      "[298]\ttraining's l1: 326327\tvalid_1's l1: 3.57545e+06\n",
      "Training until validation scores don't improve for 5 rounds\n"
     ]
    },
    {
     "name": "stderr",
     "output_type": "stream",
     "text": [
      "\u001b[32m[I 2021-01-03 17:59:59,888]\u001b[0m Trial 208 finished with value: 3642480.8109028 and parameters: {'nleaves': 48, 'bagfrac': 0.9136525851678529, 'bagfreq': 2, 'featfrac': 0.7901373426168139, 'lambda_l1': 0.001835809617359127, 'lambda_l2': 9.540173798117824, 'minchild': 3}. Best is trial 163 with value: 3544622.0430570897.\u001b[0m\n"
     ]
    },
    {
     "name": "stdout",
     "output_type": "stream",
     "text": [
      "Early stopping, best iteration is:\n",
      "[203]\ttraining's l1: 677788\tvalid_1's l1: 3.64248e+06\n",
      "Training until validation scores don't improve for 5 rounds\n"
     ]
    },
    {
     "name": "stderr",
     "output_type": "stream",
     "text": [
      "\u001b[32m[I 2021-01-03 18:00:02,033]\u001b[0m Trial 209 finished with value: 3705114.715215014 and parameters: {'nleaves': 47, 'bagfrac': 0.9054150462580024, 'bagfreq': 2, 'featfrac': 0.7884548820879413, 'lambda_l1': 0.001404467892464673, 'lambda_l2': 9.911559407770117, 'minchild': 2}. Best is trial 163 with value: 3544622.0430570897.\u001b[0m\n"
     ]
    },
    {
     "name": "stdout",
     "output_type": "stream",
     "text": [
      "Early stopping, best iteration is:\n",
      "[303]\ttraining's l1: 379307\tvalid_1's l1: 3.70511e+06\n",
      "Training until validation scores don't improve for 5 rounds\n"
     ]
    },
    {
     "name": "stderr",
     "output_type": "stream",
     "text": [
      "\u001b[32m[I 2021-01-03 18:00:03,694]\u001b[0m Trial 210 finished with value: 3635515.771766235 and parameters: {'nleaves': 48, 'bagfrac': 0.9196369060995911, 'bagfreq': 2, 'featfrac': 0.7983061277731581, 'lambda_l1': 0.0019240075084940445, 'lambda_l2': 9.83667453064413, 'minchild': 3}. Best is trial 163 with value: 3544622.0430570897.\u001b[0m\n"
     ]
    },
    {
     "name": "stdout",
     "output_type": "stream",
     "text": [
      "Early stopping, best iteration is:\n",
      "[236]\ttraining's l1: 562686\tvalid_1's l1: 3.63552e+06\n",
      "Training until validation scores don't improve for 5 rounds\n"
     ]
    },
    {
     "name": "stderr",
     "output_type": "stream",
     "text": [
      "\u001b[32m[I 2021-01-03 18:00:05,331]\u001b[0m Trial 211 finished with value: 3594431.3101480003 and parameters: {'nleaves': 50, 'bagfrac': 0.9137531824790825, 'bagfreq': 2, 'featfrac': 0.8005339129342609, 'lambda_l1': 0.0019835566221880186, 'lambda_l2': 9.866639587530807, 'minchild': 1}. Best is trial 163 with value: 3544622.0430570897.\u001b[0m\n"
     ]
    },
    {
     "name": "stdout",
     "output_type": "stream",
     "text": [
      "Early stopping, best iteration is:\n",
      "[203]\ttraining's l1: 635563\tvalid_1's l1: 3.59443e+06\n",
      "Training until validation scores don't improve for 5 rounds\n"
     ]
    },
    {
     "name": "stderr",
     "output_type": "stream",
     "text": [
      "\u001b[32m[I 2021-01-03 18:00:07,217]\u001b[0m Trial 212 finished with value: 3616463.027816473 and parameters: {'nleaves': 50, 'bagfrac': 0.9142171388643636, 'bagfreq': 2, 'featfrac': 0.7962566731020703, 'lambda_l1': 0.0023234546573041607, 'lambda_l2': 9.668563471043873, 'minchild': 2}. Best is trial 163 with value: 3544622.0430570897.\u001b[0m\n"
     ]
    },
    {
     "name": "stdout",
     "output_type": "stream",
     "text": [
      "Early stopping, best iteration is:\n",
      "[229]\ttraining's l1: 534275\tvalid_1's l1: 3.61646e+06\n",
      "Training until validation scores don't improve for 5 rounds\n"
     ]
    },
    {
     "name": "stderr",
     "output_type": "stream",
     "text": [
      "\u001b[32m[I 2021-01-03 18:00:08,758]\u001b[0m Trial 213 finished with value: 3677155.2054276583 and parameters: {'nleaves': 49, 'bagfrac': 0.9140600610836799, 'bagfreq': 2, 'featfrac': 0.7982433407178089, 'lambda_l1': 0.002015979008355266, 'lambda_l2': 9.973926286312052, 'minchild': 1}. Best is trial 163 with value: 3544622.0430570897.\u001b[0m\n"
     ]
    },
    {
     "name": "stdout",
     "output_type": "stream",
     "text": [
      "Early stopping, best iteration is:\n",
      "[191]\ttraining's l1: 722883\tvalid_1's l1: 3.67716e+06\n",
      "Training until validation scores don't improve for 5 rounds\n"
     ]
    },
    {
     "name": "stderr",
     "output_type": "stream",
     "text": [
      "\u001b[32m[I 2021-01-03 18:00:11,246]\u001b[0m Trial 214 finished with value: 3760497.0137813133 and parameters: {'nleaves': 52, 'bagfrac': 0.9147069496898206, 'bagfreq': 2, 'featfrac': 0.7905889500992724, 'lambda_l1': 0.0014568235466930722, 'lambda_l2': 9.586919754857538, 'minchild': 3}. Best is trial 163 with value: 3544622.0430570897.\u001b[0m\n"
     ]
    },
    {
     "name": "stdout",
     "output_type": "stream",
     "text": [
      "Early stopping, best iteration is:\n",
      "[323]\ttraining's l1: 269898\tvalid_1's l1: 3.7605e+06\n",
      "Training until validation scores don't improve for 5 rounds\n"
     ]
    },
    {
     "name": "stderr",
     "output_type": "stream",
     "text": [
      "\u001b[32m[I 2021-01-03 18:00:12,715]\u001b[0m Trial 215 finished with value: 3746527.7659459333 and parameters: {'nleaves': 45, 'bagfrac': 0.899767824414228, 'bagfreq': 2, 'featfrac': 0.8019552614061661, 'lambda_l1': 0.0015645740604000493, 'lambda_l2': 7.460554987852422, 'minchild': 6}. Best is trial 163 with value: 3544622.0430570897.\u001b[0m\n"
     ]
    },
    {
     "name": "stdout",
     "output_type": "stream",
     "text": [
      "Early stopping, best iteration is:\n",
      "[219]\ttraining's l1: 655115\tvalid_1's l1: 3.74653e+06\n",
      "Training until validation scores don't improve for 5 rounds\n"
     ]
    },
    {
     "name": "stderr",
     "output_type": "stream",
     "text": [
      "\u001b[32m[I 2021-01-03 18:00:13,791]\u001b[0m Trial 216 finished with value: 3743355.841818768 and parameters: {'nleaves': 49, 'bagfrac': 0.9193371248705293, 'bagfreq': 2, 'featfrac': 0.7951944592997935, 'lambda_l1': 0.002226015307156775, 'lambda_l2': 9.53367193060819, 'minchild': 4}. Best is trial 163 with value: 3544622.0430570897.\u001b[0m\n"
     ]
    },
    {
     "name": "stdout",
     "output_type": "stream",
     "text": [
      "Early stopping, best iteration is:\n",
      "[132]\ttraining's l1: 1.10978e+06\tvalid_1's l1: 3.74336e+06\n",
      "Training until validation scores don't improve for 5 rounds\n"
     ]
    },
    {
     "name": "stderr",
     "output_type": "stream",
     "text": [
      "\u001b[32m[I 2021-01-03 18:00:15,516]\u001b[0m Trial 217 finished with value: 3746529.3027253677 and parameters: {'nleaves': 53, 'bagfrac': 0.9068326427625377, 'bagfreq': 2, 'featfrac': 0.8094446114744065, 'lambda_l1': 0.0010544647083880324, 'lambda_l2': 8.055289091909183, 'minchild': 2}. Best is trial 163 with value: 3544622.0430570897.\u001b[0m\n"
     ]
    },
    {
     "name": "stdout",
     "output_type": "stream",
     "text": [
      "Early stopping, best iteration is:\n",
      "[194]\ttraining's l1: 607454\tvalid_1's l1: 3.74653e+06\n",
      "Training until validation scores don't improve for 5 rounds\n"
     ]
    },
    {
     "name": "stderr",
     "output_type": "stream",
     "text": [
      "\u001b[32m[I 2021-01-03 18:00:16,953]\u001b[0m Trial 218 finished with value: 3653438.290473488 and parameters: {'nleaves': 53, 'bagfrac': 0.9205217089873309, 'bagfreq': 2, 'featfrac': 0.8009667956946976, 'lambda_l1': 0.004238379692972079, 'lambda_l2': 9.648059293672969, 'minchild': 6}. Best is trial 163 with value: 3544622.0430570897.\u001b[0m\n"
     ]
    },
    {
     "name": "stdout",
     "output_type": "stream",
     "text": [
      "Early stopping, best iteration is:\n",
      "[192]\ttraining's l1: 625796\tvalid_1's l1: 3.65344e+06\n",
      "Training until validation scores don't improve for 5 rounds\n"
     ]
    },
    {
     "name": "stderr",
     "output_type": "stream",
     "text": [
      "\u001b[32m[I 2021-01-03 18:00:18,671]\u001b[0m Trial 219 finished with value: 3698124.7907030643 and parameters: {'nleaves': 58, 'bagfrac': 0.912123710149318, 'bagfreq': 2, 'featfrac': 0.7848885676301726, 'lambda_l1': 0.0009789209699785834, 'lambda_l2': 6.3786135590305815, 'minchild': 8}. Best is trial 163 with value: 3544622.0430570897.\u001b[0m\n"
     ]
    },
    {
     "name": "stdout",
     "output_type": "stream",
     "text": [
      "Early stopping, best iteration is:\n",
      "[216]\ttraining's l1: 418525\tvalid_1's l1: 3.69812e+06\n",
      "Training until validation scores don't improve for 5 rounds\n"
     ]
    },
    {
     "name": "stderr",
     "output_type": "stream",
     "text": [
      "\u001b[32m[I 2021-01-03 18:00:20,406]\u001b[0m Trial 220 finished with value: 3732814.808414401 and parameters: {'nleaves': 48, 'bagfrac': 0.9232469677824524, 'bagfreq': 2, 'featfrac': 0.7924010563335515, 'lambda_l1': 0.0029970327364755487, 'lambda_l2': 9.821705308222878, 'minchild': 5}. Best is trial 163 with value: 3544622.0430570897.\u001b[0m\n"
     ]
    },
    {
     "name": "stdout",
     "output_type": "stream",
     "text": [
      "Early stopping, best iteration is:\n",
      "[249]\ttraining's l1: 512632\tvalid_1's l1: 3.73281e+06\n",
      "Training until validation scores don't improve for 5 rounds\n"
     ]
    },
    {
     "name": "stderr",
     "output_type": "stream",
     "text": [
      "\u001b[32m[I 2021-01-03 18:00:22,769]\u001b[0m Trial 221 finished with value: 3727122.9062697724 and parameters: {'nleaves': 61, 'bagfrac': 0.9149605092708735, 'bagfreq': 2, 'featfrac': 0.8059840862989078, 'lambda_l1': 0.001811574591378527, 'lambda_l2': 6.544719244333386, 'minchild': 1}. Best is trial 163 with value: 3544622.0430570897.\u001b[0m\n"
     ]
    },
    {
     "name": "stdout",
     "output_type": "stream",
     "text": [
      "Early stopping, best iteration is:\n",
      "[240]\ttraining's l1: 313544\tvalid_1's l1: 3.72712e+06\n",
      "Training until validation scores don't improve for 5 rounds\n"
     ]
    },
    {
     "name": "stderr",
     "output_type": "stream",
     "text": [
      "\u001b[32m[I 2021-01-03 18:00:24,431]\u001b[0m Trial 222 finished with value: 3789226.9376700623 and parameters: {'nleaves': 54, 'bagfrac': 0.900725661584297, 'bagfreq': 2, 'featfrac': 0.7977721344764106, 'lambda_l1': 0.0012524938474057202, 'lambda_l2': 5.57505032937295, 'minchild': 3}. Best is trial 163 with value: 3544622.0430570897.\u001b[0m\n"
     ]
    },
    {
     "name": "stdout",
     "output_type": "stream",
     "text": [
      "Early stopping, best iteration is:\n",
      "[209]\ttraining's l1: 492542\tvalid_1's l1: 3.78923e+06\n",
      "Training until validation scores don't improve for 5 rounds\n"
     ]
    },
    {
     "name": "stderr",
     "output_type": "stream",
     "text": [
      "\u001b[32m[I 2021-01-03 18:00:25,818]\u001b[0m Trial 223 finished with value: 3647611.950988256 and parameters: {'nleaves': 43, 'bagfrac': 0.9262014545507398, 'bagfreq': 2, 'featfrac': 0.8061960345810882, 'lambda_l1': 0.0008200555869834637, 'lambda_l2': 7.645714725284184, 'minchild': 9}. Best is trial 163 with value: 3544622.0430570897.\u001b[0m\n"
     ]
    },
    {
     "name": "stdout",
     "output_type": "stream",
     "text": [
      "Early stopping, best iteration is:\n",
      "[223]\ttraining's l1: 690983\tvalid_1's l1: 3.64761e+06\n",
      "Training until validation scores don't improve for 5 rounds\n"
     ]
    },
    {
     "name": "stderr",
     "output_type": "stream",
     "text": [
      "\u001b[32m[I 2021-01-03 18:00:27,289]\u001b[0m Trial 224 finished with value: 3714932.2723700376 and parameters: {'nleaves': 42, 'bagfrac': 0.9231053287031921, 'bagfreq': 2, 'featfrac': 0.8070796472815864, 'lambda_l1': 0.000760653238559582, 'lambda_l2': 7.561589565486128, 'minchild': 9}. Best is trial 163 with value: 3544622.0430570897.\u001b[0m\n"
     ]
    },
    {
     "name": "stdout",
     "output_type": "stream",
     "text": [
      "Early stopping, best iteration is:\n",
      "[247]\ttraining's l1: 604243\tvalid_1's l1: 3.71493e+06\n",
      "Training until validation scores don't improve for 5 rounds\n"
     ]
    },
    {
     "name": "stderr",
     "output_type": "stream",
     "text": [
      "\u001b[32m[I 2021-01-03 18:00:29,225]\u001b[0m Trial 225 finished with value: 3627224.8637086423 and parameters: {'nleaves': 46, 'bagfrac': 0.9079054709403688, 'bagfreq': 2, 'featfrac': 0.7773465128098429, 'lambda_l1': 0.00235174245870491, 'lambda_l2': 9.678854992306821, 'minchild': 8}. Best is trial 163 with value: 3544622.0430570897.\u001b[0m\n"
     ]
    },
    {
     "name": "stdout",
     "output_type": "stream",
     "text": [
      "Early stopping, best iteration is:\n",
      "[291]\ttraining's l1: 432319\tvalid_1's l1: 3.62722e+06\n",
      "Training until validation scores don't improve for 5 rounds\n"
     ]
    },
    {
     "name": "stderr",
     "output_type": "stream",
     "text": [
      "\u001b[32m[I 2021-01-03 18:00:30,818]\u001b[0m Trial 226 finished with value: 3661261.0642430196 and parameters: {'nleaves': 57, 'bagfrac': 0.9097699688444246, 'bagfreq': 2, 'featfrac': 0.7807142753604773, 'lambda_l1': 0.0023424107205832065, 'lambda_l2': 9.978028160375054, 'minchild': 7}. Best is trial 163 with value: 3544622.0430570897.\u001b[0m\n"
     ]
    },
    {
     "name": "stdout",
     "output_type": "stream",
     "text": [
      "Early stopping, best iteration is:\n",
      "[216]\ttraining's l1: 482185\tvalid_1's l1: 3.66126e+06\n",
      "Training until validation scores don't improve for 5 rounds\n",
      "Early stopping, best iteration is:\n",
      "[297]\ttraining's l1: 303792\tvalid_1's l1: 3.61171e+06\n"
     ]
    },
    {
     "name": "stderr",
     "output_type": "stream",
     "text": [
      "\u001b[32m[I 2021-01-03 18:00:32,936]\u001b[0m Trial 227 finished with value: 3611707.267782561 and parameters: {'nleaves': 50, 'bagfrac': 0.8916573912397637, 'bagfreq': 2, 'featfrac': 0.7886643250725759, 'lambda_l1': 0.0016945429857389749, 'lambda_l2': 5.231301631982771, 'minchild': 7}. Best is trial 163 with value: 3544622.0430570897.\u001b[0m\n"
     ]
    },
    {
     "name": "stdout",
     "output_type": "stream",
     "text": [
      "Training until validation scores don't improve for 5 rounds\n"
     ]
    },
    {
     "name": "stderr",
     "output_type": "stream",
     "text": [
      "\u001b[32m[I 2021-01-03 18:00:34,323]\u001b[0m Trial 228 finished with value: 3813040.8619738477 and parameters: {'nleaves': 49, 'bagfrac': 0.8937605253464582, 'bagfreq': 2, 'featfrac': 0.7761168747813649, 'lambda_l1': 0.0036699704550973667, 'lambda_l2': 4.959846093886608, 'minchild': 4}. Best is trial 163 with value: 3544622.0430570897.\u001b[0m\n"
     ]
    },
    {
     "name": "stdout",
     "output_type": "stream",
     "text": [
      "Early stopping, best iteration is:\n",
      "[185]\ttraining's l1: 680427\tvalid_1's l1: 3.81304e+06\n",
      "Training until validation scores don't improve for 5 rounds\n"
     ]
    },
    {
     "name": "stderr",
     "output_type": "stream",
     "text": [
      "\u001b[32m[I 2021-01-03 18:00:36,036]\u001b[0m Trial 229 finished with value: 3688901.590096412 and parameters: {'nleaves': 47, 'bagfrac': 0.885015673274032, 'bagfreq': 2, 'featfrac': 0.7886503458884456, 'lambda_l1': 0.001631605588394809, 'lambda_l2': 9.984318498533584, 'minchild': 7}. Best is trial 163 with value: 3544622.0430570897.\u001b[0m\n"
     ]
    },
    {
     "name": "stdout",
     "output_type": "stream",
     "text": [
      "Early stopping, best iteration is:\n",
      "[276]\ttraining's l1: 450856\tvalid_1's l1: 3.6889e+06\n",
      "Training until validation scores don't improve for 5 rounds\n"
     ]
    },
    {
     "name": "stderr",
     "output_type": "stream",
     "text": [
      "\u001b[32m[I 2021-01-03 18:00:37,672]\u001b[0m Trial 230 finished with value: 3791239.906670315 and parameters: {'nleaves': 53, 'bagfrac': 0.9054924617590311, 'bagfreq': 2, 'featfrac': 0.7928529418212652, 'lambda_l1': 0.0012098212908695487, 'lambda_l2': 9.889725241824388, 'minchild': 6}. Best is trial 163 with value: 3544622.0430570897.\u001b[0m\n"
     ]
    },
    {
     "name": "stdout",
     "output_type": "stream",
     "text": [
      "Early stopping, best iteration is:\n",
      "[201]\ttraining's l1: 614537\tvalid_1's l1: 3.79124e+06\n",
      "Training until validation scores don't improve for 5 rounds\n"
     ]
    },
    {
     "name": "stderr",
     "output_type": "stream",
     "text": [
      "\u001b[32m[I 2021-01-03 18:00:38,632]\u001b[0m Trial 231 finished with value: 3707765.7425904563 and parameters: {'nleaves': 60, 'bagfrac': 0.9177639847903843, 'bagfreq': 2, 'featfrac': 0.7981663203523047, 'lambda_l1': 0.0024923565221540225, 'lambda_l2': 6.5001895596579295, 'minchild': 10}. Best is trial 163 with value: 3544622.0430570897.\u001b[0m\n"
     ]
    },
    {
     "name": "stdout",
     "output_type": "stream",
     "text": [
      "Early stopping, best iteration is:\n",
      "[107]\ttraining's l1: 1.06466e+06\tvalid_1's l1: 3.70777e+06\n",
      "Training until validation scores don't improve for 5 rounds\n"
     ]
    },
    {
     "name": "stderr",
     "output_type": "stream",
     "text": [
      "\u001b[32m[I 2021-01-03 18:00:40,404]\u001b[0m Trial 232 finished with value: 3683133.9871912594 and parameters: {'nleaves': 45, 'bagfrac': 0.9124100880463694, 'bagfreq': 2, 'featfrac': 0.7845693573058382, 'lambda_l1': 0.0011769430229866288, 'lambda_l2': 9.932878108496299, 'minchild': 1}. Best is trial 163 with value: 3544622.0430570897.\u001b[0m\n"
     ]
    },
    {
     "name": "stdout",
     "output_type": "stream",
     "text": [
      "Early stopping, best iteration is:\n",
      "[243]\ttraining's l1: 573453\tvalid_1's l1: 3.68313e+06\n",
      "Training until validation scores don't improve for 5 rounds\n"
     ]
    },
    {
     "name": "stderr",
     "output_type": "stream",
     "text": [
      "\u001b[32m[I 2021-01-03 18:00:41,674]\u001b[0m Trial 233 finished with value: 3689003.2984924465 and parameters: {'nleaves': 50, 'bagfrac': 0.9166500512243959, 'bagfreq': 2, 'featfrac': 0.8024243574185848, 'lambda_l1': 0.001983612994144441, 'lambda_l2': 5.832358989485087, 'minchild': 8}. Best is trial 163 with value: 3544622.0430570897.\u001b[0m\n"
     ]
    },
    {
     "name": "stdout",
     "output_type": "stream",
     "text": [
      "Early stopping, best iteration is:\n",
      "[183]\ttraining's l1: 665911\tvalid_1's l1: 3.689e+06\n",
      "Training until validation scores don't improve for 5 rounds\n"
     ]
    },
    {
     "name": "stderr",
     "output_type": "stream",
     "text": [
      "\u001b[32m[I 2021-01-03 18:00:43,645]\u001b[0m Trial 234 finished with value: 3627456.451778425 and parameters: {'nleaves': 56, 'bagfrac': 0.9267851974006381, 'bagfreq': 2, 'featfrac': 0.779030766581624, 'lambda_l1': 0.0009077133256668153, 'lambda_l2': 7.05870251050064, 'minchild': 3}. Best is trial 163 with value: 3544622.0430570897.\u001b[0m\n"
     ]
    },
    {
     "name": "stdout",
     "output_type": "stream",
     "text": [
      "Early stopping, best iteration is:\n",
      "[237]\ttraining's l1: 383692\tvalid_1's l1: 3.62746e+06\n",
      "Training until validation scores don't improve for 5 rounds\n"
     ]
    },
    {
     "name": "stderr",
     "output_type": "stream",
     "text": [
      "\u001b[32m[I 2021-01-03 18:00:45,418]\u001b[0m Trial 235 finished with value: 3665940.6079429192 and parameters: {'nleaves': 55, 'bagfrac': 0.9079220271156307, 'bagfreq': 2, 'featfrac': 0.7687897068361806, 'lambda_l1': 0.005899994330077088, 'lambda_l2': 9.884442713037231, 'minchild': 3}. Best is trial 163 with value: 3544622.0430570897.\u001b[0m\n"
     ]
    },
    {
     "name": "stdout",
     "output_type": "stream",
     "text": [
      "Early stopping, best iteration is:\n",
      "[225]\ttraining's l1: 479087\tvalid_1's l1: 3.66594e+06\n",
      "Training until validation scores don't improve for 5 rounds\n"
     ]
    },
    {
     "name": "stderr",
     "output_type": "stream",
     "text": [
      "\u001b[32m[I 2021-01-03 18:00:47,563]\u001b[0m Trial 236 finished with value: 3729569.1099793054 and parameters: {'nleaves': 50, 'bagfrac': 0.9257208289244663, 'bagfreq': 2, 'featfrac': 0.7782495259934009, 'lambda_l1': 0.0016861348547695853, 'lambda_l2': 4.442978521110446, 'minchild': 1}. Best is trial 163 with value: 3544622.0430570897.\u001b[0m\n"
     ]
    },
    {
     "name": "stdout",
     "output_type": "stream",
     "text": [
      "Early stopping, best iteration is:\n",
      "[287]\ttraining's l1: 314416\tvalid_1's l1: 3.72957e+06\n",
      "Training until validation scores don't improve for 5 rounds\n"
     ]
    },
    {
     "name": "stderr",
     "output_type": "stream",
     "text": [
      "\u001b[32m[I 2021-01-03 18:00:48,991]\u001b[0m Trial 237 finished with value: 3653644.3180097034 and parameters: {'nleaves': 58, 'bagfrac': 0.9196954313037975, 'bagfreq': 2, 'featfrac': 0.7862916640771347, 'lambda_l1': 0.000918481589944613, 'lambda_l2': 7.070752054457254, 'minchild': 5}. Best is trial 163 with value: 3544622.0430570897.\u001b[0m\n"
     ]
    },
    {
     "name": "stdout",
     "output_type": "stream",
     "text": [
      "Early stopping, best iteration is:\n",
      "[167]\ttraining's l1: 636432\tvalid_1's l1: 3.65364e+06\n",
      "Training until validation scores don't improve for 5 rounds\n"
     ]
    },
    {
     "name": "stderr",
     "output_type": "stream",
     "text": [
      "\u001b[32m[I 2021-01-03 18:00:50,174]\u001b[0m Trial 238 finished with value: 3734994.1581078484 and parameters: {'nleaves': 53, 'bagfrac': 0.9134573301983901, 'bagfreq': 2, 'featfrac': 0.7947177596692412, 'lambda_l1': 0.0027124848338044723, 'lambda_l2': 9.905702171991196, 'minchild': 4}. Best is trial 163 with value: 3544622.0430570897.\u001b[0m\n"
     ]
    },
    {
     "name": "stdout",
     "output_type": "stream",
     "text": [
      "Early stopping, best iteration is:\n",
      "[140]\ttraining's l1: 937145\tvalid_1's l1: 3.73499e+06\n",
      "Training until validation scores don't improve for 5 rounds\n"
     ]
    },
    {
     "name": "stderr",
     "output_type": "stream",
     "text": [
      "\u001b[32m[I 2021-01-03 18:00:51,730]\u001b[0m Trial 239 finished with value: 3640162.097139544 and parameters: {'nleaves': 62, 'bagfrac': 0.9014307525563527, 'bagfreq': 2, 'featfrac': 0.7892114010436624, 'lambda_l1': 0.0011919616388673337, 'lambda_l2': 4.703076813087891, 'minchild': 8}. Best is trial 163 with value: 3544622.0430570897.\u001b[0m\n"
     ]
    },
    {
     "name": "stdout",
     "output_type": "stream",
     "text": [
      "Early stopping, best iteration is:\n",
      "[192]\ttraining's l1: 443079\tvalid_1's l1: 3.64016e+06\n",
      "Training until validation scores don't improve for 5 rounds\n"
     ]
    },
    {
     "name": "stderr",
     "output_type": "stream",
     "text": [
      "\u001b[32m[I 2021-01-03 18:00:53,069]\u001b[0m Trial 240 finished with value: 3710098.99885789 and parameters: {'nleaves': 62, 'bagfrac': 0.8967261636710497, 'bagfreq': 2, 'featfrac': 0.7789662908607693, 'lambda_l1': 0.001566554050179637, 'lambda_l2': 4.1218488227054415, 'minchild': 11}. Best is trial 163 with value: 3544622.0430570897.\u001b[0m\n"
     ]
    },
    {
     "name": "stdout",
     "output_type": "stream",
     "text": [
      "Early stopping, best iteration is:\n",
      "[158]\ttraining's l1: 594973\tvalid_1's l1: 3.7101e+06\n",
      "Training until validation scores don't improve for 5 rounds\n"
     ]
    },
    {
     "name": "stderr",
     "output_type": "stream",
     "text": [
      "\u001b[32m[I 2021-01-03 18:00:55,007]\u001b[0m Trial 241 finished with value: 3677878.334453715 and parameters: {'nleaves': 56, 'bagfrac': 0.907187834003414, 'bagfreq': 2, 'featfrac': 0.7898134382348609, 'lambda_l1': 0.0006778112117710745, 'lambda_l2': 5.246748883189795, 'minchild': 9}. Best is trial 163 with value: 3544622.0430570897.\u001b[0m\n"
     ]
    },
    {
     "name": "stdout",
     "output_type": "stream",
     "text": [
      "Early stopping, best iteration is:\n",
      "[227]\ttraining's l1: 402359\tvalid_1's l1: 3.67788e+06\n",
      "Training until validation scores don't improve for 5 rounds\n"
     ]
    },
    {
     "name": "stderr",
     "output_type": "stream",
     "text": [
      "\u001b[32m[I 2021-01-03 18:00:56,493]\u001b[0m Trial 242 finished with value: 3696186.1514364183 and parameters: {'nleaves': 46, 'bagfrac': 0.9282755726525898, 'bagfreq': 2, 'featfrac': 0.794101255441731, 'lambda_l1': 0.0010755982776629383, 'lambda_l2': 9.919549504297782, 'minchild': 6}. Best is trial 163 with value: 3544622.0430570897.\u001b[0m\n"
     ]
    },
    {
     "name": "stdout",
     "output_type": "stream",
     "text": [
      "Early stopping, best iteration is:\n",
      "[232]\ttraining's l1: 612801\tvalid_1's l1: 3.69619e+06\n",
      "Training until validation scores don't improve for 5 rounds\n"
     ]
    },
    {
     "name": "stderr",
     "output_type": "stream",
     "text": [
      "\u001b[32m[I 2021-01-03 18:00:57,622]\u001b[0m Trial 243 finished with value: 3696329.344633766 and parameters: {'nleaves': 60, 'bagfrac': 0.8901813718129338, 'bagfreq': 2, 'featfrac': 0.7837769300254117, 'lambda_l1': 0.0013442501063196995, 'lambda_l2': 7.17588688800791, 'minchild': 8}. Best is trial 163 with value: 3544622.0430570897.\u001b[0m\n"
     ]
    },
    {
     "name": "stdout",
     "output_type": "stream",
     "text": [
      "Early stopping, best iteration is:\n",
      "[130]\ttraining's l1: 871786\tvalid_1's l1: 3.69633e+06\n",
      "Training until validation scores don't improve for 5 rounds\n"
     ]
    },
    {
     "name": "stderr",
     "output_type": "stream",
     "text": [
      "\u001b[32m[I 2021-01-03 18:01:00,004]\u001b[0m Trial 244 finished with value: 3667439.621322348 and parameters: {'nleaves': 51, 'bagfrac': 0.8501390469128269, 'bagfreq': 2, 'featfrac': 0.811549181733545, 'lambda_l1': 0.0009113358717646109, 'lambda_l2': 5.449090087075033, 'minchild': 1}. Best is trial 163 with value: 3544622.0430570897.\u001b[0m\n"
     ]
    },
    {
     "name": "stdout",
     "output_type": "stream",
     "text": [
      "Early stopping, best iteration is:\n",
      "[298]\ttraining's l1: 292070\tvalid_1's l1: 3.66744e+06\n",
      "Training until validation scores don't improve for 5 rounds\n"
     ]
    },
    {
     "name": "stderr",
     "output_type": "stream",
     "text": [
      "\u001b[32m[I 2021-01-03 18:01:01,359]\u001b[0m Trial 245 finished with value: 3680028.004434841 and parameters: {'nleaves': 69, 'bagfrac': 0.8680304238721699, 'bagfreq': 2, 'featfrac': 0.7726421278925076, 'lambda_l1': 0.002029590163169262, 'lambda_l2': 9.993695934351031, 'minchild': 11}. Best is trial 163 with value: 3544622.0430570897.\u001b[0m\n"
     ]
    },
    {
     "name": "stdout",
     "output_type": "stream",
     "text": [
      "Early stopping, best iteration is:\n",
      "[159]\ttraining's l1: 602633\tvalid_1's l1: 3.68003e+06\n",
      "Training until validation scores don't improve for 5 rounds\n"
     ]
    },
    {
     "name": "stderr",
     "output_type": "stream",
     "text": [
      "\u001b[32m[I 2021-01-03 18:01:03,237]\u001b[0m Trial 246 finished with value: 3666102.1289624064 and parameters: {'nleaves': 63, 'bagfrac': 0.9003253514527385, 'bagfreq': 1, 'featfrac': 0.7979505823286844, 'lambda_l1': 0.0006834795304166087, 'lambda_l2': 7.280987879367348, 'minchild': 3}. Best is trial 163 with value: 3544622.0430570897.\u001b[0m\n"
     ]
    },
    {
     "name": "stdout",
     "output_type": "stream",
     "text": [
      "Early stopping, best iteration is:\n",
      "[195]\ttraining's l1: 441754\tvalid_1's l1: 3.6661e+06\n",
      "Training until validation scores don't improve for 5 rounds\n"
     ]
    },
    {
     "name": "stderr",
     "output_type": "stream",
     "text": [
      "\u001b[32m[I 2021-01-03 18:01:05,058]\u001b[0m Trial 247 finished with value: 3743040.7932975157 and parameters: {'nleaves': 56, 'bagfrac': 0.9184219167830946, 'bagfreq': 2, 'featfrac': 0.7906461632827978, 'lambda_l1': 0.0013019468147861895, 'lambda_l2': 4.178851240247322, 'minchild': 5}. Best is trial 163 with value: 3544622.0430570897.\u001b[0m\n"
     ]
    },
    {
     "name": "stdout",
     "output_type": "stream",
     "text": [
      "Early stopping, best iteration is:\n",
      "[230]\ttraining's l1: 377277\tvalid_1's l1: 3.74304e+06\n",
      "Training until validation scores don't improve for 5 rounds\n"
     ]
    },
    {
     "name": "stderr",
     "output_type": "stream",
     "text": [
      "\u001b[32m[I 2021-01-03 18:01:06,620]\u001b[0m Trial 248 finished with value: 3640963.3426704677 and parameters: {'nleaves': 41, 'bagfrac': 0.902866179285302, 'bagfreq': 2, 'featfrac': 0.7824148352899356, 'lambda_l1': 0.0029819798897929395, 'lambda_l2': 7.349351313068518, 'minchild': 8}. Best is trial 163 with value: 3544622.0430570897.\u001b[0m\n"
     ]
    },
    {
     "name": "stdout",
     "output_type": "stream",
     "text": [
      "Early stopping, best iteration is:\n",
      "[299]\ttraining's l1: 475833\tvalid_1's l1: 3.64096e+06\n",
      "Training until validation scores don't improve for 5 rounds\n"
     ]
    },
    {
     "name": "stderr",
     "output_type": "stream",
     "text": [
      "\u001b[32m[I 2021-01-03 18:01:08,524]\u001b[0m Trial 249 finished with value: 3758971.603300479 and parameters: {'nleaves': 47, 'bagfrac': 0.9071467691931344, 'bagfreq': 2, 'featfrac': 0.7794655029921989, 'lambda_l1': 0.00359909929696941, 'lambda_l2': 7.325740412127061, 'minchild': 7}. Best is trial 163 with value: 3544622.0430570897.\u001b[0m\n"
     ]
    },
    {
     "name": "stdout",
     "output_type": "stream",
     "text": [
      "Early stopping, best iteration is:\n",
      "[272]\ttraining's l1: 438333\tvalid_1's l1: 3.75897e+06\n",
      "Training until validation scores don't improve for 5 rounds\n"
     ]
    },
    {
     "name": "stderr",
     "output_type": "stream",
     "text": [
      "\u001b[32m[I 2021-01-03 18:01:10,015]\u001b[0m Trial 250 finished with value: 3738451.114695488 and parameters: {'nleaves': 39, 'bagfrac': 0.9016280872995138, 'bagfreq': 2, 'featfrac': 0.7838155195532988, 'lambda_l1': 0.002941107655147979, 'lambda_l2': 5.904325775275928, 'minchild': 10}. Best is trial 163 with value: 3544622.0430570897.\u001b[0m\n"
     ]
    },
    {
     "name": "stdout",
     "output_type": "stream",
     "text": [
      "Early stopping, best iteration is:\n",
      "[307]\ttraining's l1: 487903\tvalid_1's l1: 3.73845e+06\n",
      "Training until validation scores don't improve for 5 rounds\n"
     ]
    },
    {
     "name": "stderr",
     "output_type": "stream",
     "text": [
      "\u001b[32m[I 2021-01-03 18:01:11,072]\u001b[0m Trial 251 finished with value: 3722340.521553159 and parameters: {'nleaves': 44, 'bagfrac': 0.9237566553054903, 'bagfreq': 2, 'featfrac': 0.7642363514273861, 'lambda_l1': 0.0046772245160265555, 'lambda_l2': 9.6782115826426, 'minchild': 8}. Best is trial 163 with value: 3544622.0430570897.\u001b[0m\n"
     ]
    },
    {
     "name": "stdout",
     "output_type": "stream",
     "text": [
      "Early stopping, best iteration is:\n",
      "[159]\ttraining's l1: 1.0296e+06\tvalid_1's l1: 3.72234e+06\n",
      "Training until validation scores don't improve for 5 rounds\n"
     ]
    },
    {
     "name": "stderr",
     "output_type": "stream",
     "text": [
      "\u001b[32m[I 2021-01-03 18:01:12,333]\u001b[0m Trial 252 finished with value: 3716023.5160092595 and parameters: {'nleaves': 40, 'bagfrac': 0.9138983728633617, 'bagfreq': 2, 'featfrac': 0.8005753406700948, 'lambda_l1': 0.0022335769427565795, 'lambda_l2': 4.3912640463903525, 'minchild': 12}. Best is trial 163 with value: 3544622.0430570897.\u001b[0m\n"
     ]
    },
    {
     "name": "stdout",
     "output_type": "stream",
     "text": [
      "Early stopping, best iteration is:\n",
      "[233]\ttraining's l1: 668179\tvalid_1's l1: 3.71602e+06\n",
      "Training until validation scores don't improve for 5 rounds\n"
     ]
    },
    {
     "name": "stderr",
     "output_type": "stream",
     "text": [
      "\u001b[32m[I 2021-01-03 18:01:14,166]\u001b[0m Trial 253 finished with value: 3643424.3533044616 and parameters: {'nleaves': 52, 'bagfrac': 0.9299160609010138, 'bagfreq': 1, 'featfrac': 0.7729839607398911, 'lambda_l1': 0.0018845348508174143, 'lambda_l2': 7.469078693091494, 'minchild': 4}. Best is trial 163 with value: 3544622.0430570897.\u001b[0m\n"
     ]
    },
    {
     "name": "stdout",
     "output_type": "stream",
     "text": [
      "Early stopping, best iteration is:\n",
      "[255]\ttraining's l1: 405089\tvalid_1's l1: 3.64342e+06\n",
      "Training until validation scores don't improve for 5 rounds\n"
     ]
    },
    {
     "name": "stderr",
     "output_type": "stream",
     "text": [
      "\u001b[32m[I 2021-01-03 18:01:15,722]\u001b[0m Trial 254 finished with value: 3672321.9218516825 and parameters: {'nleaves': 50, 'bagfrac': 0.9112744135339196, 'bagfreq': 2, 'featfrac': 0.7873407936264386, 'lambda_l1': 0.0011785481221369997, 'lambda_l2': 5.692472493559446, 'minchild': 14}. Best is trial 163 with value: 3544622.0430570897.\u001b[0m\n"
     ]
    },
    {
     "name": "stdout",
     "output_type": "stream",
     "text": [
      "Early stopping, best iteration is:\n",
      "[235]\ttraining's l1: 477438\tvalid_1's l1: 3.67232e+06\n",
      "Training until validation scores don't improve for 5 rounds\n"
     ]
    },
    {
     "name": "stderr",
     "output_type": "stream",
     "text": [
      "\u001b[32m[I 2021-01-03 18:01:17,119]\u001b[0m Trial 255 finished with value: 3617806.4480083566 and parameters: {'nleaves': 42, 'bagfrac': 0.9036544676338428, 'bagfreq': 2, 'featfrac': 0.7945932829112454, 'lambda_l1': 0.000795497881412653, 'lambda_l2': 7.750232588224743, 'minchild': 10}. Best is trial 163 with value: 3544622.0430570897.\u001b[0m\n"
     ]
    },
    {
     "name": "stdout",
     "output_type": "stream",
     "text": [
      "Early stopping, best iteration is:\n",
      "[254]\ttraining's l1: 599155\tvalid_1's l1: 3.61781e+06\n",
      "Training until validation scores don't improve for 5 rounds\n"
     ]
    },
    {
     "name": "stderr",
     "output_type": "stream",
     "text": [
      "\u001b[32m[I 2021-01-03 18:01:18,439]\u001b[0m Trial 256 finished with value: 3725542.617532496 and parameters: {'nleaves': 41, 'bagfrac': 0.8952533666645306, 'bagfreq': 2, 'featfrac': 0.8133324909936926, 'lambda_l1': 0.0006092886803666488, 'lambda_l2': 9.956987928535215, 'minchild': 11}. Best is trial 163 with value: 3544622.0430570897.\u001b[0m\n"
     ]
    },
    {
     "name": "stdout",
     "output_type": "stream",
     "text": [
      "Early stopping, best iteration is:\n",
      "[238]\ttraining's l1: 708988\tvalid_1's l1: 3.72554e+06\n",
      "Training until validation scores don't improve for 5 rounds\n"
     ]
    },
    {
     "name": "stderr",
     "output_type": "stream",
     "text": [
      "\u001b[32m[I 2021-01-03 18:01:20,043]\u001b[0m Trial 257 finished with value: 3634737.915577392 and parameters: {'nleaves': 61, 'bagfrac': 0.9047465050190128, 'bagfreq': 1, 'featfrac': 0.8009881090909238, 'lambda_l1': 0.0007859279944469463, 'lambda_l2': 4.029699058354216, 'minchild': 9}. Best is trial 163 with value: 3544622.0430570897.\u001b[0m\n"
     ]
    },
    {
     "name": "stdout",
     "output_type": "stream",
     "text": [
      "Early stopping, best iteration is:\n",
      "[186]\ttraining's l1: 464283\tvalid_1's l1: 3.63474e+06\n",
      "Training until validation scores don't improve for 5 rounds\n"
     ]
    },
    {
     "name": "stderr",
     "output_type": "stream",
     "text": [
      "\u001b[32m[I 2021-01-03 18:01:21,215]\u001b[0m Trial 258 finished with value: 3702930.80339035 and parameters: {'nleaves': 58, 'bagfrac': 0.9024269783630743, 'bagfreq': 1, 'featfrac': 0.8020125084232851, 'lambda_l1': 0.0009743040766225236, 'lambda_l2': 4.244491966765526, 'minchild': 9}. Best is trial 163 with value: 3544622.0430570897.\u001b[0m\n"
     ]
    },
    {
     "name": "stdout",
     "output_type": "stream",
     "text": [
      "Early stopping, best iteration is:\n",
      "[145]\ttraining's l1: 727545\tvalid_1's l1: 3.70293e+06\n",
      "Training until validation scores don't improve for 5 rounds\n"
     ]
    },
    {
     "name": "stderr",
     "output_type": "stream",
     "text": [
      "\u001b[32m[I 2021-01-03 18:01:22,742]\u001b[0m Trial 259 finished with value: 3727073.1552841105 and parameters: {'nleaves': 54, 'bagfrac': 0.9044829276870601, 'bagfreq': 1, 'featfrac': 0.7957160140466429, 'lambda_l1': 0.0010871649709908548, 'lambda_l2': 3.4966499810637544, 'minchild': 7}. Best is trial 163 with value: 3544622.0430570897.\u001b[0m\n"
     ]
    },
    {
     "name": "stdout",
     "output_type": "stream",
     "text": [
      "Early stopping, best iteration is:\n",
      "[189]\ttraining's l1: 539449\tvalid_1's l1: 3.72707e+06\n",
      "Training until validation scores don't improve for 5 rounds\n"
     ]
    },
    {
     "name": "stderr",
     "output_type": "stream",
     "text": [
      "\u001b[32m[I 2021-01-03 18:01:24,311]\u001b[0m Trial 260 finished with value: 3657108.091825584 and parameters: {'nleaves': 45, 'bagfrac': 0.8936112141596751, 'bagfreq': 1, 'featfrac': 0.8096556174273051, 'lambda_l1': 0.0007557009484102547, 'lambda_l2': 5.898613278173435, 'minchild': 10}. Best is trial 163 with value: 3544622.0430570897.\u001b[0m\n"
     ]
    },
    {
     "name": "stdout",
     "output_type": "stream",
     "text": [
      "Early stopping, best iteration is:\n",
      "[274]\ttraining's l1: 460384\tvalid_1's l1: 3.65711e+06\n",
      "Training until validation scores don't improve for 5 rounds\n"
     ]
    },
    {
     "name": "stderr",
     "output_type": "stream",
     "text": [
      "\u001b[32m[I 2021-01-03 18:01:25,962]\u001b[0m Trial 261 finished with value: 3803359.074441332 and parameters: {'nleaves': 61, 'bagfrac': 0.9055129234425087, 'bagfreq': 10, 'featfrac': 0.8036865079532824, 'lambda_l1': 0.001481615270266814, 'lambda_l2': 4.655517761557004, 'minchild': 7}. Best is trial 163 with value: 3544622.0430570897.\u001b[0m\n"
     ]
    },
    {
     "name": "stdout",
     "output_type": "stream",
     "text": [
      "Early stopping, best iteration is:\n",
      "[206]\ttraining's l1: 407244\tvalid_1's l1: 3.80336e+06\n",
      "Training until validation scores don't improve for 5 rounds\n"
     ]
    },
    {
     "name": "stderr",
     "output_type": "stream",
     "text": [
      "\u001b[32m[I 2021-01-03 18:01:27,526]\u001b[0m Trial 262 finished with value: 3762654.4811128257 and parameters: {'nleaves': 69, 'bagfrac': 0.9231600718188141, 'bagfreq': 1, 'featfrac': 0.79592900419434, 'lambda_l1': 0.0028818663199833743, 'lambda_l2': 7.3951788839464685, 'minchild': 11}. Best is trial 163 with value: 3544622.0430570897.\u001b[0m\n"
     ]
    },
    {
     "name": "stdout",
     "output_type": "stream",
     "text": [
      "Early stopping, best iteration is:\n",
      "[171]\ttraining's l1: 485744\tvalid_1's l1: 3.76265e+06\n",
      "Training until validation scores don't improve for 5 rounds\n"
     ]
    },
    {
     "name": "stderr",
     "output_type": "stream",
     "text": [
      "\u001b[32m[I 2021-01-03 18:01:29,331]\u001b[0m Trial 263 finished with value: 3784916.739570031 and parameters: {'nleaves': 56, 'bagfrac': 0.9174684905424464, 'bagfreq': 2, 'featfrac': 0.7828182279768646, 'lambda_l1': 0.0009581195044604401, 'lambda_l2': 3.791417602864047, 'minchild': 5}. Best is trial 163 with value: 3544622.0430570897.\u001b[0m\n"
     ]
    },
    {
     "name": "stdout",
     "output_type": "stream",
     "text": [
      "Early stopping, best iteration is:\n",
      "[227]\ttraining's l1: 374063\tvalid_1's l1: 3.78492e+06\n",
      "Training until validation scores don't improve for 5 rounds\n"
     ]
    },
    {
     "name": "stderr",
     "output_type": "stream",
     "text": [
      "\u001b[32m[I 2021-01-03 18:01:30,688]\u001b[0m Trial 264 finished with value: 3703943.216383029 and parameters: {'nleaves': 43, 'bagfrac': 0.8866673238550921, 'bagfreq': 1, 'featfrac': 0.8137518831607546, 'lambda_l1': 0.0014734053899942738, 'lambda_l2': 6.222685542757678, 'minchild': 9}. Best is trial 163 with value: 3544622.0430570897.\u001b[0m\n"
     ]
    },
    {
     "name": "stdout",
     "output_type": "stream",
     "text": [
      "Early stopping, best iteration is:\n",
      "[240]\ttraining's l1: 593393\tvalid_1's l1: 3.70394e+06\n",
      "Training until validation scores don't improve for 5 rounds\n"
     ]
    },
    {
     "name": "stderr",
     "output_type": "stream",
     "text": [
      "\u001b[32m[I 2021-01-03 18:01:31,769]\u001b[0m Trial 265 finished with value: 3667622.277489026 and parameters: {'nleaves': 51, 'bagfrac': 0.8984502458508022, 'bagfreq': 2, 'featfrac': 0.7903249772358363, 'lambda_l1': 0.0007814618133866362, 'lambda_l2': 7.42790437800898, 'minchild': 13}. Best is trial 163 with value: 3544622.0430570897.\u001b[0m\n"
     ]
    },
    {
     "name": "stdout",
     "output_type": "stream",
     "text": [
      "Early stopping, best iteration is:\n",
      "[155]\ttraining's l1: 869798\tvalid_1's l1: 3.66762e+06\n",
      "Training until validation scores don't improve for 5 rounds\n"
     ]
    },
    {
     "name": "stderr",
     "output_type": "stream",
     "text": [
      "\u001b[32m[I 2021-01-03 18:01:34,500]\u001b[0m Trial 266 finished with value: 3713806.897583492 and parameters: {'nleaves': 59, 'bagfrac': 0.910383378437178, 'bagfreq': 2, 'featfrac': 0.7769388022250487, 'lambda_l1': 0.002348829543473273, 'lambda_l2': 5.23512018020623, 'minchild': 1}. Best is trial 163 with value: 3544622.0430570897.\u001b[0m\n"
     ]
    },
    {
     "name": "stdout",
     "output_type": "stream",
     "text": [
      "Early stopping, best iteration is:\n",
      "[270]\ttraining's l1: 255136\tvalid_1's l1: 3.71381e+06\n",
      "Training until validation scores don't improve for 5 rounds\n"
     ]
    },
    {
     "name": "stderr",
     "output_type": "stream",
     "text": [
      "\u001b[32m[I 2021-01-03 18:01:36,256]\u001b[0m Trial 267 finished with value: 3662753.534862839 and parameters: {'nleaves': 65, 'bagfrac': 0.9199930027147083, 'bagfreq': 1, 'featfrac': 0.8059378469501709, 'lambda_l1': 0.0032782332019786705, 'lambda_l2': 9.825532561815113, 'minchild': 6}. Best is trial 163 with value: 3544622.0430570897.\u001b[0m\n"
     ]
    },
    {
     "name": "stdout",
     "output_type": "stream",
     "text": [
      "Early stopping, best iteration is:\n",
      "[198]\ttraining's l1: 444702\tvalid_1's l1: 3.66275e+06\n",
      "Training until validation scores don't improve for 5 rounds\n"
     ]
    },
    {
     "name": "stderr",
     "output_type": "stream",
     "text": [
      "\u001b[32m[I 2021-01-03 18:01:38,316]\u001b[0m Trial 268 finished with value: 3672389.7237793016 and parameters: {'nleaves': 47, 'bagfrac': 0.9308887784521346, 'bagfreq': 2, 'featfrac': 0.8004190733298452, 'lambda_l1': 0.0016626293786891233, 'lambda_l2': 3.2408377257299374, 'minchild': 8}. Best is trial 163 with value: 3544622.0430570897.\u001b[0m\n"
     ]
    },
    {
     "name": "stdout",
     "output_type": "stream",
     "text": [
      "Early stopping, best iteration is:\n",
      "[289]\ttraining's l1: 333969\tvalid_1's l1: 3.67239e+06\n",
      "Training until validation scores don't improve for 5 rounds\n"
     ]
    },
    {
     "name": "stderr",
     "output_type": "stream",
     "text": [
      "\u001b[32m[I 2021-01-03 18:01:40,217]\u001b[0m Trial 269 finished with value: 3611219.041569181 and parameters: {'nleaves': 52, 'bagfrac': 0.9092467991292293, 'bagfreq': 2, 'featfrac': 0.7937521573397838, 'lambda_l1': 0.0007758487534625262, 'lambda_l2': 9.841344743785172, 'minchild': 12}. Best is trial 163 with value: 3544622.0430570897.\u001b[0m\n"
     ]
    },
    {
     "name": "stdout",
     "output_type": "stream",
     "text": [
      "Early stopping, best iteration is:\n",
      "[314]\ttraining's l1: 291365\tvalid_1's l1: 3.61122e+06\n",
      "Training until validation scores don't improve for 5 rounds\n"
     ]
    },
    {
     "name": "stderr",
     "output_type": "stream",
     "text": [
      "\u001b[32m[I 2021-01-03 18:01:41,857]\u001b[0m Trial 270 finished with value: 3709510.4429789353 and parameters: {'nleaves': 54, 'bagfrac': 0.9114476688299635, 'bagfreq': 2, 'featfrac': 0.7951937574890319, 'lambda_l1': 0.0006341761792882192, 'lambda_l2': 7.87722912288909, 'minchild': 12}. Best is trial 163 with value: 3544622.0430570897.\u001b[0m\n"
     ]
    },
    {
     "name": "stdout",
     "output_type": "stream",
     "text": [
      "Early stopping, best iteration is:\n",
      "[252]\ttraining's l1: 395519\tvalid_1's l1: 3.70951e+06\n",
      "Training until validation scores don't improve for 5 rounds\n"
     ]
    },
    {
     "name": "stderr",
     "output_type": "stream",
     "text": [
      "\u001b[32m[I 2021-01-03 18:01:43,719]\u001b[0m Trial 271 finished with value: 3599119.760205468 and parameters: {'nleaves': 61, 'bagfrac': 0.924382272576429, 'bagfreq': 2, 'featfrac': 0.8081953602002658, 'lambda_l1': 0.0008454605668923063, 'lambda_l2': 9.68460473261692, 'minchild': 14}. Best is trial 163 with value: 3544622.0430570897.\u001b[0m\n"
     ]
    },
    {
     "name": "stdout",
     "output_type": "stream",
     "text": [
      "Early stopping, best iteration is:\n",
      "[252]\ttraining's l1: 326775\tvalid_1's l1: 3.59912e+06\n",
      "Training until validation scores don't improve for 5 rounds\n"
     ]
    },
    {
     "name": "stderr",
     "output_type": "stream",
     "text": [
      "\u001b[32m[I 2021-01-03 18:01:44,975]\u001b[0m Trial 272 finished with value: 3784403.138727415 and parameters: {'nleaves': 51, 'bagfrac': 0.9256761178063385, 'bagfreq': 1, 'featfrac': 0.8077386576059812, 'lambda_l1': 0.0005669947179811499, 'lambda_l2': 9.744594750457951, 'minchild': 15}. Best is trial 163 with value: 3544622.0430570897.\u001b[0m\n"
     ]
    },
    {
     "name": "stdout",
     "output_type": "stream",
     "text": [
      "Early stopping, best iteration is:\n",
      "[200]\ttraining's l1: 661205\tvalid_1's l1: 3.7844e+06\n",
      "Training until validation scores don't improve for 5 rounds\n"
     ]
    },
    {
     "name": "stderr",
     "output_type": "stream",
     "text": [
      "\u001b[32m[I 2021-01-03 18:01:46,478]\u001b[0m Trial 273 finished with value: 3720745.7719305297 and parameters: {'nleaves': 57, 'bagfrac': 0.9186341033591903, 'bagfreq': 2, 'featfrac': 0.8093736948162819, 'lambda_l1': 0.0008369961966072743, 'lambda_l2': 9.69134103670323, 'minchild': 14}. Best is trial 163 with value: 3544622.0430570897.\u001b[0m\n"
     ]
    },
    {
     "name": "stdout",
     "output_type": "stream",
     "text": [
      "Early stopping, best iteration is:\n",
      "[216]\ttraining's l1: 483700\tvalid_1's l1: 3.72075e+06\n",
      "Training until validation scores don't improve for 5 rounds\n"
     ]
    },
    {
     "name": "stderr",
     "output_type": "stream",
     "text": [
      "\u001b[32m[I 2021-01-03 18:01:47,905]\u001b[0m Trial 274 finished with value: 3681977.4487632397 and parameters: {'nleaves': 55, 'bagfrac': 0.9294606263469604, 'bagfreq': 2, 'featfrac': 0.8155177828459194, 'lambda_l1': 0.0008927317588440437, 'lambda_l2': 6.058134792779415, 'minchild': 12}. Best is trial 163 with value: 3544622.0430570897.\u001b[0m\n"
     ]
    },
    {
     "name": "stdout",
     "output_type": "stream",
     "text": [
      "Early stopping, best iteration is:\n",
      "[209]\ttraining's l1: 496009\tvalid_1's l1: 3.68198e+06\n",
      "Training until validation scores don't improve for 5 rounds\n"
     ]
    },
    {
     "name": "stderr",
     "output_type": "stream",
     "text": [
      "\u001b[32m[I 2021-01-03 18:01:49,583]\u001b[0m Trial 275 finished with value: 3667121.81219486 and parameters: {'nleaves': 61, 'bagfrac': 0.9339618871048594, 'bagfreq': 2, 'featfrac': 0.8012216713145647, 'lambda_l1': 4.879332532467965e-05, 'lambda_l2': 9.963329468958753, 'minchild': 16}. Best is trial 163 with value: 3544622.0430570897.\u001b[0m\n"
     ]
    },
    {
     "name": "stdout",
     "output_type": "stream",
     "text": [
      "Early stopping, best iteration is:\n",
      "[238]\ttraining's l1: 366049\tvalid_1's l1: 3.66712e+06\n",
      "Training until validation scores don't improve for 5 rounds\n"
     ]
    },
    {
     "name": "stderr",
     "output_type": "stream",
     "text": [
      "\u001b[32m[I 2021-01-03 18:01:51,172]\u001b[0m Trial 276 finished with value: 3666264.83343407 and parameters: {'nleaves': 67, 'bagfrac': 0.92279826393042, 'bagfreq': 1, 'featfrac': 0.799198568331503, 'lambda_l1': 0.0005217437906411199, 'lambda_l2': 9.906350906937675, 'minchild': 15}. Best is trial 163 with value: 3544622.0430570897.\u001b[0m\n"
     ]
    },
    {
     "name": "stdout",
     "output_type": "stream",
     "text": [
      "Early stopping, best iteration is:\n",
      "[206]\ttraining's l1: 407475\tvalid_1's l1: 3.66626e+06\n",
      "Training until validation scores don't improve for 5 rounds\n"
     ]
    },
    {
     "name": "stderr",
     "output_type": "stream",
     "text": [
      "\u001b[32m[I 2021-01-03 18:01:53,233]\u001b[0m Trial 277 finished with value: 3598336.565501029 and parameters: {'nleaves': 50, 'bagfrac': 0.9183115122641454, 'bagfreq': 2, 'featfrac': 0.8168424027126125, 'lambda_l1': 0.00015352670314635136, 'lambda_l2': 7.608788614529373, 'minchild': 10}. Best is trial 163 with value: 3544622.0430570897.\u001b[0m\n"
     ]
    },
    {
     "name": "stdout",
     "output_type": "stream",
     "text": [
      "Early stopping, best iteration is:\n",
      "[325]\ttraining's l1: 280387\tvalid_1's l1: 3.59834e+06\n",
      "Training until validation scores don't improve for 5 rounds\n"
     ]
    },
    {
     "name": "stderr",
     "output_type": "stream",
     "text": [
      "\u001b[32m[I 2021-01-03 18:01:55,214]\u001b[0m Trial 278 finished with value: 3630345.1571120364 and parameters: {'nleaves': 48, 'bagfrac': 0.9148242128965363, 'bagfreq': 2, 'featfrac': 0.8055440990701958, 'lambda_l1': 0.00013334758056038936, 'lambda_l2': 9.93506848353471, 'minchild': 1}. Best is trial 163 with value: 3544622.0430570897.\u001b[0m\n"
     ]
    },
    {
     "name": "stdout",
     "output_type": "stream",
     "text": [
      "Early stopping, best iteration is:\n",
      "[266]\ttraining's l1: 461004\tvalid_1's l1: 3.63035e+06\n",
      "Training until validation scores don't improve for 5 rounds\n"
     ]
    },
    {
     "name": "stderr",
     "output_type": "stream",
     "text": [
      "\u001b[32m[I 2021-01-03 18:01:57,121]\u001b[0m Trial 279 finished with value: 3615740.6263114056 and parameters: {'nleaves': 51, 'bagfrac': 0.9111759966271292, 'bagfreq': 2, 'featfrac': 0.8107004422925274, 'lambda_l1': 0.00013313099131044212, 'lambda_l2': 9.966201946841084, 'minchild': 1}. Best is trial 163 with value: 3544622.0430570897.\u001b[0m\n"
     ]
    },
    {
     "name": "stdout",
     "output_type": "stream",
     "text": [
      "Early stopping, best iteration is:\n",
      "[236]\ttraining's l1: 497491\tvalid_1's l1: 3.61574e+06\n",
      "Training until validation scores don't improve for 5 rounds\n"
     ]
    },
    {
     "name": "stderr",
     "output_type": "stream",
     "text": [
      "\u001b[32m[I 2021-01-03 18:01:58,496]\u001b[0m Trial 280 finished with value: 3713851.895215353 and parameters: {'nleaves': 49, 'bagfrac': 0.9098746643890011, 'bagfreq': 2, 'featfrac': 0.8098845624907495, 'lambda_l1': 0.0001451302373232472, 'lambda_l2': 9.756991396241629, 'minchild': 1}. Best is trial 163 with value: 3544622.0430570897.\u001b[0m\n"
     ]
    },
    {
     "name": "stdout",
     "output_type": "stream",
     "text": [
      "Early stopping, best iteration is:\n",
      "[163]\ttraining's l1: 880110\tvalid_1's l1: 3.71385e+06\n",
      "Training until validation scores don't improve for 5 rounds\n"
     ]
    },
    {
     "name": "stderr",
     "output_type": "stream",
     "text": [
      "\u001b[32m[I 2021-01-03 18:01:59,778]\u001b[0m Trial 281 finished with value: 3715324.3940466912 and parameters: {'nleaves': 52, 'bagfrac': 0.9136653047080462, 'bagfreq': 2, 'featfrac': 0.813405791649897, 'lambda_l1': 0.00012129896447891195, 'lambda_l2': 7.538540226445942, 'minchild': 18}. Best is trial 163 with value: 3544622.0430570897.\u001b[0m\n"
     ]
    },
    {
     "name": "stdout",
     "output_type": "stream",
     "text": [
      "Early stopping, best iteration is:\n",
      "[192]\ttraining's l1: 654592\tvalid_1's l1: 3.71532e+06\n",
      "Training until validation scores don't improve for 5 rounds\n"
     ]
    },
    {
     "name": "stderr",
     "output_type": "stream",
     "text": [
      "\u001b[32m[I 2021-01-03 18:02:02,066]\u001b[0m Trial 282 finished with value: 3630349.2729292195 and parameters: {'nleaves': 48, 'bagfrac': 0.915159828123089, 'bagfreq': 2, 'featfrac': 0.8158315526707979, 'lambda_l1': 7.449055301799349e-05, 'lambda_l2': 9.754369734097496, 'minchild': 3}. Best is trial 163 with value: 3544622.0430570897.\u001b[0m\n"
     ]
    },
    {
     "name": "stdout",
     "output_type": "stream",
     "text": [
      "Early stopping, best iteration is:\n",
      "[342]\ttraining's l1: 288777\tvalid_1's l1: 3.63035e+06\n",
      "Training until validation scores don't improve for 5 rounds\n"
     ]
    },
    {
     "name": "stderr",
     "output_type": "stream",
     "text": [
      "\u001b[32m[I 2021-01-03 18:02:04,116]\u001b[0m Trial 283 finished with value: 3568371.0303412904 and parameters: {'nleaves': 43, 'bagfrac': 0.9148615602720309, 'bagfreq': 2, 'featfrac': 0.818325426677977, 'lambda_l1': 7.402722177768256e-05, 'lambda_l2': 5.9523480508673545, 'minchild': 1}. Best is trial 163 with value: 3544622.0430570897.\u001b[0m\n"
     ]
    },
    {
     "name": "stdout",
     "output_type": "stream",
     "text": [
      "Early stopping, best iteration is:\n",
      "[293]\ttraining's l1: 429140\tvalid_1's l1: 3.56837e+06\n",
      "Training until validation scores don't improve for 5 rounds\n"
     ]
    },
    {
     "name": "stderr",
     "output_type": "stream",
     "text": [
      "\u001b[32m[I 2021-01-03 18:02:05,206]\u001b[0m Trial 284 finished with value: 3831355.7522760895 and parameters: {'nleaves': 42, 'bagfrac': 0.9275271839779394, 'bagfreq': 2, 'featfrac': 0.8204517886820363, 'lambda_l1': 5.666129505658577e-05, 'lambda_l2': 5.921969326578859, 'minchild': 1}. Best is trial 163 with value: 3544622.0430570897.\u001b[0m\n"
     ]
    },
    {
     "name": "stdout",
     "output_type": "stream",
     "text": [
      "Early stopping, best iteration is:\n",
      "[116]\ttraining's l1: 1.40738e+06\tvalid_1's l1: 3.83136e+06\n",
      "Training until validation scores don't improve for 5 rounds\n"
     ]
    },
    {
     "name": "stderr",
     "output_type": "stream",
     "text": [
      "\u001b[32m[I 2021-01-03 18:02:06,452]\u001b[0m Trial 285 finished with value: 3753311.8652086426 and parameters: {'nleaves': 45, 'bagfrac': 0.9157195102909934, 'bagfreq': 2, 'featfrac': 0.8085953478248232, 'lambda_l1': 8.234934457173156e-05, 'lambda_l2': 5.624610711901695, 'minchild': 1}. Best is trial 163 with value: 3544622.0430570897.\u001b[0m\n"
     ]
    },
    {
     "name": "stdout",
     "output_type": "stream",
     "text": [
      "Early stopping, best iteration is:\n",
      "[160]\ttraining's l1: 911963\tvalid_1's l1: 3.75331e+06\n",
      "Training until validation scores don't improve for 5 rounds\n"
     ]
    },
    {
     "name": "stderr",
     "output_type": "stream",
     "text": [
      "\u001b[32m[I 2021-01-03 18:02:08,367]\u001b[0m Trial 286 finished with value: 3598805.15812842 and parameters: {'nleaves': 45, 'bagfrac': 0.9086441230170145, 'bagfreq': 2, 'featfrac': 0.8168431394336406, 'lambda_l1': 0.00018321189536371326, 'lambda_l2': 7.438970130103994, 'minchild': 5}. Best is trial 163 with value: 3544622.0430570897.\u001b[0m\n"
     ]
    },
    {
     "name": "stdout",
     "output_type": "stream",
     "text": [
      "Early stopping, best iteration is:\n",
      "[292]\ttraining's l1: 411870\tvalid_1's l1: 3.59881e+06\n",
      "Training until validation scores don't improve for 5 rounds\n"
     ]
    },
    {
     "name": "stderr",
     "output_type": "stream",
     "text": [
      "\u001b[32m[I 2021-01-03 18:02:09,775]\u001b[0m Trial 287 finished with value: 3778905.7753420146 and parameters: {'nleaves': 38, 'bagfrac': 0.9089838713339892, 'bagfreq': 2, 'featfrac': 0.8237429336216914, 'lambda_l1': 0.00019099079588948803, 'lambda_l2': 7.19613899487465, 'minchild': 5}. Best is trial 163 with value: 3544622.0430570897.\u001b[0m\n"
     ]
    },
    {
     "name": "stdout",
     "output_type": "stream",
     "text": [
      "Early stopping, best iteration is:\n",
      "[246]\ttraining's l1: 714262\tvalid_1's l1: 3.77891e+06\n",
      "Training until validation scores don't improve for 5 rounds\n"
     ]
    },
    {
     "name": "stderr",
     "output_type": "stream",
     "text": [
      "\u001b[32m[I 2021-01-03 18:02:10,885]\u001b[0m Trial 288 finished with value: 3749754.2920900993 and parameters: {'nleaves': 44, 'bagfrac': 0.9085501294617391, 'bagfreq': 2, 'featfrac': 0.8167890400176796, 'lambda_l1': 0.00021835689060678708, 'lambda_l2': 4.988149110765531, 'minchild': 13}. Best is trial 163 with value: 3544622.0430570897.\u001b[0m\n"
     ]
    },
    {
     "name": "stdout",
     "output_type": "stream",
     "text": [
      "Early stopping, best iteration is:\n",
      "[181]\ttraining's l1: 830739\tvalid_1's l1: 3.74975e+06\n",
      "Training until validation scores don't improve for 5 rounds\n"
     ]
    },
    {
     "name": "stderr",
     "output_type": "stream",
     "text": [
      "\u001b[32m[I 2021-01-03 18:02:12,058]\u001b[0m Trial 289 finished with value: 3775533.321898173 and parameters: {'nleaves': 41, 'bagfrac': 0.9235706378535041, 'bagfreq': 2, 'featfrac': 0.8275458126755617, 'lambda_l1': 9.114709049216771e-05, 'lambda_l2': 7.357681871797234, 'minchild': 5}. Best is trial 163 with value: 3544622.0430570897.\u001b[0m\n"
     ]
    },
    {
     "name": "stdout",
     "output_type": "stream",
     "text": [
      "Early stopping, best iteration is:\n",
      "[183]\ttraining's l1: 924695\tvalid_1's l1: 3.77553e+06\n",
      "Training until validation scores don't improve for 5 rounds\n"
     ]
    },
    {
     "name": "stderr",
     "output_type": "stream",
     "text": [
      "\u001b[32m[I 2021-01-03 18:02:13,330]\u001b[0m Trial 290 finished with value: 3764019.8968734285 and parameters: {'nleaves': 51, 'bagfrac': 0.8204102958429726, 'bagfreq': 2, 'featfrac': 0.8198806669038744, 'lambda_l1': 0.00023772449808509083, 'lambda_l2': 9.97148141036342, 'minchild': 3}. Best is trial 163 with value: 3544622.0430570897.\u001b[0m\n"
     ]
    },
    {
     "name": "stdout",
     "output_type": "stream",
     "text": [
      "Early stopping, best iteration is:\n",
      "[142]\ttraining's l1: 986927\tvalid_1's l1: 3.76402e+06\n",
      "Training until validation scores don't improve for 5 rounds\n"
     ]
    },
    {
     "name": "stderr",
     "output_type": "stream",
     "text": [
      "\u001b[32m[I 2021-01-03 18:02:14,508]\u001b[0m Trial 291 finished with value: 3606439.4633025667 and parameters: {'nleaves': 37, 'bagfrac': 0.9336522085161199, 'bagfreq': 2, 'featfrac': 0.8127973618696588, 'lambda_l1': 3.6968679909170715e-05, 'lambda_l2': 5.380023790099253, 'minchild': 10}. Best is trial 163 with value: 3544622.0430570897.\u001b[0m\n"
     ]
    },
    {
     "name": "stdout",
     "output_type": "stream",
     "text": [
      "Early stopping, best iteration is:\n",
      "[240]\ttraining's l1: 746101\tvalid_1's l1: 3.60644e+06\n",
      "Training until validation scores don't improve for 5 rounds\n"
     ]
    },
    {
     "name": "stderr",
     "output_type": "stream",
     "text": [
      "\u001b[32m[I 2021-01-03 18:02:15,349]\u001b[0m Trial 292 finished with value: 3812533.515765584 and parameters: {'nleaves': 37, 'bagfrac': 0.9186290584622534, 'bagfreq': 2, 'featfrac': 0.8150668349403449, 'lambda_l1': 4.8695225884809874e-05, 'lambda_l2': 3.262654844315713, 'minchild': 11}. Best is trial 163 with value: 3544622.0430570897.\u001b[0m\n"
     ]
    },
    {
     "name": "stdout",
     "output_type": "stream",
     "text": [
      "Early stopping, best iteration is:\n",
      "[145]\ttraining's l1: 1.25569e+06\tvalid_1's l1: 3.81253e+06\n",
      "Training until validation scores don't improve for 5 rounds\n"
     ]
    },
    {
     "name": "stderr",
     "output_type": "stream",
     "text": [
      "\u001b[32m[I 2021-01-03 18:02:16,443]\u001b[0m Trial 293 finished with value: 3631610.3325702786 and parameters: {'nleaves': 44, 'bagfrac': 0.9335126388916414, 'bagfreq': 2, 'featfrac': 0.8103491044259442, 'lambda_l1': 1.96446842597375e-05, 'lambda_l2': 5.153944132291235, 'minchild': 10}. Best is trial 163 with value: 3544622.0430570897.\u001b[0m\n"
     ]
    },
    {
     "name": "stdout",
     "output_type": "stream",
     "text": [
      "Early stopping, best iteration is:\n",
      "[172]\ttraining's l1: 865911\tvalid_1's l1: 3.63161e+06\n",
      "Training until validation scores don't improve for 5 rounds\n"
     ]
    },
    {
     "name": "stderr",
     "output_type": "stream",
     "text": [
      "\u001b[32m[I 2021-01-03 18:02:17,868]\u001b[0m Trial 294 finished with value: 3626540.9144813577 and parameters: {'nleaves': 39, 'bagfrac': 0.9359443682911488, 'bagfreq': 2, 'featfrac': 0.8047382502012315, 'lambda_l1': 2.497242219663829e-05, 'lambda_l2': 5.476047114643428, 'minchild': 13}. Best is trial 163 with value: 3544622.0430570897.\u001b[0m\n"
     ]
    },
    {
     "name": "stdout",
     "output_type": "stream",
     "text": [
      "Early stopping, best iteration is:\n",
      "[300]\ttraining's l1: 510372\tvalid_1's l1: 3.62654e+06\n",
      "Training until validation scores don't improve for 5 rounds\n"
     ]
    },
    {
     "name": "stderr",
     "output_type": "stream",
     "text": [
      "\u001b[32m[I 2021-01-03 18:02:18,864]\u001b[0m Trial 295 finished with value: 3694571.3002276937 and parameters: {'nleaves': 38, 'bagfrac': 0.9339769199916761, 'bagfreq': 2, 'featfrac': 0.8066135740397362, 'lambda_l1': 3.5979959187691204e-05, 'lambda_l2': 2.817281363382105, 'minchild': 15}. Best is trial 163 with value: 3544622.0430570897.\u001b[0m\n"
     ]
    },
    {
     "name": "stdout",
     "output_type": "stream",
     "text": [
      "Early stopping, best iteration is:\n",
      "[201]\ttraining's l1: 861056\tvalid_1's l1: 3.69457e+06\n",
      "Training until validation scores don't improve for 5 rounds\n"
     ]
    },
    {
     "name": "stderr",
     "output_type": "stream",
     "text": [
      "\u001b[32m[I 2021-01-03 18:02:20,006]\u001b[0m Trial 296 finished with value: 3781682.6493688673 and parameters: {'nleaves': 32, 'bagfrac': 0.9358787495782793, 'bagfreq': 2, 'featfrac': 0.8133043102506954, 'lambda_l1': 3.809378412906598e-05, 'lambda_l2': 4.370971946788592, 'minchild': 13}. Best is trial 163 with value: 3544622.0430570897.\u001b[0m\n"
     ]
    },
    {
     "name": "stdout",
     "output_type": "stream",
     "text": [
      "Early stopping, best iteration is:\n",
      "[230]\ttraining's l1: 945683\tvalid_1's l1: 3.78168e+06\n",
      "Training until validation scores don't improve for 5 rounds\n"
     ]
    },
    {
     "name": "stderr",
     "output_type": "stream",
     "text": [
      "\u001b[32m[I 2021-01-03 18:02:21,074]\u001b[0m Trial 297 finished with value: 3694319.4642904834 and parameters: {'nleaves': 36, 'bagfrac': 0.9479288629271985, 'bagfreq': 2, 'featfrac': 0.8193425158955229, 'lambda_l1': 3.0088230279374085e-05, 'lambda_l2': 5.912110536496551, 'minchild': 16}. Best is trial 163 with value: 3544622.0430570897.\u001b[0m\n"
     ]
    },
    {
     "name": "stdout",
     "output_type": "stream",
     "text": [
      "Early stopping, best iteration is:\n",
      "[227]\ttraining's l1: 855696\tvalid_1's l1: 3.69432e+06\n",
      "Training until validation scores don't improve for 5 rounds\n"
     ]
    },
    {
     "name": "stderr",
     "output_type": "stream",
     "text": [
      "\u001b[32m[I 2021-01-03 18:02:22,417]\u001b[0m Trial 298 finished with value: 3744092.585034988 and parameters: {'nleaves': 39, 'bagfrac': 0.9302663332542808, 'bagfreq': 2, 'featfrac': 0.8047659184256226, 'lambda_l1': 6.242387988860917e-05, 'lambda_l2': 3.8887972181797315, 'minchild': 13}. Best is trial 163 with value: 3544622.0430570897.\u001b[0m\n"
     ]
    },
    {
     "name": "stdout",
     "output_type": "stream",
     "text": [
      "Early stopping, best iteration is:\n",
      "[264]\ttraining's l1: 594729\tvalid_1's l1: 3.74409e+06\n",
      "Training until validation scores don't improve for 5 rounds\n"
     ]
    },
    {
     "name": "stderr",
     "output_type": "stream",
     "text": [
      "\u001b[32m[I 2021-01-03 18:02:23,858]\u001b[0m Trial 299 finished with value: 3785204.449182911 and parameters: {'nleaves': 42, 'bagfrac': 0.9246104818244967, 'bagfreq': 3, 'featfrac': 0.8247417575648736, 'lambda_l1': 1.588116135067086e-05, 'lambda_l2': 7.117874116769635, 'minchild': 11}. Best is trial 163 with value: 3544622.0430570897.\u001b[0m\n"
     ]
    },
    {
     "name": "stdout",
     "output_type": "stream",
     "text": [
      "Early stopping, best iteration is:\n",
      "[240]\ttraining's l1: 645559\tvalid_1's l1: 3.7852e+06\n",
      "Training until validation scores don't improve for 5 rounds\n"
     ]
    },
    {
     "name": "stderr",
     "output_type": "stream",
     "text": [
      "\u001b[32m[I 2021-01-03 18:02:24,899]\u001b[0m Trial 300 finished with value: 3814714.152394358 and parameters: {'nleaves': 52, 'bagfrac': 0.9373812554126677, 'bagfreq': 2, 'featfrac': 0.8115584394785829, 'lambda_l1': 0.00010287234242517639, 'lambda_l2': 5.378822642776098, 'minchild': 15}. Best is trial 163 with value: 3544622.0430570897.\u001b[0m\n"
     ]
    },
    {
     "name": "stdout",
     "output_type": "stream",
     "text": [
      "Early stopping, best iteration is:\n",
      "[150]\ttraining's l1: 854296\tvalid_1's l1: 3.81471e+06\n",
      "Training until validation scores don't improve for 5 rounds\n"
     ]
    },
    {
     "name": "stderr",
     "output_type": "stream",
     "text": [
      "\u001b[32m[I 2021-01-03 18:02:26,072]\u001b[0m Trial 301 finished with value: 3715939.9781773277 and parameters: {'nleaves': 46, 'bagfrac': 0.950112447699409, 'bagfreq': 2, 'featfrac': 0.8040224531316871, 'lambda_l1': 2.263297040455983e-05, 'lambda_l2': 2.1867239136045757, 'minchild': 10}. Best is trial 163 with value: 3544622.0430570897.\u001b[0m\n"
     ]
    },
    {
     "name": "stdout",
     "output_type": "stream",
     "text": [
      "Early stopping, best iteration is:\n",
      "[192]\ttraining's l1: 654568\tvalid_1's l1: 3.71594e+06\n",
      "Training until validation scores don't improve for 5 rounds\n"
     ]
    },
    {
     "name": "stderr",
     "output_type": "stream",
     "text": [
      "\u001b[32m[I 2021-01-03 18:02:27,711]\u001b[0m Trial 302 finished with value: 3583890.958916042 and parameters: {'nleaves': 57, 'bagfrac': 0.9203941248291504, 'bagfreq': 2, 'featfrac': 0.8181999573295616, 'lambda_l1': 0.00016247010301100013, 'lambda_l2': 7.912069399757106, 'minchild': 13}. Best is trial 163 with value: 3544622.0430570897.\u001b[0m\n"
     ]
    },
    {
     "name": "stdout",
     "output_type": "stream",
     "text": [
      "Early stopping, best iteration is:\n",
      "[220]\ttraining's l1: 450877\tvalid_1's l1: 3.58389e+06\n",
      "Training until validation scores don't improve for 5 rounds\n"
     ]
    },
    {
     "name": "stderr",
     "output_type": "stream",
     "text": [
      "\u001b[32m[I 2021-01-03 18:02:28,863]\u001b[0m Trial 303 finished with value: 3683254.0809591366 and parameters: {'nleaves': 57, 'bagfrac': 0.9172994037443714, 'bagfreq': 1, 'featfrac': 0.8272365813471654, 'lambda_l1': 0.00015563248072333386, 'lambda_l2': 7.62897121195808, 'minchild': 17}. Best is trial 163 with value: 3544622.0430570897.\u001b[0m\n"
     ]
    },
    {
     "name": "stdout",
     "output_type": "stream",
     "text": [
      "Early stopping, best iteration is:\n",
      "[155]\ttraining's l1: 755259\tvalid_1's l1: 3.68325e+06\n",
      "Training until validation scores don't improve for 5 rounds\n"
     ]
    },
    {
     "name": "stderr",
     "output_type": "stream",
     "text": [
      "\u001b[32m[I 2021-01-03 18:02:30,634]\u001b[0m Trial 304 finished with value: 3672663.5185368992 and parameters: {'nleaves': 54, 'bagfrac': 0.9207179844486004, 'bagfreq': 2, 'featfrac': 0.817238598721841, 'lambda_l1': 0.00030073470367141165, 'lambda_l2': 0.30698603614903736, 'minchild': 7}. Best is trial 163 with value: 3544622.0430570897.\u001b[0m\n"
     ]
    },
    {
     "name": "stdout",
     "output_type": "stream",
     "text": [
      "Early stopping, best iteration is:\n",
      "[245]\ttraining's l1: 284747\tvalid_1's l1: 3.67266e+06\n",
      "Training until validation scores don't improve for 5 rounds\n"
     ]
    },
    {
     "name": "stderr",
     "output_type": "stream",
     "text": [
      "\u001b[32m[I 2021-01-03 18:02:32,332]\u001b[0m Trial 305 finished with value: 3610294.6456778278 and parameters: {'nleaves': 59, 'bagfrac': 0.9113206012220505, 'bagfreq': 2, 'featfrac': 0.8196296386377901, 'lambda_l1': 0.00019233739519133313, 'lambda_l2': 7.778372821685691, 'minchild': 6}. Best is trial 163 with value: 3544622.0430570897.\u001b[0m\n"
     ]
    },
    {
     "name": "stdout",
     "output_type": "stream",
     "text": [
      "Early stopping, best iteration is:\n",
      "[196]\ttraining's l1: 491561\tvalid_1's l1: 3.61029e+06\n",
      "Training until validation scores don't improve for 5 rounds\n"
     ]
    },
    {
     "name": "stderr",
     "output_type": "stream",
     "text": [
      "\u001b[32m[I 2021-01-03 18:02:34,206]\u001b[0m Trial 306 finished with value: 3612806.2871125643 and parameters: {'nleaves': 72, 'bagfrac': 0.926444763356589, 'bagfreq': 2, 'featfrac': 0.8245303726139482, 'lambda_l1': 0.00017327907597392082, 'lambda_l2': 9.770439982791926, 'minchild': 6}. Best is trial 163 with value: 3544622.0430570897.\u001b[0m\n"
     ]
    },
    {
     "name": "stdout",
     "output_type": "stream",
     "text": [
      "Early stopping, best iteration is:\n",
      "[193]\ttraining's l1: 376921\tvalid_1's l1: 3.61281e+06\n",
      "Training until validation scores don't improve for 5 rounds\n"
     ]
    },
    {
     "name": "stderr",
     "output_type": "stream",
     "text": [
      "\u001b[32m[I 2021-01-03 18:02:36,569]\u001b[0m Trial 307 finished with value: 3683865.975669233 and parameters: {'nleaves': 76, 'bagfrac': 0.9254687410486899, 'bagfreq': 3, 'featfrac': 0.8290038027172799, 'lambda_l1': 0.00017487761790042645, 'lambda_l2': 9.946816708982798, 'minchild': 5}. Best is trial 163 with value: 3544622.0430570897.\u001b[0m\n"
     ]
    },
    {
     "name": "stdout",
     "output_type": "stream",
     "text": [
      "Early stopping, best iteration is:\n",
      "[237]\ttraining's l1: 224166\tvalid_1's l1: 3.68387e+06\n",
      "Training until validation scores don't improve for 5 rounds\n"
     ]
    },
    {
     "name": "stderr",
     "output_type": "stream",
     "text": [
      "\u001b[32m[I 2021-01-03 18:02:38,810]\u001b[0m Trial 308 finished with value: 3675830.5094751944 and parameters: {'nleaves': 73, 'bagfrac': 0.9281753341689819, 'bagfreq': 2, 'featfrac': 0.8377999325500114, 'lambda_l1': 0.0001136904166552797, 'lambda_l2': 9.553579835888325, 'minchild': 6}. Best is trial 163 with value: 3544622.0430570897.\u001b[0m\n"
     ]
    },
    {
     "name": "stdout",
     "output_type": "stream",
     "text": [
      "Early stopping, best iteration is:\n",
      "[181]\ttraining's l1: 406635\tvalid_1's l1: 3.67583e+06\n",
      "Training until validation scores don't improve for 5 rounds\n"
     ]
    },
    {
     "name": "stderr",
     "output_type": "stream",
     "text": [
      "\u001b[32m[I 2021-01-03 18:02:40,722]\u001b[0m Trial 309 finished with value: 3693680.363066681 and parameters: {'nleaves': 79, 'bagfrac': 0.9151442347921087, 'bagfreq': 2, 'featfrac': 0.8263248012764043, 'lambda_l1': 0.00016734740911806493, 'lambda_l2': 7.346088553245643, 'minchild': 4}. Best is trial 163 with value: 3544622.0430570897.\u001b[0m\n"
     ]
    },
    {
     "name": "stdout",
     "output_type": "stream",
     "text": [
      "Early stopping, best iteration is:\n",
      "[170]\ttraining's l1: 365682\tvalid_1's l1: 3.69368e+06\n",
      "Training until validation scores don't improve for 5 rounds\n"
     ]
    },
    {
     "name": "stderr",
     "output_type": "stream",
     "text": [
      "\u001b[32m[I 2021-01-03 18:02:42,754]\u001b[0m Trial 310 finished with value: 3684973.868133927 and parameters: {'nleaves': 70, 'bagfrac': 0.9190450013766958, 'bagfreq': 2, 'featfrac': 0.8323893235851934, 'lambda_l1': 8.833780344206822e-05, 'lambda_l2': 7.813011709027098, 'minchild': 6}. Best is trial 163 with value: 3544622.0430570897.\u001b[0m\n"
     ]
    },
    {
     "name": "stdout",
     "output_type": "stream",
     "text": [
      "Early stopping, best iteration is:\n",
      "[182]\ttraining's l1: 412136\tvalid_1's l1: 3.68497e+06\n",
      "Training until validation scores don't improve for 5 rounds\n"
     ]
    },
    {
     "name": "stderr",
     "output_type": "stream",
     "text": [
      "\u001b[32m[I 2021-01-03 18:02:44,155]\u001b[0m Trial 311 finished with value: 3584743.9427647875 and parameters: {'nleaves': 66, 'bagfrac': 0.898997413205887, 'bagfreq': 2, 'featfrac': 0.8217750000119853, 'lambda_l1': 0.00018990173351934585, 'lambda_l2': 9.840764270160056, 'minchild': 10}. Best is trial 163 with value: 3544622.0430570897.\u001b[0m\n"
     ]
    },
    {
     "name": "stdout",
     "output_type": "stream",
     "text": [
      "Early stopping, best iteration is:\n",
      "[161]\ttraining's l1: 590622\tvalid_1's l1: 3.58474e+06\n",
      "Training until validation scores don't improve for 5 rounds\n"
     ]
    },
    {
     "name": "stderr",
     "output_type": "stream",
     "text": [
      "\u001b[32m[I 2021-01-03 18:02:45,504]\u001b[0m Trial 312 finished with value: 3705023.9121780186 and parameters: {'nleaves': 71, 'bagfrac': 0.8983051030344947, 'bagfreq': 2, 'featfrac': 0.8219236823420872, 'lambda_l1': 0.00011968084757665153, 'lambda_l2': 5.410838711932394, 'minchild': 11}. Best is trial 163 with value: 3544622.0430570897.\u001b[0m\n"
     ]
    },
    {
     "name": "stdout",
     "output_type": "stream",
     "text": [
      "Early stopping, best iteration is:\n",
      "[151]\ttraining's l1: 529265\tvalid_1's l1: 3.70502e+06\n",
      "Training until validation scores don't improve for 5 rounds\n"
     ]
    },
    {
     "name": "stderr",
     "output_type": "stream",
     "text": [
      "\u001b[32m[I 2021-01-03 18:02:47,519]\u001b[0m Trial 313 finished with value: 3671032.531694339 and parameters: {'nleaves': 69, 'bagfrac': 0.9022851184532757, 'bagfreq': 3, 'featfrac': 0.8228576610372542, 'lambda_l1': 0.00016729907031092466, 'lambda_l2': 9.884360458884593, 'minchild': 2}. Best is trial 163 with value: 3544622.0430570897.\u001b[0m\n"
     ]
    },
    {
     "name": "stdout",
     "output_type": "stream",
     "text": [
      "Early stopping, best iteration is:\n",
      "[190]\ttraining's l1: 418698\tvalid_1's l1: 3.67103e+06\n",
      "Training until validation scores don't improve for 5 rounds\n"
     ]
    },
    {
     "name": "stderr",
     "output_type": "stream",
     "text": [
      "\u001b[32m[I 2021-01-03 18:02:49,969]\u001b[0m Trial 314 finished with value: 3593343.516838882 and parameters: {'nleaves': 64, 'bagfrac': 0.9079752770793592, 'bagfreq': 2, 'featfrac': 0.8318883396403365, 'lambda_l1': 0.00025227769587794335, 'lambda_l2': 9.942357721180185, 'minchild': 12}. Best is trial 163 with value: 3544622.0430570897.\u001b[0m\n"
     ]
    },
    {
     "name": "stdout",
     "output_type": "stream",
     "text": [
      "Early stopping, best iteration is:\n",
      "[328]\ttraining's l1: 170323\tvalid_1's l1: 3.59334e+06\n",
      "Training until validation scores don't improve for 5 rounds\n"
     ]
    },
    {
     "name": "stderr",
     "output_type": "stream",
     "text": [
      "\u001b[32m[I 2021-01-03 18:02:51,645]\u001b[0m Trial 315 finished with value: 3568549.863108704 and parameters: {'nleaves': 67, 'bagfrac': 0.9094900587086093, 'bagfreq': 2, 'featfrac': 0.8323413968542108, 'lambda_l1': 0.00023737975591960902, 'lambda_l2': 9.823944256840862, 'minchild': 13}. Best is trial 163 with value: 3544622.0430570897.\u001b[0m\n"
     ]
    },
    {
     "name": "stdout",
     "output_type": "stream",
     "text": [
      "Early stopping, best iteration is:\n",
      "[211]\ttraining's l1: 380897\tvalid_1's l1: 3.56855e+06\n",
      "Training until validation scores don't improve for 5 rounds\n"
     ]
    },
    {
     "name": "stderr",
     "output_type": "stream",
     "text": [
      "\u001b[32m[I 2021-01-03 18:02:53,278]\u001b[0m Trial 316 finished with value: 3664777.4821655303 and parameters: {'nleaves': 66, 'bagfrac': 0.9084722636245054, 'bagfreq': 2, 'featfrac': 0.8342613883507363, 'lambda_l1': 0.00030385007061973064, 'lambda_l2': 9.984596700818182, 'minchild': 14}. Best is trial 163 with value: 3544622.0430570897.\u001b[0m\n"
     ]
    },
    {
     "name": "stdout",
     "output_type": "stream",
     "text": [
      "Early stopping, best iteration is:\n",
      "[192]\ttraining's l1: 468555\tvalid_1's l1: 3.66478e+06\n",
      "Training until validation scores don't improve for 5 rounds\n"
     ]
    },
    {
     "name": "stderr",
     "output_type": "stream",
     "text": [
      "\u001b[32m[I 2021-01-03 18:02:55,011]\u001b[0m Trial 317 finished with value: 3718698.8593559815 and parameters: {'nleaves': 67, 'bagfrac': 0.8899923306134663, 'bagfreq': 2, 'featfrac': 0.8445499396850134, 'lambda_l1': 0.0002248532777685152, 'lambda_l2': 4.048648494691909, 'minchild': 13}. Best is trial 163 with value: 3544622.0430570897.\u001b[0m\n"
     ]
    },
    {
     "name": "stdout",
     "output_type": "stream",
     "text": [
      "Early stopping, best iteration is:\n",
      "[157]\ttraining's l1: 532487\tvalid_1's l1: 3.7187e+06\n",
      "Training until validation scores don't improve for 5 rounds\n"
     ]
    },
    {
     "name": "stderr",
     "output_type": "stream",
     "text": [
      "\u001b[32m[I 2021-01-03 18:02:56,177]\u001b[0m Trial 318 finished with value: 3703139.592124281 and parameters: {'nleaves': 76, 'bagfrac': 0.8985605768873083, 'bagfreq': 2, 'featfrac': 0.8315923468881299, 'lambda_l1': 0.00023966477040527812, 'lambda_l2': 5.896280512845837, 'minchild': 12}. Best is trial 163 with value: 3544622.0430570897.\u001b[0m\n"
     ]
    },
    {
     "name": "stdout",
     "output_type": "stream",
     "text": [
      "Early stopping, best iteration is:\n",
      "[117]\ttraining's l1: 731533\tvalid_1's l1: 3.70314e+06\n",
      "Training until validation scores don't improve for 5 rounds\n"
     ]
    },
    {
     "name": "stderr",
     "output_type": "stream",
     "text": [
      "\u001b[32m[I 2021-01-03 18:02:57,384]\u001b[0m Trial 319 finished with value: 3638718.1551435483 and parameters: {'nleaves': 64, 'bagfrac': 0.9114124860612798, 'bagfreq': 2, 'featfrac': 0.827531480490952, 'lambda_l1': 0.0001682588227515351, 'lambda_l2': 9.83504537895154, 'minchild': 37}. Best is trial 163 with value: 3544622.0430570897.\u001b[0m\n"
     ]
    },
    {
     "name": "stdout",
     "output_type": "stream",
     "text": [
      "Early stopping, best iteration is:\n",
      "[197]\ttraining's l1: 667320\tvalid_1's l1: 3.63872e+06\n",
      "Training until validation scores don't improve for 5 rounds\n"
     ]
    },
    {
     "name": "stderr",
     "output_type": "stream",
     "text": [
      "\u001b[32m[I 2021-01-03 18:02:58,577]\u001b[0m Trial 320 finished with value: 3684144.144353334 and parameters: {'nleaves': 74, 'bagfrac': 0.9040406972854996, 'bagfreq': 2, 'featfrac': 0.8373001670342103, 'lambda_l1': 0.00012455707414747426, 'lambda_l2': 7.268676226615428, 'minchild': 15}. Best is trial 163 with value: 3544622.0430570897.\u001b[0m\n"
     ]
    },
    {
     "name": "stdout",
     "output_type": "stream",
     "text": [
      "Early stopping, best iteration is:\n",
      "[126]\ttraining's l1: 721404\tvalid_1's l1: 3.68414e+06\n",
      "Training until validation scores don't improve for 5 rounds\n"
     ]
    },
    {
     "name": "stderr",
     "output_type": "stream",
     "text": [
      "\u001b[32m[I 2021-01-03 18:03:00,115]\u001b[0m Trial 321 finished with value: 3700286.1663651005 and parameters: {'nleaves': 71, 'bagfrac': 0.920920197877791, 'bagfreq': 2, 'featfrac': 0.8409298672520711, 'lambda_l1': 6.347717784160254e-05, 'lambda_l2': 4.690888853005816, 'minchild': 18}. Best is trial 163 with value: 3544622.0430570897.\u001b[0m\n"
     ]
    },
    {
     "name": "stdout",
     "output_type": "stream",
     "text": [
      "Early stopping, best iteration is:\n",
      "[192]\ttraining's l1: 366664\tvalid_1's l1: 3.70029e+06\n",
      "Training until validation scores don't improve for 5 rounds\n"
     ]
    },
    {
     "name": "stderr",
     "output_type": "stream",
     "text": [
      "\u001b[32m[I 2021-01-03 18:03:02,154]\u001b[0m Trial 322 finished with value: 3687420.6177949742 and parameters: {'nleaves': 83, 'bagfrac': 0.8963436862095181, 'bagfreq': 2, 'featfrac': 0.8201106760713791, 'lambda_l1': 0.0002446019336825056, 'lambda_l2': 9.916642376352899, 'minchild': 11}. Best is trial 163 with value: 3544622.0430570897.\u001b[0m\n"
     ]
    },
    {
     "name": "stdout",
     "output_type": "stream",
     "text": [
      "Early stopping, best iteration is:\n",
      "[216]\ttraining's l1: 243835\tvalid_1's l1: 3.68742e+06\n",
      "Training until validation scores don't improve for 5 rounds\n"
     ]
    },
    {
     "name": "stderr",
     "output_type": "stream",
     "text": [
      "\u001b[32m[I 2021-01-03 18:03:04,276]\u001b[0m Trial 323 finished with value: 3709863.758297875 and parameters: {'nleaves': 62, 'bagfrac': 0.9079593619812691, 'bagfreq': 3, 'featfrac': 0.8298961359405267, 'lambda_l1': 0.00013953497826010866, 'lambda_l2': 7.056254466604873, 'minchild': 13}. Best is trial 163 with value: 3544622.0430570897.\u001b[0m\n"
     ]
    },
    {
     "name": "stdout",
     "output_type": "stream",
     "text": [
      "Early stopping, best iteration is:\n",
      "[300]\ttraining's l1: 202248\tvalid_1's l1: 3.70986e+06\n",
      "Training until validation scores don't improve for 5 rounds\n"
     ]
    },
    {
     "name": "stderr",
     "output_type": "stream",
     "text": [
      "\u001b[32m[I 2021-01-03 18:03:06,442]\u001b[0m Trial 324 finished with value: 3702595.6505077793 and parameters: {'nleaves': 67, 'bagfrac': 0.875314187024928, 'bagfreq': 2, 'featfrac': 0.8244939491336769, 'lambda_l1': 8.693083112391052e-05, 'lambda_l2': 9.922544207992168, 'minchild': 9}. Best is trial 163 with value: 3544622.0430570897.\u001b[0m\n"
     ]
    },
    {
     "name": "stdout",
     "output_type": "stream",
     "text": [
      "Early stopping, best iteration is:\n",
      "[266]\ttraining's l1: 239125\tvalid_1's l1: 3.7026e+06\n",
      "Training until validation scores don't improve for 5 rounds\n"
     ]
    },
    {
     "name": "stderr",
     "output_type": "stream",
     "text": [
      "\u001b[32m[I 2021-01-03 18:03:07,978]\u001b[0m Trial 325 finished with value: 3640394.8875915636 and parameters: {'nleaves': 63, 'bagfrac': 0.9136535126775973, 'bagfreq': 2, 'featfrac': 0.8384183060530414, 'lambda_l1': 0.00034669800173700544, 'lambda_l2': 9.95716948149847, 'minchild': 12}. Best is trial 163 with value: 3544622.0430570897.\u001b[0m\n"
     ]
    },
    {
     "name": "stdout",
     "output_type": "stream",
     "text": [
      "Early stopping, best iteration is:\n",
      "[191]\ttraining's l1: 509131\tvalid_1's l1: 3.64039e+06\n",
      "Training until validation scores don't improve for 5 rounds\n"
     ]
    },
    {
     "name": "stderr",
     "output_type": "stream",
     "text": [
      "\u001b[32m[I 2021-01-03 18:03:09,603]\u001b[0m Trial 326 finished with value: 3622144.41038347 and parameters: {'nleaves': 60, 'bagfrac': 0.9207151382601492, 'bagfreq': 2, 'featfrac': 0.8448948905315568, 'lambda_l1': 0.00019581870123473708, 'lambda_l2': 5.808242961659979, 'minchild': 16}. Best is trial 163 with value: 3544622.0430570897.\u001b[0m\n"
     ]
    },
    {
     "name": "stdout",
     "output_type": "stream",
     "text": [
      "Early stopping, best iteration is:\n",
      "[199]\ttraining's l1: 470923\tvalid_1's l1: 3.62214e+06\n",
      "Training until validation scores don't improve for 5 rounds\n"
     ]
    },
    {
     "name": "stderr",
     "output_type": "stream",
     "text": [
      "\u001b[32m[I 2021-01-03 18:03:11,402]\u001b[0m Trial 327 finished with value: 3732610.521393629 and parameters: {'nleaves': 58, 'bagfrac': 0.8380077254481347, 'bagfreq': 2, 'featfrac': 0.8193563349552905, 'lambda_l1': 0.00010750336250384482, 'lambda_l2': 3.609984434746151, 'minchild': 7}. Best is trial 163 with value: 3544622.0430570897.\u001b[0m\n"
     ]
    },
    {
     "name": "stdout",
     "output_type": "stream",
     "text": [
      "Early stopping, best iteration is:\n",
      "[237]\ttraining's l1: 322121\tvalid_1's l1: 3.73261e+06\n",
      "Training until validation scores don't improve for 5 rounds\n"
     ]
    },
    {
     "name": "stderr",
     "output_type": "stream",
     "text": [
      "\u001b[32m[I 2021-01-03 18:03:12,701]\u001b[0m Trial 328 finished with value: 3660113.402139888 and parameters: {'nleaves': 67, 'bagfrac': 0.9308772362967579, 'bagfreq': 2, 'featfrac': 0.8280625453008886, 'lambda_l1': 0.00025372500239632375, 'lambda_l2': 7.253713599900839, 'minchild': 10}. Best is trial 163 with value: 3544622.0430570897.\u001b[0m\n"
     ]
    },
    {
     "name": "stdout",
     "output_type": "stream",
     "text": [
      "Early stopping, best iteration is:\n",
      "[130]\ttraining's l1: 744245\tvalid_1's l1: 3.66011e+06\n",
      "Training until validation scores don't improve for 5 rounds\n"
     ]
    },
    {
     "name": "stderr",
     "output_type": "stream",
     "text": [
      "\u001b[32m[I 2021-01-03 18:03:14,516]\u001b[0m Trial 329 finished with value: 3734500.2400282663 and parameters: {'nleaves': 78, 'bagfrac': 0.9072537519330591, 'bagfreq': 2, 'featfrac': 0.814922875509869, 'lambda_l1': 0.00015383443666686626, 'lambda_l2': 9.903826978522682, 'minchild': 14}. Best is trial 163 with value: 3544622.0430570897.\u001b[0m\n"
     ]
    },
    {
     "name": "stdout",
     "output_type": "stream",
     "text": [
      "Early stopping, best iteration is:\n",
      "[210]\ttraining's l1: 307033\tvalid_1's l1: 3.7345e+06\n",
      "Training until validation scores don't improve for 5 rounds\n"
     ]
    },
    {
     "name": "stderr",
     "output_type": "stream",
     "text": [
      "\u001b[32m[I 2021-01-03 18:03:16,041]\u001b[0m Trial 330 finished with value: 3656230.6581586506 and parameters: {'nleaves': 72, 'bagfrac': 0.9149654857646851, 'bagfreq': 2, 'featfrac': 0.8342420684075857, 'lambda_l1': 0.0003834712532409991, 'lambda_l2': 4.967495055247961, 'minchild': 10}. Best is trial 163 with value: 3544622.0430570897.\u001b[0m\n"
     ]
    },
    {
     "name": "stdout",
     "output_type": "stream",
     "text": [
      "Early stopping, best iteration is:\n",
      "[168]\ttraining's l1: 432632\tvalid_1's l1: 3.65623e+06\n",
      "Training until validation scores don't improve for 5 rounds\n"
     ]
    },
    {
     "name": "stderr",
     "output_type": "stream",
     "text": [
      "\u001b[32m[I 2021-01-03 18:03:17,474]\u001b[0m Trial 331 finished with value: 3728345.2382292813 and parameters: {'nleaves': 59, 'bagfrac': 0.9227633877759651, 'bagfreq': 3, 'featfrac': 0.8213940021826432, 'lambda_l1': 7.328801279363813e-05, 'lambda_l2': 6.805552348326589, 'minchild': 6}. Best is trial 163 with value: 3544622.0430570897.\u001b[0m\n"
     ]
    },
    {
     "name": "stdout",
     "output_type": "stream",
     "text": [
      "Early stopping, best iteration is:\n",
      "[169]\ttraining's l1: 591575\tvalid_1's l1: 3.72835e+06\n",
      "Training until validation scores don't improve for 5 rounds\n"
     ]
    },
    {
     "name": "stderr",
     "output_type": "stream",
     "text": [
      "\u001b[32m[I 2021-01-03 18:03:19,532]\u001b[0m Trial 332 finished with value: 3657528.99220382 and parameters: {'nleaves': 64, 'bagfrac': 0.9115802976548286, 'bagfreq': 2, 'featfrac': 0.8106843096264627, 'lambda_l1': 0.00018767542417457762, 'lambda_l2': 7.4151333605336145, 'minchild': 12}. Best is trial 163 with value: 3544622.0430570897.\u001b[0m\n"
     ]
    },
    {
     "name": "stdout",
     "output_type": "stream",
     "text": [
      "Early stopping, best iteration is:\n",
      "[284]\ttraining's l1: 216896\tvalid_1's l1: 3.65753e+06\n",
      "Training until validation scores don't improve for 5 rounds\n"
     ]
    },
    {
     "name": "stderr",
     "output_type": "stream",
     "text": [
      "\u001b[32m[I 2021-01-03 18:03:20,718]\u001b[0m Trial 333 finished with value: 3694837.2099313703 and parameters: {'nleaves': 58, 'bagfrac': 0.8936371651808569, 'bagfreq': 2, 'featfrac': 0.8312135222738288, 'lambda_l1': 0.00011761065223108137, 'lambda_l2': 9.981736386726201, 'minchild': 18}. Best is trial 163 with value: 3544622.0430570897.\u001b[0m\n"
     ]
    },
    {
     "name": "stdout",
     "output_type": "stream",
     "text": [
      "Early stopping, best iteration is:\n",
      "[167]\ttraining's l1: 727701\tvalid_1's l1: 3.69484e+06\n",
      "Training until validation scores don't improve for 5 rounds\n"
     ]
    },
    {
     "name": "stderr",
     "output_type": "stream",
     "text": [
      "\u001b[32m[I 2021-01-03 18:03:22,716]\u001b[0m Trial 334 finished with value: 3671363.952164889 and parameters: {'nleaves': 68, 'bagfrac': 0.9296281468762648, 'bagfreq': 2, 'featfrac': 0.8149752076432717, 'lambda_l1': 4.5456119728050526e-05, 'lambda_l2': 9.90015739695308, 'minchild': 8}. Best is trial 163 with value: 3544622.0430570897.\u001b[0m\n"
     ]
    },
    {
     "name": "stdout",
     "output_type": "stream",
     "text": [
      "Early stopping, best iteration is:\n",
      "[224]\ttraining's l1: 324689\tvalid_1's l1: 3.67136e+06\n",
      "Training until validation scores don't improve for 5 rounds\n"
     ]
    },
    {
     "name": "stderr",
     "output_type": "stream",
     "text": [
      "\u001b[32m[I 2021-01-03 18:03:24,047]\u001b[0m Trial 335 finished with value: 3726724.8809441463 and parameters: {'nleaves': 55, 'bagfrac': 0.9449028561285415, 'bagfreq': 2, 'featfrac': 0.8398798962098603, 'lambda_l1': 0.0002810743417096914, 'lambda_l2': 3.974723604756993, 'minchild': 15}. Best is trial 163 with value: 3544622.0430570897.\u001b[0m\n"
     ]
    },
    {
     "name": "stdout",
     "output_type": "stream",
     "text": [
      "Early stopping, best iteration is:\n",
      "[173]\ttraining's l1: 623116\tvalid_1's l1: 3.72672e+06\n",
      "Training until validation scores don't improve for 5 rounds\n"
     ]
    },
    {
     "name": "stderr",
     "output_type": "stream",
     "text": [
      "\u001b[32m[I 2021-01-03 18:03:26,037]\u001b[0m Trial 336 finished with value: 3707078.4575816114 and parameters: {'nleaves': 62, 'bagfrac': 0.9053374774718035, 'bagfreq': 1, 'featfrac': 0.8246578402145865, 'lambda_l1': 6.354747314937834e-05, 'lambda_l2': 5.590389411772903, 'minchild': 4}. Best is trial 163 with value: 3544622.0430570897.\u001b[0m\n"
     ]
    },
    {
     "name": "stdout",
     "output_type": "stream",
     "text": [
      "Early stopping, best iteration is:\n",
      "[226]\ttraining's l1: 324466\tvalid_1's l1: 3.70708e+06\n",
      "Training until validation scores don't improve for 5 rounds\n"
     ]
    },
    {
     "name": "stderr",
     "output_type": "stream",
     "text": [
      "\u001b[32m[I 2021-01-03 18:03:27,523]\u001b[0m Trial 337 finished with value: 3684688.8549167556 and parameters: {'nleaves': 54, 'bagfrac': 0.9377250544183742, 'bagfreq': 2, 'featfrac': 0.8505704812536371, 'lambda_l1': 0.00019240506691473342, 'lambda_l2': 9.849547801890534, 'minchild': 9}. Best is trial 163 with value: 3544622.0430570897.\u001b[0m\n"
     ]
    },
    {
     "name": "stdout",
     "output_type": "stream",
     "text": [
      "Early stopping, best iteration is:\n",
      "[200]\ttraining's l1: 579819\tvalid_1's l1: 3.68469e+06\n",
      "Training until validation scores don't improve for 5 rounds\n"
     ]
    },
    {
     "name": "stderr",
     "output_type": "stream",
     "text": [
      "\u001b[32m[I 2021-01-03 18:03:29,584]\u001b[0m Trial 338 finished with value: 3664673.0876042666 and parameters: {'nleaves': 73, 'bagfrac': 0.9183393341621979, 'bagfreq': 3, 'featfrac': 0.8121061939016672, 'lambda_l1': 9.130843377483045e-05, 'lambda_l2': 9.955302676566859, 'minchild': 12}. Best is trial 163 with value: 3544622.0430570897.\u001b[0m\n"
     ]
    },
    {
     "name": "stdout",
     "output_type": "stream",
     "text": [
      "Early stopping, best iteration is:\n",
      "[233]\ttraining's l1: 272646\tvalid_1's l1: 3.66467e+06\n",
      "Training until validation scores don't improve for 5 rounds\n"
     ]
    },
    {
     "name": "stderr",
     "output_type": "stream",
     "text": [
      "\u001b[32m[I 2021-01-03 18:03:31,792]\u001b[0m Trial 339 finished with value: 3635071.0491244807 and parameters: {'nleaves': 59, 'bagfrac': 0.9537879220815172, 'bagfreq': 2, 'featfrac': 0.82036744096456, 'lambda_l1': 0.0001357934978503382, 'lambda_l2': 5.42943603971755, 'minchild': 1}. Best is trial 163 with value: 3544622.0430570897.\u001b[0m\n"
     ]
    },
    {
     "name": "stdout",
     "output_type": "stream",
     "text": [
      "Early stopping, best iteration is:\n",
      "[210]\ttraining's l1: 411167\tvalid_1's l1: 3.63507e+06\n",
      "Training until validation scores don't improve for 5 rounds\n"
     ]
    },
    {
     "name": "stderr",
     "output_type": "stream",
     "text": [
      "\u001b[32m[I 2021-01-03 18:03:33,520]\u001b[0m Trial 340 finished with value: 3647284.0300685633 and parameters: {'nleaves': 64, 'bagfrac': 0.8988783365772978, 'bagfreq': 2, 'featfrac': 0.831913527043946, 'lambda_l1': 0.0003555551816864207, 'lambda_l2': 7.257327380996206, 'minchild': 16}. Best is trial 163 with value: 3544622.0430570897.\u001b[0m\n"
     ]
    },
    {
     "name": "stdout",
     "output_type": "stream",
     "text": [
      "Early stopping, best iteration is:\n",
      "[227]\ttraining's l1: 346388\tvalid_1's l1: 3.64728e+06\n",
      "Training until validation scores don't improve for 5 rounds\n"
     ]
    },
    {
     "name": "stderr",
     "output_type": "stream",
     "text": [
      "\u001b[32m[I 2021-01-03 18:03:34,728]\u001b[0m Trial 341 finished with value: 3687004.429207732 and parameters: {'nleaves': 52, 'bagfrac': 0.9256655774162318, 'bagfreq': 2, 'featfrac': 0.8089677471173367, 'lambda_l1': 0.00013738671285128587, 'lambda_l2': 3.2305865141190875, 'minchild': 19}. Best is trial 163 with value: 3544622.0430570897.\u001b[0m\n"
     ]
    },
    {
     "name": "stdout",
     "output_type": "stream",
     "text": [
      "Early stopping, best iteration is:\n",
      "[198]\ttraining's l1: 583284\tvalid_1's l1: 3.687e+06\n",
      "Training until validation scores don't improve for 5 rounds\n"
     ]
    },
    {
     "name": "stderr",
     "output_type": "stream",
     "text": [
      "\u001b[32m[I 2021-01-03 18:03:36,447]\u001b[0m Trial 342 finished with value: 3641328.7697093403 and parameters: {'nleaves': 68, 'bagfrac': 0.9112050679389895, 'bagfreq': 2, 'featfrac': 0.81987862863715, 'lambda_l1': 0.00022622004718109848, 'lambda_l2': 7.459270721334698, 'minchild': 6}. Best is trial 163 with value: 3544622.0430570897.\u001b[0m\n"
     ]
    },
    {
     "name": "stdout",
     "output_type": "stream",
     "text": [
      "Early stopping, best iteration is:\n",
      "[183]\ttraining's l1: 428354\tvalid_1's l1: 3.64133e+06\n",
      "Training until validation scores don't improve for 5 rounds\n"
     ]
    },
    {
     "name": "stderr",
     "output_type": "stream",
     "text": [
      "\u001b[32m[I 2021-01-03 18:03:38,009]\u001b[0m Trial 343 finished with value: 3631901.1938960343 and parameters: {'nleaves': 57, 'bagfrac': 0.9333907007594809, 'bagfreq': 1, 'featfrac': 0.8263249316823135, 'lambda_l1': 9.160798382484019e-05, 'lambda_l2': 4.682093580025678, 'minchild': 14}. Best is trial 163 with value: 3544622.0430570897.\u001b[0m\n"
     ]
    },
    {
     "name": "stdout",
     "output_type": "stream",
     "text": [
      "Early stopping, best iteration is:\n",
      "[229]\ttraining's l1: 380438\tvalid_1's l1: 3.6319e+06\n",
      "Training until validation scores don't improve for 5 rounds\n"
     ]
    },
    {
     "name": "stderr",
     "output_type": "stream",
     "text": [
      "\u001b[32m[I 2021-01-03 18:03:39,390]\u001b[0m Trial 344 finished with value: 3696017.9753468353 and parameters: {'nleaves': 61, 'bagfrac': 0.9435042043126642, 'bagfreq': 2, 'featfrac': 0.8472988301857175, 'lambda_l1': 0.00018489885879979966, 'lambda_l2': 6.19776950596406, 'minchild': 11}. Best is trial 163 with value: 3544622.0430570897.\u001b[0m\n"
     ]
    },
    {
     "name": "stdout",
     "output_type": "stream",
     "text": [
      "Early stopping, best iteration is:\n",
      "[156]\ttraining's l1: 639105\tvalid_1's l1: 3.69602e+06\n",
      "Training until validation scores don't improve for 5 rounds\n"
     ]
    },
    {
     "name": "stderr",
     "output_type": "stream",
     "text": [
      "\u001b[32m[I 2021-01-03 18:03:41,027]\u001b[0m Trial 345 finished with value: 3672645.0792563087 and parameters: {'nleaves': 50, 'bagfrac': 0.9186464333852362, 'bagfreq': 2, 'featfrac': 0.815165483410502, 'lambda_l1': 0.00043167596559130685, 'lambda_l2': 9.819584828146535, 'minchild': 4}. Best is trial 163 with value: 3544622.0430570897.\u001b[0m\n"
     ]
    },
    {
     "name": "stdout",
     "output_type": "stream",
     "text": [
      "Early stopping, best iteration is:\n",
      "[223]\ttraining's l1: 559263\tvalid_1's l1: 3.67265e+06\n",
      "Training until validation scores don't improve for 5 rounds\n"
     ]
    },
    {
     "name": "stderr",
     "output_type": "stream",
     "text": [
      "\u001b[32m[I 2021-01-03 18:03:43,319]\u001b[0m Trial 346 finished with value: 3632350.9377889903 and parameters: {'nleaves': 55, 'bagfrac': 0.9036151197586667, 'bagfreq': 2, 'featfrac': 0.808462899264167, 'lambda_l1': 0.00027082844731407324, 'lambda_l2': 7.540503805769767, 'minchild': 8}. Best is trial 163 with value: 3544622.0430570897.\u001b[0m\n"
     ]
    },
    {
     "name": "stdout",
     "output_type": "stream",
     "text": [
      "Early stopping, best iteration is:\n",
      "[203]\ttraining's l1: 531926\tvalid_1's l1: 3.63235e+06\n",
      "Training until validation scores don't improve for 5 rounds\n"
     ]
    },
    {
     "name": "stderr",
     "output_type": "stream",
     "text": [
      "\u001b[32m[I 2021-01-03 18:03:45,221]\u001b[0m Trial 347 finished with value: 3630470.828863236 and parameters: {'nleaves': 65, 'bagfrac': 0.9132563385023409, 'bagfreq': 2, 'featfrac': 0.8376065673519033, 'lambda_l1': 6.69302009339883e-05, 'lambda_l2': 3.9607760917991923, 'minchild': 13}. Best is trial 163 with value: 3544622.0430570897.\u001b[0m\n"
     ]
    },
    {
     "name": "stdout",
     "output_type": "stream",
     "text": [
      "Early stopping, best iteration is:\n",
      "[171]\ttraining's l1: 472773\tvalid_1's l1: 3.63047e+06\n",
      "Training until validation scores don't improve for 5 rounds\n",
      "Early stopping, best iteration is:\n",
      "[202]\ttraining's l1: 311418\tvalid_1's l1: 3.62983e+06\n"
     ]
    },
    {
     "name": "stderr",
     "output_type": "stream",
     "text": [
      "\u001b[32m[I 2021-01-03 18:03:48,287]\u001b[0m Trial 348 finished with value: 3629828.8416240113 and parameters: {'nleaves': 78, 'bagfrac': 0.8905175389829242, 'bagfreq': 1, 'featfrac': 0.8172466614262832, 'lambda_l1': 0.0001181366747757099, 'lambda_l2': 9.921360880287267, 'minchild': 10}. Best is trial 163 with value: 3544622.0430570897.\u001b[0m\n"
     ]
    },
    {
     "name": "stdout",
     "output_type": "stream",
     "text": [
      "Training until validation scores don't improve for 5 rounds\n",
      "Early stopping, best iteration is:\n",
      "[192]\ttraining's l1: 78738.4\tvalid_1's l1: 3.75801e+06\n"
     ]
    },
    {
     "name": "stderr",
     "output_type": "stream",
     "text": [
      "\u001b[32m[I 2021-01-03 18:03:52,971]\u001b[0m Trial 349 finished with value: 3758008.6069605877 and parameters: {'nleaves': 129, 'bagfrac': 0.9287474530925149, 'bagfreq': 2, 'featfrac': 0.8259821318334013, 'lambda_l1': 4.847802435147496e-05, 'lambda_l2': 5.70977486773501, 'minchild': 3}. Best is trial 163 with value: 3544622.0430570897.\u001b[0m\n"
     ]
    },
    {
     "name": "stdout",
     "output_type": "stream",
     "text": [
      "Training until validation scores don't improve for 5 rounds\n"
     ]
    },
    {
     "name": "stderr",
     "output_type": "stream",
     "text": [
      "\u001b[32m[I 2021-01-03 18:03:55,539]\u001b[0m Trial 350 finished with value: 3669834.524806006 and parameters: {'nleaves': 73, 'bagfrac': 0.9242727516120913, 'bagfreq': 2, 'featfrac': 0.841852425183324, 'lambda_l1': 0.00016406789560214618, 'lambda_l2': 9.958558264881743, 'minchild': 7}. Best is trial 163 with value: 3544622.0430570897.\u001b[0m\n"
     ]
    },
    {
     "name": "stdout",
     "output_type": "stream",
     "text": [
      "Early stopping, best iteration is:\n",
      "[191]\ttraining's l1: 378992\tvalid_1's l1: 3.66983e+06\n",
      "Training until validation scores don't improve for 5 rounds\n"
     ]
    },
    {
     "name": "stderr",
     "output_type": "stream",
     "text": [
      "\u001b[32m[I 2021-01-03 18:03:57,592]\u001b[0m Trial 351 finished with value: 3689182.964234915 and parameters: {'nleaves': 50, 'bagfrac': 0.9392876838887487, 'bagfreq': 3, 'featfrac': 0.8047994163839118, 'lambda_l1': 0.00028858131485536026, 'lambda_l2': 7.425634081022802, 'minchild': 17}. Best is trial 163 with value: 3544622.0430570897.\u001b[0m\n"
     ]
    },
    {
     "name": "stdout",
     "output_type": "stream",
     "text": [
      "Early stopping, best iteration is:\n",
      "[251]\ttraining's l1: 478623\tvalid_1's l1: 3.68918e+06\n",
      "Training until validation scores don't improve for 5 rounds\n"
     ]
    },
    {
     "name": "stderr",
     "output_type": "stream",
     "text": [
      "\u001b[32m[I 2021-01-03 18:03:59,894]\u001b[0m Trial 352 finished with value: 3768034.14234478 and parameters: {'nleaves': 59, 'bagfrac': 0.9072534458384404, 'bagfreq': 2, 'featfrac': 0.8127022123370412, 'lambda_l1': 9.13546174703277e-05, 'lambda_l2': 2.6383630761959185, 'minchild': 5}. Best is trial 163 with value: 3544622.0430570897.\u001b[0m\n"
     ]
    },
    {
     "name": "stdout",
     "output_type": "stream",
     "text": [
      "Early stopping, best iteration is:\n",
      "[203]\ttraining's l1: 387594\tvalid_1's l1: 3.76803e+06\n",
      "Training until validation scores don't improve for 5 rounds\n"
     ]
    },
    {
     "name": "stderr",
     "output_type": "stream",
     "text": [
      "\u001b[32m[I 2021-01-03 18:04:01,914]\u001b[0m Trial 353 finished with value: 3730973.4074249715 and parameters: {'nleaves': 46, 'bagfrac': 0.9186656141357817, 'bagfreq': 2, 'featfrac': 0.8296944795488357, 'lambda_l1': 0.00021501929591079386, 'lambda_l2': 4.597220907462284, 'minchild': 15}. Best is trial 163 with value: 3544622.0430570897.\u001b[0m\n"
     ]
    },
    {
     "name": "stdout",
     "output_type": "stream",
     "text": [
      "Early stopping, best iteration is:\n",
      "[237]\ttraining's l1: 531790\tvalid_1's l1: 3.73097e+06\n",
      "Training until validation scores don't improve for 5 rounds\n"
     ]
    },
    {
     "name": "stderr",
     "output_type": "stream",
     "text": [
      "\u001b[32m[I 2021-01-03 18:04:04,858]\u001b[0m Trial 354 finished with value: 3689855.5534885046 and parameters: {'nleaves': 56, 'bagfrac': 0.914703386834071, 'bagfreq': 1, 'featfrac': 0.8345258737460549, 'lambda_l1': 0.00012763018515481747, 'lambda_l2': 6.005690211459171, 'minchild': 1}. Best is trial 163 with value: 3544622.0430570897.\u001b[0m\n"
     ]
    },
    {
     "name": "stdout",
     "output_type": "stream",
     "text": [
      "Early stopping, best iteration is:\n",
      "[210]\ttraining's l1: 451391\tvalid_1's l1: 3.68986e+06\n",
      "Training until validation scores don't improve for 5 rounds\n"
     ]
    },
    {
     "name": "stderr",
     "output_type": "stream",
     "text": [
      "\u001b[32m[I 2021-01-03 18:04:07,192]\u001b[0m Trial 355 finished with value: 3681055.241407806 and parameters: {'nleaves': 69, 'bagfrac': 0.9536916149047525, 'bagfreq': 2, 'featfrac': 0.8162481512694361, 'lambda_l1': 7.685997207505582e-05, 'lambda_l2': 9.817171857240186, 'minchild': 10}. Best is trial 163 with value: 3544622.0430570897.\u001b[0m\n"
     ]
    },
    {
     "name": "stdout",
     "output_type": "stream",
     "text": [
      "Early stopping, best iteration is:\n",
      "[192]\ttraining's l1: 415980\tvalid_1's l1: 3.68106e+06\n",
      "Training until validation scores don't improve for 5 rounds\n"
     ]
    },
    {
     "name": "stderr",
     "output_type": "stream",
     "text": [
      "\u001b[32m[I 2021-01-03 18:04:08,741]\u001b[0m Trial 356 finished with value: 3830202.9839333994 and parameters: {'nleaves': 64, 'bagfrac': 0.8806465306697588, 'bagfreq': 2, 'featfrac': 0.8597905570246357, 'lambda_l1': 0.0002016367871585226, 'lambda_l2': 7.551490406949664, 'minchild': 12}. Best is trial 163 with value: 3544622.0430570897.\u001b[0m\n"
     ]
    },
    {
     "name": "stdout",
     "output_type": "stream",
     "text": [
      "Early stopping, best iteration is:\n",
      "[124]\ttraining's l1: 856779\tvalid_1's l1: 3.8302e+06\n",
      "Training until validation scores don't improve for 5 rounds\n"
     ]
    },
    {
     "name": "stderr",
     "output_type": "stream",
     "text": [
      "\u001b[32m[I 2021-01-03 18:04:10,968]\u001b[0m Trial 357 finished with value: 3729093.9993018718 and parameters: {'nleaves': 53, 'bagfrac': 0.9333251611022768, 'bagfreq': 2, 'featfrac': 0.823091749547625, 'lambda_l1': 3.7441990735321666e-05, 'lambda_l2': 3.7861313364291567, 'minchild': 20}. Best is trial 163 with value: 3544622.0430570897.\u001b[0m\n"
     ]
    },
    {
     "name": "stdout",
     "output_type": "stream",
     "text": [
      "Early stopping, best iteration is:\n",
      "[222]\ttraining's l1: 472042\tvalid_1's l1: 3.72909e+06\n",
      "Training until validation scores don't improve for 5 rounds\n",
      "Early stopping, best iteration is:\n",
      "[256]\ttraining's l1: 314165\tvalid_1's l1: 3.64466e+06\n"
     ]
    },
    {
     "name": "stderr",
     "output_type": "stream",
     "text": [
      "\u001b[32m[I 2021-01-03 18:04:13,946]\u001b[0m Trial 358 finished with value: 3644658.4534154464 and parameters: {'nleaves': 61, 'bagfrac': 0.9025804897376793, 'bagfreq': 3, 'featfrac': 0.8059208188123355, 'lambda_l1': 0.00014743902771638878, 'lambda_l2': 9.846597221765208, 'minchild': 8}. Best is trial 163 with value: 3544622.0430570897.\u001b[0m\n"
     ]
    },
    {
     "name": "stdout",
     "output_type": "stream",
     "text": [
      "Training until validation scores don't improve for 5 rounds\n"
     ]
    },
    {
     "name": "stderr",
     "output_type": "stream",
     "text": [
      "\u001b[32m[I 2021-01-03 18:04:15,563]\u001b[0m Trial 359 finished with value: 3705240.307629665 and parameters: {'nleaves': 46, 'bagfrac': 0.9450762909761485, 'bagfreq': 2, 'featfrac': 0.8532474829483941, 'lambda_l1': 0.0004062387603762891, 'lambda_l2': 5.342874136456877, 'minchild': 12}. Best is trial 163 with value: 3544622.0430570897.\u001b[0m\n"
     ]
    },
    {
     "name": "stdout",
     "output_type": "stream",
     "text": [
      "Early stopping, best iteration is:\n",
      "[180]\ttraining's l1: 783208\tvalid_1's l1: 3.70524e+06\n",
      "Training until validation scores don't improve for 5 rounds\n"
     ]
    },
    {
     "name": "stderr",
     "output_type": "stream",
     "text": [
      "\u001b[32m[I 2021-01-03 18:04:17,601]\u001b[0m Trial 360 finished with value: 3740442.3203830793 and parameters: {'nleaves': 51, 'bagfrac': 0.9236895951995543, 'bagfreq': 2, 'featfrac': 0.8015157640505198, 'lambda_l1': 0.0002901208798202637, 'lambda_l2': 6.957709251255745, 'minchild': 14}. Best is trial 163 with value: 3544622.0430570897.\u001b[0m\n"
     ]
    },
    {
     "name": "stdout",
     "output_type": "stream",
     "text": [
      "Early stopping, best iteration is:\n",
      "[231]\ttraining's l1: 502340\tvalid_1's l1: 3.74044e+06\n",
      "Training until validation scores don't improve for 5 rounds\n"
     ]
    },
    {
     "name": "stderr",
     "output_type": "stream",
     "text": [
      "\u001b[32m[I 2021-01-03 18:04:20,214]\u001b[0m Trial 361 finished with value: 3669781.3888450884 and parameters: {'nleaves': 57, 'bagfrac': 0.9151937674988198, 'bagfreq': 2, 'featfrac': 0.8435394394580513, 'lambda_l1': 0.00010234319309971237, 'lambda_l2': 7.61180912167713, 'minchild': 3}. Best is trial 163 with value: 3544622.0430570897.\u001b[0m\n"
     ]
    },
    {
     "name": "stdout",
     "output_type": "stream",
     "text": [
      "Early stopping, best iteration is:\n",
      "[216]\ttraining's l1: 432727\tvalid_1's l1: 3.66978e+06\n",
      "Training until validation scores don't improve for 5 rounds\n"
     ]
    },
    {
     "name": "stderr",
     "output_type": "stream",
     "text": [
      "\u001b[32m[I 2021-01-03 18:04:23,010]\u001b[0m Trial 362 finished with value: 3646534.678803698 and parameters: {'nleaves': 70, 'bagfrac': 0.9091532827363615, 'bagfreq': 1, 'featfrac': 0.8112189765963969, 'lambda_l1': 6.3497927469475e-05, 'lambda_l2': 9.829802436213091, 'minchild': 6}. Best is trial 163 with value: 3544622.0430570897.\u001b[0m\n"
     ]
    },
    {
     "name": "stdout",
     "output_type": "stream",
     "text": [
      "Early stopping, best iteration is:\n",
      "[200]\ttraining's l1: 377536\tvalid_1's l1: 3.64653e+06\n",
      "Training until validation scores don't improve for 5 rounds\n"
     ]
    },
    {
     "name": "stderr",
     "output_type": "stream",
     "text": [
      "\u001b[32m[I 2021-01-03 18:04:25,318]\u001b[0m Trial 363 finished with value: 3602093.323840293 and parameters: {'nleaves': 65, 'bagfrac': 0.898703474732353, 'bagfreq': 2, 'featfrac': 0.821927711873465, 'lambda_l1': 0.00016070499794253054, 'lambda_l2': 9.840612512890452, 'minchild': 9}. Best is trial 163 with value: 3544622.0430570897.\u001b[0m\n"
     ]
    },
    {
     "name": "stdout",
     "output_type": "stream",
     "text": [
      "Early stopping, best iteration is:\n",
      "[194]\ttraining's l1: 460942\tvalid_1's l1: 3.60209e+06\n",
      "Training until validation scores don't improve for 5 rounds\n",
      "Early stopping, best iteration is:\n",
      "[236]\ttraining's l1: 275431\tvalid_1's l1: 3.77278e+06\n"
     ]
    },
    {
     "name": "stderr",
     "output_type": "stream",
     "text": [
      "\u001b[32m[I 2021-01-03 18:04:27,963]\u001b[0m Trial 364 finished with value: 3772775.181555961 and parameters: {'nleaves': 64, 'bagfrac': 0.8879762338772236, 'bagfreq': 2, 'featfrac': 0.8321407019819462, 'lambda_l1': 0.00020311122307519394, 'lambda_l2': 4.579894120794999, 'minchild': 9}. Best is trial 163 with value: 3544622.0430570897.\u001b[0m\n"
     ]
    },
    {
     "name": "stdout",
     "output_type": "stream",
     "text": [
      "Training until validation scores don't improve for 5 rounds\n"
     ]
    },
    {
     "name": "stderr",
     "output_type": "stream",
     "text": [
      "\u001b[32m[I 2021-01-03 18:04:29,795]\u001b[0m Trial 365 finished with value: 3811503.346943434 and parameters: {'nleaves': 74, 'bagfrac': 0.8954028317222986, 'bagfreq': 2, 'featfrac': 0.8224326443942575, 'lambda_l1': 0.00036095781664842295, 'lambda_l2': 0.07131197553893422, 'minchild': 10}. Best is trial 163 with value: 3544622.0430570897.\u001b[0m\n"
     ]
    },
    {
     "name": "stdout",
     "output_type": "stream",
     "text": [
      "Early stopping, best iteration is:\n",
      "[133]\ttraining's l1: 496732\tvalid_1's l1: 3.8115e+06\n",
      "Training until validation scores don't improve for 5 rounds\n",
      "Early stopping, best iteration is:\n",
      "[220]\ttraining's l1: 386033\tvalid_1's l1: 3.57547e+06\n"
     ]
    },
    {
     "name": "stderr",
     "output_type": "stream",
     "text": [
      "\u001b[32m[I 2021-01-03 18:04:32,206]\u001b[0m Trial 366 finished with value: 3575474.4799032067 and parameters: {'nleaves': 67, 'bagfrac': 0.8983997018922042, 'bagfreq': 3, 'featfrac': 0.8358798591393366, 'lambda_l1': 0.00024661524272938883, 'lambda_l2': 9.940192813546897, 'minchild': 17}. Best is trial 163 with value: 3544622.0430570897.\u001b[0m\n"
     ]
    },
    {
     "name": "stdout",
     "output_type": "stream",
     "text": [
      "Training until validation scores don't improve for 5 rounds\n",
      "Early stopping, best iteration is:\n",
      "[231]\ttraining's l1: 261234\tvalid_1's l1: 3.65795e+06\n"
     ]
    },
    {
     "name": "stderr",
     "output_type": "stream",
     "text": [
      "\u001b[32m[I 2021-01-03 18:04:34,718]\u001b[0m Trial 367 finished with value: 3657954.150858243 and parameters: {'nleaves': 68, 'bagfrac': 0.8999874294641386, 'bagfreq': 3, 'featfrac': 0.8288284375973489, 'lambda_l1': 0.00018433226931658802, 'lambda_l2': 2.9551831195735203, 'minchild': 17}. Best is trial 163 with value: 3544622.0430570897.\u001b[0m\n"
     ]
    },
    {
     "name": "stdout",
     "output_type": "stream",
     "text": [
      "Training until validation scores don't improve for 5 rounds\n",
      "Early stopping, best iteration is:\n",
      "[229]\ttraining's l1: 381578\tvalid_1's l1: 3.63326e+06\n"
     ]
    },
    {
     "name": "stderr",
     "output_type": "stream",
     "text": [
      "\u001b[32m[I 2021-01-03 18:04:37,033]\u001b[0m Trial 368 finished with value: 3633261.000412412 and parameters: {'nleaves': 61, 'bagfrac': 0.8954121393946719, 'bagfreq': 3, 'featfrac': 0.836612012536831, 'lambda_l1': 9.853308763183713e-05, 'lambda_l2': 5.731482300621105, 'minchild': 20}. Best is trial 163 with value: 3544622.0430570897.\u001b[0m\n"
     ]
    },
    {
     "name": "stdout",
     "output_type": "stream",
     "text": [
      "Training until validation scores don't improve for 5 rounds\n"
     ]
    },
    {
     "name": "stderr",
     "output_type": "stream",
     "text": [
      "\u001b[32m[I 2021-01-03 18:04:39,196]\u001b[0m Trial 369 finished with value: 3688696.8571695616 and parameters: {'nleaves': 82, 'bagfrac': 0.8939536647055071, 'bagfreq': 1, 'featfrac': 0.8199155368270837, 'lambda_l1': 0.00023294256862634643, 'lambda_l2': 9.918261796843298, 'minchild': 18}. Best is trial 163 with value: 3544622.0430570897.\u001b[0m\n"
     ]
    },
    {
     "name": "stdout",
     "output_type": "stream",
     "text": [
      "Early stopping, best iteration is:\n",
      "[178]\ttraining's l1: 423811\tvalid_1's l1: 3.6887e+06\n",
      "Training until validation scores don't improve for 5 rounds\n",
      "Early stopping, best iteration is:\n",
      "[223]\ttraining's l1: 352471\tvalid_1's l1: 3.67726e+06\n"
     ]
    },
    {
     "name": "stderr",
     "output_type": "stream",
     "text": [
      "\u001b[32m[I 2021-01-03 18:04:41,758]\u001b[0m Trial 370 finished with value: 3677257.802107105 and parameters: {'nleaves': 65, 'bagfrac': 0.8833578715348482, 'bagfreq': 3, 'featfrac': 0.827303750379968, 'lambda_l1': 0.0005035463774499059, 'lambda_l2': 7.35812269050795, 'minchild': 15}. Best is trial 163 with value: 3544622.0430570897.\u001b[0m\n"
     ]
    },
    {
     "name": "stdout",
     "output_type": "stream",
     "text": [
      "Training until validation scores don't improve for 5 rounds\n",
      "Early stopping, best iteration is:\n",
      "[223]\ttraining's l1: 216650\tvalid_1's l1: 3.72128e+06\n"
     ]
    },
    {
     "name": "stderr",
     "output_type": "stream",
     "text": [
      "\u001b[32m[I 2021-01-03 18:04:44,852]\u001b[0m Trial 371 finished with value: 3721275.274001985 and parameters: {'nleaves': 77, 'bagfrac': 0.9003614577319781, 'bagfreq': 2, 'featfrac': 0.7930254731271892, 'lambda_l1': 0.0001482565960838429, 'lambda_l2': 5.506152977827268, 'minchild': 7}. Best is trial 163 with value: 3544622.0430570897.\u001b[0m\n"
     ]
    },
    {
     "name": "stdout",
     "output_type": "stream",
     "text": [
      "Training until validation scores don't improve for 5 rounds\n"
     ]
    },
    {
     "name": "stderr",
     "output_type": "stream",
     "text": [
      "\u001b[32m[I 2021-01-03 18:04:46,975]\u001b[0m Trial 372 finished with value: 3734654.704647269 and parameters: {'nleaves': 71, 'bagfrac': 0.8661245747311748, 'bagfreq': 1, 'featfrac': 0.822688400933291, 'lambda_l1': 6.211349978929873e-05, 'lambda_l2': 0.019203049106606505, 'minchild': 15}. Best is trial 163 with value: 3544622.0430570897.\u001b[0m\n"
     ]
    },
    {
     "name": "stdout",
     "output_type": "stream",
     "text": [
      "Early stopping, best iteration is:\n",
      "[176]\ttraining's l1: 345307\tvalid_1's l1: 3.73465e+06\n",
      "Training until validation scores don't improve for 5 rounds\n",
      "Early stopping, best iteration is:\n",
      "[144]\ttraining's l1: 272546\tvalid_1's l1: 3.7374e+06\n"
     ]
    },
    {
     "name": "stderr",
     "output_type": "stream",
     "text": [
      "\u001b[32m[I 2021-01-03 18:04:49,728]\u001b[0m Trial 373 finished with value: 3737396.8887284226 and parameters: {'nleaves': 154, 'bagfrac': 0.9050200494812836, 'bagfreq': 2, 'featfrac': 0.8346793596431827, 'lambda_l1': 0.00010714697665906086, 'lambda_l2': 9.944936819579993, 'minchild': 13}. Best is trial 163 with value: 3544622.0430570897.\u001b[0m\n"
     ]
    },
    {
     "name": "stdout",
     "output_type": "stream",
     "text": [
      "Training until validation scores don't improve for 5 rounds\n",
      "Early stopping, best iteration is:\n",
      "[180]\ttraining's l1: 653125\tvalid_1's l1: 3.66573e+06\n"
     ]
    },
    {
     "name": "stderr",
     "output_type": "stream",
     "text": [
      "\u001b[32m[I 2021-01-03 18:04:51,812]\u001b[0m Trial 374 finished with value: 3665731.5265846467 and parameters: {'nleaves': 59, 'bagfrac': 0.8891587353970293, 'bagfreq': 3, 'featfrac': 0.8191251579108673, 'lambda_l1': 0.00015594859962082269, 'lambda_l2': 9.926146084570092, 'minchild': 19}. Best is trial 163 with value: 3544622.0430570897.\u001b[0m\n"
     ]
    },
    {
     "name": "stdout",
     "output_type": "stream",
     "text": [
      "Training until validation scores don't improve for 5 rounds\n"
     ]
    },
    {
     "name": "stderr",
     "output_type": "stream",
     "text": [
      "\u001b[32m[I 2021-01-03 18:04:54,165]\u001b[0m Trial 375 finished with value: 3643554.9921836853 and parameters: {'nleaves': 56, 'bagfrac': 0.9233810912180821, 'bagfreq': 2, 'featfrac': 0.7867235682122183, 'lambda_l1': 0.0002777431321775752, 'lambda_l2': 4.112034068870713, 'minchild': 9}. Best is trial 163 with value: 3544622.0430570897.\u001b[0m\n"
     ]
    },
    {
     "name": "stdout",
     "output_type": "stream",
     "text": [
      "Early stopping, best iteration is:\n",
      "[220]\ttraining's l1: 410901\tvalid_1's l1: 3.64355e+06\n",
      "Training until validation scores don't improve for 5 rounds\n",
      "Early stopping, best iteration is:\n",
      "[232]\ttraining's l1: 355325\tvalid_1's l1: 3.63945e+06\n"
     ]
    },
    {
     "name": "stderr",
     "output_type": "stream",
     "text": [
      "\u001b[32m[I 2021-01-03 18:04:57,044]\u001b[0m Trial 376 finished with value: 3639454.5799283916 and parameters: {'nleaves': 62, 'bagfrac': 0.9085091767352743, 'bagfreq': 2, 'featfrac': 0.8279405101754863, 'lambda_l1': 4.516020011223694e-05, 'lambda_l2': 7.2305380263008185, 'minchild': 17}. Best is trial 163 with value: 3544622.0430570897.\u001b[0m\n"
     ]
    },
    {
     "name": "stdout",
     "output_type": "stream",
     "text": [
      "Training until validation scores don't improve for 5 rounds\n"
     ]
    },
    {
     "name": "stderr",
     "output_type": "stream",
     "text": [
      "\u001b[32m[I 2021-01-03 18:04:58,775]\u001b[0m Trial 377 finished with value: 3736257.487219604 and parameters: {'nleaves': 47, 'bagfrac': 0.9311249766379298, 'bagfreq': 2, 'featfrac': 0.8152095595030794, 'lambda_l1': 0.00045247379710394167, 'lambda_l2': 9.999888841794286, 'minchild': 21}. Best is trial 163 with value: 3544622.0430570897.\u001b[0m\n"
     ]
    },
    {
     "name": "stdout",
     "output_type": "stream",
     "text": [
      "Early stopping, best iteration is:\n",
      "[219]\ttraining's l1: 681449\tvalid_1's l1: 3.73626e+06\n",
      "Training until validation scores don't improve for 5 rounds\n"
     ]
    },
    {
     "name": "stderr",
     "output_type": "stream",
     "text": [
      "\u001b[32m[I 2021-01-03 18:05:00,368]\u001b[0m Trial 378 finished with value: 3769082.9977176357 and parameters: {'nleaves': 54, 'bagfrac': 0.9010923955097451, 'bagfreq': 2, 'featfrac': 0.8003814794301487, 'lambda_l1': 0.00021275908916027828, 'lambda_l2': 5.828240723096136, 'minchild': 11}. Best is trial 163 with value: 3544622.0430570897.\u001b[0m\n"
     ]
    },
    {
     "name": "stdout",
     "output_type": "stream",
     "text": [
      "Early stopping, best iteration is:\n",
      "[152]\ttraining's l1: 811925\tvalid_1's l1: 3.76908e+06\n",
      "Training until validation scores don't improve for 5 rounds\n",
      "Early stopping, best iteration is:\n",
      "[237]\ttraining's l1: 224637\tvalid_1's l1: 3.74803e+06\n"
     ]
    },
    {
     "name": "stderr",
     "output_type": "stream",
     "text": [
      "\u001b[32m[I 2021-01-03 18:05:03,567]\u001b[0m Trial 379 finished with value: 3748025.5154661075 and parameters: {'nleaves': 68, 'bagfrac': 0.9187085610903715, 'bagfreq': 1, 'featfrac': 0.8076338183576391, 'lambda_l1': 8.417860771607265e-05, 'lambda_l2': 3.61021047112353, 'minchild': 5}. Best is trial 163 with value: 3544622.0430570897.\u001b[0m\n"
     ]
    },
    {
     "name": "stdout",
     "output_type": "stream",
     "text": [
      "Training until validation scores don't improve for 5 rounds\n"
     ]
    },
    {
     "name": "stderr",
     "output_type": "stream",
     "text": [
      "\u001b[32m[I 2021-01-03 18:05:06,108]\u001b[0m Trial 380 finished with value: 3573766.1578266635 and parameters: {'nleaves': 62, 'bagfrac': 0.9275306819061341, 'bagfreq': 2, 'featfrac': 0.8377808230736803, 'lambda_l1': 0.0001460522364495654, 'lambda_l2': 7.7285665201520315, 'minchild': 7}. Best is trial 163 with value: 3544622.0430570897.\u001b[0m\n"
     ]
    },
    {
     "name": "stdout",
     "output_type": "stream",
     "text": [
      "Early stopping, best iteration is:\n",
      "[221]\ttraining's l1: 370041\tvalid_1's l1: 3.57377e+06\n",
      "Training until validation scores don't improve for 5 rounds\n",
      "Early stopping, best iteration is:\n",
      "[305]\ttraining's l1: 207394\tvalid_1's l1: 3.67079e+06\n"
     ]
    },
    {
     "name": "stderr",
     "output_type": "stream",
     "text": [
      "\u001b[32m[I 2021-01-03 18:05:09,220]\u001b[0m Trial 381 finished with value: 3670790.6122952728 and parameters: {'nleaves': 59, 'bagfrac': 0.9362536998660099, 'bagfreq': 2, 'featfrac': 0.841288260106051, 'lambda_l1': 0.00011245914527047291, 'lambda_l2': 7.02838592091835, 'minchild': 8}. Best is trial 163 with value: 3544622.0430570897.\u001b[0m\n"
     ]
    },
    {
     "name": "stdout",
     "output_type": "stream",
     "text": [
      "Training until validation scores don't improve for 5 rounds\n",
      "Early stopping, best iteration is:\n",
      "[125]\ttraining's l1: 255776\tvalid_1's l1: 3.75523e+06\n"
     ]
    },
    {
     "name": "stderr",
     "output_type": "stream",
     "text": [
      "\u001b[32m[I 2021-01-03 18:05:11,974]\u001b[0m Trial 382 finished with value: 3755228.4126623576 and parameters: {'nleaves': 179, 'bagfrac': 0.9067492328341359, 'bagfreq': 3, 'featfrac': 0.8365980806920245, 'lambda_l1': 7.477418408436132e-05, 'lambda_l2': 4.705705941108937, 'minchild': 14}. Best is trial 163 with value: 3544622.0430570897.\u001b[0m\n"
     ]
    },
    {
     "name": "stdout",
     "output_type": "stream",
     "text": [
      "Training until validation scores don't improve for 5 rounds\n",
      "Early stopping, best iteration is:\n",
      "[236]\ttraining's l1: 312576\tvalid_1's l1: 3.75086e+06\n"
     ]
    },
    {
     "name": "stderr",
     "output_type": "stream",
     "text": [
      "\u001b[32m[I 2021-01-03 18:05:14,700]\u001b[0m Trial 383 finished with value: 3750859.475874594 and parameters: {'nleaves': 64, 'bagfrac': 0.8962823130230946, 'bagfreq': 2, 'featfrac': 0.7938915027587168, 'lambda_l1': 3.100393605657108e-05, 'lambda_l2': 7.463151607525308, 'minchild': 11}. Best is trial 163 with value: 3544622.0430570897.\u001b[0m\n"
     ]
    },
    {
     "name": "stdout",
     "output_type": "stream",
     "text": [
      "Training until validation scores don't improve for 5 rounds\n"
     ]
    },
    {
     "name": "stderr",
     "output_type": "stream",
     "text": [
      "\u001b[32m[I 2021-01-03 18:05:16,725]\u001b[0m Trial 384 finished with value: 3676804.0162609974 and parameters: {'nleaves': 53, 'bagfrac': 0.9182218574665518, 'bagfreq': 2, 'featfrac': 0.8440808309415048, 'lambda_l1': 0.0003168072914425407, 'lambda_l2': 3.0547678579345945, 'minchild': 16}. Best is trial 163 with value: 3544622.0430570897.\u001b[0m\n"
     ]
    },
    {
     "name": "stdout",
     "output_type": "stream",
     "text": [
      "Early stopping, best iteration is:\n",
      "[234]\ttraining's l1: 412742\tvalid_1's l1: 3.6768e+06\n",
      "Training until validation scores don't improve for 5 rounds\n"
     ]
    },
    {
     "name": "stderr",
     "output_type": "stream",
     "text": [
      "\u001b[32m[I 2021-01-03 18:05:19,023]\u001b[0m Trial 385 finished with value: 3657078.7462349655 and parameters: {'nleaves': 58, 'bagfrac': 0.9398533945268495, 'bagfreq': 2, 'featfrac': 0.8326429761023731, 'lambda_l1': 0.0013408686207749285, 'lambda_l2': 5.585449229525122, 'minchild': 9}. Best is trial 163 with value: 3544622.0430570897.\u001b[0m\n"
     ]
    },
    {
     "name": "stdout",
     "output_type": "stream",
     "text": [
      "Early stopping, best iteration is:\n",
      "[219]\ttraining's l1: 404100\tvalid_1's l1: 3.65708e+06\n",
      "Training until validation scores don't improve for 5 rounds\n"
     ]
    },
    {
     "name": "stderr",
     "output_type": "stream",
     "text": [
      "\u001b[32m[I 2021-01-03 18:05:21,024]\u001b[0m Trial 386 finished with value: 3696904.365663241 and parameters: {'nleaves': 48, 'bagfrac': 0.9116389420675981, 'bagfreq': 1, 'featfrac': 0.8485293050323099, 'lambda_l1': 0.00013635792976342517, 'lambda_l2': 6.951838847528774, 'minchild': 13}. Best is trial 163 with value: 3544622.0430570897.\u001b[0m\n"
     ]
    },
    {
     "name": "stdout",
     "output_type": "stream",
     "text": [
      "Early stopping, best iteration is:\n",
      "[233]\ttraining's l1: 536926\tvalid_1's l1: 3.6969e+06\n",
      "Training until validation scores don't improve for 5 rounds\n"
     ]
    },
    {
     "name": "stderr",
     "output_type": "stream",
     "text": [
      "\u001b[32m[I 2021-01-03 18:05:23,103]\u001b[0m Trial 387 finished with value: 3778548.883838853 and parameters: {'nleaves': 62, 'bagfrac': 0.9045396113568822, 'bagfreq': 2, 'featfrac': 0.8006156766083067, 'lambda_l1': 0.00020939393793491985, 'lambda_l2': 4.469352210661575, 'minchild': 7}. Best is trial 163 with value: 3544622.0430570897.\u001b[0m\n"
     ]
    },
    {
     "name": "stdout",
     "output_type": "stream",
     "text": [
      "Early stopping, best iteration is:\n",
      "[154]\ttraining's l1: 610160\tvalid_1's l1: 3.77855e+06\n",
      "Training until validation scores don't improve for 5 rounds\n"
     ]
    },
    {
     "name": "stderr",
     "output_type": "stream",
     "text": [
      "\u001b[32m[I 2021-01-03 18:05:25,146]\u001b[0m Trial 388 finished with value: 3581002.4253066257 and parameters: {'nleaves': 41, 'bagfrac': 0.9310465392046843, 'bagfreq': 2, 'featfrac': 0.7900740973056396, 'lambda_l1': 0.0001469199192856325, 'lambda_l2': 7.670380916205434, 'minchild': 11}. Best is trial 163 with value: 3544622.0430570897.\u001b[0m\n"
     ]
    },
    {
     "name": "stdout",
     "output_type": "stream",
     "text": [
      "Early stopping, best iteration is:\n",
      "[272]\ttraining's l1: 567999\tvalid_1's l1: 3.581e+06\n",
      "Training until validation scores don't improve for 5 rounds\n",
      "Early stopping, best iteration is:\n",
      "[376]\ttraining's l1: 329059\tvalid_1's l1: 3.57518e+06\n"
     ]
    },
    {
     "name": "stderr",
     "output_type": "stream",
     "text": [
      "\u001b[32m[I 2021-01-03 18:05:27,791]\u001b[0m Trial 389 finished with value: 3575179.628690737 and parameters: {'nleaves': 42, 'bagfrac': 0.9323639713165934, 'bagfreq': 2, 'featfrac': 0.813580467033365, 'lambda_l1': 0.0001266457272316124, 'lambda_l2': 9.96512153964581, 'minchild': 12}. Best is trial 163 with value: 3544622.0430570897.\u001b[0m\n"
     ]
    },
    {
     "name": "stdout",
     "output_type": "stream",
     "text": [
      "Training until validation scores don't improve for 5 rounds\n"
     ]
    },
    {
     "name": "stderr",
     "output_type": "stream",
     "text": [
      "\u001b[32m[I 2021-01-03 18:05:29,556]\u001b[0m Trial 390 finished with value: 3655862.2198985405 and parameters: {'nleaves': 33, 'bagfrac': 0.9305632950003615, 'bagfreq': 2, 'featfrac': 0.813695268526453, 'lambda_l1': 0.00012034867550962857, 'lambda_l2': 7.826072634218017, 'minchild': 16}. Best is trial 163 with value: 3544622.0430570897.\u001b[0m\n"
     ]
    },
    {
     "name": "stdout",
     "output_type": "stream",
     "text": [
      "Early stopping, best iteration is:\n",
      "[304]\ttraining's l1: 699554\tvalid_1's l1: 3.65586e+06\n",
      "Training until validation scores don't improve for 5 rounds\n"
     ]
    },
    {
     "name": "stderr",
     "output_type": "stream",
     "text": [
      "\u001b[32m[I 2021-01-03 18:05:31,558]\u001b[0m Trial 391 finished with value: 3751307.782066549 and parameters: {'nleaves': 38, 'bagfrac': 0.9367355830613261, 'bagfreq': 2, 'featfrac': 0.8190070576911214, 'lambda_l1': 5.3870906854880175e-05, 'lambda_l2': 9.930927545863577, 'minchild': 14}. Best is trial 163 with value: 3544622.0430570897.\u001b[0m\n"
     ]
    },
    {
     "name": "stdout",
     "output_type": "stream",
     "text": [
      "Early stopping, best iteration is:\n",
      "[299]\ttraining's l1: 581731\tvalid_1's l1: 3.75131e+06\n",
      "Training until validation scores don't improve for 5 rounds\n"
     ]
    },
    {
     "name": "stderr",
     "output_type": "stream",
     "text": [
      "\u001b[32m[I 2021-01-03 18:05:33,666]\u001b[0m Trial 392 finished with value: 3634297.323946272 and parameters: {'nleaves': 32, 'bagfrac': 0.9308251356076652, 'bagfreq': 1, 'featfrac': 0.838506162492444, 'lambda_l1': 8.698042805091416e-05, 'lambda_l2': 7.629526627591271, 'minchild': 11}. Best is trial 163 with value: 3544622.0430570897.\u001b[0m\n"
     ]
    },
    {
     "name": "stdout",
     "output_type": "stream",
     "text": [
      "Early stopping, best iteration is:\n",
      "[260]\ttraining's l1: 867051\tvalid_1's l1: 3.6343e+06\n",
      "Training until validation scores don't improve for 5 rounds\n"
     ]
    },
    {
     "name": "stderr",
     "output_type": "stream",
     "text": [
      "\u001b[32m[I 2021-01-03 18:05:35,268]\u001b[0m Trial 393 finished with value: 3784792.5115486034 and parameters: {'nleaves': 42, 'bagfrac': 0.9424051656418303, 'bagfreq': 3, 'featfrac': 0.809528839410795, 'lambda_l1': 0.0001508922736037207, 'lambda_l2': 9.896310808816473, 'minchild': 18}. Best is trial 163 with value: 3544622.0430570897.\u001b[0m\n"
     ]
    },
    {
     "name": "stdout",
     "output_type": "stream",
     "text": [
      "Early stopping, best iteration is:\n",
      "[210]\ttraining's l1: 821040\tvalid_1's l1: 3.78479e+06\n",
      "Training until validation scores don't improve for 5 rounds\n"
     ]
    },
    {
     "name": "stderr",
     "output_type": "stream",
     "text": [
      "\u001b[32m[I 2021-01-03 18:05:36,993]\u001b[0m Trial 394 finished with value: 3662926.6177623235 and parameters: {'nleaves': 35, 'bagfrac': 0.9288817421303145, 'bagfreq': 2, 'featfrac': 0.8296822600448741, 'lambda_l1': 0.0001121859013300849, 'lambda_l2': 5.919454671649016, 'minchild': 10}. Best is trial 163 with value: 3544622.0430570897.\u001b[0m\n"
     ]
    },
    {
     "name": "stdout",
     "output_type": "stream",
     "text": [
      "Early stopping, best iteration is:\n",
      "[250]\ttraining's l1: 790552\tvalid_1's l1: 3.66293e+06\n",
      "Training until validation scores don't improve for 5 rounds\n"
     ]
    },
    {
     "name": "stderr",
     "output_type": "stream",
     "text": [
      "\u001b[32m[I 2021-01-03 18:05:38,955]\u001b[0m Trial 395 finished with value: 3694730.8596913097 and parameters: {'nleaves': 42, 'bagfrac': 0.9337205549593481, 'bagfreq': 2, 'featfrac': 0.8231770214006623, 'lambda_l1': 0.0001704275322558213, 'lambda_l2': 9.896932212784405, 'minchild': 14}. Best is trial 163 with value: 3544622.0430570897.\u001b[0m\n"
     ]
    },
    {
     "name": "stdout",
     "output_type": "stream",
     "text": [
      "Early stopping, best iteration is:\n",
      "[256]\ttraining's l1: 617297\tvalid_1's l1: 3.69473e+06\n",
      "Training until validation scores don't improve for 5 rounds\n"
     ]
    },
    {
     "name": "stderr",
     "output_type": "stream",
     "text": [
      "\u001b[32m[I 2021-01-03 18:05:40,488]\u001b[0m Trial 396 finished with value: 3739071.323948375 and parameters: {'nleaves': 38, 'bagfrac': 0.7508198950070661, 'bagfreq': 2, 'featfrac': 0.8178493603342435, 'lambda_l1': 7.472918522101906e-05, 'lambda_l2': 7.45262036929011, 'minchild': 12}. Best is trial 163 with value: 3544622.0430570897.\u001b[0m\n"
     ]
    },
    {
     "name": "stdout",
     "output_type": "stream",
     "text": [
      "Early stopping, best iteration is:\n",
      "[178]\ttraining's l1: 1.11685e+06\tvalid_1's l1: 3.73907e+06\n",
      "Training until validation scores don't improve for 5 rounds\n"
     ]
    },
    {
     "name": "stderr",
     "output_type": "stream",
     "text": [
      "\u001b[32m[I 2021-01-03 18:05:42,635]\u001b[0m Trial 397 finished with value: 3621917.9203027044 and parameters: {'nleaves': 42, 'bagfrac': 0.9230292442131578, 'bagfreq': 2, 'featfrac': 0.8070300593084526, 'lambda_l1': 0.0002583778087544262, 'lambda_l2': 5.65322611193445, 'minchild': 9}. Best is trial 163 with value: 3544622.0430570897.\u001b[0m\n"
     ]
    },
    {
     "name": "stdout",
     "output_type": "stream",
     "text": [
      "Early stopping, best iteration is:\n",
      "[258]\ttraining's l1: 567577\tvalid_1's l1: 3.62192e+06\n",
      "Training until validation scores don't improve for 5 rounds\n"
     ]
    },
    {
     "name": "stderr",
     "output_type": "stream",
     "text": [
      "\u001b[32m[I 2021-01-03 18:05:43,962]\u001b[0m Trial 398 finished with value: 3763337.006669577 and parameters: {'nleaves': 144, 'bagfrac': 0.9452362804708402, 'bagfreq': 2, 'featfrac': 0.8162847855952965, 'lambda_l1': 0.0001382436975060593, 'lambda_l2': 7.518812781500006, 'minchild': 16}. Best is trial 163 with value: 3544622.0430570897.\u001b[0m\n"
     ]
    },
    {
     "name": "stdout",
     "output_type": "stream",
     "text": [
      "Early stopping, best iteration is:\n",
      "[143]\ttraining's l1: 281990\tvalid_1's l1: 3.76334e+06\n",
      "Training until validation scores don't improve for 5 rounds\n"
     ]
    },
    {
     "name": "stderr",
     "output_type": "stream",
     "text": [
      "\u001b[32m[I 2021-01-03 18:05:44,998]\u001b[0m Trial 399 finished with value: 3738724.1990312315 and parameters: {'nleaves': 45, 'bagfrac': 0.9376710356353447, 'bagfreq': 2, 'featfrac': 0.8319343847411966, 'lambda_l1': 9.264260609465217e-05, 'lambda_l2': 4.15906774265535, 'minchild': 13}. Best is trial 163 with value: 3544622.0430570897.\u001b[0m\n"
     ]
    },
    {
     "name": "stdout",
     "output_type": "stream",
     "text": [
      "Early stopping, best iteration is:\n",
      "[243]\ttraining's l1: 514690\tvalid_1's l1: 3.73872e+06\n",
      "Training until validation scores don't improve for 5 rounds\n"
     ]
    },
    {
     "name": "stderr",
     "output_type": "stream",
     "text": [
      "\u001b[32m[I 2021-01-03 18:05:46,495]\u001b[0m Trial 400 finished with value: 3744216.434885814 and parameters: {'nleaves': 67, 'bagfrac': 0.9253544321046828, 'bagfreq': 1, 'featfrac': 0.8245089124226335, 'lambda_l1': 0.0001970071500957948, 'lambda_l2': 9.882471622847467, 'minchild': 11}. Best is trial 163 with value: 3544622.0430570897.\u001b[0m\n"
     ]
    },
    {
     "name": "stdout",
     "output_type": "stream",
     "text": [
      "Early stopping, best iteration is:\n",
      "[184]\ttraining's l1: 482285\tvalid_1's l1: 3.74422e+06\n",
      "Training until validation scores don't improve for 5 rounds\n"
     ]
    },
    {
     "name": "stderr",
     "output_type": "stream",
     "text": [
      "\u001b[32m[I 2021-01-03 18:05:48,281]\u001b[0m Trial 401 finished with value: 3668872.7179902364 and parameters: {'nleaves': 63, 'bagfrac': 0.9277551023741148, 'bagfreq': 2, 'featfrac': 0.838609729490027, 'lambda_l1': 5.3002160869690126e-05, 'lambda_l2': 5.961162384679178, 'minchild': 19}. Best is trial 163 with value: 3544622.0430570897.\u001b[0m\n"
     ]
    },
    {
     "name": "stdout",
     "output_type": "stream",
     "text": [
      "Early stopping, best iteration is:\n",
      "[169]\ttraining's l1: 580067\tvalid_1's l1: 3.66887e+06\n",
      "Training until validation scores don't improve for 5 rounds\n",
      "Early stopping, best iteration is:\n",
      "[193]\ttraining's l1: 51281.3\tvalid_1's l1: 3.82021e+06\n"
     ]
    },
    {
     "name": "stderr",
     "output_type": "stream",
     "text": [
      "\u001b[32m[I 2021-01-03 18:05:54,650]\u001b[0m Trial 402 finished with value: 3820206.931389614 and parameters: {'nleaves': 191, 'bagfrac': 0.9210746492468026, 'bagfreq': 2, 'featfrac': 0.8120784773376724, 'lambda_l1': 0.00024837010167831256, 'lambda_l2': 9.921888878387168, 'minchild': 3}. Best is trial 163 with value: 3544622.0430570897.\u001b[0m\n"
     ]
    },
    {
     "name": "stdout",
     "output_type": "stream",
     "text": [
      "Training until validation scores don't improve for 5 rounds\n"
     ]
    },
    {
     "name": "stderr",
     "output_type": "stream",
     "text": [
      "\u001b[32m[I 2021-01-03 18:05:57,093]\u001b[0m Trial 403 finished with value: 3708041.64498975 and parameters: {'nleaves': 45, 'bagfrac': 0.9415714371117264, 'bagfreq': 3, 'featfrac': 0.8040542875750954, 'lambda_l1': 0.00011834727306056264, 'lambda_l2': 7.784049545452123, 'minchild': 9}. Best is trial 163 with value: 3544622.0430570897.\u001b[0m\n"
     ]
    },
    {
     "name": "stdout",
     "output_type": "stream",
     "text": [
      "Early stopping, best iteration is:\n",
      "[252]\ttraining's l1: 532660\tvalid_1's l1: 3.70804e+06\n",
      "Training until validation scores don't improve for 5 rounds\n"
     ]
    },
    {
     "name": "stderr",
     "output_type": "stream",
     "text": [
      "\u001b[32m[I 2021-01-03 18:05:59,000]\u001b[0m Trial 404 finished with value: 3704458.0104104984 and parameters: {'nleaves': 56, 'bagfrac': 0.9343682559215843, 'bagfreq': 2, 'featfrac': 0.7705336222964437, 'lambda_l1': 0.00016870909661807933, 'lambda_l2': 3.3629805022183943, 'minchild': 22}. Best is trial 163 with value: 3544622.0430570897.\u001b[0m\n"
     ]
    },
    {
     "name": "stdout",
     "output_type": "stream",
     "text": [
      "Early stopping, best iteration is:\n",
      "[222]\ttraining's l1: 439334\tvalid_1's l1: 3.70446e+06\n",
      "Training until validation scores don't improve for 5 rounds\n"
     ]
    },
    {
     "name": "stderr",
     "output_type": "stream",
     "text": [
      "\u001b[32m[I 2021-01-03 18:06:00,318]\u001b[0m Trial 405 finished with value: 3834638.66390667 and parameters: {'nleaves': 36, 'bagfrac': 0.9461091454037084, 'bagfreq': 2, 'featfrac': 0.8276121039353009, 'lambda_l1': 0.0003540022495182634, 'lambda_l2': 4.7552301925121725, 'minchild': 14}. Best is trial 163 with value: 3544622.0430570897.\u001b[0m\n"
     ]
    },
    {
     "name": "stdout",
     "output_type": "stream",
     "text": [
      "Early stopping, best iteration is:\n",
      "[176]\ttraining's l1: 1.09927e+06\tvalid_1's l1: 3.83464e+06\n",
      "Training until validation scores don't improve for 5 rounds\n",
      "Early stopping, best iteration is:\n",
      "[232]\ttraining's l1: 576238\tvalid_1's l1: 3.64849e+06\n"
     ]
    },
    {
     "name": "stderr",
     "output_type": "stream",
     "text": [
      "\u001b[32m[I 2021-01-03 18:06:02,116]\u001b[0m Trial 406 finished with value: 3648485.222086195 and parameters: {'nleaves': 60, 'bagfrac': 0.9507814986764095, 'bagfreq': 2, 'featfrac': 0.8132053244234068, 'lambda_l1': 7.82964976678226e-05, 'lambda_l2': 9.928875598978673, 'minchild': 41}. Best is trial 163 with value: 3544622.0430570897.\u001b[0m\n"
     ]
    },
    {
     "name": "stdout",
     "output_type": "stream",
     "text": [
      "Training until validation scores don't improve for 5 rounds\n"
     ]
    },
    {
     "name": "stderr",
     "output_type": "stream",
     "text": [
      "\u001b[32m[I 2021-01-03 18:06:03,651]\u001b[0m Trial 407 finished with value: 3594659.023952159 and parameters: {'nleaves': 65, 'bagfrac': 0.9163538974165216, 'bagfreq': 2, 'featfrac': 0.8223630153859992, 'lambda_l1': 0.00011029873584438923, 'lambda_l2': 7.230393855971527, 'minchild': 5}. Best is trial 163 with value: 3544622.0430570897.\u001b[0m\n"
     ]
    },
    {
     "name": "stdout",
     "output_type": "stream",
     "text": [
      "Early stopping, best iteration is:\n",
      "[174]\ttraining's l1: 507675\tvalid_1's l1: 3.59466e+06\n",
      "Training until validation scores don't improve for 5 rounds\n"
     ]
    },
    {
     "name": "stderr",
     "output_type": "stream",
     "text": [
      "\u001b[32m[I 2021-01-03 18:06:04,866]\u001b[0m Trial 408 finished with value: 3696250.6927397735 and parameters: {'nleaves': 67, 'bagfrac': 0.9242629385204966, 'bagfreq': 1, 'featfrac': 0.8442146295968754, 'lambda_l1': 9.938443342938476e-05, 'lambda_l2': 9.982121103900228, 'minchild': 17}. Best is trial 163 with value: 3544622.0430570897.\u001b[0m\n"
     ]
    },
    {
     "name": "stdout",
     "output_type": "stream",
     "text": [
      "Early stopping, best iteration is:\n",
      "[200]\ttraining's l1: 432489\tvalid_1's l1: 3.69625e+06\n",
      "Training until validation scores don't improve for 5 rounds\n"
     ]
    },
    {
     "name": "stderr",
     "output_type": "stream",
     "text": [
      "\u001b[32m[I 2021-01-03 18:06:06,454]\u001b[0m Trial 409 finished with value: 3690238.8194203055 and parameters: {'nleaves': 68, 'bagfrac': 0.9170367495128007, 'bagfreq': 2, 'featfrac': 0.8319582655191413, 'lambda_l1': 5.9117887031602857e-05, 'lambda_l2': 2.061132639632309, 'minchild': 5}. Best is trial 163 with value: 3544622.0430570897.\u001b[0m\n"
     ]
    },
    {
     "name": "stdout",
     "output_type": "stream",
     "text": [
      "Early stopping, best iteration is:\n",
      "[196]\ttraining's l1: 298255\tvalid_1's l1: 3.69024e+06\n",
      "Training until validation scores don't improve for 5 rounds\n",
      "Early stopping, best iteration is:\n",
      "[231]\ttraining's l1: 238099\tvalid_1's l1: 3.67748e+06\n"
     ]
    },
    {
     "name": "stderr",
     "output_type": "stream",
     "text": [
      "\u001b[32m[I 2021-01-03 18:06:09,204]\u001b[0m Trial 410 finished with value: 3677481.204114523 and parameters: {'nleaves': 72, 'bagfrac': 0.9310480730073456, 'bagfreq': 3, 'featfrac': 0.8236152287943125, 'lambda_l1': 0.00012894506806196892, 'lambda_l2': 5.771850475463902, 'minchild': 12}. Best is trial 163 with value: 3544622.0430570897.\u001b[0m\n"
     ]
    },
    {
     "name": "stdout",
     "output_type": "stream",
     "text": [
      "Training until validation scores don't improve for 5 rounds\n"
     ]
    },
    {
     "name": "stderr",
     "output_type": "stream",
     "text": [
      "\u001b[32m[I 2021-01-03 18:06:10,805]\u001b[0m Trial 411 finished with value: 3680862.9805871705 and parameters: {'nleaves': 48, 'bagfrac': 0.9375829226019169, 'bagfreq': 2, 'featfrac': 0.7982291633701679, 'lambda_l1': 3.576022275772395e-05, 'lambda_l2': 4.19083963782822, 'minchild': 15}. Best is trial 163 with value: 3544622.0430570897.\u001b[0m\n"
     ]
    },
    {
     "name": "stdout",
     "output_type": "stream",
     "text": [
      "Early stopping, best iteration is:\n",
      "[181]\ttraining's l1: 723318\tvalid_1's l1: 3.68086e+06\n",
      "Training until validation scores don't improve for 5 rounds\n",
      "Early stopping, best iteration is:\n",
      "[263]\ttraining's l1: 235635\tvalid_1's l1: 3.56585e+06\n"
     ]
    },
    {
     "name": "stderr",
     "output_type": "stream",
     "text": [
      "\u001b[32m[I 2021-01-03 18:06:14,899]\u001b[0m Trial 412 finished with value: 3565851.018969431 and parameters: {'nleaves': 64, 'bagfrac': 0.9213342926968346, 'bagfreq': 2, 'featfrac': 0.8490119238300029, 'lambda_l1': 8.526701610167942e-05, 'lambda_l2': 7.376931950607789, 'minchild': 1}. Best is trial 163 with value: 3544622.0430570897.\u001b[0m\n"
     ]
    },
    {
     "name": "stdout",
     "output_type": "stream",
     "text": [
      "Training until validation scores don't improve for 5 rounds\n",
      "Early stopping, best iteration is:\n",
      "[256]\ttraining's l1: 269735\tvalid_1's l1: 3.69265e+06\n"
     ]
    },
    {
     "name": "stderr",
     "output_type": "stream",
     "text": [
      "\u001b[32m[I 2021-01-03 18:06:18,482]\u001b[0m Trial 413 finished with value: 3692651.856738928 and parameters: {'nleaves': 65, 'bagfrac': 0.9197344423117861, 'bagfreq': 4, 'featfrac': 0.844592687750587, 'lambda_l1': 7.795899166292525e-05, 'lambda_l2': 9.776127293615465, 'minchild': 2}. Best is trial 163 with value: 3544622.0430570897.\u001b[0m\n"
     ]
    },
    {
     "name": "stdout",
     "output_type": "stream",
     "text": [
      "Training until validation scores don't improve for 5 rounds\n"
     ]
    },
    {
     "name": "stderr",
     "output_type": "stream",
     "text": [
      "\u001b[32m[I 2021-01-03 18:06:20,554]\u001b[0m Trial 414 finished with value: 3646589.8579208446 and parameters: {'nleaves': 70, 'bagfrac': 0.9169408123981035, 'bagfreq': 2, 'featfrac': 0.8523297233630402, 'lambda_l1': 0.0001110376606682979, 'lambda_l2': 7.409924820583611, 'minchild': 2}. Best is trial 163 with value: 3544622.0430570897.\u001b[0m\n"
     ]
    },
    {
     "name": "stdout",
     "output_type": "stream",
     "text": [
      "Early stopping, best iteration is:\n",
      "[127]\ttraining's l1: 698029\tvalid_1's l1: 3.64659e+06\n",
      "Training until validation scores don't improve for 5 rounds\n",
      "Early stopping, best iteration is:\n",
      "[251]\ttraining's l1: 189770\tvalid_1's l1: 3.70783e+06\n"
     ]
    },
    {
     "name": "stderr",
     "output_type": "stream",
     "text": [
      "\u001b[32m[I 2021-01-03 18:06:24,910]\u001b[0m Trial 415 finished with value: 3707826.8530412675 and parameters: {'nleaves': 76, 'bagfrac': 0.9227327529706465, 'bagfreq': 1, 'featfrac': 0.8504029309429654, 'lambda_l1': 0.00014965786068312588, 'lambda_l2': 9.945899232119482, 'minchild': 1}. Best is trial 163 with value: 3544622.0430570897.\u001b[0m\n"
     ]
    },
    {
     "name": "stdout",
     "output_type": "stream",
     "text": [
      "Training until validation scores don't improve for 5 rounds\n",
      "Early stopping, best iteration is:\n",
      "[237]\ttraining's l1: 296345\tvalid_1's l1: 3.56244e+06\n"
     ]
    },
    {
     "name": "stderr",
     "output_type": "stream",
     "text": [
      "\u001b[32m[I 2021-01-03 18:06:27,947]\u001b[0m Trial 416 finished with value: 3562440.7812279104 and parameters: {'nleaves': 64, 'bagfrac': 0.926515873548752, 'bagfreq': 2, 'featfrac': 0.8644004509224399, 'lambda_l1': 6.80892472643204e-05, 'lambda_l2': 7.329449355568632, 'minchild': 4}. Best is trial 163 with value: 3544622.0430570897.\u001b[0m\n"
     ]
    },
    {
     "name": "stdout",
     "output_type": "stream",
     "text": [
      "Training until validation scores don't improve for 5 rounds\n"
     ]
    },
    {
     "name": "stderr",
     "output_type": "stream",
     "text": [
      "\u001b[32m[I 2021-01-03 18:06:29,845]\u001b[0m Trial 417 finished with value: 3590328.3357259715 and parameters: {'nleaves': 65, 'bagfrac': 0.925521671754113, 'bagfreq': 2, 'featfrac': 0.8626315368744599, 'lambda_l1': 7.254878445688398e-05, 'lambda_l2': 9.873590383175417, 'minchild': 4}. Best is trial 163 with value: 3544622.0430570897.\u001b[0m\n"
     ]
    },
    {
     "name": "stdout",
     "output_type": "stream",
     "text": [
      "Early stopping, best iteration is:\n",
      "[228]\ttraining's l1: 335047\tvalid_1's l1: 3.59033e+06\n",
      "Training until validation scores don't improve for 5 rounds\n"
     ]
    },
    {
     "name": "stderr",
     "output_type": "stream",
     "text": [
      "\u001b[32m[I 2021-01-03 18:06:30,911]\u001b[0m Trial 418 finished with value: 3850111.971154337 and parameters: {'nleaves': 71, 'bagfrac': 0.9264643970644241, 'bagfreq': 2, 'featfrac': 0.8669594293120754, 'lambda_l1': 5.5539294859440966e-05, 'lambda_l2': 0.0023560902946797952, 'minchild': 3}. Best is trial 163 with value: 3544622.0430570897.\u001b[0m\n"
     ]
    },
    {
     "name": "stdout",
     "output_type": "stream",
     "text": [
      "Early stopping, best iteration is:\n",
      "[117]\ttraining's l1: 588241\tvalid_1's l1: 3.85011e+06\n",
      "Training until validation scores don't improve for 5 rounds\n"
     ]
    },
    {
     "name": "stderr",
     "output_type": "stream",
     "text": [
      "\u001b[32m[I 2021-01-03 18:06:33,116]\u001b[0m Trial 419 finished with value: 3650825.6041586716 and parameters: {'nleaves': 74, 'bagfrac': 0.923488368929262, 'bagfreq': 2, 'featfrac': 0.8514695974256601, 'lambda_l1': 6.840553809901761e-05, 'lambda_l2': 7.366462326851056, 'minchild': 4}. Best is trial 163 with value: 3544622.0430570897.\u001b[0m\n"
     ]
    },
    {
     "name": "stdout",
     "output_type": "stream",
     "text": [
      "Early stopping, best iteration is:\n",
      "[183]\ttraining's l1: 356202\tvalid_1's l1: 3.65083e+06\n",
      "Training until validation scores don't improve for 5 rounds\n"
     ]
    },
    {
     "name": "stderr",
     "output_type": "stream",
     "text": [
      "\u001b[32m[I 2021-01-03 18:06:34,450]\u001b[0m Trial 420 finished with value: 3719985.5020554834 and parameters: {'nleaves': 65, 'bagfrac': 0.9182869712320898, 'bagfreq': 2, 'featfrac': 0.8735761575571955, 'lambda_l1': 5.004888589040538e-05, 'lambda_l2': 5.68902312200376, 'minchild': 3}. Best is trial 163 with value: 3544622.0430570897.\u001b[0m\n"
     ]
    },
    {
     "name": "stdout",
     "output_type": "stream",
     "text": [
      "Early stopping, best iteration is:\n",
      "[152]\ttraining's l1: 586208\tvalid_1's l1: 3.71999e+06\n",
      "Training until validation scores don't improve for 5 rounds\n"
     ]
    },
    {
     "name": "stderr",
     "output_type": "stream",
     "text": [
      "\u001b[32m[I 2021-01-03 18:06:35,968]\u001b[0m Trial 421 finished with value: 3565367.773474629 and parameters: {'nleaves': 65, 'bagfrac': 0.9154986292335805, 'bagfreq': 2, 'featfrac': 0.8523434411623538, 'lambda_l1': 7.553936807424744e-05, 'lambda_l2': 7.447861144390081, 'minchild': 5}. Best is trial 163 with value: 3544622.0430570897.\u001b[0m\n"
     ]
    },
    {
     "name": "stdout",
     "output_type": "stream",
     "text": [
      "Early stopping, best iteration is:\n",
      "[197]\ttraining's l1: 399068\tvalid_1's l1: 3.56537e+06\n",
      "Training until validation scores don't improve for 5 rounds\n"
     ]
    },
    {
     "name": "stderr",
     "output_type": "stream",
     "text": [
      "\u001b[32m[I 2021-01-03 18:06:38,038]\u001b[0m Trial 422 finished with value: 3623421.4000845132 and parameters: {'nleaves': 62, 'bagfrac': 0.9150093426355573, 'bagfreq': 2, 'featfrac': 0.860409884382932, 'lambda_l1': 4.522045431090007e-05, 'lambda_l2': 4.0776277430283265, 'minchild': 1}. Best is trial 163 with value: 3544622.0430570897.\u001b[0m\n"
     ]
    },
    {
     "name": "stdout",
     "output_type": "stream",
     "text": [
      "Early stopping, best iteration is:\n",
      "[173]\ttraining's l1: 484235\tvalid_1's l1: 3.62342e+06\n",
      "Training until validation scores don't improve for 5 rounds\n"
     ]
    },
    {
     "name": "stderr",
     "output_type": "stream",
     "text": [
      "\u001b[32m[I 2021-01-03 18:06:39,811]\u001b[0m Trial 423 finished with value: 3685937.5853008525 and parameters: {'nleaves': 70, 'bagfrac': 0.9241319660630453, 'bagfreq': 9, 'featfrac': 0.861244621411752, 'lambda_l1': 7.458060306533944e-05, 'lambda_l2': 6.057252426377255, 'minchild': 4}. Best is trial 163 with value: 3544622.0430570897.\u001b[0m\n"
     ]
    },
    {
     "name": "stdout",
     "output_type": "stream",
     "text": [
      "Early stopping, best iteration is:\n",
      "[175]\ttraining's l1: 429638\tvalid_1's l1: 3.68594e+06\n",
      "Training until validation scores don't improve for 5 rounds\n"
     ]
    },
    {
     "name": "stderr",
     "output_type": "stream",
     "text": [
      "\u001b[32m[I 2021-01-03 18:06:42,381]\u001b[0m Trial 424 finished with value: 3590486.1029924094 and parameters: {'nleaves': 67, 'bagfrac': 0.9294972200431783, 'bagfreq': 3, 'featfrac': 0.8569232969419998, 'lambda_l1': 6.935712740891207e-05, 'lambda_l2': 7.422877838143335, 'minchild': 1}. Best is trial 163 with value: 3544622.0430570897.\u001b[0m\n"
     ]
    },
    {
     "name": "stdout",
     "output_type": "stream",
     "text": [
      "Early stopping, best iteration is:\n",
      "[231]\ttraining's l1: 280678\tvalid_1's l1: 3.59049e+06\n",
      "Training until validation scores don't improve for 5 rounds\n"
     ]
    },
    {
     "name": "stderr",
     "output_type": "stream",
     "text": [
      "\u001b[32m[I 2021-01-03 18:06:45,305]\u001b[0m Trial 425 finished with value: 3671603.9927126593 and parameters: {'nleaves': 79, 'bagfrac': 0.930285033026485, 'bagfreq': 3, 'featfrac': 0.8631626286985661, 'lambda_l1': 5.957493271190553e-05, 'lambda_l2': 3.130536437011286, 'minchild': 1}. Best is trial 163 with value: 3544622.0430570897.\u001b[0m\n"
     ]
    },
    {
     "name": "stdout",
     "output_type": "stream",
     "text": [
      "Early stopping, best iteration is:\n",
      "[227]\ttraining's l1: 160395\tvalid_1's l1: 3.6716e+06\n",
      "Training until validation scores don't improve for 5 rounds\n"
     ]
    },
    {
     "name": "stderr",
     "output_type": "stream",
     "text": [
      "\u001b[32m[I 2021-01-03 18:06:47,868]\u001b[0m Trial 426 finished with value: 3750713.5335568152 and parameters: {'nleaves': 75, 'bagfrac': 0.9143346079036127, 'bagfreq': 3, 'featfrac': 0.8629563894592892, 'lambda_l1': 7.177876862119156e-05, 'lambda_l2': 4.579776251761688, 'minchild': 4}. Best is trial 163 with value: 3544622.0430570897.\u001b[0m\n"
     ]
    },
    {
     "name": "stdout",
     "output_type": "stream",
     "text": [
      "Early stopping, best iteration is:\n",
      "[258]\ttraining's l1: 146147\tvalid_1's l1: 3.75071e+06\n",
      "Training until validation scores don't improve for 5 rounds\n"
     ]
    },
    {
     "name": "stderr",
     "output_type": "stream",
     "text": [
      "\u001b[32m[I 2021-01-03 18:06:49,852]\u001b[0m Trial 427 finished with value: 3540513.3754352015 and parameters: {'nleaves': 67, 'bagfrac': 0.9281362919606247, 'bagfreq': 3, 'featfrac': 0.8557480118987856, 'lambda_l1': 8.522046462805208e-05, 'lambda_l2': 9.9916974747439, 'minchild': 1}. Best is trial 427 with value: 3540513.3754352015.\u001b[0m\n"
     ]
    },
    {
     "name": "stdout",
     "output_type": "stream",
     "text": [
      "Early stopping, best iteration is:\n",
      "[181]\ttraining's l1: 475039\tvalid_1's l1: 3.54051e+06\n",
      "Training until validation scores don't improve for 5 rounds\n",
      "Early stopping, best iteration is:\n",
      "[267]\ttraining's l1: 202884\tvalid_1's l1: 3.64719e+06\n"
     ]
    },
    {
     "name": "stderr",
     "output_type": "stream",
     "text": [
      "\u001b[32m[I 2021-01-03 18:06:52,773]\u001b[0m Trial 428 finished with value: 3647188.4870603927 and parameters: {'nleaves': 70, 'bagfrac': 0.9274723100953318, 'bagfreq': 3, 'featfrac': 0.8684977014051465, 'lambda_l1': 9.175476857741292e-05, 'lambda_l2': 9.948189810371003, 'minchild': 1}. Best is trial 427 with value: 3540513.3754352015.\u001b[0m\n"
     ]
    },
    {
     "name": "stdout",
     "output_type": "stream",
     "text": [
      "Training until validation scores don't improve for 5 rounds\n"
     ]
    },
    {
     "name": "stderr",
     "output_type": "stream",
     "text": [
      "\u001b[32m[I 2021-01-03 18:06:54,762]\u001b[0m Trial 429 finished with value: 3721039.235004971 and parameters: {'nleaves': 74, 'bagfrac': 0.9194261269628817, 'bagfreq': 3, 'featfrac': 0.8564578180338996, 'lambda_l1': 4.0646756596756183e-05, 'lambda_l2': 7.148900252688638, 'minchild': 1}. Best is trial 427 with value: 3540513.3754352015.\u001b[0m\n"
     ]
    },
    {
     "name": "stdout",
     "output_type": "stream",
     "text": [
      "Early stopping, best iteration is:\n",
      "[167]\ttraining's l1: 422717\tvalid_1's l1: 3.72104e+06\n",
      "Training until validation scores don't improve for 5 rounds\n"
     ]
    },
    {
     "name": "stderr",
     "output_type": "stream",
     "text": [
      "\u001b[32m[I 2021-01-03 18:06:57,657]\u001b[0m Trial 430 finished with value: 3633724.02773138 and parameters: {'nleaves': 66, 'bagfrac': 0.9135478945887585, 'bagfreq': 3, 'featfrac': 0.875811876116702, 'lambda_l1': 9.3535146379183e-05, 'lambda_l2': 9.988246204915143, 'minchild': 1}. Best is trial 427 with value: 3540513.3754352015.\u001b[0m\n"
     ]
    },
    {
     "name": "stdout",
     "output_type": "stream",
     "text": [
      "Early stopping, best iteration is:\n",
      "[201]\ttraining's l1: 416349\tvalid_1's l1: 3.63372e+06\n",
      "Training until validation scores don't improve for 5 rounds\n"
     ]
    },
    {
     "name": "stderr",
     "output_type": "stream",
     "text": [
      "\u001b[32m[I 2021-01-03 18:06:59,345]\u001b[0m Trial 431 finished with value: 3620014.698116417 and parameters: {'nleaves': 69, 'bagfrac': 0.928531507053705, 'bagfreq': 3, 'featfrac': 0.8662524580208787, 'lambda_l1': 6.012455698607613e-05, 'lambda_l2': 7.365263217234705, 'minchild': 5}. Best is trial 427 with value: 3540513.3754352015.\u001b[0m\n"
     ]
    },
    {
     "name": "stdout",
     "output_type": "stream",
     "text": [
      "Early stopping, best iteration is:\n",
      "[171]\ttraining's l1: 454477\tvalid_1's l1: 3.62001e+06\n",
      "Training until validation scores don't improve for 5 rounds\n"
     ]
    },
    {
     "name": "stderr",
     "output_type": "stream",
     "text": [
      "\u001b[32m[I 2021-01-03 18:07:01,309]\u001b[0m Trial 432 finished with value: 3712532.29099318 and parameters: {'nleaves': 80, 'bagfrac': 0.9210412176069466, 'bagfreq': 3, 'featfrac': 0.8527712474795789, 'lambda_l1': 8.984736878925477e-05, 'lambda_l2': 5.643432012473064, 'minchild': 3}. Best is trial 427 with value: 3540513.3754352015.\u001b[0m\n"
     ]
    },
    {
     "name": "stdout",
     "output_type": "stream",
     "text": [
      "Early stopping, best iteration is:\n",
      "[141]\ttraining's l1: 469261\tvalid_1's l1: 3.71253e+06\n",
      "Training until validation scores don't improve for 5 rounds\n"
     ]
    },
    {
     "name": "stderr",
     "output_type": "stream",
     "text": [
      "\u001b[32m[I 2021-01-03 18:07:03,335]\u001b[0m Trial 433 finished with value: 3697671.064580264 and parameters: {'nleaves': 66, 'bagfrac': 0.9165892599826514, 'bagfreq': 2, 'featfrac': 0.8577929168266324, 'lambda_l1': 4.8698818540578126e-05, 'lambda_l2': 9.933783270773745, 'minchild': 5}. Best is trial 427 with value: 3540513.3754352015.\u001b[0m\n"
     ]
    },
    {
     "name": "stdout",
     "output_type": "stream",
     "text": [
      "Early stopping, best iteration is:\n",
      "[204]\ttraining's l1: 394683\tvalid_1's l1: 3.69767e+06\n",
      "Training until validation scores don't improve for 5 rounds\n"
     ]
    },
    {
     "name": "stderr",
     "output_type": "stream",
     "text": [
      "\u001b[32m[I 2021-01-03 18:07:05,660]\u001b[0m Trial 434 finished with value: 3703222.1055031563 and parameters: {'nleaves': 71, 'bagfrac': 0.9278770656900687, 'bagfreq': 3, 'featfrac': 0.8715780807815933, 'lambda_l1': 0.00010840630158183408, 'lambda_l2': 7.330865063464372, 'minchild': 1}. Best is trial 427 with value: 3540513.3754352015.\u001b[0m\n"
     ]
    },
    {
     "name": "stdout",
     "output_type": "stream",
     "text": [
      "Early stopping, best iteration is:\n",
      "[188]\ttraining's l1: 374655\tvalid_1's l1: 3.70322e+06\n",
      "Training until validation scores don't improve for 5 rounds\n"
     ]
    },
    {
     "name": "stderr",
     "output_type": "stream",
     "text": [
      "\u001b[32m[I 2021-01-03 18:07:07,224]\u001b[0m Trial 435 finished with value: 3644045.196896487 and parameters: {'nleaves': 63, 'bagfrac': 0.9102316043128289, 'bagfreq': 2, 'featfrac': 0.8556854583152851, 'lambda_l1': 6.940788659630883e-05, 'lambda_l2': 9.99048379138259, 'minchild': 3}. Best is trial 427 with value: 3540513.3754352015.\u001b[0m\n"
     ]
    },
    {
     "name": "stdout",
     "output_type": "stream",
     "text": [
      "Early stopping, best iteration is:\n",
      "[157]\ttraining's l1: 638126\tvalid_1's l1: 3.64405e+06\n",
      "Training until validation scores don't improve for 5 rounds\n"
     ]
    },
    {
     "name": "stderr",
     "output_type": "stream",
     "text": [
      "\u001b[32m[I 2021-01-03 18:07:09,357]\u001b[0m Trial 436 finished with value: 3612709.7418929115 and parameters: {'nleaves': 67, 'bagfrac': 0.9202164030390398, 'bagfreq': 2, 'featfrac': 0.8584237292415694, 'lambda_l1': 0.0001121910188393253, 'lambda_l2': 4.735341790881291, 'minchild': 6}. Best is trial 427 with value: 3540513.3754352015.\u001b[0m\n"
     ]
    },
    {
     "name": "stdout",
     "output_type": "stream",
     "text": [
      "Early stopping, best iteration is:\n",
      "[247]\ttraining's l1: 220416\tvalid_1's l1: 3.61271e+06\n",
      "Training until validation scores don't improve for 5 rounds\n"
     ]
    },
    {
     "name": "stderr",
     "output_type": "stream",
     "text": [
      "\u001b[32m[I 2021-01-03 18:07:12,004]\u001b[0m Trial 437 finished with value: 3673457.380677251 and parameters: {'nleaves': 86, 'bagfrac': 0.9328777916159245, 'bagfreq': 2, 'featfrac': 0.8549449841856093, 'lambda_l1': 8.790260794516659e-05, 'lambda_l2': 7.327589305688921, 'minchild': 1}. Best is trial 427 with value: 3540513.3754352015.\u001b[0m\n"
     ]
    },
    {
     "name": "stdout",
     "output_type": "stream",
     "text": [
      "Early stopping, best iteration is:\n",
      "[170]\ttraining's l1: 296759\tvalid_1's l1: 3.67346e+06\n",
      "Training until validation scores don't improve for 5 rounds\n"
     ]
    },
    {
     "name": "stderr",
     "output_type": "stream",
     "text": [
      "\u001b[32m[I 2021-01-03 18:07:14,464]\u001b[0m Trial 438 finished with value: 3569194.495034839 and parameters: {'nleaves': 76, 'bagfrac': 0.9222143971491218, 'bagfreq': 2, 'featfrac': 0.8484254080767055, 'lambda_l1': 4.6428159004871366e-05, 'lambda_l2': 3.140250691033603, 'minchild': 4}. Best is trial 427 with value: 3540513.3754352015.\u001b[0m\n"
     ]
    },
    {
     "name": "stdout",
     "output_type": "stream",
     "text": [
      "Early stopping, best iteration is:\n",
      "[213]\ttraining's l1: 209111\tvalid_1's l1: 3.56919e+06\n",
      "Training until validation scores don't improve for 5 rounds\n"
     ]
    },
    {
     "name": "stderr",
     "output_type": "stream",
     "text": [
      "\u001b[32m[I 2021-01-03 18:07:16,397]\u001b[0m Trial 439 finished with value: 3666617.035856811 and parameters: {'nleaves': 77, 'bagfrac': 0.9240942386475804, 'bagfreq': 2, 'featfrac': 0.8646942719246452, 'lambda_l1': 5.744829470704352e-05, 'lambda_l2': 0.0054067666699153865, 'minchild': 3}. Best is trial 427 with value: 3540513.3754352015.\u001b[0m\n"
     ]
    },
    {
     "name": "stdout",
     "output_type": "stream",
     "text": [
      "Early stopping, best iteration is:\n",
      "[188]\ttraining's l1: 204024\tvalid_1's l1: 3.66662e+06\n",
      "Training until validation scores don't improve for 5 rounds\n"
     ]
    },
    {
     "name": "stderr",
     "output_type": "stream",
     "text": [
      "\u001b[32m[I 2021-01-03 18:07:17,997]\u001b[0m Trial 440 finished with value: 3788905.8856357373 and parameters: {'nleaves': 81, 'bagfrac': 0.9293927855319161, 'bagfreq': 4, 'featfrac': 0.8594568135439139, 'lambda_l1': 2.639591315870855e-05, 'lambda_l2': 3.5406936503431394, 'minchild': 4}. Best is trial 427 with value: 3540513.3754352015.\u001b[0m\n"
     ]
    },
    {
     "name": "stdout",
     "output_type": "stream",
     "text": [
      "Early stopping, best iteration is:\n",
      "[131]\ttraining's l1: 478252\tvalid_1's l1: 3.78891e+06\n",
      "Training until validation scores don't improve for 5 rounds\n"
     ]
    },
    {
     "name": "stderr",
     "output_type": "stream",
     "text": [
      "\u001b[32m[I 2021-01-03 18:07:19,502]\u001b[0m Trial 441 finished with value: 3699028.661370875 and parameters: {'nleaves': 73, 'bagfrac': 0.9226785737311606, 'bagfreq': 2, 'featfrac': 0.850253763564148, 'lambda_l1': 3.671636021996331e-05, 'lambda_l2': 5.291716733497579, 'minchild': 1}. Best is trial 427 with value: 3540513.3754352015.\u001b[0m\n"
     ]
    },
    {
     "name": "stdout",
     "output_type": "stream",
     "text": [
      "Early stopping, best iteration is:\n",
      "[117]\ttraining's l1: 691796\tvalid_1's l1: 3.69903e+06\n",
      "Training until validation scores don't improve for 5 rounds\n"
     ]
    },
    {
     "name": "stderr",
     "output_type": "stream",
     "text": [
      "\u001b[32m[I 2021-01-03 18:07:20,991]\u001b[0m Trial 442 finished with value: 3665182.509287213 and parameters: {'nleaves': 73, 'bagfrac': 0.9145635613240569, 'bagfreq': 2, 'featfrac': 0.8480032814951387, 'lambda_l1': 4.6113912241287525e-05, 'lambda_l2': 2.6579103188046362, 'minchild': 7}. Best is trial 427 with value: 3540513.3754352015.\u001b[0m\n"
     ]
    },
    {
     "name": "stdout",
     "output_type": "stream",
     "text": [
      "Early stopping, best iteration is:\n",
      "[154]\ttraining's l1: 426871\tvalid_1's l1: 3.66518e+06\n",
      "Training until validation scores don't improve for 5 rounds\n"
     ]
    },
    {
     "name": "stderr",
     "output_type": "stream",
     "text": [
      "\u001b[32m[I 2021-01-03 18:07:23,153]\u001b[0m Trial 443 finished with value: 3649777.3238204583 and parameters: {'nleaves': 67, 'bagfrac': 0.9319860350295089, 'bagfreq': 3, 'featfrac': 0.8564284000102529, 'lambda_l1': 4.000851356145458e-05, 'lambda_l2': 9.844188090831988, 'minchild': 5}. Best is trial 427 with value: 3540513.3754352015.\u001b[0m\n"
     ]
    },
    {
     "name": "stdout",
     "output_type": "stream",
     "text": [
      "Early stopping, best iteration is:\n",
      "[224]\ttraining's l1: 316394\tvalid_1's l1: 3.64978e+06\n",
      "Training until validation scores don't improve for 5 rounds\n"
     ]
    },
    {
     "name": "stderr",
     "output_type": "stream",
     "text": [
      "\u001b[32m[I 2021-01-03 18:07:24,972]\u001b[0m Trial 444 finished with value: 3621777.0461267247 and parameters: {'nleaves': 78, 'bagfrac': 0.9196491775371552, 'bagfreq': 2, 'featfrac': 0.84603289105665, 'lambda_l1': 6.90123697253442e-05, 'lambda_l2': 3.8187488860835472, 'minchild': 3}. Best is trial 427 with value: 3540513.3754352015.\u001b[0m\n"
     ]
    },
    {
     "name": "stdout",
     "output_type": "stream",
     "text": [
      "Early stopping, best iteration is:\n",
      "[160]\ttraining's l1: 362668\tvalid_1's l1: 3.62178e+06\n",
      "Training until validation scores don't improve for 5 rounds\n"
     ]
    },
    {
     "name": "stderr",
     "output_type": "stream",
     "text": [
      "\u001b[32m[I 2021-01-03 18:07:26,878]\u001b[0m Trial 445 finished with value: 3662076.4017239176 and parameters: {'nleaves': 63, 'bagfrac': 0.9268723949099973, 'bagfreq': 2, 'featfrac': 0.867966327755427, 'lambda_l1': 8.517539177698772e-05, 'lambda_l2': 9.952520904905294, 'minchild': 7}. Best is trial 427 with value: 3540513.3754352015.\u001b[0m\n"
     ]
    },
    {
     "name": "stdout",
     "output_type": "stream",
     "text": [
      "Early stopping, best iteration is:\n",
      "[225]\ttraining's l1: 362805\tvalid_1's l1: 3.66208e+06\n",
      "Training until validation scores don't improve for 5 rounds\n"
     ]
    },
    {
     "name": "stderr",
     "output_type": "stream",
     "text": [
      "\u001b[32m[I 2021-01-03 18:07:28,617]\u001b[0m Trial 446 finished with value: 3675788.5298062693 and parameters: {'nleaves': 69, 'bagfrac': 0.934480926385249, 'bagfreq': 3, 'featfrac': 0.8493097777325269, 'lambda_l1': 2.9845781567312974e-05, 'lambda_l2': 5.605577342557963, 'minchild': 6}. Best is trial 427 with value: 3540513.3754352015.\u001b[0m\n"
     ]
    },
    {
     "name": "stdout",
     "output_type": "stream",
     "text": [
      "Early stopping, best iteration is:\n",
      "[189]\ttraining's l1: 369337\tvalid_1's l1: 3.67579e+06\n",
      "Training until validation scores don't improve for 5 rounds\n"
     ]
    },
    {
     "name": "stderr",
     "output_type": "stream",
     "text": [
      "\u001b[32m[I 2021-01-03 18:07:31,581]\u001b[0m Trial 447 finished with value: 3945575.493052119 and parameters: {'nleaves': 168, 'bagfrac': 0.7986023253110748, 'bagfreq': 2, 'featfrac': 0.8632390034560063, 'lambda_l1': 5.4859614024650716e-05, 'lambda_l2': 2.4281067004268606, 'minchild': 1}. Best is trial 427 with value: 3540513.3754352015.\u001b[0m\n"
     ]
    },
    {
     "name": "stdout",
     "output_type": "stream",
     "text": [
      "Early stopping, best iteration is:\n",
      "[121]\ttraining's l1: 137261\tvalid_1's l1: 3.94558e+06\n",
      "Training until validation scores don't improve for 5 rounds\n"
     ]
    },
    {
     "name": "stderr",
     "output_type": "stream",
     "text": [
      "\u001b[32m[I 2021-01-03 18:07:34,059]\u001b[0m Trial 448 finished with value: 3571975.710447295 and parameters: {'nleaves': 75, 'bagfrac': 0.9142567547358391, 'bagfreq': 2, 'featfrac': 0.85507359292018, 'lambda_l1': 0.00013224174198839614, 'lambda_l2': 9.938732148864547, 'minchild': 3}. Best is trial 427 with value: 3540513.3754352015.\u001b[0m\n"
     ]
    },
    {
     "name": "stdout",
     "output_type": "stream",
     "text": [
      "Early stopping, best iteration is:\n",
      "[222]\ttraining's l1: 257860\tvalid_1's l1: 3.57198e+06\n",
      "Training until validation scores don't improve for 5 rounds\n"
     ]
    },
    {
     "name": "stderr",
     "output_type": "stream",
     "text": [
      "\u001b[32m[I 2021-01-03 18:07:36,781]\u001b[0m Trial 449 finished with value: 3678571.5550370137 and parameters: {'nleaves': 83, 'bagfrac': 0.914643528062969, 'bagfreq': 2, 'featfrac': 0.8547972494745355, 'lambda_l1': 0.00011159964495890932, 'lambda_l2': 7.737718272854826, 'minchild': 3}. Best is trial 427 with value: 3540513.3754352015.\u001b[0m\n"
     ]
    },
    {
     "name": "stdout",
     "output_type": "stream",
     "text": [
      "Early stopping, best iteration is:\n",
      "[230]\ttraining's l1: 169503\tvalid_1's l1: 3.67857e+06\n",
      "Training until validation scores don't improve for 5 rounds\n"
     ]
    },
    {
     "name": "stderr",
     "output_type": "stream",
     "text": [
      "\u001b[32m[I 2021-01-03 18:07:39,363]\u001b[0m Trial 450 finished with value: 3619260.075513757 and parameters: {'nleaves': 78, 'bagfrac': 0.9228271843022471, 'bagfreq': 2, 'featfrac': 0.8583390172324714, 'lambda_l1': 7.27178546667051e-05, 'lambda_l2': 6.266952417745749, 'minchild': 1}. Best is trial 427 with value: 3540513.3754352015.\u001b[0m\n"
     ]
    },
    {
     "name": "stdout",
     "output_type": "stream",
     "text": [
      "Early stopping, best iteration is:\n",
      "[214]\ttraining's l1: 220606\tvalid_1's l1: 3.61926e+06\n",
      "Training until validation scores don't improve for 5 rounds\n"
     ]
    },
    {
     "name": "stderr",
     "output_type": "stream",
     "text": [
      "\u001b[32m[I 2021-01-03 18:07:41,354]\u001b[0m Trial 451 finished with value: 3623332.603867938 and parameters: {'nleaves': 76, 'bagfrac': 0.9124457762905328, 'bagfreq': 2, 'featfrac': 0.8489959762918676, 'lambda_l1': 0.00012195749648507137, 'lambda_l2': 4.650896176670403, 'minchild': 4}. Best is trial 427 with value: 3540513.3754352015.\u001b[0m\n"
     ]
    },
    {
     "name": "stdout",
     "output_type": "stream",
     "text": [
      "Early stopping, best iteration is:\n",
      "[191]\ttraining's l1: 285097\tvalid_1's l1: 3.62333e+06\n",
      "Training until validation scores don't improve for 5 rounds\n"
     ]
    },
    {
     "name": "stderr",
     "output_type": "stream",
     "text": [
      "\u001b[32m[I 2021-01-03 18:07:43,993]\u001b[0m Trial 452 finished with value: 3630886.6591547215 and parameters: {'nleaves': 73, 'bagfrac': 0.9273366905969752, 'bagfreq': 2, 'featfrac': 0.8428032592110605, 'lambda_l1': 4.438785466433075e-05, 'lambda_l2': 9.86049247119448, 'minchild': 1}. Best is trial 427 with value: 3540513.3754352015.\u001b[0m\n"
     ]
    },
    {
     "name": "stdout",
     "output_type": "stream",
     "text": [
      "Early stopping, best iteration is:\n",
      "[201]\ttraining's l1: 336325\tvalid_1's l1: 3.63089e+06\n",
      "Training until validation scores don't improve for 5 rounds\n"
     ]
    },
    {
     "name": "stderr",
     "output_type": "stream",
     "text": [
      "\u001b[32m[I 2021-01-03 18:07:46,294]\u001b[0m Trial 453 finished with value: 3675057.052362141 and parameters: {'nleaves': 71, 'bagfrac': 0.9349903855446076, 'bagfreq': 2, 'featfrac': 0.8795154833379257, 'lambda_l1': 8.045971003085125e-05, 'lambda_l2': 9.740359654416975, 'minchild': 3}. Best is trial 427 with value: 3540513.3754352015.\u001b[0m\n"
     ]
    },
    {
     "name": "stdout",
     "output_type": "stream",
     "text": [
      "Early stopping, best iteration is:\n",
      "[209]\ttraining's l1: 323334\tvalid_1's l1: 3.67506e+06\n",
      "Training until validation scores don't improve for 5 rounds\n"
     ]
    },
    {
     "name": "stderr",
     "output_type": "stream",
     "text": [
      "\u001b[32m[I 2021-01-03 18:07:48,317]\u001b[0m Trial 454 finished with value: 3660573.3139866805 and parameters: {'nleaves': 66, 'bagfrac': 0.920018990221782, 'bagfreq': 3, 'featfrac': 0.871132338790578, 'lambda_l1': 2.4370305494762935e-05, 'lambda_l2': 6.231963579236099, 'minchild': 5}. Best is trial 427 with value: 3540513.3754352015.\u001b[0m\n"
     ]
    },
    {
     "name": "stdout",
     "output_type": "stream",
     "text": [
      "Early stopping, best iteration is:\n",
      "[206]\ttraining's l1: 346935\tvalid_1's l1: 3.66057e+06\n",
      "Training until validation scores don't improve for 5 rounds\n"
     ]
    },
    {
     "name": "stderr",
     "output_type": "stream",
     "text": [
      "\u001b[32m[I 2021-01-03 18:07:51,357]\u001b[0m Trial 455 finished with value: 3643128.053011386 and parameters: {'nleaves': 74, 'bagfrac': 0.9104970001919931, 'bagfreq': 2, 'featfrac': 0.8631722637779534, 'lambda_l1': 0.00012796798885677288, 'lambda_l2': 9.900715305725237, 'minchild': 1}. Best is trial 427 with value: 3540513.3754352015.\u001b[0m\n"
     ]
    },
    {
     "name": "stdout",
     "output_type": "stream",
     "text": [
      "Early stopping, best iteration is:\n",
      "[266]\ttraining's l1: 174192\tvalid_1's l1: 3.64313e+06\n",
      "Training until validation scores don't improve for 5 rounds\n"
     ]
    },
    {
     "name": "stderr",
     "output_type": "stream",
     "text": [
      "\u001b[32m[I 2021-01-03 18:07:53,482]\u001b[0m Trial 456 finished with value: 3655424.664946968 and parameters: {'nleaves': 64, 'bagfrac': 0.9276302197835629, 'bagfreq': 2, 'featfrac': 0.8560006679773358, 'lambda_l1': 9.290785482816441e-05, 'lambda_l2': 9.907316246082962, 'minchild': 7}. Best is trial 427 with value: 3540513.3754352015.\u001b[0m\n"
     ]
    },
    {
     "name": "stdout",
     "output_type": "stream",
     "text": [
      "Early stopping, best iteration is:\n",
      "[223]\ttraining's l1: 352426\tvalid_1's l1: 3.65542e+06\n",
      "Training until validation scores don't improve for 5 rounds\n"
     ]
    },
    {
     "name": "stderr",
     "output_type": "stream",
     "text": [
      "\u001b[32m[I 2021-01-03 18:07:54,808]\u001b[0m Trial 457 finished with value: 3851322.8870981056 and parameters: {'nleaves': 69, 'bagfrac': 0.9160987414417129, 'bagfreq': 2, 'featfrac': 0.8461529580067949, 'lambda_l1': 5.807093958122947e-05, 'lambda_l2': 0.12532868558099625, 'minchild': 5}. Best is trial 427 with value: 3540513.3754352015.\u001b[0m\n"
     ]
    },
    {
     "name": "stdout",
     "output_type": "stream",
     "text": [
      "Early stopping, best iteration is:\n",
      "[139]\ttraining's l1: 489006\tvalid_1's l1: 3.85132e+06\n",
      "Training until validation scores don't improve for 5 rounds\n"
     ]
    },
    {
     "name": "stderr",
     "output_type": "stream",
     "text": [
      "\u001b[32m[I 2021-01-03 18:07:56,940]\u001b[0m Trial 458 finished with value: 3648532.1504231286 and parameters: {'nleaves': 86, 'bagfrac': 0.9067488468867743, 'bagfreq': 2, 'featfrac': 0.8404569388359144, 'lambda_l1': 0.0002318630616348101, 'lambda_l2': 7.2055562134412625, 'minchild': 3}. Best is trial 427 with value: 3540513.3754352015.\u001b[0m\n"
     ]
    },
    {
     "name": "stdout",
     "output_type": "stream",
     "text": [
      "Early stopping, best iteration is:\n",
      "[175]\ttraining's l1: 292179\tvalid_1's l1: 3.64853e+06\n",
      "Training until validation scores don't improve for 5 rounds\n"
     ]
    },
    {
     "name": "stderr",
     "output_type": "stream",
     "text": [
      "\u001b[32m[I 2021-01-03 18:07:58,855]\u001b[0m Trial 459 finished with value: 3642730.452983363 and parameters: {'nleaves': 63, 'bagfrac': 0.9379475696067803, 'bagfreq': 2, 'featfrac': 0.8518325207067636, 'lambda_l1': 0.00013869159041666776, 'lambda_l2': 9.920476226715813, 'minchild': 1}. Best is trial 427 with value: 3540513.3754352015.\u001b[0m\n"
     ]
    },
    {
     "name": "stdout",
     "output_type": "stream",
     "text": [
      "Early stopping, best iteration is:\n",
      "[183]\ttraining's l1: 518453\tvalid_1's l1: 3.64273e+06\n",
      "Training until validation scores don't improve for 5 rounds\n"
     ]
    },
    {
     "name": "stderr",
     "output_type": "stream",
     "text": [
      "\u001b[32m[I 2021-01-03 18:07:59,876]\u001b[0m Trial 460 finished with value: 3799803.730661452 and parameters: {'nleaves': 60, 'bagfrac': 0.9233990834767478, 'bagfreq': 3, 'featfrac': 0.8609516913815197, 'lambda_l1': 6.718570472231325e-05, 'lambda_l2': 4.253186914544562, 'minchild': 93}. Best is trial 427 with value: 3540513.3754352015.\u001b[0m\n"
     ]
    },
    {
     "name": "stdout",
     "output_type": "stream",
     "text": [
      "Early stopping, best iteration is:\n",
      "[335]\ttraining's l1: 1.10949e+06\tvalid_1's l1: 3.7998e+06\n",
      "Training until validation scores don't improve for 5 rounds\n"
     ]
    },
    {
     "name": "stderr",
     "output_type": "stream",
     "text": [
      "\u001b[32m[I 2021-01-03 18:08:01,794]\u001b[0m Trial 461 finished with value: 3647676.799712855 and parameters: {'nleaves': 70, 'bagfrac': 0.9307323929605318, 'bagfreq': 2, 'featfrac': 0.840047317669488, 'lambda_l1': 0.00011436420435475764, 'lambda_l2': 5.8620803151170575, 'minchild': 7}. Best is trial 427 with value: 3540513.3754352015.\u001b[0m\n"
     ]
    },
    {
     "name": "stdout",
     "output_type": "stream",
     "text": [
      "Early stopping, best iteration is:\n",
      "[184]\ttraining's l1: 379196\tvalid_1's l1: 3.64768e+06\n",
      "Training until validation scores don't improve for 5 rounds\n"
     ]
    },
    {
     "name": "stderr",
     "output_type": "stream",
     "text": [
      "\u001b[32m[I 2021-01-03 18:08:03,791]\u001b[0m Trial 462 finished with value: 3667422.7731620255 and parameters: {'nleaves': 76, 'bagfrac': 0.9169778759573429, 'bagfreq': 2, 'featfrac': 0.8477016073351085, 'lambda_l1': 3.601422240675413e-05, 'lambda_l2': 3.321859654456009, 'minchild': 4}. Best is trial 427 with value: 3540513.3754352015.\u001b[0m\n"
     ]
    },
    {
     "name": "stdout",
     "output_type": "stream",
     "text": [
      "Early stopping, best iteration is:\n",
      "[183]\ttraining's l1: 291697\tvalid_1's l1: 3.66742e+06\n",
      "Training until validation scores don't improve for 5 rounds\n"
     ]
    },
    {
     "name": "stderr",
     "output_type": "stream",
     "text": [
      "\u001b[32m[I 2021-01-03 18:08:06,601]\u001b[0m Trial 463 finished with value: 3769037.7080949834 and parameters: {'nleaves': 81, 'bagfrac': 0.9223523985398239, 'bagfreq': 2, 'featfrac': 0.8667201283924606, 'lambda_l1': 0.0001850126579001299, 'lambda_l2': 0.3938302650958889, 'minchild': 1}. Best is trial 427 with value: 3540513.3754352015.\u001b[0m\n"
     ]
    },
    {
     "name": "stdout",
     "output_type": "stream",
     "text": [
      "Early stopping, best iteration is:\n",
      "[200]\ttraining's l1: 164576\tvalid_1's l1: 3.76904e+06\n",
      "Training until validation scores don't improve for 5 rounds\n"
     ]
    },
    {
     "name": "stderr",
     "output_type": "stream",
     "text": [
      "\u001b[32m[I 2021-01-03 18:08:08,119]\u001b[0m Trial 464 finished with value: 3633937.4203902744 and parameters: {'nleaves': 60, 'bagfrac': 0.9106612268077925, 'bagfreq': 2, 'featfrac': 0.8538590870798055, 'lambda_l1': 9.018001462311619e-05, 'lambda_l2': 7.601436215620344, 'minchild': 6}. Best is trial 427 with value: 3540513.3754352015.\u001b[0m\n"
     ]
    },
    {
     "name": "stdout",
     "output_type": "stream",
     "text": [
      "Early stopping, best iteration is:\n",
      "[173]\ttraining's l1: 589811\tvalid_1's l1: 3.63394e+06\n",
      "Training until validation scores don't improve for 5 rounds\n"
     ]
    },
    {
     "name": "stderr",
     "output_type": "stream",
     "text": [
      "\u001b[32m[I 2021-01-03 18:08:10,076]\u001b[0m Trial 465 finished with value: 3586410.2501157434 and parameters: {'nleaves': 66, 'bagfrac': 0.9324694049905228, 'bagfreq': 2, 'featfrac': 0.8429018147304687, 'lambda_l1': 0.0077858733476721224, 'lambda_l2': 5.097723242554101, 'minchild': 3}. Best is trial 427 with value: 3540513.3754352015.\u001b[0m\n"
     ]
    },
    {
     "name": "stdout",
     "output_type": "stream",
     "text": [
      "Early stopping, best iteration is:\n",
      "[201]\ttraining's l1: 345805\tvalid_1's l1: 3.58641e+06\n",
      "Training until validation scores don't improve for 5 rounds\n"
     ]
    },
    {
     "name": "stderr",
     "output_type": "stream",
     "text": [
      "\u001b[32m[I 2021-01-03 18:08:12,201]\u001b[0m Trial 466 finished with value: 3769275.312203899 and parameters: {'nleaves': 67, 'bagfrac': 0.9368615976672825, 'bagfreq': 4, 'featfrac': 0.8451081455391034, 'lambda_l1': 0.0150192206639872, 'lambda_l2': 2.764960907620359, 'minchild': 1}. Best is trial 427 with value: 3540513.3754352015.\u001b[0m\n"
     ]
    },
    {
     "name": "stdout",
     "output_type": "stream",
     "text": [
      "Early stopping, best iteration is:\n",
      "[201]\ttraining's l1: 304413\tvalid_1's l1: 3.76928e+06\n",
      "Training until validation scores don't improve for 5 rounds\n"
     ]
    },
    {
     "name": "stderr",
     "output_type": "stream",
     "text": [
      "\u001b[32m[I 2021-01-03 18:08:14,066]\u001b[0m Trial 467 finished with value: 3674830.9392877365 and parameters: {'nleaves': 73, 'bagfrac': 0.9322901163303158, 'bagfreq': 2, 'featfrac': 0.8517024072564292, 'lambda_l1': 0.004088214543990858, 'lambda_l2': 4.3932748420470435, 'minchild': 3}. Best is trial 427 with value: 3540513.3754352015.\u001b[0m\n"
     ]
    },
    {
     "name": "stdout",
     "output_type": "stream",
     "text": [
      "Early stopping, best iteration is:\n",
      "[162]\ttraining's l1: 413229\tvalid_1's l1: 3.67483e+06\n",
      "Training until validation scores don't improve for 5 rounds\n"
     ]
    },
    {
     "name": "stderr",
     "output_type": "stream",
     "text": [
      "\u001b[32m[I 2021-01-03 18:08:16,021]\u001b[0m Trial 468 finished with value: 3777013.3000989803 and parameters: {'nleaves': 61, 'bagfrac': 0.9361039547993759, 'bagfreq': 3, 'featfrac': 0.8407717243960771, 'lambda_l1': 0.0003113291300654239, 'lambda_l2': 1.9724257314601676, 'minchild': 3}. Best is trial 427 with value: 3540513.3754352015.\u001b[0m\n"
     ]
    },
    {
     "name": "stdout",
     "output_type": "stream",
     "text": [
      "Early stopping, best iteration is:\n",
      "[202]\ttraining's l1: 346166\tvalid_1's l1: 3.77701e+06\n",
      "Training until validation scores don't improve for 5 rounds\n"
     ]
    },
    {
     "name": "stderr",
     "output_type": "stream",
     "text": [
      "\u001b[32m[I 2021-01-03 18:08:17,829]\u001b[0m Trial 469 finished with value: 3714276.9340273757 and parameters: {'nleaves': 89, 'bagfrac': 0.9278840715390729, 'bagfreq': 2, 'featfrac': 0.8574428107602549, 'lambda_l1': 0.0002421469730794535, 'lambda_l2': 5.198847425160233, 'minchild': 8}. Best is trial 427 with value: 3540513.3754352015.\u001b[0m\n"
     ]
    },
    {
     "name": "stdout",
     "output_type": "stream",
     "text": [
      "Early stopping, best iteration is:\n",
      "[160]\ttraining's l1: 307462\tvalid_1's l1: 3.71428e+06\n",
      "Training until validation scores don't improve for 5 rounds\n",
      "Early stopping, best iteration is:\n",
      "[206]\ttraining's l1: 32699.5\tvalid_1's l1: 3.79018e+06\n"
     ]
    },
    {
     "name": "stderr",
     "output_type": "stream",
     "text": [
      "\u001b[32m[I 2021-01-03 18:08:22,439]\u001b[0m Trial 470 finished with value: 3790176.5641387813 and parameters: {'nleaves': 205, 'bagfrac': 0.9305934846895054, 'bagfreq': 2, 'featfrac': 0.8470233024085406, 'lambda_l1': 4.7552074241410947e-05, 'lambda_l2': 9.881085949201545, 'minchild': 3}. Best is trial 427 with value: 3540513.3754352015.\u001b[0m\n"
     ]
    },
    {
     "name": "stdout",
     "output_type": "stream",
     "text": [
      "Training until validation scores don't improve for 5 rounds\n"
     ]
    },
    {
     "name": "stderr",
     "output_type": "stream",
     "text": [
      "\u001b[32m[I 2021-01-03 18:08:24,980]\u001b[0m Trial 471 finished with value: 3718645.4173870184 and parameters: {'nleaves': 68, 'bagfrac': 0.9383404282011596, 'bagfreq': 2, 'featfrac': 0.8379904218499628, 'lambda_l1': 0.006385517048730375, 'lambda_l2': 3.586768276391971, 'minchild': 1}. Best is trial 427 with value: 3540513.3754352015.\u001b[0m\n"
     ]
    },
    {
     "name": "stdout",
     "output_type": "stream",
     "text": [
      "Early stopping, best iteration is:\n",
      "[238]\ttraining's l1: 217720\tvalid_1's l1: 3.71865e+06\n",
      "Training until validation scores don't improve for 5 rounds\n"
     ]
    },
    {
     "name": "stderr",
     "output_type": "stream",
     "text": [
      "\u001b[32m[I 2021-01-03 18:08:26,976]\u001b[0m Trial 472 finished with value: 3604970.120168102 and parameters: {'nleaves': 57, 'bagfrac': 0.924510285803408, 'bagfreq': 2, 'featfrac': 0.8532978837768558, 'lambda_l1': 0.0004430799303891581, 'lambda_l2': 5.773404379631534, 'minchild': 5}. Best is trial 427 with value: 3540513.3754352015.\u001b[0m\n"
     ]
    },
    {
     "name": "stdout",
     "output_type": "stream",
     "text": [
      "Early stopping, best iteration is:\n",
      "[253]\ttraining's l1: 316347\tvalid_1's l1: 3.60497e+06\n",
      "Training until validation scores don't improve for 5 rounds\n"
     ]
    },
    {
     "name": "stderr",
     "output_type": "stream",
     "text": [
      "\u001b[32m[I 2021-01-03 18:08:29,499]\u001b[0m Trial 473 finished with value: 3645424.100917124 and parameters: {'nleaves': 116, 'bagfrac': 0.9218326132826667, 'bagfreq': 2, 'featfrac': 0.8625310191951052, 'lambda_l1': 0.007010156245459517, 'lambda_l2': 7.380887227759979, 'minchild': 7}. Best is trial 427 with value: 3540513.3754352015.\u001b[0m\n"
     ]
    },
    {
     "name": "stdout",
     "output_type": "stream",
     "text": [
      "Early stopping, best iteration is:\n",
      "[188]\ttraining's l1: 137329\tvalid_1's l1: 3.64542e+06\n",
      "Training until validation scores don't improve for 5 rounds\n"
     ]
    },
    {
     "name": "stderr",
     "output_type": "stream",
     "text": [
      "\u001b[32m[I 2021-01-03 18:08:31,775]\u001b[0m Trial 474 finished with value: 3673685.9342705263 and parameters: {'nleaves': 62, 'bagfrac': 0.9393718859749296, 'bagfreq': 3, 'featfrac': 0.8450610541692521, 'lambda_l1': 0.0001624794134261224, 'lambda_l2': 9.886725552662135, 'minchild': 1}. Best is trial 427 with value: 3540513.3754352015.\u001b[0m\n"
     ]
    },
    {
     "name": "stdout",
     "output_type": "stream",
     "text": [
      "Early stopping, best iteration is:\n",
      "[233]\ttraining's l1: 350113\tvalid_1's l1: 3.67369e+06\n",
      "Training until validation scores don't improve for 5 rounds\n"
     ]
    },
    {
     "name": "stderr",
     "output_type": "stream",
     "text": [
      "\u001b[32m[I 2021-01-03 18:08:34,553]\u001b[0m Trial 475 finished with value: 3688038.648204899 and parameters: {'nleaves': 71, 'bagfrac': 0.932503665138745, 'bagfreq': 2, 'featfrac': 0.8715079377567329, 'lambda_l1': 0.00487717157896768, 'lambda_l2': 4.869851252791345, 'minchild': 3}. Best is trial 427 with value: 3540513.3754352015.\u001b[0m\n"
     ]
    },
    {
     "name": "stdout",
     "output_type": "stream",
     "text": [
      "Early stopping, best iteration is:\n",
      "[274]\ttraining's l1: 147146\tvalid_1's l1: 3.68804e+06\n",
      "Training until validation scores don't improve for 5 rounds\n"
     ]
    },
    {
     "name": "stderr",
     "output_type": "stream",
     "text": [
      "\u001b[32m[I 2021-01-03 18:08:36,952]\u001b[0m Trial 476 finished with value: 3705657.6844152156 and parameters: {'nleaves': 75, 'bagfrac': 0.9056288976882423, 'bagfreq': 2, 'featfrac': 0.8387388620795737, 'lambda_l1': 0.015319133411583046, 'lambda_l2': 7.610218818597736, 'minchild': 8}. Best is trial 427 with value: 3540513.3754352015.\u001b[0m\n"
     ]
    },
    {
     "name": "stdout",
     "output_type": "stream",
     "text": [
      "Early stopping, best iteration is:\n",
      "[254]\ttraining's l1: 182466\tvalid_1's l1: 3.70566e+06\n",
      "Training until validation scores don't improve for 5 rounds\n"
     ]
    },
    {
     "name": "stderr",
     "output_type": "stream",
     "text": [
      "\u001b[32m[I 2021-01-03 18:08:38,648]\u001b[0m Trial 477 finished with value: 3634694.7209547963 and parameters: {'nleaves': 66, 'bagfrac': 0.9282287830882957, 'bagfreq': 2, 'featfrac': 0.8484444461473922, 'lambda_l1': 5.709897517589062e-05, 'lambda_l2': 9.873930194917842, 'minchild': 5}. Best is trial 427 with value: 3540513.3754352015.\u001b[0m\n"
     ]
    },
    {
     "name": "stdout",
     "output_type": "stream",
     "text": [
      "Early stopping, best iteration is:\n",
      "[178]\ttraining's l1: 497564\tvalid_1's l1: 3.63469e+06\n",
      "Training until validation scores don't improve for 5 rounds\n"
     ]
    },
    {
     "name": "stderr",
     "output_type": "stream",
     "text": [
      "\u001b[32m[I 2021-01-03 18:08:39,924]\u001b[0m Trial 478 finished with value: 3804705.7365447893 and parameters: {'nleaves': 57, 'bagfrac': 0.9424250535304299, 'bagfreq': 2, 'featfrac': 0.8585605816707087, 'lambda_l1': 0.007365724426349884, 'lambda_l2': 5.562531136776078, 'minchild': 1}. Best is trial 427 with value: 3540513.3754352015.\u001b[0m\n"
     ]
    },
    {
     "name": "stdout",
     "output_type": "stream",
     "text": [
      "Early stopping, best iteration is:\n",
      "[120]\ttraining's l1: 949070\tvalid_1's l1: 3.80471e+06\n",
      "Training until validation scores don't improve for 5 rounds\n"
     ]
    },
    {
     "name": "stderr",
     "output_type": "stream",
     "text": [
      "\u001b[32m[I 2021-01-03 18:08:41,458]\u001b[0m Trial 479 finished with value: 3674198.61473968 and parameters: {'nleaves': 63, 'bagfrac': 0.9192777949968215, 'bagfreq': 3, 'featfrac': 0.8419205046969716, 'lambda_l1': 7.552157085043265e-05, 'lambda_l2': 3.0021897981253503, 'minchild': 8}. Best is trial 427 with value: 3540513.3754352015.\u001b[0m\n"
     ]
    },
    {
     "name": "stdout",
     "output_type": "stream",
     "text": [
      "Early stopping, best iteration is:\n",
      "[185]\ttraining's l1: 415710\tvalid_1's l1: 3.6742e+06\n",
      "Training until validation scores don't improve for 5 rounds\n"
     ]
    },
    {
     "name": "stderr",
     "output_type": "stream",
     "text": [
      "\u001b[32m[I 2021-01-03 18:08:43,697]\u001b[0m Trial 480 finished with value: 3617920.423141802 and parameters: {'nleaves': 70, 'bagfrac': 0.9122805542801409, 'bagfreq': 2, 'featfrac': 0.8523144119677646, 'lambda_l1': 3.215966412627941e-05, 'lambda_l2': 9.81685164313987, 'minchild': 3}. Best is trial 427 with value: 3540513.3754352015.\u001b[0m\n"
     ]
    },
    {
     "name": "stdout",
     "output_type": "stream",
     "text": [
      "Early stopping, best iteration is:\n",
      "[211]\ttraining's l1: 324167\tvalid_1's l1: 3.61792e+06\n",
      "Training until validation scores don't improve for 5 rounds\n"
     ]
    },
    {
     "name": "stderr",
     "output_type": "stream",
     "text": [
      "\u001b[32m[I 2021-01-03 18:08:45,506]\u001b[0m Trial 481 finished with value: 3800695.182533692 and parameters: {'nleaves': 79, 'bagfrac': 0.9247634815977872, 'bagfreq': 1, 'featfrac': 0.8354109201599358, 'lambda_l1': 0.011730906873370707, 'lambda_l2': 3.9704698970015104, 'minchild': 6}. Best is trial 427 with value: 3540513.3754352015.\u001b[0m\n"
     ]
    },
    {
     "name": "stdout",
     "output_type": "stream",
     "text": [
      "Early stopping, best iteration is:\n",
      "[158]\ttraining's l1: 361333\tvalid_1's l1: 3.8007e+06\n",
      "Training until validation scores don't improve for 5 rounds\n"
     ]
    },
    {
     "name": "stderr",
     "output_type": "stream",
     "text": [
      "\u001b[32m[I 2021-01-03 18:08:47,258]\u001b[0m Trial 482 finished with value: 3620763.854131973 and parameters: {'nleaves': 59, 'bagfrac': 0.9329522557605961, 'bagfreq': 2, 'featfrac': 0.8649097632041526, 'lambda_l1': 0.00024111848766189398, 'lambda_l2': 7.060830707187833, 'minchild': 9}. Best is trial 427 with value: 3540513.3754352015.\u001b[0m\n"
     ]
    },
    {
     "name": "stdout",
     "output_type": "stream",
     "text": [
      "Early stopping, best iteration is:\n",
      "[206]\ttraining's l1: 443659\tvalid_1's l1: 3.62076e+06\n",
      "Training until validation scores don't improve for 5 rounds\n"
     ]
    },
    {
     "name": "stderr",
     "output_type": "stream",
     "text": [
      "\u001b[32m[I 2021-01-03 18:08:49,871]\u001b[0m Trial 483 finished with value: 3769099.2181188064 and parameters: {'nleaves': 66, 'bagfrac': 0.9163063394214875, 'bagfreq': 2, 'featfrac': 0.8554770066776713, 'lambda_l1': 0.0001462918751319012, 'lambda_l2': 0.001077862487736094, 'minchild': 1}. Best is trial 427 with value: 3540513.3754352015.\u001b[0m\n"
     ]
    },
    {
     "name": "stdout",
     "output_type": "stream",
     "text": [
      "Early stopping, best iteration is:\n",
      "[267]\ttraining's l1: 136656\tvalid_1's l1: 3.7691e+06\n",
      "Training until validation scores don't improve for 5 rounds\n"
     ]
    },
    {
     "name": "stderr",
     "output_type": "stream",
     "text": [
      "\u001b[32m[I 2021-01-03 18:08:51,634]\u001b[0m Trial 484 finished with value: 3674866.719016506 and parameters: {'nleaves': 74, 'bagfrac': 0.9267765511949779, 'bagfreq': 2, 'featfrac': 0.8474105422299297, 'lambda_l1': 0.00035931508872859026, 'lambda_l2': 5.953234479881577, 'minchild': 5}. Best is trial 427 with value: 3540513.3754352015.\u001b[0m\n"
     ]
    },
    {
     "name": "stdout",
     "output_type": "stream",
     "text": [
      "Early stopping, best iteration is:\n",
      "[158]\ttraining's l1: 455816\tvalid_1's l1: 3.67487e+06\n",
      "Training until validation scores don't improve for 5 rounds\n"
     ]
    },
    {
     "name": "stderr",
     "output_type": "stream",
     "text": [
      "\u001b[32m[I 2021-01-03 18:08:53,256]\u001b[0m Trial 485 finished with value: 3707078.0123560284 and parameters: {'nleaves': 62, 'bagfrac': 0.9042258461346595, 'bagfreq': 2, 'featfrac': 0.8400158759167481, 'lambda_l1': 9.301803566661676e-05, 'lambda_l2': 9.91119031415466, 'minchild': 11}. Best is trial 427 with value: 3540513.3754352015.\u001b[0m\n"
     ]
    },
    {
     "name": "stdout",
     "output_type": "stream",
     "text": [
      "Early stopping, best iteration is:\n",
      "[181]\ttraining's l1: 568808\tvalid_1's l1: 3.70708e+06\n",
      "Training until validation scores don't improve for 5 rounds\n"
     ]
    },
    {
     "name": "stderr",
     "output_type": "stream",
     "text": [
      "\u001b[32m[I 2021-01-03 18:08:54,597]\u001b[0m Trial 486 finished with value: 3720331.3873779336 and parameters: {'nleaves': 56, 'bagfrac': 0.9133618583020471, 'bagfreq': 3, 'featfrac': 0.860756321568626, 'lambda_l1': 0.010931468824029797, 'lambda_l2': 7.560733387897334, 'minchild': 3}. Best is trial 427 with value: 3540513.3754352015.\u001b[0m\n"
     ]
    },
    {
     "name": "stdout",
     "output_type": "stream",
     "text": [
      "Early stopping, best iteration is:\n",
      "[142]\ttraining's l1: 822561\tvalid_1's l1: 3.72033e+06\n",
      "Training until validation scores don't improve for 5 rounds\n"
     ]
    },
    {
     "name": "stderr",
     "output_type": "stream",
     "text": [
      "\u001b[32m[I 2021-01-03 18:08:57,405]\u001b[0m Trial 487 finished with value: 3601845.392524499 and parameters: {'nleaves': 69, 'bagfrac': 0.7860015463208102, 'bagfreq': 2, 'featfrac': 0.8361288006997523, 'lambda_l1': 4.5940707794058664e-05, 'lambda_l2': 4.272850620783309, 'minchild': 7}. Best is trial 427 with value: 3540513.3754352015.\u001b[0m\n"
     ]
    },
    {
     "name": "stdout",
     "output_type": "stream",
     "text": [
      "Early stopping, best iteration is:\n",
      "[253]\ttraining's l1: 205259\tvalid_1's l1: 3.60185e+06\n",
      "Training until validation scores don't improve for 5 rounds\n"
     ]
    },
    {
     "name": "stderr",
     "output_type": "stream",
     "text": [
      "\u001b[32m[I 2021-01-03 18:08:59,006]\u001b[0m Trial 488 finished with value: 3760260.0721075786 and parameters: {'nleaves': 66, 'bagfrac': 0.9214318276807112, 'bagfreq': 2, 'featfrac': 0.8456127604072129, 'lambda_l1': 0.0001645296024661637, 'lambda_l2': 0.03985813025639064, 'minchild': 1}. Best is trial 427 with value: 3540513.3754352015.\u001b[0m\n"
     ]
    },
    {
     "name": "stdout",
     "output_type": "stream",
     "text": [
      "Early stopping, best iteration is:\n",
      "[152]\ttraining's l1: 452420\tvalid_1's l1: 3.76026e+06\n",
      "Training until validation scores don't improve for 5 rounds\n"
     ]
    },
    {
     "name": "stderr",
     "output_type": "stream",
     "text": [
      "\u001b[32m[I 2021-01-03 18:09:00,725]\u001b[0m Trial 489 finished with value: 3663018.246615277 and parameters: {'nleaves': 82, 'bagfrac': 0.9406513256155151, 'bagfreq': 1, 'featfrac': 0.8530867508484158, 'lambda_l1': 0.028583488283806354, 'lambda_l2': 9.806232304291116, 'minchild': 10}. Best is trial 427 with value: 3540513.3754352015.\u001b[0m\n"
     ]
    },
    {
     "name": "stdout",
     "output_type": "stream",
     "text": [
      "Early stopping, best iteration is:\n",
      "[167]\ttraining's l1: 393882\tvalid_1's l1: 3.66302e+06\n",
      "Training until validation scores don't improve for 5 rounds\n"
     ]
    },
    {
     "name": "stderr",
     "output_type": "stream",
     "text": [
      "\u001b[32m[I 2021-01-03 18:09:02,652]\u001b[0m Trial 490 finished with value: 3656330.520258024 and parameters: {'nleaves': 59, 'bagfrac': 0.9335583278938253, 'bagfreq': 2, 'featfrac': 0.8697737889729095, 'lambda_l1': 6.480367219770644e-05, 'lambda_l2': 5.840965161285669, 'minchild': 5}. Best is trial 427 with value: 3540513.3754352015.\u001b[0m\n"
     ]
    },
    {
     "name": "stdout",
     "output_type": "stream",
     "text": [
      "Early stopping, best iteration is:\n",
      "[233]\ttraining's l1: 345343\tvalid_1's l1: 3.65633e+06\n",
      "Training until validation scores don't improve for 5 rounds\n"
     ]
    },
    {
     "name": "stderr",
     "output_type": "stream",
     "text": [
      "\u001b[32m[I 2021-01-03 18:09:04,607]\u001b[0m Trial 491 finished with value: 3663175.641793672 and parameters: {'nleaves': 71, 'bagfrac': 0.909027077413346, 'bagfreq': 2, 'featfrac': 0.8332536288288946, 'lambda_l1': 8.556534053089699, 'lambda_l2': 7.725120082983534, 'minchild': 13}. Best is trial 427 with value: 3540513.3754352015.\u001b[0m\n"
     ]
    },
    {
     "name": "stdout",
     "output_type": "stream",
     "text": [
      "Early stopping, best iteration is:\n",
      "[217]\ttraining's l1: 306907\tvalid_1's l1: 3.66318e+06\n",
      "Training until validation scores don't improve for 5 rounds\n"
     ]
    },
    {
     "name": "stderr",
     "output_type": "stream",
     "text": [
      "\u001b[32m[I 2021-01-03 18:09:06,781]\u001b[0m Trial 492 finished with value: 3696448.8467335193 and parameters: {'nleaves': 63, 'bagfrac': 0.9183390505110227, 'bagfreq': 2, 'featfrac': 0.8488914489490823, 'lambda_l1': 0.0001195183913867459, 'lambda_l2': 5.149912424151042, 'minchild': 3}. Best is trial 427 with value: 3540513.3754352015.\u001b[0m\n"
     ]
    },
    {
     "name": "stdout",
     "output_type": "stream",
     "text": [
      "Early stopping, best iteration is:\n",
      "[196]\ttraining's l1: 407521\tvalid_1's l1: 3.69645e+06\n",
      "Training until validation scores don't improve for 5 rounds\n"
     ]
    },
    {
     "name": "stderr",
     "output_type": "stream",
     "text": [
      "\u001b[32m[I 2021-01-03 18:09:08,783]\u001b[0m Trial 493 finished with value: 3714394.822100602 and parameters: {'nleaves': 77, 'bagfrac': 0.9273133410307183, 'bagfreq': 3, 'featfrac': 0.8421984561761438, 'lambda_l1': 0.00022379150082760455, 'lambda_l2': 9.79168016411379, 'minchild': 8}. Best is trial 427 with value: 3540513.3754352015.\u001b[0m\n"
     ]
    },
    {
     "name": "stdout",
     "output_type": "stream",
     "text": [
      "Early stopping, best iteration is:\n",
      "[202]\ttraining's l1: 303431\tvalid_1's l1: 3.71439e+06\n",
      "Training until validation scores don't improve for 5 rounds\n"
     ]
    },
    {
     "name": "stderr",
     "output_type": "stream",
     "text": [
      "\u001b[32m[I 2021-01-03 18:09:10,662]\u001b[0m Trial 494 finished with value: 3601321.887021431 and parameters: {'nleaves': 55, 'bagfrac': 0.9226609023881074, 'bagfreq': 2, 'featfrac': 0.8569348029083416, 'lambda_l1': 7.520301290555594e-05, 'lambda_l2': 7.039085403050761, 'minchild': 11}. Best is trial 427 with value: 3540513.3754352015.\u001b[0m\n"
     ]
    },
    {
     "name": "stdout",
     "output_type": "stream",
     "text": [
      "Early stopping, best iteration is:\n",
      "[242]\ttraining's l1: 392076\tvalid_1's l1: 3.60132e+06\n",
      "Training until validation scores don't improve for 5 rounds\n"
     ]
    },
    {
     "name": "stderr",
     "output_type": "stream",
     "text": [
      "\u001b[32m[I 2021-01-03 18:09:13,217]\u001b[0m Trial 495 finished with value: 3729419.097214913 and parameters: {'nleaves': 67, 'bagfrac': 0.9017986332617968, 'bagfreq': 2, 'featfrac': 0.8358712821414866, 'lambda_l1': 0.0018005548613126696, 'lambda_l2': 3.4215812895922624, 'minchild': 1}. Best is trial 427 with value: 3540513.3754352015.\u001b[0m\n"
     ]
    },
    {
     "name": "stdout",
     "output_type": "stream",
     "text": [
      "Early stopping, best iteration is:\n",
      "[240]\ttraining's l1: 218878\tvalid_1's l1: 3.72942e+06\n",
      "Training until validation scores don't improve for 5 rounds\n"
     ]
    },
    {
     "name": "stderr",
     "output_type": "stream",
     "text": [
      "\u001b[32m[I 2021-01-03 18:09:15,222]\u001b[0m Trial 496 finished with value: 3511896.0883319825 and parameters: {'nleaves': 61, 'bagfrac': 0.854353458428796, 'bagfreq': 2, 'featfrac': 0.8639448335823978, 'lambda_l1': 0.00030662120844879515, 'lambda_l2': 9.983986873748444, 'minchild': 5}. Best is trial 496 with value: 3511896.0883319825.\u001b[0m\n"
     ]
    },
    {
     "name": "stdout",
     "output_type": "stream",
     "text": [
      "Early stopping, best iteration is:\n",
      "[234]\ttraining's l1: 366844\tvalid_1's l1: 3.5119e+06\n",
      "Training until validation scores don't improve for 5 rounds\n"
     ]
    },
    {
     "name": "stderr",
     "output_type": "stream",
     "text": [
      "\u001b[32m[I 2021-01-03 18:09:16,918]\u001b[0m Trial 497 finished with value: 3700442.7915590783 and parameters: {'nleaves': 62, 'bagfrac': 0.9430992767756999, 'bagfreq': 1, 'featfrac': 0.8724645949777695, 'lambda_l1': 0.0002904247550212088, 'lambda_l2': 9.991608816113718, 'minchild': 6}. Best is trial 496 with value: 3511896.0883319825.\u001b[0m\n"
     ]
    },
    {
     "name": "stdout",
     "output_type": "stream",
     "text": [
      "Early stopping, best iteration is:\n",
      "[175]\ttraining's l1: 562349\tvalid_1's l1: 3.70044e+06\n",
      "Training until validation scores don't improve for 5 rounds\n"
     ]
    },
    {
     "name": "stderr",
     "output_type": "stream",
     "text": [
      "\u001b[32m[I 2021-01-03 18:09:18,576]\u001b[0m Trial 498 finished with value: 3724442.55214869 and parameters: {'nleaves': 72, 'bagfrac': 0.9366455460837972, 'bagfreq': 2, 'featfrac': 0.8640638475055207, 'lambda_l1': 0.0005207739822734972, 'lambda_l2': 4.558477664900258, 'minchild': 9}. Best is trial 496 with value: 3511896.0883319825.\u001b[0m\n"
     ]
    },
    {
     "name": "stdout",
     "output_type": "stream",
     "text": [
      "Early stopping, best iteration is:\n",
      "[182]\ttraining's l1: 360793\tvalid_1's l1: 3.72444e+06\n",
      "Training until validation scores don't improve for 5 rounds\n"
     ]
    },
    {
     "name": "stderr",
     "output_type": "stream",
     "text": [
      "\u001b[32m[I 2021-01-03 18:09:19,611]\u001b[0m Trial 499 finished with value: 3892014.976472821 and parameters: {'nleaves': 65, 'bagfrac': 0.8537991722721282, 'bagfreq': 3, 'featfrac': 0.8654725613861078, 'lambda_l1': 0.0002751659844250404, 'lambda_l2': 1.6319130728469773, 'minchild': 7}. Best is trial 496 with value: 3511896.0883319825.\u001b[0m\n"
     ]
    },
    {
     "name": "stdout",
     "output_type": "stream",
     "text": [
      "Early stopping, best iteration is:\n",
      "[101]\ttraining's l1: 918041\tvalid_1's l1: 3.89201e+06\n",
      "Training until validation scores don't improve for 5 rounds\n"
     ]
    },
    {
     "name": "stderr",
     "output_type": "stream",
     "text": [
      "\u001b[32m[I 2021-01-03 18:09:21,241]\u001b[0m Trial 500 finished with value: 3647012.0088948007 and parameters: {'nleaves': 59, 'bagfrac': 0.9310582024877345, 'bagfreq': 2, 'featfrac': 0.8557025100486002, 'lambda_l1': 0.0003378665896229792, 'lambda_l2': 9.866160324096315, 'minchild': 5}. Best is trial 496 with value: 3511896.0883319825.\u001b[0m\n"
     ]
    },
    {
     "name": "stdout",
     "output_type": "stream",
     "text": [
      "Early stopping, best iteration is:\n",
      "[190]\ttraining's l1: 539323\tvalid_1's l1: 3.64701e+06\n",
      "Training until validation scores don't improve for 5 rounds\n"
     ]
    },
    {
     "name": "stderr",
     "output_type": "stream",
     "text": [
      "\u001b[32m[I 2021-01-03 18:09:22,699]\u001b[0m Trial 501 finished with value: 3701709.4538111105 and parameters: {'nleaves': 69, 'bagfrac': 0.8387487887742038, 'bagfreq': 2, 'featfrac': 0.8590718562083878, 'lambda_l1': 0.000475969486608349, 'lambda_l2': 9.993426608619792, 'minchild': 12}. Best is trial 496 with value: 3511896.0883319825.\u001b[0m\n"
     ]
    },
    {
     "name": "stdout",
     "output_type": "stream",
     "text": [
      "Early stopping, best iteration is:\n",
      "[169]\ttraining's l1: 555435\tvalid_1's l1: 3.70171e+06\n",
      "Training until validation scores don't improve for 5 rounds\n"
     ]
    },
    {
     "name": "stderr",
     "output_type": "stream",
     "text": [
      "\u001b[32m[I 2021-01-03 18:09:24,478]\u001b[0m Trial 502 finished with value: 3703562.7397067486 and parameters: {'nleaves': 63, 'bagfrac': 0.9271387503351822, 'bagfreq': 8, 'featfrac': 0.8688230836885164, 'lambda_l1': 0.0001946425353975284, 'lambda_l2': 6.09992998466274, 'minchild': 4}. Best is trial 496 with value: 3511896.0883319825.\u001b[0m\n"
     ]
    },
    {
     "name": "stdout",
     "output_type": "stream",
     "text": [
      "Early stopping, best iteration is:\n",
      "[187]\ttraining's l1: 464643\tvalid_1's l1: 3.70356e+06\n",
      "Training until validation scores don't improve for 5 rounds\n"
     ]
    },
    {
     "name": "stderr",
     "output_type": "stream",
     "text": [
      "\u001b[32m[I 2021-01-03 18:09:26,093]\u001b[0m Trial 503 finished with value: 3747478.69856355 and parameters: {'nleaves': 58, 'bagfrac': 0.8064934828791261, 'bagfreq': 2, 'featfrac': 0.8498907889054281, 'lambda_l1': 0.00013517371207688003, 'lambda_l2': 2.5151101560265454, 'minchild': 9}. Best is trial 496 with value: 3511896.0883319825.\u001b[0m\n"
     ]
    },
    {
     "name": "stdout",
     "output_type": "stream",
     "text": [
      "Early stopping, best iteration is:\n",
      "[224]\ttraining's l1: 356550\tvalid_1's l1: 3.74748e+06\n",
      "Training until validation scores don't improve for 5 rounds\n"
     ]
    },
    {
     "name": "stderr",
     "output_type": "stream",
     "text": [
      "\u001b[32m[I 2021-01-03 18:09:27,555]\u001b[0m Trial 504 finished with value: 3729924.773096612 and parameters: {'nleaves': 73, 'bagfrac': 0.9207299319910887, 'bagfreq': 2, 'featfrac': 0.8841380993026539, 'lambda_l1': 0.0003837970302069483, 'lambda_l2': 6.504126939274622, 'minchild': 7}. Best is trial 496 with value: 3511896.0883319825.\u001b[0m\n"
     ]
    },
    {
     "name": "stdout",
     "output_type": "stream",
     "text": [
      "Early stopping, best iteration is:\n",
      "[141]\ttraining's l1: 549153\tvalid_1's l1: 3.72992e+06\n",
      "Training until validation scores don't improve for 5 rounds\n"
     ]
    },
    {
     "name": "stderr",
     "output_type": "stream",
     "text": [
      "\u001b[32m[I 2021-01-03 18:09:29,505]\u001b[0m Trial 505 finished with value: 3682430.0468496974 and parameters: {'nleaves': 67, 'bagfrac': 0.8585091818668774, 'bagfreq': 3, 'featfrac': 0.8763180476136864, 'lambda_l1': 0.000191121631628639, 'lambda_l2': 7.461955844353081, 'minchild': 4}. Best is trial 496 with value: 3511896.0883319825.\u001b[0m\n"
     ]
    },
    {
     "name": "stdout",
     "output_type": "stream",
     "text": [
      "Early stopping, best iteration is:\n",
      "[204]\ttraining's l1: 370678\tvalid_1's l1: 3.68243e+06\n",
      "Training until validation scores don't improve for 5 rounds\n"
     ]
    },
    {
     "name": "stderr",
     "output_type": "stream",
     "text": [
      "\u001b[32m[I 2021-01-03 18:09:31,316]\u001b[0m Trial 506 finished with value: 3722417.6458017062 and parameters: {'nleaves': 76, 'bagfrac': 0.8463694735993222, 'bagfreq': 2, 'featfrac': 0.8625756901070478, 'lambda_l1': 9.505091332407153e-05, 'lambda_l2': 4.330181566894634, 'minchild': 10}. Best is trial 496 with value: 3511896.0883319825.\u001b[0m\n"
     ]
    },
    {
     "name": "stdout",
     "output_type": "stream",
     "text": [
      "Early stopping, best iteration is:\n",
      "[198]\ttraining's l1: 285768\tvalid_1's l1: 3.72242e+06\n",
      "Training until validation scores don't improve for 5 rounds\n"
     ]
    },
    {
     "name": "stderr",
     "output_type": "stream",
     "text": [
      "\u001b[32m[I 2021-01-03 18:09:32,508]\u001b[0m Trial 507 finished with value: 3724818.1963450625 and parameters: {'nleaves': 61, 'bagfrac': 0.8662107675085712, 'bagfreq': 2, 'featfrac': 0.8442316769740935, 'lambda_l1': 0.0002470887901243296, 'lambda_l2': 9.972916854866098, 'minchild': 12}. Best is trial 496 with value: 3511896.0883319825.\u001b[0m\n"
     ]
    },
    {
     "name": "stdout",
     "output_type": "stream",
     "text": [
      "Early stopping, best iteration is:\n",
      "[143]\ttraining's l1: 800914\tvalid_1's l1: 3.72482e+06\n",
      "Training until validation scores don't improve for 5 rounds\n"
     ]
    },
    {
     "name": "stderr",
     "output_type": "stream",
     "text": [
      "\u001b[32m[I 2021-01-03 18:09:34,263]\u001b[0m Trial 508 finished with value: 3689816.0919752805 and parameters: {'nleaves': 55, 'bagfrac': 0.717750722593706, 'bagfreq': 2, 'featfrac': 0.851797881591651, 'lambda_l1': 5.577761047190743e-05, 'lambda_l2': 7.4684626897300355, 'minchild': 3}. Best is trial 496 with value: 3511896.0883319825.\u001b[0m\n"
     ]
    },
    {
     "name": "stdout",
     "output_type": "stream",
     "text": [
      "Early stopping, best iteration is:\n",
      "[198]\ttraining's l1: 578589\tvalid_1's l1: 3.68982e+06\n",
      "Training until validation scores don't improve for 5 rounds\n"
     ]
    },
    {
     "name": "stderr",
     "output_type": "stream",
     "text": [
      "\u001b[32m[I 2021-01-03 18:09:36,189]\u001b[0m Trial 509 finished with value: 3639322.854486683 and parameters: {'nleaves': 68, 'bagfrac': 0.9367747757453916, 'bagfreq': 1, 'featfrac': 0.8394914712810613, 'lambda_l1': 0.00012809414179616182, 'lambda_l2': 5.556574046766033, 'minchild': 6}. Best is trial 496 with value: 3511896.0883319825.\u001b[0m\n"
     ]
    },
    {
     "name": "stdout",
     "output_type": "stream",
     "text": [
      "Early stopping, best iteration is:\n",
      "[213]\ttraining's l1: 303682\tvalid_1's l1: 3.63932e+06\n",
      "Training until validation scores don't improve for 5 rounds\n"
     ]
    },
    {
     "name": "stderr",
     "output_type": "stream",
     "text": [
      "\u001b[32m[I 2021-01-03 18:09:37,493]\u001b[0m Trial 510 finished with value: 3781340.8226732495 and parameters: {'nleaves': 64, 'bagfrac': 0.8387890737963853, 'bagfreq': 4, 'featfrac': 0.8598547396432488, 'lambda_l1': 0.0001649817020920935, 'lambda_l2': 3.480636574697407, 'minchild': 14}. Best is trial 496 with value: 3511896.0883319825.\u001b[0m\n"
     ]
    },
    {
     "name": "stdout",
     "output_type": "stream",
     "text": [
      "Early stopping, best iteration is:\n",
      "[160]\ttraining's l1: 577968\tvalid_1's l1: 3.78134e+06\n",
      "Training until validation scores don't improve for 5 rounds\n"
     ]
    },
    {
     "name": "stderr",
     "output_type": "stream",
     "text": [
      "\u001b[32m[I 2021-01-03 18:09:39,174]\u001b[0m Trial 511 finished with value: 3636863.4797632303 and parameters: {'nleaves': 70, 'bagfrac': 0.9286578781670689, 'bagfreq': 2, 'featfrac': 0.8312901484006132, 'lambda_l1': 9.467355053381766e-05, 'lambda_l2': 9.99951361289668, 'minchild': 7}. Best is trial 496 with value: 3511896.0883319825.\u001b[0m\n"
     ]
    },
    {
     "name": "stdout",
     "output_type": "stream",
     "text": [
      "Early stopping, best iteration is:\n",
      "[177]\ttraining's l1: 454555\tvalid_1's l1: 3.63686e+06\n",
      "Training until validation scores don't improve for 5 rounds\n"
     ]
    },
    {
     "name": "stderr",
     "output_type": "stream",
     "text": [
      "\u001b[32m[I 2021-01-03 18:09:41,442]\u001b[0m Trial 512 finished with value: 3713741.0397337005 and parameters: {'nleaves': 59, 'bagfrac': 0.9460497507963346, 'bagfreq': 2, 'featfrac': 0.8462590205630627, 'lambda_l1': 0.0005664969302173066, 'lambda_l2': 7.494326365751458, 'minchild': 3}. Best is trial 496 with value: 3511896.0883319825.\u001b[0m\n"
     ]
    },
    {
     "name": "stdout",
     "output_type": "stream",
     "text": [
      "Early stopping, best iteration is:\n",
      "[272]\ttraining's l1: 266461\tvalid_1's l1: 3.71374e+06\n",
      "Training until validation scores don't improve for 5 rounds\n"
     ]
    },
    {
     "name": "stderr",
     "output_type": "stream",
     "text": [
      "\u001b[32m[I 2021-01-03 18:09:43,435]\u001b[0m Trial 513 finished with value: 3700545.535581184 and parameters: {'nleaves': 80, 'bagfrac': 0.8757497556499758, 'bagfreq': 3, 'featfrac': 0.8537086441941406, 'lambda_l1': 0.0003170933254615295, 'lambda_l2': 4.984769864841373, 'minchild': 10}. Best is trial 496 with value: 3511896.0883319825.\u001b[0m\n"
     ]
    },
    {
     "name": "stdout",
     "output_type": "stream",
     "text": [
      "Early stopping, best iteration is:\n",
      "[198]\ttraining's l1: 258538\tvalid_1's l1: 3.70055e+06\n",
      "Training until validation scores don't improve for 5 rounds\n"
     ]
    },
    {
     "name": "stderr",
     "output_type": "stream",
     "text": [
      "\u001b[32m[I 2021-01-03 18:09:45,580]\u001b[0m Trial 514 finished with value: 3667365.7387130475 and parameters: {'nleaves': 55, 'bagfrac': 0.9149589096711543, 'bagfreq': 2, 'featfrac': 0.836550213905651, 'lambda_l1': 4.413644191367147e-05, 'lambda_l2': 7.493787725447893, 'minchild': 5}. Best is trial 496 with value: 3511896.0883319825.\u001b[0m\n"
     ]
    },
    {
     "name": "stdout",
     "output_type": "stream",
     "text": [
      "Early stopping, best iteration is:\n",
      "[282]\ttraining's l1: 289042\tvalid_1's l1: 3.66737e+06\n",
      "Training until validation scores don't improve for 5 rounds\n"
     ]
    },
    {
     "name": "stderr",
     "output_type": "stream",
     "text": [
      "\u001b[32m[I 2021-01-03 18:09:46,550]\u001b[0m Trial 515 finished with value: 3820107.9933125363 and parameters: {'nleaves': 64, 'bagfrac': 0.8124336943052713, 'bagfreq': 2, 'featfrac': 0.8785064728799227, 'lambda_l1': 2.1112039297218844e-05, 'lambda_l2': 5.264209594593675, 'minchild': 16}. Best is trial 496 with value: 3511896.0883319825.\u001b[0m\n"
     ]
    },
    {
     "name": "stdout",
     "output_type": "stream",
     "text": [
      "Early stopping, best iteration is:\n",
      "[113]\ttraining's l1: 986095\tvalid_1's l1: 3.82011e+06\n",
      "Training until validation scores don't improve for 5 rounds\n"
     ]
    },
    {
     "name": "stderr",
     "output_type": "stream",
     "text": [
      "\u001b[32m[I 2021-01-03 18:09:47,813]\u001b[0m Trial 516 finished with value: 3787717.735319426 and parameters: {'nleaves': 74, 'bagfrac': 0.9089408424632137, 'bagfreq': 2, 'featfrac': 0.8668910202567773, 'lambda_l1': 6.979652965133912e-05, 'lambda_l2': 7.835860837921636, 'minchild': 13}. Best is trial 496 with value: 3511896.0883319825.\u001b[0m\n"
     ]
    },
    {
     "name": "stdout",
     "output_type": "stream",
     "text": [
      "Early stopping, best iteration is:\n",
      "[130]\ttraining's l1: 679589\tvalid_1's l1: 3.78772e+06\n",
      "Training until validation scores don't improve for 5 rounds\n"
     ]
    },
    {
     "name": "stderr",
     "output_type": "stream",
     "text": [
      "\u001b[32m[I 2021-01-03 18:09:49,213]\u001b[0m Trial 517 finished with value: 3680806.5892055677 and parameters: {'nleaves': 60, 'bagfrac': 0.9325917998800529, 'bagfreq': 2, 'featfrac': 0.8423856729309427, 'lambda_l1': 0.00020801406595639325, 'lambda_l2': 3.665782667535403, 'minchild': 8}. Best is trial 496 with value: 3511896.0883319825.\u001b[0m\n"
     ]
    },
    {
     "name": "stdout",
     "output_type": "stream",
     "text": [
      "Early stopping, best iteration is:\n",
      "[173]\ttraining's l1: 510026\tvalid_1's l1: 3.68081e+06\n",
      "Training until validation scores don't improve for 5 rounds\n"
     ]
    },
    {
     "name": "stderr",
     "output_type": "stream",
     "text": [
      "\u001b[32m[I 2021-01-03 18:09:52,406]\u001b[0m Trial 518 finished with value: 3643428.0760830943 and parameters: {'nleaves': 85, 'bagfrac': 0.9243245063711466, 'bagfreq': 3, 'featfrac': 0.8590535691798589, 'lambda_l1': 0.00014277229655154354, 'lambda_l2': 9.916477763846142, 'minchild': 1}. Best is trial 496 with value: 3511896.0883319825.\u001b[0m\n"
     ]
    },
    {
     "name": "stdout",
     "output_type": "stream",
     "text": [
      "Early stopping, best iteration is:\n",
      "[237]\ttraining's l1: 168549\tvalid_1's l1: 3.64343e+06\n",
      "Training until validation scores don't improve for 5 rounds\n"
     ]
    },
    {
     "name": "stderr",
     "output_type": "stream",
     "text": [
      "\u001b[32m[I 2021-01-03 18:09:53,831]\u001b[0m Trial 519 finished with value: 3689362.1393450964 and parameters: {'nleaves': 67, 'bagfrac': 0.9174472774493913, 'bagfreq': 1, 'featfrac': 0.8481050027692433, 'lambda_l1': 0.00010510906768820023, 'lambda_l2': 9.841031177257463, 'minchild': 11}. Best is trial 496 with value: 3511896.0883319825.\u001b[0m\n"
     ]
    },
    {
     "name": "stdout",
     "output_type": "stream",
     "text": [
      "Early stopping, best iteration is:\n",
      "[146]\ttraining's l1: 677280\tvalid_1's l1: 3.68936e+06\n",
      "Training until validation scores don't improve for 5 rounds\n"
     ]
    },
    {
     "name": "stderr",
     "output_type": "stream",
     "text": [
      "\u001b[32m[I 2021-01-03 18:09:55,413]\u001b[0m Trial 520 finished with value: 3761646.1290142005 and parameters: {'nleaves': 53, 'bagfrac': 0.8257240267269934, 'bagfreq': 2, 'featfrac': 0.8336658441562932, 'lambda_l1': 0.0003919379035402769, 'lambda_l2': 9.915467249947469, 'minchild': 5}. Best is trial 496 with value: 3511896.0883319825.\u001b[0m\n"
     ]
    },
    {
     "name": "stdout",
     "output_type": "stream",
     "text": [
      "Early stopping, best iteration is:\n",
      "[183]\ttraining's l1: 690884\tvalid_1's l1: 3.76165e+06\n",
      "Training until validation scores don't improve for 5 rounds\n"
     ]
    },
    {
     "name": "stderr",
     "output_type": "stream",
     "text": [
      "\u001b[32m[I 2021-01-03 18:09:57,786]\u001b[0m Trial 521 finished with value: 3656262.347526873 and parameters: {'nleaves': 72, 'bagfrac': 0.9412750530377902, 'bagfreq': 2, 'featfrac': 0.8739120147832639, 'lambda_l1': 2.914188648576946e-05, 'lambda_l2': 5.897100057406308, 'minchild': 2}. Best is trial 496 with value: 3511896.0883319825.\u001b[0m\n"
     ]
    },
    {
     "name": "stdout",
     "output_type": "stream",
     "text": [
      "Early stopping, best iteration is:\n",
      "[209]\ttraining's l1: 277074\tvalid_1's l1: 3.65626e+06\n",
      "Training until validation scores don't improve for 5 rounds\n"
     ]
    },
    {
     "name": "stderr",
     "output_type": "stream",
     "text": [
      "\u001b[32m[I 2021-01-03 18:09:59,521]\u001b[0m Trial 522 finished with value: 3633089.2204774143 and parameters: {'nleaves': 64, 'bagfrac': 0.9040630433357832, 'bagfreq': 2, 'featfrac': 0.8531373409864821, 'lambda_l1': 7.758499715714556e-05, 'lambda_l2': 7.375865180414621, 'minchild': 8}. Best is trial 496 with value: 3511896.0883319825.\u001b[0m\n"
     ]
    },
    {
     "name": "stdout",
     "output_type": "stream",
     "text": [
      "Early stopping, best iteration is:\n",
      "[205]\ttraining's l1: 395516\tvalid_1's l1: 3.63309e+06\n",
      "Training until validation scores don't improve for 5 rounds\n"
     ]
    },
    {
     "name": "stderr",
     "output_type": "stream",
     "text": [
      "\u001b[32m[I 2021-01-03 18:10:01,400]\u001b[0m Trial 523 finished with value: 3685613.7464839 and parameters: {'nleaves': 77, 'bagfrac': 0.9495471453208567, 'bagfreq': 2, 'featfrac': 0.8433669987377784, 'lambda_l1': 0.0002041332734425081, 'lambda_l2': 9.95196946893955, 'minchild': 14}. Best is trial 496 with value: 3511896.0883319825.\u001b[0m\n"
     ]
    },
    {
     "name": "stdout",
     "output_type": "stream",
     "text": [
      "Early stopping, best iteration is:\n",
      "[201]\ttraining's l1: 329021\tvalid_1's l1: 3.68561e+06\n",
      "Training until validation scores don't improve for 5 rounds\n"
     ]
    },
    {
     "name": "stderr",
     "output_type": "stream",
     "text": [
      "\u001b[32m[I 2021-01-03 18:10:03,429]\u001b[0m Trial 524 finished with value: 3572590.2820673776 and parameters: {'nleaves': 59, 'bagfrac': 0.9216370077736945, 'bagfreq': 2, 'featfrac': 0.862949799237006, 'lambda_l1': 5.214721693471115e-05, 'lambda_l2': 4.54634155476844, 'minchild': 3}. Best is trial 496 with value: 3511896.0883319825.\u001b[0m\n"
     ]
    },
    {
     "name": "stdout",
     "output_type": "stream",
     "text": [
      "Early stopping, best iteration is:\n",
      "[222]\ttraining's l1: 356974\tvalid_1's l1: 3.57259e+06\n",
      "Training until validation scores don't improve for 5 rounds\n"
     ]
    },
    {
     "name": "stderr",
     "output_type": "stream",
     "text": [
      "\u001b[32m[I 2021-01-03 18:10:05,341]\u001b[0m Trial 525 finished with value: 3596171.7800767967 and parameters: {'nleaves': 54, 'bagfrac': 0.9248640432183898, 'bagfreq': 3, 'featfrac': 0.8678471657865002, 'lambda_l1': 4.374617145610236e-05, 'lambda_l2': 2.1412199529398466, 'minchild': 3}. Best is trial 496 with value: 3511896.0883319825.\u001b[0m\n"
     ]
    },
    {
     "name": "stdout",
     "output_type": "stream",
     "text": [
      "Early stopping, best iteration is:\n",
      "[240]\ttraining's l1: 334437\tvalid_1's l1: 3.59617e+06\n",
      "Training until validation scores don't improve for 5 rounds\n"
     ]
    },
    {
     "name": "stderr",
     "output_type": "stream",
     "text": [
      "\u001b[32m[I 2021-01-03 18:10:07,234]\u001b[0m Trial 526 finished with value: 3750577.1210948653 and parameters: {'nleaves': 59, 'bagfrac': 0.9328460213364793, 'bagfreq': 1, 'featfrac': 0.8608758465990656, 'lambda_l1': 5.257731633092786e-05, 'lambda_l2': 2.657942858982686, 'minchild': 1}. Best is trial 496 with value: 3511896.0883319825.\u001b[0m\n"
     ]
    },
    {
     "name": "stdout",
     "output_type": "stream",
     "text": [
      "Early stopping, best iteration is:\n",
      "[177]\ttraining's l1: 474511\tvalid_1's l1: 3.75058e+06\n",
      "Training until validation scores don't improve for 5 rounds\n"
     ]
    },
    {
     "name": "stderr",
     "output_type": "stream",
     "text": [
      "\u001b[32m[I 2021-01-03 18:10:09,228]\u001b[0m Trial 527 finished with value: 3582485.679647139 and parameters: {'nleaves': 57, 'bagfrac': 0.9216279547250125, 'bagfreq': 2, 'featfrac': 0.8741586426546026, 'lambda_l1': 1.4766231739956327e-05, 'lambda_l2': 3.29541885652781, 'minchild': 4}. Best is trial 496 with value: 3511896.0883319825.\u001b[0m\n"
     ]
    },
    {
     "name": "stdout",
     "output_type": "stream",
     "text": [
      "Early stopping, best iteration is:\n",
      "[236]\ttraining's l1: 326388\tvalid_1's l1: 3.58249e+06\n",
      "Training until validation scores don't improve for 5 rounds\n"
     ]
    },
    {
     "name": "stderr",
     "output_type": "stream",
     "text": [
      "\u001b[32m[I 2021-01-03 18:10:11,039]\u001b[0m Trial 528 finished with value: 3611769.3908586944 and parameters: {'nleaves': 52, 'bagfrac': 0.9203300857634247, 'bagfreq': 2, 'featfrac': 0.8687271391702726, 'lambda_l1': 2.3133134869229236e-05, 'lambda_l2': 3.1568382285203436, 'minchild': 5}. Best is trial 496 with value: 3511896.0883319825.\u001b[0m\n"
     ]
    },
    {
     "name": "stdout",
     "output_type": "stream",
     "text": [
      "Early stopping, best iteration is:\n",
      "[218]\ttraining's l1: 448597\tvalid_1's l1: 3.61177e+06\n",
      "Training until validation scores don't improve for 5 rounds\n"
     ]
    },
    {
     "name": "stderr",
     "output_type": "stream",
     "text": [
      "\u001b[32m[I 2021-01-03 18:10:13,252]\u001b[0m Trial 529 finished with value: 3573501.40846808 and parameters: {'nleaves': 56, 'bagfrac': 0.917422792843351, 'bagfreq': 10, 'featfrac': 0.8762415179174589, 'lambda_l1': 7.495707585216194e-06, 'lambda_l2': 2.58195625533738, 'minchild': 4}. Best is trial 496 with value: 3511896.0883319825.\u001b[0m\n"
     ]
    },
    {
     "name": "stdout",
     "output_type": "stream",
     "text": [
      "Early stopping, best iteration is:\n",
      "[274]\ttraining's l1: 251922\tvalid_1's l1: 3.5735e+06\n",
      "Training until validation scores don't improve for 5 rounds\n"
     ]
    },
    {
     "name": "stderr",
     "output_type": "stream",
     "text": [
      "\u001b[32m[I 2021-01-03 18:10:14,984]\u001b[0m Trial 530 finished with value: 3706039.0742978104 and parameters: {'nleaves': 52, 'bagfrac': 0.9143881803139988, 'bagfreq': 10, 'featfrac': 0.8488107257513358, 'lambda_l1': 1.0290764867269182e-05, 'lambda_l2': 1.67888406984675, 'minchild': 6}. Best is trial 496 with value: 3511896.0883319825.\u001b[0m\n"
     ]
    },
    {
     "name": "stdout",
     "output_type": "stream",
     "text": [
      "Early stopping, best iteration is:\n",
      "[220]\ttraining's l1: 442226\tvalid_1's l1: 3.70604e+06\n",
      "Training until validation scores don't improve for 5 rounds\n"
     ]
    },
    {
     "name": "stderr",
     "output_type": "stream",
     "text": [
      "\u001b[32m[I 2021-01-03 18:10:17,223]\u001b[0m Trial 531 finished with value: 3742129.773649684 and parameters: {'nleaves': 56, 'bagfrac': 0.9188324346088637, 'bagfreq': 9, 'featfrac': 0.8895211765252581, 'lambda_l1': 2.8692393724434202e-05, 'lambda_l2': 2.162881450379189, 'minchild': 3}. Best is trial 496 with value: 3511896.0883319825.\u001b[0m\n"
     ]
    },
    {
     "name": "stdout",
     "output_type": "stream",
     "text": [
      "Early stopping, best iteration is:\n",
      "[255]\ttraining's l1: 281662\tvalid_1's l1: 3.74213e+06\n",
      "Training until validation scores don't improve for 5 rounds\n"
     ]
    },
    {
     "name": "stderr",
     "output_type": "stream",
     "text": [
      "\u001b[32m[I 2021-01-03 18:10:20,059]\u001b[0m Trial 532 finished with value: 3834431.162644369 and parameters: {'nleaves': 250, 'bagfrac': 0.9119723966080826, 'bagfreq': 2, 'featfrac': 0.8874062342789134, 'lambda_l1': 6.356711327837828e-06, 'lambda_l2': 1.3633348352240533, 'minchild': 6}. Best is trial 496 with value: 3511896.0883319825.\u001b[0m\n"
     ]
    },
    {
     "name": "stdout",
     "output_type": "stream",
     "text": [
      "Early stopping, best iteration is:\n",
      "[119]\ttraining's l1: 49980.2\tvalid_1's l1: 3.83443e+06\n",
      "Training until validation scores don't improve for 5 rounds\n"
     ]
    },
    {
     "name": "stderr",
     "output_type": "stream",
     "text": [
      "\u001b[32m[I 2021-01-03 18:10:21,650]\u001b[0m Trial 533 finished with value: 3600385.2192635387 and parameters: {'nleaves': 50, 'bagfrac': 0.9207856764122583, 'bagfreq': 2, 'featfrac': 0.8696506225171579, 'lambda_l1': 6.373434991465869e-06, 'lambda_l2': 0.7268646896026909, 'minchild': 4}. Best is trial 496 with value: 3511896.0883319825.\u001b[0m\n"
     ]
    },
    {
     "name": "stdout",
     "output_type": "stream",
     "text": [
      "Early stopping, best iteration is:\n",
      "[221]\ttraining's l1: 425987\tvalid_1's l1: 3.60039e+06\n",
      "Training until validation scores don't improve for 5 rounds\n"
     ]
    },
    {
     "name": "stderr",
     "output_type": "stream",
     "text": [
      "\u001b[32m[I 2021-01-03 18:10:22,828]\u001b[0m Trial 534 finished with value: 3670555.01132006 and parameters: {'nleaves': 46, 'bagfrac': 0.9141548533831815, 'bagfreq': 2, 'featfrac': 0.88047821132978, 'lambda_l1': 3.229214633184388e-06, 'lambda_l2': 1.346254003062351, 'minchild': 7}. Best is trial 496 with value: 3511896.0883319825.\u001b[0m\n"
     ]
    },
    {
     "name": "stdout",
     "output_type": "stream",
     "text": [
      "Early stopping, best iteration is:\n",
      "[175]\ttraining's l1: 718070\tvalid_1's l1: 3.67056e+06\n",
      "Training until validation scores don't improve for 5 rounds\n"
     ]
    },
    {
     "name": "stderr",
     "output_type": "stream",
     "text": [
      "\u001b[32m[I 2021-01-03 18:10:24,428]\u001b[0m Trial 535 finished with value: 3765930.787414836 and parameters: {'nleaves': 57, 'bagfrac': 0.9200992153833161, 'bagfreq': 1, 'featfrac': 0.8687745133775224, 'lambda_l1': 0.0001476869728233379, 'lambda_l2': 1.9738953788102298, 'minchild': 3}. Best is trial 496 with value: 3511896.0883319825.\u001b[0m\n"
     ]
    },
    {
     "name": "stdout",
     "output_type": "stream",
     "text": [
      "Early stopping, best iteration is:\n",
      "[180]\ttraining's l1: 477609\tvalid_1's l1: 3.76593e+06\n",
      "Training until validation scores don't improve for 5 rounds\n"
     ]
    },
    {
     "name": "stderr",
     "output_type": "stream",
     "text": [
      "\u001b[32m[I 2021-01-03 18:10:25,717]\u001b[0m Trial 536 finished with value: 3671912.7045594333 and parameters: {'nleaves': 51, 'bagfrac': 0.910438232702973, 'bagfreq': 2, 'featfrac': 0.8795608989002873, 'lambda_l1': 2.595817723142911e-06, 'lambda_l2': 2.6477317391782154, 'minchild': 5}. Best is trial 496 with value: 3511896.0883319825.\u001b[0m\n"
     ]
    },
    {
     "name": "stdout",
     "output_type": "stream",
     "text": [
      "Early stopping, best iteration is:\n",
      "[161]\ttraining's l1: 708108\tvalid_1's l1: 3.67191e+06\n",
      "Training until validation scores don't improve for 5 rounds\n"
     ]
    },
    {
     "name": "stderr",
     "output_type": "stream",
     "text": [
      "\u001b[32m[I 2021-01-03 18:10:28,011]\u001b[0m Trial 537 finished with value: 3620698.5141477888 and parameters: {'nleaves': 55, 'bagfrac': 0.9238793656115881, 'bagfreq': 2, 'featfrac': 0.8755260168441794, 'lambda_l1': 4.495869083079462e-06, 'lambda_l2': 2.6507386163044813, 'minchild': 1}. Best is trial 496 with value: 3511896.0883319825.\u001b[0m\n"
     ]
    },
    {
     "name": "stdout",
     "output_type": "stream",
     "text": [
      "Early stopping, best iteration is:\n",
      "[266]\ttraining's l1: 258472\tvalid_1's l1: 3.6207e+06\n",
      "Training until validation scores don't improve for 5 rounds\n"
     ]
    },
    {
     "name": "stderr",
     "output_type": "stream",
     "text": [
      "\u001b[32m[I 2021-01-03 18:10:29,149]\u001b[0m Trial 538 finished with value: 3739506.354586536 and parameters: {'nleaves': 58, 'bagfrac': 0.9150202417413291, 'bagfreq': 2, 'featfrac': 0.8763359696103616, 'lambda_l1': 8.604047700248354e-06, 'lambda_l2': 3.0847975320260987, 'minchild': 8}. Best is trial 496 with value: 3511896.0883319825.\u001b[0m\n"
     ]
    },
    {
     "name": "stdout",
     "output_type": "stream",
     "text": [
      "Early stopping, best iteration is:\n",
      "[132]\ttraining's l1: 797776\tvalid_1's l1: 3.73951e+06\n",
      "Training until validation scores don't improve for 5 rounds\n"
     ]
    },
    {
     "name": "stderr",
     "output_type": "stream",
     "text": [
      "\u001b[32m[I 2021-01-03 18:10:30,882]\u001b[0m Trial 539 finished with value: 3798172.135807918 and parameters: {'nleaves': 48, 'bagfrac': 0.9283418940438446, 'bagfreq': 10, 'featfrac': 0.8855548481720358, 'lambda_l1': 1.497270736491552e-05, 'lambda_l2': 3.371512172578329, 'minchild': 3}. Best is trial 496 with value: 3511896.0883319825.\u001b[0m\n"
     ]
    },
    {
     "name": "stdout",
     "output_type": "stream",
     "text": [
      "Early stopping, best iteration is:\n",
      "[235]\ttraining's l1: 461549\tvalid_1's l1: 3.79817e+06\n",
      "Training until validation scores don't improve for 5 rounds\n"
     ]
    },
    {
     "name": "stderr",
     "output_type": "stream",
     "text": [
      "\u001b[32m[I 2021-01-03 18:10:32,231]\u001b[0m Trial 540 finished with value: 3669338.9295898313 and parameters: {'nleaves': 41, 'bagfrac': 0.9376126984983961, 'bagfreq': 2, 'featfrac': 0.8814681763432647, 'lambda_l1': 7.07898787672234e-06, 'lambda_l2': 2.0067133465498923, 'minchild': 6}. Best is trial 496 with value: 3511896.0883319825.\u001b[0m\n"
     ]
    },
    {
     "name": "stdout",
     "output_type": "stream",
     "text": [
      "Early stopping, best iteration is:\n",
      "[235]\ttraining's l1: 580969\tvalid_1's l1: 3.66934e+06\n",
      "Training until validation scores don't improve for 5 rounds\n"
     ]
    },
    {
     "name": "stderr",
     "output_type": "stream",
     "text": [
      "\u001b[32m[I 2021-01-03 18:10:33,841]\u001b[0m Trial 541 finished with value: 3746254.817468389 and parameters: {'nleaves': 61, 'bagfrac': 0.9078537491281292, 'bagfreq': 2, 'featfrac': 0.8746596872178141, 'lambda_l1': 2.0308625600554517e-05, 'lambda_l2': 3.894770188751823, 'minchild': 9}. Best is trial 496 with value: 3511896.0883319825.\u001b[0m\n"
     ]
    },
    {
     "name": "stdout",
     "output_type": "stream",
     "text": [
      "Early stopping, best iteration is:\n",
      "[188]\ttraining's l1: 436408\tvalid_1's l1: 3.74625e+06\n",
      "Training until validation scores don't improve for 5 rounds\n"
     ]
    },
    {
     "name": "stderr",
     "output_type": "stream",
     "text": [
      "\u001b[32m[I 2021-01-03 18:10:35,658]\u001b[0m Trial 542 finished with value: 3692539.399125033 and parameters: {'nleaves': 54, 'bagfrac': 0.9188494951998388, 'bagfreq': 2, 'featfrac': 0.8952016486197004, 'lambda_l1': 4.278262540800954e-06, 'lambda_l2': 2.65764623656756, 'minchild': 1}. Best is trial 496 with value: 3511896.0883319825.\u001b[0m\n"
     ]
    },
    {
     "name": "stdout",
     "output_type": "stream",
     "text": [
      "Early stopping, best iteration is:\n",
      "[201]\ttraining's l1: 467940\tvalid_1's l1: 3.69254e+06\n",
      "Training until validation scores don't improve for 5 rounds\n"
     ]
    },
    {
     "name": "stderr",
     "output_type": "stream",
     "text": [
      "\u001b[32m[I 2021-01-03 18:10:38,142]\u001b[0m Trial 543 finished with value: 3649513.8528496 and parameters: {'nleaves': 59, 'bagfrac': 0.9241575912693886, 'bagfreq': 2, 'featfrac': 0.8741621249741388, 'lambda_l1': 1.5574948561945815e-05, 'lambda_l2': 3.876550039815077, 'minchild': 4}. Best is trial 496 with value: 3511896.0883319825.\u001b[0m\n"
     ]
    },
    {
     "name": "stdout",
     "output_type": "stream",
     "text": [
      "Early stopping, best iteration is:\n",
      "[303]\ttraining's l1: 176934\tvalid_1's l1: 3.64951e+06\n",
      "Training until validation scores don't improve for 5 rounds\n"
     ]
    },
    {
     "name": "stderr",
     "output_type": "stream",
     "text": [
      "\u001b[32m[I 2021-01-03 18:10:39,469]\u001b[0m Trial 544 finished with value: 3651645.070992122 and parameters: {'nleaves': 48, 'bagfrac': 0.9289044949793935, 'bagfreq': 2, 'featfrac': 0.8640265083365477, 'lambda_l1': 6.919119931303352e-06, 'lambda_l2': 4.040220451925706, 'minchild': 6}. Best is trial 496 with value: 3511896.0883319825.\u001b[0m\n"
     ]
    },
    {
     "name": "stdout",
     "output_type": "stream",
     "text": [
      "Early stopping, best iteration is:\n",
      "[183]\ttraining's l1: 698456\tvalid_1's l1: 3.65165e+06\n",
      "Training until validation scores don't improve for 5 rounds\n"
     ]
    },
    {
     "name": "stderr",
     "output_type": "stream",
     "text": [
      "\u001b[32m[I 2021-01-03 18:10:40,827]\u001b[0m Trial 545 finished with value: 3781251.650643381 and parameters: {'nleaves': 56, 'bagfrac': 0.9015595356728874, 'bagfreq': 1, 'featfrac': 0.8403497948713077, 'lambda_l1': 8.620166167312747e-06, 'lambda_l2': 2.2806919695429486, 'minchild': 9}. Best is trial 496 with value: 3511896.0883319825.\u001b[0m\n"
     ]
    },
    {
     "name": "stdout",
     "output_type": "stream",
     "text": [
      "Early stopping, best iteration is:\n",
      "[181]\ttraining's l1: 514363\tvalid_1's l1: 3.78125e+06\n",
      "Training until validation scores don't improve for 5 rounds\n"
     ]
    },
    {
     "name": "stderr",
     "output_type": "stream",
     "text": [
      "\u001b[32m[I 2021-01-03 18:10:42,439]\u001b[0m Trial 546 finished with value: 3650075.863065643 and parameters: {'nleaves': 61, 'bagfrac': 0.9159655479642106, 'bagfreq': 2, 'featfrac': 0.8811968069720892, 'lambda_l1': 4.783645971987457e-06, 'lambda_l2': 4.112483897251246, 'minchild': 17}. Best is trial 496 with value: 3511896.0883319825.\u001b[0m\n"
     ]
    },
    {
     "name": "stdout",
     "output_type": "stream",
     "text": [
      "Early stopping, best iteration is:\n",
      "[227]\ttraining's l1: 340326\tvalid_1's l1: 3.65008e+06\n",
      "Training until validation scores don't improve for 5 rounds\n"
     ]
    },
    {
     "name": "stderr",
     "output_type": "stream",
     "text": [
      "\u001b[32m[I 2021-01-03 18:10:44,670]\u001b[0m Trial 547 finished with value: 3640420.1804790976 and parameters: {'nleaves': 54, 'bagfrac': 0.9338515609036819, 'bagfreq': 2, 'featfrac': 0.8552251992110577, 'lambda_l1': 0.008651891291370718, 'lambda_l2': 4.7411502859641095, 'minchild': 3}. Best is trial 496 with value: 3511896.0883319825.\u001b[0m\n"
     ]
    },
    {
     "name": "stdout",
     "output_type": "stream",
     "text": [
      "Early stopping, best iteration is:\n",
      "[272]\ttraining's l1: 293569\tvalid_1's l1: 3.64042e+06\n",
      "Training until validation scores don't improve for 5 rounds\n"
     ]
    },
    {
     "name": "stderr",
     "output_type": "stream",
     "text": [
      "\u001b[32m[I 2021-01-03 18:10:46,085]\u001b[0m Trial 548 finished with value: 3677489.964712881 and parameters: {'nleaves': 32, 'bagfrac': 0.9213345824531274, 'bagfreq': 2, 'featfrac': 0.8285949559209179, 'lambda_l1': 1.2191372653125355e-05, 'lambda_l2': 1.6108096277981392, 'minchild': 1}. Best is trial 496 with value: 3511896.0883319825.\u001b[0m\n"
     ]
    },
    {
     "name": "stdout",
     "output_type": "stream",
     "text": [
      "Early stopping, best iteration is:\n",
      "[273]\ttraining's l1: 703020\tvalid_1's l1: 3.67749e+06\n",
      "Training until validation scores don't improve for 5 rounds\n"
     ]
    },
    {
     "name": "stderr",
     "output_type": "stream",
     "text": [
      "\u001b[32m[I 2021-01-03 18:10:47,775]\u001b[0m Trial 549 finished with value: 3800278.3556637927 and parameters: {'nleaves': 50, 'bagfrac': 0.9091687249901553, 'bagfreq': 2, 'featfrac': 0.8026620424018914, 'lambda_l1': 1.0664460372448822e-05, 'lambda_l2': 3.0893321364206874, 'minchild': 7}. Best is trial 496 with value: 3511896.0883319825.\u001b[0m\n"
     ]
    },
    {
     "name": "stdout",
     "output_type": "stream",
     "text": [
      "Early stopping, best iteration is:\n",
      "[241]\ttraining's l1: 405556\tvalid_1's l1: 3.80028e+06\n",
      "Training until validation scores don't improve for 5 rounds\n"
     ]
    },
    {
     "name": "stderr",
     "output_type": "stream",
     "text": [
      "\u001b[32m[I 2021-01-03 18:10:48,967]\u001b[0m Trial 550 finished with value: 3792311.2067860663 and parameters: {'nleaves': 43, 'bagfrac': 0.926608131290383, 'bagfreq': 8, 'featfrac': 0.8722273406915663, 'lambda_l1': 1.1468898369538768e-05, 'lambda_l2': 4.991301479861971, 'minchild': 5}. Best is trial 496 with value: 3511896.0883319825.\u001b[0m\n"
     ]
    },
    {
     "name": "stdout",
     "output_type": "stream",
     "text": [
      "Early stopping, best iteration is:\n",
      "[178]\ttraining's l1: 862680\tvalid_1's l1: 3.79231e+06\n",
      "Training until validation scores don't improve for 5 rounds\n"
     ]
    },
    {
     "name": "stderr",
     "output_type": "stream",
     "text": [
      "\u001b[32m[I 2021-01-03 18:10:50,861]\u001b[0m Trial 551 finished with value: 3730690.8368092356 and parameters: {'nleaves': 62, 'bagfrac': 0.9412133473152726, 'bagfreq': 1, 'featfrac': 0.8469147347230983, 'lambda_l1': 0.00014237472618697727, 'lambda_l2': 3.3290846088218755, 'minchild': 10}. Best is trial 496 with value: 3511896.0883319825.\u001b[0m\n"
     ]
    },
    {
     "name": "stdout",
     "output_type": "stream",
     "text": [
      "Early stopping, best iteration is:\n",
      "[265]\ttraining's l1: 219619\tvalid_1's l1: 3.73069e+06\n",
      "Training until validation scores don't improve for 5 rounds\n"
     ]
    },
    {
     "name": "stderr",
     "output_type": "stream",
     "text": [
      "\u001b[32m[I 2021-01-03 18:10:52,410]\u001b[0m Trial 552 finished with value: 3691110.6193104424 and parameters: {'nleaves': 59, 'bagfrac': 0.9175487919390781, 'bagfreq': 4, 'featfrac': 0.8639655504022072, 'lambda_l1': 0.00010435530372429669, 'lambda_l2': 4.712120020689235, 'minchild': 3}. Best is trial 496 with value: 3511896.0883319825.\u001b[0m\n"
     ]
    },
    {
     "name": "stdout",
     "output_type": "stream",
     "text": [
      "Early stopping, best iteration is:\n",
      "[172]\ttraining's l1: 556216\tvalid_1's l1: 3.69111e+06\n",
      "Training until validation scores don't improve for 5 rounds\n"
     ]
    },
    {
     "name": "stderr",
     "output_type": "stream",
     "text": [
      "\u001b[32m[I 2021-01-03 18:10:53,990]\u001b[0m Trial 553 finished with value: 3662717.518480751 and parameters: {'nleaves': 69, 'bagfrac': 0.9494049048535008, 'bagfreq': 2, 'featfrac': 0.8348614622441162, 'lambda_l1': 3.57867749989644e-05, 'lambda_l2': 5.372645029420988, 'minchild': 15}. Best is trial 496 with value: 3511896.0883319825.\u001b[0m\n"
     ]
    },
    {
     "name": "stdout",
     "output_type": "stream",
     "text": [
      "Early stopping, best iteration is:\n",
      "[186]\ttraining's l1: 399868\tvalid_1's l1: 3.66272e+06\n",
      "Training until validation scores don't improve for 5 rounds\n"
     ]
    },
    {
     "name": "stderr",
     "output_type": "stream",
     "text": [
      "\u001b[32m[I 2021-01-03 18:10:55,356]\u001b[0m Trial 554 finished with value: 3640286.8726247256 and parameters: {'nleaves': 52, 'bagfrac': 0.8829101563763112, 'bagfreq': 2, 'featfrac': 0.8531786264605764, 'lambda_l1': 1.699752693825196e-05, 'lambda_l2': 2.5983828195574135, 'minchild': 8}. Best is trial 496 with value: 3511896.0883319825.\u001b[0m\n"
     ]
    },
    {
     "name": "stdout",
     "output_type": "stream",
     "text": [
      "Early stopping, best iteration is:\n",
      "[165]\ttraining's l1: 683582\tvalid_1's l1: 3.64029e+06\n",
      "Training until validation scores don't improve for 5 rounds\n"
     ]
    },
    {
     "name": "stderr",
     "output_type": "stream",
     "text": [
      "\u001b[32m[I 2021-01-03 18:10:58,497]\u001b[0m Trial 555 finished with value: 3728245.729931917 and parameters: {'nleaves': 62, 'bagfrac': 0.9308777660560542, 'bagfreq': 2, 'featfrac': 0.7949514409932028, 'lambda_l1': 0.0001800811336076229, 'lambda_l2': 0.009759599467034589, 'minchild': 1}. Best is trial 496 with value: 3511896.0883319825.\u001b[0m\n"
     ]
    },
    {
     "name": "stdout",
     "output_type": "stream",
     "text": [
      "Early stopping, best iteration is:\n",
      "[263]\ttraining's l1: 178732\tvalid_1's l1: 3.72825e+06\n",
      "Training until validation scores don't improve for 5 rounds\n"
     ]
    },
    {
     "name": "stderr",
     "output_type": "stream",
     "text": [
      "\u001b[32m[I 2021-01-03 18:11:00,403]\u001b[0m Trial 556 finished with value: 3663989.2392784026 and parameters: {'nleaves': 45, 'bagfrac': 0.9124414545164483, 'bagfreq': 2, 'featfrac': 0.8596586113296052, 'lambda_l1': 0.0005821639935536979, 'lambda_l2': 3.9897573263499906, 'minchild': 12}. Best is trial 496 with value: 3511896.0883319825.\u001b[0m\n"
     ]
    },
    {
     "name": "stdout",
     "output_type": "stream",
     "text": [
      "Early stopping, best iteration is:\n",
      "[316]\ttraining's l1: 314769\tvalid_1's l1: 3.66399e+06\n",
      "Training until validation scores don't improve for 5 rounds\n"
     ]
    },
    {
     "name": "stderr",
     "output_type": "stream",
     "text": [
      "\u001b[32m[I 2021-01-03 18:11:02,250]\u001b[0m Trial 557 finished with value: 3609384.179145788 and parameters: {'nleaves': 40, 'bagfrac': 0.9056615335123701, 'bagfreq': 2, 'featfrac': 0.8390755297669321, 'lambda_l1': 0.00010662995271794841, 'lambda_l2': 5.357964222088945, 'minchild': 5}. Best is trial 496 with value: 3511896.0883319825.\u001b[0m\n"
     ]
    },
    {
     "name": "stdout",
     "output_type": "stream",
     "text": [
      "Early stopping, best iteration is:\n",
      "[302]\ttraining's l1: 456271\tvalid_1's l1: 3.60938e+06\n",
      "Training until validation scores don't improve for 5 rounds\n",
      "Early stopping, best iteration is:\n",
      "[195]\ttraining's l1: 88202.5\tvalid_1's l1: 3.78011e+06\n"
     ]
    },
    {
     "name": "stderr",
     "output_type": "stream",
     "text": [
      "\u001b[32m[I 2021-01-03 18:11:05,686]\u001b[0m Trial 558 finished with value: 3780107.4877435295 and parameters: {'nleaves': 125, 'bagfrac': 0.9354193398498984, 'bagfreq': 2, 'featfrac': 0.8278854775994741, 'lambda_l1': 0.000282855946290442, 'lambda_l2': 6.427177615240055, 'minchild': 3}. Best is trial 496 with value: 3511896.0883319825.\u001b[0m\n"
     ]
    },
    {
     "name": "stdout",
     "output_type": "stream",
     "text": [
      "Training until validation scores don't improve for 5 rounds\n"
     ]
    },
    {
     "name": "stderr",
     "output_type": "stream",
     "text": [
      "\u001b[32m[I 2021-01-03 18:11:07,660]\u001b[0m Trial 559 finished with value: 3668964.7077745125 and parameters: {'nleaves': 56, 'bagfrac': 0.9245006013543832, 'bagfreq': 2, 'featfrac': 0.8433503396988455, 'lambda_l1': 0.00012635165534137467, 'lambda_l2': 3.47383306970626, 'minchild': 10}. Best is trial 496 with value: 3511896.0883319825.\u001b[0m\n"
     ]
    },
    {
     "name": "stdout",
     "output_type": "stream",
     "text": [
      "Early stopping, best iteration is:\n",
      "[256]\ttraining's l1: 305696\tvalid_1's l1: 3.66896e+06\n",
      "Training until validation scores don't improve for 5 rounds\n"
     ]
    },
    {
     "name": "stderr",
     "output_type": "stream",
     "text": [
      "\u001b[32m[I 2021-01-03 18:11:09,485]\u001b[0m Trial 560 finished with value: 3710984.438126762 and parameters: {'nleaves': 67, 'bagfrac': 0.8706928319941937, 'bagfreq': 1, 'featfrac': 0.8494240759397802, 'lambda_l1': 0.00021011810472723654, 'lambda_l2': 5.802569845964353, 'minchild': 7}. Best is trial 496 with value: 3511896.0883319825.\u001b[0m\n"
     ]
    },
    {
     "name": "stdout",
     "output_type": "stream",
     "text": [
      "Early stopping, best iteration is:\n",
      "[213]\ttraining's l1: 319500\tvalid_1's l1: 3.71098e+06\n",
      "Training until validation scores don't improve for 5 rounds\n"
     ]
    },
    {
     "name": "stderr",
     "output_type": "stream",
     "text": [
      "\u001b[32m[I 2021-01-03 18:11:11,362]\u001b[0m Trial 561 finished with value: 3748103.0444767727 and parameters: {'nleaves': 62, 'bagfrac': 0.89712321196691, 'bagfreq': 8, 'featfrac': 0.8057349539875853, 'lambda_l1': 0.00037145027795794947, 'lambda_l2': 2.027305570683985, 'minchild': 1}. Best is trial 496 with value: 3511896.0883319825.\u001b[0m\n"
     ]
    },
    {
     "name": "stdout",
     "output_type": "stream",
     "text": [
      "Early stopping, best iteration is:\n",
      "[197]\ttraining's l1: 386532\tvalid_1's l1: 3.7481e+06\n",
      "Training until validation scores don't improve for 5 rounds\n"
     ]
    },
    {
     "name": "stderr",
     "output_type": "stream",
     "text": [
      "\u001b[32m[I 2021-01-03 18:11:12,995]\u001b[0m Trial 562 finished with value: 3706988.015954322 and parameters: {'nleaves': 238, 'bagfrac': 0.9212800752828225, 'bagfreq': 2, 'featfrac': 0.8670121757410633, 'lambda_l1': 0.00010319295409053463, 'lambda_l2': 0.9075859635123434, 'minchild': 18}. Best is trial 496 with value: 3511896.0883319825.\u001b[0m\n"
     ]
    },
    {
     "name": "stdout",
     "output_type": "stream",
     "text": [
      "Early stopping, best iteration is:\n",
      "[125]\ttraining's l1: 279532\tvalid_1's l1: 3.70699e+06\n",
      "Training until validation scores don't improve for 5 rounds\n"
     ]
    },
    {
     "name": "stderr",
     "output_type": "stream",
     "text": [
      "\u001b[32m[I 2021-01-03 18:11:15,206]\u001b[0m Trial 563 finished with value: 3575690.756777001 and parameters: {'nleaves': 49, 'bagfrac': 0.9143348865744428, 'bagfreq': 2, 'featfrac': 0.873166498405358, 'lambda_l1': 1.8748753451742248e-06, 'lambda_l2': 4.469811736163132, 'minchild': 5}. Best is trial 496 with value: 3511896.0883319825.\u001b[0m\n"
     ]
    },
    {
     "name": "stdout",
     "output_type": "stream",
     "text": [
      "Early stopping, best iteration is:\n",
      "[309]\ttraining's l1: 268864\tvalid_1's l1: 3.57569e+06\n",
      "Training until validation scores don't improve for 5 rounds\n"
     ]
    },
    {
     "name": "stderr",
     "output_type": "stream",
     "text": [
      "\u001b[32m[I 2021-01-03 18:11:16,660]\u001b[0m Trial 564 finished with value: 3701830.55952892 and parameters: {'nleaves': 44, 'bagfrac': 0.9121517427447441, 'bagfreq': 2, 'featfrac': 0.8845004286718013, 'lambda_l1': 3.700644645699821e-05, 'lambda_l2': 2.5912647097269774, 'minchild': 5}. Best is trial 496 with value: 3511896.0883319825.\u001b[0m\n"
     ]
    },
    {
     "name": "stdout",
     "output_type": "stream",
     "text": [
      "Early stopping, best iteration is:\n",
      "[235]\ttraining's l1: 518263\tvalid_1's l1: 3.70183e+06\n",
      "Training until validation scores don't improve for 5 rounds\n"
     ]
    },
    {
     "name": "stderr",
     "output_type": "stream",
     "text": [
      "\u001b[32m[I 2021-01-03 18:11:18,569]\u001b[0m Trial 565 finished with value: 3668497.097091762 and parameters: {'nleaves': 49, 'bagfrac': 0.9027337302286377, 'bagfreq': 2, 'featfrac': 0.8768881030013473, 'lambda_l1': 2.572342443927893e-06, 'lambda_l2': 3.428704206460669, 'minchild': 7}. Best is trial 496 with value: 3511896.0883319825.\u001b[0m\n"
     ]
    },
    {
     "name": "stdout",
     "output_type": "stream",
     "text": [
      "Early stopping, best iteration is:\n",
      "[265]\ttraining's l1: 364799\tvalid_1's l1: 3.6685e+06\n",
      "Training until validation scores don't improve for 5 rounds\n"
     ]
    },
    {
     "name": "stderr",
     "output_type": "stream",
     "text": [
      "\u001b[32m[I 2021-01-03 18:11:20,649]\u001b[0m Trial 566 finished with value: 3620030.590355037 and parameters: {'nleaves': 47, 'bagfrac': 0.9161447679135819, 'bagfreq': 2, 'featfrac': 0.8750399354061023, 'lambda_l1': 5.68965969551435e-05, 'lambda_l2': 4.3032155933539915, 'minchild': 4}. Best is trial 496 with value: 3511896.0883319825.\u001b[0m\n"
     ]
    },
    {
     "name": "stdout",
     "output_type": "stream",
     "text": [
      "Early stopping, best iteration is:\n",
      "[287]\ttraining's l1: 334268\tvalid_1's l1: 3.62003e+06\n",
      "Training until validation scores don't improve for 5 rounds\n"
     ]
    },
    {
     "name": "stderr",
     "output_type": "stream",
     "text": [
      "\u001b[32m[I 2021-01-03 18:11:22,467]\u001b[0m Trial 567 finished with value: 3761050.385304775 and parameters: {'nleaves': 50, 'bagfrac': 0.9087903946246302, 'bagfreq': 2, 'featfrac': 0.8698613157369086, 'lambda_l1': 0.020898749278332192, 'lambda_l2': 3.923852507432, 'minchild': 2}. Best is trial 496 with value: 3511896.0883319825.\u001b[0m\n"
     ]
    },
    {
     "name": "stdout",
     "output_type": "stream",
     "text": [
      "Early stopping, best iteration is:\n",
      "[235]\ttraining's l1: 427892\tvalid_1's l1: 3.76105e+06\n",
      "Training until validation scores don't improve for 5 rounds\n"
     ]
    },
    {
     "name": "stderr",
     "output_type": "stream",
     "text": [
      "\u001b[32m[I 2021-01-03 18:11:24,013]\u001b[0m Trial 568 finished with value: 3690490.7629054105 and parameters: {'nleaves': 37, 'bagfrac': 0.9181783605200217, 'bagfreq': 1, 'featfrac': 0.8865236148159973, 'lambda_l1': 3.4669645726096916e-06, 'lambda_l2': 1.9068253994951274, 'minchild': 5}. Best is trial 496 with value: 3511896.0883319825.\u001b[0m\n"
     ]
    },
    {
     "name": "stdout",
     "output_type": "stream",
     "text": [
      "Early stopping, best iteration is:\n",
      "[275]\ttraining's l1: 525164\tvalid_1's l1: 3.69049e+06\n",
      "Training until validation scores don't improve for 5 rounds\n"
     ]
    },
    {
     "name": "stderr",
     "output_type": "stream",
     "text": [
      "\u001b[32m[I 2021-01-03 18:11:25,197]\u001b[0m Trial 569 finished with value: 3733532.727239826 and parameters: {'nleaves': 39, 'bagfrac': 0.9239780113618525, 'bagfreq': 2, 'featfrac': 0.8688939283734608, 'lambda_l1': 1.4847694809772302e-06, 'lambda_l2': 5.075029910198906, 'minchild': 8}. Best is trial 496 with value: 3511896.0883319825.\u001b[0m\n"
     ]
    },
    {
     "name": "stdout",
     "output_type": "stream",
     "text": [
      "Early stopping, best iteration is:\n",
      "[215]\ttraining's l1: 762189\tvalid_1's l1: 3.73353e+06\n",
      "Training until validation scores don't improve for 5 rounds\n"
     ]
    },
    {
     "name": "stderr",
     "output_type": "stream",
     "text": [
      "\u001b[32m[I 2021-01-03 18:11:26,728]\u001b[0m Trial 570 finished with value: 3660948.036575736 and parameters: {'nleaves': 52, 'bagfrac': 0.9115843854120955, 'bagfreq': 2, 'featfrac': 0.8586792723822795, 'lambda_l1': 2.3232521646046248e-06, 'lambda_l2': 1.1361002822831507, 'minchild': 3}. Best is trial 496 with value: 3511896.0883319825.\u001b[0m\n"
     ]
    },
    {
     "name": "stdout",
     "output_type": "stream",
     "text": [
      "Early stopping, best iteration is:\n",
      "[200]\ttraining's l1: 462802\tvalid_1's l1: 3.66095e+06\n",
      "Training until validation scores don't improve for 5 rounds\n"
     ]
    },
    {
     "name": "stderr",
     "output_type": "stream",
     "text": [
      "\u001b[32m[I 2021-01-03 18:11:28,302]\u001b[0m Trial 571 finished with value: 3641630.6112492927 and parameters: {'nleaves': 57, 'bagfrac': 0.9301555760348461, 'bagfreq': 2, 'featfrac': 0.8752752421860563, 'lambda_l1': 8.015441734012907e-05, 'lambda_l2': 3.0897167463859447, 'minchild': 6}. Best is trial 496 with value: 3511896.0883319825.\u001b[0m\n"
     ]
    },
    {
     "name": "stdout",
     "output_type": "stream",
     "text": [
      "Early stopping, best iteration is:\n",
      "[201]\ttraining's l1: 429162\tvalid_1's l1: 3.64163e+06\n",
      "Training until validation scores don't improve for 5 rounds\n"
     ]
    },
    {
     "name": "stderr",
     "output_type": "stream",
     "text": [
      "\u001b[32m[I 2021-01-03 18:11:29,607]\u001b[0m Trial 572 finished with value: 3877098.6323262337 and parameters: {'nleaves': 46, 'bagfrac': 0.9051877267621445, 'bagfreq': 9, 'featfrac': 0.7971371178407504, 'lambda_l1': 0.004487018662857131, 'lambda_l2': 5.6530991963526285, 'minchild': 1}. Best is trial 496 with value: 3511896.0883319825.\u001b[0m\n"
     ]
    },
    {
     "name": "stdout",
     "output_type": "stream",
     "text": [
      "Early stopping, best iteration is:\n",
      "[167]\ttraining's l1: 868547\tvalid_1's l1: 3.8771e+06\n",
      "Training until validation scores don't improve for 5 rounds\n"
     ]
    },
    {
     "name": "stderr",
     "output_type": "stream",
     "text": [
      "\u001b[32m[I 2021-01-03 18:11:31,096]\u001b[0m Trial 573 finished with value: 3674129.4372829986 and parameters: {'nleaves': 53, 'bagfrac': 0.9171394211517813, 'bagfreq': 2, 'featfrac': 0.8619501330734817, 'lambda_l1': 3.2931771841415644e-05, 'lambda_l2': 4.565448774157238, 'minchild': 9}. Best is trial 496 with value: 3511896.0883319825.\u001b[0m\n"
     ]
    },
    {
     "name": "stdout",
     "output_type": "stream",
     "text": [
      "Early stopping, best iteration is:\n",
      "[216]\ttraining's l1: 469505\tvalid_1's l1: 3.67413e+06\n",
      "Training until validation scores don't improve for 5 rounds\n"
     ]
    },
    {
     "name": "stderr",
     "output_type": "stream",
     "text": [
      "\u001b[32m[I 2021-01-03 18:11:32,699]\u001b[0m Trial 574 finished with value: 3645014.3265107567 and parameters: {'nleaves': 41, 'bagfrac': 0.8933045973493579, 'bagfreq': 2, 'featfrac': 0.8807214229496397, 'lambda_l1': 1.0716655846669632e-06, 'lambda_l2': 6.22109215298014, 'minchild': 4}. Best is trial 496 with value: 3511896.0883319825.\u001b[0m\n"
     ]
    },
    {
     "name": "stdout",
     "output_type": "stream",
     "text": [
      "Early stopping, best iteration is:\n",
      "[272]\ttraining's l1: 526867\tvalid_1's l1: 3.64501e+06\n",
      "Training until validation scores don't improve for 5 rounds\n"
     ]
    },
    {
     "name": "stderr",
     "output_type": "stream",
     "text": [
      "\u001b[32m[I 2021-01-03 18:11:34,351]\u001b[0m Trial 575 finished with value: 3687537.884360719 and parameters: {'nleaves': 72, 'bagfrac': 0.9248479109447784, 'bagfreq': 2, 'featfrac': 0.8715595351545611, 'lambda_l1': 4.7732963434766024e-05, 'lambda_l2': 2.401844832926575, 'minchild': 7}. Best is trial 496 with value: 3511896.0883319825.\u001b[0m\n"
     ]
    },
    {
     "name": "stdout",
     "output_type": "stream",
     "text": [
      "Early stopping, best iteration is:\n",
      "[166]\ttraining's l1: 378371\tvalid_1's l1: 3.68754e+06\n",
      "Training until validation scores don't improve for 5 rounds\n"
     ]
    },
    {
     "name": "stderr",
     "output_type": "stream",
     "text": [
      "\u001b[32m[I 2021-01-03 18:11:36,415]\u001b[0m Trial 576 finished with value: 3526292.504898255 and parameters: {'nleaves': 57, 'bagfrac': 0.9130628819802583, 'bagfreq': 2, 'featfrac': 0.8656494456167849, 'lambda_l1': 1.015230125505554e-06, 'lambda_l2': 6.1353229598869135, 'minchild': 1}. Best is trial 496 with value: 3511896.0883319825.\u001b[0m\n"
     ]
    },
    {
     "name": "stdout",
     "output_type": "stream",
     "text": [
      "Early stopping, best iteration is:\n",
      "[224]\ttraining's l1: 391916\tvalid_1's l1: 3.52629e+06\n",
      "Training until validation scores don't improve for 5 rounds\n"
     ]
    },
    {
     "name": "stderr",
     "output_type": "stream",
     "text": [
      "\u001b[32m[I 2021-01-03 18:11:37,716]\u001b[0m Trial 577 finished with value: 3752782.776483321 and parameters: {'nleaves': 49, 'bagfrac': 0.8999032551976499, 'bagfreq': 5, 'featfrac': 0.866026420938873, 'lambda_l1': 1.1892539974402738e-06, 'lambda_l2': 7.250672578118039, 'minchild': 1}. Best is trial 496 with value: 3511896.0883319825.\u001b[0m\n"
     ]
    },
    {
     "name": "stdout",
     "output_type": "stream",
     "text": [
      "Early stopping, best iteration is:\n",
      "[146]\ttraining's l1: 964929\tvalid_1's l1: 3.75278e+06\n",
      "Training until validation scores don't improve for 5 rounds\n"
     ]
    },
    {
     "name": "stderr",
     "output_type": "stream",
     "text": [
      "\u001b[32m[I 2021-01-03 18:11:39,471]\u001b[0m Trial 578 finished with value: 3751501.470403088 and parameters: {'nleaves': 55, 'bagfrac': 0.9092133259656413, 'bagfreq': 2, 'featfrac': 0.878241429325154, 'lambda_l1': 8.174668364131683e-05, 'lambda_l2': 0.00025306989807352936, 'minchild': 1}. Best is trial 496 with value: 3511896.0883319825.\u001b[0m\n"
     ]
    },
    {
     "name": "stdout",
     "output_type": "stream",
     "text": [
      "Early stopping, best iteration is:\n",
      "[193]\ttraining's l1: 419015\tvalid_1's l1: 3.7515e+06\n",
      "Training until validation scores don't improve for 5 rounds\n"
     ]
    },
    {
     "name": "stderr",
     "output_type": "stream",
     "text": [
      "\u001b[32m[I 2021-01-03 18:11:40,835]\u001b[0m Trial 579 finished with value: 3571717.896475049 and parameters: {'nleaves': 43, 'bagfrac': 0.9115987685811504, 'bagfreq': 2, 'featfrac': 0.8661331693416764, 'lambda_l1': 1.0964181014688623e-06, 'lambda_l2': 6.909686050017662, 'minchild': 11}. Best is trial 496 with value: 3511896.0883319825.\u001b[0m\n"
     ]
    },
    {
     "name": "stdout",
     "output_type": "stream",
     "text": [
      "Early stopping, best iteration is:\n",
      "[239]\ttraining's l1: 612029\tvalid_1's l1: 3.57172e+06\n",
      "Training until validation scores don't improve for 5 rounds\n"
     ]
    },
    {
     "name": "stderr",
     "output_type": "stream",
     "text": [
      "\u001b[32m[I 2021-01-03 18:11:42,103]\u001b[0m Trial 580 finished with value: 3721600.8109082775 and parameters: {'nleaves': 37, 'bagfrac': 0.9060783505743545, 'bagfreq': 1, 'featfrac': 0.8653645605067096, 'lambda_l1': 1.4757783778395936e-06, 'lambda_l2': 3.984411280554248, 'minchild': 10}. Best is trial 496 with value: 3511896.0883319825.\u001b[0m\n"
     ]
    },
    {
     "name": "stdout",
     "output_type": "stream",
     "text": [
      "Early stopping, best iteration is:\n",
      "[257]\ttraining's l1: 635422\tvalid_1's l1: 3.7216e+06\n",
      "Training until validation scores don't improve for 5 rounds\n"
     ]
    },
    {
     "name": "stderr",
     "output_type": "stream",
     "text": [
      "\u001b[32m[I 2021-01-03 18:11:43,815]\u001b[0m Trial 581 finished with value: 3653474.4685872635 and parameters: {'nleaves': 43, 'bagfrac': 0.9012307710542918, 'bagfreq': 2, 'featfrac': 0.8727487428991874, 'lambda_l1': 2.1041465939650134e-05, 'lambda_l2': 6.332629786805743, 'minchild': 11}. Best is trial 496 with value: 3511896.0883319825.\u001b[0m\n"
     ]
    },
    {
     "name": "stdout",
     "output_type": "stream",
     "text": [
      "Early stopping, best iteration is:\n",
      "[304]\ttraining's l1: 414073\tvalid_1's l1: 3.65347e+06\n",
      "Training until validation scores don't improve for 5 rounds\n"
     ]
    },
    {
     "name": "stderr",
     "output_type": "stream",
     "text": [
      "\u001b[32m[I 2021-01-03 18:11:44,967]\u001b[0m Trial 582 finished with value: 3690212.9960063337 and parameters: {'nleaves': 48, 'bagfrac': 0.912313219431616, 'bagfreq': 2, 'featfrac': 0.8700302863742899, 'lambda_l1': 2.548347799513467e-06, 'lambda_l2': 7.284184348087064, 'minchild': 9}. Best is trial 496 with value: 3511896.0883319825.\u001b[0m\n"
     ]
    },
    {
     "name": "stdout",
     "output_type": "stream",
     "text": [
      "Early stopping, best iteration is:\n",
      "[165]\ttraining's l1: 834825\tvalid_1's l1: 3.69021e+06\n",
      "Training until validation scores don't improve for 5 rounds\n"
     ]
    },
    {
     "name": "stderr",
     "output_type": "stream",
     "text": [
      "\u001b[32m[I 2021-01-03 18:11:46,219]\u001b[0m Trial 583 finished with value: 3679064.1437382107 and parameters: {'nleaves': 33, 'bagfrac': 0.914319488190147, 'bagfreq': 2, 'featfrac': 0.8646946244056604, 'lambda_l1': 1.229728387468189e-06, 'lambda_l2': 2.9379251234452624, 'minchild': 7}. Best is trial 496 with value: 3511896.0883319825.\u001b[0m\n"
     ]
    },
    {
     "name": "stdout",
     "output_type": "stream",
     "text": [
      "Early stopping, best iteration is:\n",
      "[281]\ttraining's l1: 667295\tvalid_1's l1: 3.67906e+06\n",
      "Training until validation scores don't improve for 5 rounds\n"
     ]
    },
    {
     "name": "stderr",
     "output_type": "stream",
     "text": [
      "\u001b[32m[I 2021-01-03 18:11:47,331]\u001b[0m Trial 584 finished with value: 3741523.2724015773 and parameters: {'nleaves': 44, 'bagfrac': 0.9043885024747302, 'bagfreq': 2, 'featfrac': 0.8732332444165252, 'lambda_l1': 1.5876381617940753e-06, 'lambda_l2': 4.4909092887993705, 'minchild': 12}. Best is trial 496 with value: 3511896.0883319825.\u001b[0m\n"
     ]
    },
    {
     "name": "stdout",
     "output_type": "stream",
     "text": [
      "Early stopping, best iteration is:\n",
      "[177]\ttraining's l1: 837423\tvalid_1's l1: 3.74152e+06\n",
      "Training until validation scores don't improve for 5 rounds\n"
     ]
    },
    {
     "name": "stderr",
     "output_type": "stream",
     "text": [
      "\u001b[32m[I 2021-01-03 18:11:48,761]\u001b[0m Trial 585 finished with value: 3687389.376317654 and parameters: {'nleaves': 40, 'bagfrac': 0.9171418544779019, 'bagfreq': 2, 'featfrac': 0.8940337390237186, 'lambda_l1': 1.1591601855504174e-06, 'lambda_l2': 0.023540205317215904, 'minchild': 5}. Best is trial 496 with value: 3511896.0883319825.\u001b[0m\n"
     ]
    },
    {
     "name": "stdout",
     "output_type": "stream",
     "text": [
      "Early stopping, best iteration is:\n",
      "[238]\ttraining's l1: 531080\tvalid_1's l1: 3.68739e+06\n",
      "Training until validation scores don't improve for 5 rounds\n"
     ]
    },
    {
     "name": "stderr",
     "output_type": "stream",
     "text": [
      "\u001b[32m[I 2021-01-03 18:11:50,009]\u001b[0m Trial 586 finished with value: 3764129.973339612 and parameters: {'nleaves': 32, 'bagfrac': 0.9093814627961841, 'bagfreq': 2, 'featfrac': 0.8614676789118736, 'lambda_l1': 1.8576859164129724e-06, 'lambda_l2': 6.072742886692797, 'minchild': 10}. Best is trial 496 with value: 3511896.0883319825.\u001b[0m\n"
     ]
    },
    {
     "name": "stdout",
     "output_type": "stream",
     "text": [
      "Early stopping, best iteration is:\n",
      "[298]\ttraining's l1: 695579\tvalid_1's l1: 3.76413e+06\n",
      "Training until validation scores don't improve for 5 rounds\n"
     ]
    },
    {
     "name": "stderr",
     "output_type": "stream",
     "text": [
      "\u001b[32m[I 2021-01-03 18:11:52,026]\u001b[0m Trial 587 finished with value: 3821045.954132048 and parameters: {'nleaves': 109, 'bagfrac': 0.8902668835286929, 'bagfreq': 1, 'featfrac': 0.8818825223363699, 'lambda_l1': 6.883130817465899e-05, 'lambda_l2': 7.307371630859268, 'minchild': 8}. Best is trial 496 with value: 3511896.0883319825.\u001b[0m\n"
     ]
    },
    {
     "name": "stdout",
     "output_type": "stream",
     "text": [
      "Early stopping, best iteration is:\n",
      "[163]\ttraining's l1: 229788\tvalid_1's l1: 3.82105e+06\n",
      "Training until validation scores don't improve for 5 rounds\n"
     ]
    },
    {
     "name": "stderr",
     "output_type": "stream",
     "text": [
      "\u001b[32m[I 2021-01-03 18:11:54,336]\u001b[0m Trial 588 finished with value: 3650904.581567093 and parameters: {'nleaves': 45, 'bagfrac': 0.8965645223045852, 'bagfreq': 2, 'featfrac': 0.8629489185514282, 'lambda_l1': 1.515710953383828e-06, 'lambda_l2': 3.5729682189891188, 'minchild': 3}. Best is trial 496 with value: 3511896.0883319825.\u001b[0m\n"
     ]
    },
    {
     "name": "stdout",
     "output_type": "stream",
     "text": [
      "Early stopping, best iteration is:\n",
      "[361]\ttraining's l1: 227886\tvalid_1's l1: 3.6509e+06\n",
      "Training until validation scores don't improve for 5 rounds\n"
     ]
    },
    {
     "name": "stderr",
     "output_type": "stream",
     "text": [
      "\u001b[32m[I 2021-01-03 18:11:55,911]\u001b[0m Trial 589 finished with value: 3642938.015599434 and parameters: {'nleaves': 41, 'bagfrac': 0.9193613381644532, 'bagfreq': 2, 'featfrac': 0.8683535334337147, 'lambda_l1': 1.4051879191656411e-06, 'lambda_l2': 5.2539490421011195, 'minchild': 6}. Best is trial 496 with value: 3511896.0883319825.\u001b[0m\n"
     ]
    },
    {
     "name": "stdout",
     "output_type": "stream",
     "text": [
      "Early stopping, best iteration is:\n",
      "[284]\ttraining's l1: 485777\tvalid_1's l1: 3.64294e+06\n",
      "Training until validation scores don't improve for 5 rounds\n"
     ]
    },
    {
     "name": "stderr",
     "output_type": "stream",
     "text": [
      "\u001b[32m[I 2021-01-03 18:11:57,215]\u001b[0m Trial 590 finished with value: 3721983.768672236 and parameters: {'nleaves': 36, 'bagfrac': 0.9143928651334705, 'bagfreq': 2, 'featfrac': 0.8759429977053906, 'lambda_l1': 1.0978748459194996e-06, 'lambda_l2': 0.0005843776468312669, 'minchild': 1}. Best is trial 496 with value: 3511896.0883319825.\u001b[0m\n"
     ]
    },
    {
     "name": "stdout",
     "output_type": "stream",
     "text": [
      "Early stopping, best iteration is:\n",
      "[223]\ttraining's l1: 718729\tvalid_1's l1: 3.72198e+06\n",
      "Training until validation scores don't improve for 5 rounds\n"
     ]
    },
    {
     "name": "stderr",
     "output_type": "stream",
     "text": [
      "\u001b[32m[I 2021-01-03 18:11:58,381]\u001b[0m Trial 591 finished with value: 3755879.9169437657 and parameters: {'nleaves': 52, 'bagfrac': 0.9071329857613571, 'bagfreq': 2, 'featfrac': 0.8579782399282236, 'lambda_l1': 1.9005658625662914e-06, 'lambda_l2': 7.6257224595063295, 'minchild': 11}. Best is trial 496 with value: 3511896.0883319825.\u001b[0m\n"
     ]
    },
    {
     "name": "stdout",
     "output_type": "stream",
     "text": [
      "Early stopping, best iteration is:\n",
      "[161]\ttraining's l1: 798451\tvalid_1's l1: 3.75588e+06\n",
      "Training until validation scores don't improve for 5 rounds\n"
     ]
    },
    {
     "name": "stderr",
     "output_type": "stream",
     "text": [
      "\u001b[32m[I 2021-01-03 18:12:00,201]\u001b[0m Trial 592 finished with value: 3700819.797018477 and parameters: {'nleaves': 58, 'bagfrac': 0.9199907972700957, 'bagfreq': 1, 'featfrac': 0.887560204569124, 'lambda_l1': 1.143564783530915e-06, 'lambda_l2': 1.5993200143215005, 'minchild': 5}. Best is trial 496 with value: 3511896.0883319825.\u001b[0m\n"
     ]
    },
    {
     "name": "stdout",
     "output_type": "stream",
     "text": [
      "Early stopping, best iteration is:\n",
      "[214]\ttraining's l1: 334607\tvalid_1's l1: 3.70082e+06\n",
      "Training until validation scores don't improve for 5 rounds\n"
     ]
    },
    {
     "name": "stderr",
     "output_type": "stream",
     "text": [
      "\u001b[32m[I 2021-01-03 18:12:01,733]\u001b[0m Trial 593 finished with value: 3699131.4542080075 and parameters: {'nleaves': 49, 'bagfrac': 0.9123670560708659, 'bagfreq': 2, 'featfrac': 0.8099077055383456, 'lambda_l1': 1.8686879732980265e-06, 'lambda_l2': 4.584126192600787, 'minchild': 9}. Best is trial 496 with value: 3511896.0883319825.\u001b[0m\n"
     ]
    },
    {
     "name": "stdout",
     "output_type": "stream",
     "text": [
      "Early stopping, best iteration is:\n",
      "[255]\ttraining's l1: 411735\tvalid_1's l1: 3.69913e+06\n",
      "Training until validation scores don't improve for 5 rounds\n"
     ]
    },
    {
     "name": "stderr",
     "output_type": "stream",
     "text": [
      "\u001b[32m[I 2021-01-03 18:12:03,173]\u001b[0m Trial 594 finished with value: 3631140.315203238 and parameters: {'nleaves': 58, 'bagfrac': 0.9234887230528754, 'bagfreq': 2, 'featfrac': 0.8629825189463824, 'lambda_l1': 3.522805811031843e-06, 'lambda_l2': 7.352504499675287, 'minchild': 3}. Best is trial 496 with value: 3511896.0883319825.\u001b[0m\n"
     ]
    },
    {
     "name": "stdout",
     "output_type": "stream",
     "text": [
      "Early stopping, best iteration is:\n",
      "[150]\ttraining's l1: 724458\tvalid_1's l1: 3.63114e+06\n",
      "Training until validation scores don't improve for 5 rounds\n"
     ]
    },
    {
     "name": "stderr",
     "output_type": "stream",
     "text": [
      "\u001b[32m[I 2021-01-03 18:12:05,545]\u001b[0m Trial 595 finished with value: 3701641.947183372 and parameters: {'nleaves': 80, 'bagfrac': 0.901558258832808, 'bagfreq': 2, 'featfrac': 0.8714697798923784, 'lambda_l1': 2.7154257740173023e-05, 'lambda_l2': 3.3023454219365784, 'minchild': 7}. Best is trial 496 with value: 3511896.0883319825.\u001b[0m\n"
     ]
    },
    {
     "name": "stdout",
     "output_type": "stream",
     "text": [
      "Early stopping, best iteration is:\n",
      "[232]\ttraining's l1: 151196\tvalid_1's l1: 3.70164e+06\n",
      "Training until validation scores don't improve for 5 rounds\n"
     ]
    },
    {
     "name": "stderr",
     "output_type": "stream",
     "text": [
      "\u001b[32m[I 2021-01-03 18:12:07,039]\u001b[0m Trial 596 finished with value: 3595633.209803304 and parameters: {'nleaves': 54, 'bagfrac': 0.9156222384492128, 'bagfreq': 2, 'featfrac': 0.8000963619833416, 'lambda_l1': 2.017838031247817e-06, 'lambda_l2': 5.995637721431087, 'minchild': 12}. Best is trial 496 with value: 3511896.0883319825.\u001b[0m\n"
     ]
    },
    {
     "name": "stdout",
     "output_type": "stream",
     "text": [
      "Early stopping, best iteration is:\n",
      "[232]\ttraining's l1: 429441\tvalid_1's l1: 3.59563e+06\n",
      "Training until validation scores don't improve for 5 rounds\n"
     ]
    },
    {
     "name": "stderr",
     "output_type": "stream",
     "text": [
      "\u001b[32m[I 2021-01-03 18:12:11,748]\u001b[0m Trial 597 finished with value: 3769868.9033009666 and parameters: {'nleaves': 133, 'bagfrac': 0.922884686999023, 'bagfreq': 2, 'featfrac': 0.7888785227804886, 'lambda_l1': 4.871709101979e-05, 'lambda_l2': 7.812771277766676, 'minchild': 1}. Best is trial 496 with value: 3511896.0883319825.\u001b[0m\n"
     ]
    },
    {
     "name": "stdout",
     "output_type": "stream",
     "text": [
      "Early stopping, best iteration is:\n",
      "[191]\ttraining's l1: 93783.3\tvalid_1's l1: 3.76987e+06\n",
      "Training until validation scores don't improve for 5 rounds\n"
     ]
    },
    {
     "name": "stderr",
     "output_type": "stream",
     "text": [
      "\u001b[32m[I 2021-01-03 18:12:13,022]\u001b[0m Trial 598 finished with value: 3736165.463987599 and parameters: {'nleaves': 47, 'bagfrac': 0.9063127638973689, 'bagfreq': 2, 'featfrac': 0.8781636540829075, 'lambda_l1': 0.00010905127435366969, 'lambda_l2': 9.745895444876775, 'minchild': 5}. Best is trial 496 with value: 3511896.0883319825.\u001b[0m\n"
     ]
    },
    {
     "name": "stdout",
     "output_type": "stream",
     "text": [
      "Early stopping, best iteration is:\n",
      "[172]\ttraining's l1: 869482\tvalid_1's l1: 3.73617e+06\n",
      "Training until validation scores don't improve for 5 rounds\n"
     ]
    },
    {
     "name": "stderr",
     "output_type": "stream",
     "text": [
      "\u001b[32m[I 2021-01-03 18:12:14,334]\u001b[0m Trial 599 finished with value: 3675151.7368017277 and parameters: {'nleaves': 62, 'bagfrac': 0.9117795472641602, 'bagfreq': 2, 'featfrac': 0.8574225654531512, 'lambda_l1': 1.0736597744417402, 'lambda_l2': 9.812947320385707, 'minchild': 8}. Best is trial 496 with value: 3511896.0883319825.\u001b[0m\n"
     ]
    },
    {
     "name": "stdout",
     "output_type": "stream",
     "text": [
      "Early stopping, best iteration is:\n",
      "[146]\ttraining's l1: 735689\tvalid_1's l1: 3.67515e+06\n",
      "Training until validation scores don't improve for 5 rounds\n"
     ]
    },
    {
     "name": "stderr",
     "output_type": "stream",
     "text": [
      "\u001b[32m[I 2021-01-03 18:12:16,249]\u001b[0m Trial 600 finished with value: 3771447.6349856355 and parameters: {'nleaves': 43, 'bagfrac': 0.8304119093793584, 'bagfreq': 1, 'featfrac': 0.8658000970408818, 'lambda_l1': 5.248288371475953e-06, 'lambda_l2': 2.476464145018395, 'minchild': 3}. Best is trial 496 with value: 3511896.0883319825.\u001b[0m\n"
     ]
    },
    {
     "name": "stdout",
     "output_type": "stream",
     "text": [
      "Early stopping, best iteration is:\n",
      "[314]\ttraining's l1: 318618\tvalid_1's l1: 3.77145e+06\n",
      "Training until validation scores don't improve for 5 rounds\n"
     ]
    },
    {
     "name": "stderr",
     "output_type": "stream",
     "text": [
      "\u001b[32m[I 2021-01-03 18:12:18,253]\u001b[0m Trial 601 finished with value: 3823517.014036441 and parameters: {'nleaves': 90, 'bagfrac': 0.9209724308322019, 'bagfreq': 2, 'featfrac': 0.8056907250401082, 'lambda_l1': 1.2410520033098267e-05, 'lambda_l2': 4.835519859768197, 'minchild': 10}. Best is trial 496 with value: 3511896.0883319825.\u001b[0m\n"
     ]
    },
    {
     "name": "stdout",
     "output_type": "stream",
     "text": [
      "Early stopping, best iteration is:\n",
      "[194]\ttraining's l1: 208467\tvalid_1's l1: 3.82352e+06\n",
      "Training until validation scores don't improve for 5 rounds\n"
     ]
    },
    {
     "name": "stderr",
     "output_type": "stream",
     "text": [
      "\u001b[32m[I 2021-01-03 18:12:20,064]\u001b[0m Trial 602 finished with value: 3595694.7320834133 and parameters: {'nleaves': 70, 'bagfrac': 0.9259299128061859, 'bagfreq': 3, 'featfrac': 0.8576621074496542, 'lambda_l1': 8.937963971993912e-05, 'lambda_l2': 5.864278723739831, 'minchild': 13}. Best is trial 496 with value: 3511896.0883319825.\u001b[0m\n"
     ]
    },
    {
     "name": "stdout",
     "output_type": "stream",
     "text": [
      "Early stopping, best iteration is:\n",
      "[179]\ttraining's l1: 414723\tvalid_1's l1: 3.59569e+06\n",
      "Training until validation scores don't improve for 5 rounds\n"
     ]
    },
    {
     "name": "stderr",
     "output_type": "stream",
     "text": [
      "\u001b[32m[I 2021-01-03 18:12:21,881]\u001b[0m Trial 603 finished with value: 3656378.4717637417 and parameters: {'nleaves': 76, 'bagfrac': 0.7898786872900528, 'bagfreq': 2, 'featfrac': 0.8713319896142627, 'lambda_l1': 6.073404097740155e-05, 'lambda_l2': 9.906148981477306, 'minchild': 5}. Best is trial 496 with value: 3511896.0883319825.\u001b[0m\n"
     ]
    },
    {
     "name": "stdout",
     "output_type": "stream",
     "text": [
      "Early stopping, best iteration is:\n",
      "[171]\ttraining's l1: 463430\tvalid_1's l1: 3.65638e+06\n",
      "Training until validation scores don't improve for 5 rounds\n"
     ]
    },
    {
     "name": "stderr",
     "output_type": "stream",
     "text": [
      "\u001b[32m[I 2021-01-03 18:12:23,620]\u001b[0m Trial 604 finished with value: 3634714.619042912 and parameters: {'nleaves': 59, 'bagfrac': 0.9177954960757636, 'bagfreq': 2, 'featfrac': 0.8660781839415328, 'lambda_l1': 0.00014783261288240987, 'lambda_l2': 3.9015722218427773, 'minchild': 1}. Best is trial 496 with value: 3511896.0883319825.\u001b[0m\n"
     ]
    },
    {
     "name": "stdout",
     "output_type": "stream",
     "text": [
      "Early stopping, best iteration is:\n",
      "[168]\ttraining's l1: 548916\tvalid_1's l1: 3.63471e+06\n",
      "Training until validation scores don't improve for 5 rounds\n"
     ]
    },
    {
     "name": "stderr",
     "output_type": "stream",
     "text": [
      "\u001b[32m[I 2021-01-03 18:12:24,990]\u001b[0m Trial 605 finished with value: 3771837.8308817754 and parameters: {'nleaves': 53, 'bagfrac': 0.8973501161868531, 'bagfreq': 2, 'featfrac': 0.884073777353874, 'lambda_l1': 0.00013937695581947397, 'lambda_l2': 7.216347972355346, 'minchild': 7}. Best is trial 496 with value: 3511896.0883319825.\u001b[0m\n"
     ]
    },
    {
     "name": "stdout",
     "output_type": "stream",
     "text": [
      "Early stopping, best iteration is:\n",
      "[168]\ttraining's l1: 705035\tvalid_1's l1: 3.77184e+06\n",
      "Training until validation scores don't improve for 5 rounds\n"
     ]
    },
    {
     "name": "stderr",
     "output_type": "stream",
     "text": [
      "\u001b[32m[I 2021-01-03 18:12:26,577]\u001b[0m Trial 606 finished with value: 3703079.0325187035 and parameters: {'nleaves': 65, 'bagfrac': 0.9129752856502465, 'bagfreq': 2, 'featfrac': 0.8130804750910867, 'lambda_l1': 1.0452259924705268e-06, 'lambda_l2': 3.127078625915438, 'minchild': 3}. Best is trial 496 with value: 3511896.0883319825.\u001b[0m\n"
     ]
    },
    {
     "name": "stdout",
     "output_type": "stream",
     "text": [
      "Early stopping, best iteration is:\n",
      "[170]\ttraining's l1: 440432\tvalid_1's l1: 3.70308e+06\n",
      "Training until validation scores don't improve for 5 rounds\n"
     ]
    },
    {
     "name": "stderr",
     "output_type": "stream",
     "text": [
      "\u001b[32m[I 2021-01-03 18:12:28,136]\u001b[0m Trial 607 finished with value: 3649090.46539023 and parameters: {'nleaves': 57, 'bagfrac': 0.9269920738786508, 'bagfreq': 3, 'featfrac': 0.9878704939096128, 'lambda_l1': 6.149515468777762e-05, 'lambda_l2': 9.851282522372417, 'minchild': 11}. Best is trial 496 with value: 3511896.0883319825.\u001b[0m\n"
     ]
    },
    {
     "name": "stdout",
     "output_type": "stream",
     "text": [
      "Early stopping, best iteration is:\n",
      "[201]\ttraining's l1: 530182\tvalid_1's l1: 3.64909e+06\n",
      "Training until validation scores don't improve for 5 rounds\n"
     ]
    },
    {
     "name": "stderr",
     "output_type": "stream",
     "text": [
      "\u001b[32m[I 2021-01-03 18:12:30,024]\u001b[0m Trial 608 finished with value: 3686709.616350372 and parameters: {'nleaves': 50, 'bagfrac': 0.9064614329625827, 'bagfreq': 1, 'featfrac': 0.7922691069674237, 'lambda_l1': 1.0450160215564205e-06, 'lambda_l2': 9.94269475951072, 'minchild': 5}. Best is trial 496 with value: 3511896.0883319825.\u001b[0m\n"
     ]
    },
    {
     "name": "stdout",
     "output_type": "stream",
     "text": [
      "Early stopping, best iteration is:\n",
      "[284]\ttraining's l1: 375211\tvalid_1's l1: 3.68671e+06\n",
      "Training until validation scores don't improve for 5 rounds\n"
     ]
    },
    {
     "name": "stderr",
     "output_type": "stream",
     "text": [
      "\u001b[32m[I 2021-01-03 18:12:31,502]\u001b[0m Trial 609 finished with value: 3705903.6158465343 and parameters: {'nleaves': 64, 'bagfrac': 0.918540796466278, 'bagfreq': 2, 'featfrac': 0.854261807870948, 'lambda_l1': 1.0367107466040575e-06, 'lambda_l2': 5.239977265124319, 'minchild': 9}. Best is trial 496 with value: 3511896.0883319825.\u001b[0m\n"
     ]
    },
    {
     "name": "stdout",
     "output_type": "stream",
     "text": [
      "Early stopping, best iteration is:\n",
      "[177]\ttraining's l1: 474264\tvalid_1's l1: 3.7059e+06\n",
      "Training until validation scores don't improve for 5 rounds\n"
     ]
    },
    {
     "name": "stderr",
     "output_type": "stream",
     "text": [
      "\u001b[32m[I 2021-01-03 18:12:32,977]\u001b[0m Trial 610 finished with value: 3737011.5876773023 and parameters: {'nleaves': 39, 'bagfrac': 0.846869597120066, 'bagfreq': 2, 'featfrac': 0.8030161888674252, 'lambda_l1': 3.842879694700259e-05, 'lambda_l2': 7.357331366131313, 'minchild': 1}. Best is trial 496 with value: 3511896.0883319825.\u001b[0m\n"
     ]
    },
    {
     "name": "stdout",
     "output_type": "stream",
     "text": [
      "Early stopping, best iteration is:\n",
      "[235]\ttraining's l1: 725027\tvalid_1's l1: 3.73701e+06\n",
      "Training until validation scores don't improve for 5 rounds\n"
     ]
    },
    {
     "name": "stderr",
     "output_type": "stream",
     "text": [
      "\u001b[32m[I 2021-01-03 18:12:34,971]\u001b[0m Trial 611 finished with value: 3595812.8797212797 and parameters: {'nleaves': 83, 'bagfrac': 0.9289955912831089, 'bagfreq': 2, 'featfrac': 0.8597435903269208, 'lambda_l1': 8.965667060747134e-05, 'lambda_l2': 4.44052826575087, 'minchild': 3}. Best is trial 496 with value: 3511896.0883319825.\u001b[0m\n"
     ]
    },
    {
     "name": "stdout",
     "output_type": "stream",
     "text": [
      "Early stopping, best iteration is:\n",
      "[168]\ttraining's l1: 294512\tvalid_1's l1: 3.59581e+06\n",
      "Training until validation scores don't improve for 5 rounds\n"
     ]
    },
    {
     "name": "stderr",
     "output_type": "stream",
     "text": [
      "\u001b[32m[I 2021-01-03 18:12:36,542]\u001b[0m Trial 612 finished with value: 3706610.571077512 and parameters: {'nleaves': 74, 'bagfrac': 0.9109276891185463, 'bagfreq': 4, 'featfrac': 0.8170867338552438, 'lambda_l1': 1.6988384309324002e-05, 'lambda_l2': 6.075806072705338, 'minchild': 7}. Best is trial 496 with value: 3511896.0883319825.\u001b[0m\n"
     ]
    },
    {
     "name": "stdout",
     "output_type": "stream",
     "text": [
      "Early stopping, best iteration is:\n",
      "[161]\ttraining's l1: 453557\tvalid_1's l1: 3.70661e+06\n",
      "Training until validation scores don't improve for 5 rounds\n"
     ]
    },
    {
     "name": "stderr",
     "output_type": "stream",
     "text": [
      "\u001b[32m[I 2021-01-03 18:12:37,302]\u001b[0m Trial 613 finished with value: 3778285.9742817264 and parameters: {'nleaves': 70, 'bagfrac': 0.9208189875728082, 'bagfreq': 2, 'featfrac': 0.8754730714368952, 'lambda_l1': 0.00018499946250632215, 'lambda_l2': 9.834765455486917, 'minchild': 100}. Best is trial 496 with value: 3511896.0883319825.\u001b[0m\n"
     ]
    },
    {
     "name": "stdout",
     "output_type": "stream",
     "text": [
      "Early stopping, best iteration is:\n",
      "[266]\ttraining's l1: 1.53103e+06\tvalid_1's l1: 3.77829e+06\n",
      "Training until validation scores don't improve for 5 rounds\n"
     ]
    },
    {
     "name": "stderr",
     "output_type": "stream",
     "text": [
      "\u001b[32m[I 2021-01-03 18:12:38,728]\u001b[0m Trial 614 finished with value: 3631767.611572914 and parameters: {'nleaves': 45, 'bagfrac': 0.8881002031763849, 'bagfreq': 2, 'featfrac': 0.8693761842746369, 'lambda_l1': 0.0001003512790518442, 'lambda_l2': 9.988821962161143, 'minchild': 5}. Best is trial 496 with value: 3511896.0883319825.\u001b[0m\n"
     ]
    },
    {
     "name": "stdout",
     "output_type": "stream",
     "text": [
      "Early stopping, best iteration is:\n",
      "[214]\ttraining's l1: 679422\tvalid_1's l1: 3.63177e+06\n",
      "Training until validation scores don't improve for 5 rounds\n"
     ]
    },
    {
     "name": "stderr",
     "output_type": "stream",
     "text": [
      "\u001b[32m[I 2021-01-03 18:12:40,045]\u001b[0m Trial 615 finished with value: 3604930.8707219334 and parameters: {'nleaves': 62, 'bagfrac': 0.9022589772137285, 'bagfreq': 2, 'featfrac': 0.8542709526396779, 'lambda_l1': 5.589851177820437e-05, 'lambda_l2': 2.266931310078189, 'minchild': 13}. Best is trial 496 with value: 3511896.0883319825.\u001b[0m\n"
     ]
    },
    {
     "name": "stdout",
     "output_type": "stream",
     "text": [
      "Early stopping, best iteration is:\n",
      "[162]\ttraining's l1: 532243\tvalid_1's l1: 3.60493e+06\n",
      "Training until validation scores don't improve for 5 rounds\n"
     ]
    },
    {
     "name": "stderr",
     "output_type": "stream",
     "text": [
      "\u001b[32m[I 2021-01-03 18:12:42,153]\u001b[0m Trial 616 finished with value: 3745276.0938218744 and parameters: {'nleaves': 56, 'bagfrac': 0.9154668340415485, 'bagfreq': 2, 'featfrac': 0.8095433408114507, 'lambda_l1': 2.7318621946584107e-05, 'lambda_l2': 4.097746230899911, 'minchild': 1}. Best is trial 496 with value: 3511896.0883319825.\u001b[0m\n"
     ]
    },
    {
     "name": "stdout",
     "output_type": "stream",
     "text": [
      "Early stopping, best iteration is:\n",
      "[253]\ttraining's l1: 306950\tvalid_1's l1: 3.74528e+06\n",
      "Training until validation scores don't improve for 5 rounds\n"
     ]
    },
    {
     "name": "stderr",
     "output_type": "stream",
     "text": [
      "\u001b[32m[I 2021-01-03 18:12:43,921]\u001b[0m Trial 617 finished with value: 3767278.823803992 and parameters: {'nleaves': 66, 'bagfrac': 0.8622380203977608, 'bagfreq': 3, 'featfrac': 0.8622631932826225, 'lambda_l1': 0.00011479278599969517, 'lambda_l2': 7.756331365809258, 'minchild': 9}. Best is trial 496 with value: 3511896.0883319825.\u001b[0m\n"
     ]
    },
    {
     "name": "stdout",
     "output_type": "stream",
     "text": [
      "Early stopping, best iteration is:\n",
      "[201]\ttraining's l1: 401342\tvalid_1's l1: 3.76728e+06\n",
      "Training until validation scores don't improve for 5 rounds\n"
     ]
    },
    {
     "name": "stderr",
     "output_type": "stream",
     "text": [
      "\u001b[32m[I 2021-01-03 18:12:45,828]\u001b[0m Trial 618 finished with value: 3627624.0612017373 and parameters: {'nleaves': 51, 'bagfrac': 0.9244085502573819, 'bagfreq': 2, 'featfrac': 0.8193302198393695, 'lambda_l1': 0.00016537825471161857, 'lambda_l2': 5.869872681726667, 'minchild': 4}. Best is trial 496 with value: 3511896.0883319825.\u001b[0m\n"
     ]
    },
    {
     "name": "stdout",
     "output_type": "stream",
     "text": [
      "Early stopping, best iteration is:\n",
      "[274]\ttraining's l1: 340526\tvalid_1's l1: 3.62762e+06\n",
      "Training until validation scores don't improve for 5 rounds\n"
     ]
    },
    {
     "name": "stderr",
     "output_type": "stream",
     "text": [
      "\u001b[32m[I 2021-01-03 18:12:47,779]\u001b[0m Trial 619 finished with value: 3658340.490999392 and parameters: {'nleaves': 59, 'bagfrac': 0.9304447260250285, 'bagfreq': 1, 'featfrac': 0.8015533956966508, 'lambda_l1': 7.555317307823305e-05, 'lambda_l2': 9.994854260599123, 'minchild': 11}. Best is trial 496 with value: 3511896.0883319825.\u001b[0m\n"
     ]
    },
    {
     "name": "stdout",
     "output_type": "stream",
     "text": [
      "Early stopping, best iteration is:\n",
      "[292]\ttraining's l1: 265480\tvalid_1's l1: 3.65834e+06\n",
      "Training until validation scores don't improve for 5 rounds\n"
     ]
    },
    {
     "name": "stderr",
     "output_type": "stream",
     "text": [
      "\u001b[32m[I 2021-01-03 18:12:48,474]\u001b[0m Trial 620 finished with value: 3884604.537264346 and parameters: {'nleaves': 69, 'bagfrac': 0.908039287510803, 'bagfreq': 7, 'featfrac': 0.890682305424771, 'lambda_l1': 0.0010796810119653476, 'lambda_l2': 2.8634199370011255, 'minchild': 82}. Best is trial 496 with value: 3511896.0883319825.\u001b[0m\n"
     ]
    },
    {
     "name": "stdout",
     "output_type": "stream",
     "text": [
      "Early stopping, best iteration is:\n",
      "[188]\ttraining's l1: 1.62471e+06\tvalid_1's l1: 3.8846e+06\n",
      "Training until validation scores don't improve for 5 rounds\n"
     ]
    },
    {
     "name": "stderr",
     "output_type": "stream",
     "text": [
      "\u001b[32m[I 2021-01-03 18:12:50,194]\u001b[0m Trial 621 finished with value: 3566915.883081589 and parameters: {'nleaves': 46, 'bagfrac': 0.9199277843627769, 'bagfreq': 2, 'featfrac': 0.8803061321369968, 'lambda_l1': 0.00020751088024058476, 'lambda_l2': 7.3260631782613, 'minchild': 7}. Best is trial 496 with value: 3511896.0883319825.\u001b[0m\n"
     ]
    },
    {
     "name": "stdout",
     "output_type": "stream",
     "text": [
      "Early stopping, best iteration is:\n",
      "[250]\ttraining's l1: 504490\tvalid_1's l1: 3.56692e+06\n",
      "Training until validation scores don't improve for 5 rounds\n"
     ]
    },
    {
     "name": "stderr",
     "output_type": "stream",
     "text": [
      "\u001b[32m[I 2021-01-03 18:12:51,784]\u001b[0m Trial 622 finished with value: 3708827.984339763 and parameters: {'nleaves': 36, 'bagfrac': 0.9216368219707765, 'bagfreq': 2, 'featfrac': 0.8839237843049716, 'lambda_l1': 0.0002584304616545617, 'lambda_l2': 4.336471031867805, 'minchild': 3}. Best is trial 496 with value: 3511896.0883319825.\u001b[0m\n"
     ]
    },
    {
     "name": "stdout",
     "output_type": "stream",
     "text": [
      "Early stopping, best iteration is:\n",
      "[289]\ttraining's l1: 560049\tvalid_1's l1: 3.70883e+06\n",
      "Training until validation scores don't improve for 5 rounds\n"
     ]
    },
    {
     "name": "stderr",
     "output_type": "stream",
     "text": [
      "\u001b[32m[I 2021-01-03 18:12:53,009]\u001b[0m Trial 623 finished with value: 3706821.6858047564 and parameters: {'nleaves': 44, 'bagfrac': 0.9272685821404257, 'bagfreq': 2, 'featfrac': 0.8791552875590914, 'lambda_l1': 4.1417103359058955e-05, 'lambda_l2': 6.229649468197822, 'minchild': 7}. Best is trial 496 with value: 3511896.0883319825.\u001b[0m\n"
     ]
    },
    {
     "name": "stdout",
     "output_type": "stream",
     "text": [
      "Early stopping, best iteration is:\n",
      "[189]\ttraining's l1: 782178\tvalid_1's l1: 3.70682e+06\n",
      "Training until validation scores don't improve for 5 rounds\n"
     ]
    },
    {
     "name": "stderr",
     "output_type": "stream",
     "text": [
      "\u001b[32m[I 2021-01-03 18:12:54,092]\u001b[0m Trial 624 finished with value: 3719589.0916083734 and parameters: {'nleaves': 45, 'bagfrac': 0.9168374335232358, 'bagfreq': 2, 'featfrac': 0.8792453130900443, 'lambda_l1': 0.00013029201609687365, 'lambda_l2': 3.544716034176079, 'minchild': 6}. Best is trial 496 with value: 3511896.0883319825.\u001b[0m\n"
     ]
    },
    {
     "name": "stdout",
     "output_type": "stream",
     "text": [
      "Early stopping, best iteration is:\n",
      "[154]\ttraining's l1: 921981\tvalid_1's l1: 3.71959e+06\n",
      "Training until validation scores don't improve for 5 rounds\n"
     ]
    },
    {
     "name": "stderr",
     "output_type": "stream",
     "text": [
      "\u001b[32m[I 2021-01-03 18:12:55,720]\u001b[0m Trial 625 finished with value: 3763271.540412961 and parameters: {'nleaves': 40, 'bagfrac': 0.9220039143158365, 'bagfreq': 3, 'featfrac': 0.8823027414217244, 'lambda_l1': 1.0080311986182659e-06, 'lambda_l2': 5.494704974739242, 'minchild': 1}. Best is trial 496 with value: 3511896.0883319825.\u001b[0m\n"
     ]
    },
    {
     "name": "stdout",
     "output_type": "stream",
     "text": [
      "Early stopping, best iteration is:\n",
      "[255]\ttraining's l1: 589882\tvalid_1's l1: 3.76327e+06\n",
      "Training until validation scores don't improve for 5 rounds\n"
     ]
    },
    {
     "name": "stderr",
     "output_type": "stream",
     "text": [
      "\u001b[32m[I 2021-01-03 18:12:57,196]\u001b[0m Trial 626 finished with value: 3781721.420265848 and parameters: {'nleaves': 53, 'bagfrac': 0.9331655709414526, 'bagfreq': 2, 'featfrac': 0.8922006925887827, 'lambda_l1': 7.32380152466305e-05, 'lambda_l2': 7.0852443253833535, 'minchild': 4}. Best is trial 496 with value: 3511896.0883319825.\u001b[0m\n"
     ]
    },
    {
     "name": "stdout",
     "output_type": "stream",
     "text": [
      "Early stopping, best iteration is:\n",
      "[182]\ttraining's l1: 625660\tvalid_1's l1: 3.78172e+06\n",
      "Training until validation scores don't improve for 5 rounds\n"
     ]
    },
    {
     "name": "stderr",
     "output_type": "stream",
     "text": [
      "\u001b[32m[I 2021-01-03 18:12:59,239]\u001b[0m Trial 627 finished with value: 3645427.3023817926 and parameters: {'nleaves': 48, 'bagfrac': 0.9136795571987665, 'bagfreq': 2, 'featfrac': 0.8734639836526994, 'lambda_l1': 0.00021304749295018936, 'lambda_l2': 4.337583289548058, 'minchild': 6}. Best is trial 496 with value: 3511896.0883319825.\u001b[0m\n"
     ]
    },
    {
     "name": "stdout",
     "output_type": "stream",
     "text": [
      "Early stopping, best iteration is:\n",
      "[231]\ttraining's l1: 485941\tvalid_1's l1: 3.64543e+06\n",
      "Training until validation scores don't improve for 5 rounds\n"
     ]
    },
    {
     "name": "stderr",
     "output_type": "stream",
     "text": [
      "\u001b[32m[I 2021-01-03 18:13:00,573]\u001b[0m Trial 628 finished with value: 3723752.8018516265 and parameters: {'nleaves': 33, 'bagfrac': 0.9271438371596126, 'bagfreq': 1, 'featfrac': 0.8687329048931542, 'lambda_l1': 0.0001197223805335124, 'lambda_l2': 1.8052495454197688, 'minchild': 2}. Best is trial 496 with value: 3511896.0883319825.\u001b[0m\n"
     ]
    },
    {
     "name": "stdout",
     "output_type": "stream",
     "text": [
      "Early stopping, best iteration is:\n",
      "[260]\ttraining's l1: 706260\tvalid_1's l1: 3.72375e+06\n",
      "Training until validation scores don't improve for 5 rounds\n"
     ]
    },
    {
     "name": "stderr",
     "output_type": "stream",
     "text": [
      "\u001b[32m[I 2021-01-03 18:13:02,426]\u001b[0m Trial 629 finished with value: 3688208.663769127 and parameters: {'nleaves': 47, 'bagfrac': 0.9177533523785186, 'bagfreq': 2, 'featfrac': 0.871628053962317, 'lambda_l1': 4.4866234209159486e-05, 'lambda_l2': 7.599655287864815, 'minchild': 4}. Best is trial 496 with value: 3511896.0883319825.\u001b[0m\n"
     ]
    },
    {
     "name": "stdout",
     "output_type": "stream",
     "text": [
      "Early stopping, best iteration is:\n",
      "[281]\ttraining's l1: 402116\tvalid_1's l1: 3.68821e+06\n",
      "Training until validation scores don't improve for 5 rounds\n"
     ]
    },
    {
     "name": "stderr",
     "output_type": "stream",
     "text": [
      "\u001b[32m[I 2021-01-03 18:13:03,938]\u001b[0m Trial 630 finished with value: 3625956.5045154425 and parameters: {'nleaves': 40, 'bagfrac': 0.922384191130507, 'bagfreq': 2, 'featfrac': 0.8625184896445095, 'lambda_l1': 0.0005165440883483892, 'lambda_l2': 2.8644785004206472, 'minchild': 8}. Best is trial 496 with value: 3511896.0883319825.\u001b[0m\n"
     ]
    },
    {
     "name": "stdout",
     "output_type": "stream",
     "text": [
      "Early stopping, best iteration is:\n",
      "[251]\ttraining's l1: 569327\tvalid_1's l1: 3.62596e+06\n",
      "Training until validation scores don't improve for 5 rounds\n"
     ]
    },
    {
     "name": "stderr",
     "output_type": "stream",
     "text": [
      "\u001b[32m[I 2021-01-03 18:13:05,706]\u001b[0m Trial 631 finished with value: 3668935.651165161 and parameters: {'nleaves': 50, 'bagfrac': 0.9110326790891563, 'bagfreq': 2, 'featfrac': 0.8854648430314708, 'lambda_l1': 9.099234089439142e-05, 'lambda_l2': 5.526258946400481, 'minchild': 1}. Best is trial 496 with value: 3511896.0883319825.\u001b[0m\n"
     ]
    },
    {
     "name": "stdout",
     "output_type": "stream",
     "text": [
      "Early stopping, best iteration is:\n",
      "[218]\ttraining's l1: 506918\tvalid_1's l1: 3.66894e+06\n",
      "Training until validation scores don't improve for 5 rounds\n"
     ]
    },
    {
     "name": "stderr",
     "output_type": "stream",
     "text": [
      "\u001b[32m[I 2021-01-03 18:13:08,519]\u001b[0m Trial 632 finished with value: 3816665.1729947417 and parameters: {'nleaves': 225, 'bagfrac': 0.9333633376414708, 'bagfreq': 2, 'featfrac': 0.8773476202344401, 'lambda_l1': 0.00030613932043206676, 'lambda_l2': 7.786870139205887, 'minchild': 5}. Best is trial 496 with value: 3511896.0883319825.\u001b[0m\n"
     ]
    },
    {
     "name": "stdout",
     "output_type": "stream",
     "text": [
      "Early stopping, best iteration is:\n",
      "[127]\ttraining's l1: 121137\tvalid_1's l1: 3.81667e+06\n",
      "Training until validation scores don't improve for 5 rounds\n"
     ]
    },
    {
     "name": "stderr",
     "output_type": "stream",
     "text": [
      "\u001b[32m[I 2021-01-03 18:13:10,329]\u001b[0m Trial 633 finished with value: 3627569.4985354496 and parameters: {'nleaves': 41, 'bagfrac': 0.9275669192405748, 'bagfreq': 2, 'featfrac': 0.8530641135100671, 'lambda_l1': 5.5353854715673444e-05, 'lambda_l2': 4.343506262440379, 'minchild': 7}. Best is trial 496 with value: 3511896.0883319825.\u001b[0m\n"
     ]
    },
    {
     "name": "stdout",
     "output_type": "stream",
     "text": [
      "Early stopping, best iteration is:\n",
      "[300]\ttraining's l1: 421860\tvalid_1's l1: 3.62757e+06\n",
      "Training until validation scores don't improve for 5 rounds\n"
     ]
    },
    {
     "name": "stderr",
     "output_type": "stream",
     "text": [
      "\u001b[32m[I 2021-01-03 18:13:12,164]\u001b[0m Trial 634 finished with value: 3730242.518525706 and parameters: {'nleaves': 54, 'bagfrac': 0.9189240687600323, 'bagfreq': 2, 'featfrac': 0.8660248351441328, 'lambda_l1': 0.001275506930919334, 'lambda_l2': 7.451407463340396, 'minchild': 3}. Best is trial 496 with value: 3511896.0883319825.\u001b[0m\n"
     ]
    },
    {
     "name": "stdout",
     "output_type": "stream",
     "text": [
      "Early stopping, best iteration is:\n",
      "[230]\ttraining's l1: 421757\tvalid_1's l1: 3.73024e+06\n",
      "Training until validation scores don't improve for 5 rounds\n"
     ]
    },
    {
     "name": "stderr",
     "output_type": "stream",
     "text": [
      "\u001b[32m[I 2021-01-03 18:13:13,454]\u001b[0m Trial 635 finished with value: 3730037.9423667276 and parameters: {'nleaves': 45, 'bagfrac': 0.9160303167345518, 'bagfreq': 4, 'featfrac': 0.8890159530734711, 'lambda_l1': 0.0001721856951965976, 'lambda_l2': 3.4584695921169257, 'minchild': 9}. Best is trial 496 with value: 3511896.0883319825.\u001b[0m\n"
     ]
    },
    {
     "name": "stdout",
     "output_type": "stream",
     "text": [
      "Early stopping, best iteration is:\n",
      "[201]\ttraining's l1: 681313\tvalid_1's l1: 3.73004e+06\n",
      "Training until validation scores don't improve for 5 rounds\n"
     ]
    },
    {
     "name": "stderr",
     "output_type": "stream",
     "text": [
      "\u001b[32m[I 2021-01-03 18:13:15,297]\u001b[0m Trial 636 finished with value: 3555315.6749699735 and parameters: {'nleaves': 36, 'bagfrac': 0.9242095197309163, 'bagfreq': 1, 'featfrac': 0.8564600047559335, 'lambda_l1': 2.0669557861845598e-06, 'lambda_l2': 5.6913924150188535, 'minchild': 1}. Best is trial 496 with value: 3511896.0883319825.\u001b[0m\n"
     ]
    },
    {
     "name": "stdout",
     "output_type": "stream",
     "text": [
      "Early stopping, best iteration is:\n",
      "[312]\ttraining's l1: 509775\tvalid_1's l1: 3.55532e+06\n",
      "Training until validation scores don't improve for 5 rounds\n"
     ]
    },
    {
     "name": "stderr",
     "output_type": "stream",
     "text": [
      "\u001b[32m[I 2021-01-03 18:13:16,741]\u001b[0m Trial 637 finished with value: 3704588.7754931008 and parameters: {'nleaves': 35, 'bagfrac': 0.9357853519163205, 'bagfreq': 1, 'featfrac': 0.8554380828755016, 'lambda_l1': 5.111689025580881e-06, 'lambda_l2': 2.158832287675656, 'minchild': 1}. Best is trial 496 with value: 3511896.0883319825.\u001b[0m\n"
     ]
    },
    {
     "name": "stdout",
     "output_type": "stream",
     "text": [
      "Early stopping, best iteration is:\n",
      "[261]\ttraining's l1: 649078\tvalid_1's l1: 3.70459e+06\n",
      "Training until validation scores don't improve for 5 rounds\n"
     ]
    },
    {
     "name": "stderr",
     "output_type": "stream",
     "text": [
      "\u001b[32m[I 2021-01-03 18:13:18,641]\u001b[0m Trial 638 finished with value: 3735408.4308860535 and parameters: {'nleaves': 37, 'bagfrac': 0.9282632656104925, 'bagfreq': 1, 'featfrac': 0.8577610384650739, 'lambda_l1': 3.0180467372581733e-06, 'lambda_l2': 1.3662574411173598, 'minchild': 1}. Best is trial 496 with value: 3511896.0883319825.\u001b[0m\n"
     ]
    },
    {
     "name": "stdout",
     "output_type": "stream",
     "text": [
      "Early stopping, best iteration is:\n",
      "[338]\ttraining's l1: 371279\tvalid_1's l1: 3.73541e+06\n",
      "Training until validation scores don't improve for 5 rounds\n"
     ]
    },
    {
     "name": "stderr",
     "output_type": "stream",
     "text": [
      "\u001b[32m[I 2021-01-03 18:13:20,442]\u001b[0m Trial 639 finished with value: 3742759.8679484744 and parameters: {'nleaves': 37, 'bagfrac': 0.9223181453008251, 'bagfreq': 1, 'featfrac': 0.9045086345723806, 'lambda_l1': 1.9883762726494487e-06, 'lambda_l2': 4.745457137370557, 'minchild': 3}. Best is trial 496 with value: 3511896.0883319825.\u001b[0m\n"
     ]
    },
    {
     "name": "stdout",
     "output_type": "stream",
     "text": [
      "Early stopping, best iteration is:\n",
      "[310]\ttraining's l1: 484911\tvalid_1's l1: 3.74276e+06\n",
      "Training until validation scores don't improve for 5 rounds\n"
     ]
    },
    {
     "name": "stderr",
     "output_type": "stream",
     "text": [
      "\u001b[32m[I 2021-01-03 18:13:22,251]\u001b[0m Trial 640 finished with value: 3645343.375059063 and parameters: {'nleaves': 41, 'bagfrac': 0.9295593003209809, 'bagfreq': 1, 'featfrac': 0.861477033267498, 'lambda_l1': 1.263456252458074e-06, 'lambda_l2': 3.2703378851296128, 'minchild': 1}. Best is trial 496 with value: 3511896.0883319825.\u001b[0m\n"
     ]
    },
    {
     "name": "stdout",
     "output_type": "stream",
     "text": [
      "Early stopping, best iteration is:\n",
      "[268]\ttraining's l1: 479760\tvalid_1's l1: 3.64534e+06\n",
      "Training until validation scores don't improve for 5 rounds\n",
      "Early stopping, best iteration is:\n",
      "[362]\ttraining's l1: 407151\tvalid_1's l1: 3.70406e+06\n"
     ]
    },
    {
     "name": "stderr",
     "output_type": "stream",
     "text": [
      "\u001b[32m[I 2021-01-03 18:13:24,220]\u001b[0m Trial 641 finished with value: 3704057.58254779 and parameters: {'nleaves': 36, 'bagfrac': 0.9115172834685978, 'bagfreq': 1, 'featfrac': 0.8517547557300515, 'lambda_l1': 2.124490025937921e-06, 'lambda_l2': 5.373696152130011, 'minchild': 5}. Best is trial 496 with value: 3511896.0883319825.\u001b[0m\n"
     ]
    },
    {
     "name": "stdout",
     "output_type": "stream",
     "text": [
      "Training until validation scores don't improve for 5 rounds\n"
     ]
    },
    {
     "name": "stderr",
     "output_type": "stream",
     "text": [
      "\u001b[32m[I 2021-01-03 18:13:25,702]\u001b[0m Trial 642 finished with value: 3654004.9817497637 and parameters: {'nleaves': 32, 'bagfrac': 0.9342488128687978, 'bagfreq': 1, 'featfrac': 0.8673265676646941, 'lambda_l1': 1.5919545431881505e-06, 'lambda_l2': 2.654486406953066, 'minchild': 3}. Best is trial 496 with value: 3511896.0883319825.\u001b[0m\n"
     ]
    },
    {
     "name": "stdout",
     "output_type": "stream",
     "text": [
      "Early stopping, best iteration is:\n",
      "[321]\ttraining's l1: 551041\tvalid_1's l1: 3.654e+06\n",
      "Training until validation scores don't improve for 5 rounds\n"
     ]
    },
    {
     "name": "stderr",
     "output_type": "stream",
     "text": [
      "\u001b[32m[I 2021-01-03 18:13:26,892]\u001b[0m Trial 643 finished with value: 3818521.931324912 and parameters: {'nleaves': 32, 'bagfrac': 0.9245837036105183, 'bagfreq': 1, 'featfrac': 0.8501228912716807, 'lambda_l1': 1.602514780349519e-06, 'lambda_l2': 9.933016488073307, 'minchild': 1}. Best is trial 496 with value: 3511896.0883319825.\u001b[0m\n"
     ]
    },
    {
     "name": "stdout",
     "output_type": "stream",
     "text": [
      "Early stopping, best iteration is:\n",
      "[215]\ttraining's l1: 1.09135e+06\tvalid_1's l1: 3.81852e+06\n",
      "Training until validation scores don't improve for 5 rounds\n",
      "Early stopping, best iteration is:\n",
      "[231]\ttraining's l1: 591964\tvalid_1's l1: 3.71507e+06\n"
     ]
    },
    {
     "name": "stderr",
     "output_type": "stream",
     "text": [
      "\u001b[32m[I 2021-01-03 18:13:28,405]\u001b[0m Trial 644 finished with value: 3715074.7778408686 and parameters: {'nleaves': 43, 'bagfrac': 0.913870148441048, 'bagfreq': 1, 'featfrac': 0.860244558257546, 'lambda_l1': 2.241521963878164e-06, 'lambda_l2': 4.9628580488741125, 'minchild': 5}. Best is trial 496 with value: 3511896.0883319825.\u001b[0m\n"
     ]
    },
    {
     "name": "stdout",
     "output_type": "stream",
     "text": [
      "Training until validation scores don't improve for 5 rounds\n"
     ]
    },
    {
     "name": "stderr",
     "output_type": "stream",
     "text": [
      "\u001b[32m[I 2021-01-03 18:13:30,215]\u001b[0m Trial 645 finished with value: 3633993.315011821 and parameters: {'nleaves': 43, 'bagfrac': 0.9199072350830851, 'bagfreq': 1, 'featfrac': 0.8737460907029689, 'lambda_l1': 3.0514340779542965e-06, 'lambda_l2': 9.963583421728003, 'minchild': 3}. Best is trial 496 with value: 3511896.0883319825.\u001b[0m\n"
     ]
    },
    {
     "name": "stdout",
     "output_type": "stream",
     "text": [
      "Early stopping, best iteration is:\n",
      "[299]\ttraining's l1: 458166\tvalid_1's l1: 3.63399e+06\n",
      "Training until validation scores don't improve for 5 rounds\n"
     ]
    },
    {
     "name": "stderr",
     "output_type": "stream",
     "text": [
      "\u001b[32m[I 2021-01-03 18:13:31,999]\u001b[0m Trial 646 finished with value: 3711058.5610296996 and parameters: {'nleaves': 47, 'bagfrac': 0.9078637954015576, 'bagfreq': 1, 'featfrac': 0.9000995450423664, 'lambda_l1': 3.93950547388691e-06, 'lambda_l2': 6.406614993734309, 'minchild': 6}. Best is trial 496 with value: 3511896.0883319825.\u001b[0m\n"
     ]
    },
    {
     "name": "stdout",
     "output_type": "stream",
     "text": [
      "Early stopping, best iteration is:\n",
      "[282]\ttraining's l1: 370389\tvalid_1's l1: 3.71106e+06\n",
      "Training until validation scores don't improve for 5 rounds\n"
     ]
    },
    {
     "name": "stderr",
     "output_type": "stream",
     "text": [
      "\u001b[32m[I 2021-01-03 18:13:32,984]\u001b[0m Trial 647 finished with value: 3674996.639306287 and parameters: {'nleaves': 49, 'bagfrac': 0.93740991513861, 'bagfreq': 1, 'featfrac': 0.8587727787443766, 'lambda_l1': 7.932154331787905e-06, 'lambda_l2': 3.5055152606989295, 'minchild': 77}. Best is trial 496 with value: 3511896.0883319825.\u001b[0m\n"
     ]
    },
    {
     "name": "stdout",
     "output_type": "stream",
     "text": [
      "Early stopping, best iteration is:\n",
      "[310]\ttraining's l1: 906807\tvalid_1's l1: 3.675e+06\n",
      "Training until validation scores don't improve for 5 rounds\n"
     ]
    },
    {
     "name": "stderr",
     "output_type": "stream",
     "text": [
      "\u001b[32m[I 2021-01-03 18:13:34,852]\u001b[0m Trial 648 finished with value: 3610750.1224726727 and parameters: {'nleaves': 32, 'bagfrac': 0.9261396185651463, 'bagfreq': 3, 'featfrac': 0.8522509414168856, 'lambda_l1': 1.0551155355896897e-06, 'lambda_l2': 9.942500568730194, 'minchild': 1}. Best is trial 496 with value: 3511896.0883319825.\u001b[0m\n"
     ]
    },
    {
     "name": "stdout",
     "output_type": "stream",
     "text": [
      "Early stopping, best iteration is:\n",
      "[363]\ttraining's l1: 569105\tvalid_1's l1: 3.61075e+06\n",
      "Training until validation scores don't improve for 5 rounds\n"
     ]
    },
    {
     "name": "stderr",
     "output_type": "stream",
     "text": [
      "\u001b[32m[I 2021-01-03 18:13:36,056]\u001b[0m Trial 649 finished with value: 3743111.6122076362 and parameters: {'nleaves': 41, 'bagfrac': 0.9171816148061533, 'bagfreq': 1, 'featfrac': 0.880173193544251, 'lambda_l1': 1.5227888926224945e-06, 'lambda_l2': 6.149710434186101, 'minchild': 3}. Best is trial 496 with value: 3511896.0883319825.\u001b[0m\n"
     ]
    },
    {
     "name": "stdout",
     "output_type": "stream",
     "text": [
      "Early stopping, best iteration is:\n",
      "[181]\ttraining's l1: 901210\tvalid_1's l1: 3.74311e+06\n",
      "Training until validation scores don't improve for 5 rounds\n"
     ]
    },
    {
     "name": "stderr",
     "output_type": "stream",
     "text": [
      "\u001b[32m[I 2021-01-03 18:13:37,482]\u001b[0m Trial 650 finished with value: 3682568.162849848 and parameters: {'nleaves': 37, 'bagfrac': 0.9292318967692346, 'bagfreq': 2, 'featfrac': 0.8665300116567259, 'lambda_l1': 3.1624058876549395e-05, 'lambda_l2': 9.94289851687599, 'minchild': 6}. Best is trial 496 with value: 3511896.0883319825.\u001b[0m\n"
     ]
    },
    {
     "name": "stdout",
     "output_type": "stream",
     "text": [
      "Early stopping, best iteration is:\n",
      "[275]\ttraining's l1: 660387\tvalid_1's l1: 3.68257e+06\n",
      "Training until validation scores don't improve for 5 rounds\n"
     ]
    },
    {
     "name": "stderr",
     "output_type": "stream",
     "text": [
      "\u001b[32m[I 2021-01-03 18:13:39,161]\u001b[0m Trial 651 finished with value: 3713141.842406053 and parameters: {'nleaves': 76, 'bagfrac': 0.9111160645229512, 'bagfreq': 2, 'featfrac': 0.7883490393536483, 'lambda_l1': 2.0669794034716797e-05, 'lambda_l2': 4.386830628737424, 'minchild': 4}. Best is trial 496 with value: 3511896.0883319825.\u001b[0m\n"
     ]
    },
    {
     "name": "stdout",
     "output_type": "stream",
     "text": [
      "Early stopping, best iteration is:\n",
      "[163]\ttraining's l1: 378532\tvalid_1's l1: 3.71314e+06\n",
      "Training until validation scores don't improve for 5 rounds\n"
     ]
    },
    {
     "name": "stderr",
     "output_type": "stream",
     "text": [
      "\u001b[32m[I 2021-01-03 18:13:40,372]\u001b[0m Trial 652 finished with value: 3784542.271837845 and parameters: {'nleaves': 52, 'bagfrac': 0.922547630922174, 'bagfreq': 5, 'featfrac': 0.7963906750759487, 'lambda_l1': 6.098422129406224e-05, 'lambda_l2': 7.268252289942034, 'minchild': 8}. Best is trial 496 with value: 3511896.0883319825.\u001b[0m\n"
     ]
    },
    {
     "name": "stdout",
     "output_type": "stream",
     "text": [
      "Early stopping, best iteration is:\n",
      "[158]\ttraining's l1: 819476\tvalid_1's l1: 3.78454e+06\n",
      "Training until validation scores don't improve for 5 rounds\n"
     ]
    },
    {
     "name": "stderr",
     "output_type": "stream",
     "text": [
      "\u001b[32m[I 2021-01-03 18:13:42,183]\u001b[0m Trial 653 finished with value: 3548742.719621825 and parameters: {'nleaves': 45, 'bagfrac': 0.9317160301001115, 'bagfreq': 1, 'featfrac': 0.8725940291848507, 'lambda_l1': 1.968157880021955e-06, 'lambda_l2': 5.93555975430369, 'minchild': 2}. Best is trial 496 with value: 3511896.0883319825.\u001b[0m\n"
     ]
    },
    {
     "name": "stdout",
     "output_type": "stream",
     "text": [
      "Early stopping, best iteration is:\n",
      "[268]\ttraining's l1: 445382\tvalid_1's l1: 3.54874e+06\n",
      "Training until validation scores don't improve for 5 rounds\n"
     ]
    },
    {
     "name": "stderr",
     "output_type": "stream",
     "text": [
      "\u001b[32m[I 2021-01-03 18:13:43,738]\u001b[0m Trial 654 finished with value: 3632317.2692470024 and parameters: {'nleaves': 42, 'bagfrac': 0.9398852715710345, 'bagfreq': 1, 'featfrac': 0.8641001265453468, 'lambda_l1': 1.9852045095698315e-06, 'lambda_l2': 7.627487007130765, 'minchild': 1}. Best is trial 496 with value: 3511896.0883319825.\u001b[0m\n"
     ]
    },
    {
     "name": "stdout",
     "output_type": "stream",
     "text": [
      "Early stopping, best iteration is:\n",
      "[215]\ttraining's l1: 716613\tvalid_1's l1: 3.63232e+06\n",
      "Training until validation scores don't improve for 5 rounds\n"
     ]
    },
    {
     "name": "stderr",
     "output_type": "stream",
     "text": [
      "\u001b[32m[I 2021-01-03 18:13:45,250]\u001b[0m Trial 655 finished with value: 3700515.3162471512 and parameters: {'nleaves': 39, 'bagfrac': 0.9352914107282878, 'bagfreq': 1, 'featfrac': 0.8558822501197308, 'lambda_l1': 2.7746553839758505e-06, 'lambda_l2': 5.820793291288417, 'minchild': 1}. Best is trial 496 with value: 3511896.0883319825.\u001b[0m\n"
     ]
    },
    {
     "name": "stdout",
     "output_type": "stream",
     "text": [
      "Early stopping, best iteration is:\n",
      "[241]\ttraining's l1: 665205\tvalid_1's l1: 3.70052e+06\n",
      "Training until validation scores don't improve for 5 rounds\n"
     ]
    },
    {
     "name": "stderr",
     "output_type": "stream",
     "text": [
      "\u001b[32m[I 2021-01-03 18:13:46,261]\u001b[0m Trial 656 finished with value: 3746138.9225661783 and parameters: {'nleaves': 45, 'bagfrac': 0.9319608026601789, 'bagfreq': 1, 'featfrac': 0.8486203108079338, 'lambda_l1': 1.636874939017218e-06, 'lambda_l2': 9.926655933874514, 'minchild': 44}. Best is trial 496 with value: 3511896.0883319825.\u001b[0m\n"
     ]
    },
    {
     "name": "stdout",
     "output_type": "stream",
     "text": [
      "Early stopping, best iteration is:\n",
      "[217]\ttraining's l1: 828109\tvalid_1's l1: 3.74614e+06\n",
      "Training until validation scores don't improve for 5 rounds\n"
     ]
    },
    {
     "name": "stderr",
     "output_type": "stream",
     "text": [
      "\u001b[32m[I 2021-01-03 18:13:47,528]\u001b[0m Trial 657 finished with value: 3744457.000179156 and parameters: {'nleaves': 35, 'bagfrac': 0.938898058731007, 'bagfreq': 1, 'featfrac': 0.8681334173682143, 'lambda_l1': 2.7687625079553673e-06, 'lambda_l2': 7.5363500124139975, 'minchild': 2}. Best is trial 496 with value: 3511896.0883319825.\u001b[0m\n"
     ]
    },
    {
     "name": "stdout",
     "output_type": "stream",
     "text": [
      "Early stopping, best iteration is:\n",
      "[223]\ttraining's l1: 895707\tvalid_1's l1: 3.74446e+06\n",
      "Training until validation scores don't improve for 5 rounds\n"
     ]
    },
    {
     "name": "stderr",
     "output_type": "stream",
     "text": [
      "\u001b[32m[I 2021-01-03 18:13:50,158]\u001b[0m Trial 658 finished with value: 3712052.7577712466 and parameters: {'nleaves': 47, 'bagfrac': 0.9326280723178348, 'bagfreq': 1, 'featfrac': 0.8598903066756487, 'lambda_l1': 1.940122777351882e-06, 'lambda_l2': 5.789710728710862, 'minchild': 1}. Best is trial 496 with value: 3511896.0883319825.\u001b[0m\n"
     ]
    },
    {
     "name": "stdout",
     "output_type": "stream",
     "text": [
      "Early stopping, best iteration is:\n",
      "[346]\ttraining's l1: 249031\tvalid_1's l1: 3.71205e+06\n",
      "Training until validation scores don't improve for 5 rounds\n"
     ]
    },
    {
     "name": "stderr",
     "output_type": "stream",
     "text": [
      "\u001b[32m[I 2021-01-03 18:13:51,459]\u001b[0m Trial 659 finished with value: 3662104.9495577286 and parameters: {'nleaves': 32, 'bagfrac': 0.9260076272281347, 'bagfreq': 1, 'featfrac': 0.8719459782623433, 'lambda_l1': 1.2138883396469446e-06, 'lambda_l2': 8.040504795750238, 'minchild': 7}. Best is trial 496 with value: 3511896.0883319825.\u001b[0m\n"
     ]
    },
    {
     "name": "stdout",
     "output_type": "stream",
     "text": [
      "Early stopping, best iteration is:\n",
      "[287]\ttraining's l1: 753073\tvalid_1's l1: 3.6621e+06\n",
      "Training until validation scores don't improve for 5 rounds\n",
      "Early stopping, best iteration is:\n",
      "[326]\ttraining's l1: 444318\tvalid_1's l1: 3.61956e+06\n"
     ]
    },
    {
     "name": "stderr",
     "output_type": "stream",
     "text": [
      "\u001b[32m[I 2021-01-03 18:13:53,391]\u001b[0m Trial 660 finished with value: 3619558.953958766 and parameters: {'nleaves': 40, 'bagfrac': 0.9044798539605166, 'bagfreq': 1, 'featfrac': 0.8499515184852227, 'lambda_l1': 3.5128400318474392e-06, 'lambda_l2': 9.871096281945842, 'minchild': 3}. Best is trial 496 with value: 3511896.0883319825.\u001b[0m\n"
     ]
    },
    {
     "name": "stdout",
     "output_type": "stream",
     "text": [
      "Training until validation scores don't improve for 5 rounds\n"
     ]
    },
    {
     "name": "stderr",
     "output_type": "stream",
     "text": [
      "\u001b[32m[I 2021-01-03 18:13:54,589]\u001b[0m Trial 661 finished with value: 3753419.3039569296 and parameters: {'nleaves': 47, 'bagfrac': 0.8163081690839897, 'bagfreq': 1, 'featfrac': 0.8637178705346678, 'lambda_l1': 1.0490577021460453e-06, 'lambda_l2': 9.934349784919226, 'minchild': 5}. Best is trial 496 with value: 3511896.0883319825.\u001b[0m\n"
     ]
    },
    {
     "name": "stdout",
     "output_type": "stream",
     "text": [
      "Early stopping, best iteration is:\n",
      "[161]\ttraining's l1: 954851\tvalid_1's l1: 3.75342e+06\n",
      "Training until validation scores don't improve for 5 rounds\n"
     ]
    },
    {
     "name": "stderr",
     "output_type": "stream",
     "text": [
      "\u001b[32m[I 2021-01-03 18:13:56,276]\u001b[0m Trial 662 finished with value: 3628909.674354719 and parameters: {'nleaves': 44, 'bagfrac': 0.9155358630081687, 'bagfreq': 1, 'featfrac': 0.8571281691185537, 'lambda_l1': 2.3886637266275e-06, 'lambda_l2': 4.732299420602553, 'minchild': 3}. Best is trial 496 with value: 3511896.0883319825.\u001b[0m\n"
     ]
    },
    {
     "name": "stdout",
     "output_type": "stream",
     "text": [
      "Early stopping, best iteration is:\n",
      "[261]\ttraining's l1: 465116\tvalid_1's l1: 3.62891e+06\n",
      "Training until validation scores don't improve for 5 rounds\n"
     ]
    },
    {
     "name": "stderr",
     "output_type": "stream",
     "text": [
      "\u001b[32m[I 2021-01-03 18:13:57,299]\u001b[0m Trial 663 finished with value: 3790182.809400625 and parameters: {'nleaves': 49, 'bagfrac': 0.9299572607718005, 'bagfreq': 1, 'featfrac': 0.8536739501068293, 'lambda_l1': 1.4307678131925877e-06, 'lambda_l2': 5.8709126385912525, 'minchild': 6}. Best is trial 496 with value: 3511896.0883319825.\u001b[0m\n"
     ]
    },
    {
     "name": "stdout",
     "output_type": "stream",
     "text": [
      "Early stopping, best iteration is:\n",
      "[128]\ttraining's l1: 1.04668e+06\tvalid_1's l1: 3.79018e+06\n",
      "Training until validation scores don't improve for 5 rounds\n"
     ]
    },
    {
     "name": "stderr",
     "output_type": "stream",
     "text": [
      "\u001b[32m[I 2021-01-03 18:14:00,272]\u001b[0m Trial 664 finished with value: 3660077.023053417 and parameters: {'nleaves': 80, 'bagfrac': 0.9242369475781785, 'bagfreq': 1, 'featfrac': 0.876553800729928, 'lambda_l1': 0.0013515509178922706, 'lambda_l2': 7.485267392948669, 'minchild': 1}. Best is trial 496 with value: 3511896.0883319825.\u001b[0m\n"
     ]
    },
    {
     "name": "stdout",
     "output_type": "stream",
     "text": [
      "Early stopping, best iteration is:\n",
      "[249]\ttraining's l1: 149716\tvalid_1's l1: 3.66008e+06\n",
      "Training until validation scores don't improve for 5 rounds\n"
     ]
    },
    {
     "name": "stderr",
     "output_type": "stream",
     "text": [
      "\u001b[32m[I 2021-01-03 18:14:01,561]\u001b[0m Trial 665 finished with value: 3634891.434182374 and parameters: {'nleaves': 39, 'bagfrac': 0.9179632617648126, 'bagfreq': 1, 'featfrac': 0.7955342125856625, 'lambda_l1': 0.0006668836952965145, 'lambda_l2': 4.694387962084642, 'minchild': 8}. Best is trial 496 with value: 3511896.0883319825.\u001b[0m\n"
     ]
    },
    {
     "name": "stdout",
     "output_type": "stream",
     "text": [
      "Early stopping, best iteration is:\n",
      "[258]\ttraining's l1: 619609\tvalid_1's l1: 3.63489e+06\n",
      "Training until validation scores don't improve for 5 rounds\n"
     ]
    },
    {
     "name": "stderr",
     "output_type": "stream",
     "text": [
      "\u001b[32m[I 2021-01-03 18:14:03,217]\u001b[0m Trial 666 finished with value: 3867788.298861283 and parameters: {'nleaves': 74, 'bagfrac': 0.9389304896047245, 'bagfreq': 3, 'featfrac': 0.870440119045959, 'lambda_l1': 1.5641787176505122e-06, 'lambda_l2': 0.13404161676488008, 'minchild': 5}. Best is trial 496 with value: 3511896.0883319825.\u001b[0m\n"
     ]
    },
    {
     "name": "stdout",
     "output_type": "stream",
     "text": [
      "Early stopping, best iteration is:\n",
      "[179]\ttraining's l1: 261630\tvalid_1's l1: 3.86779e+06\n",
      "Training until validation scores don't improve for 5 rounds\n"
     ]
    },
    {
     "name": "stderr",
     "output_type": "stream",
     "text": [
      "\u001b[32m[I 2021-01-03 18:14:04,993]\u001b[0m Trial 667 finished with value: 3667588.07400531 and parameters: {'nleaves': 49, 'bagfrac': 0.9087578854345745, 'bagfreq': 1, 'featfrac': 0.8484324246502918, 'lambda_l1': 8.378961280306076e-05, 'lambda_l2': 7.493524916045605, 'minchild': 3}. Best is trial 496 with value: 3511896.0883319825.\u001b[0m\n"
     ]
    },
    {
     "name": "stdout",
     "output_type": "stream",
     "text": [
      "Early stopping, best iteration is:\n",
      "[250]\ttraining's l1: 452068\tvalid_1's l1: 3.66759e+06\n",
      "Training until validation scores don't improve for 5 rounds\n"
     ]
    },
    {
     "name": "stderr",
     "output_type": "stream",
     "text": [
      "\u001b[32m[I 2021-01-03 18:14:06,799]\u001b[0m Trial 668 finished with value: 3743764.559985762 and parameters: {'nleaves': 71, 'bagfrac': 0.9309050138007077, 'bagfreq': 2, 'featfrac': 0.8836098905457263, 'lambda_l1': 0.000995255353011358, 'lambda_l2': 9.819107745948306, 'minchild': 9}. Best is trial 496 with value: 3511896.0883319825.\u001b[0m\n"
     ]
    },
    {
     "name": "stdout",
     "output_type": "stream",
     "text": [
      "Early stopping, best iteration is:\n",
      "[202]\ttraining's l1: 346745\tvalid_1's l1: 3.74376e+06\n",
      "Training until validation scores don't improve for 5 rounds\n"
     ]
    },
    {
     "name": "stderr",
     "output_type": "stream",
     "text": [
      "\u001b[32m[I 2021-01-03 18:14:08,369]\u001b[0m Trial 669 finished with value: 3703078.0072856187 and parameters: {'nleaves': 43, 'bagfrac': 0.9169510250932887, 'bagfreq': 3, 'featfrac': 0.8641442312961065, 'lambda_l1': 2.09185002242966e-06, 'lambda_l2': 5.93234966979716, 'minchild': 1}. Best is trial 496 with value: 3511896.0883319825.\u001b[0m\n"
     ]
    },
    {
     "name": "stdout",
     "output_type": "stream",
     "text": [
      "Early stopping, best iteration is:\n",
      "[205]\ttraining's l1: 737654\tvalid_1's l1: 3.70308e+06\n",
      "Training until validation scores don't improve for 5 rounds\n"
     ]
    },
    {
     "name": "stderr",
     "output_type": "stream",
     "text": [
      "\u001b[32m[I 2021-01-03 18:14:09,769]\u001b[0m Trial 670 finished with value: 3676087.840161919 and parameters: {'nleaves': 62, 'bagfrac': 0.9231464729720725, 'bagfreq': 2, 'featfrac': 0.8576719194326452, 'lambda_l1': 0.0003642689165457387, 'lambda_l2': 4.4046357041443684, 'minchild': 7}. Best is trial 496 with value: 3511896.0883319825.\u001b[0m\n"
     ]
    },
    {
     "name": "stdout",
     "output_type": "stream",
     "text": [
      "Early stopping, best iteration is:\n",
      "[167]\ttraining's l1: 524093\tvalid_1's l1: 3.67609e+06\n",
      "Training until validation scores don't improve for 5 rounds\n"
     ]
    },
    {
     "name": "stderr",
     "output_type": "stream",
     "text": [
      "\u001b[32m[I 2021-01-03 18:14:11,415]\u001b[0m Trial 671 finished with value: 3656815.67137326 and parameters: {'nleaves': 53, 'bagfrac': 0.7745734219686359, 'bagfreq': 2, 'featfrac': 0.7827348132367102, 'lambda_l1': 0.00011481103463980931, 'lambda_l2': 7.619816444375103, 'minchild': 4}. Best is trial 496 with value: 3511896.0883319825.\u001b[0m\n"
     ]
    },
    {
     "name": "stdout",
     "output_type": "stream",
     "text": [
      "Early stopping, best iteration is:\n",
      "[211]\ttraining's l1: 551976\tvalid_1's l1: 3.65682e+06\n",
      "Training until validation scores don't improve for 5 rounds\n"
     ]
    },
    {
     "name": "stderr",
     "output_type": "stream",
     "text": [
      "\u001b[32m[I 2021-01-03 18:14:12,885]\u001b[0m Trial 672 finished with value: 3684592.910851595 and parameters: {'nleaves': 86, 'bagfrac': 0.905614492988821, 'bagfreq': 2, 'featfrac': 0.8776113024868802, 'lambda_l1': 0.0006568041584987547, 'lambda_l2': 0.003663300346174331, 'minchild': 11}. Best is trial 496 with value: 3511896.0883319825.\u001b[0m\n"
     ]
    },
    {
     "name": "stdout",
     "output_type": "stream",
     "text": [
      "Early stopping, best iteration is:\n",
      "[136]\ttraining's l1: 362610\tvalid_1's l1: 3.68459e+06\n",
      "Training until validation scores don't improve for 5 rounds\n"
     ]
    },
    {
     "name": "stderr",
     "output_type": "stream",
     "text": [
      "\u001b[32m[I 2021-01-03 18:14:14,136]\u001b[0m Trial 673 finished with value: 3769336.316330923 and parameters: {'nleaves': 37, 'bagfrac': 0.9123541082815022, 'bagfreq': 4, 'featfrac': 0.7904176925627061, 'lambda_l1': 0.0002392235913004845, 'lambda_l2': 9.999407703510016, 'minchild': 1}. Best is trial 496 with value: 3511896.0883319825.\u001b[0m\n"
     ]
    },
    {
     "name": "stdout",
     "output_type": "stream",
     "text": [
      "Early stopping, best iteration is:\n",
      "[168]\ttraining's l1: 1.23968e+06\tvalid_1's l1: 3.76934e+06\n",
      "Training until validation scores don't improve for 5 rounds\n"
     ]
    },
    {
     "name": "stderr",
     "output_type": "stream",
     "text": [
      "\u001b[32m[I 2021-01-03 18:14:15,435]\u001b[0m Trial 674 finished with value: 3705783.8921023337 and parameters: {'nleaves': 32, 'bagfrac': 0.9276107928725658, 'bagfreq': 2, 'featfrac': 0.8017243809590027, 'lambda_l1': 0.003162780605371217, 'lambda_l2': 4.006838025148447, 'minchild': 6}. Best is trial 496 with value: 3511896.0883319825.\u001b[0m\n"
     ]
    },
    {
     "name": "stdout",
     "output_type": "stream",
     "text": [
      "Early stopping, best iteration is:\n",
      "[316]\ttraining's l1: 615057\tvalid_1's l1: 3.70578e+06\n",
      "Training until validation scores don't improve for 5 rounds\n"
     ]
    },
    {
     "name": "stderr",
     "output_type": "stream",
     "text": [
      "\u001b[32m[I 2021-01-03 18:14:16,869]\u001b[0m Trial 675 finished with value: 3698057.360500604 and parameters: {'nleaves': 52, 'bagfrac': 0.9198373651949824, 'bagfreq': 2, 'featfrac': 0.8473532091278038, 'lambda_l1': 1.0614820855584379e-06, 'lambda_l2': 5.771395352887634, 'minchild': 3}. Best is trial 496 with value: 3511896.0883319825.\u001b[0m\n"
     ]
    },
    {
     "name": "stdout",
     "output_type": "stream",
     "text": [
      "Early stopping, best iteration is:\n",
      "[182]\ttraining's l1: 630411\tvalid_1's l1: 3.69806e+06\n",
      "Training until validation scores don't improve for 5 rounds\n"
     ]
    },
    {
     "name": "stderr",
     "output_type": "stream",
     "text": [
      "\u001b[32m[I 2021-01-03 18:14:18,693]\u001b[0m Trial 676 finished with value: 3685748.6352039706 and parameters: {'nleaves': 66, 'bagfrac': 0.9416514304504882, 'bagfreq': 1, 'featfrac': 0.863140722909264, 'lambda_l1': 6.493493424739665e-05, 'lambda_l2': 7.448862362113865, 'minchild': 9}. Best is trial 496 with value: 3511896.0883319825.\u001b[0m\n"
     ]
    },
    {
     "name": "stdout",
     "output_type": "stream",
     "text": [
      "Early stopping, best iteration is:\n",
      "[211]\ttraining's l1: 347293\tvalid_1's l1: 3.68575e+06\n",
      "Training until validation scores don't improve for 5 rounds\n"
     ]
    },
    {
     "name": "stderr",
     "output_type": "stream",
     "text": [
      "\u001b[32m[I 2021-01-03 18:14:20,402]\u001b[0m Trial 677 finished with value: 3694510.81359087 and parameters: {'nleaves': 60, 'bagfrac': 0.9354638983946488, 'bagfreq': 2, 'featfrac': 0.8685229277487222, 'lambda_l1': 0.0022282842298831473, 'lambda_l2': 5.897658007961344, 'minchild': 5}. Best is trial 496 with value: 3511896.0883319825.\u001b[0m\n"
     ]
    },
    {
     "name": "stdout",
     "output_type": "stream",
     "text": [
      "Early stopping, best iteration is:\n",
      "[207]\ttraining's l1: 410373\tvalid_1's l1: 3.69451e+06\n",
      "Training until validation scores don't improve for 5 rounds\n"
     ]
    },
    {
     "name": "stderr",
     "output_type": "stream",
     "text": [
      "\u001b[32m[I 2021-01-03 18:14:22,313]\u001b[0m Trial 678 finished with value: 3677364.8342495295 and parameters: {'nleaves': 43, 'bagfrac': 0.7355498837443808, 'bagfreq': 3, 'featfrac': 0.8537538782896102, 'lambda_l1': 3.7606417836156105e-06, 'lambda_l2': 3.546600457346176, 'minchild': 1}. Best is trial 496 with value: 3511896.0883319825.\u001b[0m\n"
     ]
    },
    {
     "name": "stdout",
     "output_type": "stream",
     "text": [
      "Early stopping, best iteration is:\n",
      "[260]\ttraining's l1: 506079\tvalid_1's l1: 3.67736e+06\n",
      "Training until validation scores don't improve for 5 rounds\n"
     ]
    },
    {
     "name": "stderr",
     "output_type": "stream",
     "text": [
      "\u001b[32m[I 2021-01-03 18:14:24,396]\u001b[0m Trial 679 finished with value: 3613180.6050902233 and parameters: {'nleaves': 71, 'bagfrac': 0.9130835385359715, 'bagfreq': 2, 'featfrac': 0.8066923778997663, 'lambda_l1': 8.636772955260926e-05, 'lambda_l2': 9.811804536182034, 'minchild': 7}. Best is trial 496 with value: 3511896.0883319825.\u001b[0m\n"
     ]
    },
    {
     "name": "stdout",
     "output_type": "stream",
     "text": [
      "Early stopping, best iteration is:\n",
      "[235]\ttraining's l1: 270600\tvalid_1's l1: 3.61318e+06\n",
      "Training until validation scores don't improve for 5 rounds\n"
     ]
    },
    {
     "name": "stderr",
     "output_type": "stream",
     "text": [
      "\u001b[32m[I 2021-01-03 18:14:26,084]\u001b[0m Trial 680 finished with value: 3681554.339059326 and parameters: {'nleaves': 55, 'bagfrac': 0.9262936808498045, 'bagfreq': 2, 'featfrac': 0.8733295547355036, 'lambda_l1': 0.0001374312006421362, 'lambda_l2': 9.779179925711201, 'minchild': 11}. Best is trial 496 with value: 3511896.0883319825.\u001b[0m\n"
     ]
    },
    {
     "name": "stdout",
     "output_type": "stream",
     "text": [
      "Early stopping, best iteration is:\n",
      "[232]\ttraining's l1: 450552\tvalid_1's l1: 3.68155e+06\n",
      "Training until validation scores don't improve for 5 rounds\n"
     ]
    },
    {
     "name": "stderr",
     "output_type": "stream",
     "text": [
      "\u001b[32m[I 2021-01-03 18:14:27,254]\u001b[0m Trial 681 finished with value: 3740977.510260965 and parameters: {'nleaves': 48, 'bagfrac': 0.9199678844419689, 'bagfreq': 1, 'featfrac': 0.8458487763241258, 'lambda_l1': 0.00042437072112913257, 'lambda_l2': 4.564174649948972, 'minchild': 3}. Best is trial 496 with value: 3511896.0883319825.\u001b[0m\n"
     ]
    },
    {
     "name": "stdout",
     "output_type": "stream",
     "text": [
      "Early stopping, best iteration is:\n",
      "[150]\ttraining's l1: 900027\tvalid_1's l1: 3.74098e+06\n",
      "Training until validation scores don't improve for 5 rounds\n"
     ]
    },
    {
     "name": "stderr",
     "output_type": "stream",
     "text": [
      "\u001b[32m[I 2021-01-03 18:14:29,913]\u001b[0m Trial 682 finished with value: 3677644.3428103994 and parameters: {'nleaves': 76, 'bagfrac': 0.9324146709159528, 'bagfreq': 2, 'featfrac': 0.860278826939459, 'lambda_l1': 2.6668698539783464e-06, 'lambda_l2': 9.849796219705475, 'minchild': 5}. Best is trial 496 with value: 3511896.0883319825.\u001b[0m\n"
     ]
    },
    {
     "name": "stdout",
     "output_type": "stream",
     "text": [
      "Early stopping, best iteration is:\n",
      "[249]\ttraining's l1: 201836\tvalid_1's l1: 3.67764e+06\n",
      "Training until validation scores don't improve for 5 rounds\n"
     ]
    },
    {
     "name": "stderr",
     "output_type": "stream",
     "text": [
      "\u001b[32m[I 2021-01-03 18:14:31,624]\u001b[0m Trial 683 finished with value: 3631643.5643882835 and parameters: {'nleaves': 64, 'bagfrac': 0.9035953530138635, 'bagfreq': 2, 'featfrac': 0.868221499063331, 'lambda_l1': 1.0418448308585476e-06, 'lambda_l2': 6.744250501451493, 'minchild': 9}. Best is trial 496 with value: 3511896.0883319825.\u001b[0m\n"
     ]
    },
    {
     "name": "stdout",
     "output_type": "stream",
     "text": [
      "Early stopping, best iteration is:\n",
      "[216]\ttraining's l1: 357991\tvalid_1's l1: 3.63164e+06\n",
      "Training until validation scores don't improve for 5 rounds\n"
     ]
    },
    {
     "name": "stderr",
     "output_type": "stream",
     "text": [
      "\u001b[32m[I 2021-01-03 18:14:34,106]\u001b[0m Trial 684 finished with value: 3640768.555438477 and parameters: {'nleaves': 60, 'bagfrac': 0.9150487895776465, 'bagfreq': 2, 'featfrac': 0.794463131476306, 'lambda_l1': 5.0675161111827586e-05, 'lambda_l2': 9.998995319784994, 'minchild': 1}. Best is trial 496 with value: 3511896.0883319825.\u001b[0m\n"
     ]
    },
    {
     "name": "stdout",
     "output_type": "stream",
     "text": [
      "Early stopping, best iteration is:\n",
      "[251]\ttraining's l1: 325505\tvalid_1's l1: 3.64077e+06\n",
      "Training until validation scores don't improve for 5 rounds\n"
     ]
    },
    {
     "name": "stderr",
     "output_type": "stream",
     "text": [
      "\u001b[32m[I 2021-01-03 18:14:36,302]\u001b[0m Trial 685 finished with value: 3697820.4925504155 and parameters: {'nleaves': 68, 'bagfrac': 0.9092944090346717, 'bagfreq': 3, 'featfrac': 0.8538221480811203, 'lambda_l1': 0.00010532483208470434, 'lambda_l2': 5.6433709237965894, 'minchild': 3}. Best is trial 496 with value: 3511896.0883319825.\u001b[0m\n"
     ]
    },
    {
     "name": "stdout",
     "output_type": "stream",
     "text": [
      "Early stopping, best iteration is:\n",
      "[234]\ttraining's l1: 247193\tvalid_1's l1: 3.69782e+06\n",
      "Training until validation scores don't improve for 5 rounds\n"
     ]
    },
    {
     "name": "stderr",
     "output_type": "stream",
     "text": [
      "\u001b[32m[I 2021-01-03 18:14:37,668]\u001b[0m Trial 686 finished with value: 3703731.861045272 and parameters: {'nleaves': 52, 'bagfrac': 0.9244102001188811, 'bagfreq': 2, 'featfrac': 0.8887246345803873, 'lambda_l1': 0.00022189754161802024, 'lambda_l2': 9.949627864083709, 'minchild': 7}. Best is trial 496 with value: 3511896.0883319825.\u001b[0m\n"
     ]
    },
    {
     "name": "stdout",
     "output_type": "stream",
     "text": [
      "Early stopping, best iteration is:\n",
      "[181]\ttraining's l1: 694058\tvalid_1's l1: 3.70373e+06\n",
      "Training until validation scores don't improve for 5 rounds\n"
     ]
    },
    {
     "name": "stderr",
     "output_type": "stream",
     "text": [
      "\u001b[32m[I 2021-01-03 18:14:38,708]\u001b[0m Trial 687 finished with value: 3814122.25177362 and parameters: {'nleaves': 44, 'bagfrac': 0.9302483739730594, 'bagfreq': 1, 'featfrac': 0.8809459526511856, 'lambda_l1': 0.00014890749059809352, 'lambda_l2': 4.002234197793638, 'minchild': 35}. Best is trial 496 with value: 3511896.0883319825.\u001b[0m\n"
     ]
    },
    {
     "name": "stdout",
     "output_type": "stream",
     "text": [
      "Early stopping, best iteration is:\n",
      "[211]\ttraining's l1: 750707\tvalid_1's l1: 3.81412e+06\n",
      "Training until validation scores don't improve for 5 rounds\n"
     ]
    },
    {
     "name": "stderr",
     "output_type": "stream",
     "text": [
      "\u001b[32m[I 2021-01-03 18:14:40,716]\u001b[0m Trial 688 finished with value: 3711549.274014793 and parameters: {'nleaves': 57, 'bagfrac': 0.8335614277066723, 'bagfreq': 2, 'featfrac': 0.8648805451787358, 'lambda_l1': 7.855184092720233e-05, 'lambda_l2': 2.4768967053851765, 'minchild': 5}. Best is trial 496 with value: 3511896.0883319825.\u001b[0m\n"
     ]
    },
    {
     "name": "stdout",
     "output_type": "stream",
     "text": [
      "Early stopping, best iteration is:\n",
      "[274]\ttraining's l1: 226732\tvalid_1's l1: 3.71155e+06\n",
      "Training until validation scores don't improve for 5 rounds\n"
     ]
    },
    {
     "name": "stderr",
     "output_type": "stream",
     "text": [
      "\u001b[32m[I 2021-01-03 18:14:42,725]\u001b[0m Trial 689 finished with value: 3705738.3747620247 and parameters: {'nleaves': 93, 'bagfrac': 0.9193818500216339, 'bagfreq': 2, 'featfrac': 0.8434618300185355, 'lambda_l1': 1.0043252766471614e-06, 'lambda_l2': 7.079633616581553, 'minchild': 13}. Best is trial 496 with value: 3511896.0883319825.\u001b[0m\n"
     ]
    },
    {
     "name": "stdout",
     "output_type": "stream",
     "text": [
      "Early stopping, best iteration is:\n",
      "[196]\ttraining's l1: 225403\tvalid_1's l1: 3.70574e+06\n",
      "Training until validation scores don't improve for 5 rounds\n"
     ]
    },
    {
     "name": "stderr",
     "output_type": "stream",
     "text": [
      "\u001b[32m[I 2021-01-03 18:14:43,831]\u001b[0m Trial 690 finished with value: 3822356.211388062 and parameters: {'nleaves': 39, 'bagfrac': 0.9124183860725348, 'bagfreq': 2, 'featfrac': 0.7989615814308837, 'lambda_l1': 0.0014617619692989948, 'lambda_l2': 7.015515230121176e-05, 'minchild': 67}. Best is trial 496 with value: 3511896.0883319825.\u001b[0m\n"
     ]
    },
    {
     "name": "stdout",
     "output_type": "stream",
     "text": [
      "Early stopping, best iteration is:\n",
      "[299]\ttraining's l1: 800073\tvalid_1's l1: 3.82236e+06\n",
      "Training until validation scores don't improve for 5 rounds\n"
     ]
    },
    {
     "name": "stderr",
     "output_type": "stream",
     "text": [
      "\u001b[32m[I 2021-01-03 18:14:45,088]\u001b[0m Trial 691 finished with value: 3726766.64091348 and parameters: {'nleaves': 48, 'bagfrac': 0.9373372002580846, 'bagfreq': 1, 'featfrac': 0.8596005459291861, 'lambda_l1': 0.00019437666146175693, 'lambda_l2': 5.198360719598381, 'minchild': 10}. Best is trial 496 with value: 3511896.0883319825.\u001b[0m\n"
     ]
    },
    {
     "name": "stdout",
     "output_type": "stream",
     "text": [
      "Early stopping, best iteration is:\n",
      "[197]\ttraining's l1: 625401\tvalid_1's l1: 3.72677e+06\n",
      "Training until validation scores don't improve for 5 rounds\n"
     ]
    },
    {
     "name": "stderr",
     "output_type": "stream",
     "text": [
      "\u001b[32m[I 2021-01-03 18:14:47,386]\u001b[0m Trial 692 finished with value: 3642200.615989277 and parameters: {'nleaves': 80, 'bagfrac': 0.900344976848907, 'bagfreq': 2, 'featfrac': 0.8727380431921895, 'lambda_l1': 0.0002909231537128494, 'lambda_l2': 7.57890425105399, 'minchild': 1}. Best is trial 496 with value: 3511896.0883319825.\u001b[0m\n"
     ]
    },
    {
     "name": "stdout",
     "output_type": "stream",
     "text": [
      "Early stopping, best iteration is:\n",
      "[184]\ttraining's l1: 303785\tvalid_1's l1: 3.6422e+06\n",
      "Training until validation scores don't improve for 5 rounds\n"
     ]
    },
    {
     "name": "stderr",
     "output_type": "stream",
     "text": [
      "\u001b[32m[I 2021-01-03 18:14:48,884]\u001b[0m Trial 693 finished with value: 3621281.402327543 and parameters: {'nleaves': 71, 'bagfrac': 0.9254748599205612, 'bagfreq': 2, 'featfrac': 0.8537459491044699, 'lambda_l1': 4.366169329899549e-05, 'lambda_l2': 3.2048835008916527, 'minchild': 4}. Best is trial 496 with value: 3511896.0883319825.\u001b[0m\n"
     ]
    },
    {
     "name": "stdout",
     "output_type": "stream",
     "text": [
      "Early stopping, best iteration is:\n",
      "[147]\ttraining's l1: 477228\tvalid_1's l1: 3.62128e+06\n",
      "Training until validation scores don't improve for 5 rounds\n"
     ]
    },
    {
     "name": "stderr",
     "output_type": "stream",
     "text": [
      "\u001b[32m[I 2021-01-03 18:14:50,767]\u001b[0m Trial 694 finished with value: 3655424.9628382362 and parameters: {'nleaves': 64, 'bagfrac': 0.9179011827593682, 'bagfreq': 2, 'featfrac': 0.8053808602754978, 'lambda_l1': 1.4650599252742925e-06, 'lambda_l2': 5.827501591193277, 'minchild': 7}. Best is trial 496 with value: 3511896.0883319825.\u001b[0m\n"
     ]
    },
    {
     "name": "stdout",
     "output_type": "stream",
     "text": [
      "Early stopping, best iteration is:\n",
      "[236]\ttraining's l1: 289296\tvalid_1's l1: 3.65542e+06\n",
      "Training until validation scores don't improve for 5 rounds\n"
     ]
    },
    {
     "name": "stderr",
     "output_type": "stream",
     "text": [
      "\u001b[32m[I 2021-01-03 18:14:52,433]\u001b[0m Trial 695 finished with value: 3616425.6070721294 and parameters: {'nleaves': 56, 'bagfrac': 0.908633283584636, 'bagfreq': 2, 'featfrac': 0.8479657718811298, 'lambda_l1': 0.00012118055935348366, 'lambda_l2': 9.836942278326765, 'minchild': 3}. Best is trial 496 with value: 3511896.0883319825.\u001b[0m\n"
     ]
    },
    {
     "name": "stdout",
     "output_type": "stream",
     "text": [
      "Early stopping, best iteration is:\n",
      "[199]\ttraining's l1: 545781\tvalid_1's l1: 3.61643e+06\n",
      "Training until validation scores don't improve for 5 rounds\n"
     ]
    },
    {
     "name": "stderr",
     "output_type": "stream",
     "text": [
      "\u001b[32m[I 2021-01-03 18:14:53,784]\u001b[0m Trial 696 finished with value: 3649194.9015747528 and parameters: {'nleaves': 36, 'bagfrac': 0.9321418003640459, 'bagfreq': 1, 'featfrac': 0.8787530645057483, 'lambda_l1': 6.520505882295002e-05, 'lambda_l2': 4.153875991776822, 'minchild': 8}. Best is trial 496 with value: 3511896.0883319825.\u001b[0m\n"
     ]
    },
    {
     "name": "stdout",
     "output_type": "stream",
     "text": [
      "Early stopping, best iteration is:\n",
      "[267]\ttraining's l1: 627768\tvalid_1's l1: 3.64919e+06\n",
      "Training until validation scores don't improve for 5 rounds\n"
     ]
    },
    {
     "name": "stderr",
     "output_type": "stream",
     "text": [
      "\u001b[32m[I 2021-01-03 18:14:54,892]\u001b[0m Trial 697 finished with value: 3694230.5403423538 and parameters: {'nleaves': 61, 'bagfrac': 0.9238765538063862, 'bagfreq': 9, 'featfrac': 0.8646328295493223, 'lambda_l1': 8.880938743352992e-05, 'lambda_l2': 7.556947546970375, 'minchild': 11}. Best is trial 496 with value: 3511896.0883319825.\u001b[0m\n"
     ]
    },
    {
     "name": "stdout",
     "output_type": "stream",
     "text": [
      "Early stopping, best iteration is:\n",
      "[134]\ttraining's l1: 824514\tvalid_1's l1: 3.69423e+06\n",
      "Training until validation scores don't improve for 5 rounds\n"
     ]
    },
    {
     "name": "stderr",
     "output_type": "stream",
     "text": [
      "\u001b[32m[I 2021-01-03 18:14:56,258]\u001b[0m Trial 698 finished with value: 3679310.7403600416 and parameters: {'nleaves': 51, 'bagfrac': 0.9429820125650246, 'bagfreq': 2, 'featfrac': 0.8563166195760593, 'lambda_l1': 0.0004440303441868539, 'lambda_l2': 5.814946038685693, 'minchild': 1}. Best is trial 496 with value: 3511896.0883319825.\u001b[0m\n"
     ]
    },
    {
     "name": "stdout",
     "output_type": "stream",
     "text": [
      "Early stopping, best iteration is:\n",
      "[157]\ttraining's l1: 812542\tvalid_1's l1: 3.67931e+06\n",
      "Training until validation scores don't improve for 5 rounds\n"
     ]
    },
    {
     "name": "stderr",
     "output_type": "stream",
     "text": [
      "\u001b[32m[I 2021-01-03 18:14:57,504]\u001b[0m Trial 699 finished with value: 3657309.2550444994 and parameters: {'nleaves': 68, 'bagfrac': 0.9183137716640928, 'bagfreq': 2, 'featfrac': 0.8402097589575488, 'lambda_l1': 0.00016597964046438285, 'lambda_l2': 2.893634989185013, 'minchild': 5}. Best is trial 496 with value: 3511896.0883319825.\u001b[0m\n"
     ]
    },
    {
     "name": "stdout",
     "output_type": "stream",
     "text": [
      "Early stopping, best iteration is:\n",
      "[127]\ttraining's l1: 648476\tvalid_1's l1: 3.65731e+06\n",
      "Training until validation scores don't improve for 5 rounds\n"
     ]
    },
    {
     "name": "stderr",
     "output_type": "stream",
     "text": [
      "\u001b[32m[I 2021-01-03 18:14:59,782]\u001b[0m Trial 700 finished with value: 3606834.248666884 and parameters: {'nleaves': 46, 'bagfrac': 0.928384303895485, 'bagfreq': 3, 'featfrac': 0.8940698567607025, 'lambda_l1': 0.00010577132014888306, 'lambda_l2': 9.970604815729338, 'minchild': 13}. Best is trial 496 with value: 3511896.0883319825.\u001b[0m\n"
     ]
    },
    {
     "name": "stdout",
     "output_type": "stream",
     "text": [
      "Early stopping, best iteration is:\n",
      "[261]\ttraining's l1: 505243\tvalid_1's l1: 3.60683e+06\n",
      "Training until validation scores don't improve for 5 rounds\n"
     ]
    },
    {
     "name": "stderr",
     "output_type": "stream",
     "text": [
      "\u001b[32m[I 2021-01-03 18:15:01,636]\u001b[0m Trial 701 finished with value: 3673834.0577608855 and parameters: {'nleaves': 77, 'bagfrac': 0.9146018998813303, 'bagfreq': 10, 'featfrac': 0.8713074560691834, 'lambda_l1': 2.3125765743053173e-06, 'lambda_l2': 9.995124208413605, 'minchild': 3}. Best is trial 496 with value: 3511896.0883319825.\u001b[0m\n"
     ]
    },
    {
     "name": "stdout",
     "output_type": "stream",
     "text": [
      "Early stopping, best iteration is:\n",
      "[165]\ttraining's l1: 455378\tvalid_1's l1: 3.67383e+06\n",
      "Training until validation scores don't improve for 5 rounds\n"
     ]
    },
    {
     "name": "stderr",
     "output_type": "stream",
     "text": [
      "\u001b[32m[I 2021-01-03 18:15:03,065]\u001b[0m Trial 702 finished with value: 3723465.8884882755 and parameters: {'nleaves': 42, 'bagfrac': 0.906271898973224, 'bagfreq': 2, 'featfrac': 0.859586337078281, 'lambda_l1': 0.00027437816026509377, 'lambda_l2': 4.3486881393082655, 'minchild': 9}. Best is trial 496 with value: 3511896.0883319825.\u001b[0m\n"
     ]
    },
    {
     "name": "stdout",
     "output_type": "stream",
     "text": [
      "Early stopping, best iteration is:\n",
      "[269]\ttraining's l1: 491338\tvalid_1's l1: 3.72347e+06\n",
      "Training until validation scores don't improve for 5 rounds\n"
     ]
    },
    {
     "name": "stderr",
     "output_type": "stream",
     "text": [
      "\u001b[32m[I 2021-01-03 18:15:04,458]\u001b[0m Trial 703 finished with value: 3698522.4568873453 and parameters: {'nleaves': 65, 'bagfrac': 0.922889792725564, 'bagfreq': 5, 'featfrac': 0.8093871551349714, 'lambda_l1': 5.053261067423521e-05, 'lambda_l2': 7.513804782298343, 'minchild': 6}. Best is trial 496 with value: 3511896.0883319825.\u001b[0m\n"
     ]
    },
    {
     "name": "stdout",
     "output_type": "stream",
     "text": [
      "Early stopping, best iteration is:\n",
      "[145]\ttraining's l1: 676057\tvalid_1's l1: 3.69852e+06\n",
      "Training until validation scores don't improve for 5 rounds\n"
     ]
    },
    {
     "name": "stderr",
     "output_type": "stream",
     "text": [
      "\u001b[32m[I 2021-01-03 18:15:06,161]\u001b[0m Trial 704 finished with value: 3756634.3523695064 and parameters: {'nleaves': 55, 'bagfrac': 0.9340885183025328, 'bagfreq': 2, 'featfrac': 0.7843234636139294, 'lambda_l1': 0.0001479026209462421, 'lambda_l2': 5.834380642375477, 'minchild': 1}. Best is trial 496 with value: 3511896.0883319825.\u001b[0m\n"
     ]
    },
    {
     "name": "stdout",
     "output_type": "stream",
     "text": [
      "Early stopping, best iteration is:\n",
      "[201]\ttraining's l1: 502423\tvalid_1's l1: 3.75663e+06\n",
      "Training until validation scores don't improve for 5 rounds\n"
     ]
    },
    {
     "name": "stderr",
     "output_type": "stream",
     "text": [
      "\u001b[32m[I 2021-01-03 18:15:08,040]\u001b[0m Trial 705 finished with value: 3659120.978808454 and parameters: {'nleaves': 72, 'bagfrac': 0.9126427429251478, 'bagfreq': 1, 'featfrac': 0.8501798438531041, 'lambda_l1': 0.0008157724231232744, 'lambda_l2': 7.703395001712171, 'minchild': 4}. Best is trial 496 with value: 3511896.0883319825.\u001b[0m\n"
     ]
    },
    {
     "name": "stdout",
     "output_type": "stream",
     "text": [
      "Early stopping, best iteration is:\n",
      "[185]\ttraining's l1: 368470\tvalid_1's l1: 3.65912e+06\n",
      "Training until validation scores don't improve for 5 rounds\n"
     ]
    },
    {
     "name": "stderr",
     "output_type": "stream",
     "text": [
      "\u001b[32m[I 2021-01-03 18:15:09,053]\u001b[0m Trial 706 finished with value: 3803685.163772484 and parameters: {'nleaves': 32, 'bagfrac': 0.9286497717610794, 'bagfreq': 4, 'featfrac': 0.799606668840345, 'lambda_l1': 7.435410926810411e-05, 'lambda_l2': 3.787849710149372, 'minchild': 8}. Best is trial 496 with value: 3511896.0883319825.\u001b[0m\n"
     ]
    },
    {
     "name": "stdout",
     "output_type": "stream",
     "text": [
      "Early stopping, best iteration is:\n",
      "[236]\ttraining's l1: 931154\tvalid_1's l1: 3.80369e+06\n",
      "Training until validation scores don't improve for 5 rounds\n"
     ]
    },
    {
     "name": "stderr",
     "output_type": "stream",
     "text": [
      "\u001b[32m[I 2021-01-03 18:15:10,187]\u001b[0m Trial 707 finished with value: 3753414.6130209337 and parameters: {'nleaves': 60, 'bagfrac': 0.8728895386704372, 'bagfreq': 2, 'featfrac': 0.8677504934358535, 'lambda_l1': 4.961395187904864e-06, 'lambda_l2': 4.774843033363289, 'minchild': 11}. Best is trial 496 with value: 3511896.0883319825.\u001b[0m\n"
     ]
    },
    {
     "name": "stdout",
     "output_type": "stream",
     "text": [
      "Early stopping, best iteration is:\n",
      "[140]\ttraining's l1: 744075\tvalid_1's l1: 3.75341e+06\n",
      "Training until validation scores don't improve for 5 rounds\n"
     ]
    },
    {
     "name": "stderr",
     "output_type": "stream",
     "text": [
      "\u001b[32m[I 2021-01-03 18:15:11,804]\u001b[0m Trial 708 finished with value: 3888599.1767135146 and parameters: {'nleaves': 52, 'bagfrac': 0.9214231776078838, 'bagfreq': 2, 'featfrac': 0.7903394919167211, 'lambda_l1': 0.0019692364230176327, 'lambda_l2': 0.06552313097348106, 'minchild': 1}. Best is trial 496 with value: 3511896.0883319825.\u001b[0m\n"
     ]
    },
    {
     "name": "stdout",
     "output_type": "stream",
     "text": [
      "Early stopping, best iteration is:\n",
      "[200]\ttraining's l1: 449052\tvalid_1's l1: 3.8886e+06\n",
      "Training until validation scores don't improve for 5 rounds\n"
     ]
    },
    {
     "name": "stderr",
     "output_type": "stream",
     "text": [
      "\u001b[32m[I 2021-01-03 18:15:14,295]\u001b[0m Trial 709 finished with value: 3643131.9816719005 and parameters: {'nleaves': 102, 'bagfrac': 0.8999658849862603, 'bagfreq': 2, 'featfrac': 0.8376287937599054, 'lambda_l1': 1.7251426745668434e-06, 'lambda_l2': 9.945033111553732, 'minchild': 6}. Best is trial 496 with value: 3511896.0883319825.\u001b[0m\n"
     ]
    },
    {
     "name": "stdout",
     "output_type": "stream",
     "text": [
      "Early stopping, best iteration is:\n",
      "[192]\ttraining's l1: 201362\tvalid_1's l1: 3.64313e+06\n",
      "Training until validation scores don't improve for 5 rounds\n"
     ]
    },
    {
     "name": "stderr",
     "output_type": "stream",
     "text": [
      "\u001b[32m[I 2021-01-03 18:15:16,416]\u001b[0m Trial 710 finished with value: 3767872.726757844 and parameters: {'nleaves': 67, 'bagfrac': 0.9354769642668848, 'bagfreq': 3, 'featfrac': 0.8744623870350424, 'lambda_l1': 0.0010643602707366333, 'lambda_l2': 0.377518914014426, 'minchild': 3}. Best is trial 496 with value: 3511896.0883319825.\u001b[0m\n"
     ]
    },
    {
     "name": "stdout",
     "output_type": "stream",
     "text": [
      "Early stopping, best iteration is:\n",
      "[240]\ttraining's l1: 174816\tvalid_1's l1: 3.76787e+06\n",
      "Training until validation scores don't improve for 5 rounds\n"
     ]
    },
    {
     "name": "stderr",
     "output_type": "stream",
     "text": [
      "\u001b[32m[I 2021-01-03 18:15:17,755]\u001b[0m Trial 711 finished with value: 3719539.763089132 and parameters: {'nleaves': 40, 'bagfrac': 0.907491413243084, 'bagfreq': 2, 'featfrac': 0.8853857781464208, 'lambda_l1': 3.671680858838137e-05, 'lambda_l2': 0.01580567976132275, 'minchild': 5}. Best is trial 496 with value: 3511896.0883319825.\u001b[0m\n"
     ]
    },
    {
     "name": "stdout",
     "output_type": "stream",
     "text": [
      "Early stopping, best iteration is:\n",
      "[251]\ttraining's l1: 488741\tvalid_1's l1: 3.71954e+06\n",
      "Training until validation scores don't improve for 5 rounds\n"
     ]
    },
    {
     "name": "stderr",
     "output_type": "stream",
     "text": [
      "\u001b[32m[I 2021-01-03 18:15:19,492]\u001b[0m Trial 712 finished with value: 3626246.4179093135 and parameters: {'nleaves': 46, 'bagfrac': 0.8539696741958268, 'bagfreq': 1, 'featfrac': 0.8444965348688711, 'lambda_l1': 0.0005821438990913668, 'lambda_l2': 7.296227876261632, 'minchild': 9}. Best is trial 496 with value: 3511896.0883319825.\u001b[0m\n"
     ]
    },
    {
     "name": "stdout",
     "output_type": "stream",
     "text": [
      "Early stopping, best iteration is:\n",
      "[276]\ttraining's l1: 431161\tvalid_1's l1: 3.62625e+06\n",
      "Training until validation scores don't improve for 5 rounds\n"
     ]
    },
    {
     "name": "stderr",
     "output_type": "stream",
     "text": [
      "\u001b[32m[I 2021-01-03 18:15:20,555]\u001b[0m Trial 713 finished with value: 3770420.7333651106 and parameters: {'nleaves': 59, 'bagfrac': 0.9163722429914181, 'bagfreq': 2, 'featfrac': 0.8608309568088387, 'lambda_l1': 9.866233693827293e-05, 'lambda_l2': 2.667730349604287, 'minchild': 13}. Best is trial 496 with value: 3511896.0883319825.\u001b[0m\n"
     ]
    },
    {
     "name": "stdout",
     "output_type": "stream",
     "text": [
      "Early stopping, best iteration is:\n",
      "[136]\ttraining's l1: 752691\tvalid_1's l1: 3.77042e+06\n",
      "Training until validation scores don't improve for 5 rounds\n"
     ]
    },
    {
     "name": "stderr",
     "output_type": "stream",
     "text": [
      "\u001b[32m[I 2021-01-03 18:15:23,749]\u001b[0m Trial 714 finished with value: 3653705.444777492 and parameters: {'nleaves': 74, 'bagfrac': 0.9243483759917019, 'bagfreq': 2, 'featfrac': 0.8514785576949164, 'lambda_l1': 0.00022646914537241138, 'lambda_l2': 5.270280578166448, 'minchild': 1}. Best is trial 496 with value: 3511896.0883319825.\u001b[0m\n"
     ]
    },
    {
     "name": "stdout",
     "output_type": "stream",
     "text": [
      "Early stopping, best iteration is:\n",
      "[265]\ttraining's l1: 144717\tvalid_1's l1: 3.65371e+06\n",
      "Training until validation scores don't improve for 5 rounds\n"
     ]
    },
    {
     "name": "stderr",
     "output_type": "stream",
     "text": [
      "\u001b[32m[I 2021-01-03 18:15:25,775]\u001b[0m Trial 715 finished with value: 3611014.7869594656 and parameters: {'nleaves': 50, 'bagfrac': 0.9137353747216562, 'bagfreq': 2, 'featfrac': 0.8656538965196883, 'lambda_l1': 5.6773821568374035e-05, 'lambda_l2': 7.47283248974567, 'minchild': 7}. Best is trial 496 with value: 3511896.0883319825.\u001b[0m\n"
     ]
    },
    {
     "name": "stdout",
     "output_type": "stream",
     "text": [
      "Early stopping, best iteration is:\n",
      "[320]\ttraining's l1: 271463\tvalid_1's l1: 3.61101e+06\n",
      "Training until validation scores don't improve for 5 rounds\n"
     ]
    },
    {
     "name": "stderr",
     "output_type": "stream",
     "text": [
      "\u001b[32m[I 2021-01-03 18:15:27,508]\u001b[0m Trial 716 finished with value: 3693900.007538314 and parameters: {'nleaves': 63, 'bagfrac': 0.9400389820144471, 'bagfreq': 3, 'featfrac': 0.8774571124287519, 'lambda_l1': 0.00016764201997054707, 'lambda_l2': 3.7877644955838066, 'minchild': 3}. Best is trial 496 with value: 3511896.0883319825.\u001b[0m\n"
     ]
    },
    {
     "name": "stdout",
     "output_type": "stream",
     "text": [
      "Early stopping, best iteration is:\n",
      "[190]\ttraining's l1: 401562\tvalid_1's l1: 3.6939e+06\n",
      "Training until validation scores don't improve for 5 rounds\n"
     ]
    },
    {
     "name": "stderr",
     "output_type": "stream",
     "text": [
      "\u001b[32m[I 2021-01-03 18:15:28,800]\u001b[0m Trial 717 finished with value: 3749875.9595413893 and parameters: {'nleaves': 36, 'bagfrac': 0.929632490811731, 'bagfreq': 2, 'featfrac': 0.8551215790129598, 'lambda_l1': 0.00013464176776063736, 'lambda_l2': 9.809395366982319, 'minchild': 10}. Best is trial 496 with value: 3511896.0883319825.\u001b[0m\n"
     ]
    },
    {
     "name": "stdout",
     "output_type": "stream",
     "text": [
      "Early stopping, best iteration is:\n",
      "[271]\ttraining's l1: 711581\tvalid_1's l1: 3.74988e+06\n",
      "Training until validation scores don't improve for 5 rounds\n"
     ]
    },
    {
     "name": "stderr",
     "output_type": "stream",
     "text": [
      "\u001b[32m[I 2021-01-03 18:15:30,295]\u001b[0m Trial 718 finished with value: 3732617.5889802095 and parameters: {'nleaves': 55, 'bagfrac': 0.9210287617149908, 'bagfreq': 1, 'featfrac': 0.8059171533196203, 'lambda_l1': 1.0087295536861898e-06, 'lambda_l2': 5.659805135280441, 'minchild': 15}. Best is trial 496 with value: 3511896.0883319825.\u001b[0m\n"
     ]
    },
    {
     "name": "stdout",
     "output_type": "stream",
     "text": [
      "Early stopping, best iteration is:\n",
      "[222]\ttraining's l1: 449060\tvalid_1's l1: 3.73262e+06\n",
      "Training until validation scores don't improve for 5 rounds\n",
      "Early stopping, best iteration is:\n",
      "[158]\ttraining's l1: 50423.9\tvalid_1's l1: 3.96113e+06\n"
     ]
    },
    {
     "name": "stderr",
     "output_type": "stream",
     "text": [
      "\u001b[32m[I 2021-01-03 18:15:33,095]\u001b[0m Trial 719 finished with value: 3961130.2480084547 and parameters: {'nleaves': 163, 'bagfrac': 0.9098476318908651, 'bagfreq': 2, 'featfrac': 0.869793203190337, 'lambda_l1': 0.00037467154763443447, 'lambda_l2': 1.9815268220655986, 'minchild': 5}. Best is trial 496 with value: 3511896.0883319825.\u001b[0m\n"
     ]
    },
    {
     "name": "stdout",
     "output_type": "stream",
     "text": [
      "Training until validation scores don't improve for 5 rounds\n"
     ]
    },
    {
     "name": "stderr",
     "output_type": "stream",
     "text": [
      "\u001b[32m[I 2021-01-03 18:15:34,950]\u001b[0m Trial 720 finished with value: 3634457.2844618685 and parameters: {'nleaves': 68, 'bagfrac': 0.9033845567816048, 'bagfreq': 2, 'featfrac': 0.8333900335739197, 'lambda_l1': 7.251971665106602e-05, 'lambda_l2': 7.656978560050106, 'minchild': 1}. Best is trial 496 with value: 3511896.0883319825.\u001b[0m\n"
     ]
    },
    {
     "name": "stdout",
     "output_type": "stream",
     "text": [
      "Early stopping, best iteration is:\n",
      "[158]\ttraining's l1: 531248\tvalid_1's l1: 3.63446e+06\n",
      "Training until validation scores don't improve for 5 rounds\n"
     ]
    },
    {
     "name": "stderr",
     "output_type": "stream",
     "text": [
      "\u001b[32m[I 2021-01-03 18:15:35,777]\u001b[0m Trial 721 finished with value: 3701003.9312924477 and parameters: {'nleaves': 44, 'bagfrac': 0.9180399450799672, 'bagfreq': 2, 'featfrac': 0.8451483312585366, 'lambda_l1': 0.00021414672535338203, 'lambda_l2': 9.996050500885794, 'minchild': 64}. Best is trial 496 with value: 3511896.0883319825.\u001b[0m\n"
     ]
    },
    {
     "name": "stdout",
     "output_type": "stream",
     "text": [
      "Early stopping, best iteration is:\n",
      "[205]\ttraining's l1: 1.22083e+06\tvalid_1's l1: 3.701e+06\n",
      "Training until validation scores don't improve for 5 rounds\n"
     ]
    },
    {
     "name": "stderr",
     "output_type": "stream",
     "text": [
      "\u001b[32m[I 2021-01-03 18:15:38,060]\u001b[0m Trial 722 finished with value: 3653486.2040997064 and parameters: {'nleaves': 62, 'bagfrac': 0.927824683024122, 'bagfreq': 1, 'featfrac': 0.8111437396136314, 'lambda_l1': 3.3445478099743064e-06, 'lambda_l2': 4.768323787409311, 'minchild': 3}. Best is trial 496 with value: 3511896.0883319825.\u001b[0m\n"
     ]
    },
    {
     "name": "stdout",
     "output_type": "stream",
     "text": [
      "Early stopping, best iteration is:\n",
      "[250]\ttraining's l1: 261604\tvalid_1's l1: 3.65349e+06\n",
      "Training until validation scores don't improve for 5 rounds\n"
     ]
    },
    {
     "name": "stderr",
     "output_type": "stream",
     "text": [
      "\u001b[32m[I 2021-01-03 18:15:39,717]\u001b[0m Trial 723 finished with value: 3699898.753324291 and parameters: {'nleaves': 57, 'bagfrac': 0.8951428453583032, 'bagfreq': 2, 'featfrac': 0.861216495153545, 'lambda_l1': 9.581037842731713e-05, 'lambda_l2': 3.322243809673082, 'minchild': 7}. Best is trial 496 with value: 3511896.0883319825.\u001b[0m\n"
     ]
    },
    {
     "name": "stdout",
     "output_type": "stream",
     "text": [
      "Early stopping, best iteration is:\n",
      "[226]\ttraining's l1: 352786\tvalid_1's l1: 3.6999e+06\n",
      "Training until validation scores don't improve for 5 rounds\n"
     ]
    },
    {
     "name": "stderr",
     "output_type": "stream",
     "text": [
      "\u001b[32m[I 2021-01-03 18:15:42,041]\u001b[0m Trial 724 finished with value: 3775284.7924238383 and parameters: {'nleaves': 189, 'bagfrac': 0.9354492059772802, 'bagfreq': 2, 'featfrac': 0.8500647640076475, 'lambda_l1': 0.00012314396654505407, 'lambda_l2': 6.099361582774099, 'minchild': 11}. Best is trial 496 with value: 3511896.0883319825.\u001b[0m\n"
     ]
    },
    {
     "name": "stdout",
     "output_type": "stream",
     "text": [
      "Early stopping, best iteration is:\n",
      "[147]\ttraining's l1: 133847\tvalid_1's l1: 3.77528e+06\n",
      "Training until validation scores don't improve for 5 rounds\n"
     ]
    },
    {
     "name": "stderr",
     "output_type": "stream",
     "text": [
      "\u001b[32m[I 2021-01-03 18:15:42,862]\u001b[0m Trial 725 finished with value: 3708946.092720149 and parameters: {'nleaves': 49, 'bagfrac': 0.9234320754065305, 'bagfreq': 2, 'featfrac': 0.7943132213234296, 'lambda_l1': 4.399673216775954e-05, 'lambda_l2': 7.547508759497829, 'minchild': 85}. Best is trial 496 with value: 3511896.0883319825.\u001b[0m\n"
     ]
    },
    {
     "name": "stdout",
     "output_type": "stream",
     "text": [
      "Early stopping, best iteration is:\n",
      "[271]\ttraining's l1: 1.26588e+06\tvalid_1's l1: 3.70895e+06\n",
      "Training until validation scores don't improve for 5 rounds\n"
     ]
    },
    {
     "name": "stderr",
     "output_type": "stream",
     "text": [
      "\u001b[32m[I 2021-01-03 18:15:44,701]\u001b[0m Trial 726 finished with value: 3591415.325181722 and parameters: {'nleaves': 77, 'bagfrac': 0.9148334686190914, 'bagfreq': 3, 'featfrac': 0.8795829170247382, 'lambda_l1': 0.00029055031229430873, 'lambda_l2': 4.345808342234968, 'minchild': 5}. Best is trial 496 with value: 3511896.0883319825.\u001b[0m\n"
     ]
    },
    {
     "name": "stdout",
     "output_type": "stream",
     "text": [
      "Early stopping, best iteration is:\n",
      "[172]\ttraining's l1: 334188\tvalid_1's l1: 3.59142e+06\n",
      "Training until validation scores don't improve for 5 rounds\n"
     ]
    },
    {
     "name": "stderr",
     "output_type": "stream",
     "text": [
      "\u001b[32m[I 2021-01-03 18:15:47,138]\u001b[0m Trial 727 finished with value: 3828353.1841147286 and parameters: {'nleaves': 71, 'bagfrac': 0.9436859655787463, 'bagfreq': 1, 'featfrac': 0.8583849717084503, 'lambda_l1': 6.347200604991752e-05, 'lambda_l2': 3.2331493007219046e-05, 'minchild': 1}. Best is trial 496 with value: 3511896.0883319825.\u001b[0m\n"
     ]
    },
    {
     "name": "stdout",
     "output_type": "stream",
     "text": [
      "Early stopping, best iteration is:\n",
      "[239]\ttraining's l1: 148216\tvalid_1's l1: 3.82835e+06\n",
      "Training until validation scores don't improve for 5 rounds\n"
     ]
    },
    {
     "name": "stderr",
     "output_type": "stream",
     "text": [
      "\u001b[32m[I 2021-01-03 18:15:49,293]\u001b[0m Trial 728 finished with value: 3742992.2667549425 and parameters: {'nleaves': 142, 'bagfrac': 0.9319058929144317, 'bagfreq': 2, 'featfrac': 0.7999925901382127, 'lambda_l1': 1.358952856150163e-06, 'lambda_l2': 6.092120021179995, 'minchild': 8}. Best is trial 496 with value: 3511896.0883319825.\u001b[0m\n"
     ]
    },
    {
     "name": "stdout",
     "output_type": "stream",
     "text": [
      "Early stopping, best iteration is:\n",
      "[153]\ttraining's l1: 149667\tvalid_1's l1: 3.74299e+06\n",
      "Training until validation scores don't improve for 5 rounds\n"
     ]
    },
    {
     "name": "stderr",
     "output_type": "stream",
     "text": [
      "\u001b[32m[I 2021-01-03 18:15:51,229]\u001b[0m Trial 729 finished with value: 3672663.8347940263 and parameters: {'nleaves': 82, 'bagfrac': 0.9086897928739706, 'bagfreq': 2, 'featfrac': 0.8655281913157146, 'lambda_l1': 0.0001863868131838962, 'lambda_l2': 7.816618113312176, 'minchild': 3}. Best is trial 496 with value: 3511896.0883319825.\u001b[0m\n"
     ]
    },
    {
     "name": "stdout",
     "output_type": "stream",
     "text": [
      "Early stopping, best iteration is:\n",
      "[165]\ttraining's l1: 365673\tvalid_1's l1: 3.67266e+06\n",
      "Training until validation scores don't improve for 5 rounds\n"
     ]
    },
    {
     "name": "stderr",
     "output_type": "stream",
     "text": [
      "\u001b[32m[I 2021-01-03 18:15:52,800]\u001b[0m Trial 730 finished with value: 3645925.815802366 and parameters: {'nleaves': 42, 'bagfrac': 0.9178791702097814, 'bagfreq': 2, 'featfrac': 0.872697054208592, 'lambda_l1': 2.0646944821829638e-06, 'lambda_l2': 9.952343179214491, 'minchild': 14}. Best is trial 496 with value: 3511896.0883319825.\u001b[0m\n"
     ]
    },
    {
     "name": "stdout",
     "output_type": "stream",
     "text": [
      "Early stopping, best iteration is:\n",
      "[270]\ttraining's l1: 567599\tvalid_1's l1: 3.64593e+06\n",
      "Training until validation scores don't improve for 5 rounds\n"
     ]
    },
    {
     "name": "stderr",
     "output_type": "stream",
     "text": [
      "\u001b[32m[I 2021-01-03 18:15:54,687]\u001b[0m Trial 731 finished with value: 3632156.5610162094 and parameters: {'nleaves': 66, 'bagfrac': 0.9258475754208224, 'bagfreq': 2, 'featfrac': 0.839721040903154, 'lambda_l1': 0.0015563623748888833, 'lambda_l2': 9.89171577928347, 'minchild': 6}. Best is trial 496 with value: 3511896.0883319825.\u001b[0m\n"
     ]
    },
    {
     "name": "stdout",
     "output_type": "stream",
     "text": [
      "Early stopping, best iteration is:\n",
      "[209]\ttraining's l1: 384615\tvalid_1's l1: 3.63216e+06\n",
      "Training until validation scores don't improve for 5 rounds\n"
     ]
    },
    {
     "name": "stderr",
     "output_type": "stream",
     "text": [
      "\u001b[32m[I 2021-01-03 18:15:56,638]\u001b[0m Trial 732 finished with value: 3788211.5841274783 and parameters: {'nleaves': 54, 'bagfrac': 0.879026287442451, 'bagfreq': 2, 'featfrac': 0.8544298038011311, 'lambda_l1': 8.639603470821934e-05, 'lambda_l2': 2.9825498879980854, 'minchild': 4}. Best is trial 496 with value: 3511896.0883319825.\u001b[0m\n"
     ]
    },
    {
     "name": "stdout",
     "output_type": "stream",
     "text": [
      "Early stopping, best iteration is:\n",
      "[268]\ttraining's l1: 268224\tvalid_1's l1: 3.78821e+06\n",
      "Training until validation scores don't improve for 5 rounds\n"
     ]
    },
    {
     "name": "stderr",
     "output_type": "stream",
     "text": [
      "\u001b[32m[I 2021-01-03 18:15:58,639]\u001b[0m Trial 733 finished with value: 3805968.1886930936 and parameters: {'nleaves': 212, 'bagfrac': 0.9129649229838218, 'bagfreq': 1, 'featfrac': 0.8266011177342864, 'lambda_l1': 0.00012878558087758767, 'lambda_l2': 4.886115297798088, 'minchild': 12}. Best is trial 496 with value: 3511896.0883319825.\u001b[0m\n"
     ]
    },
    {
     "name": "stdout",
     "output_type": "stream",
     "text": [
      "Early stopping, best iteration is:\n",
      "[137]\ttraining's l1: 153979\tvalid_1's l1: 3.80597e+06\n",
      "Training until validation scores don't improve for 5 rounds\n"
     ]
    },
    {
     "name": "stderr",
     "output_type": "stream",
     "text": [
      "\u001b[32m[I 2021-01-03 18:16:00,309]\u001b[0m Trial 734 finished with value: 3624651.6065112236 and parameters: {'nleaves': 61, 'bagfrac': 0.9219721905821029, 'bagfreq': 2, 'featfrac': 0.8639165530607866, 'lambda_l1': 0.0005742473208503959, 'lambda_l2': 5.943265785307597, 'minchild': 9}. Best is trial 496 with value: 3511896.0883319825.\u001b[0m\n"
     ]
    },
    {
     "name": "stdout",
     "output_type": "stream",
     "text": [
      "Early stopping, best iteration is:\n",
      "[218]\ttraining's l1: 364568\tvalid_1's l1: 3.62465e+06\n",
      "Training until validation scores don't improve for 5 rounds\n"
     ]
    },
    {
     "name": "stderr",
     "output_type": "stream",
     "text": [
      "\u001b[32m[I 2021-01-03 18:16:00,947]\u001b[0m Trial 735 finished with value: 3954289.4066613233 and parameters: {'nleaves': 47, 'bagfrac': 0.9035651455338453, 'bagfreq': 3, 'featfrac': 0.8144966393466945, 'lambda_l1': 3.8844848448376995e-05, 'lambda_l2': 7.658200374725696, 'minchild': 96}. Best is trial 496 with value: 3511896.0883319825.\u001b[0m\n"
     ]
    },
    {
     "name": "stdout",
     "output_type": "stream",
     "text": [
      "Early stopping, best iteration is:\n",
      "[212]\ttraining's l1: 1.79103e+06\tvalid_1's l1: 3.95429e+06\n",
      "Training until validation scores don't improve for 5 rounds\n"
     ]
    },
    {
     "name": "stderr",
     "output_type": "stream",
     "text": [
      "\u001b[32m[I 2021-01-03 18:16:02,651]\u001b[0m Trial 736 finished with value: 3719092.7246270394 and parameters: {'nleaves': 39, 'bagfrac': 0.9308056174275038, 'bagfreq': 2, 'featfrac': 0.8839470279662309, 'lambda_l1': 6.864701802590513e-05, 'lambda_l2': 9.960623597293413, 'minchild': 1}. Best is trial 496 with value: 3511896.0883319825.\u001b[0m\n"
     ]
    },
    {
     "name": "stdout",
     "output_type": "stream",
     "text": [
      "Early stopping, best iteration is:\n",
      "[271]\ttraining's l1: 614610\tvalid_1's l1: 3.71909e+06\n",
      "Training until validation scores don't improve for 5 rounds\n"
     ]
    },
    {
     "name": "stderr",
     "output_type": "stream",
     "text": [
      "\u001b[32m[I 2021-01-03 18:16:04,216]\u001b[0m Trial 737 finished with value: 3711504.7045176015 and parameters: {'nleaves': 73, 'bagfrac': 0.9377883444140193, 'bagfreq': 2, 'featfrac': 0.8502289869759109, 'lambda_l1': 0.00026506378612657064, 'lambda_l2': 4.026114777558008, 'minchild': 3}. Best is trial 496 with value: 3511896.0883319825.\u001b[0m\n"
     ]
    },
    {
     "name": "stdout",
     "output_type": "stream",
     "text": [
      "Early stopping, best iteration is:\n",
      "[135]\ttraining's l1: 558323\tvalid_1's l1: 3.7115e+06\n",
      "Training until validation scores don't improve for 5 rounds\n"
     ]
    },
    {
     "name": "stderr",
     "output_type": "stream",
     "text": [
      "\u001b[32m[I 2021-01-03 18:16:05,132]\u001b[0m Trial 738 finished with value: 3807980.606119004 and parameters: {'nleaves': 32, 'bagfrac': 0.9193292433410646, 'bagfreq': 8, 'featfrac': 0.8703928927122152, 'lambda_l1': 2.877413727529671e-05, 'lambda_l2': 2.3728617253942907, 'minchild': 7}. Best is trial 496 with value: 3511896.0883319825.\u001b[0m\n"
     ]
    },
    {
     "name": "stdout",
     "output_type": "stream",
     "text": [
      "Early stopping, best iteration is:\n",
      "[184]\ttraining's l1: 1.15963e+06\tvalid_1's l1: 3.80798e+06\n",
      "Training until validation scores don't improve for 5 rounds\n"
     ]
    },
    {
     "name": "stderr",
     "output_type": "stream",
     "text": [
      "\u001b[32m[I 2021-01-03 18:16:06,631]\u001b[0m Trial 739 finished with value: 3684352.5265433965 and parameters: {'nleaves': 59, 'bagfrac': 0.9111444474495894, 'bagfreq': 2, 'featfrac': 0.7862401985827447, 'lambda_l1': 0.00010727881618584107, 'lambda_l2': 9.77540784990872, 'minchild': 5}. Best is trial 496 with value: 3511896.0883319825.\u001b[0m\n"
     ]
    },
    {
     "name": "stdout",
     "output_type": "stream",
     "text": [
      "Early stopping, best iteration is:\n",
      "[182]\ttraining's l1: 574935\tvalid_1's l1: 3.68435e+06\n",
      "Training until validation scores don't improve for 5 rounds\n"
     ]
    },
    {
     "name": "stderr",
     "output_type": "stream",
     "text": [
      "\u001b[32m[I 2021-01-03 18:16:07,906]\u001b[0m Trial 740 finished with value: 3808251.4164111638 and parameters: {'nleaves': 52, 'bagfrac': 0.9254085883445743, 'bagfreq': 1, 'featfrac': 0.8435593068383398, 'lambda_l1': 0.0001567481922970301, 'lambda_l2': 6.273403335614475, 'minchild': 10}. Best is trial 496 with value: 3511896.0883319825.\u001b[0m\n"
     ]
    },
    {
     "name": "stdout",
     "output_type": "stream",
     "text": [
      "Early stopping, best iteration is:\n",
      "[188]\ttraining's l1: 627873\tvalid_1's l1: 3.80825e+06\n",
      "Training until validation scores don't improve for 5 rounds\n"
     ]
    },
    {
     "name": "stderr",
     "output_type": "stream",
     "text": [
      "\u001b[32m[I 2021-01-03 18:16:09,418]\u001b[0m Trial 741 finished with value: 3788603.3384334734 and parameters: {'nleaves': 64, 'bagfrac': 0.9183895072246543, 'bagfreq': 2, 'featfrac': 0.8030114193886063, 'lambda_l1': 0.0024062630072704096, 'lambda_l2': 3.5218029541802425, 'minchild': 2}. Best is trial 496 with value: 3511896.0883319825.\u001b[0m\n"
     ]
    },
    {
     "name": "stdout",
     "output_type": "stream",
     "text": [
      "Early stopping, best iteration is:\n",
      "[157]\ttraining's l1: 541367\tvalid_1's l1: 3.7886e+06\n",
      "Training until validation scores don't improve for 5 rounds\n"
     ]
    },
    {
     "name": "stderr",
     "output_type": "stream",
     "text": [
      "\u001b[32m[I 2021-01-03 18:16:11,033]\u001b[0m Trial 742 finished with value: 3692969.1829960663 and parameters: {'nleaves': 69, 'bagfrac': 0.8433840490827387, 'bagfreq': 3, 'featfrac': 0.8576800749121859, 'lambda_l1': 6.264300278437252e-05, 'lambda_l2': 9.8303010081831, 'minchild': 12}. Best is trial 496 with value: 3511896.0883319825.\u001b[0m\n"
     ]
    },
    {
     "name": "stdout",
     "output_type": "stream",
     "text": [
      "Early stopping, best iteration is:\n",
      "[192]\ttraining's l1: 456783\tvalid_1's l1: 3.69297e+06\n",
      "Training until validation scores don't improve for 5 rounds\n"
     ]
    },
    {
     "name": "stderr",
     "output_type": "stream",
     "text": [
      "\u001b[32m[I 2021-01-03 18:16:12,373]\u001b[0m Trial 743 finished with value: 3592102.314782879 and parameters: {'nleaves': 47, 'bagfrac': 0.9060918304231019, 'bagfreq': 2, 'featfrac': 0.8324715115913625, 'lambda_l1': 0.0003931232490716723, 'lambda_l2': 5.101480546017413, 'minchild': 8}. Best is trial 496 with value: 3511896.0883319825.\u001b[0m\n"
     ]
    },
    {
     "name": "stdout",
     "output_type": "stream",
     "text": [
      "Early stopping, best iteration is:\n",
      "[218]\ttraining's l1: 585213\tvalid_1's l1: 3.5921e+06\n",
      "Training until validation scores don't improve for 5 rounds\n"
     ]
    },
    {
     "name": "stderr",
     "output_type": "stream",
     "text": [
      "\u001b[32m[I 2021-01-03 18:16:13,748]\u001b[0m Trial 744 finished with value: 3757155.0540660475 and parameters: {'nleaves': 53, 'bagfrac': 0.9289516316064098, 'bagfreq': 2, 'featfrac': 0.8763391851279856, 'lambda_l1': 1.417722924584633e-06, 'lambda_l2': 7.2756584250902545, 'minchild': 1}. Best is trial 496 with value: 3511896.0883319825.\u001b[0m\n"
     ]
    },
    {
     "name": "stdout",
     "output_type": "stream",
     "text": [
      "Early stopping, best iteration is:\n",
      "[136]\ttraining's l1: 910308\tvalid_1's l1: 3.75716e+06\n",
      "Training until validation scores don't improve for 5 rounds\n"
     ]
    },
    {
     "name": "stderr",
     "output_type": "stream",
     "text": [
      "\u001b[32m[I 2021-01-03 18:16:15,394]\u001b[0m Trial 745 finished with value: 3674413.2036743583 and parameters: {'nleaves': 58, 'bagfrac': 0.8239755972650842, 'bagfreq': 1, 'featfrac': 0.8622164127567092, 'lambda_l1': 9.16912725216921e-05, 'lambda_l2': 5.878560919296988, 'minchild': 5}. Best is trial 496 with value: 3511896.0883319825.\u001b[0m\n"
     ]
    },
    {
     "name": "stdout",
     "output_type": "stream",
     "text": [
      "Early stopping, best iteration is:\n",
      "[197]\ttraining's l1: 478504\tvalid_1's l1: 3.67441e+06\n",
      "Training until validation scores don't improve for 5 rounds\n"
     ]
    },
    {
     "name": "stderr",
     "output_type": "stream",
     "text": [
      "\u001b[32m[I 2021-01-03 18:16:16,886]\u001b[0m Trial 746 finished with value: 3744421.6602728083 and parameters: {'nleaves': 36, 'bagfrac': 0.9348533016013142, 'bagfreq': 4, 'featfrac': 0.8904701477680073, 'lambda_l1': 1.0139321822609986e-06, 'lambda_l2': 3.6598225998288574, 'minchild': 3}. Best is trial 496 with value: 3511896.0883319825.\u001b[0m\n"
     ]
    },
    {
     "name": "stdout",
     "output_type": "stream",
     "text": [
      "Early stopping, best iteration is:\n",
      "[247]\ttraining's l1: 701246\tvalid_1's l1: 3.74442e+06\n",
      "Training until validation scores don't improve for 5 rounds\n"
     ]
    },
    {
     "name": "stderr",
     "output_type": "stream",
     "text": [
      "\u001b[32m[I 2021-01-03 18:16:18,616]\u001b[0m Trial 747 finished with value: 3672315.057702846 and parameters: {'nleaves': 43, 'bagfrac': 0.9148251410482063, 'bagfreq': 2, 'featfrac': 0.8100621731286916, 'lambda_l1': 0.0010596498802914014, 'lambda_l2': 9.906267865526734, 'minchild': 7}. Best is trial 496 with value: 3511896.0883319825.\u001b[0m\n"
     ]
    },
    {
     "name": "stdout",
     "output_type": "stream",
     "text": [
      "Early stopping, best iteration is:\n",
      "[318]\ttraining's l1: 416518\tvalid_1's l1: 3.67232e+06\n",
      "Training until validation scores don't improve for 5 rounds\n"
     ]
    },
    {
     "name": "stderr",
     "output_type": "stream",
     "text": [
      "\u001b[32m[I 2021-01-03 18:16:20,360]\u001b[0m Trial 748 finished with value: 3684142.3625244573 and parameters: {'nleaves': 65, 'bagfrac': 0.9224001087795177, 'bagfreq': 2, 'featfrac': 0.7953730286623828, 'lambda_l1': 0.0001383423867268132, 'lambda_l2': 6.999629262208599, 'minchild': 15}. Best is trial 496 with value: 3511896.0883319825.\u001b[0m\n"
     ]
    },
    {
     "name": "stdout",
     "output_type": "stream",
     "text": [
      "Early stopping, best iteration is:\n",
      "[255]\ttraining's l1: 263937\tvalid_1's l1: 3.68414e+06\n",
      "Training until validation scores don't improve for 5 rounds\n",
      "Early stopping, best iteration is:\n",
      "[181]\ttraining's l1: 329848\tvalid_1's l1: 3.70734e+06\n"
     ]
    },
    {
     "name": "stderr",
     "output_type": "stream",
     "text": [
      "\u001b[32m[I 2021-01-03 18:16:22,634]\u001b[0m Trial 749 finished with value: 3707342.657114724 and parameters: {'nleaves': 74, 'bagfrac': 0.8992355052162573, 'bagfreq': 2, 'featfrac': 0.8464224673364658, 'lambda_l1': 0.00020365888753871847, 'lambda_l2': 4.730047891448423, 'minchild': 1}. Best is trial 496 with value: 3511896.0883319825.\u001b[0m\n"
     ]
    },
    {
     "name": "stdout",
     "output_type": "stream",
     "text": [
      "Training until validation scores don't improve for 5 rounds\n"
     ]
    },
    {
     "name": "stderr",
     "output_type": "stream",
     "text": [
      "\u001b[32m[I 2021-01-03 18:16:24,389]\u001b[0m Trial 750 finished with value: 3575947.3376699635 and parameters: {'nleaves': 50, 'bagfrac': 0.91059696242759, 'bagfreq': 2, 'featfrac': 0.8381582541852755, 'lambda_l1': 5.3908693491772816e-05, 'lambda_l2': 7.88156099347996, 'minchild': 5}. Best is trial 496 with value: 3511896.0883319825.\u001b[0m\n"
     ]
    },
    {
     "name": "stdout",
     "output_type": "stream",
     "text": [
      "Early stopping, best iteration is:\n",
      "[235]\ttraining's l1: 483105\tvalid_1's l1: 3.57595e+06\n",
      "Training until validation scores don't improve for 5 rounds\n"
     ]
    },
    {
     "name": "stderr",
     "output_type": "stream",
     "text": [
      "\u001b[32m[I 2021-01-03 18:16:26,014]\u001b[0m Trial 751 finished with value: 3619384.930158692 and parameters: {'nleaves': 56, 'bagfrac': 0.9035056874321682, 'bagfreq': 3, 'featfrac': 0.8382037546942834, 'lambda_l1': 4.385172277646222e-05, 'lambda_l2': 1.8276809280603286, 'minchild': 4}. Best is trial 496 with value: 3511896.0883319825.\u001b[0m\n"
     ]
    },
    {
     "name": "stdout",
     "output_type": "stream",
     "text": [
      "Early stopping, best iteration is:\n",
      "[209]\ttraining's l1: 382454\tvalid_1's l1: 3.61938e+06\n",
      "Training until validation scores don't improve for 5 rounds\n"
     ]
    },
    {
     "name": "stderr",
     "output_type": "stream",
     "text": [
      "\u001b[32m[I 2021-01-03 18:16:27,892]\u001b[0m Trial 752 finished with value: 3695996.4637120385 and parameters: {'nleaves': 51, 'bagfrac': 0.9080047077864476, 'bagfreq': 2, 'featfrac': 0.8295744534899098, 'lambda_l1': 3.478448291565635e-05, 'lambda_l2': 9.729660506987187, 'minchild': 5}. Best is trial 496 with value: 3511896.0883319825.\u001b[0m\n"
     ]
    },
    {
     "name": "stdout",
     "output_type": "stream",
     "text": [
      "Early stopping, best iteration is:\n",
      "[256]\ttraining's l1: 429087\tvalid_1's l1: 3.696e+06\n",
      "Training until validation scores don't improve for 5 rounds\n"
     ]
    },
    {
     "name": "stderr",
     "output_type": "stream",
     "text": [
      "\u001b[32m[I 2021-01-03 18:16:29,339]\u001b[0m Trial 753 finished with value: 3742532.4392973343 and parameters: {'nleaves': 60, 'bagfrac': 0.8988794074024359, 'bagfreq': 1, 'featfrac': 0.8335691774544768, 'lambda_l1': 4.000827253529904e-05, 'lambda_l2': 2.798759214997279, 'minchild': 3}. Best is trial 496 with value: 3511896.0883319825.\u001b[0m\n"
     ]
    },
    {
     "name": "stdout",
     "output_type": "stream",
     "text": [
      "Early stopping, best iteration is:\n",
      "[160]\ttraining's l1: 545199\tvalid_1's l1: 3.74253e+06\n",
      "Training until validation scores don't improve for 5 rounds\n"
     ]
    },
    {
     "name": "stderr",
     "output_type": "stream",
     "text": [
      "\u001b[32m[I 2021-01-03 18:16:31,072]\u001b[0m Trial 754 finished with value: 3613182.888253652 and parameters: {'nleaves': 51, 'bagfrac': 0.9106757850487145, 'bagfreq': 2, 'featfrac': 0.8402848539510082, 'lambda_l1': 5.566330966353531e-05, 'lambda_l2': 7.5250673313460625, 'minchild': 6}. Best is trial 496 with value: 3511896.0883319825.\u001b[0m\n"
     ]
    },
    {
     "name": "stdout",
     "output_type": "stream",
     "text": [
      "Early stopping, best iteration is:\n",
      "[250]\ttraining's l1: 429473\tvalid_1's l1: 3.61318e+06\n",
      "Training until validation scores don't improve for 5 rounds\n"
     ]
    },
    {
     "name": "stderr",
     "output_type": "stream",
     "text": [
      "\u001b[32m[I 2021-01-03 18:16:33,373]\u001b[0m Trial 755 finished with value: 3631564.749194773 and parameters: {'nleaves': 55, 'bagfrac': 0.911945527564371, 'bagfreq': 2, 'featfrac': 0.8381577517065797, 'lambda_l1': 2.4227532064279625e-05, 'lambda_l2': 4.967642054574529, 'minchild': 1}. Best is trial 496 with value: 3511896.0883319825.\u001b[0m\n"
     ]
    },
    {
     "name": "stdout",
     "output_type": "stream",
     "text": [
      "Early stopping, best iteration is:\n",
      "[278]\ttraining's l1: 265195\tvalid_1's l1: 3.63156e+06\n",
      "Training until validation scores don't improve for 5 rounds\n"
     ]
    },
    {
     "name": "stderr",
     "output_type": "stream",
     "text": [
      "\u001b[32m[I 2021-01-03 18:16:35,209]\u001b[0m Trial 756 finished with value: 3607602.1083267955 and parameters: {'nleaves': 63, 'bagfrac': 0.8937803074398395, 'bagfreq': 2, 'featfrac': 0.99811604694632, 'lambda_l1': 4.812341767606248e-05, 'lambda_l2': 5.7278461518526, 'minchild': 3}. Best is trial 496 with value: 3511896.0883319825.\u001b[0m\n"
     ]
    },
    {
     "name": "stdout",
     "output_type": "stream",
     "text": [
      "Early stopping, best iteration is:\n",
      "[176]\ttraining's l1: 471232\tvalid_1's l1: 3.6076e+06\n",
      "Training until validation scores don't improve for 5 rounds\n"
     ]
    },
    {
     "name": "stderr",
     "output_type": "stream",
     "text": [
      "\u001b[32m[I 2021-01-03 18:16:36,603]\u001b[0m Trial 757 finished with value: 3668142.5990139623 and parameters: {'nleaves': 69, 'bagfrac': 0.907424612548269, 'bagfreq': 1, 'featfrac': 0.8254762480937705, 'lambda_l1': 5.729842650108334e-05, 'lambda_l2': 9.820090490533756, 'minchild': 5}. Best is trial 496 with value: 3511896.0883319825.\u001b[0m\n"
     ]
    },
    {
     "name": "stdout",
     "output_type": "stream",
     "text": [
      "Early stopping, best iteration is:\n",
      "[142]\ttraining's l1: 655938\tvalid_1's l1: 3.66814e+06\n",
      "Training until validation scores don't improve for 5 rounds\n"
     ]
    },
    {
     "name": "stderr",
     "output_type": "stream",
     "text": [
      "\u001b[32m[I 2021-01-03 18:16:38,630]\u001b[0m Trial 758 finished with value: 3682634.227696306 and parameters: {'nleaves': 48, 'bagfrac': 0.91439376804246, 'bagfreq': 2, 'featfrac': 0.8452045478435093, 'lambda_l1': 3.111833300555185e-05, 'lambda_l2': 9.940864163927381, 'minchild': 1}. Best is trial 496 with value: 3511896.0883319825.\u001b[0m\n"
     ]
    },
    {
     "name": "stdout",
     "output_type": "stream",
     "text": [
      "Early stopping, best iteration is:\n",
      "[236]\ttraining's l1: 547509\tvalid_1's l1: 3.68263e+06\n",
      "Training until validation scores don't improve for 5 rounds\n"
     ]
    },
    {
     "name": "stderr",
     "output_type": "stream",
     "text": [
      "\u001b[32m[I 2021-01-03 18:16:40,080]\u001b[0m Trial 759 finished with value: 3579776.9949495713 and parameters: {'nleaves': 57, 'bagfrac': 0.9193189771410859, 'bagfreq': 2, 'featfrac': 0.8334163221346551, 'lambda_l1': 2.8237232231846047e-06, 'lambda_l2': 3.669060556706753, 'minchild': 6}. Best is trial 496 with value: 3511896.0883319825.\u001b[0m\n"
     ]
    },
    {
     "name": "stdout",
     "output_type": "stream",
     "text": [
      "Early stopping, best iteration is:\n",
      "[189]\ttraining's l1: 489433\tvalid_1's l1: 3.57978e+06\n",
      "Training until validation scores don't improve for 5 rounds\n"
     ]
    },
    {
     "name": "stderr",
     "output_type": "stream",
     "text": [
      "\u001b[32m[I 2021-01-03 18:16:41,507]\u001b[0m Trial 760 finished with value: 3788740.7357927207 and parameters: {'nleaves': 62, 'bagfrac': 0.9016641221075893, 'bagfreq': 3, 'featfrac': 0.8510275668753731, 'lambda_l1': 6.019796505128246e-05, 'lambda_l2': 9.848046008395482, 'minchild': 3}. Best is trial 496 with value: 3511896.0883319825.\u001b[0m\n"
     ]
    },
    {
     "name": "stdout",
     "output_type": "stream",
     "text": [
      "Early stopping, best iteration is:\n",
      "[145]\ttraining's l1: 740421\tvalid_1's l1: 3.78874e+06\n",
      "Training until validation scores don't improve for 5 rounds\n"
     ]
    },
    {
     "name": "stderr",
     "output_type": "stream",
     "text": [
      "\u001b[32m[I 2021-01-03 18:16:43,641]\u001b[0m Trial 761 finished with value: 3730466.4326486615 and parameters: {'nleaves': 85, 'bagfrac': 0.9080817384030793, 'bagfreq': 2, 'featfrac': 0.8419230571647417, 'lambda_l1': 7.837096663668335e-05, 'lambda_l2': 7.213680304511987, 'minchild': 4}. Best is trial 496 with value: 3511896.0883319825.\u001b[0m\n"
     ]
    },
    {
     "name": "stdout",
     "output_type": "stream",
     "text": [
      "Early stopping, best iteration is:\n",
      "[154]\ttraining's l1: 385642\tvalid_1's l1: 3.73047e+06\n",
      "Training until validation scores don't improve for 5 rounds\n"
     ]
    },
    {
     "name": "stderr",
     "output_type": "stream",
     "text": [
      "\u001b[32m[I 2021-01-03 18:16:45,374]\u001b[0m Trial 762 finished with value: 3629178.0667204726 and parameters: {'nleaves': 53, 'bagfrac': 0.916042736165095, 'bagfreq': 2, 'featfrac': 0.8549499680015692, 'lambda_l1': 7.292240963920013e-05, 'lambda_l2': 4.676309801122381, 'minchild': 1}. Best is trial 496 with value: 3511896.0883319825.\u001b[0m\n"
     ]
    },
    {
     "name": "stdout",
     "output_type": "stream",
     "text": [
      "Early stopping, best iteration is:\n",
      "[207]\ttraining's l1: 490268\tvalid_1's l1: 3.62918e+06\n",
      "Training until validation scores don't improve for 5 rounds\n"
     ]
    },
    {
     "name": "stderr",
     "output_type": "stream",
     "text": [
      "\u001b[32m[I 2021-01-03 18:16:46,782]\u001b[0m Trial 763 finished with value: 3703508.000211916 and parameters: {'nleaves': 67, 'bagfrac': 0.9144130414276141, 'bagfreq': 1, 'featfrac': 0.8480953788560568, 'lambda_l1': 4.3130239784356184e-06, 'lambda_l2': 6.383308053793028, 'minchild': 7}. Best is trial 496 with value: 3511896.0883319825.\u001b[0m\n"
     ]
    },
    {
     "name": "stdout",
     "output_type": "stream",
     "text": [
      "Early stopping, best iteration is:\n",
      "[155]\ttraining's l1: 561229\tvalid_1's l1: 3.70351e+06\n",
      "Training until validation scores don't improve for 5 rounds\n"
     ]
    },
    {
     "name": "stderr",
     "output_type": "stream",
     "text": [
      "\u001b[32m[I 2021-01-03 18:16:47,824]\u001b[0m Trial 764 finished with value: 3779097.762967959 and parameters: {'nleaves': 47, 'bagfrac': 0.9193402373363156, 'bagfreq': 2, 'featfrac': 0.827123575992626, 'lambda_l1': 1.9009269419866228e-06, 'lambda_l2': 3.0550145418864387, 'minchild': 5}. Best is trial 496 with value: 3511896.0883319825.\u001b[0m\n"
     ]
    },
    {
     "name": "stdout",
     "output_type": "stream",
     "text": [
      "Early stopping, best iteration is:\n",
      "[143]\ttraining's l1: 926009\tvalid_1's l1: 3.7791e+06\n",
      "Training until validation scores don't improve for 5 rounds\n"
     ]
    },
    {
     "name": "stderr",
     "output_type": "stream",
     "text": [
      "\u001b[32m[I 2021-01-03 18:16:50,235]\u001b[0m Trial 765 finished with value: 3584591.9044089825 and parameters: {'nleaves': 58, 'bagfrac': 0.9048386242294169, 'bagfreq': 2, 'featfrac': 0.8701119946545539, 'lambda_l1': 4.6993379492798164e-05, 'lambda_l2': 9.802267158857406, 'minchild': 3}. Best is trial 496 with value: 3511896.0883319825.\u001b[0m\n"
     ]
    },
    {
     "name": "stdout",
     "output_type": "stream",
     "text": [
      "Early stopping, best iteration is:\n",
      "[298]\ttraining's l1: 245793\tvalid_1's l1: 3.58459e+06\n",
      "Training until validation scores don't improve for 5 rounds\n"
     ]
    },
    {
     "name": "stderr",
     "output_type": "stream",
     "text": [
      "\u001b[32m[I 2021-01-03 18:16:51,182]\u001b[0m Trial 766 finished with value: 3672074.435450554 and parameters: {'nleaves': 77, 'bagfrac': 0.9238170421368893, 'bagfreq': 2, 'featfrac': 0.8581127991152073, 'lambda_l1': 9.113431364726763e-05, 'lambda_l2': 9.965672485308827, 'minchild': 56}. Best is trial 496 with value: 3511896.0883319825.\u001b[0m\n"
     ]
    },
    {
     "name": "stdout",
     "output_type": "stream",
     "text": [
      "Early stopping, best iteration is:\n",
      "[222]\ttraining's l1: 941186\tvalid_1's l1: 3.67207e+06\n",
      "Training until validation scores don't improve for 5 rounds\n"
     ]
    },
    {
     "name": "stderr",
     "output_type": "stream",
     "text": [
      "\u001b[32m[I 2021-01-03 18:16:52,786]\u001b[0m Trial 767 finished with value: 3734412.535258473 and parameters: {'nleaves': 71, 'bagfrac': 0.9110852818812702, 'bagfreq': 1, 'featfrac': 0.8371530717545957, 'lambda_l1': 3.100646710416095e-05, 'lambda_l2': 4.460973311396819, 'minchild': 8}. Best is trial 496 with value: 3511896.0883319825.\u001b[0m\n"
     ]
    },
    {
     "name": "stdout",
     "output_type": "stream",
     "text": [
      "Early stopping, best iteration is:\n",
      "[177]\ttraining's l1: 369521\tvalid_1's l1: 3.73441e+06\n",
      "Training until validation scores don't improve for 5 rounds\n"
     ]
    },
    {
     "name": "stderr",
     "output_type": "stream",
     "text": [
      "\u001b[32m[I 2021-01-03 18:16:54,492]\u001b[0m Trial 768 finished with value: 3630895.105705103 and parameters: {'nleaves': 51, 'bagfrac': 0.8954152732661803, 'bagfreq': 2, 'featfrac': 0.8223887394685221, 'lambda_l1': 0.000711354891797585, 'lambda_l2': 7.364341836761353, 'minchild': 1}. Best is trial 496 with value: 3511896.0883319825.\u001b[0m\n"
     ]
    },
    {
     "name": "stdout",
     "output_type": "stream",
     "text": [
      "Early stopping, best iteration is:\n",
      "[202]\ttraining's l1: 590679\tvalid_1's l1: 3.6309e+06\n",
      "Training until validation scores don't improve for 5 rounds\n"
     ]
    },
    {
     "name": "stderr",
     "output_type": "stream",
     "text": [
      "\u001b[32m[I 2021-01-03 18:16:56,155]\u001b[0m Trial 769 finished with value: 3632872.0717156874 and parameters: {'nleaves': 62, 'bagfrac': 0.9211669942314431, 'bagfreq': 2, 'featfrac': 0.8638976326299782, 'lambda_l1': 0.003332828461341185, 'lambda_l2': 5.909708711786411, 'minchild': 6}. Best is trial 496 with value: 3511896.0883319825.\u001b[0m\n"
     ]
    },
    {
     "name": "stdout",
     "output_type": "stream",
     "text": [
      "Early stopping, best iteration is:\n",
      "[202]\ttraining's l1: 399751\tvalid_1's l1: 3.63287e+06\n",
      "Training until validation scores don't improve for 5 rounds\n"
     ]
    },
    {
     "name": "stderr",
     "output_type": "stream",
     "text": [
      "\u001b[32m[I 2021-01-03 18:16:57,928]\u001b[0m Trial 770 finished with value: 3765980.0807166183 and parameters: {'nleaves': 66, 'bagfrac': 0.863682567538589, 'bagfreq': 2, 'featfrac': 0.8804476625035736, 'lambda_l1': 0.0016664927644023232, 'lambda_l2': 2.264891891029363, 'minchild': 3}. Best is trial 496 with value: 3511896.0883319825.\u001b[0m\n"
     ]
    },
    {
     "name": "stdout",
     "output_type": "stream",
     "text": [
      "Early stopping, best iteration is:\n",
      "[189]\ttraining's l1: 349966\tvalid_1's l1: 3.76598e+06\n",
      "Training until validation scores don't improve for 5 rounds\n"
     ]
    },
    {
     "name": "stderr",
     "output_type": "stream",
     "text": [
      "\u001b[32m[I 2021-01-03 18:17:00,882]\u001b[0m Trial 771 finished with value: 3688141.291969026 and parameters: {'nleaves': 55, 'bagfrac': 0.9257789964978672, 'bagfreq': 2, 'featfrac': 0.9742188949350815, 'lambda_l1': 7.684540808580812e-05, 'lambda_l2': 7.631970948388722, 'minchild': 8}. Best is trial 496 with value: 3511896.0883319825.\u001b[0m\n"
     ]
    },
    {
     "name": "stdout",
     "output_type": "stream",
     "text": [
      "Early stopping, best iteration is:\n",
      "[289]\ttraining's l1: 270471\tvalid_1's l1: 3.68814e+06\n",
      "Training until validation scores don't improve for 5 rounds\n"
     ]
    },
    {
     "name": "stderr",
     "output_type": "stream",
     "text": [
      "\u001b[32m[I 2021-01-03 18:17:02,510]\u001b[0m Trial 772 finished with value: 3617510.3073626836 and parameters: {'nleaves': 44, 'bagfrac': 0.7047400633445133, 'bagfreq': 5, 'featfrac': 0.8445714181716545, 'lambda_l1': 2.694238746525454e-06, 'lambda_l2': 3.8146272215578647, 'minchild': 1}. Best is trial 496 with value: 3511896.0883319825.\u001b[0m\n"
     ]
    },
    {
     "name": "stdout",
     "output_type": "stream",
     "text": [
      "Early stopping, best iteration is:\n",
      "[235]\ttraining's l1: 588945\tvalid_1's l1: 3.61751e+06\n",
      "Training until validation scores don't improve for 5 rounds\n"
     ]
    },
    {
     "name": "stderr",
     "output_type": "stream",
     "text": [
      "\u001b[32m[I 2021-01-03 18:17:04,266]\u001b[0m Trial 773 finished with value: 3649998.4339571227 and parameters: {'nleaves': 79, 'bagfrac': 0.9142825169838041, 'bagfreq': 3, 'featfrac': 0.8535626184412762, 'lambda_l1': 1.4919823703638384e-06, 'lambda_l2': 5.698644092272217, 'minchild': 4}. Best is trial 496 with value: 3511896.0883319825.\u001b[0m\n"
     ]
    },
    {
     "name": "stdout",
     "output_type": "stream",
     "text": [
      "Early stopping, best iteration is:\n",
      "[149]\ttraining's l1: 430559\tvalid_1's l1: 3.65e+06\n",
      "Training until validation scores don't improve for 5 rounds\n"
     ]
    },
    {
     "name": "stderr",
     "output_type": "stream",
     "text": [
      "\u001b[32m[I 2021-01-03 18:17:05,725]\u001b[0m Trial 774 finished with value: 3672762.1969824666 and parameters: {'nleaves': 60, 'bagfrac': 0.9045751786533051, 'bagfreq': 2, 'featfrac': 0.8674406560504867, 'lambda_l1': 5.4509312213685036e-05, 'lambda_l2': 7.2532912863661645, 'minchild': 6}. Best is trial 496 with value: 3511896.0883319825.\u001b[0m\n"
     ]
    },
    {
     "name": "stdout",
     "output_type": "stream",
     "text": [
      "Early stopping, best iteration is:\n",
      "[161]\ttraining's l1: 640776\tvalid_1's l1: 3.67276e+06\n",
      "Training until validation scores don't improve for 5 rounds\n"
     ]
    },
    {
     "name": "stderr",
     "output_type": "stream",
     "text": [
      "\u001b[32m[I 2021-01-03 18:17:07,170]\u001b[0m Trial 775 finished with value: 3692092.075925586 and parameters: {'nleaves': 73, 'bagfrac': 0.9183031916793398, 'bagfreq': 1, 'featfrac': 0.8300895281378207, 'lambda_l1': 0.000488343683528901, 'lambda_l2': 4.29919675353757, 'minchild': 9}. Best is trial 496 with value: 3511896.0883319825.\u001b[0m\n"
     ]
    },
    {
     "name": "stdout",
     "output_type": "stream",
     "text": [
      "Early stopping, best iteration is:\n",
      "[159]\ttraining's l1: 443632\tvalid_1's l1: 3.69209e+06\n",
      "Training until validation scores don't improve for 5 rounds\n"
     ]
    },
    {
     "name": "stderr",
     "output_type": "stream",
     "text": [
      "\u001b[32m[I 2021-01-03 18:17:09,321]\u001b[0m Trial 776 finished with value: 3644845.47540341 and parameters: {'nleaves': 50, 'bagfrac': 0.9109589092948921, 'bagfreq': 2, 'featfrac': 0.8152394405526205, 'lambda_l1': 0.00010589208181459909, 'lambda_l2': 9.81088265556781, 'minchild': 1}. Best is trial 496 with value: 3511896.0883319825.\u001b[0m\n"
     ]
    },
    {
     "name": "stdout",
     "output_type": "stream",
     "text": [
      "Early stopping, best iteration is:\n",
      "[292]\ttraining's l1: 355423\tvalid_1's l1: 3.64485e+06\n",
      "Training until validation scores don't improve for 5 rounds\n"
     ]
    },
    {
     "name": "stderr",
     "output_type": "stream",
     "text": [
      "\u001b[32m[I 2021-01-03 18:17:11,117]\u001b[0m Trial 777 finished with value: 3605932.083998408 and parameters: {'nleaves': 66, 'bagfrac': 0.9256756750588393, 'bagfreq': 2, 'featfrac': 0.8503295097359842, 'lambda_l1': 1.024210765512196e-06, 'lambda_l2': 9.95693492627023, 'minchild': 4}. Best is trial 496 with value: 3511896.0883319825.\u001b[0m\n"
     ]
    },
    {
     "name": "stdout",
     "output_type": "stream",
     "text": [
      "Early stopping, best iteration is:\n",
      "[186]\ttraining's l1: 477068\tvalid_1's l1: 3.60593e+06\n",
      "Training until validation scores don't improve for 5 rounds\n"
     ]
    },
    {
     "name": "stderr",
     "output_type": "stream",
     "text": [
      "\u001b[32m[I 2021-01-03 18:17:12,562]\u001b[0m Trial 778 finished with value: 3763940.2626394387 and parameters: {'nleaves': 56, 'bagfrac': 0.9163487364227637, 'bagfreq': 7, 'featfrac': 0.8739357758869121, 'lambda_l1': 4.1049609811997834e-05, 'lambda_l2': 1.1654654288962296, 'minchild': 6}. Best is trial 496 with value: 3511896.0883319825.\u001b[0m\n"
     ]
    },
    {
     "name": "stdout",
     "output_type": "stream",
     "text": [
      "Early stopping, best iteration is:\n",
      "[191]\ttraining's l1: 459434\tvalid_1's l1: 3.76394e+06\n",
      "Training until validation scores don't improve for 5 rounds\n"
     ]
    },
    {
     "name": "stderr",
     "output_type": "stream",
     "text": [
      "\u001b[32m[I 2021-01-03 18:17:14,733]\u001b[0m Trial 779 finished with value: 3690268.8297552695 and parameters: {'nleaves': 45, 'bagfrac': 0.8879416851144004, 'bagfreq': 2, 'featfrac': 0.860480107209094, 'lambda_l1': 0.0009101758520484791, 'lambda_l2': 2.802298112475873, 'minchild': 2}. Best is trial 496 with value: 3511896.0883319825.\u001b[0m\n"
     ]
    },
    {
     "name": "stdout",
     "output_type": "stream",
     "text": [
      "Early stopping, best iteration is:\n",
      "[314]\ttraining's l1: 295735\tvalid_1's l1: 3.69027e+06\n",
      "Training until validation scores don't improve for 5 rounds\n"
     ]
    },
    {
     "name": "stderr",
     "output_type": "stream",
     "text": [
      "\u001b[32m[I 2021-01-03 18:17:16,721]\u001b[0m Trial 780 finished with value: 3751354.1712242602 and parameters: {'nleaves': 69, 'bagfrac': 0.9271305865912145, 'bagfreq': 1, 'featfrac': 0.8378774359550669, 'lambda_l1': 0.0001138112619367859, 'lambda_l2': 5.649611640242885, 'minchild': 9}. Best is trial 496 with value: 3511896.0883319825.\u001b[0m\n"
     ]
    },
    {
     "name": "stdout",
     "output_type": "stream",
     "text": [
      "Early stopping, best iteration is:\n",
      "[250]\ttraining's l1: 214863\tvalid_1's l1: 3.75135e+06\n",
      "Training until validation scores don't improve for 5 rounds\n"
     ]
    },
    {
     "name": "stderr",
     "output_type": "stream",
     "text": [
      "\u001b[32m[I 2021-01-03 18:17:18,556]\u001b[0m Trial 781 finished with value: 3641598.7593152155 and parameters: {'nleaves': 61, 'bagfrac': 0.8992535022680197, 'bagfreq': 3, 'featfrac': 0.8679878061242111, 'lambda_l1': 7.045404039332645e-05, 'lambda_l2': 7.646774151578262, 'minchild': 4}. Best is trial 496 with value: 3511896.0883319825.\u001b[0m\n"
     ]
    },
    {
     "name": "stdout",
     "output_type": "stream",
     "text": [
      "Early stopping, best iteration is:\n",
      "[212]\ttraining's l1: 403900\tvalid_1's l1: 3.6416e+06\n",
      "Training until validation scores don't improve for 5 rounds\n"
     ]
    },
    {
     "name": "stderr",
     "output_type": "stream",
     "text": [
      "\u001b[32m[I 2021-01-03 18:17:19,914]\u001b[0m Trial 782 finished with value: 3626552.8463370753 and parameters: {'nleaves': 50, 'bagfrac': 0.9215378765184274, 'bagfreq': 2, 'featfrac': 0.847164244323806, 'lambda_l1': 6.3451796556194465e-06, 'lambda_l2': 5.076908308331432, 'minchild': 7}. Best is trial 496 with value: 3511896.0883319825.\u001b[0m\n"
     ]
    },
    {
     "name": "stdout",
     "output_type": "stream",
     "text": [
      "Early stopping, best iteration is:\n",
      "[202]\ttraining's l1: 593070\tvalid_1's l1: 3.62655e+06\n",
      "Training until validation scores don't improve for 5 rounds\n"
     ]
    },
    {
     "name": "stderr",
     "output_type": "stream",
     "text": [
      "\u001b[32m[I 2021-01-03 18:17:21,711]\u001b[0m Trial 783 finished with value: 3659531.401969985 and parameters: {'nleaves': 55, 'bagfrac': 0.9116542780428001, 'bagfreq': 2, 'featfrac': 0.8838677839108519, 'lambda_l1': 2.665601268113169e-05, 'lambda_l2': 9.858165619392604, 'minchild': 1}. Best is trial 496 with value: 3511896.0883319825.\u001b[0m\n"
     ]
    },
    {
     "name": "stdout",
     "output_type": "stream",
     "text": [
      "Early stopping, best iteration is:\n",
      "[185]\ttraining's l1: 619993\tvalid_1's l1: 3.65953e+06\n",
      "Training until validation scores don't improve for 5 rounds\n"
     ]
    },
    {
     "name": "stderr",
     "output_type": "stream",
     "text": [
      "\u001b[32m[I 2021-01-03 18:17:23,183]\u001b[0m Trial 784 finished with value: 3726128.818153978 and parameters: {'nleaves': 65, 'bagfrac': 0.9304458714982299, 'bagfreq': 2, 'featfrac': 0.8580637124732898, 'lambda_l1': 0.00031385368768609807, 'lambda_l2': 3.6497468088606806, 'minchild': 3}. Best is trial 496 with value: 3511896.0883319825.\u001b[0m\n"
     ]
    },
    {
     "name": "stdout",
     "output_type": "stream",
     "text": [
      "Early stopping, best iteration is:\n",
      "[149]\ttraining's l1: 562871\tvalid_1's l1: 3.72613e+06\n",
      "Training until validation scores don't improve for 5 rounds\n",
      "Early stopping, best iteration is:\n",
      "[244]\ttraining's l1: 66247.5\tvalid_1's l1: 3.69617e+06\n"
     ]
    },
    {
     "name": "stderr",
     "output_type": "stream",
     "text": [
      "\u001b[32m[I 2021-01-03 18:17:26,844]\u001b[0m Trial 785 finished with value: 3696168.818519714 and parameters: {'nleaves': 121, 'bagfrac': 0.9062407561665776, 'bagfreq': 1, 'featfrac': 0.8746419747056886, 'lambda_l1': 1.932436133737202e-06, 'lambda_l2': 9.895248116937395, 'minchild': 5}. Best is trial 496 with value: 3511896.0883319825.\u001b[0m\n"
     ]
    },
    {
     "name": "stdout",
     "output_type": "stream",
     "text": [
      "Training until validation scores don't improve for 5 rounds\n"
     ]
    },
    {
     "name": "stderr",
     "output_type": "stream",
     "text": [
      "\u001b[32m[I 2021-01-03 18:17:28,116]\u001b[0m Trial 786 finished with value: 3630374.3513853885 and parameters: {'nleaves': 59, 'bagfrac': 0.9195187290282432, 'bagfreq': 2, 'featfrac': 0.8545261496398755, 'lambda_l1': 7.469313262276536e-05, 'lambda_l2': 5.941551206888437, 'minchild': 39}. Best is trial 496 with value: 3511896.0883319825.\u001b[0m\n"
     ]
    },
    {
     "name": "stdout",
     "output_type": "stream",
     "text": [
      "Early stopping, best iteration is:\n",
      "[229]\ttraining's l1: 543960\tvalid_1's l1: 3.63037e+06\n",
      "Training until validation scores don't improve for 5 rounds\n"
     ]
    },
    {
     "name": "stderr",
     "output_type": "stream",
     "text": [
      "\u001b[32m[I 2021-01-03 18:17:29,200]\u001b[0m Trial 787 finished with value: 3767643.7021014006 and parameters: {'nleaves': 47, 'bagfrac': 0.9355869389469099, 'bagfreq': 2, 'featfrac': 0.8345844232004288, 'lambda_l1': 5.420376683883823e-05, 'lambda_l2': 7.455633808067603, 'minchild': 10}. Best is trial 496 with value: 3511896.0883319825.\u001b[0m\n"
     ]
    },
    {
     "name": "stdout",
     "output_type": "stream",
     "text": [
      "Early stopping, best iteration is:\n",
      "[166]\ttraining's l1: 868971\tvalid_1's l1: 3.76764e+06\n",
      "Training until validation scores don't improve for 5 rounds\n"
     ]
    },
    {
     "name": "stderr",
     "output_type": "stream",
     "text": [
      "\u001b[32m[I 2021-01-03 18:17:31,869]\u001b[0m Trial 788 finished with value: 3800953.695934185 and parameters: {'nleaves': 154, 'bagfrac': 0.925818845802001, 'bagfreq': 2, 'featfrac': 0.8423690737891024, 'lambda_l1': 0.00010605923179630358, 'lambda_l2': 9.898401104126298, 'minchild': 7}. Best is trial 496 with value: 3511896.0883319825.\u001b[0m\n"
     ]
    },
    {
     "name": "stdout",
     "output_type": "stream",
     "text": [
      "Early stopping, best iteration is:\n",
      "[173]\ttraining's l1: 123628\tvalid_1's l1: 3.80095e+06\n",
      "Training until validation scores don't improve for 5 rounds\n"
     ]
    },
    {
     "name": "stderr",
     "output_type": "stream",
     "text": [
      "\u001b[32m[I 2021-01-03 18:17:33,876]\u001b[0m Trial 789 finished with value: 3598675.9139260976 and parameters: {'nleaves': 40, 'bagfrac': 0.9148034818216133, 'bagfreq': 2, 'featfrac': 0.8647322215782658, 'lambda_l1': 0.00019075367560684585, 'lambda_l2': 1.7433464002808083, 'minchild': 1}. Best is trial 496 with value: 3511896.0883319825.\u001b[0m\n"
     ]
    },
    {
     "name": "stdout",
     "output_type": "stream",
     "text": [
      "Early stopping, best iteration is:\n",
      "[320]\ttraining's l1: 354620\tvalid_1's l1: 3.59868e+06\n",
      "Training until validation scores don't improve for 5 rounds\n"
     ]
    },
    {
     "name": "stderr",
     "output_type": "stream",
     "text": [
      "\u001b[32m[I 2021-01-03 18:17:36,103]\u001b[0m Trial 790 finished with value: 3648346.216854431 and parameters: {'nleaves': 69, 'bagfrac': 0.9086034330886682, 'bagfreq': 1, 'featfrac': 0.8157382634264871, 'lambda_l1': 0.0011966381538631378, 'lambda_l2': 3.9020083953398643, 'minchild': 3}. Best is trial 496 with value: 3511896.0883319825.\u001b[0m\n"
     ]
    },
    {
     "name": "stdout",
     "output_type": "stream",
     "text": [
      "Early stopping, best iteration is:\n",
      "[244]\ttraining's l1: 197257\tvalid_1's l1: 3.64835e+06\n",
      "Training until validation scores don't improve for 5 rounds\n"
     ]
    },
    {
     "name": "stderr",
     "output_type": "stream",
     "text": [
      "\u001b[32m[I 2021-01-03 18:17:37,982]\u001b[0m Trial 791 finished with value: 3671771.8215208743 and parameters: {'nleaves': 52, 'bagfrac': 0.8061554873061327, 'bagfreq': 2, 'featfrac': 0.8604781987198572, 'lambda_l1': 4.205668110938887e-05, 'lambda_l2': 5.761621411750273, 'minchild': 6}. Best is trial 496 with value: 3511896.0883319825.\u001b[0m\n"
     ]
    },
    {
     "name": "stdout",
     "output_type": "stream",
     "text": [
      "Early stopping, best iteration is:\n",
      "[274]\ttraining's l1: 329348\tvalid_1's l1: 3.67177e+06\n",
      "Training until validation scores don't improve for 5 rounds\n"
     ]
    },
    {
     "name": "stderr",
     "output_type": "stream",
     "text": [
      "\u001b[32m[I 2021-01-03 18:17:39,781]\u001b[0m Trial 792 finished with value: 3652413.549157111 and parameters: {'nleaves': 75, 'bagfrac': 0.9412585092861133, 'bagfreq': 3, 'featfrac': 0.80754714502703, 'lambda_l1': 0.00013157766657336393, 'lambda_l2': 7.516286540716168, 'minchild': 9}. Best is trial 496 with value: 3511896.0883319825.\u001b[0m\n"
     ]
    },
    {
     "name": "stdout",
     "output_type": "stream",
     "text": [
      "Early stopping, best iteration is:\n",
      "[193]\ttraining's l1: 333451\tvalid_1's l1: 3.65241e+06\n",
      "Training until validation scores don't improve for 5 rounds\n"
     ]
    },
    {
     "name": "stderr",
     "output_type": "stream",
     "text": [
      "\u001b[32m[I 2021-01-03 18:17:41,428]\u001b[0m Trial 793 finished with value: 3626791.997214466 and parameters: {'nleaves': 62, 'bagfrac': 0.9183614630048113, 'bagfreq': 2, 'featfrac': 0.7363997655547145, 'lambda_l1': 0.000262146562499797, 'lambda_l2': 2.5731054009720995, 'minchild': 5}. Best is trial 496 with value: 3511896.0883319825.\u001b[0m\n"
     ]
    },
    {
     "name": "stdout",
     "output_type": "stream",
     "text": [
      "Early stopping, best iteration is:\n",
      "[214]\ttraining's l1: 330700\tvalid_1's l1: 3.62679e+06\n",
      "Training until validation scores don't improve for 5 rounds\n"
     ]
    },
    {
     "name": "stderr",
     "output_type": "stream",
     "text": [
      "\u001b[32m[I 2021-01-03 18:17:43,199]\u001b[0m Trial 794 finished with value: 3735603.1930890353 and parameters: {'nleaves': 45, 'bagfrac': 0.9018108665937717, 'bagfreq': 2, 'featfrac': 0.8235880687965224, 'lambda_l1': 3.7906720321586283e-06, 'lambda_l2': 0.00014067982629676538, 'minchild': 1}. Best is trial 496 with value: 3511896.0883319825.\u001b[0m\n"
     ]
    },
    {
     "name": "stdout",
     "output_type": "stream",
     "text": [
      "Early stopping, best iteration is:\n",
      "[226]\ttraining's l1: 474209\tvalid_1's l1: 3.7356e+06\n",
      "Training until validation scores don't improve for 5 rounds\n"
     ]
    },
    {
     "name": "stderr",
     "output_type": "stream",
     "text": [
      "\u001b[32m[I 2021-01-03 18:17:44,893]\u001b[0m Trial 795 finished with value: 3658571.1872266503 and parameters: {'nleaves': 72, 'bagfrac': 0.9299863101672415, 'bagfreq': 1, 'featfrac': 0.8781380085168582, 'lambda_l1': 0.0004430877879900486, 'lambda_l2': 4.477997717054705, 'minchild': 3}. Best is trial 496 with value: 3511896.0883319825.\u001b[0m\n"
     ]
    },
    {
     "name": "stdout",
     "output_type": "stream",
     "text": [
      "Early stopping, best iteration is:\n",
      "[142]\ttraining's l1: 503256\tvalid_1's l1: 3.65857e+06\n",
      "Training until validation scores don't improve for 5 rounds\n"
     ]
    },
    {
     "name": "stderr",
     "output_type": "stream",
     "text": [
      "\u001b[32m[I 2021-01-03 18:17:46,577]\u001b[0m Trial 796 finished with value: 3684975.490543624 and parameters: {'nleaves': 58, 'bagfrac': 0.9231743867976225, 'bagfreq': 2, 'featfrac': 0.8987876350880301, 'lambda_l1': 8.719936952250562e-05, 'lambda_l2': 9.81064611014905, 'minchild': 8}. Best is trial 496 with value: 3511896.0883319825.\u001b[0m\n"
     ]
    },
    {
     "name": "stdout",
     "output_type": "stream",
     "text": [
      "Early stopping, best iteration is:\n",
      "[211]\ttraining's l1: 470015\tvalid_1's l1: 3.68498e+06\n",
      "Training until validation scores don't improve for 5 rounds\n"
     ]
    },
    {
     "name": "stderr",
     "output_type": "stream",
     "text": [
      "\u001b[32m[I 2021-01-03 18:17:48,178]\u001b[0m Trial 797 finished with value: 3710377.3180544823 and parameters: {'nleaves': 54, 'bagfrac': 0.9111354987516502, 'bagfreq': 4, 'featfrac': 0.8493207185960787, 'lambda_l1': 1.4589320417592788e-06, 'lambda_l2': 7.559031512739293, 'minchild': 5}. Best is trial 496 with value: 3511896.0883319825.\u001b[0m\n"
     ]
    },
    {
     "name": "stdout",
     "output_type": "stream",
     "text": [
      "Early stopping, best iteration is:\n",
      "[215]\ttraining's l1: 496305\tvalid_1's l1: 3.71038e+06\n",
      "Training until validation scores don't improve for 5 rounds\n"
     ]
    },
    {
     "name": "stderr",
     "output_type": "stream",
     "text": [
      "\u001b[32m[I 2021-01-03 18:17:49,680]\u001b[0m Trial 798 finished with value: 3734435.4582398734 and parameters: {'nleaves': 80, 'bagfrac': 0.9165627064737976, 'bagfreq': 2, 'featfrac': 0.8698384174689173, 'lambda_l1': 0.08348482484744181, 'lambda_l2': 0.0004257391273291199, 'minchild': 12}. Best is trial 496 with value: 3511896.0883319825.\u001b[0m\n"
     ]
    },
    {
     "name": "stdout",
     "output_type": "stream",
     "text": [
      "Early stopping, best iteration is:\n",
      "[172]\ttraining's l1: 255779\tvalid_1's l1: 3.73444e+06\n",
      "Training until validation scores don't improve for 5 rounds\n"
     ]
    },
    {
     "name": "stderr",
     "output_type": "stream",
     "text": [
      "\u001b[32m[I 2021-01-03 18:17:51,686]\u001b[0m Trial 799 finished with value: 3706570.128647589 and parameters: {'nleaves': 64, 'bagfrac': 0.9330846125858143, 'bagfreq': 3, 'featfrac': 0.8438442558682258, 'lambda_l1': 5.8702542793097715e-05, 'lambda_l2': 4.9194012672169585, 'minchild': 1}. Best is trial 496 with value: 3511896.0883319825.\u001b[0m\n"
     ]
    },
    {
     "name": "stdout",
     "output_type": "stream",
     "text": [
      "Early stopping, best iteration is:\n",
      "[203]\ttraining's l1: 360562\tvalid_1's l1: 3.70657e+06\n",
      "Training until validation scores don't improve for 5 rounds\n"
     ]
    },
    {
     "name": "stderr",
     "output_type": "stream",
     "text": [
      "\u001b[32m[I 2021-01-03 18:17:53,200]\u001b[0m Trial 800 finished with value: 3699505.1123576476 and parameters: {'nleaves': 40, 'bagfrac': 0.9211844846232424, 'bagfreq': 2, 'featfrac': 0.8546878100125872, 'lambda_l1': 2.136012376313187e-05, 'lambda_l2': 9.860430793583875, 'minchild': 10}. Best is trial 496 with value: 3511896.0883319825.\u001b[0m\n"
     ]
    },
    {
     "name": "stdout",
     "output_type": "stream",
     "text": [
      "Early stopping, best iteration is:\n",
      "[296]\ttraining's l1: 529901\tvalid_1's l1: 3.69951e+06\n",
      "Training until validation scores don't improve for 5 rounds\n"
     ]
    },
    {
     "name": "stderr",
     "output_type": "stream",
     "text": [
      "\u001b[32m[I 2021-01-03 18:17:55,096]\u001b[0m Trial 801 finished with value: 3645437.472766601 and parameters: {'nleaves': 68, 'bagfrac': 0.9089387435076671, 'bagfreq': 2, 'featfrac': 0.8276742522153068, 'lambda_l1': 0.00016583172400559104, 'lambda_l2': 3.514232264442518, 'minchild': 3}. Best is trial 496 with value: 3511896.0883319825.\u001b[0m\n"
     ]
    },
    {
     "name": "stdout",
     "output_type": "stream",
     "text": [
      "Early stopping, best iteration is:\n",
      "[169]\ttraining's l1: 432840\tvalid_1's l1: 3.64544e+06\n",
      "Training until validation scores don't improve for 5 rounds\n"
     ]
    },
    {
     "name": "stderr",
     "output_type": "stream",
     "text": [
      "\u001b[32m[I 2021-01-03 18:17:56,506]\u001b[0m Trial 802 finished with value: 3641193.4805837916 and parameters: {'nleaves': 45, 'bagfrac': 0.9268177798971078, 'bagfreq': 2, 'featfrac': 0.861843361691209, 'lambda_l1': 2.474435322276835e-06, 'lambda_l2': 6.698279426145434, 'minchild': 7}. Best is trial 496 with value: 3511896.0883319825.\u001b[0m\n"
     ]
    },
    {
     "name": "stdout",
     "output_type": "stream",
     "text": [
      "Early stopping, best iteration is:\n",
      "[230]\ttraining's l1: 594124\tvalid_1's l1: 3.64119e+06\n",
      "Training until validation scores don't improve for 5 rounds\n"
     ]
    },
    {
     "name": "stderr",
     "output_type": "stream",
     "text": [
      "\u001b[32m[I 2021-01-03 18:17:58,179]\u001b[0m Trial 803 finished with value: 3649848.455295308 and parameters: {'nleaves': 50, 'bagfrac': 0.9146289356270508, 'bagfreq': 1, 'featfrac': 0.8335043444403738, 'lambda_l1': 1.0257022749585617e-06, 'lambda_l2': 5.836005953960394, 'minchild': 5}. Best is trial 496 with value: 3511896.0883319825.\u001b[0m\n"
     ]
    },
    {
     "name": "stdout",
     "output_type": "stream",
     "text": [
      "Early stopping, best iteration is:\n",
      "[245]\ttraining's l1: 432210\tvalid_1's l1: 3.64985e+06\n",
      "Training until validation scores don't improve for 5 rounds\n"
     ]
    },
    {
     "name": "stderr",
     "output_type": "stream",
     "text": [
      "\u001b[32m[I 2021-01-03 18:17:59,729]\u001b[0m Trial 804 finished with value: 3630140.1988718407 and parameters: {'nleaves': 57, 'bagfrac': 0.9224639984224839, 'bagfreq': 2, 'featfrac': 0.8747859103680877, 'lambda_l1': 0.0007026803698548008, 'lambda_l2': 3.034225144145554, 'minchild': 1}. Best is trial 496 with value: 3511896.0883319825.\u001b[0m\n"
     ]
    },
    {
     "name": "stdout",
     "output_type": "stream",
     "text": [
      "Early stopping, best iteration is:\n",
      "[167]\ttraining's l1: 579006\tvalid_1's l1: 3.63014e+06\n",
      "Training until validation scores don't improve for 5 rounds\n"
     ]
    },
    {
     "name": "stderr",
     "output_type": "stream",
     "text": [
      "\u001b[32m[I 2021-01-03 18:18:01,791]\u001b[0m Trial 805 finished with value: 3558907.8655870478 and parameters: {'nleaves': 63, 'bagfrac': 0.9028050827401091, 'bagfreq': 2, 'featfrac': 0.8676983046179192, 'lambda_l1': 0.00011367898464387622, 'lambda_l2': 9.952460434937873, 'minchild': 3}. Best is trial 496 with value: 3511896.0883319825.\u001b[0m\n"
     ]
    },
    {
     "name": "stdout",
     "output_type": "stream",
     "text": [
      "Early stopping, best iteration is:\n",
      "[227]\ttraining's l1: 354289\tvalid_1's l1: 3.55891e+06\n",
      "Training until validation scores don't improve for 5 rounds\n"
     ]
    },
    {
     "name": "stderr",
     "output_type": "stream",
     "text": [
      "\u001b[32m[I 2021-01-03 18:18:04,147]\u001b[0m Trial 806 finished with value: 3740457.103532819 and parameters: {'nleaves': 66, 'bagfrac': 0.8912044623249267, 'bagfreq': 3, 'featfrac': 0.8684567390455673, 'lambda_l1': 0.0002200944980966823, 'lambda_l2': 9.87187846215421, 'minchild': 1}. Best is trial 496 with value: 3511896.0883319825.\u001b[0m\n"
     ]
    },
    {
     "name": "stdout",
     "output_type": "stream",
     "text": [
      "Early stopping, best iteration is:\n",
      "[222]\ttraining's l1: 343349\tvalid_1's l1: 3.74046e+06\n",
      "Training until validation scores don't improve for 5 rounds\n"
     ]
    },
    {
     "name": "stderr",
     "output_type": "stream",
     "text": [
      "\u001b[32m[I 2021-01-03 18:18:05,216]\u001b[0m Trial 807 finished with value: 3693699.4431964196 and parameters: {'nleaves': 62, 'bagfrac': 0.8991786724198592, 'bagfreq': 2, 'featfrac': 0.8799166752051638, 'lambda_l1': 0.00013603800466854124, 'lambda_l2': 0.001667023738487478, 'minchild': 70}. Best is trial 496 with value: 3511896.0883319825.\u001b[0m\n"
     ]
    },
    {
     "name": "stdout",
     "output_type": "stream",
     "text": [
      "Early stopping, best iteration is:\n",
      "[310]\ttraining's l1: 802935\tvalid_1's l1: 3.6937e+06\n",
      "Training until validation scores don't improve for 5 rounds\n"
     ]
    },
    {
     "name": "stderr",
     "output_type": "stream",
     "text": [
      "\u001b[32m[I 2021-01-03 18:18:05,953]\u001b[0m Trial 808 finished with value: 3752735.4570173817 and parameters: {'nleaves': 70, 'bagfrac': 0.9048618573746497, 'bagfreq': 1, 'featfrac': 0.8661698447340471, 'lambda_l1': 0.0001223947449891533, 'lambda_l2': 7.447092476661885, 'minchild': 61}. Best is trial 496 with value: 3511896.0883319825.\u001b[0m\n"
     ]
    },
    {
     "name": "stdout",
     "output_type": "stream",
     "text": [
      "Early stopping, best iteration is:\n",
      "[169]\ttraining's l1: 1.3558e+06\tvalid_1's l1: 3.75274e+06\n",
      "Training until validation scores don't improve for 5 rounds\n"
     ]
    },
    {
     "name": "stderr",
     "output_type": "stream",
     "text": [
      "\u001b[32m[I 2021-01-03 18:18:08,681]\u001b[0m Trial 809 finished with value: 3668014.595963295 and parameters: {'nleaves': 75, 'bagfrac': 0.8941757148535893, 'bagfreq': 2, 'featfrac': 0.887395908266324, 'lambda_l1': 0.0001813451750751657, 'lambda_l2': 4.916048221935047, 'minchild': 3}. Best is trial 496 with value: 3511896.0883319825.\u001b[0m\n"
     ]
    },
    {
     "name": "stdout",
     "output_type": "stream",
     "text": [
      "Early stopping, best iteration is:\n",
      "[266]\ttraining's l1: 133157\tvalid_1's l1: 3.66801e+06\n",
      "Training until validation scores don't improve for 5 rounds\n"
     ]
    },
    {
     "name": "stderr",
     "output_type": "stream",
     "text": [
      "\u001b[32m[I 2021-01-03 18:18:10,806]\u001b[0m Trial 810 finished with value: 3611097.354164748 and parameters: {'nleaves': 64, 'bagfrac': 0.9464642402261301, 'bagfreq': 2, 'featfrac': 0.8719242264447041, 'lambda_l1': 0.0003128230100206283, 'lambda_l2': 6.1849829964089915, 'minchild': 1}. Best is trial 496 with value: 3511896.0883319825.\u001b[0m\n"
     ]
    },
    {
     "name": "stdout",
     "output_type": "stream",
     "text": [
      "Early stopping, best iteration is:\n",
      "[212]\ttraining's l1: 344615\tvalid_1's l1: 3.6111e+06\n",
      "Training until validation scores don't improve for 5 rounds\n"
     ]
    },
    {
     "name": "stderr",
     "output_type": "stream",
     "text": [
      "\u001b[32m[I 2021-01-03 18:18:12,457]\u001b[0m Trial 811 finished with value: 3650759.7735556457 and parameters: {'nleaves': 71, 'bagfrac': 0.9383334239399183, 'bagfreq': 2, 'featfrac': 0.8651972735881271, 'lambda_l1': 0.00010055708544316506, 'lambda_l2': 9.869714503120544, 'minchild': 3}. Best is trial 496 with value: 3511896.0883319825.\u001b[0m\n"
     ]
    },
    {
     "name": "stdout",
     "output_type": "stream",
     "text": [
      "Early stopping, best iteration is:\n",
      "[156]\ttraining's l1: 549275\tvalid_1's l1: 3.65076e+06\n",
      "Training until validation scores don't improve for 5 rounds\n"
     ]
    },
    {
     "name": "stderr",
     "output_type": "stream",
     "text": [
      "\u001b[32m[I 2021-01-03 18:18:13,942]\u001b[0m Trial 812 finished with value: 3758778.4377344344 and parameters: {'nleaves': 66, 'bagfrac': 0.8858934856477949, 'bagfreq': 2, 'featfrac': 0.8759853629098189, 'lambda_l1': 0.00015858044940177164, 'lambda_l2': 0.24287521037322649, 'minchild': 14}. Best is trial 496 with value: 3511896.0883319825.\u001b[0m\n"
     ]
    },
    {
     "name": "stdout",
     "output_type": "stream",
     "text": [
      "Early stopping, best iteration is:\n",
      "[193]\ttraining's l1: 322162\tvalid_1's l1: 3.75878e+06\n",
      "Training until validation scores don't improve for 5 rounds\n"
     ]
    },
    {
     "name": "stderr",
     "output_type": "stream",
     "text": [
      "\u001b[32m[I 2021-01-03 18:18:16,110]\u001b[0m Trial 813 finished with value: 3676068.1296513206 and parameters: {'nleaves': 60, 'bagfrac': 0.9012102966055922, 'bagfreq': 2, 'featfrac': 0.8594782079036277, 'lambda_l1': 9.904614565747859e-05, 'lambda_l2': 9.973678153508914, 'minchild': 1}. Best is trial 496 with value: 3511896.0883319825.\u001b[0m\n"
     ]
    },
    {
     "name": "stdout",
     "output_type": "stream",
     "text": [
      "Early stopping, best iteration is:\n",
      "[222]\ttraining's l1: 400816\tvalid_1's l1: 3.67607e+06\n",
      "Training until validation scores don't improve for 5 rounds\n"
     ]
    },
    {
     "name": "stderr",
     "output_type": "stream",
     "text": [
      "\u001b[32m[I 2021-01-03 18:18:17,570]\u001b[0m Trial 814 finished with value: 3890517.1299950597 and parameters: {'nleaves': 63, 'bagfrac': 0.8541411902597768, 'bagfreq': 1, 'featfrac': 0.8707018355264055, 'lambda_l1': 0.0002258802175926385, 'lambda_l2': 3.660245133612131, 'minchild': 3}. Best is trial 496 with value: 3511896.0883319825.\u001b[0m\n"
     ]
    },
    {
     "name": "stdout",
     "output_type": "stream",
     "text": [
      "Early stopping, best iteration is:\n",
      "[153]\ttraining's l1: 566599\tvalid_1's l1: 3.89052e+06\n",
      "Training until validation scores don't improve for 5 rounds\n"
     ]
    },
    {
     "name": "stderr",
     "output_type": "stream",
     "text": [
      "\u001b[32m[I 2021-01-03 18:18:19,231]\u001b[0m Trial 815 finished with value: 3693845.4802215234 and parameters: {'nleaves': 72, 'bagfrac': 0.9306320184158856, 'bagfreq': 3, 'featfrac': 0.8826907899569792, 'lambda_l1': 0.002657324192234453, 'lambda_l2': 2.306649533450721, 'minchild': 11}. Best is trial 496 with value: 3511896.0883319825.\u001b[0m\n"
     ]
    },
    {
     "name": "stdout",
     "output_type": "stream",
     "text": [
      "Early stopping, best iteration is:\n",
      "[202]\ttraining's l1: 258481\tvalid_1's l1: 3.69385e+06\n",
      "Training until validation scores don't improve for 5 rounds\n"
     ]
    },
    {
     "name": "stderr",
     "output_type": "stream",
     "text": [
      "\u001b[32m[I 2021-01-03 18:18:20,684]\u001b[0m Trial 816 finished with value: 3708927.48328319 and parameters: {'nleaves': 79, 'bagfrac': 0.8978874376967001, 'bagfreq': 2, 'featfrac': 0.85905496209561, 'lambda_l1': 0.0015674782134269519, 'lambda_l2': 7.428770166107461, 'minchild': 7}. Best is trial 496 with value: 3511896.0883319825.\u001b[0m\n"
     ]
    },
    {
     "name": "stdout",
     "output_type": "stream",
     "text": [
      "Early stopping, best iteration is:\n",
      "[139]\ttraining's l1: 528318\tvalid_1's l1: 3.70893e+06\n",
      "Training until validation scores don't improve for 5 rounds\n"
     ]
    },
    {
     "name": "stderr",
     "output_type": "stream",
     "text": [
      "\u001b[32m[I 2021-01-03 18:18:22,617]\u001b[0m Trial 817 finished with value: 3609302.8292065295 and parameters: {'nleaves': 59, 'bagfrac': 0.9255651354147463, 'bagfreq': 2, 'featfrac': 0.8663163351656329, 'lambda_l1': 0.00013418005752066574, 'lambda_l2': 9.800315578806565, 'minchild': 4}. Best is trial 496 with value: 3511896.0883319825.\u001b[0m\n"
     ]
    },
    {
     "name": "stdout",
     "output_type": "stream",
     "text": [
      "Early stopping, best iteration is:\n",
      "[230]\ttraining's l1: 390922\tvalid_1's l1: 3.6093e+06\n",
      "Training until validation scores don't improve for 5 rounds\n"
     ]
    },
    {
     "name": "stderr",
     "output_type": "stream",
     "text": [
      "\u001b[32m[I 2021-01-03 18:18:24,541]\u001b[0m Trial 818 finished with value: 3701676.964739824 and parameters: {'nleaves': 84, 'bagfrac': 0.9342697056443071, 'bagfreq': 1, 'featfrac': 0.8737545100400336, 'lambda_l1': 8.530989467967944e-05, 'lambda_l2': 9.963432838539363, 'minchild': 1}. Best is trial 496 with value: 3511896.0883319825.\u001b[0m\n"
     ]
    },
    {
     "name": "stdout",
     "output_type": "stream",
     "text": [
      "Early stopping, best iteration is:\n",
      "[140]\ttraining's l1: 487776\tvalid_1's l1: 3.70168e+06\n",
      "Training until validation scores don't improve for 5 rounds\n"
     ]
    },
    {
     "name": "stderr",
     "output_type": "stream",
     "text": [
      "\u001b[32m[I 2021-01-03 18:18:26,404]\u001b[0m Trial 819 finished with value: 3746712.873136108 and parameters: {'nleaves': 69, 'bagfrac': 0.9049890501854387, 'bagfreq': 2, 'featfrac': 0.8539805520019512, 'lambda_l1': 0.00016796624483974773, 'lambda_l2': 4.907870885956394, 'minchild': 8}. Best is trial 496 with value: 3511896.0883319825.\u001b[0m\n"
     ]
    },
    {
     "name": "stdout",
     "output_type": "stream",
     "text": [
      "Early stopping, best iteration is:\n",
      "[185]\ttraining's l1: 378565\tvalid_1's l1: 3.74671e+06\n",
      "Training until validation scores don't improve for 5 rounds\n"
     ]
    },
    {
     "name": "stderr",
     "output_type": "stream",
     "text": [
      "\u001b[32m[I 2021-01-03 18:18:28,114]\u001b[0m Trial 820 finished with value: 3701608.9366110796 and parameters: {'nleaves': 65, 'bagfrac': 0.9169357390578868, 'bagfreq': 2, 'featfrac': 0.8105343249326442, 'lambda_l1': 0.0003513637945845827, 'lambda_l2': 5.997337231239154, 'minchild': 5}. Best is trial 496 with value: 3511896.0883319825.\u001b[0m\n"
     ]
    },
    {
     "name": "stdout",
     "output_type": "stream",
     "text": [
      "Early stopping, best iteration is:\n",
      "[196]\ttraining's l1: 400808\tvalid_1's l1: 3.70161e+06\n",
      "Training until validation scores don't improve for 5 rounds\n"
     ]
    },
    {
     "name": "stderr",
     "output_type": "stream",
     "text": [
      "\u001b[32m[I 2021-01-03 18:18:30,084]\u001b[0m Trial 821 finished with value: 3650236.468280119 and parameters: {'nleaves': 74, 'bagfrac': 0.9211892775009523, 'bagfreq': 2, 'featfrac': 0.8660057440291975, 'lambda_l1': 8.856574445174059e-05, 'lambda_l2': 4.549119187869206, 'minchild': 13}. Best is trial 496 with value: 3511896.0883319825.\u001b[0m\n"
     ]
    },
    {
     "name": "stdout",
     "output_type": "stream",
     "text": [
      "Early stopping, best iteration is:\n",
      "[228]\ttraining's l1: 221886\tvalid_1's l1: 3.65024e+06\n",
      "Training until validation scores don't improve for 5 rounds\n"
     ]
    },
    {
     "name": "stderr",
     "output_type": "stream",
     "text": [
      "\u001b[32m[I 2021-01-03 18:18:31,960]\u001b[0m Trial 822 finished with value: 3638046.4224093435 and parameters: {'nleaves': 57, 'bagfrac': 0.9292888831425209, 'bagfreq': 9, 'featfrac': 0.861479451086223, 'lambda_l1': 0.00023297038210139744, 'lambda_l2': 7.485289477467276, 'minchild': 3}. Best is trial 496 with value: 3511896.0883319825.\u001b[0m\n"
     ]
    },
    {
     "name": "stdout",
     "output_type": "stream",
     "text": [
      "Early stopping, best iteration is:\n",
      "[211]\ttraining's l1: 462623\tvalid_1's l1: 3.63805e+06\n",
      "Training until validation scores don't improve for 5 rounds\n"
     ]
    },
    {
     "name": "stderr",
     "output_type": "stream",
     "text": [
      "\u001b[32m[I 2021-01-03 18:18:34,209]\u001b[0m Trial 823 finished with value: 3710913.912534034 and parameters: {'nleaves': 61, 'bagfrac': 0.9129208672586193, 'bagfreq': 4, 'featfrac': 0.8046245455378367, 'lambda_l1': 0.00012836206555044675, 'lambda_l2': 9.791201470471089, 'minchild': 1}. Best is trial 496 with value: 3511896.0883319825.\u001b[0m\n"
     ]
    },
    {
     "name": "stdout",
     "output_type": "stream",
     "text": [
      "Early stopping, best iteration is:\n",
      "[237]\ttraining's l1: 363126\tvalid_1's l1: 3.71091e+06\n",
      "Training until validation scores don't improve for 5 rounds\n"
     ]
    },
    {
     "name": "stderr",
     "output_type": "stream",
     "text": [
      "\u001b[32m[I 2021-01-03 18:18:36,768]\u001b[0m Trial 824 finished with value: 3562441.6952752657 and parameters: {'nleaves': 67, 'bagfrac': 0.9421803252571191, 'bagfreq': 1, 'featfrac': 0.8774815791202013, 'lambda_l1': 7.507005844547205e-05, 'lambda_l2': 9.872783496305924, 'minchild': 10}. Best is trial 496 with value: 3511896.0883319825.\u001b[0m\n"
     ]
    },
    {
     "name": "stdout",
     "output_type": "stream",
     "text": [
      "Early stopping, best iteration is:\n",
      "[324]\ttraining's l1: 142698\tvalid_1's l1: 3.56244e+06\n",
      "Training until validation scores don't improve for 5 rounds\n"
     ]
    },
    {
     "name": "stderr",
     "output_type": "stream",
     "text": [
      "\u001b[32m[I 2021-01-03 18:18:38,268]\u001b[0m Trial 825 finished with value: 3706465.2250071405 and parameters: {'nleaves': 67, 'bagfrac': 0.9494483483444671, 'bagfreq': 1, 'featfrac': 0.8895299448946158, 'lambda_l1': 6.628042407616003e-05, 'lambda_l2': 7.691813512171471, 'minchild': 12}. Best is trial 496 with value: 3511896.0883319825.\u001b[0m\n"
     ]
    },
    {
     "name": "stdout",
     "output_type": "stream",
     "text": [
      "Early stopping, best iteration is:\n",
      "[179]\ttraining's l1: 450276\tvalid_1's l1: 3.70647e+06\n",
      "Training until validation scores don't improve for 5 rounds\n"
     ]
    },
    {
     "name": "stderr",
     "output_type": "stream",
     "text": [
      "\u001b[32m[I 2021-01-03 18:18:39,839]\u001b[0m Trial 826 finished with value: 3618638.7172413454 and parameters: {'nleaves': 75, 'bagfrac': 0.9425943089483385, 'bagfreq': 1, 'featfrac': 0.8802710017413712, 'lambda_l1': 9.264811809046321e-05, 'lambda_l2': 9.828228688673414, 'minchild': 15}. Best is trial 496 with value: 3511896.0883319825.\u001b[0m\n"
     ]
    },
    {
     "name": "stdout",
     "output_type": "stream",
     "text": [
      "Early stopping, best iteration is:\n",
      "[186]\ttraining's l1: 396644\tvalid_1's l1: 3.61864e+06\n",
      "Training until validation scores don't improve for 5 rounds\n"
     ]
    },
    {
     "name": "stderr",
     "output_type": "stream",
     "text": [
      "\u001b[32m[I 2021-01-03 18:18:41,990]\u001b[0m Trial 827 finished with value: 3642963.0077523147 and parameters: {'nleaves': 71, 'bagfrac': 0.9473354600016399, 'bagfreq': 1, 'featfrac': 0.8837016266956936, 'lambda_l1': 6.921794924100656e-05, 'lambda_l2': 7.7366668901510725, 'minchild': 10}. Best is trial 496 with value: 3511896.0883319825.\u001b[0m\n"
     ]
    },
    {
     "name": "stdout",
     "output_type": "stream",
     "text": [
      "Early stopping, best iteration is:\n",
      "[260]\ttraining's l1: 191095\tvalid_1's l1: 3.64296e+06\n",
      "Training until validation scores don't improve for 5 rounds\n"
     ]
    },
    {
     "name": "stderr",
     "output_type": "stream",
     "text": [
      "\u001b[32m[I 2021-01-03 18:18:44,085]\u001b[0m Trial 828 finished with value: 3747826.9618768618 and parameters: {'nleaves': 97, 'bagfrac': 0.9432272692325324, 'bagfreq': 1, 'featfrac': 0.8553552162329943, 'lambda_l1': 0.0001059558230466332, 'lambda_l2': 9.921240550000851, 'minchild': 12}. Best is trial 496 with value: 3511896.0883319825.\u001b[0m\n"
     ]
    },
    {
     "name": "stdout",
     "output_type": "stream",
     "text": [
      "Early stopping, best iteration is:\n",
      "[184]\ttraining's l1: 258339\tvalid_1's l1: 3.74783e+06\n",
      "Training until validation scores don't improve for 5 rounds\n"
     ]
    },
    {
     "name": "stderr",
     "output_type": "stream",
     "text": [
      "\u001b[32m[I 2021-01-03 18:18:45,914]\u001b[0m Trial 829 finished with value: 3667293.5410473244 and parameters: {'nleaves': 68, 'bagfrac': 0.9348873151354288, 'bagfreq': 1, 'featfrac': 0.8768998694986961, 'lambda_l1': 7.51764443738657e-05, 'lambda_l2': 9.996974386432859, 'minchild': 10}. Best is trial 496 with value: 3511896.0883319825.\u001b[0m\n"
     ]
    },
    {
     "name": "stdout",
     "output_type": "stream",
     "text": [
      "Early stopping, best iteration is:\n",
      "[204]\ttraining's l1: 390614\tvalid_1's l1: 3.66729e+06\n",
      "Training until validation scores don't improve for 5 rounds\n"
     ]
    },
    {
     "name": "stderr",
     "output_type": "stream",
     "text": [
      "\u001b[32m[I 2021-01-03 18:18:47,736]\u001b[0m Trial 830 finished with value: 3681822.317990048 and parameters: {'nleaves': 65, 'bagfrac': 0.9399596504017385, 'bagfreq': 1, 'featfrac': 0.8910489693470617, 'lambda_l1': 0.00012938152644470654, 'lambda_l2': 9.880891545478422, 'minchild': 14}. Best is trial 496 with value: 3511896.0883319825.\u001b[0m\n"
     ]
    },
    {
     "name": "stdout",
     "output_type": "stream",
     "text": [
      "Early stopping, best iteration is:\n",
      "[195]\ttraining's l1: 434757\tvalid_1's l1: 3.68182e+06\n",
      "Training until validation scores don't improve for 5 rounds\n"
     ]
    },
    {
     "name": "stderr",
     "output_type": "stream",
     "text": [
      "\u001b[32m[I 2021-01-03 18:18:49,948]\u001b[0m Trial 831 finished with value: 3608405.7336032363 and parameters: {'nleaves': 79, 'bagfrac': 0.9389545632157509, 'bagfreq': 1, 'featfrac': 0.8156819531016686, 'lambda_l1': 0.00016899394049720045, 'lambda_l2': 9.850247780078657, 'minchild': 10}. Best is trial 496 with value: 3511896.0883319825.\u001b[0m\n"
     ]
    },
    {
     "name": "stdout",
     "output_type": "stream",
     "text": [
      "Early stopping, best iteration is:\n",
      "[254]\ttraining's l1: 185285\tvalid_1's l1: 3.60841e+06\n",
      "Training until validation scores don't improve for 5 rounds\n"
     ]
    },
    {
     "name": "stderr",
     "output_type": "stream",
     "text": [
      "\u001b[32m[I 2021-01-03 18:18:51,695]\u001b[0m Trial 832 finished with value: 3776228.0992217977 and parameters: {'nleaves': 72, 'bagfrac': 0.9472280866524797, 'bagfreq': 1, 'featfrac': 0.8624148686535102, 'lambda_l1': 5.3878464576706317e-05, 'lambda_l2': 7.160579145971482, 'minchild': 12}. Best is trial 496 with value: 3511896.0883319825.\u001b[0m\n"
     ]
    },
    {
     "name": "stdout",
     "output_type": "stream",
     "text": [
      "Early stopping, best iteration is:\n",
      "[178]\ttraining's l1: 422255\tvalid_1's l1: 3.77623e+06\n",
      "Training until validation scores don't improve for 5 rounds\n"
     ]
    },
    {
     "name": "stderr",
     "output_type": "stream",
     "text": [
      "\u001b[32m[I 2021-01-03 18:18:53,095]\u001b[0m Trial 833 finished with value: 3697001.2993668998 and parameters: {'nleaves': 63, 'bagfrac': 0.938218443624157, 'bagfreq': 3, 'featfrac': 0.8527306651809404, 'lambda_l1': 0.00010559767614965815, 'lambda_l2': 6.218714169899249, 'minchild': 9}. Best is trial 496 with value: 3511896.0883319825.\u001b[0m\n"
     ]
    },
    {
     "name": "stdout",
     "output_type": "stream",
     "text": [
      "Early stopping, best iteration is:\n",
      "[171]\ttraining's l1: 534360\tvalid_1's l1: 3.697e+06\n",
      "Training until validation scores don't improve for 5 rounds\n"
     ]
    },
    {
     "name": "stderr",
     "output_type": "stream",
     "text": [
      "\u001b[32m[I 2021-01-03 18:18:54,352]\u001b[0m Trial 834 finished with value: 3654930.179785451 and parameters: {'nleaves': 68, 'bagfrac': 0.9336687946066924, 'bagfreq': 1, 'featfrac': 0.8678957168512432, 'lambda_l1': 8.614152247151355e-05, 'lambda_l2': 6.099508389924748, 'minchild': 15}. Best is trial 496 with value: 3511896.0883319825.\u001b[0m\n"
     ]
    },
    {
     "name": "stdout",
     "output_type": "stream",
     "text": [
      "Early stopping, best iteration is:\n",
      "[136]\ttraining's l1: 668165\tvalid_1's l1: 3.65493e+06\n",
      "Training until validation scores don't improve for 5 rounds\n"
     ]
    },
    {
     "name": "stderr",
     "output_type": "stream",
     "text": [
      "\u001b[32m[I 2021-01-03 18:18:56,367]\u001b[0m Trial 835 finished with value: 3669872.047331953 and parameters: {'nleaves': 88, 'bagfrac': 0.942184125901915, 'bagfreq': 1, 'featfrac': 0.8498719218720469, 'lambda_l1': 0.0001942532607878035, 'lambda_l2': 9.797436266415, 'minchild': 8}. Best is trial 496 with value: 3511896.0883319825.\u001b[0m\n"
     ]
    },
    {
     "name": "stdout",
     "output_type": "stream",
     "text": [
      "Early stopping, best iteration is:\n",
      "[169]\ttraining's l1: 329824\tvalid_1's l1: 3.66987e+06\n",
      "Training until validation scores don't improve for 5 rounds\n"
     ]
    },
    {
     "name": "stderr",
     "output_type": "stream",
     "text": [
      "\u001b[32m[I 2021-01-03 18:18:57,775]\u001b[0m Trial 836 finished with value: 3741946.9719245187 and parameters: {'nleaves': 76, 'bagfrac': 0.9294307403232194, 'bagfreq': 1, 'featfrac': 0.8011211086355263, 'lambda_l1': 3.917552758763351e-05, 'lambda_l2': 0.0026259374223250994, 'minchild': 11}. Best is trial 496 with value: 3511896.0883319825.\u001b[0m\n"
     ]
    },
    {
     "name": "stdout",
     "output_type": "stream",
     "text": [
      "Early stopping, best iteration is:\n",
      "[170]\ttraining's l1: 297763\tvalid_1's l1: 3.74195e+06\n",
      "Training until validation scores don't improve for 5 rounds\n"
     ]
    },
    {
     "name": "stderr",
     "output_type": "stream",
     "text": [
      "\u001b[32m[I 2021-01-03 18:18:59,783]\u001b[0m Trial 837 finished with value: 3708023.4800215564 and parameters: {'nleaves': 62, 'bagfrac': 0.8821071956860709, 'bagfreq': 1, 'featfrac': 0.8577086701929355, 'lambda_l1': 0.0005036981530448994, 'lambda_l2': 7.545167118016489, 'minchild': 7}. Best is trial 496 with value: 3511896.0883319825.\u001b[0m\n"
     ]
    },
    {
     "name": "stdout",
     "output_type": "stream",
     "text": [
      "Early stopping, best iteration is:\n",
      "[254]\ttraining's l1: 271035\tvalid_1's l1: 3.70802e+06\n",
      "Training until validation scores don't improve for 5 rounds\n"
     ]
    },
    {
     "name": "stderr",
     "output_type": "stream",
     "text": [
      "\u001b[32m[I 2021-01-03 18:19:02,113]\u001b[0m Trial 838 finished with value: 3701616.368077783 and parameters: {'nleaves': 68, 'bagfrac': 0.9333492182488289, 'bagfreq': 1, 'featfrac': 0.8973131560316712, 'lambda_l1': 7.828636145701164e-05, 'lambda_l2': 9.881106591336254, 'minchild': 13}. Best is trial 496 with value: 3511896.0883319825.\u001b[0m\n"
     ]
    },
    {
     "name": "stdout",
     "output_type": "stream",
     "text": [
      "Early stopping, best iteration is:\n",
      "[164]\ttraining's l1: 547266\tvalid_1's l1: 3.70162e+06\n",
      "Training until validation scores don't improve for 5 rounds\n"
     ]
    },
    {
     "name": "stderr",
     "output_type": "stream",
     "text": [
      "\u001b[32m[I 2021-01-03 18:19:03,038]\u001b[0m Trial 839 finished with value: 3785532.080310074 and parameters: {'nleaves': 64, 'bagfrac': 0.9251833136937969, 'bagfreq': 1, 'featfrac': 0.8713337458168534, 'lambda_l1': 0.001185960154865515, 'lambda_l2': 9.954287789712769, 'minchild': 51}. Best is trial 496 with value: 3511896.0883319825.\u001b[0m\n"
     ]
    },
    {
     "name": "stdout",
     "output_type": "stream",
     "text": [
      "Early stopping, best iteration is:\n",
      "[191]\ttraining's l1: 1.00084e+06\tvalid_1's l1: 3.78553e+06\n",
      "Training until validation scores don't improve for 5 rounds\n"
     ]
    },
    {
     "name": "stderr",
     "output_type": "stream",
     "text": [
      "\u001b[32m[I 2021-01-03 18:19:04,784]\u001b[0m Trial 840 finished with value: 3632976.2984621017 and parameters: {'nleaves': 71, 'bagfrac': 0.9285580409212755, 'bagfreq': 1, 'featfrac': 0.8785224692958868, 'lambda_l1': 0.0001237573361044507, 'lambda_l2': 9.977408514665042, 'minchild': 10}. Best is trial 496 with value: 3511896.0883319825.\u001b[0m\n"
     ]
    },
    {
     "name": "stdout",
     "output_type": "stream",
     "text": [
      "Early stopping, best iteration is:\n",
      "[189]\ttraining's l1: 408536\tvalid_1's l1: 3.63298e+06\n",
      "Training until validation scores don't improve for 5 rounds\n"
     ]
    },
    {
     "name": "stderr",
     "output_type": "stream",
     "text": [
      "\u001b[32m[I 2021-01-03 18:19:06,138]\u001b[0m Trial 841 finished with value: 3656360.0056076543 and parameters: {'nleaves': 58, 'bagfrac': 0.9369962869620412, 'bagfreq': 1, 'featfrac': 0.8099057904197113, 'lambda_l1': 6.649548720422882e-05, 'lambda_l2': 5.760393717834591, 'minchild': 8}. Best is trial 496 with value: 3511896.0883319825.\u001b[0m\n"
     ]
    },
    {
     "name": "stdout",
     "output_type": "stream",
     "text": [
      "Early stopping, best iteration is:\n",
      "[179]\ttraining's l1: 550371\tvalid_1's l1: 3.65636e+06\n",
      "Training until validation scores don't improve for 5 rounds\n"
     ]
    },
    {
     "name": "stderr",
     "output_type": "stream",
     "text": [
      "\u001b[32m[I 2021-01-03 18:19:07,737]\u001b[0m Trial 842 finished with value: 3729395.863398012 and parameters: {'nleaves': 82, 'bagfrac': 0.9238614940751911, 'bagfreq': 1, 'featfrac': 0.8191155262346084, 'lambda_l1': 0.00015341181917729975, 'lambda_l2': 7.151850397140257, 'minchild': 17}. Best is trial 496 with value: 3511896.0883319825.\u001b[0m\n"
     ]
    },
    {
     "name": "stdout",
     "output_type": "stream",
     "text": [
      "Early stopping, best iteration is:\n",
      "[187]\ttraining's l1: 318599\tvalid_1's l1: 3.7294e+06\n",
      "Training until validation scores don't improve for 5 rounds\n"
     ]
    },
    {
     "name": "stderr",
     "output_type": "stream",
     "text": [
      "\u001b[32m[I 2021-01-03 18:19:09,357]\u001b[0m Trial 843 finished with value: 3703385.7739562686 and parameters: {'nleaves': 75, 'bagfrac': 0.9461837292775473, 'bagfreq': 2, 'featfrac': 0.8628725107428824, 'lambda_l1': 0.00023723791281270528, 'lambda_l2': 5.006929949048414, 'minchild': 6}. Best is trial 496 with value: 3511896.0883319825.\u001b[0m\n"
     ]
    },
    {
     "name": "stdout",
     "output_type": "stream",
     "text": [
      "Early stopping, best iteration is:\n",
      "[161]\ttraining's l1: 404287\tvalid_1's l1: 3.70339e+06\n",
      "Training until validation scores don't improve for 5 rounds\n"
     ]
    },
    {
     "name": "stderr",
     "output_type": "stream",
     "text": [
      "\u001b[32m[I 2021-01-03 18:19:12,998]\u001b[0m Trial 844 finished with value: 4061381.529814438 and parameters: {'nleaves': 174, 'bagfrac': 0.9536104347744246, 'bagfreq': 2, 'featfrac': 0.8500536460539972, 'lambda_l1': 5.083057573483091e-05, 'lambda_l2': 0.000809289121533323, 'minchild': 1}. Best is trial 496 with value: 3511896.0883319825.\u001b[0m\n"
     ]
    },
    {
     "name": "stdout",
     "output_type": "stream",
     "text": [
      "Early stopping, best iteration is:\n",
      "[153]\ttraining's l1: 26242.9\tvalid_1's l1: 4.06138e+06\n",
      "Training until validation scores don't improve for 5 rounds\n"
     ]
    },
    {
     "name": "stderr",
     "output_type": "stream",
     "text": [
      "\u001b[32m[I 2021-01-03 18:19:14,786]\u001b[0m Trial 845 finished with value: 3732391.726153459 and parameters: {'nleaves': 62, 'bagfrac': 0.9195649658067043, 'bagfreq': 2, 'featfrac': 0.8709304171706564, 'lambda_l1': 0.00035498997835410975, 'lambda_l2': 7.393692522831487, 'minchild': 13}. Best is trial 496 with value: 3511896.0883319825.\u001b[0m\n"
     ]
    },
    {
     "name": "stdout",
     "output_type": "stream",
     "text": [
      "Early stopping, best iteration is:\n",
      "[236]\ttraining's l1: 325795\tvalid_1's l1: 3.73239e+06\n",
      "Training until validation scores don't improve for 5 rounds\n"
     ]
    },
    {
     "name": "stderr",
     "output_type": "stream",
     "text": [
      "\u001b[32m[I 2021-01-03 18:19:17,544]\u001b[0m Trial 846 finished with value: 3608851.1495693857 and parameters: {'nleaves': 70, 'bagfrac': 0.9300579409224699, 'bagfreq': 1, 'featfrac': 0.8565727423114732, 'lambda_l1': 0.00010344943407804906, 'lambda_l2': 9.965464086391615, 'minchild': 3}. Best is trial 496 with value: 3511896.0883319825.\u001b[0m\n"
     ]
    },
    {
     "name": "stdout",
     "output_type": "stream",
     "text": [
      "Early stopping, best iteration is:\n",
      "[279]\ttraining's l1: 181337\tvalid_1's l1: 3.60885e+06\n",
      "Training until validation scores don't improve for 5 rounds\n"
     ]
    },
    {
     "name": "stderr",
     "output_type": "stream",
     "text": [
      "\u001b[32m[I 2021-01-03 18:19:18,843]\u001b[0m Trial 847 finished with value: 3633490.381995681 and parameters: {'nleaves': 65, 'bagfrac': 0.922522286784543, 'bagfreq': 3, 'featfrac': 0.8041734301444059, 'lambda_l1': 0.0007991916475349249, 'lambda_l2': 5.670974988252938, 'minchild': 9}. Best is trial 496 with value: 3511896.0883319825.\u001b[0m\n"
     ]
    },
    {
     "name": "stdout",
     "output_type": "stream",
     "text": [
      "Early stopping, best iteration is:\n",
      "[157]\ttraining's l1: 579937\tvalid_1's l1: 3.63349e+06\n",
      "Training until validation scores don't improve for 5 rounds\n"
     ]
    },
    {
     "name": "stderr",
     "output_type": "stream",
     "text": [
      "\u001b[32m[I 2021-01-03 18:19:20,158]\u001b[0m Trial 848 finished with value: 3742590.0433462593 and parameters: {'nleaves': 58, 'bagfrac': 0.7540925001495683, 'bagfreq': 2, 'featfrac': 0.8852468691601822, 'lambda_l1': 3.536040075616634e-05, 'lambda_l2': 4.230274125061239, 'minchild': 5}. Best is trial 496 with value: 3511896.0883319825.\u001b[0m\n"
     ]
    },
    {
     "name": "stdout",
     "output_type": "stream",
     "text": [
      "Early stopping, best iteration is:\n",
      "[152]\ttraining's l1: 688873\tvalid_1's l1: 3.74259e+06\n",
      "Training until validation scores don't improve for 5 rounds\n"
     ]
    },
    {
     "name": "stderr",
     "output_type": "stream",
     "text": [
      "\u001b[32m[I 2021-01-03 18:19:21,589]\u001b[0m Trial 849 finished with value: 3696413.0953472005 and parameters: {'nleaves': 67, 'bagfrac': 0.8926781370663809, 'bagfreq': 7, 'featfrac': 0.8644842674197802, 'lambda_l1': 0.00027703905766247866, 'lambda_l2': 7.4044280406104965, 'minchild': 11}. Best is trial 496 with value: 3511896.0883319825.\u001b[0m\n"
     ]
    },
    {
     "name": "stdout",
     "output_type": "stream",
     "text": [
      "Early stopping, best iteration is:\n",
      "[172]\ttraining's l1: 518857\tvalid_1's l1: 3.69641e+06\n",
      "Training until validation scores don't improve for 5 rounds\n"
     ]
    },
    {
     "name": "stderr",
     "output_type": "stream",
     "text": [
      "\u001b[32m[I 2021-01-03 18:19:23,435]\u001b[0m Trial 850 finished with value: 3787904.7998400414 and parameters: {'nleaves': 61, 'bagfrac': 0.9367336557183011, 'bagfreq': 2, 'featfrac': 0.8479416092497885, 'lambda_l1': 0.0019709179288423264, 'lambda_l2': 0.005889944195688607, 'minchild': 1}. Best is trial 496 with value: 3511896.0883319825.\u001b[0m\n"
     ]
    },
    {
     "name": "stdout",
     "output_type": "stream",
     "text": [
      "Early stopping, best iteration is:\n",
      "[201]\ttraining's l1: 323493\tvalid_1's l1: 3.7879e+06\n",
      "Training until validation scores don't improve for 5 rounds\n"
     ]
    },
    {
     "name": "stderr",
     "output_type": "stream",
     "text": [
      "\u001b[32m[I 2021-01-03 18:19:25,264]\u001b[0m Trial 851 finished with value: 3570507.951707618 and parameters: {'nleaves': 58, 'bagfrac': 0.9074033978822028, 'bagfreq': 2, 'featfrac': 0.8790152382447799, 'lambda_l1': 7.254300101347676e-05, 'lambda_l2': 5.494149157394599, 'minchild': 7}. Best is trial 496 with value: 3511896.0883319825.\u001b[0m\n"
     ]
    },
    {
     "name": "stdout",
     "output_type": "stream",
     "text": [
      "Early stopping, best iteration is:\n",
      "[231]\ttraining's l1: 346893\tvalid_1's l1: 3.57051e+06\n",
      "Training until validation scores don't improve for 5 rounds\n"
     ]
    },
    {
     "name": "stderr",
     "output_type": "stream",
     "text": [
      "\u001b[32m[I 2021-01-03 18:19:27,000]\u001b[0m Trial 852 finished with value: 3718041.1995832613 and parameters: {'nleaves': 57, 'bagfrac': 0.9178775565953065, 'bagfreq': 2, 'featfrac': 0.8897978526306896, 'lambda_l1': 6.185873263212997e-05, 'lambda_l2': 3.372070080255772, 'minchild': 7}. Best is trial 496 with value: 3511896.0883319825.\u001b[0m\n"
     ]
    },
    {
     "name": "stdout",
     "output_type": "stream",
     "text": [
      "Early stopping, best iteration is:\n",
      "[207]\ttraining's l1: 408732\tvalid_1's l1: 3.71804e+06\n",
      "Training until validation scores don't improve for 5 rounds\n"
     ]
    },
    {
     "name": "stderr",
     "output_type": "stream",
     "text": [
      "\u001b[32m[I 2021-01-03 18:19:28,611]\u001b[0m Trial 853 finished with value: 3706705.535206753 and parameters: {'nleaves': 56, 'bagfrac': 0.9086290082511982, 'bagfreq': 2, 'featfrac': 0.8817859881458748, 'lambda_l1': 5.0616904787772846e-05, 'lambda_l2': 3.3037226394327925, 'minchild': 6}. Best is trial 496 with value: 3511896.0883319825.\u001b[0m\n"
     ]
    },
    {
     "name": "stdout",
     "output_type": "stream",
     "text": [
      "Early stopping, best iteration is:\n",
      "[209]\ttraining's l1: 415874\tvalid_1's l1: 3.70671e+06\n",
      "Training until validation scores don't improve for 5 rounds\n"
     ]
    },
    {
     "name": "stderr",
     "output_type": "stream",
     "text": [
      "\u001b[32m[I 2021-01-03 18:19:29,957]\u001b[0m Trial 854 finished with value: 3693091.1024367944 and parameters: {'nleaves': 53, 'bagfrac': 0.9279018461622406, 'bagfreq': 2, 'featfrac': 0.8782788123318785, 'lambda_l1': 7.321836607645753e-05, 'lambda_l2': 4.661974950080951, 'minchild': 4}. Best is trial 496 with value: 3511896.0883319825.\u001b[0m\n"
     ]
    },
    {
     "name": "stdout",
     "output_type": "stream",
     "text": [
      "Early stopping, best iteration is:\n",
      "[142]\ttraining's l1: 825835\tvalid_1's l1: 3.69309e+06\n",
      "Training until validation scores don't improve for 5 rounds\n"
     ]
    },
    {
     "name": "stderr",
     "output_type": "stream",
     "text": [
      "\u001b[32m[I 2021-01-03 18:19:31,594]\u001b[0m Trial 855 finished with value: 3761868.042538832 and parameters: {'nleaves': 54, 'bagfrac': 0.9167554327051711, 'bagfreq': 2, 'featfrac': 0.883887603712049, 'lambda_l1': 4.887585887506378e-05, 'lambda_l2': 2.4865768665473196, 'minchild': 7}. Best is trial 496 with value: 3511896.0883319825.\u001b[0m\n"
     ]
    },
    {
     "name": "stdout",
     "output_type": "stream",
     "text": [
      "Early stopping, best iteration is:\n",
      "[229]\ttraining's l1: 365492\tvalid_1's l1: 3.76187e+06\n",
      "Training until validation scores don't improve for 5 rounds\n"
     ]
    },
    {
     "name": "stderr",
     "output_type": "stream",
     "text": [
      "\u001b[32m[I 2021-01-03 18:19:33,071]\u001b[0m Trial 856 finished with value: 3656742.3547564005 and parameters: {'nleaves': 59, 'bagfrac': 0.922993685570274, 'bagfreq': 2, 'featfrac': 0.8947493919684217, 'lambda_l1': 8.587781622859408e-05, 'lambda_l2': 4.45205140297099, 'minchild': 3}. Best is trial 496 with value: 3511896.0883319825.\u001b[0m\n"
     ]
    },
    {
     "name": "stdout",
     "output_type": "stream",
     "text": [
      "Early stopping, best iteration is:\n",
      "[158]\ttraining's l1: 595374\tvalid_1's l1: 3.65674e+06\n",
      "Training until validation scores don't improve for 5 rounds\n"
     ]
    },
    {
     "name": "stderr",
     "output_type": "stream",
     "text": [
      "\u001b[32m[I 2021-01-03 18:19:34,495]\u001b[0m Trial 857 finished with value: 3775351.045659172 and parameters: {'nleaves': 36, 'bagfrac': 0.943557137569432, 'bagfreq': 2, 'featfrac': 0.8769502090205682, 'lambda_l1': 6.566339608285516e-05, 'lambda_l2': 5.482854361009339, 'minchild': 5}. Best is trial 496 with value: 3511896.0883319825.\u001b[0m\n"
     ]
    },
    {
     "name": "stdout",
     "output_type": "stream",
     "text": [
      "Early stopping, best iteration is:\n",
      "[217]\ttraining's l1: 871794\tvalid_1's l1: 3.77535e+06\n",
      "Training until validation scores don't improve for 5 rounds\n"
     ]
    },
    {
     "name": "stderr",
     "output_type": "stream",
     "text": [
      "\u001b[32m[I 2021-01-03 18:19:36,162]\u001b[0m Trial 858 finished with value: 3796663.1299487106 and parameters: {'nleaves': 55, 'bagfrac': 0.912238979105578, 'bagfreq': 2, 'featfrac': 0.8859882294418001, 'lambda_l1': 0.00010377246355842889, 'lambda_l2': 3.846198849626705, 'minchild': 7}. Best is trial 496 with value: 3511896.0883319825.\u001b[0m\n"
     ]
    },
    {
     "name": "stdout",
     "output_type": "stream",
     "text": [
      "Early stopping, best iteration is:\n",
      "[209]\ttraining's l1: 446390\tvalid_1's l1: 3.79666e+06\n",
      "Training until validation scores don't improve for 5 rounds\n"
     ]
    },
    {
     "name": "stderr",
     "output_type": "stream",
     "text": [
      "\u001b[32m[I 2021-01-03 18:19:38,170]\u001b[0m Trial 859 finished with value: 3644565.034103994 and parameters: {'nleaves': 62, 'bagfrac': 0.9292773732513256, 'bagfreq': 2, 'featfrac': 0.8751317469662292, 'lambda_l1': 3.3361493123062195e-05, 'lambda_l2': 5.869562960161093, 'minchild': 3}. Best is trial 496 with value: 3511896.0883319825.\u001b[0m\n"
     ]
    },
    {
     "name": "stdout",
     "output_type": "stream",
     "text": [
      "Early stopping, best iteration is:\n",
      "[221]\ttraining's l1: 339125\tvalid_1's l1: 3.64456e+06\n",
      "Training until validation scores don't improve for 5 rounds\n"
     ]
    },
    {
     "name": "stderr",
     "output_type": "stream",
     "text": [
      "\u001b[32m[I 2021-01-03 18:19:40,656]\u001b[0m Trial 860 finished with value: 3668489.5319514833 and parameters: {'nleaves': 60, 'bagfrac': 0.9335035651425487, 'bagfreq': 2, 'featfrac': 0.8723722447226271, 'lambda_l1': 4.5638906450965055e-05, 'lambda_l2': 1.5340764006471588, 'minchild': 1}. Best is trial 496 with value: 3511896.0883319825.\u001b[0m\n"
     ]
    },
    {
     "name": "stdout",
     "output_type": "stream",
     "text": [
      "Early stopping, best iteration is:\n",
      "[266]\ttraining's l1: 193759\tvalid_1's l1: 3.66849e+06\n",
      "Training until validation scores don't improve for 5 rounds\n"
     ]
    },
    {
     "name": "stderr",
     "output_type": "stream",
     "text": [
      "\u001b[32m[I 2021-01-03 18:19:42,233]\u001b[0m Trial 861 finished with value: 3712261.9085680605 and parameters: {'nleaves': 54, 'bagfrac': 0.9198750630468144, 'bagfreq': 2, 'featfrac': 0.9478308116226042, 'lambda_l1': 7.704097693973228e-05, 'lambda_l2': 3.0530702586780984, 'minchild': 8}. Best is trial 496 with value: 3511896.0883319825.\u001b[0m\n"
     ]
    },
    {
     "name": "stdout",
     "output_type": "stream",
     "text": [
      "Early stopping, best iteration is:\n",
      "[222]\ttraining's l1: 398270\tvalid_1's l1: 3.71226e+06\n",
      "Training until validation scores don't improve for 5 rounds\n"
     ]
    },
    {
     "name": "stderr",
     "output_type": "stream",
     "text": [
      "\u001b[32m[I 2021-01-03 18:19:44,176]\u001b[0m Trial 862 finished with value: 3588452.1846509995 and parameters: {'nleaves': 59, 'bagfrac': 0.9084883027352553, 'bagfreq': 1, 'featfrac': 0.867311701146974, 'lambda_l1': 0.00010374268237566606, 'lambda_l2': 5.8014200243818275, 'minchild': 5}. Best is trial 496 with value: 3511896.0883319825.\u001b[0m\n"
     ]
    },
    {
     "name": "stdout",
     "output_type": "stream",
     "text": [
      "Early stopping, best iteration is:\n",
      "[228]\ttraining's l1: 341572\tvalid_1's l1: 3.58845e+06\n",
      "Training until validation scores don't improve for 5 rounds\n"
     ]
    },
    {
     "name": "stderr",
     "output_type": "stream",
     "text": [
      "\u001b[32m[I 2021-01-03 18:19:46,348]\u001b[0m Trial 863 finished with value: 3648208.221934522 and parameters: {'nleaves': 65, 'bagfrac': 0.9242324087250631, 'bagfreq': 2, 'featfrac': 0.8793877416187624, 'lambda_l1': 6.149310950622683e-05, 'lambda_l2': 7.398492865969631, 'minchild': 3}. Best is trial 496 with value: 3511896.0883319825.\u001b[0m\n"
     ]
    },
    {
     "name": "stdout",
     "output_type": "stream",
     "text": [
      "Early stopping, best iteration is:\n",
      "[217]\ttraining's l1: 332679\tvalid_1's l1: 3.64821e+06\n",
      "Training until validation scores don't improve for 5 rounds\n"
     ]
    },
    {
     "name": "stderr",
     "output_type": "stream",
     "text": [
      "\u001b[32m[I 2021-01-03 18:19:47,741]\u001b[0m Trial 864 finished with value: 3688360.1981113898 and parameters: {'nleaves': 33, 'bagfrac': 0.9163025657147986, 'bagfreq': 2, 'featfrac': 0.8714409575271793, 'lambda_l1': 2.5990099080347534e-05, 'lambda_l2': 4.332195328408742, 'minchild': 9}. Best is trial 496 with value: 3511896.0883319825.\u001b[0m\n"
     ]
    },
    {
     "name": "stdout",
     "output_type": "stream",
     "text": [
      "Early stopping, best iteration is:\n",
      "[290]\ttraining's l1: 650439\tvalid_1's l1: 3.68836e+06\n",
      "Training until validation scores don't improve for 5 rounds\n"
     ]
    },
    {
     "name": "stderr",
     "output_type": "stream",
     "text": [
      "\u001b[32m[I 2021-01-03 18:19:49,149]\u001b[0m Trial 865 finished with value: 3801026.770367417 and parameters: {'nleaves': 52, 'bagfrac': 0.9034862398429362, 'bagfreq': 2, 'featfrac': 0.8904117418884199, 'lambda_l1': 3.8493537293372634e-05, 'lambda_l2': 6.042217374286359, 'minchild': 6}. Best is trial 496 with value: 3511896.0883319825.\u001b[0m\n"
     ]
    },
    {
     "name": "stdout",
     "output_type": "stream",
     "text": [
      "Early stopping, best iteration is:\n",
      "[181]\ttraining's l1: 630951\tvalid_1's l1: 3.80103e+06\n",
      "Training until validation scores don't improve for 5 rounds\n"
     ]
    },
    {
     "name": "stderr",
     "output_type": "stream",
     "text": [
      "\u001b[32m[I 2021-01-03 18:19:50,741]\u001b[0m Trial 866 finished with value: 3638722.9583228566 and parameters: {'nleaves': 40, 'bagfrac': 0.9389769937187507, 'bagfreq': 10, 'featfrac': 0.8618141864433183, 'lambda_l1': 0.00012286022050009263, 'lambda_l2': 7.553434878379994, 'minchild': 2}. Best is trial 496 with value: 3511896.0883319825.\u001b[0m\n"
     ]
    },
    {
     "name": "stdout",
     "output_type": "stream",
     "text": [
      "Early stopping, best iteration is:\n",
      "[253]\ttraining's l1: 664226\tvalid_1's l1: 3.63872e+06\n",
      "Training until validation scores don't improve for 5 rounds\n"
     ]
    },
    {
     "name": "stderr",
     "output_type": "stream",
     "text": [
      "\u001b[32m[I 2021-01-03 18:19:53,400]\u001b[0m Trial 867 finished with value: 3677690.679398712 and parameters: {'nleaves': 63, 'bagfrac': 0.9255196436758771, 'bagfreq': 1, 'featfrac': 0.8851865581543122, 'lambda_l1': 8.623907870777162e-05, 'lambda_l2': 3.2663345017210013, 'minchild': 4}. Best is trial 496 with value: 3511896.0883319825.\u001b[0m\n"
     ]
    },
    {
     "name": "stdout",
     "output_type": "stream",
     "text": [
      "Early stopping, best iteration is:\n",
      "[294]\ttraining's l1: 150844\tvalid_1's l1: 3.67769e+06\n",
      "Training until validation scores don't improve for 5 rounds\n"
     ]
    },
    {
     "name": "stderr",
     "output_type": "stream",
     "text": [
      "\u001b[32m[I 2021-01-03 18:19:54,877]\u001b[0m Trial 868 finished with value: 3619727.4144741604 and parameters: {'nleaves': 56, 'bagfrac': 0.9130599720142855, 'bagfreq': 2, 'featfrac': 0.8752255392102742, 'lambda_l1': 6.452486960867489e-05, 'lambda_l2': 9.997501827448508, 'minchild': 8}. Best is trial 496 with value: 3511896.0883319825.\u001b[0m\n"
     ]
    },
    {
     "name": "stdout",
     "output_type": "stream",
     "text": [
      "Early stopping, best iteration is:\n",
      "[182]\ttraining's l1: 627352\tvalid_1's l1: 3.61973e+06\n",
      "Training until validation scores don't improve for 5 rounds\n"
     ]
    },
    {
     "name": "stderr",
     "output_type": "stream",
     "text": [
      "\u001b[32m[I 2021-01-03 18:19:57,312]\u001b[0m Trial 869 finished with value: 3666153.0761516117 and parameters: {'nleaves': 70, 'bagfrac': 0.9344253146945455, 'bagfreq': 2, 'featfrac': 0.867352544747717, 'lambda_l1': 1.1232645130231065e-05, 'lambda_l2': 2.188088703933008, 'minchild': 1}. Best is trial 496 with value: 3511896.0883319825.\u001b[0m\n"
     ]
    },
    {
     "name": "stdout",
     "output_type": "stream",
     "text": [
      "Early stopping, best iteration is:\n",
      "[184]\ttraining's l1: 315642\tvalid_1's l1: 3.66615e+06\n",
      "Training until validation scores don't improve for 5 rounds\n"
     ]
    },
    {
     "name": "stderr",
     "output_type": "stream",
     "text": [
      "\u001b[32m[I 2021-01-03 18:19:59,009]\u001b[0m Trial 870 finished with value: 3618497.2942464757 and parameters: {'nleaves': 59, 'bagfrac': 0.9196190057378972, 'bagfreq': 2, 'featfrac': 0.857164777214318, 'lambda_l1': 0.00013179615325329327, 'lambda_l2': 4.513051475281662, 'minchild': 6}. Best is trial 496 with value: 3511896.0883319825.\u001b[0m\n"
     ]
    },
    {
     "name": "stdout",
     "output_type": "stream",
     "text": [
      "Early stopping, best iteration is:\n",
      "[212]\ttraining's l1: 378839\tvalid_1's l1: 3.6185e+06\n",
      "Training until validation scores don't improve for 5 rounds\n"
     ]
    },
    {
     "name": "stderr",
     "output_type": "stream",
     "text": [
      "\u001b[32m[I 2021-01-03 18:19:59,933]\u001b[0m Trial 871 finished with value: 3804788.5205763974 and parameters: {'nleaves': 48, 'bagfrac': 0.9059903348687834, 'bagfreq': 2, 'featfrac': 0.8691086554900314, 'lambda_l1': 8.208384072399415e-05, 'lambda_l2': 7.522868855465525, 'minchild': 79}. Best is trial 496 with value: 3511896.0883319825.\u001b[0m\n"
     ]
    },
    {
     "name": "stdout",
     "output_type": "stream",
     "text": [
      "Early stopping, best iteration is:\n",
      "[274]\ttraining's l1: 1.16156e+06\tvalid_1's l1: 3.80479e+06\n",
      "Training until validation scores don't improve for 5 rounds\n"
     ]
    },
    {
     "name": "stderr",
     "output_type": "stream",
     "text": [
      "\u001b[32m[I 2021-01-03 18:20:00,898]\u001b[0m Trial 872 finished with value: 3644723.7660992313 and parameters: {'nleaves': 65, 'bagfrac': 0.9296943508123986, 'bagfreq': 1, 'featfrac': 0.8626200335516954, 'lambda_l1': 4.806027032067493e-05, 'lambda_l2': 9.887852304573357, 'minchild': 90}. Best is trial 496 with value: 3511896.0883319825.\u001b[0m\n"
     ]
    },
    {
     "name": "stdout",
     "output_type": "stream",
     "text": [
      "Early stopping, best iteration is:\n",
      "[341]\ttraining's l1: 1.07299e+06\tvalid_1's l1: 3.64472e+06\n",
      "Training until validation scores don't improve for 5 rounds\n"
     ]
    },
    {
     "name": "stderr",
     "output_type": "stream",
     "text": [
      "\u001b[32m[I 2021-01-03 18:20:02,604]\u001b[0m Trial 873 finished with value: 3677508.6454968406 and parameters: {'nleaves': 76, 'bagfrac': 0.9576077516154267, 'bagfreq': 2, 'featfrac': 0.8110669604527675, 'lambda_l1': 9.712374981229407e-05, 'lambda_l2': 5.711451251504849, 'minchild': 4}. Best is trial 496 with value: 3511896.0883319825.\u001b[0m\n"
     ]
    },
    {
     "name": "stdout",
     "output_type": "stream",
     "text": [
      "Early stopping, best iteration is:\n",
      "[161]\ttraining's l1: 418252\tvalid_1's l1: 3.67751e+06\n",
      "Training until validation scores don't improve for 5 rounds\n"
     ]
    },
    {
     "name": "stderr",
     "output_type": "stream",
     "text": [
      "\u001b[32m[I 2021-01-03 18:20:04,288]\u001b[0m Trial 874 finished with value: 3612663.4557469706 and parameters: {'nleaves': 53, 'bagfrac': 0.9144812341387819, 'bagfreq': 2, 'featfrac': 0.8801266801914357, 'lambda_l1': 0.00015829716666195166, 'lambda_l2': 9.962279227263329, 'minchild': 1}. Best is trial 496 with value: 3511896.0883319825.\u001b[0m\n"
     ]
    },
    {
     "name": "stdout",
     "output_type": "stream",
     "text": [
      "Early stopping, best iteration is:\n",
      "[177]\ttraining's l1: 696589\tvalid_1's l1: 3.61266e+06\n",
      "Training until validation scores don't improve for 5 rounds\n"
     ]
    },
    {
     "name": "stderr",
     "output_type": "stream",
     "text": [
      "\u001b[32m[I 2021-01-03 18:20:05,997]\u001b[0m Trial 875 finished with value: 3668917.802217999 and parameters: {'nleaves': 62, 'bagfrac': 0.9230255674079672, 'bagfreq': 1, 'featfrac': 0.8741045611612437, 'lambda_l1': 6.20787567731915e-05, 'lambda_l2': 4.574113419312408, 'minchild': 9}. Best is trial 496 with value: 3511896.0883319825.\u001b[0m\n"
     ]
    },
    {
     "name": "stdout",
     "output_type": "stream",
     "text": [
      "Early stopping, best iteration is:\n",
      "[222]\ttraining's l1: 326655\tvalid_1's l1: 3.66892e+06\n",
      "Training until validation scores don't improve for 5 rounds\n"
     ]
    },
    {
     "name": "stderr",
     "output_type": "stream",
     "text": [
      "\u001b[32m[I 2021-01-03 18:20:07,660]\u001b[0m Trial 876 finished with value: 3645924.6371402927 and parameters: {'nleaves': 42, 'bagfrac': 0.9101257602328531, 'bagfreq': 2, 'featfrac': 0.8575948509033753, 'lambda_l1': 0.0013399386403481755, 'lambda_l2': 9.977046479393449, 'minchild': 6}. Best is trial 496 with value: 3511896.0883319825.\u001b[0m\n"
     ]
    },
    {
     "name": "stdout",
     "output_type": "stream",
     "text": [
      "Early stopping, best iteration is:\n",
      "[279]\ttraining's l1: 535474\tvalid_1's l1: 3.64592e+06\n",
      "Training until validation scores don't improve for 5 rounds\n"
     ]
    },
    {
     "name": "stderr",
     "output_type": "stream",
     "text": [
      "\u001b[32m[I 2021-01-03 18:20:09,409]\u001b[0m Trial 877 finished with value: 3600319.5411272934 and parameters: {'nleaves': 72, 'bagfrac': 0.9307597484332768, 'bagfreq': 2, 'featfrac': 0.805639914794267, 'lambda_l1': 3.694409444290533e-05, 'lambda_l2': 9.970706632256835, 'minchild': 3}. Best is trial 496 with value: 3511896.0883319825.\u001b[0m\n"
     ]
    },
    {
     "name": "stdout",
     "output_type": "stream",
     "text": [
      "Early stopping, best iteration is:\n",
      "[169]\ttraining's l1: 475150\tvalid_1's l1: 3.60032e+06\n",
      "Training until validation scores don't improve for 5 rounds\n"
     ]
    },
    {
     "name": "stderr",
     "output_type": "stream",
     "text": [
      "\u001b[32m[I 2021-01-03 18:20:10,599]\u001b[0m Trial 878 finished with value: 3764315.590008204 and parameters: {'nleaves': 36, 'bagfrac': 0.9185808971945097, 'bagfreq': 2, 'featfrac': 0.797167942995223, 'lambda_l1': 9.336445397482862e-05, 'lambda_l2': 5.841479082943538, 'minchild': 5}. Best is trial 496 with value: 3511896.0883319825.\u001b[0m\n"
     ]
    },
    {
     "name": "stdout",
     "output_type": "stream",
     "text": [
      "Early stopping, best iteration is:\n",
      "[216]\ttraining's l1: 871458\tvalid_1's l1: 3.76432e+06\n",
      "Training until validation scores don't improve for 5 rounds\n"
     ]
    },
    {
     "name": "stderr",
     "output_type": "stream",
     "text": [
      "\u001b[32m[I 2021-01-03 18:20:12,470]\u001b[0m Trial 879 finished with value: 3873566.805600267 and parameters: {'nleaves': 68, 'bagfrac': 0.9414377851700975, 'bagfreq': 6, 'featfrac': 0.8655335064420504, 'lambda_l1': 0.00012150572733553023, 'lambda_l2': 0.02965236814020857, 'minchild': 1}. Best is trial 496 with value: 3511896.0883319825.\u001b[0m\n"
     ]
    },
    {
     "name": "stdout",
     "output_type": "stream",
     "text": [
      "Early stopping, best iteration is:\n",
      "[178]\ttraining's l1: 320847\tvalid_1's l1: 3.87357e+06\n",
      "Training until validation scores don't improve for 5 rounds\n"
     ]
    },
    {
     "name": "stderr",
     "output_type": "stream",
     "text": [
      "\u001b[32m[I 2021-01-03 18:20:13,914]\u001b[0m Trial 880 finished with value: 3731074.6055661677 and parameters: {'nleaves': 58, 'bagfrac': 0.92426735219934, 'bagfreq': 1, 'featfrac': 0.8706199656653271, 'lambda_l1': 1.7164708507390734e-05, 'lambda_l2': 3.079269861786603, 'minchild': 9}. Best is trial 496 with value: 3511896.0883319825.\u001b[0m\n"
     ]
    },
    {
     "name": "stdout",
     "output_type": "stream",
     "text": [
      "Early stopping, best iteration is:\n",
      "[183]\ttraining's l1: 486605\tvalid_1's l1: 3.73107e+06\n",
      "Training until validation scores don't improve for 5 rounds\n"
     ]
    },
    {
     "name": "stderr",
     "output_type": "stream",
     "text": [
      "\u001b[32m[I 2021-01-03 18:20:15,673]\u001b[0m Trial 881 finished with value: 3619483.0965549466 and parameters: {'nleaves': 47, 'bagfrac': 0.9049333225949645, 'bagfreq': 2, 'featfrac': 0.8825997361095645, 'lambda_l1': 0.0045469511422762555, 'lambda_l2': 7.516405109627503, 'minchild': 7}. Best is trial 496 with value: 3511896.0883319825.\u001b[0m\n"
     ]
    },
    {
     "name": "stdout",
     "output_type": "stream",
     "text": [
      "Early stopping, best iteration is:\n",
      "[279]\ttraining's l1: 412671\tvalid_1's l1: 3.61948e+06\n",
      "Training until validation scores don't improve for 5 rounds\n"
     ]
    },
    {
     "name": "stderr",
     "output_type": "stream",
     "text": [
      "\u001b[32m[I 2021-01-03 18:20:17,380]\u001b[0m Trial 882 finished with value: 3623987.9833475496 and parameters: {'nleaves': 52, 'bagfrac': 0.9158571601999764, 'bagfreq': 2, 'featfrac': 0.8534564427208878, 'lambda_l1': 5.5603507948629436e-05, 'lambda_l2': 0.5190786647619879, 'minchild': 3}. Best is trial 496 with value: 3511896.0883319825.\u001b[0m\n"
     ]
    },
    {
     "name": "stdout",
     "output_type": "stream",
     "text": [
      "Early stopping, best iteration is:\n",
      "[220]\ttraining's l1: 392978\tvalid_1's l1: 3.62399e+06\n",
      "Training until validation scores don't improve for 5 rounds\n"
     ]
    },
    {
     "name": "stderr",
     "output_type": "stream",
     "text": [
      "\u001b[32m[I 2021-01-03 18:20:18,417]\u001b[0m Trial 883 finished with value: 3797246.7545653298 and parameters: {'nleaves': 32, 'bagfrac': 0.9341599209688812, 'bagfreq': 2, 'featfrac': 0.8589912170971871, 'lambda_l1': 0.00015226290757347296, 'lambda_l2': 3.7579557171602436, 'minchild': 10}. Best is trial 496 with value: 3511896.0883319825.\u001b[0m\n"
     ]
    },
    {
     "name": "stdout",
     "output_type": "stream",
     "text": [
      "Early stopping, best iteration is:\n",
      "[226]\ttraining's l1: 945304\tvalid_1's l1: 3.79725e+06\n",
      "Training until validation scores don't improve for 5 rounds\n"
     ]
    },
    {
     "name": "stderr",
     "output_type": "stream",
     "text": [
      "\u001b[32m[I 2021-01-03 18:20:19,978]\u001b[0m Trial 884 finished with value: 3616500.4709423413 and parameters: {'nleaves': 64, 'bagfrac': 0.9213383173372185, 'bagfreq': 2, 'featfrac': 0.8761425995555768, 'lambda_l1': 7.677105409846016e-05, 'lambda_l2': 7.187731085363054, 'minchild': 5}. Best is trial 496 with value: 3511896.0883319825.\u001b[0m\n"
     ]
    },
    {
     "name": "stdout",
     "output_type": "stream",
     "text": [
      "Early stopping, best iteration is:\n",
      "[166]\ttraining's l1: 533897\tvalid_1's l1: 3.6165e+06\n",
      "Training until validation scores don't improve for 5 rounds\n"
     ]
    },
    {
     "name": "stderr",
     "output_type": "stream",
     "text": [
      "\u001b[32m[I 2021-01-03 18:20:21,673]\u001b[0m Trial 885 finished with value: 3700137.9510115674 and parameters: {'nleaves': 44, 'bagfrac': 0.9268801573678962, 'bagfreq': 1, 'featfrac': 0.8607279221601766, 'lambda_l1': 0.00011388943024569218, 'lambda_l2': 9.938307588848216, 'minchild': 1}. Best is trial 496 with value: 3511896.0883319825.\u001b[0m\n"
     ]
    },
    {
     "name": "stdout",
     "output_type": "stream",
     "text": [
      "Early stopping, best iteration is:\n",
      "[234]\ttraining's l1: 635199\tvalid_1's l1: 3.70014e+06\n",
      "Training until validation scores don't improve for 5 rounds\n"
     ]
    },
    {
     "name": "stderr",
     "output_type": "stream",
     "text": [
      "\u001b[32m[I 2021-01-03 18:20:23,599]\u001b[0m Trial 886 finished with value: 3672669.623262866 and parameters: {'nleaves': 55, 'bagfrac': 0.7703798380544407, 'bagfreq': 2, 'featfrac': 0.8158135109689273, 'lambda_l1': 2.9140561585288057e-05, 'lambda_l2': 5.13507297576253, 'minchild': 3}. Best is trial 496 with value: 3511896.0883319825.\u001b[0m\n"
     ]
    },
    {
     "name": "stdout",
     "output_type": "stream",
     "text": [
      "Early stopping, best iteration is:\n",
      "[248]\ttraining's l1: 358885\tvalid_1's l1: 3.67267e+06\n",
      "Training until validation scores don't improve for 5 rounds\n"
     ]
    },
    {
     "name": "stderr",
     "output_type": "stream",
     "text": [
      "\u001b[32m[I 2021-01-03 18:20:26,372]\u001b[0m Trial 887 finished with value: 3822938.536056544 and parameters: {'nleaves': 202, 'bagfrac': 0.9522600752549295, 'bagfreq': 2, 'featfrac': 0.8656486130580836, 'lambda_l1': 4.7751301657479754e-05, 'lambda_l2': 7.301521507282652, 'minchild': 7}. Best is trial 496 with value: 3511896.0883319825.\u001b[0m\n"
     ]
    },
    {
     "name": "stdout",
     "output_type": "stream",
     "text": [
      "Early stopping, best iteration is:\n",
      "[144]\ttraining's l1: 101718\tvalid_1's l1: 3.82294e+06\n",
      "Training until validation scores don't improve for 5 rounds\n"
     ]
    },
    {
     "name": "stderr",
     "output_type": "stream",
     "text": [
      "\u001b[32m[I 2021-01-03 18:20:27,873]\u001b[0m Trial 888 finished with value: 3796491.9433446834 and parameters: {'nleaves': 78, 'bagfrac': 0.9457545371582543, 'bagfreq': 2, 'featfrac': 0.8543618971182558, 'lambda_l1': 0.0009384278347456483, 'lambda_l2': 1.1321974807848817e-05, 'minchild': 11}. Best is trial 496 with value: 3511896.0883319825.\u001b[0m\n"
     ]
    },
    {
     "name": "stdout",
     "output_type": "stream",
     "text": [
      "Early stopping, best iteration is:\n",
      "[149]\ttraining's l1: 351661\tvalid_1's l1: 3.79649e+06\n",
      "Training until validation scores don't improve for 5 rounds\n"
     ]
    },
    {
     "name": "stderr",
     "output_type": "stream",
     "text": [
      "\u001b[32m[I 2021-01-03 18:20:29,215]\u001b[0m Trial 889 finished with value: 3810965.9426043318 and parameters: {'nleaves': 68, 'bagfrac': 0.9093960697698629, 'bagfreq': 1, 'featfrac': 0.7998703884088144, 'lambda_l1': 7.528236585932717e-05, 'lambda_l2': 4.014921295992705, 'minchild': 5}. Best is trial 496 with value: 3511896.0883319825.\u001b[0m\n"
     ]
    },
    {
     "name": "stdout",
     "output_type": "stream",
     "text": [
      "Early stopping, best iteration is:\n",
      "[138]\ttraining's l1: 593777\tvalid_1's l1: 3.81097e+06\n",
      "Training until validation scores don't improve for 5 rounds\n"
     ]
    },
    {
     "name": "stderr",
     "output_type": "stream",
     "text": [
      "\u001b[32m[I 2021-01-03 18:20:31,571]\u001b[0m Trial 890 finished with value: 3690368.111321334 and parameters: {'nleaves': 72, 'bagfrac': 0.9153226188286636, 'bagfreq': 2, 'featfrac': 0.8940073726320424, 'lambda_l1': 0.0021355349506035604, 'lambda_l2': 5.640048358580955, 'minchild': 1}. Best is trial 496 with value: 3511896.0883319825.\u001b[0m\n"
     ]
    },
    {
     "name": "stdout",
     "output_type": "stream",
     "text": [
      "Early stopping, best iteration is:\n",
      "[209]\ttraining's l1: 265251\tvalid_1's l1: 3.69037e+06\n",
      "Training until validation scores don't improve for 5 rounds\n"
     ]
    },
    {
     "name": "stderr",
     "output_type": "stream",
     "text": [
      "\u001b[32m[I 2021-01-03 18:20:33,383]\u001b[0m Trial 891 finished with value: 3642805.3436847944 and parameters: {'nleaves': 60, 'bagfrac': 0.9285918456579002, 'bagfreq': 2, 'featfrac': 0.749781920188533, 'lambda_l1': 0.00018537282218491013, 'lambda_l2': 7.500454515759477, 'minchild': 8}. Best is trial 496 with value: 3511896.0883319825.\u001b[0m\n"
     ]
    },
    {
     "name": "stdout",
     "output_type": "stream",
     "text": [
      "Early stopping, best iteration is:\n",
      "[257]\ttraining's l1: 307652\tvalid_1's l1: 3.64281e+06\n",
      "Training until validation scores don't improve for 5 rounds\n"
     ]
    },
    {
     "name": "stderr",
     "output_type": "stream",
     "text": [
      "\u001b[32m[I 2021-01-03 18:20:35,063]\u001b[0m Trial 892 finished with value: 3747637.862911494 and parameters: {'nleaves': 51, 'bagfrac': 0.9383872929601695, 'bagfreq': 1, 'featfrac': 0.8731808976911442, 'lambda_l1': 9.167114007779634e-06, 'lambda_l2': 1.9038261498239755, 'minchild': 3}. Best is trial 496 with value: 3511896.0883319825.\u001b[0m\n"
     ]
    },
    {
     "name": "stdout",
     "output_type": "stream",
     "text": [
      "Early stopping, best iteration is:\n",
      "[189]\ttraining's l1: 536364\tvalid_1's l1: 3.74764e+06\n",
      "Training until validation scores don't improve for 5 rounds\n"
     ]
    },
    {
     "name": "stderr",
     "output_type": "stream",
     "text": [
      "\u001b[32m[I 2021-01-03 18:20:36,200]\u001b[0m Trial 893 finished with value: 3707872.5378102786 and parameters: {'nleaves': 40, 'bagfrac': 0.9197218631693853, 'bagfreq': 2, 'featfrac': 0.8879856698059583, 'lambda_l1': 0.00011635682994776474, 'lambda_l2': 9.955266233690905, 'minchild': 31}. Best is trial 496 with value: 3511896.0883319825.\u001b[0m\n"
     ]
    },
    {
     "name": "stdout",
     "output_type": "stream",
     "text": [
      "Early stopping, best iteration is:\n",
      "[233]\ttraining's l1: 808827\tvalid_1's l1: 3.70787e+06\n",
      "Training until validation scores don't improve for 5 rounds\n"
     ]
    },
    {
     "name": "stderr",
     "output_type": "stream",
     "text": [
      "\u001b[32m[I 2021-01-03 18:20:37,866]\u001b[0m Trial 894 finished with value: 3778755.862925199 and parameters: {'nleaves': 64, 'bagfrac': 0.9032405044592562, 'bagfreq': 2, 'featfrac': 0.8077236816345345, 'lambda_l1': 6.327976965150945e-05, 'lambda_l2': 2.789419878603363, 'minchild': 4}. Best is trial 496 with value: 3511896.0883319825.\u001b[0m\n"
     ]
    },
    {
     "name": "stdout",
     "output_type": "stream",
     "text": [
      "Early stopping, best iteration is:\n",
      "[184]\ttraining's l1: 395560\tvalid_1's l1: 3.77876e+06\n",
      "Training until validation scores don't improve for 5 rounds\n"
     ]
    },
    {
     "name": "stderr",
     "output_type": "stream",
     "text": [
      "\u001b[32m[I 2021-01-03 18:20:39,510]\u001b[0m Trial 895 finished with value: 3728125.2379772915 and parameters: {'nleaves': 57, 'bagfrac': 0.8132415448323389, 'bagfreq': 2, 'featfrac': 0.8680285650252332, 'lambda_l1': 0.002987999962963175, 'lambda_l2': 5.714000467948718, 'minchild': 1}. Best is trial 496 with value: 3511896.0883319825.\u001b[0m\n"
     ]
    },
    {
     "name": "stdout",
     "output_type": "stream",
     "text": [
      "Early stopping, best iteration is:\n",
      "[160]\ttraining's l1: 668430\tvalid_1's l1: 3.72813e+06\n",
      "Training until validation scores don't improve for 5 rounds\n"
     ]
    },
    {
     "name": "stderr",
     "output_type": "stream",
     "text": [
      "\u001b[32m[I 2021-01-03 18:20:41,188]\u001b[0m Trial 896 finished with value: 3874740.2724999757 and parameters: {'nleaves': 115, 'bagfrac': 0.9101421167799427, 'bagfreq': 1, 'featfrac': 0.8506709421758613, 'lambda_l1': 0.00014853690038958809, 'lambda_l2': 4.138769152491456, 'minchild': 6}. Best is trial 496 with value: 3511896.0883319825.\u001b[0m\n"
     ]
    },
    {
     "name": "stdout",
     "output_type": "stream",
     "text": [
      "Early stopping, best iteration is:\n",
      "[105]\ttraining's l1: 402905\tvalid_1's l1: 3.87474e+06\n",
      "Training until validation scores don't improve for 5 rounds\n"
     ]
    },
    {
     "name": "stderr",
     "output_type": "stream",
     "text": [
      "\u001b[32m[I 2021-01-03 18:20:43,211]\u001b[0m Trial 897 finished with value: 3573754.293951918 and parameters: {'nleaves': 48, 'bagfrac': 0.9324906014859502, 'bagfreq': 2, 'featfrac': 0.8794086664814591, 'lambda_l1': 3.56374515635394e-05, 'lambda_l2': 7.008561909473664, 'minchild': 10}. Best is trial 496 with value: 3511896.0883319825.\u001b[0m\n"
     ]
    },
    {
     "name": "stdout",
     "output_type": "stream",
     "text": [
      "Early stopping, best iteration is:\n",
      "[360]\ttraining's l1: 240557\tvalid_1's l1: 3.57375e+06\n",
      "Training until validation scores don't improve for 5 rounds\n"
     ]
    },
    {
     "name": "stderr",
     "output_type": "stream",
     "text": [
      "\u001b[32m[I 2021-01-03 18:20:44,584]\u001b[0m Trial 898 finished with value: 3761548.4178452143 and parameters: {'nleaves': 37, 'bagfrac': 0.9383953395798224, 'bagfreq': 2, 'featfrac': 0.9019071852454087, 'lambda_l1': 5.175318182082408e-05, 'lambda_l2': 3.255605844316611, 'minchild': 12}. Best is trial 496 with value: 3511896.0883319825.\u001b[0m\n"
     ]
    },
    {
     "name": "stdout",
     "output_type": "stream",
     "text": [
      "Early stopping, best iteration is:\n",
      "[256]\ttraining's l1: 646604\tvalid_1's l1: 3.76155e+06\n",
      "Training until validation scores don't improve for 5 rounds\n"
     ]
    },
    {
     "name": "stderr",
     "output_type": "stream",
     "text": [
      "\u001b[32m[I 2021-01-03 18:20:46,098]\u001b[0m Trial 899 finished with value: 3646602.0791845666 and parameters: {'nleaves': 47, 'bagfrac': 0.9332346152323321, 'bagfreq': 2, 'featfrac': 0.8842988050984352, 'lambda_l1': 4.979433801779499e-05, 'lambda_l2': 4.8850653591730735, 'minchild': 11}. Best is trial 496 with value: 3511896.0883319825.\u001b[0m\n"
     ]
    },
    {
     "name": "stdout",
     "output_type": "stream",
     "text": [
      "Early stopping, best iteration is:\n",
      "[253]\ttraining's l1: 437360\tvalid_1's l1: 3.6466e+06\n",
      "Training until validation scores don't improve for 5 rounds\n"
     ]
    },
    {
     "name": "stderr",
     "output_type": "stream",
     "text": [
      "\u001b[32m[I 2021-01-03 18:20:47,447]\u001b[0m Trial 900 finished with value: 3745119.6733058603 and parameters: {'nleaves': 43, 'bagfrac': 0.7827502892662515, 'bagfreq': 2, 'featfrac': 0.8778106447262141, 'lambda_l1': 1.967756365768206e-05, 'lambda_l2': 9.98758075382916, 'minchild': 11}. Best is trial 496 with value: 3511896.0883319825.\u001b[0m\n"
     ]
    },
    {
     "name": "stdout",
     "output_type": "stream",
     "text": [
      "Early stopping, best iteration is:\n",
      "[210]\ttraining's l1: 800450\tvalid_1's l1: 3.74512e+06\n",
      "Training until validation scores don't improve for 5 rounds\n"
     ]
    },
    {
     "name": "stderr",
     "output_type": "stream",
     "text": [
      "\u001b[32m[I 2021-01-03 18:20:48,850]\u001b[0m Trial 901 finished with value: 3707098.2717144215 and parameters: {'nleaves': 74, 'bagfrac': 0.9466965701290283, 'bagfreq': 1, 'featfrac': 0.8822620991190743, 'lambda_l1': 3.754184243308428e-05, 'lambda_l2': 5.942288088442262, 'minchild': 9}. Best is trial 496 with value: 3511896.0883319825.\u001b[0m\n"
     ]
    },
    {
     "name": "stdout",
     "output_type": "stream",
     "text": [
      "Early stopping, best iteration is:\n",
      "[145]\ttraining's l1: 512219\tvalid_1's l1: 3.7071e+06\n",
      "Training until validation scores don't improve for 5 rounds\n"
     ]
    },
    {
     "name": "stderr",
     "output_type": "stream",
     "text": [
      "\u001b[32m[I 2021-01-03 18:20:50,476]\u001b[0m Trial 902 finished with value: 3836503.6198416864 and parameters: {'nleaves': 67, 'bagfrac': 0.941665059392682, 'bagfreq': 2, 'featfrac': 0.88963288461894, 'lambda_l1': 6.910621156141956e-05, 'lambda_l2': 2.5029494572272664, 'minchild': 10}. Best is trial 496 with value: 3511896.0883319825.\u001b[0m\n"
     ]
    },
    {
     "name": "stdout",
     "output_type": "stream",
     "text": [
      "Early stopping, best iteration is:\n",
      "[197]\ttraining's l1: 312488\tvalid_1's l1: 3.8365e+06\n",
      "Training until validation scores don't improve for 5 rounds\n"
     ]
    },
    {
     "name": "stderr",
     "output_type": "stream",
     "text": [
      "\u001b[32m[I 2021-01-03 18:20:51,285]\u001b[0m Trial 903 finished with value: 3806235.5306542 and parameters: {'nleaves': 84, 'bagfrac': 0.9342884777500032, 'bagfreq': 2, 'featfrac': 0.880004618940395, 'lambda_l1': 2.8170885836668683e-05, 'lambda_l2': 4.12450448590166, 'minchild': 47}. Best is trial 496 with value: 3511896.0883319825.\u001b[0m\n"
     ]
    },
    {
     "name": "stdout",
     "output_type": "stream",
     "text": [
      "Early stopping, best iteration is:\n",
      "[140]\ttraining's l1: 1.16424e+06\tvalid_1's l1: 3.80624e+06\n",
      "Training until validation scores don't improve for 5 rounds\n"
     ]
    },
    {
     "name": "stderr",
     "output_type": "stream",
     "text": [
      "\u001b[32m[I 2021-01-03 18:20:52,682]\u001b[0m Trial 904 finished with value: 3623857.3458059533 and parameters: {'nleaves': 44, 'bagfrac': 0.929824676185784, 'bagfreq': 2, 'featfrac': 0.8938436589766758, 'lambda_l1': 3.157647238252172e-05, 'lambda_l2': 7.496881801953261, 'minchild': 13}. Best is trial 496 with value: 3511896.0883319825.\u001b[0m\n"
     ]
    },
    {
     "name": "stdout",
     "output_type": "stream",
     "text": [
      "Early stopping, best iteration is:\n",
      "[225]\ttraining's l1: 649826\tvalid_1's l1: 3.62386e+06\n",
      "Training until validation scores don't improve for 5 rounds\n"
     ]
    },
    {
     "name": "stderr",
     "output_type": "stream",
     "text": [
      "\u001b[32m[I 2021-01-03 18:20:53,658]\u001b[0m Trial 905 finished with value: 3730320.098074643 and parameters: {'nleaves': 60, 'bagfrac': 0.9386742604633862, 'bagfreq': 1, 'featfrac': 0.8763685105728808, 'lambda_l1': 1.9770246927405222e-05, 'lambda_l2': 5.518805859977725, 'minchild': 74}. Best is trial 496 with value: 3511896.0883319825.\u001b[0m\n"
     ]
    },
    {
     "name": "stdout",
     "output_type": "stream",
     "text": [
      "Early stopping, best iteration is:\n",
      "[286]\ttraining's l1: 927239\tvalid_1's l1: 3.73032e+06\n",
      "Training until validation scores don't improve for 5 rounds\n"
     ]
    },
    {
     "name": "stderr",
     "output_type": "stream",
     "text": [
      "\u001b[32m[I 2021-01-03 18:20:55,355]\u001b[0m Trial 906 finished with value: 3641210.5192260547 and parameters: {'nleaves': 49, 'bagfrac': 0.9519604437854536, 'bagfreq': 2, 'featfrac': 0.8714710662143967, 'lambda_l1': 3.8882203348961176e-05, 'lambda_l2': 7.387710265628347, 'minchild': 8}. Best is trial 496 with value: 3511896.0883319825.\u001b[0m\n"
     ]
    },
    {
     "name": "stdout",
     "output_type": "stream",
     "text": [
      "Early stopping, best iteration is:\n",
      "[261]\ttraining's l1: 433600\tvalid_1's l1: 3.64121e+06\n",
      "Training until validation scores don't improve for 5 rounds\n"
     ]
    },
    {
     "name": "stderr",
     "output_type": "stream",
     "text": [
      "\u001b[32m[I 2021-01-03 18:20:57,275]\u001b[0m Trial 907 finished with value: 3712465.1626943117 and parameters: {'nleaves': 69, 'bagfrac': 0.9262836913212045, 'bagfreq': 2, 'featfrac': 0.8810604758512579, 'lambda_l1': 2.5568937947509137e-05, 'lambda_l2': 0.051802434506032335, 'minchild': 9}. Best is trial 496 with value: 3511896.0883319825.\u001b[0m\n"
     ]
    },
    {
     "name": "stdout",
     "output_type": "stream",
     "text": [
      "Early stopping, best iteration is:\n",
      "[170]\ttraining's l1: 346230\tvalid_1's l1: 3.71247e+06\n",
      "Training until validation scores don't improve for 5 rounds\n"
     ]
    },
    {
     "name": "stderr",
     "output_type": "stream",
     "text": [
      "\u001b[32m[I 2021-01-03 18:20:58,842]\u001b[0m Trial 908 finished with value: 3758938.1822303995 and parameters: {'nleaves': 63, 'bagfrac': 0.9347255762370319, 'bagfreq': 2, 'featfrac': 0.8866199406317047, 'lambda_l1': 4.946042851026211e-05, 'lambda_l2': 0.9675630538007666, 'minchild': 11}. Best is trial 496 with value: 3511896.0883319825.\u001b[0m\n"
     ]
    },
    {
     "name": "stdout",
     "output_type": "stream",
     "text": [
      "Early stopping, best iteration is:\n",
      "[209]\ttraining's l1: 295596\tvalid_1's l1: 3.75894e+06\n",
      "Training until validation scores don't improve for 5 rounds\n"
     ]
    },
    {
     "name": "stderr",
     "output_type": "stream",
     "text": [
      "\u001b[32m[I 2021-01-03 18:20:59,840]\u001b[0m Trial 909 finished with value: 3792638.9761199784 and parameters: {'nleaves': 32, 'bagfrac': 0.8339249764030848, 'bagfreq': 2, 'featfrac': 0.8629366688716346, 'lambda_l1': 3.9822315046420666e-05, 'lambda_l2': 0.11922124076217641, 'minchild': 9}. Best is trial 496 with value: 3511896.0883319825.\u001b[0m\n"
     ]
    },
    {
     "name": "stdout",
     "output_type": "stream",
     "text": [
      "Early stopping, best iteration is:\n",
      "[227]\ttraining's l1: 848153\tvalid_1's l1: 3.79264e+06\n",
      "Training until validation scores don't improve for 5 rounds\n"
     ]
    },
    {
     "name": "stderr",
     "output_type": "stream",
     "text": [
      "\u001b[32m[I 2021-01-03 18:21:01,539]\u001b[0m Trial 910 finished with value: 3773706.9165303833 and parameters: {'nleaves': 54, 'bagfrac': 0.8985268768037246, 'bagfreq': 1, 'featfrac': 0.8709348939735619, 'lambda_l1': 8.154237238221449e-05, 'lambda_l2': 3.649496851030401, 'minchild': 13}. Best is trial 496 with value: 3511896.0883319825.\u001b[0m\n"
     ]
    },
    {
     "name": "stdout",
     "output_type": "stream",
     "text": [
      "Early stopping, best iteration is:\n",
      "[236]\ttraining's l1: 376519\tvalid_1's l1: 3.77371e+06\n",
      "Training until validation scores don't improve for 5 rounds\n"
     ]
    },
    {
     "name": "stderr",
     "output_type": "stream",
     "text": [
      "\u001b[32m[I 2021-01-03 18:21:04,679]\u001b[0m Trial 911 finished with value: 3718548.519071323 and parameters: {'nleaves': 77, 'bagfrac': 0.9441789105034031, 'bagfreq': 2, 'featfrac': 0.8745866068950724, 'lambda_l1': 6.0523045798410294e-05, 'lambda_l2': 4.940434936796299, 'minchild': 7}. Best is trial 496 with value: 3511896.0883319825.\u001b[0m\n"
     ]
    },
    {
     "name": "stdout",
     "output_type": "stream",
     "text": [
      "Early stopping, best iteration is:\n",
      "[235]\ttraining's l1: 171306\tvalid_1's l1: 3.71855e+06\n",
      "Training until validation scores don't improve for 5 rounds\n"
     ]
    },
    {
     "name": "stderr",
     "output_type": "stream",
     "text": [
      "\u001b[32m[I 2021-01-03 18:21:05,797]\u001b[0m Trial 912 finished with value: 3714752.283817303 and parameters: {'nleaves': 39, 'bagfrac': 0.9246888940963978, 'bagfreq': 2, 'featfrac': 0.8659487833254267, 'lambda_l1': 5.6295231270281475e-06, 'lambda_l2': 7.444238803319773, 'minchild': 11}. Best is trial 496 with value: 3511896.0883319825.\u001b[0m\n"
     ]
    },
    {
     "name": "stdout",
     "output_type": "stream",
     "text": [
      "Early stopping, best iteration is:\n",
      "[201]\ttraining's l1: 894915\tvalid_1's l1: 3.71475e+06\n",
      "Training until validation scores don't improve for 5 rounds\n"
     ]
    },
    {
     "name": "stderr",
     "output_type": "stream",
     "text": [
      "\u001b[32m[I 2021-01-03 18:21:07,059]\u001b[0m Trial 913 finished with value: 3806425.890884127 and parameters: {'nleaves': 48, 'bagfrac': 0.7973430652868206, 'bagfreq': 1, 'featfrac': 0.8585673427658747, 'lambda_l1': 0.00010595277429191912, 'lambda_l2': 9.983113769520632, 'minchild': 14}. Best is trial 496 with value: 3511896.0883319825.\u001b[0m\n"
     ]
    },
    {
     "name": "stdout",
     "output_type": "stream",
     "text": [
      "Early stopping, best iteration is:\n",
      "[200]\ttraining's l1: 736988\tvalid_1's l1: 3.80643e+06\n",
      "Training until validation scores don't improve for 5 rounds\n"
     ]
    },
    {
     "name": "stderr",
     "output_type": "stream",
     "text": [
      "\u001b[32m[I 2021-01-03 18:21:08,816]\u001b[0m Trial 914 finished with value: 3581311.546904336 and parameters: {'nleaves': 66, 'bagfrac': 0.9163371854089843, 'bagfreq': 2, 'featfrac': 0.8832206965653225, 'lambda_l1': 3.569516559100698e-05, 'lambda_l2': 6.145521127054988, 'minchild': 8}. Best is trial 496 with value: 3511896.0883319825.\u001b[0m\n"
     ]
    },
    {
     "name": "stdout",
     "output_type": "stream",
     "text": [
      "Early stopping, best iteration is:\n",
      "[203]\ttraining's l1: 366887\tvalid_1's l1: 3.58131e+06\n",
      "Training until validation scores don't improve for 5 rounds\n"
     ]
    },
    {
     "name": "stderr",
     "output_type": "stream",
     "text": [
      "\u001b[32m[I 2021-01-03 18:21:10,118]\u001b[0m Trial 915 finished with value: 3701605.073653884 and parameters: {'nleaves': 72, 'bagfrac': 0.9309561824016658, 'bagfreq': 2, 'featfrac': 0.8750653822642732, 'lambda_l1': 1.5232958827511067e-05, 'lambda_l2': 2.677088182185322, 'minchild': 10}. Best is trial 496 with value: 3511896.0883319825.\u001b[0m\n"
     ]
    },
    {
     "name": "stdout",
     "output_type": "stream",
     "text": [
      "Early stopping, best iteration is:\n",
      "[142]\ttraining's l1: 504046\tvalid_1's l1: 3.70161e+06\n",
      "Training until validation scores don't improve for 5 rounds\n"
     ]
    },
    {
     "name": "stderr",
     "output_type": "stream",
     "text": [
      "\u001b[32m[I 2021-01-03 18:21:11,487]\u001b[0m Trial 916 finished with value: 3663167.1438040235 and parameters: {'nleaves': 60, 'bagfrac': 0.9210751127081118, 'bagfreq': 2, 'featfrac': 0.8666458025179555, 'lambda_l1': 8.301707254326542e-05, 'lambda_l2': 4.11029214239648, 'minchild': 7}. Best is trial 496 with value: 3511896.0883319825.\u001b[0m\n"
     ]
    },
    {
     "name": "stdout",
     "output_type": "stream",
     "text": [
      "Early stopping, best iteration is:\n",
      "[151]\ttraining's l1: 626120\tvalid_1's l1: 3.66317e+06\n",
      "Training until validation scores don't improve for 5 rounds\n"
     ]
    },
    {
     "name": "stderr",
     "output_type": "stream",
     "text": [
      "\u001b[32m[I 2021-01-03 18:21:13,825]\u001b[0m Trial 917 finished with value: 3747932.034105594 and parameters: {'nleaves': 55, 'bagfrac': 0.9106125352881764, 'bagfreq': 3, 'featfrac': 0.8460827315390281, 'lambda_l1': 0.05414388381282646, 'lambda_l2': 7.200875369062291, 'minchild': 6}. Best is trial 496 with value: 3511896.0883319825.\u001b[0m\n"
     ]
    },
    {
     "name": "stdout",
     "output_type": "stream",
     "text": [
      "Early stopping, best iteration is:\n",
      "[301]\ttraining's l1: 253049\tvalid_1's l1: 3.74793e+06\n",
      "Training until validation scores don't improve for 5 rounds\n"
     ]
    },
    {
     "name": "stderr",
     "output_type": "stream",
     "text": [
      "\u001b[32m[I 2021-01-03 18:21:15,392]\u001b[0m Trial 918 finished with value: 3685932.784595479 and parameters: {'nleaves': 43, 'bagfrac': 0.9267720672950195, 'bagfreq': 1, 'featfrac': 0.8539724984203017, 'lambda_l1': 6.229870184823873e-05, 'lambda_l2': 9.996189253427838, 'minchild': 12}. Best is trial 496 with value: 3511896.0883319825.\u001b[0m\n"
     ]
    },
    {
     "name": "stdout",
     "output_type": "stream",
     "text": [
      "Early stopping, best iteration is:\n",
      "[286]\ttraining's l1: 494370\tvalid_1's l1: 3.68593e+06\n",
      "Training until validation scores don't improve for 5 rounds\n"
     ]
    },
    {
     "name": "stderr",
     "output_type": "stream",
     "text": [
      "\u001b[32m[I 2021-01-03 18:21:16,946]\u001b[0m Trial 919 finished with value: 3586966.6415695 and parameters: {'nleaves': 36, 'bagfrac': 0.9036905319705896, 'bagfreq': 2, 'featfrac': 0.8631205643665153, 'lambda_l1': 9.958625149679715e-05, 'lambda_l2': 5.304939982389547, 'minchild': 9}. Best is trial 496 with value: 3511896.0883319825.\u001b[0m\n"
     ]
    },
    {
     "name": "stdout",
     "output_type": "stream",
     "text": [
      "Early stopping, best iteration is:\n",
      "[324]\ttraining's l1: 503710\tvalid_1's l1: 3.58697e+06\n",
      "Training until validation scores don't improve for 5 rounds\n"
     ]
    },
    {
     "name": "stderr",
     "output_type": "stream",
     "text": [
      "\u001b[32m[I 2021-01-03 18:21:19,158]\u001b[0m Trial 920 finished with value: 3674710.766206994 and parameters: {'nleaves': 63, 'bagfrac': 0.935469040976406, 'bagfreq': 2, 'featfrac': 0.8786409571161258, 'lambda_l1': 0.16225162642577337, 'lambda_l2': 7.605672184446344, 'minchild': 5}. Best is trial 496 with value: 3511896.0883319825.\u001b[0m\n"
     ]
    },
    {
     "name": "stdout",
     "output_type": "stream",
     "text": [
      "Early stopping, best iteration is:\n",
      "[266]\ttraining's l1: 244935\tvalid_1's l1: 3.67471e+06\n",
      "Training until validation scores don't improve for 5 rounds\n",
      "Early stopping, best iteration is:\n",
      "[146]\ttraining's l1: 50867.2\tvalid_1's l1: 3.76556e+06\n"
     ]
    },
    {
     "name": "stderr",
     "output_type": "stream",
     "text": [
      "\u001b[32m[I 2021-01-03 18:21:22,173]\u001b[0m Trial 921 finished with value: 3765557.822069017 and parameters: {'nleaves': 255, 'bagfrac': 0.91491496244032, 'bagfreq': 2, 'featfrac': 0.8702836084055227, 'lambda_l1': 0.44235529180015093, 'lambda_l2': 3.811810439258211, 'minchild': 7}. Best is trial 496 with value: 3511896.0883319825.\u001b[0m\n"
     ]
    },
    {
     "name": "stdout",
     "output_type": "stream",
     "text": [
      "Training until validation scores don't improve for 5 rounds\n"
     ]
    },
    {
     "name": "stderr",
     "output_type": "stream",
     "text": [
      "\u001b[32m[I 2021-01-03 18:21:23,671]\u001b[0m Trial 922 finished with value: 3724266.593490307 and parameters: {'nleaves': 51, 'bagfrac': 0.9217349224270821, 'bagfreq': 2, 'featfrac': 0.8894253439379084, 'lambda_l1': 4.529241425770018e-05, 'lambda_l2': 5.736314707347617, 'minchild': 14}. Best is trial 496 with value: 3511896.0883319825.\u001b[0m\n"
     ]
    },
    {
     "name": "stdout",
     "output_type": "stream",
     "text": [
      "Early stopping, best iteration is:\n",
      "[233]\ttraining's l1: 459790\tvalid_1's l1: 3.72427e+06\n",
      "Training until validation scores don't improve for 5 rounds\n"
     ]
    },
    {
     "name": "stderr",
     "output_type": "stream",
     "text": [
      "\u001b[32m[I 2021-01-03 18:21:24,826]\u001b[0m Trial 923 finished with value: 3567756.172609594 and parameters: {'nleaves': 81, 'bagfrac': 0.9312480662878234, 'bagfreq': 2, 'featfrac': 0.8581615467634627, 'lambda_l1': 2.670060152487507e-05, 'lambda_l2': 2.1397608966123944, 'minchild': 59}. Best is trial 496 with value: 3511896.0883319825.\u001b[0m\n"
     ]
    },
    {
     "name": "stdout",
     "output_type": "stream",
     "text": [
      "Early stopping, best iteration is:\n",
      "[264]\ttraining's l1: 742123\tvalid_1's l1: 3.56776e+06\n",
      "Training until validation scores don't improve for 5 rounds\n"
     ]
    },
    {
     "name": "stderr",
     "output_type": "stream",
     "text": [
      "\u001b[32m[I 2021-01-03 18:21:26,663]\u001b[0m Trial 924 finished with value: 3769216.966861279 and parameters: {'nleaves': 91, 'bagfrac': 0.9088078691743521, 'bagfreq': 1, 'featfrac': 0.8570120156639728, 'lambda_l1': 3.2060858909666556e-05, 'lambda_l2': 1.2365023621986884, 'minchild': 4}. Best is trial 496 with value: 3511896.0883319825.\u001b[0m\n"
     ]
    },
    {
     "name": "stdout",
     "output_type": "stream",
     "text": [
      "Early stopping, best iteration is:\n",
      "[150]\ttraining's l1: 253863\tvalid_1's l1: 3.76922e+06\n",
      "Training until validation scores don't improve for 5 rounds\n"
     ]
    },
    {
     "name": "stderr",
     "output_type": "stream",
     "text": [
      "\u001b[32m[I 2021-01-03 18:21:27,256]\u001b[0m Trial 925 finished with value: 3936864.3967085895 and parameters: {'nleaves': 76, 'bagfrac': 0.9281232490489502, 'bagfreq': 8, 'featfrac': 0.8533964862321247, 'lambda_l1': 1.8966482226477887e-05, 'lambda_l2': 3.502744626279507, 'minchild': 61}. Best is trial 496 with value: 3511896.0883319825.\u001b[0m\n"
     ]
    },
    {
     "name": "stdout",
     "output_type": "stream",
     "text": [
      "Early stopping, best iteration is:\n",
      "[107]\ttraining's l1: 1.85675e+06\tvalid_1's l1: 3.93686e+06\n",
      "Training until validation scores don't improve for 5 rounds\n"
     ]
    },
    {
     "name": "stderr",
     "output_type": "stream",
     "text": [
      "\u001b[32m[I 2021-01-03 18:21:28,463]\u001b[0m Trial 926 finished with value: 3716479.212924986 and parameters: {'nleaves': 83, 'bagfrac': 0.9198147430535064, 'bagfreq': 2, 'featfrac': 0.8622463710558799, 'lambda_l1': 2.847902187474387e-05, 'lambda_l2': 1.5678034436098787, 'minchild': 48}. Best is trial 496 with value: 3511896.0883319825.\u001b[0m\n"
     ]
    },
    {
     "name": "stdout",
     "output_type": "stream",
     "text": [
      "Early stopping, best iteration is:\n",
      "[194]\ttraining's l1: 810697\tvalid_1's l1: 3.71648e+06\n",
      "Training until validation scores don't improve for 5 rounds\n"
     ]
    },
    {
     "name": "stderr",
     "output_type": "stream",
     "text": [
      "\u001b[32m[I 2021-01-03 18:21:29,173]\u001b[0m Trial 927 finished with value: 3930769.7190654036 and parameters: {'nleaves': 81, 'bagfrac': 0.9143401735912909, 'bagfreq': 2, 'featfrac': 0.8461023519734487, 'lambda_l1': 2.6938171468303866e-05, 'lambda_l2': 1.361085372297138, 'minchild': 59}. Best is trial 496 with value: 3511896.0883319825.\u001b[0m\n"
     ]
    },
    {
     "name": "stdout",
     "output_type": "stream",
     "text": [
      "Early stopping, best iteration is:\n",
      "[139]\ttraining's l1: 1.49791e+06\tvalid_1's l1: 3.93077e+06\n",
      "Training until validation scores don't improve for 5 rounds\n"
     ]
    },
    {
     "name": "stderr",
     "output_type": "stream",
     "text": [
      "\u001b[32m[I 2021-01-03 18:21:30,134]\u001b[0m Trial 928 finished with value: 3696858.762607954 and parameters: {'nleaves': 86, 'bagfrac': 0.8956614549355526, 'bagfreq': 1, 'featfrac': 0.8505427058424053, 'lambda_l1': 1.8924032973450793e-05, 'lambda_l2': 2.6133965430862527, 'minchild': 57}. Best is trial 496 with value: 3511896.0883319825.\u001b[0m\n"
     ]
    },
    {
     "name": "stdout",
     "output_type": "stream",
     "text": [
      "Early stopping, best iteration is:\n",
      "[224]\ttraining's l1: 899039\tvalid_1's l1: 3.69686e+06\n",
      "Training until validation scores don't improve for 5 rounds\n"
     ]
    },
    {
     "name": "stderr",
     "output_type": "stream",
     "text": [
      "\u001b[32m[I 2021-01-03 18:21:32,205]\u001b[0m Trial 929 finished with value: 3701238.044901242 and parameters: {'nleaves': 80, 'bagfrac': 0.9398546311707239, 'bagfreq': 2, 'featfrac': 0.8594827169207788, 'lambda_l1': 2.6608608471163297e-05, 'lambda_l2': 1.9934402782009293, 'minchild': 5}. Best is trial 496 with value: 3511896.0883319825.\u001b[0m\n"
     ]
    },
    {
     "name": "stdout",
     "output_type": "stream",
     "text": [
      "Early stopping, best iteration is:\n",
      "[206]\ttraining's l1: 185620\tvalid_1's l1: 3.70124e+06\n",
      "Training until validation scores don't improve for 5 rounds\n"
     ]
    },
    {
     "name": "stderr",
     "output_type": "stream",
     "text": [
      "\u001b[32m[I 2021-01-03 18:21:32,984]\u001b[0m Trial 930 finished with value: 3707628.0345848775 and parameters: {'nleaves': 76, 'bagfrac': 0.9236169321725168, 'bagfreq': 2, 'featfrac': 0.8677459809762678, 'lambda_l1': 1.256460100473933e-05, 'lambda_l2': 1.873651692207139, 'minchild': 57}. Best is trial 496 with value: 3511896.0883319825.\u001b[0m\n"
     ]
    },
    {
     "name": "stdout",
     "output_type": "stream",
     "text": [
      "Early stopping, best iteration is:\n",
      "[155]\ttraining's l1: 1.27369e+06\tvalid_1's l1: 3.70763e+06\n",
      "Training until validation scores don't improve for 5 rounds\n"
     ]
    },
    {
     "name": "stderr",
     "output_type": "stream",
     "text": [
      "\u001b[32m[I 2021-01-03 18:21:33,863]\u001b[0m Trial 931 finished with value: 3780142.5067020627 and parameters: {'nleaves': 79, 'bagfrac': 0.9305181931197346, 'bagfreq': 3, 'featfrac': 0.8584133072089067, 'lambda_l1': 1.493539626975833e-05, 'lambda_l2': 2.044865553656721, 'minchild': 68}. Best is trial 496 with value: 3511896.0883319825.\u001b[0m\n"
     ]
    },
    {
     "name": "stdout",
     "output_type": "stream",
     "text": [
      "Early stopping, best iteration is:\n",
      "[227]\ttraining's l1: 1.06656e+06\tvalid_1's l1: 3.78014e+06\n",
      "Training until validation scores don't improve for 5 rounds\n"
     ]
    },
    {
     "name": "stderr",
     "output_type": "stream",
     "text": [
      "\u001b[32m[I 2021-01-03 18:21:34,704]\u001b[0m Trial 932 finished with value: 3682389.4143943926 and parameters: {'nleaves': 73, 'bagfrac': 0.9064507054438168, 'bagfreq': 2, 'featfrac': 0.8635514376863773, 'lambda_l1': 3.803754027774469e-05, 'lambda_l2': 2.4978242830770045, 'minchild': 58}. Best is trial 496 with value: 3511896.0883319825.\u001b[0m\n"
     ]
    },
    {
     "name": "stdout",
     "output_type": "stream",
     "text": [
      "Early stopping, best iteration is:\n",
      "[182]\ttraining's l1: 1.127e+06\tvalid_1's l1: 3.68239e+06\n",
      "Training until validation scores don't improve for 5 rounds\n"
     ]
    },
    {
     "name": "stderr",
     "output_type": "stream",
     "text": [
      "\u001b[32m[I 2021-01-03 18:21:35,705]\u001b[0m Trial 933 finished with value: 3792547.52003544 and parameters: {'nleaves': 71, 'bagfrac': 0.8692199262696564, 'bagfreq': 2, 'featfrac': 0.8520399841246641, 'lambda_l1': 3.418232914742459e-05, 'lambda_l2': 0.679845072994416, 'minchild': 52}. Best is trial 496 with value: 3511896.0883319825.\u001b[0m\n"
     ]
    },
    {
     "name": "stdout",
     "output_type": "stream",
     "text": [
      "Early stopping, best iteration is:\n",
      "[222]\ttraining's l1: 841343\tvalid_1's l1: 3.79255e+06\n",
      "Training until validation scores don't improve for 5 rounds\n"
     ]
    },
    {
     "name": "stderr",
     "output_type": "stream",
     "text": [
      "\u001b[32m[I 2021-01-03 18:21:37,903]\u001b[0m Trial 934 finished with value: 3836006.4026932004 and parameters: {'nleaves': 68, 'bagfrac': 0.9172509999837233, 'bagfreq': 1, 'featfrac': 0.8729808701169216, 'lambda_l1': 7.428559951355255e-06, 'lambda_l2': 1.524930036682098, 'minchild': 2}. Best is trial 496 with value: 3511896.0883319825.\u001b[0m\n"
     ]
    },
    {
     "name": "stdout",
     "output_type": "stream",
     "text": [
      "Early stopping, best iteration is:\n",
      "[221]\ttraining's l1: 221326\tvalid_1's l1: 3.83601e+06\n",
      "Training until validation scores don't improve for 5 rounds\n"
     ]
    },
    {
     "name": "stderr",
     "output_type": "stream",
     "text": [
      "\u001b[32m[I 2021-01-03 18:21:38,985]\u001b[0m Trial 935 finished with value: 3802374.9418696146 and parameters: {'nleaves': 73, 'bagfrac': 0.9256101801388189, 'bagfreq': 2, 'featfrac': 0.8467327847907512, 'lambda_l1': 4.3000873262459694e-05, 'lambda_l2': 2.510060921672696, 'minchild': 52}. Best is trial 496 with value: 3511896.0883319825.\u001b[0m\n"
     ]
    },
    {
     "name": "stdout",
     "output_type": "stream",
     "text": [
      "Early stopping, best iteration is:\n",
      "[193]\ttraining's l1: 933230\tvalid_1's l1: 3.80237e+06\n",
      "Training until validation scores don't improve for 5 rounds\n"
     ]
    },
    {
     "name": "stderr",
     "output_type": "stream",
     "text": [
      "\u001b[32m[I 2021-01-03 18:21:39,932]\u001b[0m Trial 936 finished with value: 3745235.7627414945 and parameters: {'nleaves': 78, 'bagfrac': 0.9123971927152295, 'bagfreq': 2, 'featfrac': 0.8627332417994534, 'lambda_l1': 2.7108103884437597e-05, 'lambda_l2': 2.677288187959541, 'minchild': 62}. Best is trial 496 with value: 3511896.0883319825.\u001b[0m\n"
     ]
    },
    {
     "name": "stdout",
     "output_type": "stream",
     "text": [
      "Early stopping, best iteration is:\n",
      "[236]\ttraining's l1: 939267\tvalid_1's l1: 3.74524e+06\n",
      "Training until validation scores don't improve for 5 rounds\n"
     ]
    },
    {
     "name": "stderr",
     "output_type": "stream",
     "text": [
      "\u001b[32m[I 2021-01-03 18:21:40,720]\u001b[0m Trial 937 finished with value: 3742106.673173825 and parameters: {'nleaves': 83, 'bagfrac': 0.9015940879153295, 'bagfreq': 2, 'featfrac': 0.8558193983070829, 'lambda_l1': 5.470743798070787e-05, 'lambda_l2': 3.25741072180445, 'minchild': 71}. Best is trial 496 with value: 3511896.0883319825.\u001b[0m\n"
     ]
    },
    {
     "name": "stdout",
     "output_type": "stream",
     "text": [
      "Early stopping, best iteration is:\n",
      "[204]\ttraining's l1: 1.31068e+06\tvalid_1's l1: 3.74211e+06\n",
      "Training until validation scores don't improve for 5 rounds\n"
     ]
    },
    {
     "name": "stderr",
     "output_type": "stream",
     "text": [
      "\u001b[32m[I 2021-01-03 18:21:41,636]\u001b[0m Trial 938 finished with value: 3733240.4086472495 and parameters: {'nleaves': 68, 'bagfrac': 0.9347125324903579, 'bagfreq': 3, 'featfrac': 0.868039090777455, 'lambda_l1': 1.0386220989578765e-05, 'lambda_l2': 3.57568283767557, 'minchild': 63}. Best is trial 496 with value: 3511896.0883319825.\u001b[0m\n"
     ]
    },
    {
     "name": "stdout",
     "output_type": "stream",
     "text": [
      "Early stopping, best iteration is:\n",
      "[222]\ttraining's l1: 996392\tvalid_1's l1: 3.73324e+06\n",
      "Training until validation scores don't improve for 5 rounds\n"
     ]
    },
    {
     "name": "stderr",
     "output_type": "stream",
     "text": [
      "\u001b[32m[I 2021-01-03 18:21:42,538]\u001b[0m Trial 939 finished with value: 3750768.5100392317 and parameters: {'nleaves': 71, 'bagfrac': 0.9451486993853087, 'bagfreq': 1, 'featfrac': 0.8776759252875551, 'lambda_l1': 2.1728196842970424e-05, 'lambda_l2': 2.072213674175287, 'minchild': 59}. Best is trial 496 with value: 3511896.0883319825.\u001b[0m\n"
     ]
    },
    {
     "name": "stdout",
     "output_type": "stream",
     "text": [
      "Early stopping, best iteration is:\n",
      "[192]\ttraining's l1: 1.02485e+06\tvalid_1's l1: 3.75077e+06\n",
      "Training until validation scores don't improve for 5 rounds\n"
     ]
    },
    {
     "name": "stderr",
     "output_type": "stream",
     "text": [
      "\u001b[32m[I 2021-01-03 18:21:44,400]\u001b[0m Trial 940 finished with value: 3731529.1753575085 and parameters: {'nleaves': 67, 'bagfrac': 0.9198381183266945, 'bagfreq': 2, 'featfrac': 0.8574227160866783, 'lambda_l1': 3.819362155864822e-05, 'lambda_l2': 4.292615775189425, 'minchild': 3}. Best is trial 496 with value: 3511896.0883319825.\u001b[0m\n"
     ]
    },
    {
     "name": "stdout",
     "output_type": "stream",
     "text": [
      "Early stopping, best iteration is:\n",
      "[165]\ttraining's l1: 464243\tvalid_1's l1: 3.73153e+06\n",
      "Training until validation scores don't improve for 5 rounds\n"
     ]
    },
    {
     "name": "stderr",
     "output_type": "stream",
     "text": [
      "\u001b[32m[I 2021-01-03 18:21:46,666]\u001b[0m Trial 941 finished with value: 3624884.6815812234 and parameters: {'nleaves': 105, 'bagfrac': 0.9282495733642577, 'bagfreq': 2, 'featfrac': 0.8434098765578375, 'lambda_l1': 5.809009492244368e-05, 'lambda_l2': 0.9124495104707054, 'minchild': 5}. Best is trial 496 with value: 3511896.0883319825.\u001b[0m\n"
     ]
    },
    {
     "name": "stdout",
     "output_type": "stream",
     "text": [
      "Early stopping, best iteration is:\n",
      "[187]\ttraining's l1: 98416.9\tvalid_1's l1: 3.62488e+06\n",
      "Training until validation scores don't improve for 5 rounds\n"
     ]
    },
    {
     "name": "stderr",
     "output_type": "stream",
     "text": [
      "\u001b[32m[I 2021-01-03 18:21:47,640]\u001b[0m Trial 942 finished with value: 3717233.0018936386 and parameters: {'nleaves': 63, 'bagfrac': 0.9113406631204565, 'bagfreq': 2, 'featfrac': 0.8678033540074535, 'lambda_l1': 5.778419141080628e-05, 'lambda_l2': 3.0331151661498232, 'minchild': 49}. Best is trial 496 with value: 3511896.0883319825.\u001b[0m\n"
     ]
    },
    {
     "name": "stdout",
     "output_type": "stream",
     "text": [
      "Early stopping, best iteration is:\n",
      "[187]\ttraining's l1: 907428\tvalid_1's l1: 3.71723e+06\n",
      "Training until validation scores don't improve for 5 rounds\n"
     ]
    },
    {
     "name": "stderr",
     "output_type": "stream",
     "text": [
      "\u001b[32m[I 2021-01-03 18:21:48,576]\u001b[0m Trial 943 finished with value: 3758179.3314498994 and parameters: {'nleaves': 88, 'bagfrac': 0.9207612369562508, 'bagfreq': 1, 'featfrac': 0.8511617184484829, 'lambda_l1': 1.0291772384267522e-06, 'lambda_l2': 4.2382033653475935, 'minchild': 63}. Best is trial 496 with value: 3511896.0883319825.\u001b[0m\n"
     ]
    },
    {
     "name": "stdout",
     "output_type": "stream",
     "text": [
      "Early stopping, best iteration is:\n",
      "[192]\ttraining's l1: 1.18668e+06\tvalid_1's l1: 3.75818e+06\n",
      "Training until validation scores don't improve for 5 rounds\n"
     ]
    },
    {
     "name": "stderr",
     "output_type": "stream",
     "text": [
      "\u001b[32m[I 2021-01-03 18:21:49,671]\u001b[0m Trial 944 finished with value: 3605561.2805967606 and parameters: {'nleaves': 75, 'bagfrac': 0.932525210390133, 'bagfreq': 2, 'featfrac': 0.8799092227434514, 'lambda_l1': 4.333572999803871e-05, 'lambda_l2': 1.7158614537313008, 'minchild': 53}. Best is trial 496 with value: 3511896.0883319825.\u001b[0m\n"
     ]
    },
    {
     "name": "stdout",
     "output_type": "stream",
     "text": [
      "Early stopping, best iteration is:\n",
      "[232]\ttraining's l1: 736217\tvalid_1's l1: 3.60556e+06\n",
      "Training until validation scores don't improve for 5 rounds\n"
     ]
    },
    {
     "name": "stderr",
     "output_type": "stream",
     "text": [
      "\u001b[32m[I 2021-01-03 18:21:50,921]\u001b[0m Trial 945 finished with value: 3764758.0727542304 and parameters: {'nleaves': 59, 'bagfrac': 0.9152244102053858, 'bagfreq': 2, 'featfrac': 0.8738363398741414, 'lambda_l1': 7.588299871122905e-05, 'lambda_l2': 0.00010145089570003576, 'minchild': 1}. Best is trial 496 with value: 3511896.0883319825.\u001b[0m\n"
     ]
    },
    {
     "name": "stdout",
     "output_type": "stream",
     "text": [
      "Early stopping, best iteration is:\n",
      "[122]\ttraining's l1: 753500\tvalid_1's l1: 3.76476e+06\n",
      "Training until validation scores don't improve for 5 rounds\n"
     ]
    },
    {
     "name": "stderr",
     "output_type": "stream",
     "text": [
      "\u001b[32m[I 2021-01-03 18:21:52,413]\u001b[0m Trial 946 finished with value: 3709701.7344126645 and parameters: {'nleaves': 65, 'bagfrac': 0.8194691091365874, 'bagfreq': 2, 'featfrac': 0.8713532681936478, 'lambda_l1': 4.2459654003926476e-05, 'lambda_l2': 4.8181223296998805, 'minchild': 7}. Best is trial 496 with value: 3511896.0883319825.\u001b[0m\n"
     ]
    },
    {
     "name": "stdout",
     "output_type": "stream",
     "text": [
      "Early stopping, best iteration is:\n",
      "[169]\ttraining's l1: 489185\tvalid_1's l1: 3.7097e+06\n",
      "Training until validation scores don't improve for 5 rounds\n"
     ]
    },
    {
     "name": "stderr",
     "output_type": "stream",
     "text": [
      "\u001b[32m[I 2021-01-03 18:21:53,481]\u001b[0m Trial 947 finished with value: 3766972.013393885 and parameters: {'nleaves': 71, 'bagfrac': 0.9082459510928809, 'bagfreq': 1, 'featfrac': 0.8626601053616725, 'lambda_l1': 7.235368855112478e-05, 'lambda_l2': 3.0645090163956286, 'minchild': 65}. Best is trial 496 with value: 3511896.0883319825.\u001b[0m\n"
     ]
    },
    {
     "name": "stdout",
     "output_type": "stream",
     "text": [
      "Early stopping, best iteration is:\n",
      "[285]\ttraining's l1: 799638\tvalid_1's l1: 3.76697e+06\n",
      "Training until validation scores don't improve for 5 rounds\n"
     ]
    },
    {
     "name": "stderr",
     "output_type": "stream",
     "text": [
      "\u001b[32m[I 2021-01-03 18:21:54,661]\u001b[0m Trial 948 finished with value: 3758768.673467364 and parameters: {'nleaves': 59, 'bagfrac': 0.9409845589104449, 'bagfreq': 2, 'featfrac': 0.8966560314310474, 'lambda_l1': 5.144337050616141e-05, 'lambda_l2': 5.558647085673729, 'minchild': 41}. Best is trial 496 with value: 3511896.0883319825.\u001b[0m\n"
     ]
    },
    {
     "name": "stdout",
     "output_type": "stream",
     "text": [
      "Early stopping, best iteration is:\n",
      "[191]\ttraining's l1: 707481\tvalid_1's l1: 3.75877e+06\n",
      "Training until validation scores don't improve for 5 rounds\n"
     ]
    },
    {
     "name": "stderr",
     "output_type": "stream",
     "text": [
      "\u001b[32m[I 2021-01-03 18:21:56,573]\u001b[0m Trial 949 finished with value: 3716475.7320724246 and parameters: {'nleaves': 65, 'bagfrac': 0.9279533287902131, 'bagfreq': 3, 'featfrac': 0.8584102895151311, 'lambda_l1': 2.280619647505644e-05, 'lambda_l2': 0.00854462932101578, 'minchild': 3}. Best is trial 496 with value: 3511896.0883319825.\u001b[0m\n"
     ]
    },
    {
     "name": "stdout",
     "output_type": "stream",
     "text": [
      "Early stopping, best iteration is:\n",
      "[206]\ttraining's l1: 262910\tvalid_1's l1: 3.71648e+06\n",
      "Training until validation scores don't improve for 5 rounds\n"
     ]
    },
    {
     "name": "stderr",
     "output_type": "stream",
     "text": [
      "\u001b[32m[I 2021-01-03 18:21:58,032]\u001b[0m Trial 950 finished with value: 3730495.735481735 and parameters: {'nleaves': 57, 'bagfrac': 0.922944030500166, 'bagfreq': 2, 'featfrac': 0.8487229920989487, 'lambda_l1': 8.041136289630757e-05, 'lambda_l2': 4.610125165102482, 'minchild': 6}. Best is trial 496 with value: 3511896.0883319825.\u001b[0m\n"
     ]
    },
    {
     "name": "stdout",
     "output_type": "stream",
     "text": [
      "Early stopping, best iteration is:\n",
      "[181]\ttraining's l1: 544472\tvalid_1's l1: 3.7305e+06\n",
      "Training until validation scores don't improve for 5 rounds\n"
     ]
    },
    {
     "name": "stderr",
     "output_type": "stream",
     "text": [
      "\u001b[32m[I 2021-01-03 18:22:00,398]\u001b[0m Trial 951 finished with value: 3662641.860088651 and parameters: {'nleaves': 78, 'bagfrac': 0.9004472292595094, 'bagfreq': 2, 'featfrac': 0.8859524594001438, 'lambda_l1': 3.247768804401307e-05, 'lambda_l2': 6.926449096755063, 'minchild': 4}. Best is trial 496 with value: 3511896.0883319825.\u001b[0m\n"
     ]
    },
    {
     "name": "stdout",
     "output_type": "stream",
     "text": [
      "Early stopping, best iteration is:\n",
      "[215]\ttraining's l1: 220967\tvalid_1's l1: 3.66264e+06\n",
      "Training until validation scores don't improve for 5 rounds\n"
     ]
    },
    {
     "name": "stderr",
     "output_type": "stream",
     "text": [
      "\u001b[32m[I 2021-01-03 18:22:01,215]\u001b[0m Trial 952 finished with value: 3844300.1748922844 and parameters: {'nleaves': 70, 'bagfrac': 0.9151012218859398, 'bagfreq': 2, 'featfrac': 0.8673698566183801, 'lambda_l1': 2.2847614083105743, 'lambda_l2': 3.4793741908617832, 'minchild': 54}. Best is trial 496 with value: 3511896.0883319825.\u001b[0m\n"
     ]
    },
    {
     "name": "stdout",
     "output_type": "stream",
     "text": [
      "Early stopping, best iteration is:\n",
      "[142]\ttraining's l1: 1.34343e+06\tvalid_1's l1: 3.8443e+06\n",
      "Training until validation scores don't improve for 5 rounds\n"
     ]
    },
    {
     "name": "stderr",
     "output_type": "stream",
     "text": [
      "\u001b[32m[I 2021-01-03 18:22:03,138]\u001b[0m Trial 953 finished with value: 3774498.4709519898 and parameters: {'nleaves': 61, 'bagfrac': 0.9356057236892198, 'bagfreq': 1, 'featfrac': 0.8540249279973542, 'lambda_l1': 6.0431617989611454e-05, 'lambda_l2': 2.0378449696840764, 'minchild': 2}. Best is trial 496 with value: 3511896.0883319825.\u001b[0m\n"
     ]
    },
    {
     "name": "stdout",
     "output_type": "stream",
     "text": [
      "Early stopping, best iteration is:\n",
      "[206]\ttraining's l1: 336500\tvalid_1's l1: 3.7745e+06\n",
      "Training until validation scores don't improve for 5 rounds\n"
     ]
    },
    {
     "name": "stderr",
     "output_type": "stream",
     "text": [
      "\u001b[32m[I 2021-01-03 18:22:04,104]\u001b[0m Trial 954 finished with value: 3721025.537450079 and parameters: {'nleaves': 66, 'bagfrac': 0.8603744491648699, 'bagfreq': 2, 'featfrac': 0.8623149345183251, 'lambda_l1': 3.850818222873358e-06, 'lambda_l2': 5.7832923858828185, 'minchild': 45}. Best is trial 496 with value: 3511896.0883319825.\u001b[0m\n"
     ]
    },
    {
     "name": "stdout",
     "output_type": "stream",
     "text": [
      "Early stopping, best iteration is:\n",
      "[168]\ttraining's l1: 1.05144e+06\tvalid_1's l1: 3.72103e+06\n",
      "Training until validation scores don't improve for 5 rounds\n"
     ]
    },
    {
     "name": "stderr",
     "output_type": "stream",
     "text": [
      "\u001b[32m[I 2021-01-03 18:22:05,314]\u001b[0m Trial 955 finished with value: 3740206.953811952 and parameters: {'nleaves': 75, 'bagfrac': 0.9201305573500934, 'bagfreq': 2, 'featfrac': 0.842350796798247, 'lambda_l1': 1.361466417289292e-06, 'lambda_l2': 7.37515968895896, 'minchild': 56}. Best is trial 496 with value: 3511896.0883319825.\u001b[0m\n"
     ]
    },
    {
     "name": "stdout",
     "output_type": "stream",
     "text": [
      "Early stopping, best iteration is:\n",
      "[231]\ttraining's l1: 885455\tvalid_1's l1: 3.74021e+06\n",
      "Training until validation scores don't improve for 5 rounds\n"
     ]
    },
    {
     "name": "stderr",
     "output_type": "stream",
     "text": [
      "\u001b[32m[I 2021-01-03 18:22:07,652]\u001b[0m Trial 956 finished with value: 3654952.077623364 and parameters: {'nleaves': 55, 'bagfrac': 0.9071002101741129, 'bagfreq': 1, 'featfrac': 0.8770469612166193, 'lambda_l1': 1.0053147606594995e-06, 'lambda_l2': 9.864668618007256, 'minchild': 8}. Best is trial 496 with value: 3511896.0883319825.\u001b[0m\n"
     ]
    },
    {
     "name": "stdout",
     "output_type": "stream",
     "text": [
      "Early stopping, best iteration is:\n",
      "[345]\ttraining's l1: 198720\tvalid_1's l1: 3.65495e+06\n",
      "Training until validation scores don't improve for 5 rounds\n"
     ]
    },
    {
     "name": "stderr",
     "output_type": "stream",
     "text": [
      "\u001b[32m[I 2021-01-03 18:22:09,186]\u001b[0m Trial 957 finished with value: 3822013.5598796033 and parameters: {'nleaves': 63, 'bagfrac': 0.9267907461508224, 'bagfreq': 6, 'featfrac': 0.884835117792396, 'lambda_l1': 9.88892065731005e-05, 'lambda_l2': 4.468716599895584, 'minchild': 5}. Best is trial 496 with value: 3511896.0883319825.\u001b[0m\n"
     ]
    },
    {
     "name": "stdout",
     "output_type": "stream",
     "text": [
      "Early stopping, best iteration is:\n",
      "[169]\ttraining's l1: 506701\tvalid_1's l1: 3.82201e+06\n",
      "Training until validation scores don't improve for 5 rounds\n"
     ]
    },
    {
     "name": "stderr",
     "output_type": "stream",
     "text": [
      "\u001b[32m[I 2021-01-03 18:22:10,232]\u001b[0m Trial 958 finished with value: 3747492.9546814095 and parameters: {'nleaves': 82, 'bagfrac': 0.9137462871723968, 'bagfreq': 2, 'featfrac': 0.8699789051674847, 'lambda_l1': 4.994674840088795e-05, 'lambda_l2': 3.0490809825533045, 'minchild': 37}. Best is trial 496 with value: 3511896.0883319825.\u001b[0m\n"
     ]
    },
    {
     "name": "stdout",
     "output_type": "stream",
     "text": [
      "Early stopping, best iteration is:\n",
      "[160]\ttraining's l1: 743509\tvalid_1's l1: 3.74749e+06\n",
      "Training until validation scores don't improve for 5 rounds\n"
     ]
    },
    {
     "name": "stderr",
     "output_type": "stream",
     "text": [
      "\u001b[32m[I 2021-01-03 18:22:12,355]\u001b[0m Trial 959 finished with value: 3613034.043961272 and parameters: {'nleaves': 69, 'bagfrac': 0.9236249194757611, 'bagfreq': 3, 'featfrac': 0.8557790128241778, 'lambda_l1': 7.630874492506833e-05, 'lambda_l2': 7.555752629440168, 'minchild': 1}. Best is trial 496 with value: 3511896.0883319825.\u001b[0m\n"
     ]
    },
    {
     "name": "stdout",
     "output_type": "stream",
     "text": [
      "Early stopping, best iteration is:\n",
      "[193]\ttraining's l1: 374902\tvalid_1's l1: 3.61303e+06\n",
      "Training until validation scores don't improve for 5 rounds\n"
     ]
    },
    {
     "name": "stderr",
     "output_type": "stream",
     "text": [
      "\u001b[32m[I 2021-01-03 18:22:13,745]\u001b[0m Trial 960 finished with value: 3672114.5413800008 and parameters: {'nleaves': 60, 'bagfrac': 0.9511778104389458, 'bagfreq': 2, 'featfrac': 0.848590789798457, 'lambda_l1': 1.435041145809242e-05, 'lambda_l2': 5.686609866855732, 'minchild': 6}. Best is trial 496 with value: 3511896.0883319825.\u001b[0m\n"
     ]
    },
    {
     "name": "stdout",
     "output_type": "stream",
     "text": [
      "Early stopping, best iteration is:\n",
      "[164]\ttraining's l1: 601205\tvalid_1's l1: 3.67211e+06\n",
      "Training until validation scores don't improve for 5 rounds\n"
     ]
    },
    {
     "name": "stderr",
     "output_type": "stream",
     "text": [
      "\u001b[32m[I 2021-01-03 18:22:14,883]\u001b[0m Trial 961 finished with value: 3775164.4600423267 and parameters: {'nleaves': 54, 'bagfrac': 0.9337141621731081, 'bagfreq': 2, 'featfrac': 0.8619974104977225, 'lambda_l1': 5.140658414586296e-06, 'lambda_l2': 7.676627028596016, 'minchild': 4}. Best is trial 496 with value: 3511896.0883319825.\u001b[0m\n"
     ]
    },
    {
     "name": "stdout",
     "output_type": "stream",
     "text": [
      "Early stopping, best iteration is:\n",
      "[119]\ttraining's l1: 1.05731e+06\tvalid_1's l1: 3.77516e+06\n",
      "Training until validation scores don't improve for 5 rounds\n"
     ]
    },
    {
     "name": "stderr",
     "output_type": "stream",
     "text": [
      "\u001b[32m[I 2021-01-03 18:22:17,499]\u001b[0m Trial 962 finished with value: 3594585.713742903 and parameters: {'nleaves': 73, 'bagfrac': 0.9186991095200072, 'bagfreq': 2, 'featfrac': 0.8728387271143975, 'lambda_l1': 2.4185865723673684e-05, 'lambda_l2': 4.846817984214998, 'minchild': 1}. Best is trial 496 with value: 3511896.0883319825.\u001b[0m\n"
     ]
    },
    {
     "name": "stdout",
     "output_type": "stream",
     "text": [
      "Early stopping, best iteration is:\n",
      "[236]\ttraining's l1: 189412\tvalid_1's l1: 3.59459e+06\n",
      "Training until validation scores don't improve for 5 rounds\n"
     ]
    },
    {
     "name": "stderr",
     "output_type": "stream",
     "text": [
      "\u001b[32m[I 2021-01-03 18:22:19,530]\u001b[0m Trial 963 finished with value: 3745701.3114733733 and parameters: {'nleaves': 67, 'bagfrac': 0.9059657518188725, 'bagfreq': 1, 'featfrac': 0.8826240570111744, 'lambda_l1': 0.00011481461139045592, 'lambda_l2': 2.5495770114406135, 'minchild': 8}. Best is trial 496 with value: 3511896.0883319825.\u001b[0m\n"
     ]
    },
    {
     "name": "stdout",
     "output_type": "stream",
     "text": [
      "Early stopping, best iteration is:\n",
      "[255]\ttraining's l1: 178855\tvalid_1's l1: 3.7457e+06\n",
      "Training until validation scores don't improve for 5 rounds\n"
     ]
    },
    {
     "name": "stderr",
     "output_type": "stream",
     "text": [
      "\u001b[32m[I 2021-01-03 18:22:20,372]\u001b[0m Trial 964 finished with value: 3750135.8399816635 and parameters: {'nleaves': 57, 'bagfrac': 0.9390519018645284, 'bagfreq': 2, 'featfrac': 0.8638037495869472, 'lambda_l1': 8.85534711704039e-06, 'lambda_l2': 3.7776783195102075, 'minchild': 65}. Best is trial 496 with value: 3511896.0883319825.\u001b[0m\n"
     ]
    },
    {
     "name": "stdout",
     "output_type": "stream",
     "text": [
      "Early stopping, best iteration is:\n",
      "[191]\ttraining's l1: 1.19713e+06\tvalid_1's l1: 3.75014e+06\n",
      "Training until validation scores don't improve for 5 rounds\n"
     ]
    },
    {
     "name": "stderr",
     "output_type": "stream",
     "text": [
      "\u001b[32m[I 2021-01-03 18:22:22,116]\u001b[0m Trial 965 finished with value: 3708510.7371577183 and parameters: {'nleaves': 51, 'bagfrac': 0.9287510828206538, 'bagfreq': 2, 'featfrac': 0.9579252610439157, 'lambda_l1': 4.274297065007183e-05, 'lambda_l2': 7.617692425848272, 'minchild': 3}. Best is trial 496 with value: 3511896.0883319825.\u001b[0m\n"
     ]
    },
    {
     "name": "stdout",
     "output_type": "stream",
     "text": [
      "Early stopping, best iteration is:\n",
      "[220]\ttraining's l1: 514909\tvalid_1's l1: 3.70851e+06\n",
      "Training until validation scores don't improve for 5 rounds\n"
     ]
    },
    {
     "name": "stderr",
     "output_type": "stream",
     "text": [
      "\u001b[32m[I 2021-01-03 18:22:23,592]\u001b[0m Trial 966 finished with value: 3697919.9788917108 and parameters: {'nleaves': 63, 'bagfrac': 0.9130837735297658, 'bagfreq': 1, 'featfrac': 0.8434685822123725, 'lambda_l1': 0.0001693305240386794, 'lambda_l2': 9.773301884387967, 'minchild': 6}. Best is trial 496 with value: 3511896.0883319825.\u001b[0m\n"
     ]
    },
    {
     "name": "stdout",
     "output_type": "stream",
     "text": [
      "Early stopping, best iteration is:\n",
      "[165]\ttraining's l1: 603388\tvalid_1's l1: 3.69792e+06\n",
      "Training until validation scores don't improve for 5 rounds\n"
     ]
    },
    {
     "name": "stderr",
     "output_type": "stream",
     "text": [
      "\u001b[32m[I 2021-01-03 18:22:26,326]\u001b[0m Trial 967 finished with value: 3658944.565559812 and parameters: {'nleaves': 74, 'bagfrac': 0.8980629565473374, 'bagfreq': 2, 'featfrac': 0.8542402659133802, 'lambda_l1': 7.046010150738828e-05, 'lambda_l2': 5.908133065054083, 'minchild': 1}. Best is trial 496 with value: 3511896.0883319825.\u001b[0m\n"
     ]
    },
    {
     "name": "stdout",
     "output_type": "stream",
     "text": [
      "Early stopping, best iteration is:\n",
      "[239]\ttraining's l1: 187703\tvalid_1's l1: 3.65894e+06\n",
      "Training until validation scores don't improve for 5 rounds\n"
     ]
    },
    {
     "name": "stderr",
     "output_type": "stream",
     "text": [
      "\u001b[32m[I 2021-01-03 18:22:27,969]\u001b[0m Trial 968 finished with value: 3584925.563385559 and parameters: {'nleaves': 60, 'bagfrac': 0.9195781746905797, 'bagfreq': 2, 'featfrac': 0.8752118713852173, 'lambda_l1': 3.4438913044697667e-05, 'lambda_l2': 4.459169661807593, 'minchild': 8}. Best is trial 496 with value: 3511896.0883319825.\u001b[0m\n"
     ]
    },
    {
     "name": "stdout",
     "output_type": "stream",
     "text": [
      "Early stopping, best iteration is:\n",
      "[210]\ttraining's l1: 386595\tvalid_1's l1: 3.58493e+06\n",
      "Training until validation scores don't improve for 5 rounds\n"
     ]
    },
    {
     "name": "stderr",
     "output_type": "stream",
     "text": [
      "\u001b[32m[I 2021-01-03 18:22:30,461]\u001b[0m Trial 969 finished with value: 3672602.883034903 and parameters: {'nleaves': 70, 'bagfrac': 0.9256934638994572, 'bagfreq': 3, 'featfrac': 0.8909735232667051, 'lambda_l1': 9.457697706651493e-05, 'lambda_l2': 7.649709842975939, 'minchild': 4}. Best is trial 496 with value: 3511896.0883319825.\u001b[0m\n"
     ]
    },
    {
     "name": "stdout",
     "output_type": "stream",
     "text": [
      "Early stopping, best iteration is:\n",
      "[237]\ttraining's l1: 233570\tvalid_1's l1: 3.6726e+06\n",
      "Training until validation scores don't improve for 5 rounds\n"
     ]
    },
    {
     "name": "stderr",
     "output_type": "stream",
     "text": [
      "\u001b[32m[I 2021-01-03 18:22:32,932]\u001b[0m Trial 970 finished with value: 3622379.0795126585 and parameters: {'nleaves': 65, 'bagfrac': 0.8919413235589353, 'bagfreq': 2, 'featfrac': 0.858547877070029, 'lambda_l1': 0.00013433354206463037, 'lambda_l2': 9.826452506514862, 'minchild': 9}. Best is trial 496 with value: 3511896.0883319825.\u001b[0m\n"
     ]
    },
    {
     "name": "stdout",
     "output_type": "stream",
     "text": [
      "Early stopping, best iteration is:\n",
      "[322]\ttraining's l1: 164274\tvalid_1's l1: 3.62238e+06\n",
      "Training until validation scores don't improve for 5 rounds\n"
     ]
    },
    {
     "name": "stderr",
     "output_type": "stream",
     "text": [
      "\u001b[32m[I 2021-01-03 18:22:34,751]\u001b[0m Trial 971 finished with value: 3704936.123960441 and parameters: {'nleaves': 54, 'bagfrac': 0.9324630923447175, 'bagfreq': 2, 'featfrac': 0.8676803465100552, 'lambda_l1': 6.315518633594895e-05, 'lambda_l2': 1.2524717480383716, 'minchild': 3}. Best is trial 496 with value: 3511896.0883319825.\u001b[0m\n"
     ]
    },
    {
     "name": "stdout",
     "output_type": "stream",
     "text": [
      "Early stopping, best iteration is:\n",
      "[230]\ttraining's l1: 336514\tvalid_1's l1: 3.70494e+06\n",
      "Training until validation scores don't improve for 5 rounds\n"
     ]
    },
    {
     "name": "stderr",
     "output_type": "stream",
     "text": [
      "\u001b[32m[I 2021-01-03 18:22:36,552]\u001b[0m Trial 972 finished with value: 3688611.6920369524 and parameters: {'nleaves': 49, 'bagfrac': 0.9451173056299284, 'bagfreq': 1, 'featfrac': 0.850744725524202, 'lambda_l1': 9.153197440240082e-05, 'lambda_l2': 5.875053613478666, 'minchild': 6}. Best is trial 496 with value: 3511896.0883319825.\u001b[0m\n"
     ]
    },
    {
     "name": "stdout",
     "output_type": "stream",
     "text": [
      "Early stopping, best iteration is:\n",
      "[279]\ttraining's l1: 358501\tvalid_1's l1: 3.68861e+06\n",
      "Training until validation scores don't improve for 5 rounds\n"
     ]
    },
    {
     "name": "stderr",
     "output_type": "stream",
     "text": [
      "\u001b[32m[I 2021-01-03 18:22:39,113]\u001b[0m Trial 973 finished with value: 3657667.3943009553 and parameters: {'nleaves': 81, 'bagfrac': 0.9101277012642021, 'bagfreq': 2, 'featfrac': 0.8811576800653983, 'lambda_l1': 4.45473010493735e-05, 'lambda_l2': 9.914560593361662, 'minchild': 1}. Best is trial 496 with value: 3511896.0883319825.\u001b[0m\n"
     ]
    },
    {
     "name": "stdout",
     "output_type": "stream",
     "text": [
      "Early stopping, best iteration is:\n",
      "[208]\ttraining's l1: 250379\tvalid_1's l1: 3.65767e+06\n",
      "Training until validation scores don't improve for 5 rounds\n"
     ]
    },
    {
     "name": "stderr",
     "output_type": "stream",
     "text": [
      "\u001b[32m[I 2021-01-03 18:22:41,804]\u001b[0m Trial 974 finished with value: 3832610.6730006873 and parameters: {'nleaves': 220, 'bagfrac': 0.917451113120922, 'bagfreq': 2, 'featfrac': 0.8673608730012494, 'lambda_l1': 0.0001993159929837576, 'lambda_l2': 3.4249465252488367, 'minchild': 5}. Best is trial 496 with value: 3511896.0883319825.\u001b[0m\n"
     ]
    },
    {
     "name": "stdout",
     "output_type": "stream",
     "text": [
      "Early stopping, best iteration is:\n",
      "[122]\ttraining's l1: 78959.9\tvalid_1's l1: 3.83261e+06\n",
      "Training until validation scores don't improve for 5 rounds\n"
     ]
    },
    {
     "name": "stderr",
     "output_type": "stream",
     "text": [
      "\u001b[32m[I 2021-01-03 18:22:42,869]\u001b[0m Trial 975 finished with value: 3749920.938918299 and parameters: {'nleaves': 61, 'bagfrac': 0.925405491618982, 'bagfreq': 2, 'featfrac': 0.8618554934291769, 'lambda_l1': 5.381149119601728e-05, 'lambda_l2': 9.853543611961568, 'minchild': 55}. Best is trial 496 with value: 3511896.0883319825.\u001b[0m\n"
     ]
    },
    {
     "name": "stdout",
     "output_type": "stream",
     "text": [
      "Early stopping, best iteration is:\n",
      "[233]\ttraining's l1: 865793\tvalid_1's l1: 3.74992e+06\n",
      "Training until validation scores don't improve for 5 rounds\n"
     ]
    },
    {
     "name": "stderr",
     "output_type": "stream",
     "text": [
      "\u001b[32m[I 2021-01-03 18:22:44,448]\u001b[0m Trial 976 finished with value: 3792673.3551946627 and parameters: {'nleaves': 56, 'bagfrac': 0.9030166723661488, 'bagfreq': 1, 'featfrac': 0.8472214843394023, 'lambda_l1': 0.00012680387041995596, 'lambda_l2': 2.3314707514985162, 'minchild': 3}. Best is trial 496 with value: 3511896.0883319825.\u001b[0m\n"
     ]
    },
    {
     "name": "stdout",
     "output_type": "stream",
     "text": [
      "Early stopping, best iteration is:\n",
      "[181]\ttraining's l1: 507809\tvalid_1's l1: 3.79267e+06\n",
      "Training until validation scores don't improve for 5 rounds\n"
     ]
    },
    {
     "name": "stderr",
     "output_type": "stream",
     "text": [
      "\u001b[32m[I 2021-01-03 18:22:45,525]\u001b[0m Trial 977 finished with value: 3743856.5102027496 and parameters: {'nleaves': 77, 'bagfrac': 0.9379458906158518, 'bagfreq': 2, 'featfrac': 0.8775119189638878, 'lambda_l1': 2.9177807547712562e-06, 'lambda_l2': 4.824271674408006, 'minchild': 43}. Best is trial 496 with value: 3511896.0883319825.\u001b[0m\n"
     ]
    },
    {
     "name": "stdout",
     "output_type": "stream",
     "text": [
      "Early stopping, best iteration is:\n",
      "[190]\ttraining's l1: 742724\tvalid_1's l1: 3.74386e+06\n",
      "Training until validation scores don't improve for 5 rounds\n",
      "Early stopping, best iteration is:\n",
      "[201]\ttraining's l1: 115006\tvalid_1's l1: 3.63038e+06\n"
     ]
    },
    {
     "name": "stderr",
     "output_type": "stream",
     "text": [
      "\u001b[32m[I 2021-01-03 18:22:48,404]\u001b[0m Trial 978 finished with value: 3630380.538013717 and parameters: {'nleaves': 138, 'bagfrac': 0.9128237029849514, 'bagfreq': 3, 'featfrac': 0.856990781833296, 'lambda_l1': 7.494565492886854e-05, 'lambda_l2': 9.948260465482154, 'minchild': 10}. Best is trial 496 with value: 3511896.0883319825.\u001b[0m\n"
     ]
    },
    {
     "name": "stdout",
     "output_type": "stream",
     "text": [
      "Training until validation scores don't improve for 5 rounds\n"
     ]
    },
    {
     "name": "stderr",
     "output_type": "stream",
     "text": [
      "\u001b[32m[I 2021-01-03 18:22:50,458]\u001b[0m Trial 979 finished with value: 3785234.7096760473 and parameters: {'nleaves': 67, 'bagfrac': 0.8783204556767805, 'bagfreq': 2, 'featfrac': 0.8695667145525059, 'lambda_l1': 9.769047958687119e-05, 'lambda_l2': 6.346271882617001, 'minchild': 7}. Best is trial 496 with value: 3511896.0883319825.\u001b[0m\n"
     ]
    },
    {
     "name": "stdout",
     "output_type": "stream",
     "text": [
      "Early stopping, best iteration is:\n",
      "[245]\ttraining's l1: 241269\tvalid_1's l1: 3.78523e+06\n",
      "Training until validation scores don't improve for 5 rounds\n"
     ]
    },
    {
     "name": "stderr",
     "output_type": "stream",
     "text": [
      "\u001b[32m[I 2021-01-03 18:22:52,198]\u001b[0m Trial 980 finished with value: 3785845.2871315107 and parameters: {'nleaves': 71, 'bagfrac': 0.9222358737401392, 'bagfreq': 2, 'featfrac': 0.9355319295778729, 'lambda_l1': 2.2761255275258547e-05, 'lambda_l2': 3.834908652055818, 'minchild': 1}. Best is trial 496 with value: 3511896.0883319825.\u001b[0m\n"
     ]
    },
    {
     "name": "stdout",
     "output_type": "stream",
     "text": [
      "Early stopping, best iteration is:\n",
      "[146]\ttraining's l1: 484492\tvalid_1's l1: 3.78585e+06\n",
      "Training until validation scores don't improve for 5 rounds\n"
     ]
    },
    {
     "name": "stderr",
     "output_type": "stream",
     "text": [
      "\u001b[32m[I 2021-01-03 18:22:53,807]\u001b[0m Trial 981 finished with value: 3733399.832549823 and parameters: {'nleaves': 47, 'bagfrac': 0.8439241261835756, 'bagfreq': 1, 'featfrac': 0.8438776031348815, 'lambda_l1': 1.4464034463832871e-06, 'lambda_l2': 7.26708287246228, 'minchild': 5}. Best is trial 496 with value: 3511896.0883319825.\u001b[0m\n"
     ]
    },
    {
     "name": "stdout",
     "output_type": "stream",
     "text": [
      "Early stopping, best iteration is:\n",
      "[225]\ttraining's l1: 575812\tvalid_1's l1: 3.7334e+06\n",
      "Training until validation scores don't improve for 5 rounds\n"
     ]
    },
    {
     "name": "stderr",
     "output_type": "stream",
     "text": [
      "\u001b[32m[I 2021-01-03 18:22:55,497]\u001b[0m Trial 982 finished with value: 3677930.3205860006 and parameters: {'nleaves': 62, 'bagfrac': 0.9312365562641504, 'bagfreq': 2, 'featfrac': 0.8546978574216567, 'lambda_l1': 3.588297962250683e-05, 'lambda_l2': 5.2025676327405375, 'minchild': 10}. Best is trial 496 with value: 3511896.0883319825.\u001b[0m\n"
     ]
    },
    {
     "name": "stdout",
     "output_type": "stream",
     "text": [
      "Early stopping, best iteration is:\n",
      "[219]\ttraining's l1: 346416\tvalid_1's l1: 3.67793e+06\n",
      "Training until validation scores don't improve for 5 rounds\n"
     ]
    },
    {
     "name": "stderr",
     "output_type": "stream",
     "text": [
      "\u001b[32m[I 2021-01-03 18:22:56,915]\u001b[0m Trial 983 finished with value: 3873432.892033792 and parameters: {'nleaves': 52, 'bagfrac': 0.9167745455310227, 'bagfreq': 2, 'featfrac': 0.9092153549312585, 'lambda_l1': 0.00013850461264266044, 'lambda_l2': 2.649173137172156, 'minchild': 3}. Best is trial 496 with value: 3511896.0883319825.\u001b[0m\n"
     ]
    },
    {
     "name": "stdout",
     "output_type": "stream",
     "text": [
      "Early stopping, best iteration is:\n",
      "[174]\ttraining's l1: 623307\tvalid_1's l1: 3.87343e+06\n",
      "Training until validation scores don't improve for 5 rounds\n"
     ]
    },
    {
     "name": "stderr",
     "output_type": "stream",
     "text": [
      "\u001b[32m[I 2021-01-03 18:22:58,462]\u001b[0m Trial 984 finished with value: 3678809.8206844297 and parameters: {'nleaves': 59, 'bagfrac': 0.9069146804308356, 'bagfreq': 2, 'featfrac': 0.8747491398301204, 'lambda_l1': 5.633127516609249e-05, 'lambda_l2': 7.36467901791804, 'minchild': 7}. Best is trial 496 with value: 3511896.0883319825.\u001b[0m\n"
     ]
    },
    {
     "name": "stdout",
     "output_type": "stream",
     "text": [
      "Early stopping, best iteration is:\n",
      "[192]\ttraining's l1: 497671\tvalid_1's l1: 3.67881e+06\n",
      "Training until validation scores don't improve for 5 rounds\n"
     ]
    },
    {
     "name": "stderr",
     "output_type": "stream",
     "text": [
      "\u001b[32m[I 2021-01-03 18:23:00,577]\u001b[0m Trial 985 finished with value: 3826309.6194500537 and parameters: {'nleaves': 67, 'bagfrac': 0.9245622991044892, 'bagfreq': 1, 'featfrac': 0.8644611815940111, 'lambda_l1': 2.1031645470599605e-06, 'lambda_l2': 3.6414514046551028, 'minchild': 1}. Best is trial 496 with value: 3511896.0883319825.\u001b[0m\n"
     ]
    },
    {
     "name": "stdout",
     "output_type": "stream",
     "text": [
      "Early stopping, best iteration is:\n",
      "[176]\ttraining's l1: 397043\tvalid_1's l1: 3.82631e+06\n",
      "Training until validation scores don't improve for 5 rounds\n"
     ]
    },
    {
     "name": "stderr",
     "output_type": "stream",
     "text": [
      "\u001b[32m[I 2021-01-03 18:23:02,401]\u001b[0m Trial 986 finished with value: 3794695.818409511 and parameters: {'nleaves': 74, 'bagfrac': 0.9306727331646067, 'bagfreq': 2, 'featfrac': 0.8861950095877213, 'lambda_l1': 0.00021030710010598916, 'lambda_l2': 5.9549285243448855, 'minchild': 9}. Best is trial 496 with value: 3511896.0883319825.\u001b[0m\n"
     ]
    },
    {
     "name": "stdout",
     "output_type": "stream",
     "text": [
      "Early stopping, best iteration is:\n",
      "[194]\ttraining's l1: 310827\tvalid_1's l1: 3.7947e+06\n",
      "Training until validation scores don't improve for 5 rounds\n"
     ]
    },
    {
     "name": "stderr",
     "output_type": "stream",
     "text": [
      "\u001b[32m[I 2021-01-03 18:23:04,539]\u001b[0m Trial 987 finished with value: 3806422.5382889225 and parameters: {'nleaves': 56, 'bagfrac': 0.9391956329601879, 'bagfreq': 2, 'featfrac': 0.8598260189960321, 'lambda_l1': 8.137009813041627e-05, 'lambda_l2': 1.658861536047926, 'minchild': 73}. Best is trial 496 with value: 3511896.0883319825.\u001b[0m\n"
     ]
    },
    {
     "name": "stdout",
     "output_type": "stream",
     "text": [
      "Early stopping, best iteration is:\n",
      "[239]\ttraining's l1: 1.07869e+06\tvalid_1's l1: 3.80642e+06\n",
      "Training until validation scores don't improve for 5 rounds\n"
     ]
    },
    {
     "name": "stderr",
     "output_type": "stream",
     "text": [
      "\u001b[32m[I 2021-01-03 18:23:06,844]\u001b[0m Trial 988 finished with value: 3690486.615129578 and parameters: {'nleaves': 64, 'bagfrac': 0.9103065834174762, 'bagfreq': 7, 'featfrac': 0.8395021074347044, 'lambda_l1': 2.9145366094846715e-05, 'lambda_l2': 7.847229817241629, 'minchild': 4}. Best is trial 496 with value: 3511896.0883319825.\u001b[0m\n"
     ]
    },
    {
     "name": "stdout",
     "output_type": "stream",
     "text": [
      "Early stopping, best iteration is:\n",
      "[244]\ttraining's l1: 295707\tvalid_1's l1: 3.69049e+06\n",
      "Training until validation scores don't improve for 5 rounds\n"
     ]
    },
    {
     "name": "stderr",
     "output_type": "stream",
     "text": [
      "\u001b[32m[I 2021-01-03 18:23:08,242]\u001b[0m Trial 989 finished with value: 3649233.3127161665 and parameters: {'nleaves': 47, 'bagfrac': 0.9203219937077676, 'bagfreq': 2, 'featfrac': 0.872213925426502, 'lambda_l1': 4.5343630864082975e-05, 'lambda_l2': 4.671733861426582, 'minchild': 7}. Best is trial 496 with value: 3511896.0883319825.\u001b[0m\n"
     ]
    },
    {
     "name": "stdout",
     "output_type": "stream",
     "text": [
      "Early stopping, best iteration is:\n",
      "[218]\ttraining's l1: 563517\tvalid_1's l1: 3.64923e+06\n",
      "Training until validation scores don't improve for 5 rounds\n"
     ]
    },
    {
     "name": "stderr",
     "output_type": "stream",
     "text": [
      "\u001b[32m[I 2021-01-03 18:23:10,585]\u001b[0m Trial 990 finished with value: 3658722.128230012 and parameters: {'nleaves': 79, 'bagfrac': 0.915943207535949, 'bagfreq': 3, 'featfrac': 0.850828180193106, 'lambda_l1': 0.005868361665882482, 'lambda_l2': 9.907136418620718, 'minchild': 1}. Best is trial 496 with value: 3511896.0883319825.\u001b[0m\n"
     ]
    },
    {
     "name": "stdout",
     "output_type": "stream",
     "text": [
      "Early stopping, best iteration is:\n",
      "[174]\ttraining's l1: 380610\tvalid_1's l1: 3.65872e+06\n",
      "Training until validation scores don't improve for 5 rounds\n"
     ]
    },
    {
     "name": "stderr",
     "output_type": "stream",
     "text": [
      "\u001b[32m[I 2021-01-03 18:23:11,409]\u001b[0m Trial 991 finished with value: 3717236.216372343 and parameters: {'nleaves': 52, 'bagfrac': 0.9486431051945168, 'bagfreq': 1, 'featfrac': 0.8787924706106902, 'lambda_l1': 0.0001456217940055943, 'lambda_l2': 5.900808919813135, 'minchild': 68}. Best is trial 496 with value: 3511896.0883319825.\u001b[0m\n"
     ]
    },
    {
     "name": "stdout",
     "output_type": "stream",
     "text": [
      "Early stopping, best iteration is:\n",
      "[202]\ttraining's l1: 1.2175e+06\tvalid_1's l1: 3.71724e+06\n",
      "Training until validation scores don't improve for 5 rounds\n"
     ]
    },
    {
     "name": "stderr",
     "output_type": "stream",
     "text": [
      "\u001b[32m[I 2021-01-03 18:23:13,199]\u001b[0m Trial 992 finished with value: 3620878.180446483 and parameters: {'nleaves': 70, 'bagfrac': 0.927432919441543, 'bagfreq': 2, 'featfrac': 0.8665719266504627, 'lambda_l1': 6.65501088491138e-05, 'lambda_l2': 2.9026197316448883, 'minchild': 5}. Best is trial 496 with value: 3511896.0883319825.\u001b[0m\n"
     ]
    },
    {
     "name": "stdout",
     "output_type": "stream",
     "text": [
      "Early stopping, best iteration is:\n",
      "[192]\ttraining's l1: 296513\tvalid_1's l1: 3.62088e+06\n",
      "Training until validation scores don't improve for 5 rounds\n"
     ]
    },
    {
     "name": "stderr",
     "output_type": "stream",
     "text": [
      "\u001b[32m[I 2021-01-03 18:23:15,111]\u001b[0m Trial 993 finished with value: 3721217.12879398 and parameters: {'nleaves': 59, 'bagfrac': 0.9029464709705696, 'bagfreq': 2, 'featfrac': 0.8593345717594264, 'lambda_l1': 0.00012007214866304201, 'lambda_l2': 6.969316666326745, 'minchild': 2}. Best is trial 496 with value: 3511896.0883319825.\u001b[0m\n"
     ]
    },
    {
     "name": "stdout",
     "output_type": "stream",
     "text": [
      "Early stopping, best iteration is:\n",
      "[198]\ttraining's l1: 475992\tvalid_1's l1: 3.72122e+06\n",
      "Training until validation scores don't improve for 5 rounds\n"
     ]
    },
    {
     "name": "stderr",
     "output_type": "stream",
     "text": [
      "\u001b[32m[I 2021-01-03 18:23:16,526]\u001b[0m Trial 994 finished with value: 3713578.7386443825 and parameters: {'nleaves': 65, 'bagfrac': 0.9618387020051749, 'bagfreq': 1, 'featfrac': 0.849854702678289, 'lambda_l1': 8.921068027819019e-05, 'lambda_l2': 4.38702959335645, 'minchild': 8}. Best is trial 496 with value: 3511896.0883319825.\u001b[0m\n"
     ]
    },
    {
     "name": "stdout",
     "output_type": "stream",
     "text": [
      "Early stopping, best iteration is:\n",
      "[171]\ttraining's l1: 469616\tvalid_1's l1: 3.71358e+06\n",
      "Training until validation scores don't improve for 5 rounds\n"
     ]
    },
    {
     "name": "stderr",
     "output_type": "stream",
     "text": [
      "\u001b[32m[I 2021-01-03 18:23:18,270]\u001b[0m Trial 995 finished with value: 3665306.122163063 and parameters: {'nleaves': 57, 'bagfrac': 0.9319242908142021, 'bagfreq': 2, 'featfrac': 0.8711259379699874, 'lambda_l1': 1.4972185307515966e-05, 'lambda_l2': 9.819921905948057, 'minchild': 3}. Best is trial 496 with value: 3511896.0883319825.\u001b[0m\n"
     ]
    },
    {
     "name": "stdout",
     "output_type": "stream",
     "text": [
      "Early stopping, best iteration is:\n",
      "[203]\ttraining's l1: 515387\tvalid_1's l1: 3.66531e+06\n",
      "Training until validation scores don't improve for 5 rounds\n"
     ]
    },
    {
     "name": "stderr",
     "output_type": "stream",
     "text": [
      "\u001b[32m[I 2021-01-03 18:23:19,936]\u001b[0m Trial 996 finished with value: 3744924.112554271 and parameters: {'nleaves': 87, 'bagfrac': 0.9191756031586918, 'bagfreq': 2, 'featfrac': 0.8417903285070188, 'lambda_l1': 6.011602768706989e-05, 'lambda_l2': 9.932101797074651, 'minchild': 11}. Best is trial 496 with value: 3511896.0883319825.\u001b[0m\n"
     ]
    },
    {
     "name": "stdout",
     "output_type": "stream",
     "text": [
      "Early stopping, best iteration is:\n",
      "[161]\ttraining's l1: 402884\tvalid_1's l1: 3.74492e+06\n",
      "Training until validation scores don't improve for 5 rounds\n"
     ]
    },
    {
     "name": "stderr",
     "output_type": "stream",
     "text": [
      "\u001b[32m[I 2021-01-03 18:23:21,791]\u001b[0m Trial 997 finished with value: 3702766.9395687594 and parameters: {'nleaves': 72, 'bagfrac': 0.9117574345217117, 'bagfreq': 2, 'featfrac': 0.8612515185305633, 'lambda_l1': 0.00017618984315716325, 'lambda_l2': 5.918887449691666, 'minchild': 6}. Best is trial 496 with value: 3511896.0883319825.\u001b[0m\n"
     ]
    },
    {
     "name": "stdout",
     "output_type": "stream",
     "text": [
      "Early stopping, best iteration is:\n",
      "[198]\ttraining's l1: 316139\tvalid_1's l1: 3.70277e+06\n",
      "Training until validation scores don't improve for 5 rounds\n"
     ]
    },
    {
     "name": "stderr",
     "output_type": "stream",
     "text": [
      "\u001b[32m[I 2021-01-03 18:23:23,226]\u001b[0m Trial 998 finished with value: 3711111.9731306555 and parameters: {'nleaves': 45, 'bagfrac': 0.9234974531159372, 'bagfreq': 1, 'featfrac': 0.8908949175885941, 'lambda_l1': 7.10930957771808e-06, 'lambda_l2': 3.4657688078672937, 'minchild': 4}. Best is trial 496 with value: 3511896.0883319825.\u001b[0m\n"
     ]
    },
    {
     "name": "stdout",
     "output_type": "stream",
     "text": [
      "Early stopping, best iteration is:\n",
      "[214]\ttraining's l1: 576845\tvalid_1's l1: 3.71111e+06\n",
      "Training until validation scores don't improve for 5 rounds\n"
     ]
    },
    {
     "name": "stderr",
     "output_type": "stream",
     "text": [
      "\u001b[32m[I 2021-01-03 18:23:25,027]\u001b[0m Trial 999 finished with value: 3708991.883156082 and parameters: {'nleaves': 63, 'bagfrac': 0.9413426425284047, 'bagfreq': 2, 'featfrac': 0.8827255594560228, 'lambda_l1': 0.00028112686801626144, 'lambda_l2': 7.288936891502989, 'minchild': 1}. Best is trial 496 with value: 3511896.0883319825.\u001b[0m\n"
     ]
    },
    {
     "name": "stdout",
     "output_type": "stream",
     "text": [
      "Early stopping, best iteration is:\n",
      "[169]\ttraining's l1: 534229\tvalid_1's l1: 3.70899e+06\n"
     ]
    }
   ],
   "source": [
    "study_name = 'lgbm_study' \n",
    "study = optuna.create_study(direction=\"minimize\",load_if_exists = True,study_name=study_name, storage='sqlite:///lgbm_study.db')\n",
    "study.optimize(objective, n_trials=1000)"
   ]
  },
  {
   "cell_type": "code",
   "execution_count": 5,
   "metadata": {},
   "outputs": [],
   "source": [
    "fold0 = pd.read_csv('fold_0.csv')\n",
    "fold1 = pd.read_csv('fold_1.csv')\n",
    "fold2 = pd.read_csv('fold_2.csv')\n",
    "fold3 = pd.read_csv('fold_3.csv')\n",
    "fold4 = pd.read_csv('fold_4.csv')"
   ]
  },
  {
   "cell_type": "code",
   "execution_count": 13,
   "metadata": {},
   "outputs": [
    {
     "data": {
      "text/plain": [
       "Index(['segment_id', 'time_to_eruption'], dtype='object')"
      ]
     },
     "execution_count": 13,
     "metadata": {},
     "output_type": "execute_result"
    }
   ],
   "source": [
    "fold0.columns"
   ]
  },
  {
   "cell_type": "code",
   "execution_count": 12,
   "metadata": {},
   "outputs": [],
   "source": [
    "time_to_eruption = fold0.time_to_eruption + fold1.time_to_eruption + fold2.time_to_eruption + fold3.time_to_eruption + fold4.time_to_eruption\n",
    "time_to_eruption /= 5"
   ]
  },
  {
   "cell_type": "code",
   "execution_count": 14,
   "metadata": {},
   "outputs": [],
   "source": [
    "submission = pd.DataFrame({\n",
    "        \"segment_id\": fold0.segment_id,\n",
    "        \"time_to_eruption\": time_to_eruption\n",
    "    })\n",
    "\n",
    "submission.to_csv('fold_composite.csv', index=False)"
   ]
  },
  {
   "cell_type": "code",
   "execution_count": null,
   "metadata": {},
   "outputs": [],
   "source": []
  }
 ],
 "metadata": {
  "kernelspec": {
   "display_name": "Python 3",
   "language": "python",
   "name": "python3"
  },
  "language_info": {
   "codemirror_mode": {
    "name": "ipython",
    "version": 3
   },
   "file_extension": ".py",
   "mimetype": "text/x-python",
   "name": "python",
   "nbconvert_exporter": "python",
   "pygments_lexer": "ipython3",
   "version": "3.8.5"
  }
 },
 "nbformat": 4,
 "nbformat_minor": 4
}
