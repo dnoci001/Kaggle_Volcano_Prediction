{
 "cells": [
  {
   "cell_type": "code",
   "execution_count": null,
   "metadata": {
    "_cell_guid": "b1076dfc-b9ad-4769-8c92-a6c4dae69d19",
    "_uuid": "8f2839f25d086af736a60e9eeb907d3b93b6e0e5"
   },
   "outputs": [],
   "source": [
    "# This Python 3 environment comes with many helpful analytics libraries installed\n",
    "# It is defined by the kaggle/python Docker image: https://github.com/kaggle/docker-python\n",
    "# For example, here's several helpful packages to load\n",
    "\n",
    "import numpy as np # linear algebra\n",
    "import pandas as pd # data processing, CSV file I/O (e.g. pd.read_csv)\n",
    "\n",
    "from time import time\n",
    "from time import ctime\n",
    "\n",
    "import warnings\n",
    "warnings.filterwarnings(\"ignore\")\n",
    "from tqdm import tqdm_notebook\n",
    "from tqdm import tqdm\n",
    "\n",
    "import joblib\n",
    "from joblib import Parallel, delayed\n",
    "import multiprocessing\n",
    "num_cores = multiprocessing.cpu_count()-1\n",
    "\n",
    "from sklearn.metrics import mean_absolute_error\n",
    "from sklearn.metrics import r2_score\n",
    "from catboost import CatBoostRegressor, Pool\n",
    "from sklearn.model_selection import KFold\n",
    "import matplotlib.pyplot as plt\n",
    "import optuna\n",
    "# You can write up to 20GB to the current directory (/kaggle/working/) that gets preserved as output when you create a version using \"Save & Run All\" \n",
    "# You can also write temporary files to /kaggle/temp/, but they won't be saved outside of the current session"
   ]
  },
  {
   "cell_type": "code",
   "execution_count": null,
   "metadata": {
    "_cell_guid": "79c7e3d0-c299-4dcb-8224-4455121ee9b0",
    "_uuid": "d629ff2d2480ee46fbb7e2d37f6b5fab8052498a"
   },
   "outputs": [],
   "source": [
    "train = pd.read_csv('/home/dominique/Projects/predict_volcanic_eruptions/tfresh/train.csv', sep = ';')\n",
    "train.set_index('Unnamed: 0', inplace = True)\n",
    "test = pd.read_csv('/home/dominique/Projects/predict_volcanic_eruptions/tfresh/test.csv', sep = ';')\n",
    "test.set_index('Unnamed: 0', inplace = True)"
   ]
  },
  {
   "cell_type": "code",
   "execution_count": null,
   "metadata": {},
   "outputs": [],
   "source": [
    "train.fillna(0, inplace=True)\n",
    "test.fillna(0, inplace=True)"
   ]
  },
  {
   "cell_type": "code",
   "execution_count": null,
   "metadata": {},
   "outputs": [],
   "source": [
    "def objective(trial):\n",
    "\n",
    "    Y = train['time_to_eruption']\n",
    "    X = train.drop(['time_to_eruption'], axis = 1)\n",
    "    X_test = test\n",
    "\n",
    "    n_fold = 3\n",
    "    cv = KFold(n_splits=n_fold, shuffle=True, random_state=42)\n",
    "\n",
    "    oof = np.zeros(len(X))\n",
    "    cat_prediction = np.zeros(len(X_test))\n",
    "    mae, r2 = [], []\n",
    "\n",
    "    PARAMS = {\n",
    "                 'random_seed': 42,\n",
    "                 'eval_metric': 'MAE', #Also used as the eval metric for competition\n",
    "                 'iterations': 100,\n",
    "                 'eta': trial.suggest_float('eta',0.03,0.1),\n",
    "                 'subsample': trial.suggest_float('subsample',0.7,1.0),\n",
    "                 'l2_leaf_reg' : trial.suggest_float(\"lambda_l2\", 1e-3, 10.0, log=True),\n",
    "            }\n",
    "\n",
    "    for fold_n, (train_index, valid_index) in enumerate(cv.split(X)):\n",
    "\n",
    "        X_train = X.iloc[train_index,:]\n",
    "        X_valid = X.iloc[valid_index,:]\n",
    "\n",
    "        Y_train = Y.iloc[train_index]\n",
    "        Y_valid = Y.iloc[valid_index]\n",
    "\n",
    "        best_model = CatBoostRegressor(**PARAMS, thread_count = -1)  \n",
    "\n",
    "        train_dataset = Pool(data=X_train,\n",
    "                         label=Y_train,\n",
    "                         )\n",
    "\n",
    "        eval_dataset = Pool(data=X_valid,\n",
    "                        label=Y_valid,\n",
    "                        )\n",
    "\n",
    "        best_model.fit(train_dataset,\n",
    "                  use_best_model=True,\n",
    "                  verbose = False,\n",
    "                  eval_set=eval_dataset)\n",
    "\n",
    "\n",
    "        y_pred = best_model.predict(Pool(data=X_valid))\n",
    "\n",
    "        mae.append(mean_absolute_error(Y_valid, y_pred))\n",
    "        r2.append(r2_score(Y_valid, y_pred))\n",
    "\n",
    "        cat_prediction += best_model.predict(Pool(data=X_test))\n",
    "\n",
    "    cat_prediction /= n_fold\n",
    "\n",
    "    \n",
    "    submission = pd.DataFrame()\n",
    "    submission['segment_id'] = test.index\n",
    "    submission['time_to_eruption'] = cat_prediction\n",
    "    filename = 'submission' + str(trial.number) + '.csv'\n",
    "    submission.to_csv(filename, header=True, index=False)\n",
    "\n",
    "    return np.mean(mae)"
   ]
  },
  {
   "cell_type": "code",
   "execution_count": null,
   "metadata": {},
   "outputs": [],
   "source": [
    "study_name = 'catboost_study' \n",
    "study = optuna.create_study(direction=\"minimize\",load_if_exists = True,study_name=study_name, storage='sqlite:///catboost_study.db')\n",
    "study.optimize(objective, n_trials=1000)"
   ]
  }
 ],
 "metadata": {
  "kernelspec": {
   "display_name": "Python 3",
   "language": "python",
   "name": "python3"
  },
  "language_info": {
   "codemirror_mode": {
    "name": "ipython",
    "version": 3
   },
   "file_extension": ".py",
   "mimetype": "text/x-python",
   "name": "python",
   "nbconvert_exporter": "python",
   "pygments_lexer": "ipython3",
   "version": "3.8.5"
  }
 },
 "nbformat": 4,
 "nbformat_minor": 4
}
