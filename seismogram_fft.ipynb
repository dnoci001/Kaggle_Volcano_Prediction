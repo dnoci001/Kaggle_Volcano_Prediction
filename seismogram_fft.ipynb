{
 "cells": [
  {
   "cell_type": "code",
   "execution_count": null,
   "metadata": {},
   "outputs": [],
   "source": [
    "import re\n",
    "import sys\n",
    "import glob\n",
    "import math\n",
    "import numpy as np\n",
    "import pandas as pd\n",
    "import seaborn as sns\n",
    "from scipy.fftpack import fft\n",
    "import matplotlib.pyplot as plt\n",
    "from pandas.plotting import register_matplotlib_converters\n",
    "register_matplotlib_converters()\n",
    "sns.set_style('darkgrid')"
   ]
  },
  {
   "cell_type": "code",
   "execution_count": null,
   "metadata": {},
   "outputs": [],
   "source": [
    "train = pd.read_csv(\"train.csv\")\n",
    "train_frags = glob.glob(\"./train/*\")\n",
    "len(train_frags)\n",
    "\n",
    "for file in train_frags:\n",
    "    print('file',file)\n",
    "    start = './train/'\n",
    "    end = '.csv'\n",
    "    seg_id = file[file.find(start)+len(start):file.rfind(end)]\n",
    "    print('segment_id',seg_id)\n",
    "    t2e = int(train.loc[train['segment_id'] == int(seg_id)]['time_to_eruption'].values)\n",
    "    print('time to eruption',t2e)\n",
    "    \n",
    "    sequence = pd.read_csv(file, dtype=\"Int16\")\n",
    "    # drop missing sensors and fill missing data with 0\n",
    "    for sensor in sequence:\n",
    "        if sequence[sensor].isnull().sum() > 0.1*len(sequence[sensor]):\n",
    "            sequence = sequence.drop(columns=sensor)\n",
    "        else:\n",
    "            sequence[sensor] = sequence[sensor].fillna(0)\n",
    "            \n",
    "    yfft = list()\n",
    "    for sensor in sequence:\n",
    "        div = 2\n",
    "        N = len(sequence[sensor])\n",
    "        yf = fft(sequence[sensor])\n",
    "        yfft.append(2.0/N * np.abs(yf[0:N//div]))\n",
    "\n",
    "\n",
    "    fft_file = './train_fft/' + str(seg_id) + '.csv'\n",
    "    pd.DataFrame.from_dict(dict(zip(sequence.columns, yfft))).to_csv(fft_file, index=False)  "
   ]
  },
  {
   "cell_type": "code",
   "execution_count": null,
   "metadata": {},
   "outputs": [],
   "source": [
    "test_frags = glob.glob(\"./test/*\")\n",
    "len(train_frags)\n",
    "\n",
    "for file in test_frags:\n",
    "    print('file',file)\n",
    "    start = './test/'\n",
    "    end = '.csv'\n",
    "    seg_id = file[file.find(start)+len(start):file.rfind(end)]\n",
    "    print('segment_id',seg_id)\n",
    "\n",
    "    \n",
    "    sequence = pd.read_csv(file, dtype=\"Int16\")\n",
    "    # drop missing sensors and fill missing data with 0\n",
    "    for sensor in sequence:\n",
    "        if sequence[sensor].isnull().sum() > 0.1*len(sequence[sensor]):\n",
    "            sequence = sequence.drop(columns=sensor)\n",
    "        else:\n",
    "            sequence[sensor] = sequence[sensor].fillna(0)\n",
    "            \n",
    "    yfft = list()\n",
    "    for sensor in sequence:\n",
    "        div = 2\n",
    "        N = len(sequence[sensor])\n",
    "        yf = fft(sequence[sensor])\n",
    "        yfft.append(2.0/N * np.abs(yf[0:N//div]))\n",
    "\n",
    "\n",
    "    fft_file = './test_fft/' + str(seg_id) + '.csv'\n",
    "    pd.DataFrame.from_dict(dict(zip(sequence.columns, yfft))).to_csv(fft_file, index=False)  "
   ]
  }
 ],
 "metadata": {
  "kernelspec": {
   "display_name": "Python 3",
   "language": "python",
   "name": "python3"
  },
  "language_info": {
   "codemirror_mode": {
    "name": "ipython",
    "version": 3
   },
   "file_extension": ".py",
   "mimetype": "text/x-python",
   "name": "python",
   "nbconvert_exporter": "python",
   "pygments_lexer": "ipython3",
   "version": "3.8.5"
  }
 },
 "nbformat": 4,
 "nbformat_minor": 4
}
